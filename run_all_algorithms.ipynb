{
 "cells": [
  {
   "cell_type": "code",
   "execution_count": 1,
   "metadata": {
    "pycharm": {
     "is_executing": false,
     "name": "#%%\n"
    }
   },
   "outputs": [
    {
     "name": "stderr",
     "output_type": "stream",
     "text": [
      "[NbConvertApp] Converting notebook feature_selection/Univariante ROC_AUC/Qualitative deleted/Continuous deleted/Balancing_Oversamlping_SMOTE/Training Models not normalized -- CMD/DecisionTree.ipynb to notebook\n",
      "[NbConvertApp] Executing notebook with kernel: python3\n",
      "[NbConvertApp] Writing 14160 bytes to feature_selection/Univariante ROC_AUC/Qualitative deleted/Continuous deleted/Balancing_Oversamlping_SMOTE/Training Models not normalized -- CMD\\DecisionTree.ipynb\n",
      "[NbConvertApp] Converting notebook feature_selection/Univariante ROC_AUC/Qualitative deleted/Continuous deleted/Balancing_Undersampling_Tomeklinks/Training Models not normalized -- CMD/DecisionTree.ipynb to notebook\n",
      "[NbConvertApp] Executing notebook with kernel: python3\n",
      "[NbConvertApp] Writing 14319 bytes to feature_selection/Univariante ROC_AUC/Qualitative deleted/Continuous deleted/Balancing_Undersampling_Tomeklinks/Training Models not normalized -- CMD\\DecisionTree.ipynb\n",
      "[NbConvertApp] Converting notebook feature_selection/Univariante ROC_AUC/Qualitative deleted/Continuous to median/Balancing_Oversamlping_SMOTE/Training Models not normalized -- CMD/DecisionTree.ipynb to notebook\n",
      "[NbConvertApp] Executing notebook with kernel: python3\n",
      "[NbConvertApp] Writing 14157 bytes to feature_selection/Univariante ROC_AUC/Qualitative deleted/Continuous to median/Balancing_Oversamlping_SMOTE/Training Models not normalized -- CMD\\DecisionTree.ipynb\n",
      "[NbConvertApp] Converting notebook feature_selection/Univariante ROC_AUC/Qualitative deleted/Continuous to median/Balancing_Undersampling_Tomeklinks/Training Models not normalized -- CMD/DecisionTree.ipynb to notebook\n",
      "[NbConvertApp] Executing notebook with kernel: python3\n",
      "[NbConvertApp] Writing 13996 bytes to feature_selection/Univariante ROC_AUC/Qualitative deleted/Continuous to median/Balancing_Undersampling_Tomeklinks/Training Models not normalized -- CMD\\DecisionTree.ipynb\n",
      "[NbConvertApp] Converting notebook feature_selection/Univariante ROC_AUC/Qualitative to mode/Continuous deleted/Balancing_Oversamlping_SMOTE/Training Models not normalized -- CMD/DecisionTree.ipynb to notebook\n",
      "[NbConvertApp] Executing notebook with kernel: python3\n",
      "[NbConvertApp] Writing 14317 bytes to feature_selection/Univariante ROC_AUC/Qualitative to mode/Continuous deleted/Balancing_Oversamlping_SMOTE/Training Models not normalized -- CMD\\DecisionTree.ipynb\n",
      "[NbConvertApp] Converting notebook feature_selection/Univariante ROC_AUC/Qualitative to mode/Continuous deleted/Balancing_Undersampling_Tomeklinks/Training Models not normalized -- CMD/DecisionTree.ipynb to notebook\n",
      "[NbConvertApp] Executing notebook with kernel: python3\n",
      "[NbConvertApp] Writing 13996 bytes to feature_selection/Univariante ROC_AUC/Qualitative to mode/Continuous deleted/Balancing_Undersampling_Tomeklinks/Training Models not normalized -- CMD\\DecisionTree.ipynb\n",
      "[NbConvertApp] Converting notebook feature_selection/Univariante ROC_AUC/Qualitative to mode/Continuous to median/Balancing_Oversamlping_SMOTE/Training Models not normalized -- CMD/DecisionTree.ipynb to notebook\n",
      "[NbConvertApp] Executing notebook with kernel: python3\n",
      "[NbConvertApp] Writing 14320 bytes to feature_selection/Univariante ROC_AUC/Qualitative to mode/Continuous to median/Balancing_Oversamlping_SMOTE/Training Models not normalized -- CMD\\DecisionTree.ipynb\n",
      "[NbConvertApp] Converting notebook feature_selection/Univariante ROC_AUC/Qualitative to mode/Continuous to median/Balancing_Undersampling_Tomeklinks/Training Models not normalized -- CMD/DecisionTree.ipynb to notebook\n",
      "[NbConvertApp] Executing notebook with kernel: python3\n",
      "[NbConvertApp] Writing 14316 bytes to feature_selection/Univariante ROC_AUC/Qualitative to mode/Continuous to median/Balancing_Undersampling_Tomeklinks/Training Models not normalized -- CMD\\DecisionTree.ipynb\n",
      "[NbConvertApp] Converting notebook feature_selection/Correlation/Qualitative deleted/Continuous deleted/Balancing_Oversamlping_SMOTE/Training Models not normalized -- CMD/DecisionTree.ipynb to notebook\n",
      "[NbConvertApp] Executing notebook with kernel: python3\n",
      "[NbConvertApp] Writing 14160 bytes to feature_selection/Correlation/Qualitative deleted/Continuous deleted/Balancing_Oversamlping_SMOTE/Training Models not normalized -- CMD\\DecisionTree.ipynb\n",
      "[NbConvertApp] Converting notebook feature_selection/Correlation/Qualitative deleted/Continuous deleted/Balancing_Undersampling_Tomeklinks/Training Models not normalized -- CMD/DecisionTree.ipynb to notebook\n",
      "[NbConvertApp] Executing notebook with kernel: python3\n",
      "[NbConvertApp] Writing 14159 bytes to feature_selection/Correlation/Qualitative deleted/Continuous deleted/Balancing_Undersampling_Tomeklinks/Training Models not normalized -- CMD\\DecisionTree.ipynb\n",
      "[NbConvertApp] Converting notebook feature_selection/Correlation/Qualitative deleted/Continuous to median/Balancing_Oversamlping_SMOTE/Training Models not normalized -- CMD/DecisionTree.ipynb to notebook\n",
      "[NbConvertApp] Executing notebook with kernel: python3\n",
      "[NbConvertApp] Writing 14160 bytes to feature_selection/Correlation/Qualitative deleted/Continuous to median/Balancing_Oversamlping_SMOTE/Training Models not normalized -- CMD\\DecisionTree.ipynb\n",
      "[NbConvertApp] Converting notebook feature_selection/Correlation/Qualitative deleted/Continuous to median/Balancing_Undersampling_Tomeklinks/Training Models not normalized -- CMD/DecisionTree.ipynb to notebook\n",
      "[NbConvertApp] Executing notebook with kernel: python3\n",
      "[NbConvertApp] Writing 13999 bytes to feature_selection/Correlation/Qualitative deleted/Continuous to median/Balancing_Undersampling_Tomeklinks/Training Models not normalized -- CMD\\DecisionTree.ipynb\n",
      "[NbConvertApp] Converting notebook feature_selection/Correlation/Qualitative to mode/Continuous deleted/Balancing_Oversamlping_SMOTE/Training Models not normalized -- CMD/DecisionTree.ipynb to notebook\n",
      "[NbConvertApp] Executing notebook with kernel: python3\n",
      "[NbConvertApp] Writing 14160 bytes to feature_selection/Correlation/Qualitative to mode/Continuous deleted/Balancing_Oversamlping_SMOTE/Training Models not normalized -- CMD\\DecisionTree.ipynb\n",
      "[NbConvertApp] Converting notebook feature_selection/Correlation/Qualitative to mode/Continuous deleted/Balancing_Undersampling_Tomeklinks/Training Models not normalized -- CMD/DecisionTree.ipynb to notebook\n",
      "[NbConvertApp] Executing notebook with kernel: python3\n",
      "[NbConvertApp] Writing 14156 bytes to feature_selection/Correlation/Qualitative to mode/Continuous deleted/Balancing_Undersampling_Tomeklinks/Training Models not normalized -- CMD\\DecisionTree.ipynb\n",
      "[NbConvertApp] Converting notebook feature_selection/Correlation/Qualitative to mode/Continuous to median/Balancing_Oversamlping_SMOTE/Training Models not normalized -- CMD/DecisionTree.ipynb to notebook\n",
      "[NbConvertApp] Executing notebook with kernel: python3\n",
      "[NbConvertApp] Writing 14157 bytes to feature_selection/Correlation/Qualitative to mode/Continuous to median/Balancing_Oversamlping_SMOTE/Training Models not normalized -- CMD\\DecisionTree.ipynb\n",
      "[NbConvertApp] Converting notebook feature_selection/Correlation/Qualitative to mode/Continuous to median/Balancing_Undersampling_Tomeklinks/Training Models not normalized -- CMD/DecisionTree.ipynb to notebook\n",
      "[NbConvertApp] Executing notebook with kernel: python3\n",
      "[NbConvertApp] Writing 14156 bytes to feature_selection/Correlation/Qualitative to mode/Continuous to median/Balancing_Undersampling_Tomeklinks/Training Models not normalized -- CMD\\DecisionTree.ipynb\n"
     ]
    }
   ],
   "source": [
    "### Decision Tree\n",
    "!jupyter nbconvert --to notebook --inplace --ExecutePreprocessor.timeout=99999999 --execute feature_selection/\"Univariante ROC_AUC\"/\"Qualitative deleted\"/\"Continuous deleted\"/Balancing_Oversamlping_SMOTE/\"Training Models not normalized -- CMD\"/DecisionTree.ipynb\n",
    "!jupyter nbconvert --to notebook --inplace --ExecutePreprocessor.timeout=99999999 --execute feature_selection/\"Univariante ROC_AUC\"/\"Qualitative deleted\"/\"Continuous deleted\"/Balancing_Undersampling_Tomeklinks/\"Training Models not normalized -- CMD\"/DecisionTree.ipynb\n",
    "!jupyter nbconvert --to notebook --inplace --ExecutePreprocessor.timeout=99999999 --execute feature_selection/\"Univariante ROC_AUC\"/\"Qualitative deleted\"/\"Continuous to median\"/Balancing_Oversamlping_SMOTE/\"Training Models not normalized -- CMD\"/DecisionTree.ipynb\n",
    "!jupyter nbconvert --to notebook --inplace --ExecutePreprocessor.timeout=99999999 --execute feature_selection/\"Univariante ROC_AUC\"/\"Qualitative deleted\"/\"Continuous to median\"/Balancing_Undersampling_Tomeklinks/\"Training Models not normalized -- CMD\"/DecisionTree.ipynb\n",
    "!jupyter nbconvert --to notebook --inplace --ExecutePreprocessor.timeout=99999999 --execute feature_selection/\"Univariante ROC_AUC\"/\"Qualitative to mode\"/\"Continuous deleted\"/Balancing_Oversamlping_SMOTE/\"Training Models not normalized -- CMD\"/DecisionTree.ipynb\n",
    "!jupyter nbconvert --to notebook --inplace --ExecutePreprocessor.timeout=99999999 --execute feature_selection/\"Univariante ROC_AUC\"/\"Qualitative to mode\"/\"Continuous deleted\"/Balancing_Undersampling_Tomeklinks/\"Training Models not normalized -- CMD\"/DecisionTree.ipynb\n",
    "!jupyter nbconvert --to notebook --inplace --ExecutePreprocessor.timeout=99999999 --execute feature_selection/\"Univariante ROC_AUC\"/\"Qualitative to mode\"/\"Continuous to median\"/Balancing_Oversamlping_SMOTE/\"Training Models not normalized -- CMD\"/DecisionTree.ipynb\n",
    "!jupyter nbconvert --to notebook --inplace --ExecutePreprocessor.timeout=99999999 --execute feature_selection/\"Univariante ROC_AUC\"/\"Qualitative to mode\"/\"Continuous to median\"/Balancing_Undersampling_Tomeklinks/\"Training Models not normalized -- CMD\"/DecisionTree.ipynb\n",
    "\n",
    "!jupyter nbconvert --to notebook --inplace --ExecutePreprocessor.timeout=99999999 --execute feature_selection/\"Correlation\"/\"Qualitative deleted\"/\"Continuous deleted\"/Balancing_Oversamlping_SMOTE/\"Training Models not normalized -- CMD\"/DecisionTree.ipynb\n",
    "!jupyter nbconvert --to notebook --inplace --ExecutePreprocessor.timeout=99999999 --execute feature_selection/\"Correlation\"/\"Qualitative deleted\"/\"Continuous deleted\"/Balancing_Undersampling_Tomeklinks/\"Training Models not normalized -- CMD\"/DecisionTree.ipynb\n",
    "!jupyter nbconvert --to notebook --inplace --ExecutePreprocessor.timeout=99999999 --execute feature_selection/\"Correlation\"/\"Qualitative deleted\"/\"Continuous to median\"/Balancing_Oversamlping_SMOTE/\"Training Models not normalized -- CMD\"/DecisionTree.ipynb\n",
    "!jupyter nbconvert --to notebook --inplace --ExecutePreprocessor.timeout=99999999 --execute feature_selection/\"Correlation\"/\"Qualitative deleted\"/\"Continuous to median\"/Balancing_Undersampling_Tomeklinks/\"Training Models not normalized -- CMD\"/DecisionTree.ipynb\n",
    "!jupyter nbconvert --to notebook --inplace --ExecutePreprocessor.timeout=99999999 --execute feature_selection/\"Correlation\"/\"Qualitative to mode\"/\"Continuous deleted\"/Balancing_Oversamlping_SMOTE/\"Training Models not normalized -- CMD\"/DecisionTree.ipynb\n",
    "!jupyter nbconvert --to notebook --inplace --ExecutePreprocessor.timeout=99999999 --execute feature_selection/\"Correlation\"/\"Qualitative to mode\"/\"Continuous deleted\"/Balancing_Undersampling_Tomeklinks/\"Training Models not normalized -- CMD\"/DecisionTree.ipynb\n",
    "!jupyter nbconvert --to notebook --inplace --ExecutePreprocessor.timeout=99999999 --execute feature_selection/\"Correlation\"/\"Qualitative to mode\"/\"Continuous to median\"/Balancing_Oversamlping_SMOTE/\"Training Models not normalized -- CMD\"/DecisionTree.ipynb\n",
    "!jupyter nbconvert --to notebook --inplace --ExecutePreprocessor.timeout=99999999 --execute feature_selection/\"Correlation\"/\"Qualitative to mode\"/\"Continuous to median\"/Balancing_Undersampling_Tomeklinks/\"Training Models not normalized -- CMD\"/DecisionTree.ipynb\n",
    "\n"
   ]
  },
  {
   "cell_type": "markdown",
   "metadata": {
    "pycharm": {
     "name": "#%% md\n"
    }
   },
   "source": [
    "## GXBoost"
   ]
  },
  {
   "cell_type": "code",
   "execution_count": null,
   "outputs": [],
   "source": [
    "### Univariante ROC_AUC\n",
    "!jupyter nbconvert --to notebook --inplace --ExecutePreprocessor.timeout=99999999 --execute feature_selection/\"Univariante ROC_AUC\"/\"Qualitative deleted\"/\"Continuous deleted\"/Balancing_Oversamlping_SMOTE/\"Training Models not normalized -- CMD\"/XGBoost.ipynb\n",
    "!jupyter nbconvert --to notebook --inplace --ExecutePreprocessor.timeout=99999999 --execute feature_selection/\"Univariante ROC_AUC\"/\"Qualitative deleted\"/\"Continuous deleted\"/Balancing_Undersampling_Tomeklinks/\"Training Models not normalized -- CMD\"/XGBoost.ipynb\n",
    "!jupyter nbconvert --to notebook --inplace --ExecutePreprocessor.timeout=99999999 --execute feature_selection/\"Univariante ROC_AUC\"/\"Qualitative deleted\"/\"Continuous to median\"/Balancing_Oversamlping_SMOTE/\"Training Models not normalized -- CMD\"/XGBoost.ipynb\n",
    "!jupyter nbconvert --to notebook --inplace --ExecutePreprocessor.timeout=99999999 --execute feature_selection/\"Univariante ROC_AUC\"/\"Qualitative deleted\"/\"Continuous to median\"/Balancing_Undersampling_Tomeklinks/\"Training Models not normalized -- CMD\"/XGBoost.ipynb\n",
    "!jupyter nbconvert --to notebook --inplace --ExecutePreprocessor.timeout=99999999 --execute feature_selection/\"Univariante ROC_AUC\"/\"Qualitative to mode\"/\"Continuous deleted\"/Balancing_Oversamlping_SMOTE/\"Training Models not normalized -- CMD\"/XGBoost.ipynb\n",
    "!jupyter nbconvert --to notebook --inplace --ExecutePreprocessor.timeout=99999999 --execute feature_selection/\"Univariante ROC_AUC\"/\"Qualitative to mode\"/\"Continuous deleted\"/Balancing_Undersampling_Tomeklinks/\"Training Models not normalized -- CMD\"/XGBoost.ipynb\n",
    "!jupyter nbconvert --to notebook --inplace --ExecutePreprocessor.timeout=99999999 --execute feature_selection/\"Univariante ROC_AUC\"/\"Qualitative to mode\"/\"Continuous to median\"/Balancing_Oversamlping_SMOTE/\"Training Models not normalized -- CMD\"/XGBoost.ipynb\n",
    "!jupyter nbconvert --to notebook --inplace --ExecutePreprocessor.timeout=99999999 --execute feature_selection/\"Univariante ROC_AUC\"/\"Qualitative to mode\"/\"Continuous to median\"/Balancing_Undersampling_Tomeklinks/\"Training Models not normalized -- CMD\"/XGBoost.ipynb"
   ],
   "metadata": {
    "collapsed": false,
    "pycharm": {
     "name": "#%%\n"
    }
   }
  },
  {
   "cell_type": "code",
   "execution_count": null,
   "outputs": [],
   "source": [
    "### correlation\n",
    "!jupyter nbconvert --to notebook --inplace --ExecutePreprocessor.timeout=99999999 --execute feature_selection/\"Correlation\"/\"Qualitative deleted\"/\"Continuous deleted\"/Balancing_Oversamlping_SMOTE/\"Training Models not normalized -- CMD\"/XGBoost.ipynb\n",
    "!jupyter nbconvert --to notebook --inplace --ExecutePreprocessor.timeout=99999999 --execute feature_selection/\"Correlation\"/\"Qualitative deleted\"/\"Continuous deleted\"/Balancing_Undersampling_Tomeklinks/\"Training Models not normalized -- CMD\"/XGBoost.ipynb\n",
    "!jupyter nbconvert --to notebook --inplace --ExecutePreprocessor.timeout=99999999 --execute feature_selection/\"Correlation\"/\"Qualitative deleted\"/\"Continuous to median\"/Balancing_Oversamlping_SMOTE/\"Training Models not normalized -- CMD\"/XGBoost.ipynb\n",
    "!jupyter nbconvert --to notebook --inplace --ExecutePreprocessor.timeout=99999999 --execute feature_selection/\"Correlation\"/\"Qualitative deleted\"/\"Continuous to median\"/Balancing_Undersampling_Tomeklinks/\"Training Models not normalized -- CMD\"/XGBoost.ipynb\n",
    "!jupyter nbconvert --to notebook --inplace --ExecutePreprocessor.timeout=99999999 --execute feature_selection/\"Correlation\"/\"Qualitative to mode\"/\"Continuous deleted\"/Balancing_Oversamlping_SMOTE/\"Training Models not normalized -- CMD\"/XGBoost.ipynb\n",
    "!jupyter nbconvert --to notebook --inplace --ExecutePreprocessor.timeout=99999999 --execute feature_selection/\"Correlation\"/\"Qualitative to mode\"/\"Continuous deleted\"/Balancing_Undersampling_Tomeklinks/\"Training Models not normalized -- CMD\"/XGBoost.ipynb\n",
    "!jupyter nbconvert --to notebook --inplace --ExecutePreprocessor.timeout=99999999 --execute feature_selection/\"Correlation\"/\"Qualitative to mode\"/\"Continuous to median\"/Balancing_Oversamlping_SMOTE/\"Training Models not normalized -- CMD\"/XGBoost.ipynb\n",
    "!jupyter nbconvert --to notebook --inplace --ExecutePreprocessor.timeout=99999999 --execute feature_selection/\"Correlation\"/\"Qualitative to mode\"/\"Continuous to median\"/Balancing_Undersampling_Tomeklinks/\"Training Models not normalized -- CMD\"/XGBoost.ipynb\n"
   ],
   "metadata": {
    "collapsed": false,
    "pycharm": {
     "name": "#%%\n"
    }
   }
  },
  {
   "cell_type": "markdown",
   "source": [
    "## KNN"
   ],
   "metadata": {
    "collapsed": false,
    "pycharm": {
     "name": "#%% md\n"
    }
   }
  },
  {
   "cell_type": "markdown",
   "source": [
    "#### Z score"
   ],
   "metadata": {
    "collapsed": false,
    "pycharm": {
     "name": "#%% md\n"
    }
   }
  },
  {
   "cell_type": "code",
   "execution_count": null,
   "outputs": [],
   "source": [
    "### Univariante ROC_AUC\n",
    "!jupyter nbconvert --to notebook --inplace --ExecutePreprocessor.timeout=99999999 --execute feature_selection/\"Univariante ROC_AUC\"/\"Qualitative deleted\"/\"Continuous deleted\"/Balancing_Oversamlping_SMOTE/\"Z normalised\"/\"Training Models -- CMD\"/KNN.ipynb\n",
    "!jupyter nbconvert --to notebook --inplace --ExecutePreprocessor.timeout=99999999 --execute feature_selection/\"Univariante ROC_AUC\"/\"Qualitative deleted\"/\"Continuous deleted\"/Balancing_Undersampling_Tomeklinks/\"Z normalised\"/\"Training Models -- CMD\"/KNN.ipynb\n",
    "!jupyter nbconvert --to notebook --inplace --ExecutePreprocessor.timeout=99999999 --execute feature_selection/\"Univariante ROC_AUC\"/\"Qualitative deleted\"/\"Continuous to median\"/Balancing_Oversamlping_SMOTE/\"Z normalised\"/\"Training Models -- CMD\"/KNN.ipynb\n",
    "!jupyter nbconvert --to notebook --inplace --ExecutePreprocessor.timeout=99999999 --execute feature_selection/\"Univariante ROC_AUC\"/\"Qualitative deleted\"/\"Continuous to median\"/Balancing_Undersampling_Tomeklinks/\"Z normalised\"/\"Training Models -- CMD\"/KNN.ipynb\n",
    "!jupyter nbconvert --to notebook --inplace --ExecutePreprocessor.timeout=99999999 --execute feature_selection/\"Univariante ROC_AUC\"/\"Qualitative to mode\"/\"Continuous deleted\"/Balancing_Oversamlping_SMOTE/\"Z normalised\"/\"Training Models -- CMD\"/KNN.ipynb\n",
    "!jupyter nbconvert --to notebook --inplace --ExecutePreprocessor.timeout=99999999 --execute feature_selection/\"Univariante ROC_AUC\"/\"Qualitative to mode\"/\"Continuous deleted\"/Balancing_Undersampling_Tomeklinks/\"Z normalised\"/\"Training Models -- CMD\"/KNN.ipynb\n",
    "!jupyter nbconvert --to notebook --inplace --ExecutePreprocessor.timeout=99999999 --execute feature_selection/\"Univariante ROC_AUC\"/\"Qualitative to mode\"/\"Continuous to median\"/Balancing_Oversamlping_SMOTE/\"Z normalised\"/\"Training Models -- CMD\"/KNN.ipynb\n",
    "!jupyter nbconvert --to notebook --inplace --ExecutePreprocessor.timeout=99999999 --execute feature_selection/\"Univariante ROC_AUC\"/\"Qualitative to mode\"/\"Continuous to median\"/Balancing_Undersampling_Tomeklinks/\"Z normalised\"/\"Training Models -- CMD\"/KNN.ipynb"
   ],
   "metadata": {
    "collapsed": false,
    "pycharm": {
     "name": "#%%\n"
    }
   }
  },
  {
   "cell_type": "code",
   "execution_count": null,
   "outputs": [],
   "source": [
    "### Correlation\n",
    "!jupyter nbconvert --to notebook --inplace --ExecutePreprocessor.timeout=99999999 --execute feature_selection/\"Correlation\"/\"Qualitative deleted\"/\"Continuous deleted\"/Balancing_Oversamlping_SMOTE/\"Z normalised\"/\"Training Models -- CMD\"/KNN.ipynb\n",
    "!jupyter nbconvert --to notebook --inplace --ExecutePreprocessor.timeout=99999999 --execute feature_selection/\"Correlation\"/\"Qualitative deleted\"/\"Continuous deleted\"/Balancing_Undersampling_Tomeklinks/\"Z normalised\"/\"Training Models -- CMD\"/KNN.ipynb\n",
    "!jupyter nbconvert --to notebook --inplace --ExecutePreprocessor.timeout=99999999 --execute feature_selection/\"Correlation\"/\"Qualitative deleted\"/\"Continuous to median\"/Balancing_Oversamlping_SMOTE/\"Z normalised\"/\"Training Models -- CMD\"/KNN.ipynb\n",
    "!jupyter nbconvert --to notebook --inplace --ExecutePreprocessor.timeout=99999999 --execute feature_selection/\"Correlation\"/\"Qualitative deleted\"/\"Continuous to median\"/Balancing_Undersampling_Tomeklinks/\"Z normalised\"/\"Training Models -- CMD\"/KNN.ipynb\n",
    "!jupyter nbconvert --to notebook --inplace --ExecutePreprocessor.timeout=99999999 --execute feature_selection/\"Correlation\"/\"Qualitative to mode\"/\"Continuous deleted\"/Balancing_Oversamlping_SMOTE/\"Z normalised\"/\"Training Models -- CMD\"/KNN.ipynb\n",
    "!jupyter nbconvert --to notebook --inplace --ExecutePreprocessor.timeout=99999999 --execute feature_selection/\"Correlation\"/\"Qualitative to mode\"/\"Continuous deleted\"/Balancing_Undersampling_Tomeklinks/\"Z normalised\"/\"Training Models -- CMD\"/KNN.ipynb\n",
    "!jupyter nbconvert --to notebook --inplace --ExecutePreprocessor.timeout=99999999 --execute feature_selection/\"Correlation\"/\"Qualitative to mode\"/\"Continuous to median\"/Balancing_Oversamlping_SMOTE/\"Z normalised\"/\"Training Models -- CMD\"/KNN.ipynb\n",
    "!jupyter nbconvert --to notebook --inplace --ExecutePreprocessor.timeout=99999999 --execute feature_selection/\"Correlation\"/\"Qualitative to mode\"/\"Continuous to median\"/Balancing_Undersampling_Tomeklinks/\"Z normalised\"/\"Training Models -- CMD\"/KNN.ipynb\n"
   ],
   "metadata": {
    "collapsed": false,
    "pycharm": {
     "name": "#%%\n"
    }
   }
  },
  {
   "cell_type": "markdown",
   "source": [
    "#### MinMax"
   ],
   "metadata": {
    "collapsed": false
   }
  },
  {
   "cell_type": "code",
   "execution_count": null,
   "outputs": [],
   "source": [
    "### Univariante ROC_AUC\n",
    "!jupyter nbconvert --to notebook --inplace --ExecutePreprocessor.timeout=99999999 --execute feature_selection/\"Univariante ROC_AUC\"/\"Qualitative deleted\"/\"Continuous deleted\"/Balancing_Oversamlping_SMOTE/\"MinMax normalised\"/\"Training Models -- CMD\"/KNN.ipynb\n",
    "!jupyter nbconvert --to notebook --inplace --ExecutePreprocessor.timeout=99999999 --execute feature_selection/\"Univariante ROC_AUC\"/\"Qualitative deleted\"/\"Continuous deleted\"/Balancing_Undersampling_Tomeklinks/\"MinMax normalised\"/\"Training Models -- CMD\"/KNN.ipynb\n",
    "!jupyter nbconvert --to notebook --inplace --ExecutePreprocessor.timeout=99999999 --execute feature_selection/\"Univariante ROC_AUC\"/\"Qualitative deleted\"/\"Continuous to median\"/Balancing_Oversamlping_SMOTE/\"MinMax normalised\"/\"Training Models -- CMD\"/KNN.ipynb\n",
    "!jupyter nbconvert --to notebook --inplace --ExecutePreprocessor.timeout=99999999 --execute feature_selection/\"Univariante ROC_AUC\"/\"Qualitative deleted\"/\"Continuous to median\"/Balancing_Undersampling_Tomeklinks/\"MinMax normalised\"/\"Training Models -- CMD\"/KNN.ipynb\n",
    "!jupyter nbconvert --to notebook --inplace --ExecutePreprocessor.timeout=99999999 --execute feature_selection/\"Univariante ROC_AUC\"/\"Qualitative to mode\"/\"Continuous deleted\"/Balancing_Oversamlping_SMOTE/\"MinMax normalised\"/\"Training Models -- CMD\"/KNN.ipynb\n",
    "!jupyter nbconvert --to notebook --inplace --ExecutePreprocessor.timeout=99999999 --execute feature_selection/\"Univariante ROC_AUC\"/\"Qualitative to mode\"/\"Continuous deleted\"/Balancing_Undersampling_Tomeklinks/\"MinMax normalised\"/\"Training Models -- CMD\"/KNN.ipynb\n",
    "!jupyter nbconvert --to notebook --inplace --ExecutePreprocessor.timeout=99999999 --execute feature_selection/\"Univariante ROC_AUC\"/\"Qualitative to mode\"/\"Continuous to median\"/Balancing_Oversamlping_SMOTE/\"MinMax normalised\"/\"Training Models -- CMD\"/KNN.ipynb\n",
    "!jupyter nbconvert --to notebook --inplace --ExecutePreprocessor.timeout=99999999 --execute feature_selection/\"Univariante ROC_AUC\"/\"Qualitative to mode\"/\"Continuous to median\"/Balancing_Undersampling_Tomeklinks/\"MinMax normalised\"/\"Training Models -- CMD\"/KNN.ipynb"
   ],
   "metadata": {
    "collapsed": false,
    "pycharm": {
     "name": "#%%\n"
    }
   }
  },
  {
   "cell_type": "code",
   "execution_count": null,
   "outputs": [],
   "source": [
    "### Correlation\n",
    "!jupyter nbconvert --to notebook --inplace --ExecutePreprocessor.timeout=99999999 --execute feature_selection/\"Correlation\"/\"Qualitative deleted\"/\"Continuous deleted\"/Balancing_Oversamlping_SMOTE/\"MinMax normalised\"/\"Training Models -- CMD\"/KNN.ipynb\n",
    "!jupyter nbconvert --to notebook --inplace --ExecutePreprocessor.timeout=99999999 --execute feature_selection/\"Correlation\"/\"Qualitative deleted\"/\"Continuous deleted\"/Balancing_Undersampling_Tomeklinks/\"MinMax normalised\"/\"Training Models -- CMD\"/KNN.ipynb\n",
    "!jupyter nbconvert --to notebook --inplace --ExecutePreprocessor.timeout=99999999 --execute feature_selection/\"Correlation\"/\"Qualitative deleted\"/\"Continuous to median\"/Balancing_Oversamlping_SMOTE/\"MinMax normalised\"/\"Training Models -- CMD\"/KNN.ipynb\n",
    "!jupyter nbconvert --to notebook --inplace --ExecutePreprocessor.timeout=99999999 --execute feature_selection/\"Correlation\"/\"Qualitative deleted\"/\"Continuous to median\"/Balancing_Undersampling_Tomeklinks/\"MinMax normalised\"/\"Training Models -- CMD\"/KNN.ipynb\n",
    "!jupyter nbconvert --to notebook --inplace --ExecutePreprocessor.timeout=99999999 --execute feature_selection/\"Correlation\"/\"Qualitative to mode\"/\"Continuous deleted\"/Balancing_Oversamlping_SMOTE/\"MinMax normalised\"/\"Training Models -- CMD\"/KNN.ipynb\n",
    "!jupyter nbconvert --to notebook --inplace --ExecutePreprocessor.timeout=99999999 --execute feature_selection/\"Correlation\"/\"Qualitative to mode\"/\"Continuous deleted\"/Balancing_Undersampling_Tomeklinks/\"MinMax normalised\"/\"Training Models -- CMD\"/KNN.ipynb\n",
    "!jupyter nbconvert --to notebook --inplace --ExecutePreprocessor.timeout=99999999 --execute feature_selection/\"Correlation\"/\"Qualitative to mode\"/\"Continuous to median\"/Balancing_Oversamlping_SMOTE/\"MinMax normalised\"/\"Training Models -- CMD\"/KNN.ipynb\n",
    "!jupyter nbconvert --to notebook --inplace --ExecutePreprocessor.timeout=99999999 --execute feature_selection/\"Correlation\"/\"Qualitative to mode\"/\"Continuous to median\"/Balancing_Undersampling_Tomeklinks/\"MinMax normalised\"/\"Training Models -- CMD\"/KNN.ipynb"
   ],
   "metadata": {
    "collapsed": false,
    "pycharm": {
     "name": "#%%\n"
    }
   }
  },
  {
   "cell_type": "markdown",
   "source": [
    "#### Logistic"
   ],
   "metadata": {
    "collapsed": false,
    "pycharm": {
     "name": "#%% md\n"
    }
   }
  },
  {
   "cell_type": "code",
   "execution_count": null,
   "outputs": [],
   "source": [
    "### Univariante ROC_AUC\n",
    "!jupyter nbconvert --to notebook --inplace --ExecutePreprocessor.timeout=99999999 --execute feature_selection/\"Univariante ROC_AUC\"/\"Qualitative deleted\"/\"Continuous deleted\"/Balancing_Oversamlping_SMOTE/\"Logistic normalised\"/\"Training Models -- CMD\"/KNN.ipynb\n",
    "!jupyter nbconvert --to notebook --inplace --ExecutePreprocessor.timeout=99999999 --execute feature_selection/\"Univariante ROC_AUC\"/\"Qualitative deleted\"/\"Continuous deleted\"/Balancing_Undersampling_Tomeklinks/\"Logistic normalised\"/\"Training Models -- CMD\"/KNN.ipynb\n",
    "!jupyter nbconvert --to notebook --inplace --ExecutePreprocessor.timeout=99999999 --execute feature_selection/\"Univariante ROC_AUC\"/\"Qualitative deleted\"/\"Continuous to median\"/Balancing_Oversamlping_SMOTE/\"Logistic normalised\"/\"Training Models -- CMD\"/KNN.ipynb\n",
    "!jupyter nbconvert --to notebook --inplace --ExecutePreprocessor.timeout=99999999 --execute feature_selection/\"Univariante ROC_AUC\"/\"Qualitative deleted\"/\"Continuous to median\"/Balancing_Undersampling_Tomeklinks/\"Logistic normalised\"/\"Training Models -- CMD\"/KNN.ipynb\n",
    "!jupyter nbconvert --to notebook --inplace --ExecutePreprocessor.timeout=99999999 --execute feature_selection/\"Univariante ROC_AUC\"/\"Qualitative to mode\"/\"Continuous deleted\"/Balancing_Oversamlping_SMOTE/\"Logistic normalised\"/\"Training Models -- CMD\"/KNN.ipynb\n",
    "!jupyter nbconvert --to notebook --inplace --ExecutePreprocessor.timeout=99999999 --execute feature_selection/\"Univariante ROC_AUC\"/\"Qualitative to mode\"/\"Continuous deleted\"/Balancing_Undersampling_Tomeklinks/\"Logistic normalised\"/\"Training Models -- CMD\"/KNN.ipynb\n",
    "!jupyter nbconvert --to notebook --inplace --ExecutePreprocessor.timeout=99999999 --execute feature_selection/\"Univariante ROC_AUC\"/\"Qualitative to mode\"/\"Continuous to median\"/Balancing_Oversamlping_SMOTE/\"Logistic normalised\"/\"Training Models -- CMD\"/KNN.ipynb\n",
    "!jupyter nbconvert --to notebook --inplace --ExecutePreprocessor.timeout=99999999 --execute feature_selection/\"Univariante ROC_AUC\"/\"Qualitative to mode\"/\"Continuous to median\"/Balancing_Undersampling_Tomeklinks/\"Logistic normalised\"/\"Training Models -- CMD\"/KNN.ipynb"
   ],
   "metadata": {
    "collapsed": false,
    "pycharm": {
     "name": "#%%\n"
    }
   }
  },
  {
   "cell_type": "code",
   "execution_count": null,
   "outputs": [],
   "source": [
    "### Correlation\n",
    "!jupyter nbconvert --to notebook --inplace --ExecutePreprocessor.timeout=99999999 --execute feature_selection/\"Correlation\"/\"Qualitative deleted\"/\"Continuous deleted\"/Balancing_Oversamlping_SMOTE/\"Logistic normalised\"/\"Training Models -- CMD\"/KNN.ipynb\n",
    "!jupyter nbconvert --to notebook --inplace --ExecutePreprocessor.timeout=99999999 --execute feature_selection/\"Correlation\"/\"Qualitative deleted\"/\"Continuous deleted\"/Balancing_Undersampling_Tomeklinks/\"Logistic normalised\"/\"Training Models -- CMD\"/KNN.ipynb\n",
    "!jupyter nbconvert --to notebook --inplace --ExecutePreprocessor.timeout=99999999 --execute feature_selection/\"Correlation\"/\"Qualitative deleted\"/\"Continuous to median\"/Balancing_Oversamlping_SMOTE/\"Logistic normalised\"/\"Training Models -- CMD\"/KNN.ipynb\n",
    "!jupyter nbconvert --to notebook --inplace --ExecutePreprocessor.timeout=99999999 --execute feature_selection/\"Correlation\"/\"Qualitative deleted\"/\"Continuous to median\"/Balancing_Undersampling_Tomeklinks/\"Logistic normalised\"/\"Training Models -- CMD\"/KNN.ipynb\n",
    "!jupyter nbconvert --to notebook --inplace --ExecutePreprocessor.timeout=99999999 --execute feature_selection/\"Correlation\"/\"Qualitative to mode\"/\"Continuous deleted\"/Balancing_Oversamlping_SMOTE/\"Logistic normalised\"/\"Training Models -- CMD\"/KNN.ipynb\n",
    "!jupyter nbconvert --to notebook --inplace --ExecutePreprocessor.timeout=99999999 --execute feature_selection/\"Correlation\"/\"Qualitative to mode\"/\"Continuous deleted\"/Balancing_Undersampling_Tomeklinks/\"Logistic normalised\"/\"Training Models -- CMD\"/KNN.ipynb\n",
    "!jupyter nbconvert --to notebook --inplace --ExecutePreprocessor.timeout=99999999 --execute feature_selection/\"Correlation\"/\"Qualitative to mode\"/\"Continuous to median\"/Balancing_Oversamlping_SMOTE/\"Logistic normalised\"/\"Training Models -- CMD\"/KNN.ipynb\n",
    "!jupyter nbconvert --to notebook --inplace --ExecutePreprocessor.timeout=99999999 --execute feature_selection/\"Correlation\"/\"Qualitative to mode\"/\"Continuous to median\"/Balancing_Undersampling_Tomeklinks/\"Logistic normalised\"/\"Training Models -- CMD\"/KNN.ipynb"
   ],
   "metadata": {
    "collapsed": false,
    "pycharm": {
     "name": "#%%\n"
    }
   }
  },
  {
   "cell_type": "markdown",
   "source": [
    "## Neural Network"
   ],
   "metadata": {
    "collapsed": false,
    "pycharm": {
     "name": "#%% md\n"
    }
   }
  },
  {
   "cell_type": "markdown",
   "source": [
    "#### Z score"
   ],
   "metadata": {
    "collapsed": false
   }
  },
  {
   "cell_type": "code",
   "execution_count": null,
   "outputs": [],
   "source": [
    "### Univariante ROC_AUC\n",
    "!jupyter nbconvert --to notebook --inplace --ExecutePreprocessor.timeout=99999999 --execute feature_selection/\"Univariante ROC_AUC\"/\"Qualitative deleted\"/\"Continuous deleted\"/Balancing_Oversamlping_SMOTE/\"Z normalised\"/\"Training Models -- CMD\"/ANN.ipynb\n",
    "!jupyter nbconvert --to notebook --inplace --ExecutePreprocessor.timeout=99999999 --execute feature_selection/\"Univariante ROC_AUC\"/\"Qualitative deleted\"/\"Continuous deleted\"/Balancing_Undersampling_Tomeklinks/\"Z normalised\"/\"Training Models -- CMD\"/ANN.ipynb\n",
    "!jupyter nbconvert --to notebook --inplace --ExecutePreprocessor.timeout=99999999 --execute feature_selection/\"Univariante ROC_AUC\"/\"Qualitative deleted\"/\"Continuous to median\"/Balancing_Oversamlping_SMOTE/\"Z normalised\"/\"Training Models -- CMD\"/ANN.ipynb\n",
    "!jupyter nbconvert --to notebook --inplace --ExecutePreprocessor.timeout=99999999 --execute feature_selection/\"Univariante ROC_AUC\"/\"Qualitative deleted\"/\"Continuous to median\"/Balancing_Undersampling_Tomeklinks/\"Z normalised\"/\"Training Models -- CMD\"/ANN.ipynb\n",
    "!jupyter nbconvert --to notebook --inplace --ExecutePreprocessor.timeout=99999999 --execute feature_selection/\"Univariante ROC_AUC\"/\"Qualitative to mode\"/\"Continuous deleted\"/Balancing_Oversamlping_SMOTE/\"Z normalised\"/\"Training Models -- CMD\"/ANN.ipynb\n",
    "!jupyter nbconvert --to notebook --inplace --ExecutePreprocessor.timeout=99999999 --execute feature_selection/\"Univariante ROC_AUC\"/\"Qualitative to mode\"/\"Continuous deleted\"/Balancing_Undersampling_Tomeklinks/\"Z normalised\"/\"Training Models -- CMD\"/ANN.ipynb\n",
    "!jupyter nbconvert --to notebook --inplace --ExecutePreprocessor.timeout=99999999 --execute feature_selection/\"Univariante ROC_AUC\"/\"Qualitative to mode\"/\"Continuous to median\"/Balancing_Oversamlping_SMOTE/\"Z normalised\"/\"Training Models -- CMD\"/ANN.ipynb\n",
    "!jupyter nbconvert --to notebook --inplace --ExecutePreprocessor.timeout=99999999 --execute feature_selection/\"Univariante ROC_AUC\"/\"Qualitative to mode\"/\"Continuous to median\"/Balancing_Undersampling_Tomeklinks/\"Z normalised\"/\"Training Models -- CMD\"/ANN.ipynb"
   ],
   "metadata": {
    "collapsed": false,
    "pycharm": {
     "name": "#%%\n"
    }
   }
  },
  {
   "cell_type": "code",
   "execution_count": null,
   "outputs": [],
   "source": [
    "### Correlation\n",
    "!jupyter nbconvert --to notebook --inplace --ExecutePreprocessor.timeout=99999999 --execute feature_selection/\"Correlation\"/\"Qualitative deleted\"/\"Continuous deleted\"/Balancing_Oversamlping_SMOTE/\"Z normalised\"/\"Training Models -- CMD\"/ANN.ipynb\n",
    "!jupyter nbconvert --to notebook --inplace --ExecutePreprocessor.timeout=99999999 --execute feature_selection/\"Correlation\"/\"Qualitative deleted\"/\"Continuous deleted\"/Balancing_Undersampling_Tomeklinks/\"Z normalised\"/\"Training Models -- CMD\"/ANN.ipynb\n",
    "!jupyter nbconvert --to notebook --inplace --ExecutePreprocessor.timeout=99999999 --execute feature_selection/\"Correlation\"/\"Qualitative deleted\"/\"Continuous to median\"/Balancing_Oversamlping_SMOTE/\"Z normalised\"/\"Training Models -- CMD\"/ANN.ipynb\n",
    "!jupyter nbconvert --to notebook --inplace --ExecutePreprocessor.timeout=99999999 --execute feature_selection/\"Correlation\"/\"Qualitative deleted\"/\"Continuous to median\"/Balancing_Undersampling_Tomeklinks/\"Z normalised\"/\"Training Models -- CMD\"/ANN.ipynb\n",
    "!jupyter nbconvert --to notebook --inplace --ExecutePreprocessor.timeout=99999999 --execute feature_selection/\"Correlation\"/\"Qualitative to mode\"/\"Continuous deleted\"/Balancing_Oversamlping_SMOTE/\"Z normalised\"/\"Training Models -- CMD\"/ANN.ipynb\n",
    "!jupyter nbconvert --to notebook --inplace --ExecutePreprocessor.timeout=99999999 --execute feature_selection/\"Correlation\"/\"Qualitative to mode\"/\"Continuous deleted\"/Balancing_Undersampling_Tomeklinks/\"Z normalised\"/\"Training Models -- CMD\"/ANN.ipynb\n",
    "!jupyter nbconvert --to notebook --inplace --ExecutePreprocessor.timeout=99999999 --execute feature_selection/\"Correlation\"/\"Qualitative to mode\"/\"Continuous to median\"/Balancing_Oversamlping_SMOTE/\"Z normalised\"/\"Training Models -- CMD\"/ANN.ipynb\n",
    "!jupyter nbconvert --to notebook --inplace --ExecutePreprocessor.timeout=99999999 --execute feature_selection/\"Correlation\"/\"Qualitative to mode\"/\"Continuous to median\"/Balancing_Undersampling_Tomeklinks/\"Z normalised\"/\"Training Models -- CMD\"/ANN.ipynb\n"
   ],
   "metadata": {
    "collapsed": false,
    "pycharm": {
     "name": "#%%\n"
    }
   }
  },
  {
   "cell_type": "markdown",
   "source": [
    "#### MinMax"
   ],
   "metadata": {
    "collapsed": false,
    "pycharm": {
     "name": "#%% md\n"
    }
   }
  },
  {
   "cell_type": "code",
   "execution_count": null,
   "outputs": [],
   "source": [
    "### Univariante ROC_AUC\n",
    "!jupyter nbconvert --to notebook --inplace --ExecutePreprocessor.timeout=99999999 --execute feature_selection/\"Univariante ROC_AUC\"/\"Qualitative deleted\"/\"Continuous deleted\"/Balancing_Oversamlping_SMOTE/\"MinMax normalised\"/\"Training Models -- CMD\"/ANN.ipynb\n",
    "!jupyter nbconvert --to notebook --inplace --ExecutePreprocessor.timeout=99999999 --execute feature_selection/\"Univariante ROC_AUC\"/\"Qualitative deleted\"/\"Continuous deleted\"/Balancing_Undersampling_Tomeklinks/\"MinMax normalised\"/\"Training Models -- CMD\"/ANN.ipynb\n",
    "!jupyter nbconvert --to notebook --inplace --ExecutePreprocessor.timeout=99999999 --execute feature_selection/\"Univariante ROC_AUC\"/\"Qualitative deleted\"/\"Continuous to median\"/Balancing_Oversamlping_SMOTE/\"MinMax normalised\"/\"Training Models -- CMD\"/ANN.ipynb\n",
    "!jupyter nbconvert --to notebook --inplace --ExecutePreprocessor.timeout=99999999 --execute feature_selection/\"Univariante ROC_AUC\"/\"Qualitative deleted\"/\"Continuous to median\"/Balancing_Undersampling_Tomeklinks/\"MinMax normalised\"/\"Training Models -- CMD\"/ANN.ipynb\n",
    "!jupyter nbconvert --to notebook --inplace --ExecutePreprocessor.timeout=99999999 --execute feature_selection/\"Univariante ROC_AUC\"/\"Qualitative to mode\"/\"Continuous deleted\"/Balancing_Oversamlping_SMOTE/\"MinMax normalised\"/\"Training Models -- CMD\"/ANN.ipynb\n",
    "!jupyter nbconvert --to notebook --inplace --ExecutePreprocessor.timeout=99999999 --execute feature_selection/\"Univariante ROC_AUC\"/\"Qualitative to mode\"/\"Continuous deleted\"/Balancing_Undersampling_Tomeklinks/\"MinMax normalised\"/\"Training Models -- CMD\"/ANN.ipynb\n",
    "!jupyter nbconvert --to notebook --inplace --ExecutePreprocessor.timeout=99999999 --execute feature_selection/\"Univariante ROC_AUC\"/\"Qualitative to mode\"/\"Continuous to median\"/Balancing_Oversamlping_SMOTE/\"MinMax normalised\"/\"Training Models -- CMD\"/ANN.ipynb\n",
    "!jupyter nbconvert --to notebook --inplace --ExecutePreprocessor.timeout=99999999 --execute feature_selection/\"Univariante ROC_AUC\"/\"Qualitative to mode\"/\"Continuous to median\"/Balancing_Undersampling_Tomeklinks/\"MinMax normalised\"/\"Training Models -- CMD\"/ANN.ipynb"
   ],
   "metadata": {
    "collapsed": false,
    "pycharm": {
     "name": "#%%\n"
    }
   }
  },
  {
   "cell_type": "code",
   "execution_count": null,
   "outputs": [],
   "source": [
    "### Correlation\n",
    "!jupyter nbconvert --to notebook --inplace --ExecutePreprocessor.timeout=99999999 --execute feature_selection/\"Correlation\"/\"Qualitative deleted\"/\"Continuous deleted\"/Balancing_Oversamlping_SMOTE/\"MinMax normalised\"/\"Training Models -- CMD\"/ANN.ipynb\n",
    "!jupyter nbconvert --to notebook --inplace --ExecutePreprocessor.timeout=99999999 --execute feature_selection/\"Correlation\"/\"Qualitative deleted\"/\"Continuous deleted\"/Balancing_Undersampling_Tomeklinks/\"MinMax normalised\"/\"Training Models -- CMD\"/ANN.ipynb\n",
    "!jupyter nbconvert --to notebook --inplace --ExecutePreprocessor.timeout=99999999 --execute feature_selection/\"Correlation\"/\"Qualitative deleted\"/\"Continuous to median\"/Balancing_Oversamlping_SMOTE/\"MinMax normalised\"/\"Training Models -- CMD\"/ANN.ipynb\n",
    "!jupyter nbconvert --to notebook --inplace --ExecutePreprocessor.timeout=99999999 --execute feature_selection/\"Correlation\"/\"Qualitative deleted\"/\"Continuous to median\"/Balancing_Undersampling_Tomeklinks/\"MinMax normalised\"/\"Training Models -- CMD\"/ANN.ipynb\n",
    "!jupyter nbconvert --to notebook --inplace --ExecutePreprocessor.timeout=99999999 --execute feature_selection/\"Correlation\"/\"Qualitative to mode\"/\"Continuous deleted\"/Balancing_Oversamlping_SMOTE/\"MinMax normalised\"/\"Training Models -- CMD\"/ANN.ipynb\n",
    "!jupyter nbconvert --to notebook --inplace --ExecutePreprocessor.timeout=99999999 --execute feature_selection/\"Correlation\"/\"Qualitative to mode\"/\"Continuous deleted\"/Balancing_Undersampling_Tomeklinks/\"MinMax normalised\"/\"Training Models -- CMD\"/ANN.ipynb\n",
    "!jupyter nbconvert --to notebook --inplace --ExecutePreprocessor.timeout=99999999 --execute feature_selection/\"Correlation\"/\"Qualitative to mode\"/\"Continuous to median\"/Balancing_Oversamlping_SMOTE/\"MinMax normalised\"/\"Training Models -- CMD\"/ANN.ipynb\n",
    "!jupyter nbconvert --to notebook --inplace --ExecutePreprocessor.timeout=99999999 --execute feature_selection/\"Correlation\"/\"Qualitative to mode\"/\"Continuous to median\"/Balancing_Undersampling_Tomeklinks/\"MinMax normalised\"/\"Training Models -- CMD\"/ANN.ipynb"
   ],
   "metadata": {
    "collapsed": false,
    "pycharm": {
     "name": "#%%\n"
    }
   }
  },
  {
   "cell_type": "markdown",
   "source": [
    "#### Logistic"
   ],
   "metadata": {
    "collapsed": false,
    "pycharm": {
     "name": "#%% md\n"
    }
   }
  },
  {
   "cell_type": "code",
   "execution_count": null,
   "outputs": [],
   "source": [
    "### Univariante ROC_AUC\n",
    "!jupyter nbconvert --to notebook --inplace --ExecutePreprocessor.timeout=99999999 --execute feature_selection/\"Univariante ROC_AUC\"/\"Qualitative deleted\"/\"Continuous deleted\"/Balancing_Oversamlping_SMOTE/\"Logistic normalised\"/\"Training Models -- CMD\"/ANN.ipynb\n",
    "!jupyter nbconvert --to notebook --inplace --ExecutePreprocessor.timeout=99999999 --execute feature_selection/\"Univariante ROC_AUC\"/\"Qualitative deleted\"/\"Continuous deleted\"/Balancing_Undersampling_Tomeklinks/\"Logistic normalised\"/\"Training Models -- CMD\"/ANN.ipynb\n",
    "!jupyter nbconvert --to notebook --inplace --ExecutePreprocessor.timeout=99999999 --execute feature_selection/\"Univariante ROC_AUC\"/\"Qualitative deleted\"/\"Continuous to median\"/Balancing_Oversamlping_SMOTE/\"Logistic normalised\"/\"Training Models -- CMD\"/ANN.ipynb\n",
    "!jupyter nbconvert --to notebook --inplace --ExecutePreprocessor.timeout=99999999 --execute feature_selection/\"Univariante ROC_AUC\"/\"Qualitative deleted\"/\"Continuous to median\"/Balancing_Undersampling_Tomeklinks/\"Logistic normalised\"/\"Training Models -- CMD\"/ANN.ipynb\n",
    "!jupyter nbconvert --to notebook --inplace --ExecutePreprocessor.timeout=99999999 --execute feature_selection/\"Univariante ROC_AUC\"/\"Qualitative to mode\"/\"Continuous deleted\"/Balancing_Oversamlping_SMOTE/\"Logistic normalised\"/\"Training Models -- CMD\"/ANN.ipynb\n",
    "!jupyter nbconvert --to notebook --inplace --ExecutePreprocessor.timeout=99999999 --execute feature_selection/\"Univariante ROC_AUC\"/\"Qualitative to mode\"/\"Continuous deleted\"/Balancing_Undersampling_Tomeklinks/\"Logistic normalised\"/\"Training Models -- CMD\"/ANN.ipynb\n",
    "!jupyter nbconvert --to notebook --inplace --ExecutePreprocessor.timeout=99999999 --execute feature_selection/\"Univariante ROC_AUC\"/\"Qualitative to mode\"/\"Continuous to median\"/Balancing_Oversamlping_SMOTE/\"Logistic normalised\"/\"Training Models -- CMD\"/ANN.ipynb\n",
    "!jupyter nbconvert --to notebook --inplace --ExecutePreprocessor.timeout=99999999 --execute feature_selection/\"Univariante ROC_AUC\"/\"Qualitative to mode\"/\"Continuous to median\"/Balancing_Undersampling_Tomeklinks/\"Logistic normalised\"/\"Training Models -- CMD\"/ANN.ipynb"
   ],
   "metadata": {
    "collapsed": false,
    "pycharm": {
     "name": "#%%\n"
    }
   }
  },
  {
   "cell_type": "code",
   "execution_count": null,
   "outputs": [],
   "source": [
    "### Correlation\n",
    "!jupyter nbconvert --to notebook --inplace --ExecutePreprocessor.timeout=99999999 --execute feature_selection/\"Correlation\"/\"Qualitative deleted\"/\"Continuous deleted\"/Balancing_Oversamlping_SMOTE/\"Logistic normalised\"/\"Training Models -- CMD\"/ANN.ipynb\n",
    "!jupyter nbconvert --to notebook --inplace --ExecutePreprocessor.timeout=99999999 --execute feature_selection/\"Correlation\"/\"Qualitative deleted\"/\"Continuous deleted\"/Balancing_Undersampling_Tomeklinks/\"Logistic normalised\"/\"Training Models -- CMD\"/ANN.ipynb\n",
    "!jupyter nbconvert --to notebook --inplace --ExecutePreprocessor.timeout=99999999 --execute feature_selection/\"Correlation\"/\"Qualitative deleted\"/\"Continuous to median\"/Balancing_Oversamlping_SMOTE/\"Logistic normalised\"/\"Training Models -- CMD\"/ANN.ipynb\n",
    "!jupyter nbconvert --to notebook --inplace --ExecutePreprocessor.timeout=99999999 --execute feature_selection/\"Correlation\"/\"Qualitative deleted\"/\"Continuous to median\"/Balancing_Undersampling_Tomeklinks/\"Logistic normalised\"/\"Training Models -- CMD\"/ANN.ipynb\n",
    "!jupyter nbconvert --to notebook --inplace --ExecutePreprocessor.timeout=99999999 --execute feature_selection/\"Correlation\"/\"Qualitative to mode\"/\"Continuous deleted\"/Balancing_Oversamlping_SMOTE/\"Logistic normalised\"/\"Training Models -- CMD\"/ANN.ipynb\n",
    "!jupyter nbconvert --to notebook --inplace --ExecutePreprocessor.timeout=99999999 --execute feature_selection/\"Correlation\"/\"Qualitative to mode\"/\"Continuous deleted\"/Balancing_Undersampling_Tomeklinks/\"Logistic normalised\"/\"Training Models -- CMD\"/ANN.ipynb\n",
    "!jupyter nbconvert --to notebook --inplace --ExecutePreprocessor.timeout=99999999 --execute feature_selection/\"Correlation\"/\"Qualitative to mode\"/\"Continuous to median\"/Balancing_Oversamlping_SMOTE/\"Logistic normalised\"/\"Training Models -- CMD\"/ANN.ipynb\n",
    "!jupyter nbconvert --to notebook --inplace --ExecutePreprocessor.timeout=99999999 --execute feature_selection/\"Correlation\"/\"Qualitative to mode\"/\"Continuous to median\"/Balancing_Undersampling_Tomeklinks/\"Logistic normalised\"/\"Training Models -- CMD\"/ANN.ipynb\n",
    "\n",
    "\n",
    "\n"
   ],
   "metadata": {
    "collapsed": false,
    "pycharm": {
     "name": "#%%\n"
    }
   }
  },
  {
   "cell_type": "markdown",
   "source": [
    "## SVM"
   ],
   "metadata": {
    "collapsed": false,
    "pycharm": {
     "name": "#%% md\n"
    }
   }
  },
  {
   "cell_type": "markdown",
   "source": [
    "#### Z score"
   ],
   "metadata": {
    "collapsed": false
   }
  },
  {
   "cell_type": "code",
   "execution_count": null,
   "outputs": [],
   "source": [
    "### Univariante ROC_AUC\n",
    "!jupyter nbconvert --to notebook --inplace --ExecutePreprocessor.timeout=99999999 --execute feature_selection/\"Univariante ROC_AUC\"/\"Qualitative deleted\"/\"Continuous deleted\"/Balancing_Oversamlping_SMOTE/\"Z normalised\"/\"Training Models -- CMD\"/SVM.ipynb\n",
    "!jupyter nbconvert --to notebook --inplace --ExecutePreprocessor.timeout=99999999 --execute feature_selection/\"Univariante ROC_AUC\"/\"Qualitative deleted\"/\"Continuous deleted\"/Balancing_Undersampling_Tomeklinks/\"Z normalised\"/\"Training Models -- CMD\"/SVM.ipynb\n",
    "!jupyter nbconvert --to notebook --inplace --ExecutePreprocessor.timeout=99999999 --execute feature_selection/\"Univariante ROC_AUC\"/\"Qualitative deleted\"/\"Continuous to median\"/Balancing_Oversamlping_SMOTE/\"Z normalised\"/\"Training Models -- CMD\"/SVM.ipynb\n",
    "!jupyter nbconvert --to notebook --inplace --ExecutePreprocessor.timeout=99999999 --execute feature_selection/\"Univariante ROC_AUC\"/\"Qualitative deleted\"/\"Continuous to median\"/Balancing_Undersampling_Tomeklinks/\"Z normalised\"/\"Training Models -- CMD\"/SVM.ipynb\n",
    "!jupyter nbconvert --to notebook --inplace --ExecutePreprocessor.timeout=99999999 --execute feature_selection/\"Univariante ROC_AUC\"/\"Qualitative to mode\"/\"Continuous deleted\"/Balancing_Oversamlping_SMOTE/\"Z normalised\"/\"Training Models -- CMD\"/SVM.ipynb\n",
    "!jupyter nbconvert --to notebook --inplace --ExecutePreprocessor.timeout=99999999 --execute feature_selection/\"Univariante ROC_AUC\"/\"Qualitative to mode\"/\"Continuous deleted\"/Balancing_Undersampling_Tomeklinks/\"Z normalised\"/\"Training Models -- CMD\"/SVM.ipynb\n",
    "!jupyter nbconvert --to notebook --inplace --ExecutePreprocessor.timeout=99999999 --execute feature_selection/\"Univariante ROC_AUC\"/\"Qualitative to mode\"/\"Continuous to median\"/Balancing_Oversamlping_SMOTE/\"Z normalised\"/\"Training Models -- CMD\"/SVM.ipynb\n",
    "!jupyter nbconvert --to notebook --inplace --ExecutePreprocessor.timeout=99999999 --execute feature_selection/\"Univariante ROC_AUC\"/\"Qualitative to mode\"/\"Continuous to median\"/Balancing_Undersampling_Tomeklinks/\"Z normalised\"/\"Training Models -- CMD\"/SVM.ipynb"
   ],
   "metadata": {
    "collapsed": false,
    "pycharm": {
     "name": "#%%\n"
    }
   }
  },
  {
   "cell_type": "code",
   "execution_count": null,
   "outputs": [],
   "source": [
    "### Correlation\n",
    "!jupyter nbconvert --to notebook --inplace --ExecutePreprocessor.timeout=99999999 --execute feature_selection/\"Correlation\"/\"Qualitative deleted\"/\"Continuous deleted\"/Balancing_Oversamlping_SMOTE/\"Z normalised\"/\"Training Models -- CMD\"/SVM.ipynb\n",
    "!jupyter nbconvert --to notebook --inplace --ExecutePreprocessor.timeout=99999999 --execute feature_selection/\"Correlation\"/\"Qualitative deleted\"/\"Continuous deleted\"/Balancing_Undersampling_Tomeklinks/\"Z normalised\"/\"Training Models -- CMD\"/SVM.ipynb\n",
    "!jupyter nbconvert --to notebook --inplace --ExecutePreprocessor.timeout=99999999 --execute feature_selection/\"Correlation\"/\"Qualitative deleted\"/\"Continuous to median\"/Balancing_Oversamlping_SMOTE/\"Z normalised\"/\"Training Models -- CMD\"/SVM.ipynb\n",
    "!jupyter nbconvert --to notebook --inplace --ExecutePreprocessor.timeout=99999999 --execute feature_selection/\"Correlation\"/\"Qualitative deleted\"/\"Continuous to median\"/Balancing_Undersampling_Tomeklinks/\"Z normalised\"/\"Training Models -- CMD\"/SVM.ipynb\n",
    "!jupyter nbconvert --to notebook --inplace --ExecutePreprocessor.timeout=99999999 --execute feature_selection/\"Correlation\"/\"Qualitative to mode\"/\"Continuous deleted\"/Balancing_Oversamlping_SMOTE/\"Z normalised\"/\"Training Models -- CMD\"/SVM.ipynb\n",
    "!jupyter nbconvert --to notebook --inplace --ExecutePreprocessor.timeout=99999999 --execute feature_selection/\"Correlation\"/\"Qualitative to mode\"/\"Continuous deleted\"/Balancing_Undersampling_Tomeklinks/\"Z normalised\"/\"Training Models -- CMD\"/SVM.ipynb\n",
    "!jupyter nbconvert --to notebook --inplace --ExecutePreprocessor.timeout=99999999 --execute feature_selection/\"Correlation\"/\"Qualitative to mode\"/\"Continuous to median\"/Balancing_Oversamlping_SMOTE/\"Z normalised\"/\"Training Models -- CMD\"/SVM.ipynb\n",
    "!jupyter nbconvert --to notebook --inplace --ExecutePreprocessor.timeout=99999999 --execute feature_selection/\"Correlation\"/\"Qualitative to mode\"/\"Continuous to median\"/Balancing_Undersampling_Tomeklinks/\"Z normalised\"/\"Training Models -- CMD\"/SVM.ipynb\n"
   ],
   "metadata": {
    "collapsed": false,
    "pycharm": {
     "name": "#%%\n"
    }
   }
  },
  {
   "cell_type": "markdown",
   "source": [
    "#### MinMax"
   ],
   "metadata": {
    "collapsed": false,
    "pycharm": {
     "name": "#%% md\n"
    }
   }
  },
  {
   "cell_type": "code",
   "execution_count": null,
   "outputs": [],
   "source": [
    "### Univariante ROC_AUC\n",
    "!jupyter nbconvert --to notebook --inplace --ExecutePreprocessor.timeout=99999999 --execute feature_selection/\"Univariante ROC_AUC\"/\"Qualitative deleted\"/\"Continuous deleted\"/Balancing_Oversamlping_SMOTE/\"MinMax normalised\"/\"Training Models -- CMD\"/SVM.ipynb\n",
    "!jupyter nbconvert --to notebook --inplace --ExecutePreprocessor.timeout=99999999 --execute feature_selection/\"Univariante ROC_AUC\"/\"Qualitative deleted\"/\"Continuous deleted\"/Balancing_Undersampling_Tomeklinks/\"MinMax normalised\"/\"Training Models -- CMD\"/SVM.ipynb\n",
    "!jupyter nbconvert --to notebook --inplace --ExecutePreprocessor.timeout=99999999 --execute feature_selection/\"Univariante ROC_AUC\"/\"Qualitative deleted\"/\"Continuous to median\"/Balancing_Oversamlping_SMOTE/\"MinMax normalised\"/\"Training Models -- CMD\"/SVM.ipynb\n",
    "!jupyter nbconvert --to notebook --inplace --ExecutePreprocessor.timeout=99999999 --execute feature_selection/\"Univariante ROC_AUC\"/\"Qualitative deleted\"/\"Continuous to median\"/Balancing_Undersampling_Tomeklinks/\"MinMax normalised\"/\"Training Models -- CMD\"/SVM.ipynb\n",
    "!jupyter nbconvert --to notebook --inplace --ExecutePreprocessor.timeout=99999999 --execute feature_selection/\"Univariante ROC_AUC\"/\"Qualitative to mode\"/\"Continuous deleted\"/Balancing_Oversamlping_SMOTE/\"MinMax normalised\"/\"Training Models -- CMD\"/SVM.ipynb\n",
    "!jupyter nbconvert --to notebook --inplace --ExecutePreprocessor.timeout=99999999 --execute feature_selection/\"Univariante ROC_AUC\"/\"Qualitative to mode\"/\"Continuous deleted\"/Balancing_Undersampling_Tomeklinks/\"MinMax normalised\"/\"Training Models -- CMD\"/SVM.ipynb\n",
    "!jupyter nbconvert --to notebook --inplace --ExecutePreprocessor.timeout=99999999 --execute feature_selection/\"Univariante ROC_AUC\"/\"Qualitative to mode\"/\"Continuous to median\"/Balancing_Oversamlping_SMOTE/\"MinMax normalised\"/\"Training Models -- CMD\"/SVM.ipynb\n",
    "!jupyter nbconvert --to notebook --inplace --ExecutePreprocessor.timeout=99999999 --execute feature_selection/\"Univariante ROC_AUC\"/\"Qualitative to mode\"/\"Continuous to median\"/Balancing_Undersampling_Tomeklinks/\"MinMax normalised\"/\"Training Models -- CMD\"/SVM.ipynb"
   ],
   "metadata": {
    "collapsed": false,
    "pycharm": {
     "name": "#%%\n"
    }
   }
  },
  {
   "cell_type": "code",
   "execution_count": null,
   "outputs": [],
   "source": [
    "### Correlation\n",
    "!jupyter nbconvert --to notebook --inplace --ExecutePreprocessor.timeout=99999999 --execute feature_selection/\"Correlation\"/\"Qualitative deleted\"/\"Continuous deleted\"/Balancing_Oversamlping_SMOTE/\"MinMax normalised\"/\"Training Models -- CMD\"/SVM.ipynb\n",
    "!jupyter nbconvert --to notebook --inplace --ExecutePreprocessor.timeout=99999999 --execute feature_selection/\"Correlation\"/\"Qualitative deleted\"/\"Continuous deleted\"/Balancing_Undersampling_Tomeklinks/\"MinMax normalised\"/\"Training Models -- CMD\"/SVM.ipynb\n",
    "!jupyter nbconvert --to notebook --inplace --ExecutePreprocessor.timeout=99999999 --execute feature_selection/\"Correlation\"/\"Qualitative deleted\"/\"Continuous to median\"/Balancing_Oversamlping_SMOTE/\"MinMax normalised\"/\"Training Models -- CMD\"/SVM.ipynb\n",
    "!jupyter nbconvert --to notebook --inplace --ExecutePreprocessor.timeout=99999999 --execute feature_selection/\"Correlation\"/\"Qualitative deleted\"/\"Continuous to median\"/Balancing_Undersampling_Tomeklinks/\"MinMax normalised\"/\"Training Models -- CMD\"/SVM.ipynb\n",
    "!jupyter nbconvert --to notebook --inplace --ExecutePreprocessor.timeout=99999999 --execute feature_selection/\"Correlation\"/\"Qualitative to mode\"/\"Continuous deleted\"/Balancing_Oversamlping_SMOTE/\"MinMax normalised\"/\"Training Models -- CMD\"/SVM.ipynb\n",
    "!jupyter nbconvert --to notebook --inplace --ExecutePreprocessor.timeout=99999999 --execute feature_selection/\"Correlation\"/\"Qualitative to mode\"/\"Continuous deleted\"/Balancing_Undersampling_Tomeklinks/\"MinMax normalised\"/\"Training Models -- CMD\"/SVM.ipynb\n",
    "!jupyter nbconvert --to notebook --inplace --ExecutePreprocessor.timeout=99999999 --execute feature_selection/\"Correlation\"/\"Qualitative to mode\"/\"Continuous to median\"/Balancing_Oversamlping_SMOTE/\"MinMax normalised\"/\"Training Models -- CMD\"/SVM.ipynb\n",
    "!jupyter nbconvert --to notebook --inplace --ExecutePreprocessor.timeout=99999999 --execute feature_selection/\"Correlation\"/\"Qualitative to mode\"/\"Continuous to median\"/Balancing_Undersampling_Tomeklinks/\"MinMax normalised\"/\"Training Models -- CMD\"/SVM.ipynb"
   ],
   "metadata": {
    "collapsed": false,
    "pycharm": {
     "name": "#%%\n"
    }
   }
  },
  {
   "cell_type": "markdown",
   "source": [
    "#### Logistic"
   ],
   "metadata": {
    "collapsed": false,
    "pycharm": {
     "name": "#%% md\n"
    }
   }
  },
  {
   "cell_type": "code",
   "execution_count": null,
   "outputs": [],
   "source": [
    "### Univariante ROC_AUC\n",
    "!jupyter nbconvert --to notebook --inplace --ExecutePreprocessor.timeout=99999999 --execute feature_selection/\"Univariante ROC_AUC\"/\"Qualitative deleted\"/\"Continuous deleted\"/Balancing_Oversamlping_SMOTE/\"Logistic normalised\"/\"Training Models -- CMD\"/SVM.ipynb\n",
    "!jupyter nbconvert --to notebook --inplace --ExecutePreprocessor.timeout=99999999 --execute feature_selection/\"Univariante ROC_AUC\"/\"Qualitative deleted\"/\"Continuous deleted\"/Balancing_Undersampling_Tomeklinks/\"Logistic normalised\"/\"Training Models -- CMD\"/SVM.ipynb\n",
    "!jupyter nbconvert --to notebook --inplace --ExecutePreprocessor.timeout=99999999 --execute feature_selection/\"Univariante ROC_AUC\"/\"Qualitative deleted\"/\"Continuous to median\"/Balancing_Oversamlping_SMOTE/\"Logistic normalised\"/\"Training Models -- CMD\"/SVM.ipynb\n",
    "!jupyter nbconvert --to notebook --inplace --ExecutePreprocessor.timeout=99999999 --execute feature_selection/\"Univariante ROC_AUC\"/\"Qualitative deleted\"/\"Continuous to median\"/Balancing_Undersampling_Tomeklinks/\"Logistic normalised\"/\"Training Models -- CMD\"/SVM.ipynb\n",
    "!jupyter nbconvert --to notebook --inplace --ExecutePreprocessor.timeout=99999999 --execute feature_selection/\"Univariante ROC_AUC\"/\"Qualitative to mode\"/\"Continuous deleted\"/Balancing_Oversamlping_SMOTE/\"Logistic normalised\"/\"Training Models -- CMD\"/SVM.ipynb\n",
    "!jupyter nbconvert --to notebook --inplace --ExecutePreprocessor.timeout=99999999 --execute feature_selection/\"Univariante ROC_AUC\"/\"Qualitative to mode\"/\"Continuous deleted\"/Balancing_Undersampling_Tomeklinks/\"Logistic normalised\"/\"Training Models -- CMD\"/SVM.ipynb\n",
    "!jupyter nbconvert --to notebook --inplace --ExecutePreprocessor.timeout=99999999 --execute feature_selection/\"Univariante ROC_AUC\"/\"Qualitative to mode\"/\"Continuous to median\"/Balancing_Oversamlping_SMOTE/\"Logistic normalised\"/\"Training Models -- CMD\"/SVM.ipynb\n",
    "!jupyter nbconvert --to notebook --inplace --ExecutePreprocessor.timeout=99999999 --execute feature_selection/\"Univariante ROC_AUC\"/\"Qualitative to mode\"/\"Continuous to median\"/Balancing_Undersampling_Tomeklinks/\"Logistic normalised\"/\"Training Models -- CMD\"/SVM.ipynb"
   ],
   "metadata": {
    "collapsed": false,
    "pycharm": {
     "name": "#%%\n"
    }
   }
  },
  {
   "cell_type": "code",
   "execution_count": null,
   "outputs": [],
   "source": [
    "### Correlation\n",
    "!jupyter nbconvert --to notebook --inplace --ExecutePreprocessor.timeout=99999999 --execute feature_selection/\"Correlation\"/\"Qualitative deleted\"/\"Continuous deleted\"/Balancing_Oversamlping_SMOTE/\"Logistic normalised\"/\"Training Models -- CMD\"/SVM.ipynb\n",
    "!jupyter nbconvert --to notebook --inplace --ExecutePreprocessor.timeout=99999999 --execute feature_selection/\"Correlation\"/\"Qualitative deleted\"/\"Continuous deleted\"/Balancing_Undersampling_Tomeklinks/\"Logistic normalised\"/\"Training Models -- CMD\"/SVM.ipynb\n",
    "!jupyter nbconvert --to notebook --inplace --ExecutePreprocessor.timeout=99999999 --execute feature_selection/\"Correlation\"/\"Qualitative deleted\"/\"Continuous to median\"/Balancing_Oversamlping_SMOTE/\"Logistic normalised\"/\"Training Models -- CMD\"/SVM.ipynb\n",
    "!jupyter nbconvert --to notebook --inplace --ExecutePreprocessor.timeout=99999999 --execute feature_selection/\"Correlation\"/\"Qualitative deleted\"/\"Continuous to median\"/Balancing_Undersampling_Tomeklinks/\"Logistic normalised\"/\"Training Models -- CMD\"/SVM.ipynb\n",
    "!jupyter nbconvert --to notebook --inplace --ExecutePreprocessor.timeout=99999999 --execute feature_selection/\"Correlation\"/\"Qualitative to mode\"/\"Continuous deleted\"/Balancing_Oversamlping_SMOTE/\"Logistic normalised\"/\"Training Models -- CMD\"/SVM.ipynb\n",
    "!jupyter nbconvert --to notebook --inplace --ExecutePreprocessor.timeout=99999999 --execute feature_selection/\"Correlation\"/\"Qualitative to mode\"/\"Continuous deleted\"/Balancing_Undersampling_Tomeklinks/\"Logistic normalised\"/\"Training Models -- CMD\"/SVM.ipynb\n",
    "!jupyter nbconvert --to notebook --inplace --ExecutePreprocessor.timeout=99999999 --execute feature_selection/\"Correlation\"/\"Qualitative to mode\"/\"Continuous to median\"/Balancing_Oversamlping_SMOTE/\"Logistic normalised\"/\"Training Models -- CMD\"/SVM.ipynb\n",
    "!jupyter nbconvert --to notebook --inplace --ExecutePreprocessor.timeout=99999999 --execute feature_selection/\"Correlation\"/\"Qualitative to mode\"/\"Continuous to median\"/Balancing_Undersampling_Tomeklinks/\"Logistic normalised\"/\"Training Models -- CMD\"/SVM.ipynb"
   ],
   "metadata": {
    "collapsed": false,
    "pycharm": {
     "name": "#%%\n"
    }
   }
  }
 ],
 "metadata": {
  "kernelspec": {
   "display_name": "Python 3",
   "language": "python",
   "name": "python3"
  },
  "language_info": {
   "codemirror_mode": {
    "name": "ipython",
    "version": 3
   },
   "file_extension": ".py",
   "mimetype": "text/x-python",
   "name": "python",
   "nbconvert_exporter": "python",
   "pygments_lexer": "ipython3",
   "version": "3.7.4"
  },
  "pycharm": {
   "stem_cell": {
    "cell_type": "raw",
    "source": [],
    "metadata": {
     "collapsed": false
    }
   }
  }
 },
 "nbformat": 4,
 "nbformat_minor": 1
}