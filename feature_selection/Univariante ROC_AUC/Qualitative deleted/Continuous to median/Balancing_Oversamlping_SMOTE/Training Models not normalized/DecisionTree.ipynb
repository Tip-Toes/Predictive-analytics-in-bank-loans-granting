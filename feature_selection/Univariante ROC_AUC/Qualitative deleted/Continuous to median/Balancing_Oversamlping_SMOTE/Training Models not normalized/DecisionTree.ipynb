{
 "cells": [
  {
   "cell_type": "code",
   "execution_count": null,
   "metadata": {},
   "outputs": [],
   "source": [
    "### done"
   ]
  },
  {
   "cell_type": "code",
   "execution_count": 1,
   "metadata": {
    "pycharm": {
     "is_executing": false
    }
   },
   "outputs": [],
   "source": [
    "from pylab import rcParams\n",
    "rcParams['figure.figsize'] = 10, 5\n",
    "from plot_metric.functions import BinaryClassification\n",
    "import warnings\n",
    "warnings.filterwarnings('ignore')\n",
    "from sklearn.tree import DecisionTreeClassifier\n",
    "import pandas as pd\n",
    "import matplotlib.pyplot as plt\n",
    "import numpy as np\n",
    "from sklearn.model_selection import cross_val_score, GridSearchCV, train_test_split\n",
    "from sklearn.metrics import make_scorer, recall_score,precision_score, confusion_matrix,classification_report,accuracy_score"
   ]
  },
  {
   "cell_type": "code",
   "execution_count": 2,
   "metadata": {
    "pycharm": {
     "is_executing": false,
     "name": "#%%\n"
    }
   },
   "outputs": [
    {
     "data": {
      "text/html": [
       "<div>\n",
       "<style scoped>\n",
       "    .dataframe tbody tr th:only-of-type {\n",
       "        vertical-align: middle;\n",
       "    }\n",
       "\n",
       "    .dataframe tbody tr th {\n",
       "        vertical-align: top;\n",
       "    }\n",
       "\n",
       "    .dataframe thead th {\n",
       "        text-align: right;\n",
       "    }\n",
       "</style>\n",
       "<table border=\"1\" class=\"dataframe\">\n",
       "  <thead>\n",
       "    <tr style=\"text-align: right;\">\n",
       "      <th></th>\n",
       "      <th>Current Loan Amount</th>\n",
       "      <th>Credit Score</th>\n",
       "      <th>Annual Income</th>\n",
       "      <th>Monthly Debt</th>\n",
       "      <th>Years of Credit History</th>\n",
       "      <th>Current Credit Balance</th>\n",
       "      <th>Maximum Open Credit</th>\n",
       "      <th>Term_Short Term</th>\n",
       "      <th>Years in current job_10+ years</th>\n",
       "      <th>Years in current job_2 years</th>\n",
       "      <th>...</th>\n",
       "      <th>Years in current job_4 years</th>\n",
       "      <th>Years in current job_5 years</th>\n",
       "      <th>Years in current job_6 years</th>\n",
       "      <th>Years in current job_7 years</th>\n",
       "      <th>Years in current job_8 years</th>\n",
       "      <th>Years in current job_9 years</th>\n",
       "      <th>Years in current job_&lt; 1 year</th>\n",
       "      <th>Home Ownership_Own Home</th>\n",
       "      <th>Home Ownership_Rent</th>\n",
       "      <th>Loan Status</th>\n",
       "    </tr>\n",
       "  </thead>\n",
       "  <tbody>\n",
       "    <tr>\n",
       "      <th>0</th>\n",
       "      <td>445412.0</td>\n",
       "      <td>709.0</td>\n",
       "      <td>1167493.0</td>\n",
       "      <td>5214.74</td>\n",
       "      <td>17.2</td>\n",
       "      <td>228190.0</td>\n",
       "      <td>416746.0</td>\n",
       "      <td>1</td>\n",
       "      <td>0</td>\n",
       "      <td>0</td>\n",
       "      <td>...</td>\n",
       "      <td>0</td>\n",
       "      <td>0</td>\n",
       "      <td>0</td>\n",
       "      <td>0</td>\n",
       "      <td>1</td>\n",
       "      <td>0</td>\n",
       "      <td>0</td>\n",
       "      <td>0</td>\n",
       "      <td>0</td>\n",
       "      <td>1</td>\n",
       "    </tr>\n",
       "    <tr>\n",
       "      <th>1</th>\n",
       "      <td>262328.0</td>\n",
       "      <td>729.0</td>\n",
       "      <td>1198700.5</td>\n",
       "      <td>33295.98</td>\n",
       "      <td>21.1</td>\n",
       "      <td>229976.0</td>\n",
       "      <td>850784.0</td>\n",
       "      <td>1</td>\n",
       "      <td>1</td>\n",
       "      <td>0</td>\n",
       "      <td>...</td>\n",
       "      <td>0</td>\n",
       "      <td>0</td>\n",
       "      <td>0</td>\n",
       "      <td>0</td>\n",
       "      <td>0</td>\n",
       "      <td>0</td>\n",
       "      <td>0</td>\n",
       "      <td>0</td>\n",
       "      <td>0</td>\n",
       "      <td>1</td>\n",
       "    </tr>\n",
       "    <tr>\n",
       "      <th>2</th>\n",
       "      <td>99999999.0</td>\n",
       "      <td>741.0</td>\n",
       "      <td>2231892.0</td>\n",
       "      <td>29200.53</td>\n",
       "      <td>14.9</td>\n",
       "      <td>297996.0</td>\n",
       "      <td>750090.0</td>\n",
       "      <td>1</td>\n",
       "      <td>0</td>\n",
       "      <td>0</td>\n",
       "      <td>...</td>\n",
       "      <td>0</td>\n",
       "      <td>0</td>\n",
       "      <td>0</td>\n",
       "      <td>0</td>\n",
       "      <td>1</td>\n",
       "      <td>0</td>\n",
       "      <td>0</td>\n",
       "      <td>1</td>\n",
       "      <td>0</td>\n",
       "      <td>1</td>\n",
       "    </tr>\n",
       "    <tr>\n",
       "      <th>3</th>\n",
       "      <td>347666.0</td>\n",
       "      <td>721.0</td>\n",
       "      <td>806949.0</td>\n",
       "      <td>8741.90</td>\n",
       "      <td>12.0</td>\n",
       "      <td>256329.0</td>\n",
       "      <td>386958.0</td>\n",
       "      <td>0</td>\n",
       "      <td>0</td>\n",
       "      <td>0</td>\n",
       "      <td>...</td>\n",
       "      <td>0</td>\n",
       "      <td>0</td>\n",
       "      <td>0</td>\n",
       "      <td>0</td>\n",
       "      <td>0</td>\n",
       "      <td>0</td>\n",
       "      <td>0</td>\n",
       "      <td>1</td>\n",
       "      <td>0</td>\n",
       "      <td>1</td>\n",
       "    </tr>\n",
       "    <tr>\n",
       "      <th>4</th>\n",
       "      <td>176220.0</td>\n",
       "      <td>729.0</td>\n",
       "      <td>1198700.5</td>\n",
       "      <td>20639.70</td>\n",
       "      <td>6.1</td>\n",
       "      <td>253460.0</td>\n",
       "      <td>427174.0</td>\n",
       "      <td>1</td>\n",
       "      <td>0</td>\n",
       "      <td>0</td>\n",
       "      <td>...</td>\n",
       "      <td>0</td>\n",
       "      <td>1</td>\n",
       "      <td>0</td>\n",
       "      <td>0</td>\n",
       "      <td>0</td>\n",
       "      <td>0</td>\n",
       "      <td>0</td>\n",
       "      <td>0</td>\n",
       "      <td>1</td>\n",
       "      <td>1</td>\n",
       "    </tr>\n",
       "  </tbody>\n",
       "</table>\n",
       "<p>5 rows × 21 columns</p>\n",
       "</div>"
      ],
      "text/plain": [
       "   Current Loan Amount  Credit Score  Annual Income  Monthly Debt  \\\n",
       "0             445412.0         709.0      1167493.0       5214.74   \n",
       "1             262328.0         729.0      1198700.5      33295.98   \n",
       "2           99999999.0         741.0      2231892.0      29200.53   \n",
       "3             347666.0         721.0       806949.0       8741.90   \n",
       "4             176220.0         729.0      1198700.5      20639.70   \n",
       "\n",
       "   Years of Credit History  Current Credit Balance  Maximum Open Credit  \\\n",
       "0                     17.2                228190.0             416746.0   \n",
       "1                     21.1                229976.0             850784.0   \n",
       "2                     14.9                297996.0             750090.0   \n",
       "3                     12.0                256329.0             386958.0   \n",
       "4                      6.1                253460.0             427174.0   \n",
       "\n",
       "   Term_Short Term  Years in current job_10+ years  \\\n",
       "0                1                               0   \n",
       "1                1                               1   \n",
       "2                1                               0   \n",
       "3                0                               0   \n",
       "4                1                               0   \n",
       "\n",
       "   Years in current job_2 years  ...  Years in current job_4 years  \\\n",
       "0                             0  ...                             0   \n",
       "1                             0  ...                             0   \n",
       "2                             0  ...                             0   \n",
       "3                             0  ...                             0   \n",
       "4                             0  ...                             0   \n",
       "\n",
       "   Years in current job_5 years  Years in current job_6 years  \\\n",
       "0                             0                             0   \n",
       "1                             0                             0   \n",
       "2                             0                             0   \n",
       "3                             0                             0   \n",
       "4                             1                             0   \n",
       "\n",
       "   Years in current job_7 years  Years in current job_8 years  \\\n",
       "0                             0                             1   \n",
       "1                             0                             0   \n",
       "2                             0                             1   \n",
       "3                             0                             0   \n",
       "4                             0                             0   \n",
       "\n",
       "   Years in current job_9 years  Years in current job_< 1 year  \\\n",
       "0                             0                              0   \n",
       "1                             0                              0   \n",
       "2                             0                              0   \n",
       "3                             0                              0   \n",
       "4                             0                              0   \n",
       "\n",
       "   Home Ownership_Own Home  Home Ownership_Rent  Loan Status  \n",
       "0                        0                    0            1  \n",
       "1                        0                    0            1  \n",
       "2                        1                    0            1  \n",
       "3                        1                    0            1  \n",
       "4                        0                    1            1  \n",
       "\n",
       "[5 rows x 21 columns]"
      ]
     },
     "execution_count": 2,
     "metadata": {},
     "output_type": "execute_result"
    }
   ],
   "source": [
    "data= pd.read_csv('../data.csv')\n",
    "data.head()"
   ]
  },
  {
   "cell_type": "code",
   "execution_count": 3,
   "metadata": {
    "pycharm": {
     "is_executing": false,
     "name": "#%%\n"
    }
   },
   "outputs": [
    {
     "data": {
      "text/plain": [
       "Current Loan Amount               float64\n",
       "Credit Score                      float64\n",
       "Annual Income                     float64\n",
       "Monthly Debt                      float64\n",
       "Years of Credit History           float64\n",
       "Current Credit Balance            float64\n",
       "Maximum Open Credit               float64\n",
       "Term_Short Term                     int64\n",
       "Years in current job_10+ years      int64\n",
       "Years in current job_2 years        int64\n",
       "Years in current job_3 years        int64\n",
       "Years in current job_4 years        int64\n",
       "Years in current job_5 years        int64\n",
       "Years in current job_6 years        int64\n",
       "Years in current job_7 years        int64\n",
       "Years in current job_8 years        int64\n",
       "Years in current job_9 years        int64\n",
       "Years in current job_< 1 year       int64\n",
       "Home Ownership_Own Home             int64\n",
       "Home Ownership_Rent                 int64\n",
       "Loan Status                         int64\n",
       "dtype: object"
      ]
     },
     "execution_count": 3,
     "metadata": {},
     "output_type": "execute_result"
    }
   ],
   "source": [
    "data.dtypes"
   ]
  },
  {
   "cell_type": "code",
   "execution_count": 4,
   "metadata": {
    "pycharm": {
     "is_executing": false,
     "name": "#%%\n"
    }
   },
   "outputs": [],
   "source": [
    "##copying data\n",
    "data1=data.copy()"
   ]
  },
  {
   "cell_type": "markdown",
   "metadata": {
    "pycharm": {
     "is_executing": false,
     "name": "#%% md\n"
    }
   },
   "source": [
    "### spliting data en X et Y"
   ]
  },
  {
   "cell_type": "code",
   "execution_count": 5,
   "metadata": {
    "pycharm": {
     "is_executing": false,
     "name": "#%%\n"
    }
   },
   "outputs": [],
   "source": [
    "X= data1.drop('Loan Status', axis=1)\n",
    "Y= data1['Loan Status']"
   ]
  },
  {
   "cell_type": "markdown",
   "metadata": {
    "pycharm": {
     "is_executing": false,
     "name": "#%% md\n"
    }
   },
   "source": [
    "### spliting the data to train and test"
   ]
  },
  {
   "cell_type": "code",
   "execution_count": 6,
   "metadata": {
    "pycharm": {
     "is_executing": false,
     "name": "#%%\n"
    }
   },
   "outputs": [],
   "source": [
    "X_train , X_test , Y_train , Y_test = train_test_split(X, Y, test_size = 0.30, random_state = 123)"
   ]
  },
  {
   "cell_type": "markdown",
   "metadata": {},
   "source": [
    "## dicision tree (CART)"
   ]
  },
  {
   "cell_type": "code",
   "execution_count": 7,
   "metadata": {
    "pycharm": {
     "is_executing": false,
     "name": "#%%\n"
    }
   },
   "outputs": [],
   "source": [
    "dct = DecisionTreeClassifier()\n",
    "params={'criterion' : ['gini', 'entropy'],\n",
    "        'max_depth': [4, 5, 6, 7, 8, 9, 10, 11, 12, 13,14, 15, 16, 17, None]}\n",
    "\n",
    "##accuracy\n",
    "grid_search_acc= GridSearchCV(estimator=dct, param_grid= params, scoring='accuracy',cv=5, n_jobs=-1)\n",
    "grid_search_acc= grid_search_acc.fit(X_train, Y_train)\n",
    "y_predict= grid_search_acc.best_estimator_.predict(X_test)\n"
   ]
  },
  {
   "cell_type": "code",
   "execution_count": 8,
   "metadata": {
    "pycharm": {
     "is_executing": false,
     "name": "#%%\n"
    }
   },
   "outputs": [
    {
     "name": "stdout",
     "output_type": "stream",
     "text": [
      "----------\n",
      "best parameters:  {'criterion': 'entropy', 'max_depth': 14}\n",
      "----------\n",
      "[[14456  4904]\n",
      " [ 2419 16907]]\n",
      "----------\n",
      "              precision    recall  f1-score   support\n",
      "\n",
      "           0       0.86      0.75      0.80     19360\n",
      "           1       0.78      0.87      0.82     19326\n",
      "\n",
      "    accuracy                           0.81     38686\n",
      "   macro avg       0.82      0.81      0.81     38686\n",
      "weighted avg       0.82      0.81      0.81     38686\n",
      "\n",
      "----------\n"
     ]
    }
   ],
   "source": [
    "## evaluating the model\n",
    "print(\"----------\")\n",
    "print('best parameters: ', grid_search_acc.best_params_)\n",
    "print(\"----------\")\n",
    "print(confusion_matrix(Y_test,y_predict))\n",
    "print(\"----------\")\n",
    "print(classification_report(Y_test, y_predict))\n",
    "print(\"----------\")"
   ]
  },
  {
   "cell_type": "code",
   "execution_count": 9,
   "metadata": {},
   "outputs": [
    {
     "data": {
      "image/png": "[encoded data removed]",
      "text/plain": [
       "<Figure size 504x432 with 1 Axes>"
      ]
     },
     "metadata": {},
     "output_type": "display_data"
    }
   ],
   "source": [
    "##ROC\n",
    "y_predict_proba = grid_search_acc.best_estimator_.predict_proba(X_test)[:,1]\n",
    "\n",
    "# Visualisation with plot_metric\n",
    "bc = BinaryClassification(Y_test, y_predict_proba, labels=[1, 0])\n",
    "# Figures\n",
    "plt.figure(figsize=(7,6))\n",
    "bc.plot_roc_curve()\n",
    "plt.title('ROC curve')\n",
    "plt.show()"
   ]
  },
  {
   "cell_type": "code",
   "execution_count": 10,
   "metadata": {
    "pycharm": {
     "is_executing": false,
     "name": "#%%\n"
    }
   },
   "outputs": [],
   "source": [
    "## Recall\n",
    "rec_avg=make_scorer(recall_score, average='macro')\n",
    "grid_search_rec= GridSearchCV(estimator=dct, param_grid= params, scoring=rec_avg,cv=5, n_jobs=-1)\n",
    "grid_search_rec= grid_search_rec.fit(X_train, Y_train)\n",
    "y_predict= grid_search_rec.best_estimator_.predict(X_test)"
   ]
  },
  {
   "cell_type": "code",
   "execution_count": 11,
   "metadata": {
    "pycharm": {
     "is_executing": false,
     "name": "#%%\n"
    }
   },
   "outputs": [
    {
     "name": "stdout",
     "output_type": "stream",
     "text": [
      "----------\n",
      "best parameters:  {'criterion': 'entropy', 'max_depth': 14}\n",
      "----------\n",
      "[[14461  4899]\n",
      " [ 2443 16883]]\n",
      "----------\n",
      "              precision    recall  f1-score   support\n",
      "\n",
      "           0       0.86      0.75      0.80     19360\n",
      "           1       0.78      0.87      0.82     19326\n",
      "\n",
      "    accuracy                           0.81     38686\n",
      "   macro avg       0.82      0.81      0.81     38686\n",
      "weighted avg       0.82      0.81      0.81     38686\n",
      "\n",
      "----------\n"
     ]
    }
   ],
   "source": [
    "## evaluating the model\n",
    "print(\"----------\")\n",
    "print('best parameters: ', grid_search_rec.best_params_)\n",
    "print(\"----------\")\n",
    "print(confusion_matrix(Y_test,y_predict))\n",
    "print(\"----------\")\n",
    "print(classification_report(Y_test, y_predict))\n",
    "print(\"----------\")"
   ]
  },
  {
   "cell_type": "code",
   "execution_count": 12,
   "metadata": {
    "pycharm": {
     "is_executing": false,
     "name": "#%%\n"
    }
   },
   "outputs": [],
   "source": [
    "## precision\n",
    "prec_avg=make_scorer(precision_score, average='macro')\n",
    "grid_search_prec_avg= GridSearchCV(estimator=dct, param_grid= params, scoring=prec_avg,cv=5, n_jobs=-1)\n",
    "grid_search_prec_avg= grid_search_prec_avg.fit(X_train, Y_train)\n",
    "y_predict= grid_search_prec_avg.best_estimator_.predict(X_test)"
   ]
  },
  {
   "cell_type": "code",
   "execution_count": 13,
   "metadata": {
    "pycharm": {
     "is_executing": false,
     "name": "#%%\n"
    }
   },
   "outputs": [
    {
     "name": "stdout",
     "output_type": "stream",
     "text": [
      "----------\n",
      "best parameters:  {'criterion': 'entropy', 'max_depth': 14}\n",
      "----------\n",
      "[[14491  4869]\n",
      " [ 2473 16853]]\n",
      "----------\n",
      "              precision    recall  f1-score   support\n",
      "\n",
      "           0       0.85      0.75      0.80     19360\n",
      "           1       0.78      0.87      0.82     19326\n",
      "\n",
      "    accuracy                           0.81     38686\n",
      "   macro avg       0.82      0.81      0.81     38686\n",
      "weighted avg       0.82      0.81      0.81     38686\n",
      "\n",
      "----------\n"
     ]
    }
   ],
   "source": [
    "## evaluating the model\n",
    "print(\"----------\")\n",
    "print('best parameters: ', grid_search_prec_avg.best_params_)\n",
    "print(\"----------\")\n",
    "print(confusion_matrix(Y_test,y_predict))\n",
    "print(\"----------\")\n",
    "print(classification_report(Y_test, y_predict))\n",
    "print(\"----------\")"
   ]
  },
  {
   "cell_type": "code",
   "execution_count": 14,
   "metadata": {
    "pycharm": {
     "is_executing": false,
     "name": "#%%\n"
    }
   },
   "outputs": [],
   "source": [
    "def plot_grid_search(cv_results, grid_param_1, grid_param_2, name_param_1, name_param_2, titre):\n",
    "    # Get Test Scores Mean and std for each grid search\n",
    "    scores_mean = cv_results['mean_test_score']\n",
    "    scores_mean = np.array(scores_mean).reshape(len(grid_param_2),len(grid_param_1))\n",
    "\n",
    "    # Plot Grid search scores\n",
    "    _, ax = plt.subplots(1,1)\n",
    "\n",
    "    # Param1 is the X-axis, Param 2 is represented as a different curve (color line)\n",
    "    for idx, val in enumerate(grid_param_2):\n",
    "        #ax.set_ylim([0.74,0.84])\n",
    "        ax.plot(grid_param_1[:-1], scores_mean[idx,:-1], '-o', label= name_param_2 + ': ' + str(val))\n",
    "        ax.plot(19, scores_mean[idx, -1:], '*', label= 'crt' + '=' + str(val) + ' & mx_dpt=None')\n",
    "        \n",
    "    ax.set_title(titre, fontsize=18, fontweight='bold')\n",
    "    ax.set_xlabel(name_param_1, fontsize=14)\n",
    "    ax.set_ylabel(titre+'[CV Avg Score]', fontsize=14)\n",
    "    ax.legend(loc=\"best\", fontsize=15)\n",
    "    ax.grid('on')"
   ]
  },
  {
   "cell_type": "code",
   "execution_count": 15,
   "metadata": {
    "pycharm": {
     "is_executing": false,
     "name": "#%%\n"
    }
   },
   "outputs": [
    {
     "data": {
      "image/png": "[encoded data removed]",
      "text/plain": [
       "<Figure size 432x288 with 1 Axes>"
      ]
     },
     "metadata": {},
     "output_type": "display_data"
    },
    {
     "data": {
      "image/png": "[encoded data removed]",
      "text/plain": [
       "<Figure size 432x288 with 1 Axes>"
      ]
     },
     "metadata": {},
     "output_type": "display_data"
    },
    {
     "data": {
      "image/png": "[encoded data removed]",
      "text/plain": [
       "<Figure size 432x288 with 1 Axes>"
      ]
     },
     "metadata": {},
     "output_type": "display_data"
    }
   ],
   "source": [
    "# Calling Method \n",
    "plot_grid_search(grid_search_acc.cv_results_, params['max_depth'], params['criterion'],  'max_depth', 'criterion', 'Accuracy')\n",
    "plot_grid_search(grid_search_rec.cv_results_, params['max_depth'], params['criterion'],  'max_depth', 'criterion', 'Recall')\n",
    "plot_grid_search(grid_search_prec_avg.cv_results_, params['max_depth'], params['criterion'], 'max_depth', 'criterion', 'Precision')\n"
   ]
  },
  {
   "cell_type": "code",
   "execution_count": 16,
   "metadata": {
    "pycharm": {
     "is_executing": false,
     "name": "#%%\n"
    }
   },
   "outputs": [],
   "source": [
    "##return index for dataframe\n",
    "def return_index_list(param1, param2):\n",
    "    list=[]\n",
    "    for p1 in param1:\n",
    "        for p2 in param2:\n",
    "            list.append('['+str(p1)+', '+str(p2)+']')\n",
    "    return list\n",
    "index= return_index_list(params['criterion'], params['max_depth'])"
   ]
  },
  {
   "cell_type": "code",
   "execution_count": 17,
   "metadata": {
    "pycharm": {
     "is_executing": false,
     "name": "#%%\n"
    }
   },
   "outputs": [],
   "source": [
    "df= pd.DataFrame({  'Accuracy': grid_search_acc.cv_results_['mean_test_score'],\n",
    "                    'Precision(Avg)': grid_search_prec_avg.cv_results_['mean_test_score'],\n",
    "                    'Recall(Avg)': grid_search_rec.cv_results_['mean_test_score'],\n",
    "                     'std_cross_validation': grid_search_acc.cv_results_['std_test_score']},\n",
    "                 index=index)\n",
    "\n",
    "writer = pd.ExcelWriter('DecitionTree.xlsx')\n",
    "df.to_excel(writer, 'DecitionTree')\n",
    "writer.save()\n",
    "writer.close()"
   ]
  },
  {
   "cell_type": "code",
   "execution_count": 18,
   "metadata": {
    "pycharm": {
     "is_executing": false,
     "name": "#%%\n"
    }
   },
   "outputs": [
    {
     "data": {
      "text/html": [
       "<div>\n",
       "<style scoped>\n",
       "    .dataframe tbody tr th:only-of-type {\n",
       "        vertical-align: middle;\n",
       "    }\n",
       "\n",
       "    .dataframe tbody tr th {\n",
       "        vertical-align: top;\n",
       "    }\n",
       "\n",
       "    .dataframe thead th {\n",
       "        text-align: right;\n",
       "    }\n",
       "</style>\n",
       "<table border=\"1\" class=\"dataframe\">\n",
       "  <thead>\n",
       "    <tr style=\"text-align: right;\">\n",
       "      <th></th>\n",
       "      <th>Accuracy</th>\n",
       "      <th>Precision(Avg)</th>\n",
       "      <th>Recall(Avg)</th>\n",
       "      <th>std_cross_validation</th>\n",
       "    </tr>\n",
       "  </thead>\n",
       "  <tbody>\n",
       "    <tr>\n",
       "      <th>[gini, 4]</th>\n",
       "      <td>0.724725</td>\n",
       "      <td>0.747669</td>\n",
       "      <td>0.724667</td>\n",
       "      <td>0.001759</td>\n",
       "    </tr>\n",
       "    <tr>\n",
       "      <th>[gini, 5]</th>\n",
       "      <td>0.728536</td>\n",
       "      <td>0.746490</td>\n",
       "      <td>0.728496</td>\n",
       "      <td>0.002188</td>\n",
       "    </tr>\n",
       "    <tr>\n",
       "      <th>[gini, 6]</th>\n",
       "      <td>0.733565</td>\n",
       "      <td>0.753737</td>\n",
       "      <td>0.733501</td>\n",
       "      <td>0.002165</td>\n",
       "    </tr>\n",
       "    <tr>\n",
       "      <th>[gini, 7]</th>\n",
       "      <td>0.737886</td>\n",
       "      <td>0.744477</td>\n",
       "      <td>0.737938</td>\n",
       "      <td>0.005764</td>\n",
       "    </tr>\n",
       "    <tr>\n",
       "      <th>[gini, 8]</th>\n",
       "      <td>0.751667</td>\n",
       "      <td>0.753545</td>\n",
       "      <td>0.751661</td>\n",
       "      <td>0.005158</td>\n",
       "    </tr>\n",
       "    <tr>\n",
       "      <th>[gini, 9]</th>\n",
       "      <td>0.765294</td>\n",
       "      <td>0.765482</td>\n",
       "      <td>0.765266</td>\n",
       "      <td>0.004926</td>\n",
       "    </tr>\n",
       "    <tr>\n",
       "      <th>[gini, 10]</th>\n",
       "      <td>0.776826</td>\n",
       "      <td>0.776921</td>\n",
       "      <td>0.776756</td>\n",
       "      <td>0.003117</td>\n",
       "    </tr>\n",
       "    <tr>\n",
       "      <th>[gini, 11]</th>\n",
       "      <td>0.786697</td>\n",
       "      <td>0.787925</td>\n",
       "      <td>0.786641</td>\n",
       "      <td>0.002442</td>\n",
       "    </tr>\n",
       "    <tr>\n",
       "      <th>[gini, 12]</th>\n",
       "      <td>0.796535</td>\n",
       "      <td>0.799705</td>\n",
       "      <td>0.796526</td>\n",
       "      <td>0.002502</td>\n",
       "    </tr>\n",
       "    <tr>\n",
       "      <th>[gini, 13]</th>\n",
       "      <td>0.803004</td>\n",
       "      <td>0.807151</td>\n",
       "      <td>0.802938</td>\n",
       "      <td>0.002911</td>\n",
       "    </tr>\n",
       "    <tr>\n",
       "      <th>[gini, 14]</th>\n",
       "      <td>0.806904</td>\n",
       "      <td>0.811158</td>\n",
       "      <td>0.806649</td>\n",
       "      <td>0.003342</td>\n",
       "    </tr>\n",
       "    <tr>\n",
       "      <th>[gini, 15]</th>\n",
       "      <td>0.805198</td>\n",
       "      <td>0.808720</td>\n",
       "      <td>0.805112</td>\n",
       "      <td>0.002338</td>\n",
       "    </tr>\n",
       "    <tr>\n",
       "      <th>[gini, 16]</th>\n",
       "      <td>0.804666</td>\n",
       "      <td>0.807520</td>\n",
       "      <td>0.804792</td>\n",
       "      <td>0.002766</td>\n",
       "    </tr>\n",
       "    <tr>\n",
       "      <th>[gini, 17]</th>\n",
       "      <td>0.801575</td>\n",
       "      <td>0.802713</td>\n",
       "      <td>0.801340</td>\n",
       "      <td>0.002703</td>\n",
       "    </tr>\n",
       "    <tr>\n",
       "      <th>[gini, None]</th>\n",
       "      <td>0.772184</td>\n",
       "      <td>0.771597</td>\n",
       "      <td>0.772818</td>\n",
       "      <td>0.002959</td>\n",
       "    </tr>\n",
       "    <tr>\n",
       "      <th>[entropy, 4]</th>\n",
       "      <td>0.724703</td>\n",
       "      <td>0.747630</td>\n",
       "      <td>0.724645</td>\n",
       "      <td>0.001774</td>\n",
       "    </tr>\n",
       "    <tr>\n",
       "      <th>[entropy, 5]</th>\n",
       "      <td>0.728491</td>\n",
       "      <td>0.746418</td>\n",
       "      <td>0.728441</td>\n",
       "      <td>0.002192</td>\n",
       "    </tr>\n",
       "    <tr>\n",
       "      <th>[entropy, 6]</th>\n",
       "      <td>0.733410</td>\n",
       "      <td>0.753604</td>\n",
       "      <td>0.733357</td>\n",
       "      <td>0.002139</td>\n",
       "    </tr>\n",
       "    <tr>\n",
       "      <th>[entropy, 7]</th>\n",
       "      <td>0.736135</td>\n",
       "      <td>0.745596</td>\n",
       "      <td>0.736152</td>\n",
       "      <td>0.003473</td>\n",
       "    </tr>\n",
       "    <tr>\n",
       "      <th>[entropy, 8]</th>\n",
       "      <td>0.750681</td>\n",
       "      <td>0.753021</td>\n",
       "      <td>0.750676</td>\n",
       "      <td>0.003607</td>\n",
       "    </tr>\n",
       "    <tr>\n",
       "      <th>[entropy, 9]</th>\n",
       "      <td>0.765039</td>\n",
       "      <td>0.765506</td>\n",
       "      <td>0.765090</td>\n",
       "      <td>0.003580</td>\n",
       "    </tr>\n",
       "    <tr>\n",
       "      <th>[entropy, 10]</th>\n",
       "      <td>0.776660</td>\n",
       "      <td>0.776851</td>\n",
       "      <td>0.776713</td>\n",
       "      <td>0.000933</td>\n",
       "    </tr>\n",
       "    <tr>\n",
       "      <th>[entropy, 11]</th>\n",
       "      <td>0.789057</td>\n",
       "      <td>0.790526</td>\n",
       "      <td>0.788977</td>\n",
       "      <td>0.001981</td>\n",
       "    </tr>\n",
       "    <tr>\n",
       "      <th>[entropy, 12]</th>\n",
       "      <td>0.799072</td>\n",
       "      <td>0.802993</td>\n",
       "      <td>0.799161</td>\n",
       "      <td>0.003173</td>\n",
       "    </tr>\n",
       "    <tr>\n",
       "      <th>[entropy, 13]</th>\n",
       "      <td>0.806649</td>\n",
       "      <td>0.812336</td>\n",
       "      <td>0.806480</td>\n",
       "      <td>0.003027</td>\n",
       "    </tr>\n",
       "    <tr>\n",
       "      <th>[entropy, 14]</th>\n",
       "      <td>0.812410</td>\n",
       "      <td>0.819910</td>\n",
       "      <td>0.812392</td>\n",
       "      <td>0.004036</td>\n",
       "    </tr>\n",
       "    <tr>\n",
       "      <th>[entropy, 15]</th>\n",
       "      <td>0.809053</td>\n",
       "      <td>0.814289</td>\n",
       "      <td>0.809008</td>\n",
       "      <td>0.004689</td>\n",
       "    </tr>\n",
       "    <tr>\n",
       "      <th>[entropy, 16]</th>\n",
       "      <td>0.806882</td>\n",
       "      <td>0.811408</td>\n",
       "      <td>0.806881</td>\n",
       "      <td>0.001799</td>\n",
       "    </tr>\n",
       "    <tr>\n",
       "      <th>[entropy, 17]</th>\n",
       "      <td>0.804910</td>\n",
       "      <td>0.807892</td>\n",
       "      <td>0.805157</td>\n",
       "      <td>0.003444</td>\n",
       "    </tr>\n",
       "    <tr>\n",
       "      <th>[entropy, None]</th>\n",
       "      <td>0.772184</td>\n",
       "      <td>0.773243</td>\n",
       "      <td>0.771223</td>\n",
       "      <td>0.000950</td>\n",
       "    </tr>\n",
       "  </tbody>\n",
       "</table>\n",
       "</div>"
      ],
      "text/plain": [
       "                 Accuracy  Precision(Avg)  Recall(Avg)  std_cross_validation\n",
       "[gini, 4]        0.724725        0.747669     0.724667              0.001759\n",
       "[gini, 5]        0.728536        0.746490     0.728496              0.002188\n",
       "[gini, 6]        0.733565        0.753737     0.733501              0.002165\n",
       "[gini, 7]        0.737886        0.744477     0.737938              0.005764\n",
       "[gini, 8]        0.751667        0.753545     0.751661              0.005158\n",
       "[gini, 9]        0.765294        0.765482     0.765266              0.004926\n",
       "[gini, 10]       0.776826        0.776921     0.776756              0.003117\n",
       "[gini, 11]       0.786697        0.787925     0.786641              0.002442\n",
       "[gini, 12]       0.796535        0.799705     0.796526              0.002502\n",
       "[gini, 13]       0.803004        0.807151     0.802938              0.002911\n",
       "[gini, 14]       0.806904        0.811158     0.806649              0.003342\n",
       "[gini, 15]       0.805198        0.808720     0.805112              0.002338\n",
       "[gini, 16]       0.804666        0.807520     0.804792              0.002766\n",
       "[gini, 17]       0.801575        0.802713     0.801340              0.002703\n",
       "[gini, None]     0.772184        0.771597     0.772818              0.002959\n",
       "[entropy, 4]     0.724703        0.747630     0.724645              0.001774\n",
       "[entropy, 5]     0.728491        0.746418     0.728441              0.002192\n",
       "[entropy, 6]     0.733410        0.753604     0.733357              0.002139\n",
       "[entropy, 7]     0.736135        0.745596     0.736152              0.003473\n",
       "[entropy, 8]     0.750681        0.753021     0.750676              0.003607\n",
       "[entropy, 9]     0.765039        0.765506     0.765090              0.003580\n",
       "[entropy, 10]    0.776660        0.776851     0.776713              0.000933\n",
       "[entropy, 11]    0.789057        0.790526     0.788977              0.001981\n",
       "[entropy, 12]    0.799072        0.802993     0.799161              0.003173\n",
       "[entropy, 13]    0.806649        0.812336     0.806480              0.003027\n",
       "[entropy, 14]    0.812410        0.819910     0.812392              0.004036\n",
       "[entropy, 15]    0.809053        0.814289     0.809008              0.004689\n",
       "[entropy, 16]    0.806882        0.811408     0.806881              0.001799\n",
       "[entropy, 17]    0.804910        0.807892     0.805157              0.003444\n",
       "[entropy, None]  0.772184        0.773243     0.771223              0.000950"
      ]
     },
     "execution_count": 18,
     "metadata": {},
     "output_type": "execute_result"
    }
   ],
   "source": [
    "df"
   ]
  }
 ],
 "metadata": {
  "kernelspec": {
   "display_name": "Python 3",
   "language": "python",
   "name": "python3"
  },
  "language_info": {
   "codemirror_mode": {
    "name": "ipython",
    "version": 3
   },
   "file_extension": ".py",
   "mimetype": "text/x-python",
   "name": "python",
   "nbconvert_exporter": "python",
   "pygments_lexer": "ipython3",
   "version": "3.5.3"
  },
  "pycharm": {
   "stem_cell": {
    "cell_type": "raw",
    "metadata": {
     "collapsed": false
    },
    "source": []
   }
  }
 },
 "nbformat": 4,
 "nbformat_minor": 1
}
