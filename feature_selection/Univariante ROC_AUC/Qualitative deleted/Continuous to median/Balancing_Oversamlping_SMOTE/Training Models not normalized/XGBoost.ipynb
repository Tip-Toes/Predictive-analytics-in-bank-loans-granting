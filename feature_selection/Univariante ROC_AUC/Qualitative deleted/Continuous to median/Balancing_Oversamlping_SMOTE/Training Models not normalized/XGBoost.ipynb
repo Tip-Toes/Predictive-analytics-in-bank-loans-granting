{
 "cells": [
  {
   "cell_type": "code",
   "execution_count": 1,
   "metadata": {},
   "outputs": [
    {
     "name": "stderr",
     "output_type": "stream",
     "text": [
      "/home/omar_totsso/.local/lib/python3.5/site-packages/xgboost/__init__.py:28: FutureWarning: Python 3.5 support is deprecated; XGBoost will require Python 3.6+ in the near future. Consider upgrading to Python 3.6+.\n",
      "  FutureWarning)\n"
     ]
    }
   ],
   "source": [
    "from pylab import rcParams\n",
    "from xgboost import XGBClassifier\n",
    "rcParams['figure.figsize'] = 10, 5\n",
    "from plot_metric.functions import BinaryClassification\n",
    "import warnings\n",
    "warnings.filterwarnings('ignore')\n",
    "import pandas as pd\n",
    "import matplotlib.pyplot as plt\n",
    "import numpy as np\n",
    "from sklearn.model_selection import GridSearchCV, train_test_split\n",
    "from sklearn.metrics import make_scorer, recall_score,precision_score, confusion_matrix,classification_report"
   ]
  },
  {
   "cell_type": "code",
   "execution_count": 2,
   "metadata": {
    "pycharm": {
     "name": "#%%\n"
    }
   },
   "outputs": [
    {
     "data": {
      "text/html": [
       "<div>\n",
       "<style scoped>\n",
       "    .dataframe tbody tr th:only-of-type {\n",
       "        vertical-align: middle;\n",
       "    }\n",
       "\n",
       "    .dataframe tbody tr th {\n",
       "        vertical-align: top;\n",
       "    }\n",
       "\n",
       "    .dataframe thead th {\n",
       "        text-align: right;\n",
       "    }\n",
       "</style>\n",
       "<table border=\"1\" class=\"dataframe\">\n",
       "  <thead>\n",
       "    <tr style=\"text-align: right;\">\n",
       "      <th></th>\n",
       "      <th>Current Loan Amount</th>\n",
       "      <th>Credit Score</th>\n",
       "      <th>Annual Income</th>\n",
       "      <th>Monthly Debt</th>\n",
       "      <th>Years of Credit History</th>\n",
       "      <th>Current Credit Balance</th>\n",
       "      <th>Maximum Open Credit</th>\n",
       "      <th>Term_Short Term</th>\n",
       "      <th>Years in current job_10+ years</th>\n",
       "      <th>Years in current job_2 years</th>\n",
       "      <th>...</th>\n",
       "      <th>Years in current job_4 years</th>\n",
       "      <th>Years in current job_5 years</th>\n",
       "      <th>Years in current job_6 years</th>\n",
       "      <th>Years in current job_7 years</th>\n",
       "      <th>Years in current job_8 years</th>\n",
       "      <th>Years in current job_9 years</th>\n",
       "      <th>Years in current job_&lt; 1 year</th>\n",
       "      <th>Home Ownership_Own Home</th>\n",
       "      <th>Home Ownership_Rent</th>\n",
       "      <th>Loan Status</th>\n",
       "    </tr>\n",
       "  </thead>\n",
       "  <tbody>\n",
       "    <tr>\n",
       "      <th>0</th>\n",
       "      <td>445412.0</td>\n",
       "      <td>709.0</td>\n",
       "      <td>1167493.0</td>\n",
       "      <td>5214.74</td>\n",
       "      <td>17.2</td>\n",
       "      <td>228190.0</td>\n",
       "      <td>416746.0</td>\n",
       "      <td>1</td>\n",
       "      <td>0</td>\n",
       "      <td>0</td>\n",
       "      <td>...</td>\n",
       "      <td>0</td>\n",
       "      <td>0</td>\n",
       "      <td>0</td>\n",
       "      <td>0</td>\n",
       "      <td>1</td>\n",
       "      <td>0</td>\n",
       "      <td>0</td>\n",
       "      <td>0</td>\n",
       "      <td>0</td>\n",
       "      <td>1</td>\n",
       "    </tr>\n",
       "    <tr>\n",
       "      <th>1</th>\n",
       "      <td>262328.0</td>\n",
       "      <td>729.0</td>\n",
       "      <td>1198700.5</td>\n",
       "      <td>33295.98</td>\n",
       "      <td>21.1</td>\n",
       "      <td>229976.0</td>\n",
       "      <td>850784.0</td>\n",
       "      <td>1</td>\n",
       "      <td>1</td>\n",
       "      <td>0</td>\n",
       "      <td>...</td>\n",
       "      <td>0</td>\n",
       "      <td>0</td>\n",
       "      <td>0</td>\n",
       "      <td>0</td>\n",
       "      <td>0</td>\n",
       "      <td>0</td>\n",
       "      <td>0</td>\n",
       "      <td>0</td>\n",
       "      <td>0</td>\n",
       "      <td>1</td>\n",
       "    </tr>\n",
       "    <tr>\n",
       "      <th>2</th>\n",
       "      <td>99999999.0</td>\n",
       "      <td>741.0</td>\n",
       "      <td>2231892.0</td>\n",
       "      <td>29200.53</td>\n",
       "      <td>14.9</td>\n",
       "      <td>297996.0</td>\n",
       "      <td>750090.0</td>\n",
       "      <td>1</td>\n",
       "      <td>0</td>\n",
       "      <td>0</td>\n",
       "      <td>...</td>\n",
       "      <td>0</td>\n",
       "      <td>0</td>\n",
       "      <td>0</td>\n",
       "      <td>0</td>\n",
       "      <td>1</td>\n",
       "      <td>0</td>\n",
       "      <td>0</td>\n",
       "      <td>1</td>\n",
       "      <td>0</td>\n",
       "      <td>1</td>\n",
       "    </tr>\n",
       "    <tr>\n",
       "      <th>3</th>\n",
       "      <td>347666.0</td>\n",
       "      <td>721.0</td>\n",
       "      <td>806949.0</td>\n",
       "      <td>8741.90</td>\n",
       "      <td>12.0</td>\n",
       "      <td>256329.0</td>\n",
       "      <td>386958.0</td>\n",
       "      <td>0</td>\n",
       "      <td>0</td>\n",
       "      <td>0</td>\n",
       "      <td>...</td>\n",
       "      <td>0</td>\n",
       "      <td>0</td>\n",
       "      <td>0</td>\n",
       "      <td>0</td>\n",
       "      <td>0</td>\n",
       "      <td>0</td>\n",
       "      <td>0</td>\n",
       "      <td>1</td>\n",
       "      <td>0</td>\n",
       "      <td>1</td>\n",
       "    </tr>\n",
       "    <tr>\n",
       "      <th>4</th>\n",
       "      <td>176220.0</td>\n",
       "      <td>729.0</td>\n",
       "      <td>1198700.5</td>\n",
       "      <td>20639.70</td>\n",
       "      <td>6.1</td>\n",
       "      <td>253460.0</td>\n",
       "      <td>427174.0</td>\n",
       "      <td>1</td>\n",
       "      <td>0</td>\n",
       "      <td>0</td>\n",
       "      <td>...</td>\n",
       "      <td>0</td>\n",
       "      <td>1</td>\n",
       "      <td>0</td>\n",
       "      <td>0</td>\n",
       "      <td>0</td>\n",
       "      <td>0</td>\n",
       "      <td>0</td>\n",
       "      <td>0</td>\n",
       "      <td>1</td>\n",
       "      <td>1</td>\n",
       "    </tr>\n",
       "  </tbody>\n",
       "</table>\n",
       "<p>5 rows × 21 columns</p>\n",
       "</div>"
      ],
      "text/plain": [
       "   Current Loan Amount  Credit Score  Annual Income  Monthly Debt  \\\n",
       "0             445412.0         709.0      1167493.0       5214.74   \n",
       "1             262328.0         729.0      1198700.5      33295.98   \n",
       "2           99999999.0         741.0      2231892.0      29200.53   \n",
       "3             347666.0         721.0       806949.0       8741.90   \n",
       "4             176220.0         729.0      1198700.5      20639.70   \n",
       "\n",
       "   Years of Credit History  Current Credit Balance  Maximum Open Credit  \\\n",
       "0                     17.2                228190.0             416746.0   \n",
       "1                     21.1                229976.0             850784.0   \n",
       "2                     14.9                297996.0             750090.0   \n",
       "3                     12.0                256329.0             386958.0   \n",
       "4                      6.1                253460.0             427174.0   \n",
       "\n",
       "   Term_Short Term  Years in current job_10+ years  \\\n",
       "0                1                               0   \n",
       "1                1                               1   \n",
       "2                1                               0   \n",
       "3                0                               0   \n",
       "4                1                               0   \n",
       "\n",
       "   Years in current job_2 years  ...  Years in current job_4 years  \\\n",
       "0                             0  ...                             0   \n",
       "1                             0  ...                             0   \n",
       "2                             0  ...                             0   \n",
       "3                             0  ...                             0   \n",
       "4                             0  ...                             0   \n",
       "\n",
       "   Years in current job_5 years  Years in current job_6 years  \\\n",
       "0                             0                             0   \n",
       "1                             0                             0   \n",
       "2                             0                             0   \n",
       "3                             0                             0   \n",
       "4                             1                             0   \n",
       "\n",
       "   Years in current job_7 years  Years in current job_8 years  \\\n",
       "0                             0                             1   \n",
       "1                             0                             0   \n",
       "2                             0                             1   \n",
       "3                             0                             0   \n",
       "4                             0                             0   \n",
       "\n",
       "   Years in current job_9 years  Years in current job_< 1 year  \\\n",
       "0                             0                              0   \n",
       "1                             0                              0   \n",
       "2                             0                              0   \n",
       "3                             0                              0   \n",
       "4                             0                              0   \n",
       "\n",
       "   Home Ownership_Own Home  Home Ownership_Rent  Loan Status  \n",
       "0                        0                    0            1  \n",
       "1                        0                    0            1  \n",
       "2                        1                    0            1  \n",
       "3                        1                    0            1  \n",
       "4                        0                    1            1  \n",
       "\n",
       "[5 rows x 21 columns]"
      ]
     },
     "execution_count": 2,
     "metadata": {},
     "output_type": "execute_result"
    }
   ],
   "source": [
    "data= pd.read_csv('../data.csv')\n",
    "data.head()"
   ]
  },
  {
   "cell_type": "code",
   "execution_count": 3,
   "metadata": {
    "pycharm": {
     "name": "#%%\n"
    }
   },
   "outputs": [
    {
     "data": {
      "text/plain": [
       "Current Loan Amount               float64\n",
       "Credit Score                      float64\n",
       "Annual Income                     float64\n",
       "Monthly Debt                      float64\n",
       "Years of Credit History           float64\n",
       "Current Credit Balance            float64\n",
       "Maximum Open Credit               float64\n",
       "Term_Short Term                     int64\n",
       "Years in current job_10+ years      int64\n",
       "Years in current job_2 years        int64\n",
       "Years in current job_3 years        int64\n",
       "Years in current job_4 years        int64\n",
       "Years in current job_5 years        int64\n",
       "Years in current job_6 years        int64\n",
       "Years in current job_7 years        int64\n",
       "Years in current job_8 years        int64\n",
       "Years in current job_9 years        int64\n",
       "Years in current job_< 1 year       int64\n",
       "Home Ownership_Own Home             int64\n",
       "Home Ownership_Rent                 int64\n",
       "Loan Status                         int64\n",
       "dtype: object"
      ]
     },
     "execution_count": 3,
     "metadata": {},
     "output_type": "execute_result"
    }
   ],
   "source": [
    "data.dtypes"
   ]
  },
  {
   "cell_type": "code",
   "execution_count": 4,
   "metadata": {
    "pycharm": {
     "name": "#%%\n"
    }
   },
   "outputs": [],
   "source": [
    "##copying data\n",
    "data1=data.copy()"
   ]
  },
  {
   "cell_type": "markdown",
   "metadata": {},
   "source": [
    "### spliting data en X et Y"
   ]
  },
  {
   "cell_type": "code",
   "execution_count": 5,
   "metadata": {
    "pycharm": {
     "name": "#%%\n"
    }
   },
   "outputs": [],
   "source": [
    "X= data1.drop('Loan Status', axis=1)\n",
    "Y= data1['Loan Status']"
   ]
  },
  {
   "cell_type": "markdown",
   "metadata": {},
   "source": [
    "### spliting the data to train and test"
   ]
  },
  {
   "cell_type": "code",
   "execution_count": 6,
   "metadata": {
    "pycharm": {
     "name": "#%%\n"
    }
   },
   "outputs": [],
   "source": [
    "X_train , X_test , Y_train , Y_test = train_test_split(X, Y, test_size = 0.30, random_state = 123)"
   ]
  },
  {
   "cell_type": "markdown",
   "metadata": {},
   "source": [
    "### XGBoost"
   ]
  },
  {
   "cell_type": "code",
   "execution_count": 7,
   "metadata": {
    "pycharm": {
     "name": "#%%\n"
    }
   },
   "outputs": [],
   "source": [
    "## converting Y_train & X_test & Y_train & Y_test to numpy array pour XGBoost\n",
    "X_train = X_train.values\n",
    "X_test = X_test.values\n",
    "Y_train = Y_train.values\n",
    "Y_test = Y_test.values"
   ]
  },
  {
   "cell_type": "code",
   "execution_count": 8,
   "metadata": {
    "pycharm": {
     "name": "#%%\n"
    }
   },
   "outputs": [],
   "source": [
    "xgb= XGBClassifier()\n",
    "params= {\n",
    "        'max_depth': [5, 6, 7, 8, 9, 10, 11, 12, 13,14],\n",
    "        'n_estimators' : [100, 300, 500, 800]\n",
    "        }\n",
    "\n",
    "##accuracy\n",
    "grid_search_acc= GridSearchCV(estimator=xgb, param_grid= params, scoring='accuracy',cv=2, n_jobs=-1)\n",
    "grid_search_acc= grid_search_acc.fit(X_train, Y_train)\n",
    "y_predict= grid_search_acc.best_estimator_.predict(X_test)"
   ]
  },
  {
   "cell_type": "code",
   "execution_count": 9,
   "metadata": {
    "pycharm": {
     "name": "#%%\n"
    }
   },
   "outputs": [
    {
     "name": "stdout",
     "output_type": "stream",
     "text": [
      "----------\n",
      "best parameters:  {'max_depth': 6, 'n_estimators': 500}\n",
      "----------\n",
      "[[15209  4151]\n",
      " [ 1857 17469]]\n",
      "----------\n",
      "              precision    recall  f1-score   support\n",
      "\n",
      "           0       0.89      0.79      0.84     19360\n",
      "           1       0.81      0.90      0.85     19326\n",
      "\n",
      "    accuracy                           0.84     38686\n",
      "   macro avg       0.85      0.84      0.84     38686\n",
      "weighted avg       0.85      0.84      0.84     38686\n",
      "\n",
      "----------\n"
     ]
    },
    {
     "data": {
      "image/png": "[encoded data removed]",
      "text/plain": [
       "<Figure size 504x432 with 1 Axes>"
      ]
     },
     "metadata": {},
     "output_type": "display_data"
    }
   ],
   "source": [
    "## evaluating the model\n",
    "print(\"----------\")\n",
    "print('best parameters: ', grid_search_acc.best_params_)\n",
    "print(\"----------\")\n",
    "print(confusion_matrix(Y_test,y_predict))\n",
    "print(\"----------\")\n",
    "print(classification_report(Y_test, y_predict))\n",
    "print(\"----------\")\n",
    "\n",
    "##ROC\n",
    "y_predict_proba = grid_search_acc.best_estimator_.predict_proba(X_test)[:,1]\n",
    "\n",
    "# Visualisation with plot_metric\n",
    "bc = BinaryClassification(Y_test, y_predict_proba, labels=[1, 0])\n",
    "# Figures\n",
    "plt.figure(figsize=(7,6))\n",
    "bc.plot_roc_curve()\n",
    "plt.title('ROC curve')\n",
    "plt.show()"
   ]
  },
  {
   "cell_type": "code",
   "execution_count": 10,
   "metadata": {
    "pycharm": {
     "name": "#%%\n"
    }
   },
   "outputs": [],
   "source": [
    "## Recall\n",
    "rec_avg=make_scorer(recall_score, average='macro')\n",
    "grid_search_rec= GridSearchCV(estimator=xgb, param_grid= params, scoring=rec_avg,cv=2, n_jobs=-1)\n",
    "grid_search_rec= grid_search_rec.fit(X_train, Y_train)\n",
    "y_predict= grid_search_rec.best_estimator_.predict(X_test)"
   ]
  },
  {
   "cell_type": "code",
   "execution_count": 11,
   "metadata": {
    "pycharm": {
     "name": "#%%\n"
    }
   },
   "outputs": [
    {
     "name": "stdout",
     "output_type": "stream",
     "text": [
      "----------\n",
      "best parameters:  {'max_depth': 6, 'n_estimators': 500}\n",
      "----------\n",
      "[[15209  4151]\n",
      " [ 1857 17469]]\n",
      "----------\n",
      "              precision    recall  f1-score   support\n",
      "\n",
      "           0       0.89      0.79      0.84     19360\n",
      "           1       0.81      0.90      0.85     19326\n",
      "\n",
      "    accuracy                           0.84     38686\n",
      "   macro avg       0.85      0.84      0.84     38686\n",
      "weighted avg       0.85      0.84      0.84     38686\n",
      "\n",
      "----------\n"
     ]
    }
   ],
   "source": [
    "## evaluating the model\n",
    "print(\"----------\")\n",
    "print('best parameters: ', grid_search_rec.best_params_)\n",
    "print(\"----------\")\n",
    "print(confusion_matrix(Y_test,y_predict))\n",
    "print(\"----------\")\n",
    "print(classification_report(Y_test, y_predict))\n",
    "print(\"----------\")"
   ]
  },
  {
   "cell_type": "code",
   "execution_count": 12,
   "metadata": {
    "pycharm": {
     "name": "#%%\n"
    }
   },
   "outputs": [],
   "source": [
    "## precision\n",
    "prec_avg=make_scorer(precision_score, average='macro')\n",
    "grid_search_prec_avg= GridSearchCV(estimator=xgb, param_grid= params, scoring=prec_avg,cv=2, n_jobs=-1)\n",
    "grid_search_prec_avg= grid_search_prec_avg.fit(X_train, Y_train)\n",
    "y_predict= grid_search_prec_avg.best_estimator_.predict(X_test)"
   ]
  },
  {
   "cell_type": "code",
   "execution_count": 13,
   "metadata": {
    "pycharm": {
     "name": "#%%\n"
    }
   },
   "outputs": [
    {
     "name": "stdout",
     "output_type": "stream",
     "text": [
      "----------\n",
      "best parameters:  {'max_depth': 6, 'n_estimators': 500}\n",
      "----------\n",
      "[[15209  4151]\n",
      " [ 1857 17469]]\n",
      "----------\n",
      "              precision    recall  f1-score   support\n",
      "\n",
      "           0       0.89      0.79      0.84     19360\n",
      "           1       0.81      0.90      0.85     19326\n",
      "\n",
      "    accuracy                           0.84     38686\n",
      "   macro avg       0.85      0.84      0.84     38686\n",
      "weighted avg       0.85      0.84      0.84     38686\n",
      "\n",
      "----------\n"
     ]
    }
   ],
   "source": [
    "## evaluating the model\n",
    "print(\"----------\")\n",
    "print('best parameters: ', grid_search_prec_avg.best_params_)\n",
    "print(\"----------\")\n",
    "print(confusion_matrix(Y_test,y_predict))\n",
    "print(\"----------\")\n",
    "print(classification_report(Y_test, y_predict))\n",
    "print(\"----------\")"
   ]
  },
  {
   "cell_type": "code",
   "execution_count": 14,
   "metadata": {
    "pycharm": {
     "name": "#%%\n"
    }
   },
   "outputs": [],
   "source": [
    "def plot_grid_search(cv_results, grid_param_1, grid_param_2, name_param_1, name_param_2, titre):\n",
    "    # Get Test Scores Mean and std for each grid search\n",
    "    scores_mean = cv_results['mean_test_score']\n",
    "    scores_mean = np.array(scores_mean).reshape(len(grid_param_1), len(grid_param_2))\n",
    "    scores_mean= scores_mean.T\n",
    "    # Plot Grid search scores\n",
    "    _, ax = plt.subplots(1,1)\n",
    "\n",
    "    # Param1 is the X-axis, Param 2 is represented as a different curve (color line)\n",
    "    for idx, val in enumerate(grid_param_2):\n",
    "        #ax.set_ylim([0.845,0.867])\n",
    "        ax.plot(grid_param_1, scores_mean[idx,:], '-o', label= name_param_2 + ': ' + str(val))\n",
    "        #ax.plot(19, scores_mean[idx, -1:], '*', label= 'crt' + '=' + str(val) + ' & mx_dpt=None')\n",
    "        \n",
    "    ax.set_title(titre, fontsize=18, fontweight='bold')\n",
    "    ax.set_xlabel(name_param_1, fontsize=14)\n",
    "    ax.set_ylabel(titre+'[CV Avg Score]', fontsize=14)\n",
    "    ax.legend(loc=\"best\", fontsize=15)\n",
    "    ax.grid('on')"
   ]
  },
  {
   "cell_type": "code",
   "execution_count": 15,
   "metadata": {
    "pycharm": {
     "name": "#%%\n"
    }
   },
   "outputs": [
    {
     "data": {
      "image/png": "[encoded data removed]",
      "text/plain": [
       "<Figure size 432x288 with 1 Axes>"
      ]
     },
     "metadata": {},
     "output_type": "display_data"
    },
    {
     "data": {
      "image/png": "[encoded data removed]",
      "text/plain": [
       "<Figure size 432x288 with 1 Axes>"
      ]
     },
     "metadata": {},
     "output_type": "display_data"
    },
    {
     "data": {
      "image/png": "[encoded data removed]",
      "text/plain": [
       "<Figure size 432x288 with 1 Axes>"
      ]
     },
     "metadata": {},
     "output_type": "display_data"
    }
   ],
   "source": [
    "# Calling Method \n",
    "plot_grid_search(grid_search_acc.cv_results_, params['max_depth'], params['n_estimators'],  'max_depth', 'n_estimators', 'Accuracy')\n",
    "plot_grid_search(grid_search_rec.cv_results_, params['max_depth'], params['n_estimators'],  'max_depth', 'n_estimators', 'Recall')\n",
    "plot_grid_search(grid_search_prec_avg.cv_results_, params['max_depth'], params['n_estimators'], 'max_depth', 'n_estimators', 'Precision')\n"
   ]
  },
  {
   "cell_type": "code",
   "execution_count": 16,
   "metadata": {
    "pycharm": {
     "name": "#%%\n"
    }
   },
   "outputs": [],
   "source": [
    "##return index for dataframe\n",
    "def return_index_list(param1, param2):\n",
    "    list=[]\n",
    "    for p1 in param1:\n",
    "        for p2 in param2:\n",
    "            list.append('['+str(p1)+', '+str(p2)+']')\n",
    "    return list\n",
    "index= return_index_list(params['max_depth'], params['n_estimators'])"
   ]
  },
  {
   "cell_type": "code",
   "execution_count": 17,
   "metadata": {
    "pycharm": {
     "name": "#%%        \n"
    }
   },
   "outputs": [],
   "source": [
    "df= pd.DataFrame({  'Accuracy': grid_search_acc.cv_results_['mean_test_score'],\n",
    "                    'Precision(Avg)': grid_search_prec_avg.cv_results_['mean_test_score'],\n",
    "                    'Recall(Avg)': grid_search_rec.cv_results_['mean_test_score'],\n",
    "                     'std_cross_validation': grid_search_acc.cv_results_['std_test_score']},\n",
    "                 index=index)\n",
    "        \n",
    "## to excel\n",
    "writer = pd.ExcelWriter('XGBoost.xlsx')\n",
    "df.to_excel(writer, 'XGboost')\n",
    "writer.save()\n",
    "writer.close()"
   ]
  },
  {
   "cell_type": "code",
   "execution_count": 18,
   "metadata": {
    "pycharm": {
     "name": "#%%\n"
    }
   },
   "outputs": [
    {
     "data": {
      "text/html": [
       "<div>\n",
       "<style scoped>\n",
       "    .dataframe tbody tr th:only-of-type {\n",
       "        vertical-align: middle;\n",
       "    }\n",
       "\n",
       "    .dataframe tbody tr th {\n",
       "        vertical-align: top;\n",
       "    }\n",
       "\n",
       "    .dataframe thead th {\n",
       "        text-align: right;\n",
       "    }\n",
       "</style>\n",
       "<table border=\"1\" class=\"dataframe\">\n",
       "  <thead>\n",
       "    <tr style=\"text-align: right;\">\n",
       "      <th></th>\n",
       "      <th>Accuracy</th>\n",
       "      <th>Precision(Avg)</th>\n",
       "      <th>Recall(Avg)</th>\n",
       "      <th>std_cross_validation</th>\n",
       "    </tr>\n",
       "  </thead>\n",
       "  <tbody>\n",
       "    <tr>\n",
       "      <th>[5, 100]</th>\n",
       "      <td>0.823954</td>\n",
       "      <td>0.830181</td>\n",
       "      <td>0.823928</td>\n",
       "      <td>0.001629</td>\n",
       "    </tr>\n",
       "    <tr>\n",
       "      <th>[5, 300]</th>\n",
       "      <td>0.831177</td>\n",
       "      <td>0.835739</td>\n",
       "      <td>0.831155</td>\n",
       "      <td>0.002448</td>\n",
       "    </tr>\n",
       "    <tr>\n",
       "      <th>[5, 500]</th>\n",
       "      <td>0.832163</td>\n",
       "      <td>0.835944</td>\n",
       "      <td>0.832143</td>\n",
       "      <td>0.002969</td>\n",
       "    </tr>\n",
       "    <tr>\n",
       "      <th>[5, 800]</th>\n",
       "      <td>0.832495</td>\n",
       "      <td>0.835758</td>\n",
       "      <td>0.832477</td>\n",
       "      <td>0.001728</td>\n",
       "    </tr>\n",
       "    <tr>\n",
       "      <th>[6, 100]</th>\n",
       "      <td>0.827454</td>\n",
       "      <td>0.833138</td>\n",
       "      <td>0.827430</td>\n",
       "      <td>0.000986</td>\n",
       "    </tr>\n",
       "    <tr>\n",
       "      <th>[6, 300]</th>\n",
       "      <td>0.832573</td>\n",
       "      <td>0.836647</td>\n",
       "      <td>0.832552</td>\n",
       "      <td>0.002338</td>\n",
       "    </tr>\n",
       "    <tr>\n",
       "      <th>[6, 500]</th>\n",
       "      <td>0.833991</td>\n",
       "      <td>0.837456</td>\n",
       "      <td>0.833972</td>\n",
       "      <td>0.000720</td>\n",
       "    </tr>\n",
       "    <tr>\n",
       "      <th>[6, 800]</th>\n",
       "      <td>0.833802</td>\n",
       "      <td>0.836878</td>\n",
       "      <td>0.833784</td>\n",
       "      <td>0.000798</td>\n",
       "    </tr>\n",
       "    <tr>\n",
       "      <th>[7, 100]</th>\n",
       "      <td>0.828751</td>\n",
       "      <td>0.833878</td>\n",
       "      <td>0.828727</td>\n",
       "      <td>0.001152</td>\n",
       "    </tr>\n",
       "    <tr>\n",
       "      <th>[7, 300]</th>\n",
       "      <td>0.832196</td>\n",
       "      <td>0.835948</td>\n",
       "      <td>0.832176</td>\n",
       "      <td>0.002072</td>\n",
       "    </tr>\n",
       "    <tr>\n",
       "      <th>[7, 500]</th>\n",
       "      <td>0.832916</td>\n",
       "      <td>0.836152</td>\n",
       "      <td>0.832898</td>\n",
       "      <td>0.001086</td>\n",
       "    </tr>\n",
       "    <tr>\n",
       "      <th>[7, 800]</th>\n",
       "      <td>0.833138</td>\n",
       "      <td>0.836224</td>\n",
       "      <td>0.833120</td>\n",
       "      <td>0.000487</td>\n",
       "    </tr>\n",
       "    <tr>\n",
       "      <th>[8, 100]</th>\n",
       "      <td>0.827155</td>\n",
       "      <td>0.831522</td>\n",
       "      <td>0.827134</td>\n",
       "      <td>0.000310</td>\n",
       "    </tr>\n",
       "    <tr>\n",
       "      <th>[8, 300]</th>\n",
       "      <td>0.832517</td>\n",
       "      <td>0.835824</td>\n",
       "      <td>0.832499</td>\n",
       "      <td>0.000421</td>\n",
       "    </tr>\n",
       "    <tr>\n",
       "      <th>[8, 500]</th>\n",
       "      <td>0.833016</td>\n",
       "      <td>0.836074</td>\n",
       "      <td>0.832998</td>\n",
       "      <td>0.000033</td>\n",
       "    </tr>\n",
       "    <tr>\n",
       "      <th>[8, 800]</th>\n",
       "      <td>0.833503</td>\n",
       "      <td>0.836452</td>\n",
       "      <td>0.833486</td>\n",
       "      <td>0.000388</td>\n",
       "    </tr>\n",
       "    <tr>\n",
       "      <th>[9, 100]</th>\n",
       "      <td>0.829183</td>\n",
       "      <td>0.833239</td>\n",
       "      <td>0.829162</td>\n",
       "      <td>0.001872</td>\n",
       "    </tr>\n",
       "    <tr>\n",
       "      <th>[9, 300]</th>\n",
       "      <td>0.832916</td>\n",
       "      <td>0.836061</td>\n",
       "      <td>0.832898</td>\n",
       "      <td>0.000709</td>\n",
       "    </tr>\n",
       "    <tr>\n",
       "      <th>[9, 500]</th>\n",
       "      <td>0.832872</td>\n",
       "      <td>0.835709</td>\n",
       "      <td>0.832854</td>\n",
       "      <td>0.000487</td>\n",
       "    </tr>\n",
       "    <tr>\n",
       "      <th>[9, 800]</th>\n",
       "      <td>0.832362</td>\n",
       "      <td>0.835098</td>\n",
       "      <td>0.832345</td>\n",
       "      <td>0.000532</td>\n",
       "    </tr>\n",
       "    <tr>\n",
       "      <th>[10, 100]</th>\n",
       "      <td>0.832307</td>\n",
       "      <td>0.836608</td>\n",
       "      <td>0.832285</td>\n",
       "      <td>0.000299</td>\n",
       "    </tr>\n",
       "    <tr>\n",
       "      <th>[10, 300]</th>\n",
       "      <td>0.833104</td>\n",
       "      <td>0.836340</td>\n",
       "      <td>0.833086</td>\n",
       "      <td>0.001185</td>\n",
       "    </tr>\n",
       "    <tr>\n",
       "      <th>[10, 500]</th>\n",
       "      <td>0.832573</td>\n",
       "      <td>0.835580</td>\n",
       "      <td>0.832555</td>\n",
       "      <td>0.000233</td>\n",
       "    </tr>\n",
       "    <tr>\n",
       "      <th>[10, 800]</th>\n",
       "      <td>0.831387</td>\n",
       "      <td>0.834228</td>\n",
       "      <td>0.831370</td>\n",
       "      <td>0.000155</td>\n",
       "    </tr>\n",
       "    <tr>\n",
       "      <th>[11, 100]</th>\n",
       "      <td>0.830567</td>\n",
       "      <td>0.834274</td>\n",
       "      <td>0.830548</td>\n",
       "      <td>0.001108</td>\n",
       "    </tr>\n",
       "    <tr>\n",
       "      <th>[11, 300]</th>\n",
       "      <td>0.832096</td>\n",
       "      <td>0.835183</td>\n",
       "      <td>0.832078</td>\n",
       "      <td>0.000399</td>\n",
       "    </tr>\n",
       "    <tr>\n",
       "      <th>[11, 500]</th>\n",
       "      <td>0.832152</td>\n",
       "      <td>0.835038</td>\n",
       "      <td>0.832134</td>\n",
       "      <td>0.000233</td>\n",
       "    </tr>\n",
       "    <tr>\n",
       "      <th>[11, 800]</th>\n",
       "      <td>0.831354</td>\n",
       "      <td>0.834018</td>\n",
       "      <td>0.831337</td>\n",
       "      <td>0.000188</td>\n",
       "    </tr>\n",
       "    <tr>\n",
       "      <th>[12, 100]</th>\n",
       "      <td>0.829205</td>\n",
       "      <td>0.832796</td>\n",
       "      <td>0.829185</td>\n",
       "      <td>0.000742</td>\n",
       "    </tr>\n",
       "    <tr>\n",
       "      <th>[12, 300]</th>\n",
       "      <td>0.833248</td>\n",
       "      <td>0.836450</td>\n",
       "      <td>0.833230</td>\n",
       "      <td>0.000576</td>\n",
       "    </tr>\n",
       "    <tr>\n",
       "      <th>[12, 500]</th>\n",
       "      <td>0.832340</td>\n",
       "      <td>0.835283</td>\n",
       "      <td>0.832322</td>\n",
       "      <td>0.000687</td>\n",
       "    </tr>\n",
       "    <tr>\n",
       "      <th>[12, 800]</th>\n",
       "      <td>0.831432</td>\n",
       "      <td>0.834132</td>\n",
       "      <td>0.831415</td>\n",
       "      <td>0.000355</td>\n",
       "    </tr>\n",
       "    <tr>\n",
       "      <th>[13, 100]</th>\n",
       "      <td>0.832285</td>\n",
       "      <td>0.836003</td>\n",
       "      <td>0.832265</td>\n",
       "      <td>0.001185</td>\n",
       "    </tr>\n",
       "    <tr>\n",
       "      <th>[13, 300]</th>\n",
       "      <td>0.833392</td>\n",
       "      <td>0.836692</td>\n",
       "      <td>0.833374</td>\n",
       "      <td>0.000875</td>\n",
       "    </tr>\n",
       "    <tr>\n",
       "      <th>[13, 500]</th>\n",
       "      <td>0.832107</td>\n",
       "      <td>0.835141</td>\n",
       "      <td>0.832089</td>\n",
       "      <td>0.000720</td>\n",
       "    </tr>\n",
       "    <tr>\n",
       "      <th>[13, 800]</th>\n",
       "      <td>0.831720</td>\n",
       "      <td>0.834528</td>\n",
       "      <td>0.831702</td>\n",
       "      <td>0.000332</td>\n",
       "    </tr>\n",
       "    <tr>\n",
       "      <th>[14, 100]</th>\n",
       "      <td>0.832373</td>\n",
       "      <td>0.836134</td>\n",
       "      <td>0.832353</td>\n",
       "      <td>0.000299</td>\n",
       "    </tr>\n",
       "    <tr>\n",
       "      <th>[14, 300]</th>\n",
       "      <td>0.832761</td>\n",
       "      <td>0.836088</td>\n",
       "      <td>0.832742</td>\n",
       "      <td>0.000066</td>\n",
       "    </tr>\n",
       "    <tr>\n",
       "      <th>[14, 500]</th>\n",
       "      <td>0.832185</td>\n",
       "      <td>0.835206</td>\n",
       "      <td>0.832167</td>\n",
       "      <td>0.000266</td>\n",
       "    </tr>\n",
       "    <tr>\n",
       "      <th>[14, 800]</th>\n",
       "      <td>0.831841</td>\n",
       "      <td>0.834589</td>\n",
       "      <td>0.831824</td>\n",
       "      <td>0.000476</td>\n",
       "    </tr>\n",
       "  </tbody>\n",
       "</table>\n",
       "</div>"
      ],
      "text/plain": [
       "           Accuracy  Precision(Avg)  Recall(Avg)  std_cross_validation\n",
       "[5, 100]   0.823954        0.830181     0.823928              0.001629\n",
       "[5, 300]   0.831177        0.835739     0.831155              0.002448\n",
       "[5, 500]   0.832163        0.835944     0.832143              0.002969\n",
       "[5, 800]   0.832495        0.835758     0.832477              0.001728\n",
       "[6, 100]   0.827454        0.833138     0.827430              0.000986\n",
       "[6, 300]   0.832573        0.836647     0.832552              0.002338\n",
       "[6, 500]   0.833991        0.837456     0.833972              0.000720\n",
       "[6, 800]   0.833802        0.836878     0.833784              0.000798\n",
       "[7, 100]   0.828751        0.833878     0.828727              0.001152\n",
       "[7, 300]   0.832196        0.835948     0.832176              0.002072\n",
       "[7, 500]   0.832916        0.836152     0.832898              0.001086\n",
       "[7, 800]   0.833138        0.836224     0.833120              0.000487\n",
       "[8, 100]   0.827155        0.831522     0.827134              0.000310\n",
       "[8, 300]   0.832517        0.835824     0.832499              0.000421\n",
       "[8, 500]   0.833016        0.836074     0.832998              0.000033\n",
       "[8, 800]   0.833503        0.836452     0.833486              0.000388\n",
       "[9, 100]   0.829183        0.833239     0.829162              0.001872\n",
       "[9, 300]   0.832916        0.836061     0.832898              0.000709\n",
       "[9, 500]   0.832872        0.835709     0.832854              0.000487\n",
       "[9, 800]   0.832362        0.835098     0.832345              0.000532\n",
       "[10, 100]  0.832307        0.836608     0.832285              0.000299\n",
       "[10, 300]  0.833104        0.836340     0.833086              0.001185\n",
       "[10, 500]  0.832573        0.835580     0.832555              0.000233\n",
       "[10, 800]  0.831387        0.834228     0.831370              0.000155\n",
       "[11, 100]  0.830567        0.834274     0.830548              0.001108\n",
       "[11, 300]  0.832096        0.835183     0.832078              0.000399\n",
       "[11, 500]  0.832152        0.835038     0.832134              0.000233\n",
       "[11, 800]  0.831354        0.834018     0.831337              0.000188\n",
       "[12, 100]  0.829205        0.832796     0.829185              0.000742\n",
       "[12, 300]  0.833248        0.836450     0.833230              0.000576\n",
       "[12, 500]  0.832340        0.835283     0.832322              0.000687\n",
       "[12, 800]  0.831432        0.834132     0.831415              0.000355\n",
       "[13, 100]  0.832285        0.836003     0.832265              0.001185\n",
       "[13, 300]  0.833392        0.836692     0.833374              0.000875\n",
       "[13, 500]  0.832107        0.835141     0.832089              0.000720\n",
       "[13, 800]  0.831720        0.834528     0.831702              0.000332\n",
       "[14, 100]  0.832373        0.836134     0.832353              0.000299\n",
       "[14, 300]  0.832761        0.836088     0.832742              0.000066\n",
       "[14, 500]  0.832185        0.835206     0.832167              0.000266\n",
       "[14, 800]  0.831841        0.834589     0.831824              0.000476"
      ]
     },
     "execution_count": 18,
     "metadata": {},
     "output_type": "execute_result"
    }
   ],
   "source": [
    "df"
   ]
  },
  {
   "cell_type": "code",
   "execution_count": 19,
   "metadata": {
    "pycharm": {
     "name": "#%%\n"
    }
   },
   "outputs": [
    {
     "data": {
      "text/plain": [
       "{'mean_fit_time': array([ 65.04177403, 183.99625242, 308.92419255, 466.15847802,\n",
       "         75.126647  , 226.58615887, 361.44281304, 547.9902401 ,\n",
       "         88.09168172, 248.66812468, 388.89439261, 592.73098171,\n",
       "         94.77053905, 271.24403179, 409.58106434, 557.37066734,\n",
       "        109.45254564, 259.76752698, 392.0727638 , 486.75037563,\n",
       "         95.14726484, 249.63492393, 321.37886536, 427.94688141,\n",
       "         78.83437884, 185.43635619, 280.73268044, 453.88619983,\n",
       "         63.01162148, 176.24734902, 303.78422463, 598.8268528 ,\n",
       "         64.94048238, 202.93370044, 401.66915011, 739.27305305,\n",
       "         70.66682315, 307.82479703, 568.18053305, 861.5531801 ]),\n",
       " 'mean_score_time': array([ 1.47693479,  4.10541666,  6.33117259,  9.86342287,  1.61071086,\n",
       "         5.46506703,  7.77710068, 13.52484691,  2.18742192,  5.23037994,\n",
       "         9.74694562, 12.35061669,  2.2223531 ,  5.87222052,  9.13388944,\n",
       "        13.45966303,  2.6528939 ,  6.06393528,  8.51267755, 16.65149605,\n",
       "         2.45472097,  5.38975441,  8.24196637, 21.43137968,  1.74974132,\n",
       "         4.94717634, 10.81176794, 38.41099799,  1.62246966,  6.50548458,\n",
       "        23.05521154, 69.26394069,  1.69575143, 11.40407443, 36.30909669,\n",
       "        59.16924655,  2.1700424 , 14.69817638, 38.30135942, 47.28305686]),\n",
       " 'mean_test_score': array([0.82395365, 0.83117674, 0.83216272, 0.83249507, 0.82745441,\n",
       "        0.83257262, 0.83399065, 0.83380232, 0.82875058, 0.83219595,\n",
       "        0.83291605, 0.83313762, 0.8271553 , 0.83251723, 0.83301575,\n",
       "        0.8335032 , 0.82918264, 0.83291605, 0.83287173, 0.83236213,\n",
       "        0.83230674, 0.83310438, 0.83257262, 0.83138723, 0.83056743,\n",
       "        0.83209625, 0.83215164, 0.831354  , 0.82920479, 0.8332484 ,\n",
       "        0.83233997, 0.83143155, 0.83228458, 0.83339242, 0.83210733,\n",
       "        0.83171958, 0.83237321, 0.83276095, 0.83218488, 0.83184145]),\n",
       " 'param_max_depth': masked_array(data=[5, 5, 5, 5, 6, 6, 6, 6, 7, 7, 7, 7, 8, 8, 8, 8, 9, 9,\n",
       "                    9, 9, 10, 10, 10, 10, 11, 11, 11, 11, 12, 12, 12, 12,\n",
       "                    13, 13, 13, 13, 14, 14, 14, 14],\n",
       "              mask=[False, False, False, False, False, False, False, False,\n",
       "                    False, False, False, False, False, False, False, False,\n",
       "                    False, False, False, False, False, False, False, False,\n",
       "                    False, False, False, False, False, False, False, False,\n",
       "                    False, False, False, False, False, False, False, False],\n",
       "        fill_value='?',\n",
       "             dtype=object),\n",
       " 'param_n_estimators': masked_array(data=[100, 300, 500, 800, 100, 300, 500, 800, 100, 300, 500,\n",
       "                    800, 100, 300, 500, 800, 100, 300, 500, 800, 100, 300,\n",
       "                    500, 800, 100, 300, 500, 800, 100, 300, 500, 800, 100,\n",
       "                    300, 500, 800, 100, 300, 500, 800],\n",
       "              mask=[False, False, False, False, False, False, False, False,\n",
       "                    False, False, False, False, False, False, False, False,\n",
       "                    False, False, False, False, False, False, False, False,\n",
       "                    False, False, False, False, False, False, False, False,\n",
       "                    False, False, False, False, False, False, False, False],\n",
       "        fill_value='?',\n",
       "             dtype=object),\n",
       " 'params': [{'max_depth': 5, 'n_estimators': 100},\n",
       "  {'max_depth': 5, 'n_estimators': 300},\n",
       "  {'max_depth': 5, 'n_estimators': 500},\n",
       "  {'max_depth': 5, 'n_estimators': 800},\n",
       "  {'max_depth': 6, 'n_estimators': 100},\n",
       "  {'max_depth': 6, 'n_estimators': 300},\n",
       "  {'max_depth': 6, 'n_estimators': 500},\n",
       "  {'max_depth': 6, 'n_estimators': 800},\n",
       "  {'max_depth': 7, 'n_estimators': 100},\n",
       "  {'max_depth': 7, 'n_estimators': 300},\n",
       "  {'max_depth': 7, 'n_estimators': 500},\n",
       "  {'max_depth': 7, 'n_estimators': 800},\n",
       "  {'max_depth': 8, 'n_estimators': 100},\n",
       "  {'max_depth': 8, 'n_estimators': 300},\n",
       "  {'max_depth': 8, 'n_estimators': 500},\n",
       "  {'max_depth': 8, 'n_estimators': 800},\n",
       "  {'max_depth': 9, 'n_estimators': 100},\n",
       "  {'max_depth': 9, 'n_estimators': 300},\n",
       "  {'max_depth': 9, 'n_estimators': 500},\n",
       "  {'max_depth': 9, 'n_estimators': 800},\n",
       "  {'max_depth': 10, 'n_estimators': 100},\n",
       "  {'max_depth': 10, 'n_estimators': 300},\n",
       "  {'max_depth': 10, 'n_estimators': 500},\n",
       "  {'max_depth': 10, 'n_estimators': 800},\n",
       "  {'max_depth': 11, 'n_estimators': 100},\n",
       "  {'max_depth': 11, 'n_estimators': 300},\n",
       "  {'max_depth': 11, 'n_estimators': 500},\n",
       "  {'max_depth': 11, 'n_estimators': 800},\n",
       "  {'max_depth': 12, 'n_estimators': 100},\n",
       "  {'max_depth': 12, 'n_estimators': 300},\n",
       "  {'max_depth': 12, 'n_estimators': 500},\n",
       "  {'max_depth': 12, 'n_estimators': 800},\n",
       "  {'max_depth': 13, 'n_estimators': 100},\n",
       "  {'max_depth': 13, 'n_estimators': 300},\n",
       "  {'max_depth': 13, 'n_estimators': 500},\n",
       "  {'max_depth': 13, 'n_estimators': 800},\n",
       "  {'max_depth': 14, 'n_estimators': 100},\n",
       "  {'max_depth': 14, 'n_estimators': 300},\n",
       "  {'max_depth': 14, 'n_estimators': 500},\n",
       "  {'max_depth': 14, 'n_estimators': 800}],\n",
       " 'rank_test_score': array([40, 33, 24, 16, 38, 13,  1,  2, 37, 22,  9,  6, 39, 15,  8,  3, 36,\n",
       "         9, 11, 18, 20,  7, 13, 31, 34, 27, 25, 32, 35,  5, 19, 30, 21,  4,\n",
       "        26, 29, 17, 12, 23, 28], dtype=int32),\n",
       " 'split0_test_score': array([0.82558217, 0.83362506, 0.83513172, 0.8342233 , 0.82844039,\n",
       "        0.83491015, 0.83471074, 0.83459996, 0.82990273, 0.83426761,\n",
       "        0.83400173, 0.83362506, 0.8268451 , 0.8329382 , 0.83298252,\n",
       "        0.83311546, 0.83105488, 0.83362506, 0.83335918, 0.83289389,\n",
       "        0.83260585, 0.83428977, 0.83280526, 0.83154233, 0.83167527,\n",
       "        0.83169743, 0.83191899, 0.83116567, 0.82994705, 0.83267232,\n",
       "        0.83165311, 0.83107704, 0.83346997, 0.83426761, 0.83282742,\n",
       "        0.83205194, 0.83207409, 0.83269448, 0.83245076, 0.83231782]),\n",
       " 'split1_test_score': array([0.82232513, 0.82872842, 0.82919372, 0.83076684, 0.82646844,\n",
       "        0.83023508, 0.83327056, 0.83300468, 0.82759843, 0.8301243 ,\n",
       "        0.83183037, 0.83265017, 0.82746549, 0.83209625, 0.83304899,\n",
       "        0.83389094, 0.82731039, 0.83220703, 0.83238429, 0.83183037,\n",
       "        0.83200762, 0.83191899, 0.83233997, 0.83123214, 0.8294596 ,\n",
       "        0.83249507, 0.83238429, 0.83154233, 0.82846254, 0.83382447,\n",
       "        0.83302683, 0.83178605, 0.8310992 , 0.83251723, 0.83138723,\n",
       "        0.83138723, 0.83267232, 0.83282742, 0.83191899, 0.83136508]),\n",
       " 'std_fit_time': array([ 0.67324877,  1.41193211,  1.76454937,  4.90458393,  0.3641994 ,\n",
       "         0.77417457,  4.9519273 ,  2.57394314,  0.46643543,  3.00307202,\n",
       "        11.47086585, 10.38012636,  2.36858177,  4.4152981 ,  3.76178014,\n",
       "         0.16989696,  0.10256076,  6.15283167,  1.64819562,  5.56060445,\n",
       "         4.49264777,  5.36269689,  1.41962802,  2.02128327,  0.45100892,\n",
       "         3.78323972,  2.94894516,  2.49212921,  0.68822169,  1.94465756,\n",
       "         2.21423328,  5.56812477,  0.68587089,  0.8072778 , 10.02460551,\n",
       "         5.35552275,  1.34313703, 12.96386325,  2.40409291,  2.0443083 ]),\n",
       " 'std_score_time': array([6.53239489e-02, 3.13133836e-01, 2.89420724e-01, 6.12556934e-02,\n",
       "        7.35569000e-03, 3.23714852e-01, 5.05382180e-01, 3.45831037e-01,\n",
       "        3.01090479e-02, 4.43528891e-02, 5.43066978e-01, 7.06094980e-01,\n",
       "        1.53365254e-01, 6.09183311e-03, 7.84424543e-01, 3.08246255e-01,\n",
       "        4.75951433e-02, 4.88138199e-01, 3.70492101e-01, 1.05020642e-01,\n",
       "        6.18441105e-02, 1.21641994e-01, 3.98098111e-01, 3.79416108e-01,\n",
       "        1.41768456e-02, 3.14755559e-01, 8.15814734e-02, 6.11641991e+00,\n",
       "        1.42215967e-01, 2.83905506e-01, 8.32238674e-01, 3.55175853e-01,\n",
       "        1.99878693e-01, 8.92676592e-01, 7.39804149e-01, 1.94955838e+00,\n",
       "        3.08283567e-02, 5.09083509e-01, 1.24770808e+00, 1.34958661e+00]),\n",
       " 'std_test_score': array([1.62852015e-03, 2.44831941e-03, 2.96900273e-03, 1.72822547e-03,\n",
       "        9.85974786e-04, 2.33753573e-03, 7.20093945e-04, 7.97642523e-04,\n",
       "        1.15215031e-03, 2.07165489e-03, 1.08568010e-03, 4.87448209e-04,\n",
       "        3.10194315e-04, 4.20977998e-04, 3.32351051e-05, 3.87742893e-04,\n",
       "        1.87224426e-03, 7.09015576e-04, 4.87448209e-04, 5.31761682e-04,\n",
       "        2.99115946e-04, 1.18538542e-03, 2.32645736e-04, 1.55097157e-04,\n",
       "        1.10783684e-03, 3.98821262e-04, 2.32645736e-04, 1.88332262e-04,\n",
       "        7.42250681e-04, 5.76075156e-04, 6.86858839e-04, 3.54507788e-04,\n",
       "        1.18538542e-03, 8.75191102e-04, 7.20093945e-04, 3.32351051e-04,\n",
       "        2.99115946e-04, 6.64702103e-05, 2.65880841e-04, 4.76369840e-04])}"
      ]
     },
     "execution_count": 19,
     "metadata": {},
     "output_type": "execute_result"
    }
   ],
   "source": [
    "grid_search_acc.cv_results_\n",
    "\n"
   ]
  }
 ],
 "metadata": {
  "kernelspec": {
   "display_name": "Python 3",
   "language": "python",
   "name": "python3"
  },
  "language_info": {
   "codemirror_mode": {
    "name": "ipython",
    "version": 3
   },
   "file_extension": ".py",
   "mimetype": "text/x-python",
   "name": "python",
   "nbconvert_exporter": "python",
   "pygments_lexer": "ipython3",
   "version": "3.5.3"
  },
  "pycharm": {
   "stem_cell": {
    "cell_type": "raw",
    "metadata": {
     "collapsed": false
    },
    "source": []
   }
  }
 },
 "nbformat": 4,
 "nbformat_minor": 1
}
