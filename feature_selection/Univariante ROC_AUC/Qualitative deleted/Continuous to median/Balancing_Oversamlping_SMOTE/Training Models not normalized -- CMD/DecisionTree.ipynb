{
 "cells": [
  {
   "cell_type": "code",
   "execution_count": 1,
   "metadata": {
    "pycharm": {
     "is_executing": false
    }
   },
   "outputs": [],
   "source": [
    "from pylab import rcParams\n",
    "rcParams['figure.figsize'] = 10, 5\n",
    "import warnings\n",
    "warnings.filterwarnings('ignore')\n",
    "from sklearn.tree import DecisionTreeClassifier\n",
    "import pandas as pd\n",
    "from sklearn.model_selection import GridSearchCV, train_test_split\n",
    "from sklearn.metrics import confusion_matrix, classification_report, average_precision_score, accuracy_score\n",
    "import csv"
   ]
  },
  {
   "cell_type": "code",
   "execution_count": 99,
   "metadata": {
    "pycharm": {
     "is_executing": false,
     "name": "#%%\n"
    }
   },
   "outputs": [],
   "source": []
  },
  {
   "cell_type": "code",
   "execution_count": 2,
   "metadata": {
    "pycharm": {
     "is_executing": false,
     "name": "#%%\n"
    }
   },
   "outputs": [],
   "source": [
    "def get_algo_path():\n",
    "    import os\n",
    "    cwd = os.getcwd()\n",
    "    s='\\\\'\n",
    "    if '\\\\' not in cwd:\n",
    "        s='/'\n",
    "    cwd= cwd.split(s)[4:-1]\n",
    "    cwd.append('Not Normalized')\n",
    "    cwd='/'.join(cwd)\n",
    "    return cwd\n",
    "\n",
    "def get_csv_path():\n",
    "    import os\n",
    "    cwd = os.getcwd()\n",
    "    s=\"\\\\\"\n",
    "    if \"\\\\\" not in cwd:\n",
    "        s='/'\n",
    "    file= cwd.split(s)[:4]\n",
    "    file.append('models_scores.csv')\n",
    "    file= s.join(file)\n",
    "    return file\n",
    "\n",
    "def line_is_exist(file, row):\n",
    "    logfile = open(file, 'r')\n",
    "    loglist = logfile.readlines()\n",
    "    logfile.close()\n",
    "    for line in loglist:\n",
    "        if ','.join(row) in line:\n",
    "            return True\n",
    "    return False\n",
    "\n",
    "def write_new_score(file, line):\n",
    "    if( not line_is_exist(file, line) ):\n",
    "        with open(file, 'a') as f:\n",
    "            writer = csv.writer(f)\n",
    "            writer.writerow(line)\n",
    "    else:\n",
    "        print('line exsist already')\n",
    "    "
   ]
  },
  {
   "cell_type": "code",
   "execution_count": 3,
   "metadata": {
    "pycharm": {
     "is_executing": false,
     "name": "#%%\n"
    }
   },
   "outputs": [],
   "source": [
    "data= pd.read_csv('../data.csv')"
   ]
  },
  {
   "cell_type": "code",
   "execution_count": 4,
   "metadata": {
    "pycharm": {
     "is_executing": false,
     "name": "#%%\n"
    }
   },
   "outputs": [],
   "source": [
    "##copying data\n",
    "data1=data.copy()\n",
    "### spliting data en X et Y\n",
    "X= data1.drop('Loan Status', axis=1)\n",
    "Y= data1['Loan Status']\n",
    "### spliting the data to train and test\n",
    "X_train , X_test , Y_train , Y_test = train_test_split(X, Y, test_size = 0.30, random_state = 123)\n",
    "## dicision tree (CART)\n",
    "dct = DecisionTreeClassifier()\n",
    "params={'criterion' : ['gini', 'entropy'],\n",
    "        'max_depth': [4, 5, 6, 7, 8, 9, 10, 11, 12, 13,14, 15, 16, 17, None]}\n",
    "\n",
    "##accuracy\n",
    "grid_search_acc= GridSearchCV(estimator=dct, param_grid= params, scoring='accuracy',cv=2, n_jobs=-1)\n",
    "grid_search_acc= grid_search_acc.fit(X_train, Y_train)\n",
    "y_predict= grid_search_acc.best_estimator_.predict(X_test)\n"
   ]
  },
  {
   "cell_type": "code",
   "execution_count": 5,
   "metadata": {
    "pycharm": {
     "is_executing": false,
     "name": "#%%\n"
    }
   },
   "outputs": [],
   "source": [
    "## get avg precision & avg recall\n",
    "report= classification_report(Y_test, y_predict, output_dict=True)\n",
    "avg_list = report.pop(\"weighted avg\")\n",
    "avg_precision= round(avg_list['precision'], 3)\n",
    "avg_recall= round(avg_list['recall'], 3)\n",
    "accuraccy= round(accuracy_score(Y_test,y_predict), 3)\n",
    "## csv row\n",
    "csv_row = [get_algo_path(), 'Decision Tree', str(grid_search_acc.best_params_), str(accuraccy), str(avg_precision), str(avg_recall)]\n",
    "## write file\n",
    "csv_file= get_csv_path()\n",
    "write_new_score(csv_file, csv_row)"
   ]
  },
  {
   "cell_type": "code",
   "execution_count": 6,
   "metadata": {
    "pycharm": {
     "is_executing": false,
     "name": "#%%\n"
    }
   },
   "outputs": [
    {
     "name": "stdout",
     "output_type": "stream",
     "text": [
      "----------\n",
      "best parameters:  {'criterion': 'gini', 'max_depth': 13}\n",
      "----------\n",
      "[[13567  5793]\n",
      " [  997 18329]]\n",
      "----------\n",
      "              precision    recall  f1-score   support\n",
      "\n",
      "           0       0.93      0.70      0.80     19360\n",
      "           1       0.76      0.95      0.84     19326\n",
      "\n",
      "    accuracy                           0.82     38686\n",
      "   macro avg       0.85      0.82      0.82     38686\n",
      "weighted avg       0.85      0.82      0.82     38686\n",
      "\n",
      "----------\n"
     ]
    }
   ],
   "source": [
    "## evaluating the model\n",
    "print(\"----------\")\n",
    "print('best parameters: ', grid_search_acc.best_params_)\n",
    "print(\"----------\")\n",
    "print(confusion_matrix(Y_test,y_predict))\n",
    "print(\"----------\")\n",
    "print(classification_report(Y_test, y_predict))\n",
    "print(\"----------\")\n"
   ]
  },
  {
   "cell_type": "code",
   "execution_count": 7,
   "metadata": {
    "collapsed": false,
    "pycharm": {
     "is_executing": false,
     "name": "#%%\n"
    }
   },
   "outputs": [
    {
     "data": {
      "text/plain": [
       "{'mean_fit_time': array([0.26927996, 0.33211219, 0.38147986, 0.47323382, 0.47522819,\n",
       "        0.57595873, 0.63430417, 0.64577365, 0.64926434, 0.71608424,\n",
       "        0.78140926, 0.77841949, 0.77492666, 0.8337698 , 1.01678002,\n",
       "        0.47871935, 0.54204941, 0.63530099, 0.69015419, 0.70860445,\n",
       "        0.81332481, 0.86119664, 0.97987998, 0.93400276, 1.06415546,\n",
       "        1.19829547, 1.27060223, 1.28306949, 1.21175373, 1.14545619]),\n",
       " 'std_fit_time': array([0.00199389, 0.020944  , 0.02543151, 0.03939283, 0.00548494,\n",
       "        0.01545978, 0.00997412, 0.04138851, 0.00099659, 0.03690171,\n",
       "        0.01944757, 0.02642918, 0.01296473, 0.04587841, 0.03540552,\n",
       "        0.04089057, 0.03141618, 0.01096952, 0.04089034, 0.00249279,\n",
       "        0.02044523, 0.02443445, 0.00648224, 0.00648248, 0.01994622,\n",
       "        0.05934036, 0.        , 0.00448835, 0.0558461 , 0.08724821]),\n",
       " 'mean_score_time': array([0.02194178, 0.01795208, 0.01894891, 0.01845229, 0.01944864,\n",
       "        0.02094412, 0.02094424, 0.02293813, 0.02144313, 0.02144241,\n",
       "        0.02343762, 0.02393579, 0.02393651, 0.02293861, 0.03241289,\n",
       "        0.0179522 , 0.01894951, 0.01994669, 0.02194118, 0.01944804,\n",
       "        0.02044451, 0.02044594, 0.02194178, 0.02194047, 0.02543235,\n",
       "        0.02543199, 0.02343833, 0.02094364, 0.01695454, 0.01646817]),\n",
       " 'std_score_time': array([5.98371029e-03, 3.57627869e-07, 9.98616219e-04, 4.98652458e-04,\n",
       "        4.98890877e-04, 9.97066498e-04, 3.57627869e-07, 9.97185707e-04,\n",
       "        4.99963760e-04, 4.99010086e-04, 4.99129295e-04, 2.38418579e-07,\n",
       "        0.00000000e+00, 9.96947289e-04, 2.49302387e-03, 2.38418579e-07,\n",
       "        9.53674316e-07, 8.34465027e-07, 9.97304916e-04, 4.98294830e-04,\n",
       "        4.97221947e-04, 4.99606133e-04, 9.98377800e-04, 7.15255737e-07,\n",
       "        4.98771667e-04, 1.49571896e-03, 4.98175621e-04, 1.99389458e-03,\n",
       "        9.97424126e-04, 4.86969948e-04]),\n",
       " 'param_criterion': masked_array(data=['gini', 'gini', 'gini', 'gini', 'gini', 'gini', 'gini',\n",
       "                    'gini', 'gini', 'gini', 'gini', 'gini', 'gini', 'gini',\n",
       "                    'gini', 'entropy', 'entropy', 'entropy', 'entropy',\n",
       "                    'entropy', 'entropy', 'entropy', 'entropy', 'entropy',\n",
       "                    'entropy', 'entropy', 'entropy', 'entropy', 'entropy',\n",
       "                    'entropy'],\n",
       "              mask=[False, False, False, False, False, False, False, False,\n",
       "                    False, False, False, False, False, False, False, False,\n",
       "                    False, False, False, False, False, False, False, False,\n",
       "                    False, False, False, False, False, False],\n",
       "        fill_value='?',\n",
       "             dtype=object),\n",
       " 'param_max_depth': masked_array(data=[4, 5, 6, 7, 8, 9, 10, 11, 12, 13, 14, 15, 16, 17, None,\n",
       "                    4, 5, 6, 7, 8, 9, 10, 11, 12, 13, 14, 15, 16, 17, None],\n",
       "              mask=[False, False, False, False, False, False, False, False,\n",
       "                    False, False, False, False, False, False, False, False,\n",
       "                    False, False, False, False, False, False, False, False,\n",
       "                    False, False, False, False, False, False],\n",
       "        fill_value='?',\n",
       "             dtype=object),\n",
       " 'params': [{'criterion': 'gini', 'max_depth': 4},\n",
       "  {'criterion': 'gini', 'max_depth': 5},\n",
       "  {'criterion': 'gini', 'max_depth': 6},\n",
       "  {'criterion': 'gini', 'max_depth': 7},\n",
       "  {'criterion': 'gini', 'max_depth': 8},\n",
       "  {'criterion': 'gini', 'max_depth': 9},\n",
       "  {'criterion': 'gini', 'max_depth': 10},\n",
       "  {'criterion': 'gini', 'max_depth': 11},\n",
       "  {'criterion': 'gini', 'max_depth': 12},\n",
       "  {'criterion': 'gini', 'max_depth': 13},\n",
       "  {'criterion': 'gini', 'max_depth': 14},\n",
       "  {'criterion': 'gini', 'max_depth': 15},\n",
       "  {'criterion': 'gini', 'max_depth': 16},\n",
       "  {'criterion': 'gini', 'max_depth': 17},\n",
       "  {'criterion': 'gini', 'max_depth': None},\n",
       "  {'criterion': 'entropy', 'max_depth': 4},\n",
       "  {'criterion': 'entropy', 'max_depth': 5},\n",
       "  {'criterion': 'entropy', 'max_depth': 6},\n",
       "  {'criterion': 'entropy', 'max_depth': 7},\n",
       "  {'criterion': 'entropy', 'max_depth': 8},\n",
       "  {'criterion': 'entropy', 'max_depth': 9},\n",
       "  {'criterion': 'entropy', 'max_depth': 10},\n",
       "  {'criterion': 'entropy', 'max_depth': 11},\n",
       "  {'criterion': 'entropy', 'max_depth': 12},\n",
       "  {'criterion': 'entropy', 'max_depth': 13},\n",
       "  {'criterion': 'entropy', 'max_depth': 14},\n",
       "  {'criterion': 'entropy', 'max_depth': 15},\n",
       "  {'criterion': 'entropy', 'max_depth': 16},\n",
       "  {'criterion': 'entropy', 'max_depth': 17},\n",
       "  {'criterion': 'entropy', 'max_depth': None}],\n",
       " 'split0_test_score': array([0.72518999, 0.78598808, 0.79010923, 0.80821129, 0.80927481,\n",
       "        0.8138391 , 0.81694104, 0.82004298, 0.81822613, 0.82505041,\n",
       "        0.82225866, 0.81740633, 0.81840339, 0.81612124, 0.78999845,\n",
       "        0.72521215, 0.78596592, 0.79010923, 0.80872089, 0.80971794,\n",
       "        0.81479184, 0.81833692, 0.82152749, 0.82044181, 0.82434139,\n",
       "        0.82192631, 0.81991004, 0.82002083, 0.81889083, 0.79185961]),\n",
       " 'split1_test_score': array([0.72607626, 0.78813728, 0.79097335, 0.79868389, 0.80980657,\n",
       "        0.81616556, 0.81796025, 0.82409767, 0.82232513, 0.82345512,\n",
       "        0.82072984, 0.81634281, 0.8194226 , 0.81700751, 0.78897924,\n",
       "        0.72607626, 0.78813728, 0.79097335, 0.79868389, 0.81020539,\n",
       "        0.81578889, 0.81822613, 0.82502825, 0.82405335, 0.82407551,\n",
       "        0.82500609, 0.82312277, 0.81716261, 0.81897946, 0.79010923]),\n",
       " 'mean_test_score': array([0.72563313, 0.78706268, 0.79054129, 0.80344759, 0.80954069,\n",
       "        0.81500233, 0.81745065, 0.82207033, 0.82027563, 0.82425276,\n",
       "        0.82149425, 0.81687457, 0.81891299, 0.81656438, 0.78948884,\n",
       "        0.72564421, 0.7870516 , 0.79054129, 0.80370239, 0.80996167,\n",
       "        0.81529036, 0.81828152, 0.82327787, 0.82224758, 0.82420845,\n",
       "        0.8234662 , 0.82151641, 0.81859172, 0.81893515, 0.79098442]),\n",
       " 'std_test_score': array([4.43134735e-04, 1.07460173e-03, 4.32056367e-04, 4.76369840e-03,\n",
       "        2.65880841e-04, 1.16322868e-03, 5.09604945e-04, 2.02734141e-03,\n",
       "        2.04949815e-03, 7.97642523e-04, 7.64407418e-04, 5.31761682e-04,\n",
       "        5.09604945e-04, 4.43134735e-04, 5.09604945e-04, 4.32056367e-04,\n",
       "        1.08568010e-03, 4.32056367e-04, 5.01850088e-03, 2.43724104e-04,\n",
       "        4.98526577e-04, 5.53918419e-05, 1.75038220e-03, 1.80577405e-03,\n",
       "        1.32940421e-04, 1.53989320e-03, 1.60636341e-03, 1.42910952e-03,\n",
       "        4.43134735e-05, 8.75191102e-04]),\n",
       " 'rank_test_score': array([30, 27, 24, 22, 20, 18, 14,  6,  9,  1,  8, 15, 11, 16, 26, 29, 28,\n",
       "        24, 21, 19, 17, 13,  4,  5,  2,  3,  7, 12, 10, 23])}"
      ]
     },
     "execution_count": 7,
     "metadata": {},
     "output_type": "execute_result"
    }
   ],
   "source": [
    "grid_search_acc.cv_results_\n",
    "\n"
   ]
  }
 ],
 "metadata": {
  "kernelspec": {
   "display_name": "Python 3",
   "language": "python",
   "name": "python3"
  },
  "language_info": {
   "codemirror_mode": {
    "name": "ipython",
    "version": 3
   },
   "file_extension": ".py",
   "mimetype": "text/x-python",
   "name": "python",
   "nbconvert_exporter": "python",
   "pygments_lexer": "ipython3",
   "version": "3.7.4"
  },
  "pycharm": {
   "stem_cell": {
    "cell_type": "raw",
    "metadata": {
     "collapsed": false
    },
    "source": []
   }
  }
 },
 "nbformat": 4,
 "nbformat_minor": 1
}
