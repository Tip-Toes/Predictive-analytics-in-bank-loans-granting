{
 "cells": [
  {
   "cell_type": "code",
   "execution_count": 1,
   "metadata": {},
   "outputs": [],
   "source": [
    "import pandas as pd\n",
    "import numpy as np\n",
    "from sklearn.model_selection import train_test_split"
   ]
  },
  {
   "cell_type": "markdown",
   "metadata": {},
   "source": [
    " "
   ]
  },
  {
   "cell_type": "markdown",
   "metadata": {},
   "source": [
    " "
   ]
  },
  {
   "cell_type": "markdown",
   "metadata": {},
   "source": [
    " "
   ]
  },
  {
   "cell_type": "markdown",
   "metadata": {},
   "source": [
    " "
   ]
  },
  {
   "cell_type": "markdown",
   "metadata": {},
   "source": [
    " "
   ]
  },
  {
   "cell_type": "markdown",
   "metadata": {},
   "source": [
    " "
   ]
  },
  {
   "cell_type": "markdown",
   "metadata": {},
   "source": [
    " # Data introduction start"
   ]
  },
  {
   "cell_type": "code",
   "execution_count": 2,
   "metadata": {},
   "outputs": [
    {
     "data": {
      "text/html": [
       "<div>\n",
       "<style scoped>\n",
       "    .dataframe tbody tr th:only-of-type {\n",
       "        vertical-align: middle;\n",
       "    }\n",
       "\n",
       "    .dataframe tbody tr th {\n",
       "        vertical-align: top;\n",
       "    }\n",
       "\n",
       "    .dataframe thead th {\n",
       "        text-align: right;\n",
       "    }\n",
       "</style>\n",
       "<table border=\"1\" class=\"dataframe\">\n",
       "  <thead>\n",
       "    <tr style=\"text-align: right;\">\n",
       "      <th></th>\n",
       "      <th>Loan Status</th>\n",
       "      <th>Current Loan Amount</th>\n",
       "      <th>Term</th>\n",
       "      <th>Credit Score</th>\n",
       "      <th>Annual Income</th>\n",
       "      <th>Years in current job</th>\n",
       "      <th>Home Ownership</th>\n",
       "      <th>Purpose</th>\n",
       "      <th>Monthly Debt</th>\n",
       "      <th>Years of Credit History</th>\n",
       "      <th>Number of Open Accounts</th>\n",
       "      <th>Number of Credit Problems</th>\n",
       "      <th>Current Credit Balance</th>\n",
       "      <th>Maximum Open Credit</th>\n",
       "      <th>Bankruptcies</th>\n",
       "    </tr>\n",
       "  </thead>\n",
       "  <tbody>\n",
       "    <tr>\n",
       "      <td>0</td>\n",
       "      <td>Fully Paid</td>\n",
       "      <td>-0.380123</td>\n",
       "      <td>Short Term</td>\n",
       "      <td>-0.238050</td>\n",
       "      <td>-0.187793</td>\n",
       "      <td>8 years</td>\n",
       "      <td>Home Mortgage</td>\n",
       "      <td>Home Improvements</td>\n",
       "      <td>-1.100715</td>\n",
       "      <td>-0.122842</td>\n",
       "      <td>-1.034402</td>\n",
       "      <td>1.0</td>\n",
       "      <td>-0.182210</td>\n",
       "      <td>-0.040090</td>\n",
       "      <td>&gt;=1</td>\n",
       "    </tr>\n",
       "    <tr>\n",
       "      <td>1</td>\n",
       "      <td>Fully Paid</td>\n",
       "      <td>-0.385610</td>\n",
       "      <td>Short Term</td>\n",
       "      <td>-0.223708</td>\n",
       "      <td>-0.156442</td>\n",
       "      <td>10+ years</td>\n",
       "      <td>Home Mortgage</td>\n",
       "      <td>Debt Consolidation</td>\n",
       "      <td>1.201441</td>\n",
       "      <td>0.449359</td>\n",
       "      <td>4.757180</td>\n",
       "      <td>0.0</td>\n",
       "      <td>-0.177431</td>\n",
       "      <td>0.008499</td>\n",
       "      <td>0.0</td>\n",
       "    </tr>\n",
       "    <tr>\n",
       "      <td>2</td>\n",
       "      <td>Fully Paid</td>\n",
       "      <td>2.603539</td>\n",
       "      <td>Short Term</td>\n",
       "      <td>-0.215103</td>\n",
       "      <td>0.881499</td>\n",
       "      <td>8 years</td>\n",
       "      <td>Own Home</td>\n",
       "      <td>Debt Consolidation</td>\n",
       "      <td>0.865687</td>\n",
       "      <td>-0.460295</td>\n",
       "      <td>1.362114</td>\n",
       "      <td>1.0</td>\n",
       "      <td>0.004586</td>\n",
       "      <td>-0.002773</td>\n",
       "      <td>0.0</td>\n",
       "    </tr>\n",
       "    <tr>\n",
       "      <td>3</td>\n",
       "      <td>Fully Paid</td>\n",
       "      <td>-0.383052</td>\n",
       "      <td>Long Term</td>\n",
       "      <td>-0.229445</td>\n",
       "      <td>-0.549994</td>\n",
       "      <td>3 years</td>\n",
       "      <td>Own Home</td>\n",
       "      <td>Debt Consolidation</td>\n",
       "      <td>-0.811552</td>\n",
       "      <td>-0.885778</td>\n",
       "      <td>-0.435273</td>\n",
       "      <td>0.0</td>\n",
       "      <td>-0.106912</td>\n",
       "      <td>-0.043425</td>\n",
       "      <td>0.0</td>\n",
       "    </tr>\n",
       "    <tr>\n",
       "      <td>4</td>\n",
       "      <td>Fully Paid</td>\n",
       "      <td>-0.388190</td>\n",
       "      <td>Short Term</td>\n",
       "      <td>-0.223708</td>\n",
       "      <td>-0.156442</td>\n",
       "      <td>5 years</td>\n",
       "      <td>Rent</td>\n",
       "      <td>Debt Consolidation</td>\n",
       "      <td>0.163854</td>\n",
       "      <td>-1.751416</td>\n",
       "      <td>0.762985</td>\n",
       "      <td>0.0</td>\n",
       "      <td>-0.114589</td>\n",
       "      <td>-0.038923</td>\n",
       "      <td>0.0</td>\n",
       "    </tr>\n",
       "  </tbody>\n",
       "</table>\n",
       "</div>"
      ],
      "text/plain": [
       "  Loan Status  Current Loan Amount        Term  Credit Score  Annual Income  \\\n",
       "0  Fully Paid            -0.380123  Short Term     -0.238050      -0.187793   \n",
       "1  Fully Paid            -0.385610  Short Term     -0.223708      -0.156442   \n",
       "2  Fully Paid             2.603539  Short Term     -0.215103       0.881499   \n",
       "3  Fully Paid            -0.383052   Long Term     -0.229445      -0.549994   \n",
       "4  Fully Paid            -0.388190  Short Term     -0.223708      -0.156442   \n",
       "\n",
       "  Years in current job Home Ownership             Purpose  Monthly Debt  \\\n",
       "0              8 years  Home Mortgage   Home Improvements     -1.100715   \n",
       "1            10+ years  Home Mortgage  Debt Consolidation      1.201441   \n",
       "2              8 years       Own Home  Debt Consolidation      0.865687   \n",
       "3              3 years       Own Home  Debt Consolidation     -0.811552   \n",
       "4              5 years           Rent  Debt Consolidation      0.163854   \n",
       "\n",
       "   Years of Credit History  Number of Open Accounts Number of Credit Problems  \\\n",
       "0                -0.122842                -1.034402                       1.0   \n",
       "1                 0.449359                 4.757180                       0.0   \n",
       "2                -0.460295                 1.362114                       1.0   \n",
       "3                -0.885778                -0.435273                       0.0   \n",
       "4                -1.751416                 0.762985                       0.0   \n",
       "\n",
       "   Current Credit Balance  Maximum Open Credit Bankruptcies  \n",
       "0               -0.182210            -0.040090          >=1  \n",
       "1               -0.177431             0.008499          0.0  \n",
       "2                0.004586            -0.002773          0.0  \n",
       "3               -0.106912            -0.043425          0.0  \n",
       "4               -0.114589            -0.038923          0.0  "
      ]
     },
     "execution_count": 2,
     "metadata": {},
     "output_type": "execute_result"
    }
   ],
   "source": [
    "data = pd.read_csv('4_credit_qmvd_cmvm_z.csv',encoding='latin-1')\n",
    "data.head()"
   ]
  },
  {
   "cell_type": "code",
   "execution_count": 3,
   "metadata": {},
   "outputs": [
    {
     "data": {
      "text/plain": [
       "85791"
      ]
     },
     "execution_count": 3,
     "metadata": {},
     "output_type": "execute_result"
    }
   ],
   "source": [
    "len(data)"
   ]
  },
  {
   "cell_type": "markdown",
   "metadata": {},
   "source": [
    " "
   ]
  },
  {
   "cell_type": "markdown",
   "metadata": {},
   "source": [
    " "
   ]
  },
  {
   "cell_type": "markdown",
   "metadata": {},
   "source": [
    " "
   ]
  },
  {
   "cell_type": "markdown",
   "metadata": {},
   "source": [
    "# Split the data"
   ]
  },
  {
   "cell_type": "code",
   "execution_count": 4,
   "metadata": {},
   "outputs": [],
   "source": [
    "N = len(data)\n",
    "data_indices = data.index\n",
    "random_indices20 = np.random.choice(data_indices,(int(N*20/100)), replace=False)\n",
    "random_indices80 = data_indices.drop(random_indices20)\n",
    "data_test = data.loc[random_indices20]\n",
    "data_train = data.loc[random_indices80]"
   ]
  },
  {
   "cell_type": "markdown",
   "metadata": {},
   "source": [
    "## Emport the data"
   ]
  },
  {
   "cell_type": "code",
   "execution_count": 5,
   "metadata": {},
   "outputs": [],
   "source": [
    "data_test.to_csv(\"5_credit_qmvd_cmvm_z_test.csv\", index=False)\n",
    "data_train.to_csv(\"5_credit_qmvd_cmvm_z_train.csv\", index=False)"
   ]
  },
  {
   "cell_type": "markdown",
   "metadata": {},
   "source": [
    " end"
   ]
  }
 ],
 "metadata": {
  "kernelspec": {
   "display_name": "Python 3",
   "language": "python",
   "name": "python3"
  },
  "language_info": {
   "codemirror_mode": {
    "name": "ipython",
    "version": 3
   },
   "file_extension": ".py",
   "mimetype": "text/x-python",
   "name": "python",
   "nbconvert_exporter": "python",
   "pygments_lexer": "ipython3",
   "version": "3.7.4"
  }
 },
 "nbformat": 4,
 "nbformat_minor": 2
}
