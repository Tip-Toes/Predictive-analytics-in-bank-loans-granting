{
 "cells": [
  {
   "cell_type": "code",
   "execution_count": 1,
   "metadata": {
    "pycharm": {
     "is_executing": false
    }
   },
   "outputs": [],
   "source": [
    "from pylab import rcParams\n",
    "rcParams['figure.figsize'] = 10, 5\n",
    "import warnings\n",
    "warnings.filterwarnings('ignore')\n",
    "from sklearn.tree import DecisionTreeClassifier\n",
    "import pandas as pd\n",
    "from sklearn.model_selection import GridSearchCV, train_test_split\n",
    "from sklearn.metrics import confusion_matrix, classification_report, average_precision_score, accuracy_score\n",
    "import csv"
   ]
  },
  {
   "cell_type": "code",
   "execution_count": 99,
   "metadata": {
    "pycharm": {
     "is_executing": false,
     "name": "#%%\n"
    }
   },
   "outputs": [],
   "source": []
  },
  {
   "cell_type": "code",
   "execution_count": 2,
   "metadata": {
    "pycharm": {
     "is_executing": false,
     "name": "#%%\n"
    }
   },
   "outputs": [],
   "source": [
    "def get_algo_path():\n",
    "    import os\n",
    "    cwd = os.getcwd()\n",
    "    s='\\\\'\n",
    "    if '\\\\' not in cwd:\n",
    "        s='/'\n",
    "    cwd= cwd.split(s)[4:-1]\n",
    "    cwd.append('Not Normalized')\n",
    "    cwd='/'.join(cwd)\n",
    "    return cwd\n",
    "\n",
    "def get_csv_path():\n",
    "    import os\n",
    "    cwd = os.getcwd()\n",
    "    s=\"\\\\\"\n",
    "    if \"\\\\\" not in cwd:\n",
    "        s='/'\n",
    "    file= cwd.split(s)[:4]\n",
    "    file.append('models_scores.csv')\n",
    "    file= s.join(file)\n",
    "    return file\n",
    "\n",
    "def line_is_exist(file, row):\n",
    "    logfile = open(file, 'r')\n",
    "    loglist = logfile.readlines()\n",
    "    logfile.close()\n",
    "    for line in loglist:\n",
    "        if ','.join(row) in line:\n",
    "            return True\n",
    "    return False\n",
    "\n",
    "def write_new_score(file, line):\n",
    "    if( not line_is_exist(file, line) ):\n",
    "        with open(file, 'a') as f:\n",
    "            writer = csv.writer(f)\n",
    "            writer.writerow(line)\n",
    "    else:\n",
    "        print('line exsist already')\n",
    "    "
   ]
  },
  {
   "cell_type": "code",
   "execution_count": 3,
   "metadata": {
    "pycharm": {
     "is_executing": false,
     "name": "#%%\n"
    }
   },
   "outputs": [],
   "source": [
    "data= pd.read_csv('../data.csv')"
   ]
  },
  {
   "cell_type": "code",
   "execution_count": 4,
   "metadata": {
    "pycharm": {
     "is_executing": false,
     "name": "#%%\n"
    }
   },
   "outputs": [],
   "source": [
    "##copying data\n",
    "data1=data.copy()\n",
    "### spliting data en X et Y\n",
    "X= data1.drop('Loan Status', axis=1)\n",
    "Y= data1['Loan Status']\n",
    "### spliting the data to train and test\n",
    "X_train , X_test , Y_train , Y_test = train_test_split(X, Y, test_size = 0.30, random_state = 123)\n",
    "## dicision tree (CART)\n",
    "dct = DecisionTreeClassifier()\n",
    "params={'criterion' : ['gini', 'entropy'],\n",
    "        'max_depth': [4, 5, 6, 7, 8, 9, 10, 11, 12, 13,14, 15, 16, 17, None]}\n",
    "\n",
    "##accuracy\n",
    "grid_search_acc= GridSearchCV(estimator=dct, param_grid= params, scoring='accuracy',cv=2, n_jobs=-1)\n",
    "grid_search_acc= grid_search_acc.fit(X_train, Y_train)\n",
    "y_predict= grid_search_acc.best_estimator_.predict(X_test)\n"
   ]
  },
  {
   "cell_type": "code",
   "execution_count": 5,
   "metadata": {
    "pycharm": {
     "is_executing": false,
     "name": "#%%\n"
    }
   },
   "outputs": [],
   "source": [
    "## get avg precision & avg recall\n",
    "report= classification_report(Y_test, y_predict, output_dict=True)\n",
    "avg_list = report.pop(\"weighted avg\")\n",
    "avg_precision= round(avg_list['precision'], 3)\n",
    "avg_recall= round(avg_list['recall'], 3)\n",
    "accuraccy= round(accuracy_score(Y_test,y_predict), 3)\n",
    "## csv row\n",
    "csv_row = [get_algo_path(), 'Decision Tree', str(grid_search_acc.best_params_), str(accuraccy), str(avg_precision), str(avg_recall)]\n",
    "## write file\n",
    "csv_file= get_csv_path()\n",
    "write_new_score(csv_file, csv_row)"
   ]
  },
  {
   "cell_type": "code",
   "execution_count": 6,
   "metadata": {
    "pycharm": {
     "is_executing": false,
     "name": "#%%\n"
    }
   },
   "outputs": [
    {
     "name": "stdout",
     "output_type": "stream",
     "text": [
      "----------\n",
      "best parameters:  {'criterion': 'gini', 'max_depth': 5}\n",
      "----------\n",
      "[[ 1266  5119]\n",
      " [    0 16906]]\n",
      "----------\n",
      "              precision    recall  f1-score   support\n",
      "\n",
      "           0       1.00      0.20      0.33      6385\n",
      "           1       0.77      1.00      0.87     16906\n",
      "\n",
      "    accuracy                           0.78     23291\n",
      "   macro avg       0.88      0.60      0.60     23291\n",
      "weighted avg       0.83      0.78      0.72     23291\n",
      "\n",
      "----------\n"
     ]
    }
   ],
   "source": [
    "## evaluating the model\n",
    "print(\"----------\")\n",
    "print('best parameters: ', grid_search_acc.best_params_)\n",
    "print(\"----------\")\n",
    "print(confusion_matrix(Y_test,y_predict))\n",
    "print(\"----------\")\n",
    "print(classification_report(Y_test, y_predict))\n",
    "print(\"----------\")\n"
   ]
  },
  {
   "cell_type": "code",
   "execution_count": 7,
   "metadata": {
    "collapsed": false,
    "pycharm": {
     "is_executing": false,
     "name": "#%%\n"
    }
   },
   "outputs": [
    {
     "data": {
      "text/plain": [
       "{'mean_fit_time': array([0.18251193, 0.22838771, 0.25531757, 0.35654879, 0.38696563,\n",
       "        0.40192306, 0.46774805, 0.45478535, 0.41937804, 0.43932521,\n",
       "        0.52260256, 0.55750883, 0.54354632, 0.60238945, 0.70262003,\n",
       "        0.2732687 , 0.3286202 , 0.33660054, 0.44331324, 0.47173929,\n",
       "        0.5340718 , 0.5609988 , 0.61385918, 0.64427531, 0.64926374,\n",
       "        0.7230649 , 0.77542567, 0.81033313, 0.85022652, 0.91405427]),\n",
       " 'std_fit_time': array([0.00199568, 0.00797784, 0.0129658 , 0.01446128, 0.00398958,\n",
       "        0.00099885, 0.00199306, 0.02792573, 0.01246667, 0.01346457,\n",
       "        0.00099778, 0.01894963, 0.00897634, 0.02094471, 0.00149608,\n",
       "        0.00199485, 0.00149703, 0.01047277, 0.01845014, 0.004987  ,\n",
       "        0.02543175, 0.0124656 , 0.01545882, 0.00797927, 0.01695478,\n",
       "        0.02393579, 0.01745391, 0.02044642, 0.01047122, 0.0184499 ]),\n",
       " 'mean_score_time': array([0.01146996, 0.01196802, 0.01196706, 0.01994419, 0.01296544,\n",
       "        0.01296556, 0.01346374, 0.01346278, 0.01396227, 0.0259304 ,\n",
       "        0.01545858, 0.01545858, 0.01994598, 0.01595652, 0.01695502,\n",
       "        0.01097083, 0.01097083, 0.01096928, 0.01545823, 0.01246607,\n",
       "        0.01246643, 0.01346445, 0.01496005, 0.01346552, 0.01296544,\n",
       "        0.01496041, 0.01845038, 0.01595664, 0.01495969, 0.01097107]),\n",
       " 'std_score_time': array([4.98175621e-04, 1.19209290e-07, 3.57627869e-07, 4.98747826e-03,\n",
       "        4.76837158e-07, 9.97900963e-04, 4.99010086e-04, 4.98533249e-04,\n",
       "        2.38418579e-07, 1.29656792e-02, 4.98533249e-04, 4.98056412e-04,\n",
       "        3.98981571e-03, 8.34465027e-07, 9.97185707e-04, 2.38418579e-07,\n",
       "        7.15255737e-07, 1.19209290e-07, 4.48834896e-03, 4.99129295e-04,\n",
       "        4.98056412e-04, 1.49583817e-03, 1.99437141e-03, 4.99129295e-04,\n",
       "        0.00000000e+00, 9.96947289e-04, 1.49548054e-03, 1.19209290e-06,\n",
       "        1.19209290e-07, 0.00000000e+00]),\n",
       " 'param_criterion': masked_array(data=['gini', 'gini', 'gini', 'gini', 'gini', 'gini', 'gini',\n",
       "                    'gini', 'gini', 'gini', 'gini', 'gini', 'gini', 'gini',\n",
       "                    'gini', 'entropy', 'entropy', 'entropy', 'entropy',\n",
       "                    'entropy', 'entropy', 'entropy', 'entropy', 'entropy',\n",
       "                    'entropy', 'entropy', 'entropy', 'entropy', 'entropy',\n",
       "                    'entropy'],\n",
       "              mask=[False, False, False, False, False, False, False, False,\n",
       "                    False, False, False, False, False, False, False, False,\n",
       "                    False, False, False, False, False, False, False, False,\n",
       "                    False, False, False, False, False, False],\n",
       "        fill_value='?',\n",
       "             dtype=object),\n",
       " 'param_max_depth': masked_array(data=[4, 5, 6, 7, 8, 9, 10, 11, 12, 13, 14, 15, 16, 17, None,\n",
       "                    4, 5, 6, 7, 8, 9, 10, 11, 12, 13, 14, 15, 16, 17, None],\n",
       "              mask=[False, False, False, False, False, False, False, False,\n",
       "                    False, False, False, False, False, False, False, False,\n",
       "                    False, False, False, False, False, False, False, False,\n",
       "                    False, False, False, False, False, False],\n",
       "        fill_value='?',\n",
       "             dtype=object),\n",
       " 'params': [{'criterion': 'gini', 'max_depth': 4},\n",
       "  {'criterion': 'gini', 'max_depth': 5},\n",
       "  {'criterion': 'gini', 'max_depth': 6},\n",
       "  {'criterion': 'gini', 'max_depth': 7},\n",
       "  {'criterion': 'gini', 'max_depth': 8},\n",
       "  {'criterion': 'gini', 'max_depth': 9},\n",
       "  {'criterion': 'gini', 'max_depth': 10},\n",
       "  {'criterion': 'gini', 'max_depth': 11},\n",
       "  {'criterion': 'gini', 'max_depth': 12},\n",
       "  {'criterion': 'gini', 'max_depth': 13},\n",
       "  {'criterion': 'gini', 'max_depth': 14},\n",
       "  {'criterion': 'gini', 'max_depth': 15},\n",
       "  {'criterion': 'gini', 'max_depth': 16},\n",
       "  {'criterion': 'gini', 'max_depth': 17},\n",
       "  {'criterion': 'gini', 'max_depth': None},\n",
       "  {'criterion': 'entropy', 'max_depth': 4},\n",
       "  {'criterion': 'entropy', 'max_depth': 5},\n",
       "  {'criterion': 'entropy', 'max_depth': 6},\n",
       "  {'criterion': 'entropy', 'max_depth': 7},\n",
       "  {'criterion': 'entropy', 'max_depth': 8},\n",
       "  {'criterion': 'entropy', 'max_depth': 9},\n",
       "  {'criterion': 'entropy', 'max_depth': 10},\n",
       "  {'criterion': 'entropy', 'max_depth': 11},\n",
       "  {'criterion': 'entropy', 'max_depth': 12},\n",
       "  {'criterion': 'entropy', 'max_depth': 13},\n",
       "  {'criterion': 'entropy', 'max_depth': 14},\n",
       "  {'criterion': 'entropy', 'max_depth': 15},\n",
       "  {'criterion': 'entropy', 'max_depth': 16},\n",
       "  {'criterion': 'entropy', 'max_depth': 17},\n",
       "  {'criterion': 'entropy', 'max_depth': None}],\n",
       " 'split0_test_score': array([0.78117179, 0.78117179, 0.77936847, 0.77785956, 0.77727072,\n",
       "        0.77539379, 0.77178713, 0.76689239, 0.76479464, 0.75702929,\n",
       "        0.75334904, 0.74749742, 0.74205064, 0.73119388, 0.69527455,\n",
       "        0.78117179, 0.78117179, 0.77936847, 0.77793317, 0.77833799,\n",
       "        0.77830119, 0.77465774, 0.77480495, 0.76729722, 0.76608273,\n",
       "        0.76118799, 0.75839099, 0.75172972, 0.74598852, 0.70208303]),\n",
       " 'split1_test_score': array([0.78076697, 0.78091418, 0.78220227, 0.78058295, 0.77819078,\n",
       "        0.77741793, 0.77211836, 0.77230237, 0.76519947, 0.76126159,\n",
       "        0.75555719, 0.75172972, 0.74344914, 0.73947446, 0.69851318,\n",
       "        0.78080377, 0.78080377, 0.78080377, 0.78187104, 0.78153982,\n",
       "        0.77741793, 0.77601943, 0.77204475, 0.76501546, 0.76288091,\n",
       "        0.76030473, 0.75529957, 0.75106728, 0.74565729, 0.70362874]),\n",
       " 'mean_test_score': array([0.78096938, 0.78104299, 0.78078537, 0.77922126, 0.77773075,\n",
       "        0.77640586, 0.77195275, 0.76959738, 0.76499706, 0.75914544,\n",
       "        0.75445311, 0.74961357, 0.74274989, 0.73533417, 0.69689386,\n",
       "        0.78098778, 0.78098778, 0.78008612, 0.77990211, 0.77993891,\n",
       "        0.77785956, 0.77533858, 0.77342485, 0.76615634, 0.76448182,\n",
       "        0.76074636, 0.75684528, 0.7513985 , 0.74582291, 0.70285588]),\n",
       " 'std_test_score': array([0.00020241, 0.00012881, 0.0014169 , 0.0013617 , 0.00046003,\n",
       "        0.00101207, 0.00016561, 0.00270499, 0.00020241, 0.00211615,\n",
       "        0.00110408, 0.00211615, 0.00069925, 0.00414029, 0.00161931,\n",
       "        0.00018401, 0.00018401, 0.00071765, 0.00196894, 0.00160091,\n",
       "        0.00044163, 0.00068085, 0.0013801 , 0.00114088, 0.00160091,\n",
       "        0.00044163, 0.00154571, 0.00033122, 0.00016561, 0.00077285]),\n",
       " 'rank_test_score': array([ 4,  1,  5,  9, 11, 12, 15, 16, 18, 21, 23, 25, 27, 28, 30,  2,  2,\n",
       "         6,  8,  7, 10, 13, 14, 17, 19, 20, 22, 24, 26, 29])}"
      ]
     },
     "execution_count": 7,
     "metadata": {},
     "output_type": "execute_result"
    }
   ],
   "source": [
    "grid_search_acc.cv_results_\n",
    "\n"
   ]
  }
 ],
 "metadata": {
  "kernelspec": {
   "display_name": "Python 3",
   "language": "python",
   "name": "python3"
  },
  "language_info": {
   "codemirror_mode": {
    "name": "ipython",
    "version": 3
   },
   "file_extension": ".py",
   "mimetype": "text/x-python",
   "name": "python",
   "nbconvert_exporter": "python",
   "pygments_lexer": "ipython3",
   "version": "3.7.4"
  },
  "pycharm": {
   "stem_cell": {
    "cell_type": "raw",
    "metadata": {
     "collapsed": false
    },
    "source": []
   }
  }
 },
 "nbformat": 4,
 "nbformat_minor": 1
}
