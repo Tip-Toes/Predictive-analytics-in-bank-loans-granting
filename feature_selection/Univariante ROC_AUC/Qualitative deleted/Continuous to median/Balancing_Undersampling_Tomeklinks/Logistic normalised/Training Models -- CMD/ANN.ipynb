{
 "cells": [
  {
   "cell_type": "code",
   "execution_count": 1,
   "metadata": {
    "pycharm": {
     "is_executing": false
    }
   },
   "outputs": [],
   "source": [
    "import warnings\n",
    "from pylab import rcParams\n",
    "from tensorflow_core.python.keras.wrappers.scikit_learn import KerasClassifier\n",
    "rcParams['figure.figsize'] = 10, 5\n",
    "from sklearn.model_selection import GridSearchCV\n",
    "warnings.filterwarnings('ignore')\n",
    "import pandas as pd\n",
    "from sklearn.metrics import confusion_matrix,classification_report\n",
    "from sklearn.model_selection import train_test_split\n",
    "from tensorflow.keras.models import Sequential\n",
    "from tensorflow.keras.layers import Dense, Dropout"
   ]
  },
  {
   "cell_type": "code",
   "execution_count": 2,
   "metadata": {
    "collapsed": false,
    "pycharm": {
     "name": "#%%\n"
    }
   },
   "outputs": [],
   "source": [
    "import csv\n",
    "from sklearn.metrics import accuracy_score\n",
    "def get_algo_path():\n",
    "    import os\n",
    "    cwd = os.getcwd()\n",
    "    s='\\\\'\n",
    "    if '\\\\' not in cwd:\n",
    "        s='/'\n",
    "    cwd= cwd.split(s)[4:-1]\n",
    "    cwd='/'.join(cwd)\n",
    "    return cwd\n",
    "\n",
    "def get_csv_path():\n",
    "    import os\n",
    "    cwd = os.getcwd()\n",
    "    s=\"\\\\\"\n",
    "    if \"\\\\\" not in cwd:\n",
    "        s='/'\n",
    "    file= cwd.split(s)[:4]\n",
    "    file.append('models_scores.csv')\n",
    "    file= s.join(file)\n",
    "    return file\n",
    "\n",
    "def line_is_exist(file, row):\n",
    "    logfile = open(file, 'r')\n",
    "    loglist = logfile.readlines()\n",
    "    logfile.close()\n",
    "    for line in loglist:\n",
    "        if ','.join(row) in line:\n",
    "            return True\n",
    "    return False\n",
    "\n",
    "def write_new_score(file, line):\n",
    "    if( not line_is_exist(file, line) ):\n",
    "        with open(file, 'a') as f:\n",
    "            writer = csv.writer(f)\n",
    "            writer.writerow(line)\n",
    "    else:\n",
    "        print('line exsist already')\n",
    "    "
   ]
  },
  {
   "cell_type": "code",
   "execution_count": 3,
   "metadata": {
    "pycharm": {
     "is_executing": false,
     "name": "#%%\n"
    }
   },
   "outputs": [],
   "source": [
    "data= pd.read_csv('../logis_norm.csv')\n",
    "### split data en X et Y\n",
    "data1= data.copy()\n",
    "X= data1.drop('Loan Status', axis=1)\n",
    "Y= data1['Loan Status']\n",
    "\n",
    "X_train , X_test , Y_train , Y_test = train_test_split(X, Y, test_size = 0.30, random_state = 123)\n",
    "\n",
    "### Neural Network\n",
    "## ANN Model\n",
    "def create_model(optimizer):\n",
    "    model = Sequential()\n",
    "\t#Layer 1\n",
    "    model.add(Dense(20, activation='relu', input_dim=20))\n",
    "    model.add(Dropout(0.3))\n",
    "    #Layer 2\n",
    "    model.add(Dense(10, activation='relu'))\n",
    "    model.add(Dropout(0.3))\n",
    "    \n",
    "    # output layer\n",
    "    model.add(Dense(units=1,activation='sigmoid'))\n",
    "    model.compile(loss='binary_crossentropy', optimizer=optimizer, metrics=['accuracy'])\n",
    "    return model"
   ]
  },
  {
   "cell_type": "code",
   "execution_count": 4,
   "metadata": {
    "pycharm": {
     "is_executing": false,
     "name": "#%%\n"
    }
   },
   "outputs": [
    {
     "name": "stdout",
     "output_type": "stream",
     "text": [
      "Train on 71786 samples, validate on 30766 samples\n",
      "Epoch 1/300\n",
      "71786/71786 [==============================] - 2s 30us/sample - loss: 0.6884 - accuracy: 0.5507 - val_loss: 0.6624 - val_accuracy: 0.6317\n",
      "Epoch 2/300\n",
      "71786/71786 [==============================] - 2s 21us/sample - loss: 0.6616 - accuracy: 0.6167 - val_loss: 0.6386 - val_accuracy: 0.6718\n",
      "Epoch 3/300\n",
      "71786/71786 [==============================] - 2s 24us/sample - loss: 0.6463 - accuracy: 0.6393 - val_loss: 0.6168 - val_accuracy: 0.6989\n",
      "Epoch 4/300\n",
      "71786/71786 [==============================] - 2s 24us/sample - loss: 0.6336 - accuracy: 0.6572 - val_loss: 0.6031 - val_accuracy: 0.7192\n",
      "Epoch 5/300\n",
      "71786/71786 [==============================] - 2s 24us/sample - loss: 0.6252 - accuracy: 0.6626 - val_loss: 0.5830 - val_accuracy: 0.7195\n",
      "Epoch 6/300\n",
      "71786/71786 [==============================] - 2s 24us/sample - loss: 0.6132 - accuracy: 0.6767 - val_loss: 0.5748 - val_accuracy: 0.7277\n",
      "Epoch 7/300\n",
      "71786/71786 [==============================] - 2s 24us/sample - loss: 0.6101 - accuracy: 0.6799 - val_loss: 0.5648 - val_accuracy: 0.7434\n",
      "Epoch 8/300\n",
      "71786/71786 [==============================] - 2s 24us/sample - loss: 0.6047 - accuracy: 0.6839 - val_loss: 0.5582 - val_accuracy: 0.7417\n",
      "Epoch 9/300\n",
      "71786/71786 [==============================] - 2s 24us/sample - loss: 0.6017 - accuracy: 0.6865 - val_loss: 0.5499 - val_accuracy: 0.7557\n",
      "Epoch 10/300\n",
      "71786/71786 [==============================] - 2s 23us/sample - loss: 0.5958 - accuracy: 0.6899 - val_loss: 0.5429 - val_accuracy: 0.7395\n",
      "Epoch 11/300\n",
      "71786/71786 [==============================] - 2s 24us/sample - loss: 0.5926 - accuracy: 0.6960 - val_loss: 0.5382 - val_accuracy: 0.7522\n",
      "Epoch 12/300\n",
      "71786/71786 [==============================] - 2s 24us/sample - loss: 0.5909 - accuracy: 0.6936 - val_loss: 0.5363 - val_accuracy: 0.7586\n",
      "Epoch 13/300\n",
      "71786/71786 [==============================] - 2s 24us/sample - loss: 0.5844 - accuracy: 0.7001 - val_loss: 0.5344 - val_accuracy: 0.7631\n",
      "Epoch 14/300\n",
      "71786/71786 [==============================] - 2s 24us/sample - loss: 0.5855 - accuracy: 0.7004 - val_loss: 0.5342 - val_accuracy: 0.7462\n",
      "Epoch 15/300\n",
      "71786/71786 [==============================] - 2s 23us/sample - loss: 0.5840 - accuracy: 0.7005 - val_loss: 0.5272 - val_accuracy: 0.7663\n",
      "Epoch 16/300\n",
      "71786/71786 [==============================] - 2s 23us/sample - loss: 0.5819 - accuracy: 0.7036 - val_loss: 0.5311 - val_accuracy: 0.7587\n",
      "Epoch 17/300\n",
      "71786/71786 [==============================] - 2s 23us/sample - loss: 0.5810 - accuracy: 0.7046 - val_loss: 0.5287 - val_accuracy: 0.7484\n",
      "Epoch 18/300\n",
      "71786/71786 [==============================] - 2s 24us/sample - loss: 0.5795 - accuracy: 0.7048 - val_loss: 0.5212 - val_accuracy: 0.7517\n",
      "Epoch 19/300\n",
      "71786/71786 [==============================] - 2s 24us/sample - loss: 0.5759 - accuracy: 0.7083 - val_loss: 0.5226 - val_accuracy: 0.7725\n",
      "Epoch 20/300\n",
      "71786/71786 [==============================] - 2s 24us/sample - loss: 0.5785 - accuracy: 0.7070 - val_loss: 0.5174 - val_accuracy: 0.7548\n",
      "Epoch 21/300\n",
      "71786/71786 [==============================] - 2s 23us/sample - loss: 0.5747 - accuracy: 0.7093 - val_loss: 0.5143 - val_accuracy: 0.7703\n",
      "Epoch 22/300\n",
      "71786/71786 [==============================] - 2s 23us/sample - loss: 0.5740 - accuracy: 0.7092 - val_loss: 0.5231 - val_accuracy: 0.7464\n",
      "Epoch 23/300\n",
      "71786/71786 [==============================] - 2s 24us/sample - loss: 0.5738 - accuracy: 0.7097 - val_loss: 0.5181 - val_accuracy: 0.7588\n",
      "Epoch 24/300\n",
      "71786/71786 [==============================] - 2s 24us/sample - loss: 0.5741 - accuracy: 0.7100 - val_loss: 0.5170 - val_accuracy: 0.7444\n",
      "Epoch 25/300\n",
      "71786/71786 [==============================] - 2s 23us/sample - loss: 0.5730 - accuracy: 0.7101 - val_loss: 0.5184 - val_accuracy: 0.7513\n",
      "Epoch 26/300\n",
      "71786/71786 [==============================] - 2s 24us/sample - loss: 0.5738 - accuracy: 0.7107 - val_loss: 0.5247 - val_accuracy: 0.7628\n",
      "Epoch 27/300\n",
      "71786/71786 [==============================] - 2s 25us/sample - loss: 0.5755 - accuracy: 0.7089 - val_loss: 0.5201 - val_accuracy: 0.7488\n",
      "Epoch 28/300\n",
      "71786/71786 [==============================] - 2s 24us/sample - loss: 0.5724 - accuracy: 0.7128 - val_loss: 0.5140 - val_accuracy: 0.7643\n",
      "Epoch 29/300\n",
      "71786/71786 [==============================] - 2s 24us/sample - loss: 0.5728 - accuracy: 0.7125 - val_loss: 0.5232 - val_accuracy: 0.7417\n",
      "Epoch 30/300\n",
      "71786/71786 [==============================] - 2s 23us/sample - loss: 0.5710 - accuracy: 0.7130 - val_loss: 0.5137 - val_accuracy: 0.7468\n",
      "Epoch 31/300\n",
      "71786/71786 [==============================] - 2s 24us/sample - loss: 0.5707 - accuracy: 0.7122 - val_loss: 0.5041 - val_accuracy: 0.7762\n",
      "Epoch 32/300\n",
      "71786/71786 [==============================] - 2s 24us/sample - loss: 0.5728 - accuracy: 0.7114 - val_loss: 0.5120 - val_accuracy: 0.7617\n",
      "Epoch 33/300\n",
      "71786/71786 [==============================] - 2s 24us/sample - loss: 0.5708 - accuracy: 0.7128 - val_loss: 0.5110 - val_accuracy: 0.7729\n",
      "Epoch 34/300\n",
      "71786/71786 [==============================] - 2s 24us/sample - loss: 0.5729 - accuracy: 0.7136 - val_loss: 0.5130 - val_accuracy: 0.7572\n",
      "Epoch 35/300\n",
      "71786/71786 [==============================] - 2s 24us/sample - loss: 0.5726 - accuracy: 0.7112 - val_loss: 0.5161 - val_accuracy: 0.7479\n",
      "Epoch 36/300\n",
      "71786/71786 [==============================] - 2s 24us/sample - loss: 0.5724 - accuracy: 0.7123 - val_loss: 0.5173 - val_accuracy: 0.7492\n",
      "Epoch 37/300\n",
      "71786/71786 [==============================] - 2s 23us/sample - loss: 0.5698 - accuracy: 0.7129 - val_loss: 0.5132 - val_accuracy: 0.7598\n",
      "Epoch 38/300\n",
      "71786/71786 [==============================] - 2s 24us/sample - loss: 0.5708 - accuracy: 0.7125 - val_loss: 0.5090 - val_accuracy: 0.7616\n",
      "Epoch 39/300\n",
      "71786/71786 [==============================] - 2s 24us/sample - loss: 0.5717 - accuracy: 0.7119 - val_loss: 0.5129 - val_accuracy: 0.7451\n",
      "Epoch 40/300\n",
      "71786/71786 [==============================] - 2s 23us/sample - loss: 0.5730 - accuracy: 0.7106 - val_loss: 0.5147 - val_accuracy: 0.7671\n",
      "Epoch 41/300\n",
      "71786/71786 [==============================] - 2s 23us/sample - loss: 0.5716 - accuracy: 0.7121 - val_loss: 0.5165 - val_accuracy: 0.7514\n",
      "Epoch 42/300\n",
      "71786/71786 [==============================] - 2s 23us/sample - loss: 0.5729 - accuracy: 0.7106 - val_loss: 0.5142 - val_accuracy: 0.7552\n",
      "Epoch 43/300\n",
      "71786/71786 [==============================] - 2s 24us/sample - loss: 0.5714 - accuracy: 0.7138 - val_loss: 0.5115 - val_accuracy: 0.7617\n",
      "Epoch 44/300\n",
      "71786/71786 [==============================] - 2s 23us/sample - loss: 0.5718 - accuracy: 0.7136 - val_loss: 0.5117 - val_accuracy: 0.7629\n",
      "Epoch 45/300\n",
      "71786/71786 [==============================] - 2s 23us/sample - loss: 0.5728 - accuracy: 0.7119 - val_loss: 0.5160 - val_accuracy: 0.7513\n",
      "Epoch 46/300\n",
      "71786/71786 [==============================] - 2s 24us/sample - loss: 0.5701 - accuracy: 0.7127 - val_loss: 0.5105 - val_accuracy: 0.7581\n",
      "Epoch 47/300\n",
      "71786/71786 [==============================] - 2s 24us/sample - loss: 0.5731 - accuracy: 0.7114 - val_loss: 0.5120 - val_accuracy: 0.7607\n",
      "Epoch 48/300\n",
      "71786/71786 [==============================] - 2s 24us/sample - loss: 0.5737 - accuracy: 0.7098 - val_loss: 0.5186 - val_accuracy: 0.7502\n",
      "Epoch 49/300\n",
      "71786/71786 [==============================] - 2s 24us/sample - loss: 0.5727 - accuracy: 0.7111 - val_loss: 0.5137 - val_accuracy: 0.7522\n",
      "Epoch 50/300\n",
      "71786/71786 [==============================] - 2s 25us/sample - loss: 0.5713 - accuracy: 0.7118 - val_loss: 0.5065 - val_accuracy: 0.7710\n",
      "Epoch 51/300\n",
      "71786/71786 [==============================] - 2s 25us/sample - loss: 0.5710 - accuracy: 0.7139 - val_loss: 0.5187 - val_accuracy: 0.7479\n",
      "Epoch 52/300\n",
      "71786/71786 [==============================] - 2s 25us/sample - loss: 0.5716 - accuracy: 0.7128 - val_loss: 0.5170 - val_accuracy: 0.7531\n",
      "Epoch 53/300\n",
      "71786/71786 [==============================] - 2s 24us/sample - loss: 0.5710 - accuracy: 0.7136 - val_loss: 0.5130 - val_accuracy: 0.7543\n",
      "Epoch 54/300\n",
      "71786/71786 [==============================] - 2s 24us/sample - loss: 0.5729 - accuracy: 0.7098 - val_loss: 0.5154 - val_accuracy: 0.7554\n",
      "Epoch 55/300\n",
      "71786/71786 [==============================] - 2s 24us/sample - loss: 0.5723 - accuracy: 0.7108 - val_loss: 0.5081 - val_accuracy: 0.7570\n",
      "Epoch 56/300\n",
      "71786/71786 [==============================] - 2s 24us/sample - loss: 0.5688 - accuracy: 0.7139 - val_loss: 0.5117 - val_accuracy: 0.7515\n",
      "Epoch 57/300\n",
      "50560/71786 [====================>.........] - ETA: 0s - loss: 0.5719 - accuracy: 0.7138"
     ]
    }
   ],
   "source": [
    "from tensorflow.keras.callbacks import EarlyStopping\n",
    "early_stop = EarlyStopping(monitor='val_loss', mode='min', patience=50)\n",
    "ANN = KerasClassifier(build_fn=create_model)\n",
    "\n",
    "params={'optimizer' : ['adam', 'rmsprop'],\n",
    "        'batch_size': [128, 256, 512, 800]}\n",
    "\n",
    "\n",
    "##accuracy\n",
    "grid_search_acc= GridSearchCV(estimator=ANN, param_grid= params, scoring='accuracy',cv=2, n_jobs=-1)\n",
    "grid_search_acc= grid_search_acc.fit(X_train, Y_train, epochs=300, validation_data=(X_test, Y_test), callbacks=[early_stop])\n",
    "y_predict= grid_search_acc.best_estimator_.predict(X_test)"
   ]
  },
  {
   "cell_type": "code",
   "execution_count": 5,
   "metadata": {
    "collapsed": false,
    "pycharm": {
     "name": "#%%\n"
    }
   },
   "outputs": [],
   "source": [
    "## get avg precision & avg recall\n",
    "report= classification_report(Y_test, y_predict, output_dict=True)\n",
    "avg_list = report.pop(\"weighted avg\")\n",
    "avg_precision= round(avg_list['precision'], 3)\n",
    "avg_recall= round(avg_list['recall'], 3)\n",
    "accuraccy= round(accuracy_score(Y_test,y_predict), 3)\n",
    "## csv row\n",
    "csv_row = [get_algo_path(), 'ANN', str(grid_search_acc.best_params_), str(accuraccy), str(avg_precision), str(avg_recall)]\n",
    "## write file\n",
    "csv_file= get_csv_path()\n",
    "write_new_score(csv_file, csv_row)"
   ]
  },
  {
   "cell_type": "code",
   "execution_count": 6,
   "metadata": {
    "pycharm": {
     "name": "#%%\n"
    },
    "scrolled": true
   },
   "outputs": [
    {
     "name": "stdout",
     "output_type": "stream",
     "text": [
      "----------\n",
      "best parameters:  {'batch_size': 128, 'optimizer': 'rmsprop'}\n",
      "----------\n",
      "[[ 9808  5551]\n",
      " [ 1676 13731]]\n",
      "----------\n",
      "              precision    recall  f1-score   support\n",
      "\n",
      "           0       0.85      0.64      0.73     15359\n",
      "           1       0.71      0.89      0.79     15407\n",
      "\n",
      "    accuracy                           0.77     30766\n",
      "   macro avg       0.78      0.76      0.76     30766\n",
      "weighted avg       0.78      0.77      0.76     30766\n",
      "\n",
      "----------\n"
     ]
    }
   ],
   "source": [
    "## evaluating the model\n",
    "print(\"----------\")\n",
    "print('best parameters: ', grid_search_acc.best_params_)\n",
    "print(\"----------\")\n",
    "print(confusion_matrix(Y_test,y_predict))\n",
    "print(\"----------\")\n",
    "print(classification_report(Y_test, y_predict))\n",
    "print(\"----------\")"
   ]
  }
 ],
 "metadata": {
  "kernelspec": {
   "display_name": "Python 3",
   "language": "python",
   "name": "python3"
  },
  "language_info": {
   "codemirror_mode": {
    "name": "ipython",
    "version": 3
   },
   "file_extension": ".py",
   "mimetype": "text/x-python",
   "name": "python",
   "nbconvert_exporter": "python",
   "pygments_lexer": "ipython3",
   "version": "3.7.4"
  },
  "pycharm": {
   "stem_cell": {
    "cell_type": "raw",
    "metadata": {
     "collapsed": false
    },
    "source": []
   }
  }
 },
 "nbformat": 4,
 "nbformat_minor": 1
}
