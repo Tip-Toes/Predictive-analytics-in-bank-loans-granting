{
 "cells": [
  {
   "cell_type": "code",
   "execution_count": 114,
   "metadata": {},
   "outputs": [],
   "source": [
    "import pandas as pd\n",
    "import numpy as np"
   ]
  },
  {
   "cell_type": "markdown",
   "metadata": {},
   "source": [
    " "
   ]
  },
  {
   "cell_type": "markdown",
   "metadata": {},
   "source": [
    " "
   ]
  },
  {
   "cell_type": "markdown",
   "metadata": {},
   "source": [
    " "
   ]
  },
  {
   "cell_type": "markdown",
   "metadata": {},
   "source": [
    " "
   ]
  },
  {
   "cell_type": "markdown",
   "metadata": {},
   "source": [
    " "
   ]
  },
  {
   "cell_type": "markdown",
   "metadata": {},
   "source": [
    " "
   ]
  },
  {
   "cell_type": "markdown",
   "metadata": {},
   "source": [
    " # Data introduction start"
   ]
  },
  {
   "cell_type": "code",
   "execution_count": 115,
   "metadata": {},
   "outputs": [
    {
     "data": {
      "text/html": [
       "<div>\n",
       "<style scoped>\n",
       "    .dataframe tbody tr th:only-of-type {\n",
       "        vertical-align: middle;\n",
       "    }\n",
       "\n",
       "    .dataframe tbody tr th {\n",
       "        vertical-align: top;\n",
       "    }\n",
       "\n",
       "    .dataframe thead th {\n",
       "        text-align: right;\n",
       "    }\n",
       "</style>\n",
       "<table border=\"1\" class=\"dataframe\">\n",
       "  <thead>\n",
       "    <tr style=\"text-align: right;\">\n",
       "      <th></th>\n",
       "      <th>Loan Status</th>\n",
       "      <th>Current Loan Amount</th>\n",
       "      <th>Term</th>\n",
       "      <th>Credit Score</th>\n",
       "      <th>Annual Income</th>\n",
       "      <th>Years in current job</th>\n",
       "      <th>Home Ownership</th>\n",
       "      <th>Purpose</th>\n",
       "      <th>Monthly Debt</th>\n",
       "      <th>Years of Credit History</th>\n",
       "      <th>Number of Open Accounts</th>\n",
       "      <th>Number of Credit Problems</th>\n",
       "      <th>Current Credit Balance</th>\n",
       "      <th>Maximum Open Credit</th>\n",
       "      <th>Bankruptcies</th>\n",
       "    </tr>\n",
       "  </thead>\n",
       "  <tbody>\n",
       "    <tr>\n",
       "      <td>0</td>\n",
       "      <td>Fully Paid</td>\n",
       "      <td>445412.0</td>\n",
       "      <td>Short Term</td>\n",
       "      <td>709.0</td>\n",
       "      <td>1167493.0</td>\n",
       "      <td>8 years</td>\n",
       "      <td>Home Mortgage</td>\n",
       "      <td>Home Improvements</td>\n",
       "      <td>5214.74</td>\n",
       "      <td>17.2</td>\n",
       "      <td>6.0</td>\n",
       "      <td>1.0</td>\n",
       "      <td>228190.0</td>\n",
       "      <td>416746.0</td>\n",
       "      <td>&gt;=1</td>\n",
       "    </tr>\n",
       "    <tr>\n",
       "      <td>1</td>\n",
       "      <td>Fully Paid</td>\n",
       "      <td>99999999.0</td>\n",
       "      <td>Short Term</td>\n",
       "      <td>741.0</td>\n",
       "      <td>2231892.0</td>\n",
       "      <td>8 years</td>\n",
       "      <td>Own Home</td>\n",
       "      <td>Debt Consolidation</td>\n",
       "      <td>29200.53</td>\n",
       "      <td>14.9</td>\n",
       "      <td>18.0</td>\n",
       "      <td>1.0</td>\n",
       "      <td>297996.0</td>\n",
       "      <td>750090.0</td>\n",
       "      <td>0.0</td>\n",
       "    </tr>\n",
       "    <tr>\n",
       "      <td>2</td>\n",
       "      <td>Fully Paid</td>\n",
       "      <td>347666.0</td>\n",
       "      <td>Long Term</td>\n",
       "      <td>721.0</td>\n",
       "      <td>806949.0</td>\n",
       "      <td>3 years</td>\n",
       "      <td>Own Home</td>\n",
       "      <td>Debt Consolidation</td>\n",
       "      <td>8741.90</td>\n",
       "      <td>12.0</td>\n",
       "      <td>9.0</td>\n",
       "      <td>0.0</td>\n",
       "      <td>256329.0</td>\n",
       "      <td>386958.0</td>\n",
       "      <td>0.0</td>\n",
       "    </tr>\n",
       "    <tr>\n",
       "      <td>3</td>\n",
       "      <td>Charged Off</td>\n",
       "      <td>206602.0</td>\n",
       "      <td>Short Term</td>\n",
       "      <td>7290.0</td>\n",
       "      <td>896857.0</td>\n",
       "      <td>10+ years</td>\n",
       "      <td>Home Mortgage</td>\n",
       "      <td>Debt Consolidation</td>\n",
       "      <td>16367.74</td>\n",
       "      <td>17.3</td>\n",
       "      <td>6.0</td>\n",
       "      <td>0.0</td>\n",
       "      <td>215308.0</td>\n",
       "      <td>272448.0</td>\n",
       "      <td>0.0</td>\n",
       "    </tr>\n",
       "    <tr>\n",
       "      <td>4</td>\n",
       "      <td>Fully Paid</td>\n",
       "      <td>217646.0</td>\n",
       "      <td>Short Term</td>\n",
       "      <td>730.0</td>\n",
       "      <td>1184194.0</td>\n",
       "      <td>&lt; 1 year</td>\n",
       "      <td>Home Mortgage</td>\n",
       "      <td>Debt Consolidation</td>\n",
       "      <td>10855.08</td>\n",
       "      <td>19.6</td>\n",
       "      <td>13.0</td>\n",
       "      <td>1.0</td>\n",
       "      <td>122170.0</td>\n",
       "      <td>272052.0</td>\n",
       "      <td>&gt;=1</td>\n",
       "    </tr>\n",
       "  </tbody>\n",
       "</table>\n",
       "</div>"
      ],
      "text/plain": [
       "   Loan Status  Current Loan Amount        Term  Credit Score  Annual Income  \\\n",
       "0   Fully Paid             445412.0  Short Term         709.0      1167493.0   \n",
       "1   Fully Paid           99999999.0  Short Term         741.0      2231892.0   \n",
       "2   Fully Paid             347666.0   Long Term         721.0       806949.0   \n",
       "3  Charged Off             206602.0  Short Term        7290.0       896857.0   \n",
       "4   Fully Paid             217646.0  Short Term         730.0      1184194.0   \n",
       "\n",
       "  Years in current job Home Ownership             Purpose  Monthly Debt  \\\n",
       "0              8 years  Home Mortgage   Home Improvements       5214.74   \n",
       "1              8 years       Own Home  Debt Consolidation      29200.53   \n",
       "2              3 years       Own Home  Debt Consolidation       8741.90   \n",
       "3            10+ years  Home Mortgage  Debt Consolidation      16367.74   \n",
       "4             < 1 year  Home Mortgage  Debt Consolidation      10855.08   \n",
       "\n",
       "   Years of Credit History  Number of Open Accounts Number of Credit Problems  \\\n",
       "0                     17.2                      6.0                       1.0   \n",
       "1                     14.9                     18.0                       1.0   \n",
       "2                     12.0                      9.0                       0.0   \n",
       "3                     17.3                      6.0                       0.0   \n",
       "4                     19.6                     13.0                       1.0   \n",
       "\n",
       "   Current Credit Balance  Maximum Open Credit Bankruptcies  \n",
       "0                228190.0             416746.0          >=1  \n",
       "1                297996.0             750090.0          0.0  \n",
       "2                256329.0             386958.0          0.0  \n",
       "3                215308.0             272448.0          0.0  \n",
       "4                122170.0             272052.0          >=1  "
      ]
     },
     "execution_count": 115,
     "metadata": {},
     "output_type": "execute_result"
    }
   ],
   "source": [
    "data = pd.read_csv('3_credit_qmvd_cmvd.csv',encoding='latin-1')\n",
    "data.head()"
   ]
  },
  {
   "cell_type": "code",
   "execution_count": 116,
   "metadata": {},
   "outputs": [
    {
     "data": {
      "text/plain": [
       "67490"
      ]
     },
     "execution_count": 116,
     "metadata": {},
     "output_type": "execute_result"
    }
   ],
   "source": [
    "len(data)"
   ]
  },
  {
   "cell_type": "code",
   "execution_count": 117,
   "metadata": {},
   "outputs": [
    {
     "data": {
      "text/plain": [
       "Loan Status                   object\n",
       "Current Loan Amount          float64\n",
       "Term                          object\n",
       "Credit Score                 float64\n",
       "Annual Income                float64\n",
       "Years in current job          object\n",
       "Home Ownership                object\n",
       "Purpose                       object\n",
       "Monthly Debt                 float64\n",
       "Years of Credit History      float64\n",
       "Number of Open Accounts      float64\n",
       "Number of Credit Problems     object\n",
       "Current Credit Balance       float64\n",
       "Maximum Open Credit          float64\n",
       "Bankruptcies                  object\n",
       "dtype: object"
      ]
     },
     "execution_count": 117,
     "metadata": {},
     "output_type": "execute_result"
    }
   ],
   "source": [
    "data.dtypes"
   ]
  },
  {
   "cell_type": "markdown",
   "metadata": {},
   "source": [
    " "
   ]
  },
  {
   "cell_type": "markdown",
   "metadata": {},
   "source": [
    " "
   ]
  },
  {
   "cell_type": "markdown",
   "metadata": {},
   "source": [
    " "
   ]
  },
  {
   "cell_type": "markdown",
   "metadata": {},
   "source": [
    "# Case1 : Z-score"
   ]
  },
  {
   "cell_type": "code",
   "execution_count": 118,
   "metadata": {},
   "outputs": [],
   "source": [
    "data1 = data.copy()"
   ]
  },
  {
   "cell_type": "code",
   "execution_count": 119,
   "metadata": {},
   "outputs": [],
   "source": [
    "cla_mean = data1['Current Loan Amount'].mean()\n",
    "cla_std = data1['Current Loan Amount'].std()\n",
    "data1['Current Loan Amount'] = (data1['Current Loan Amount'] - cla_mean)/cla_std"
   ]
  },
  {
   "cell_type": "code",
   "execution_count": 120,
   "metadata": {},
   "outputs": [],
   "source": [
    "cs_mean = data1['Credit Score'].mean()\n",
    "cs_std = data1['Credit Score'].std()\n",
    "data1['Credit Score'] = (data1['Credit Score'] - cs_mean)/cs_std"
   ]
  },
  {
   "cell_type": "code",
   "execution_count": 121,
   "metadata": {},
   "outputs": [],
   "source": [
    "ai_mean = data1['Annual Income'].mean()\n",
    "ai_std = data1['Annual Income'].std()\n",
    "data1['Annual Income'] = (data1['Annual Income'] - ai_mean)/ai_std"
   ]
  },
  {
   "cell_type": "code",
   "execution_count": 122,
   "metadata": {},
   "outputs": [],
   "source": [
    "md_mean = data1['Monthly Debt'].mean()\n",
    "md_std = data1['Monthly Debt'].std()\n",
    "data1['Monthly Debt'] = (data1['Monthly Debt'] - md_mean)/md_std"
   ]
  },
  {
   "cell_type": "code",
   "execution_count": 123,
   "metadata": {},
   "outputs": [],
   "source": [
    "ych_mean = data1['Years of Credit History'].mean()\n",
    "ych_std = data1['Years of Credit History'].std()\n",
    "data1['Years of Credit History'] = (data1['Years of Credit History'] - ych_mean)/ych_std"
   ]
  },
  {
   "cell_type": "code",
   "execution_count": 124,
   "metadata": {},
   "outputs": [],
   "source": [
    "noa_mean = data1['Number of Open Accounts'].mean()\n",
    "noa_std = data1['Number of Open Accounts'].std()\n",
    "data1['Number of Open Accounts'] = (data1['Number of Open Accounts'] - noa_mean)/noa_std"
   ]
  },
  {
   "cell_type": "code",
   "execution_count": 125,
   "metadata": {},
   "outputs": [],
   "source": [
    "ccb_mean = data1['Current Credit Balance'].mean()\n",
    "ccb_std = data1['Current Credit Balance'].std()\n",
    "data1['Current Credit Balance'] = (data1['Current Credit Balance'] - ccb_mean)/ccb_std"
   ]
  },
  {
   "cell_type": "code",
   "execution_count": 126,
   "metadata": {},
   "outputs": [],
   "source": [
    "moc_mean = data1['Maximum Open Credit'].mean()\n",
    "moc_std = data1['Maximum Open Credit'].std()\n",
    "data1['Maximum Open Credit'] = (data1['Maximum Open Credit'] - moc_mean)/moc_std"
   ]
  },
  {
   "cell_type": "markdown",
   "metadata": {},
   "source": [
    "## Emport the data"
   ]
  },
  {
   "cell_type": "code",
   "execution_count": 127,
   "metadata": {},
   "outputs": [],
   "source": [
    "data1.to_csv(\"4_credit_qmvd_cmvd_z.csv\", index=False)"
   ]
  },
  {
   "cell_type": "markdown",
   "metadata": {},
   "source": [
    "  "
   ]
  },
  {
   "cell_type": "markdown",
   "metadata": {},
   "source": [
    "  "
   ]
  },
  {
   "cell_type": "markdown",
   "metadata": {},
   "source": [
    " "
   ]
  },
  {
   "cell_type": "markdown",
   "metadata": {},
   "source": [
    " "
   ]
  },
  {
   "cell_type": "markdown",
   "metadata": {},
   "source": [
    " "
   ]
  },
  {
   "cell_type": "markdown",
   "metadata": {},
   "source": [
    "# CASE2 : MinMax"
   ]
  },
  {
   "cell_type": "code",
   "execution_count": 128,
   "metadata": {},
   "outputs": [],
   "source": [
    "data2 = data.copy()"
   ]
  },
  {
   "cell_type": "code",
   "execution_count": 129,
   "metadata": {},
   "outputs": [],
   "source": [
    "cla_min = data2['Current Loan Amount'].min()\n",
    "cla_max = data2['Current Loan Amount'].max()\n",
    "data2['Current Loan Amount'] = (data2['Current Loan Amount'] - cla_min)/(cla_max-cla_min)"
   ]
  },
  {
   "cell_type": "code",
   "execution_count": 130,
   "metadata": {},
   "outputs": [],
   "source": [
    "cs_min = data2['Credit Score'].min()\n",
    "cs_max = data2['Credit Score'].max()\n",
    "data2['Credit Score'] = (data2['Credit Score'] - cs_min)/(cs_max-cs_min)"
   ]
  },
  {
   "cell_type": "code",
   "execution_count": 131,
   "metadata": {},
   "outputs": [],
   "source": [
    "ai_min = data2['Annual Income'].min()\n",
    "ai_max = data2['Annual Income'].max()\n",
    "data2['Annual Income'] = (data2['Annual Income'] - ai_min)/(ai_max-ai_min)"
   ]
  },
  {
   "cell_type": "code",
   "execution_count": 132,
   "metadata": {},
   "outputs": [],
   "source": [
    "md_min = data2['Monthly Debt'].min()\n",
    "md_max = data2['Monthly Debt'].max()\n",
    "data2['Monthly Debt'] = (data2['Monthly Debt'] - md_min)/(md_max-md_min)"
   ]
  },
  {
   "cell_type": "code",
   "execution_count": 133,
   "metadata": {},
   "outputs": [],
   "source": [
    "ych_min = data2['Years of Credit History'].min()\n",
    "ych_max = data2['Years of Credit History'].max()\n",
    "data2['Years of Credit History'] = (data2['Years of Credit History'] - ych_min)/(ych_max-ych_min)"
   ]
  },
  {
   "cell_type": "code",
   "execution_count": 134,
   "metadata": {},
   "outputs": [],
   "source": [
    "noa_min = data2['Number of Open Accounts'].min()\n",
    "noa_max = data2['Number of Open Accounts'].max()\n",
    "data2['Number of Open Accounts'] = (data2['Number of Open Accounts'] - noa_min)/(noa_max-noa_min)"
   ]
  },
  {
   "cell_type": "code",
   "execution_count": 135,
   "metadata": {},
   "outputs": [],
   "source": [
    "ccb_min = data2['Current Credit Balance'].min()\n",
    "ccb_max = data2['Current Credit Balance'].max()\n",
    "data2['Current Credit Balance'] = (data2['Current Credit Balance'] - ccb_min)/(ccb_max-ccb_min)"
   ]
  },
  {
   "cell_type": "code",
   "execution_count": 136,
   "metadata": {},
   "outputs": [],
   "source": [
    "moc_min = data2['Maximum Open Credit'].min()\n",
    "moc_max = data2['Maximum Open Credit'].max()\n",
    "data2['Maximum Open Credit'] = (data2['Maximum Open Credit'] - moc_min)/(moc_max-moc_min)"
   ]
  },
  {
   "cell_type": "markdown",
   "metadata": {},
   "source": [
    "## Emport the data"
   ]
  },
  {
   "cell_type": "code",
   "execution_count": 137,
   "metadata": {},
   "outputs": [],
   "source": [
    "data2.to_csv(\"4_credit_qmvd_cmvd_mm.csv\", index=False)"
   ]
  },
  {
   "cell_type": "markdown",
   "metadata": {},
   "source": [
    "  "
   ]
  },
  {
   "cell_type": "markdown",
   "metadata": {},
   "source": [
    "  "
   ]
  },
  {
   "cell_type": "markdown",
   "metadata": {},
   "source": [
    " "
   ]
  },
  {
   "cell_type": "markdown",
   "metadata": {},
   "source": [
    " "
   ]
  },
  {
   "cell_type": "markdown",
   "metadata": {},
   "source": [
    " "
   ]
  },
  {
   "cell_type": "markdown",
   "metadata": {},
   "source": [
    "# CASE2 : Logistic"
   ]
  },
  {
   "cell_type": "code",
   "execution_count": 138,
   "metadata": {},
   "outputs": [],
   "source": [
    "data3 = data.copy()"
   ]
  },
  {
   "cell_type": "code",
   "execution_count": 139,
   "metadata": {},
   "outputs": [],
   "source": [
    "data3['Current Loan Amount'] = (1 / (1 + np.exp(-data3['Current Loan Amount'])))"
   ]
  },
  {
   "cell_type": "code",
   "execution_count": 140,
   "metadata": {},
   "outputs": [],
   "source": [
    "data3['Credit Score'] = (1 / (1 + np.exp(-data3['Credit Score'])))"
   ]
  },
  {
   "cell_type": "code",
   "execution_count": 141,
   "metadata": {},
   "outputs": [],
   "source": [
    "data3['Annual Income'] = (1 / (1 + np.exp(-data3['Annual Income'])))"
   ]
  },
  {
   "cell_type": "code",
   "execution_count": 142,
   "metadata": {},
   "outputs": [],
   "source": [
    "data3['Monthly Debt'] = (1 / (1 + np.exp(-data3['Monthly Debt'])))"
   ]
  },
  {
   "cell_type": "code",
   "execution_count": 143,
   "metadata": {},
   "outputs": [],
   "source": [
    "data3['Years of Credit History'] = (1 / (1 + np.exp(-data3['Years of Credit History'])))"
   ]
  },
  {
   "cell_type": "code",
   "execution_count": 144,
   "metadata": {},
   "outputs": [],
   "source": [
    "data3['Number of Open Accounts'] = (1 / (1 + np.exp(-data3['Number of Open Accounts'])))"
   ]
  },
  {
   "cell_type": "code",
   "execution_count": 145,
   "metadata": {},
   "outputs": [],
   "source": [
    "data3['Current Credit Balance'] = (1 / (1 + np.exp(-data3['Current Credit Balance'])))"
   ]
  },
  {
   "cell_type": "code",
   "execution_count": 146,
   "metadata": {},
   "outputs": [],
   "source": [
    "data3['Maximum Open Credit'] = (1 / (1 + np.exp(-data3['Maximum Open Credit'])))"
   ]
  },
  {
   "cell_type": "markdown",
   "metadata": {},
   "source": [
    "## Emport the data"
   ]
  },
  {
   "cell_type": "code",
   "execution_count": 148,
   "metadata": {},
   "outputs": [],
   "source": [
    "data3.to_csv(\"4_credit_qmvd_cmvd_l.csv\", index=False)"
   ]
  },
  {
   "cell_type": "markdown",
   "metadata": {},
   "source": [
    " end"
   ]
  }
 ],
 "metadata": {
  "kernelspec": {
   "display_name": "Python 3",
   "language": "python",
   "name": "python3"
  },
  "language_info": {
   "codemirror_mode": {
    "name": "ipython",
    "version": 3
   },
   "file_extension": ".py",
   "mimetype": "text/x-python",
   "name": "python",
   "nbconvert_exporter": "python",
   "pygments_lexer": "ipython3",
   "version": "3.7.4"
  }
 },
 "nbformat": 4,
 "nbformat_minor": 2
}
