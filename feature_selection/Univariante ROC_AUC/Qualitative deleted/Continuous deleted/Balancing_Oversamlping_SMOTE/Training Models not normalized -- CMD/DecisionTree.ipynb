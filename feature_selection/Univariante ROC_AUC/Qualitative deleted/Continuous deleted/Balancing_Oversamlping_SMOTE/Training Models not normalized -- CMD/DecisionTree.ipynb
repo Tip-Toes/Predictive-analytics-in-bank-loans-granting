{
 "cells": [
  {
   "cell_type": "code",
   "execution_count": 1,
   "metadata": {
    "pycharm": {
     "is_executing": false
    }
   },
   "outputs": [],
   "source": [
    "from pylab import rcParams\n",
    "rcParams['figure.figsize'] = 10, 5\n",
    "import warnings\n",
    "warnings.filterwarnings('ignore')\n",
    "from sklearn.tree import DecisionTreeClassifier\n",
    "import pandas as pd\n",
    "from sklearn.model_selection import GridSearchCV, train_test_split\n",
    "from sklearn.metrics import confusion_matrix, classification_report, average_precision_score, accuracy_score\n",
    "import csv"
   ]
  },
  {
   "cell_type": "code",
   "execution_count": 99,
   "metadata": {
    "pycharm": {
     "is_executing": false,
     "name": "#%%\n"
    }
   },
   "outputs": [],
   "source": []
  },
  {
   "cell_type": "code",
   "execution_count": 2,
   "metadata": {
    "pycharm": {
     "is_executing": false,
     "name": "#%%\n"
    }
   },
   "outputs": [],
   "source": [
    "def get_algo_path():\n",
    "    import os\n",
    "    cwd = os.getcwd()\n",
    "    s='\\\\'\n",
    "    if '\\\\' not in cwd:\n",
    "        s='/'\n",
    "    cwd= cwd.split(s)[4:-1]\n",
    "    cwd.append('Not Normalized')\n",
    "    cwd='/'.join(cwd)\n",
    "    return cwd\n",
    "\n",
    "def get_csv_path():\n",
    "    import os\n",
    "    cwd = os.getcwd()\n",
    "    s=\"\\\\\"\n",
    "    if \"\\\\\" not in cwd:\n",
    "        s='/'\n",
    "    file= cwd.split(s)[:4]\n",
    "    file.append('models_scores.csv')\n",
    "    file= s.join(file)\n",
    "    return file\n",
    "\n",
    "def line_is_exist(file, row):\n",
    "    logfile = open(file, 'r')\n",
    "    loglist = logfile.readlines()\n",
    "    logfile.close()\n",
    "    for line in loglist:\n",
    "        if ','.join(row) in line:\n",
    "            return True\n",
    "    return False\n",
    "\n",
    "def write_new_score(file, line):\n",
    "    if( not line_is_exist(file, line) ):\n",
    "        with open(file, 'a') as f:\n",
    "            writer = csv.writer(f)\n",
    "            writer.writerow(line)\n",
    "    else:\n",
    "        print('line exsist already')\n",
    "    "
   ]
  },
  {
   "cell_type": "code",
   "execution_count": 3,
   "metadata": {
    "pycharm": {
     "is_executing": false,
     "name": "#%%\n"
    }
   },
   "outputs": [],
   "source": [
    "data= pd.read_csv('../data.csv')"
   ]
  },
  {
   "cell_type": "code",
   "execution_count": 4,
   "metadata": {
    "pycharm": {
     "is_executing": false,
     "name": "#%%\n"
    }
   },
   "outputs": [],
   "source": [
    "##copying data\n",
    "data1=data.copy()\n",
    "### spliting data en X et Y\n",
    "X= data1.drop('Loan Status', axis=1)\n",
    "Y= data1['Loan Status']\n",
    "### spliting the data to train and test\n",
    "X_train , X_test , Y_train , Y_test = train_test_split(X, Y, test_size = 0.30, random_state = 123)\n",
    "## dicision tree (CART)\n",
    "dct = DecisionTreeClassifier()\n",
    "params={'criterion' : ['gini', 'entropy'],\n",
    "        'max_depth': [4, 5, 6, 7, 8, 9, 10, 11, 12, 13,14, 15, 16, 17, None]}\n",
    "\n",
    "##accuracy\n",
    "grid_search_acc= GridSearchCV(estimator=dct, param_grid= params, scoring='accuracy',cv=2, n_jobs=-1)\n",
    "grid_search_acc= grid_search_acc.fit(X_train, Y_train)\n",
    "y_predict= grid_search_acc.best_estimator_.predict(X_test)\n"
   ]
  },
  {
   "cell_type": "code",
   "execution_count": 5,
   "metadata": {
    "pycharm": {
     "is_executing": false,
     "name": "#%%\n"
    }
   },
   "outputs": [],
   "source": [
    "## get avg precision & avg recall\n",
    "report= classification_report(Y_test, y_predict, output_dict=True)\n",
    "avg_list = report.pop(\"weighted avg\")\n",
    "avg_precision= round(avg_list['precision'], 3)\n",
    "avg_recall= round(avg_list['recall'], 3)\n",
    "accuraccy= round(accuracy_score(Y_test,y_predict), 3)\n",
    "## csv row\n",
    "csv_row = [get_algo_path(), 'Decision Tree', str(grid_search_acc.best_params_), str(accuraccy), str(avg_precision), str(avg_recall)]\n",
    "## write file\n",
    "csv_file= get_csv_path()\n",
    "write_new_score(csv_file, csv_row)"
   ]
  },
  {
   "cell_type": "code",
   "execution_count": 6,
   "metadata": {
    "pycharm": {
     "is_executing": false,
     "name": "#%%\n"
    }
   },
   "outputs": [
    {
     "name": "stdout",
     "output_type": "stream",
     "text": [
      "----------\n",
      "best parameters:  {'criterion': 'entropy', 'max_depth': 11}\n",
      "----------\n",
      "[[10850  4509]\n",
      " [  410 14997]]\n",
      "----------\n",
      "              precision    recall  f1-score   support\n",
      "\n",
      "           0       0.96      0.71      0.82     15359\n",
      "           1       0.77      0.97      0.86     15407\n",
      "\n",
      "    accuracy                           0.84     30766\n",
      "   macro avg       0.87      0.84      0.84     30766\n",
      "weighted avg       0.87      0.84      0.84     30766\n",
      "\n",
      "----------\n"
     ]
    }
   ],
   "source": [
    "## evaluating the model\n",
    "print(\"----------\")\n",
    "print('best parameters: ', grid_search_acc.best_params_)\n",
    "print(\"----------\")\n",
    "print(confusion_matrix(Y_test,y_predict))\n",
    "print(\"----------\")\n",
    "print(classification_report(Y_test, y_predict))\n",
    "print(\"----------\")\n"
   ]
  },
  {
   "cell_type": "code",
   "execution_count": 7,
   "metadata": {
    "collapsed": false,
    "pycharm": {
     "is_executing": false,
     "name": "#%%\n"
    }
   },
   "outputs": [
    {
     "data": {
      "text/plain": [
       "{'mean_fit_time': array([0.23088181, 0.25731194, 0.32114184, 0.30917335, 0.35604692,\n",
       "        0.37300205, 0.38546789, 0.42137265, 0.43334055, 0.43633163,\n",
       "        0.47074127, 0.48620093, 0.52759147, 0.52808762, 0.60887134,\n",
       "        0.33808351, 0.3271246 , 0.37449753, 0.44281495, 0.49517477,\n",
       "        0.53606629, 0.53955555, 0.60388529, 0.63330615, 0.62083817,\n",
       "        0.65524733, 0.66023421, 0.68417037, 0.63679504, 0.67070448]),\n",
       " 'std_fit_time': array([0.00049794, 0.00897586, 0.01795161, 0.01196885, 0.00199366,\n",
       "        0.02493286, 0.02443516, 0.01545811, 0.03739929, 0.02443397,\n",
       "        0.02792549, 0.02643025, 0.03191018, 0.00249314, 0.03540576,\n",
       "        0.00996304, 0.00797915, 0.01745307, 0.01496112, 0.03141463,\n",
       "        0.02642941, 0.00199509, 0.00448906, 0.00698125, 0.00648284,\n",
       "        0.01894891, 0.00398922, 0.00897634, 0.02642941, 0.00149596]),\n",
       " 'mean_score_time': array([0.01446128, 0.01246643, 0.01346564, 0.01346338, 0.01346481,\n",
       "        0.01296544, 0.01446009, 0.01496041, 0.01396239, 0.01396263,\n",
       "        0.0144608 , 0.01745188, 0.01695538, 0.01496041, 0.01745403,\n",
       "        0.01146948, 0.01196814, 0.01246691, 0.0124675 , 0.01496029,\n",
       "        0.01196969, 0.01446152, 0.01296449, 0.01446199, 0.01396334,\n",
       "        0.01446223, 0.01396298, 0.01196826, 0.01097119, 0.01097047]),\n",
       " 'std_score_time': array([2.49290466e-03, 4.98294830e-04, 4.98771667e-04, 4.99367714e-04,\n",
       "        4.98652458e-04, 0.00000000e+00, 4.97341156e-04, 3.57627869e-07,\n",
       "        1.19209290e-07, 3.57627869e-07, 4.98533249e-04, 3.48961353e-03,\n",
       "        9.96589661e-04, 1.19209290e-07, 4.99129295e-04, 4.98414040e-04,\n",
       "        2.38418579e-07, 4.98771667e-04, 4.98414040e-04, 9.97304916e-04,\n",
       "        1.31130219e-06, 1.49583817e-03, 2.38418579e-07, 4.98533249e-04,\n",
       "        5.96046448e-07, 4.99963760e-04, 9.97781754e-04, 1.99520588e-03,\n",
       "        9.97662544e-04, 1.19209290e-07]),\n",
       " 'param_criterion': masked_array(data=['gini', 'gini', 'gini', 'gini', 'gini', 'gini', 'gini',\n",
       "                    'gini', 'gini', 'gini', 'gini', 'gini', 'gini', 'gini',\n",
       "                    'gini', 'entropy', 'entropy', 'entropy', 'entropy',\n",
       "                    'entropy', 'entropy', 'entropy', 'entropy', 'entropy',\n",
       "                    'entropy', 'entropy', 'entropy', 'entropy', 'entropy',\n",
       "                    'entropy'],\n",
       "              mask=[False, False, False, False, False, False, False, False,\n",
       "                    False, False, False, False, False, False, False, False,\n",
       "                    False, False, False, False, False, False, False, False,\n",
       "                    False, False, False, False, False, False],\n",
       "        fill_value='?',\n",
       "             dtype=object),\n",
       " 'param_max_depth': masked_array(data=[4, 5, 6, 7, 8, 9, 10, 11, 12, 13, 14, 15, 16, 17, None,\n",
       "                    4, 5, 6, 7, 8, 9, 10, 11, 12, 13, 14, 15, 16, 17, None],\n",
       "              mask=[False, False, False, False, False, False, False, False,\n",
       "                    False, False, False, False, False, False, False, False,\n",
       "                    False, False, False, False, False, False, False, False,\n",
       "                    False, False, False, False, False, False],\n",
       "        fill_value='?',\n",
       "             dtype=object),\n",
       " 'params': [{'criterion': 'gini', 'max_depth': 4},\n",
       "  {'criterion': 'gini', 'max_depth': 5},\n",
       "  {'criterion': 'gini', 'max_depth': 6},\n",
       "  {'criterion': 'gini', 'max_depth': 7},\n",
       "  {'criterion': 'gini', 'max_depth': 8},\n",
       "  {'criterion': 'gini', 'max_depth': 9},\n",
       "  {'criterion': 'gini', 'max_depth': 10},\n",
       "  {'criterion': 'gini', 'max_depth': 11},\n",
       "  {'criterion': 'gini', 'max_depth': 12},\n",
       "  {'criterion': 'gini', 'max_depth': 13},\n",
       "  {'criterion': 'gini', 'max_depth': 14},\n",
       "  {'criterion': 'gini', 'max_depth': 15},\n",
       "  {'criterion': 'gini', 'max_depth': 16},\n",
       "  {'criterion': 'gini', 'max_depth': 17},\n",
       "  {'criterion': 'gini', 'max_depth': None},\n",
       "  {'criterion': 'entropy', 'max_depth': 4},\n",
       "  {'criterion': 'entropy', 'max_depth': 5},\n",
       "  {'criterion': 'entropy', 'max_depth': 6},\n",
       "  {'criterion': 'entropy', 'max_depth': 7},\n",
       "  {'criterion': 'entropy', 'max_depth': 8},\n",
       "  {'criterion': 'entropy', 'max_depth': 9},\n",
       "  {'criterion': 'entropy', 'max_depth': 10},\n",
       "  {'criterion': 'entropy', 'max_depth': 11},\n",
       "  {'criterion': 'entropy', 'max_depth': 12},\n",
       "  {'criterion': 'entropy', 'max_depth': 13},\n",
       "  {'criterion': 'entropy', 'max_depth': 14},\n",
       "  {'criterion': 'entropy', 'max_depth': 15},\n",
       "  {'criterion': 'entropy', 'max_depth': 16},\n",
       "  {'criterion': 'entropy', 'max_depth': 17},\n",
       "  {'criterion': 'entropy', 'max_depth': None}],\n",
       " 'split0_test_score': array([0.76388812, 0.81016326, 0.81768541, 0.82726918, 0.82869003,\n",
       "        0.83495849, 0.83526495, 0.83128099, 0.83470775, 0.83167103,\n",
       "        0.83437343, 0.83267398, 0.82754778, 0.82292305, 0.80606787,\n",
       "        0.7638324 , 0.81016326, 0.81762969, 0.82740848, 0.82871789,\n",
       "        0.83518137, 0.83830167, 0.83635148, 0.83927676, 0.83724299,\n",
       "        0.83643506, 0.83702011, 0.83261826, 0.82941439, 0.80815735]),\n",
       " 'split1_test_score': array([0.76326201, 0.77162042, 0.81580854, 0.82179873, 0.8298228 ,\n",
       "        0.83322189, 0.82965563, 0.8343642 , 0.8350886 , 0.83676028,\n",
       "        0.83372339, 0.83322189, 0.82842973, 0.8244177 , 0.80658643,\n",
       "        0.76326201, 0.77173186, 0.81539062, 0.82934916, 0.83032431,\n",
       "        0.83625878, 0.83834838, 0.84146885, 0.83787474, 0.83787474,\n",
       "        0.83990861, 0.83570155, 0.8359523 , 0.83258108, 0.81109997]),\n",
       " 'mean_test_score': array([0.76357507, 0.79089237, 0.816747  , 0.82453403, 0.8292564 ,\n",
       "        0.83409021, 0.83246037, 0.83282256, 0.83489817, 0.83421559,\n",
       "        0.83404842, 0.83294793, 0.82798874, 0.82367035, 0.80632714,\n",
       "        0.76354721, 0.7909481 , 0.81651018, 0.82837879, 0.82952108,\n",
       "        0.83572006, 0.83832502, 0.83891009, 0.83857577, 0.83755886,\n",
       "        0.83817179, 0.83636085, 0.83428524, 0.83099769, 0.80962862]),\n",
       " 'std_test_score': array([3.13053379e-04, 1.92714208e-02, 9.38435155e-04, 2.73522598e-03,\n",
       "        5.66384989e-04, 8.68300499e-04, 2.80465661e-03, 1.54160484e-03,\n",
       "        1.90424266e-04, 2.54462474e-03, 3.25020243e-04, 2.73951688e-04,\n",
       "        4.40977036e-04, 7.47323165e-04, 2.59279724e-04, 2.85193570e-04,\n",
       "        1.92156981e-02, 1.11953556e-03, 9.70339030e-04, 8.03207341e-04,\n",
       "        5.38704485e-04, 2.33562261e-05, 2.55868582e-03, 7.01012015e-04,\n",
       "        3.15871029e-04, 1.73677797e-03, 6.59282845e-04, 1.66701823e-03,\n",
       "        1.58334488e-03, 1.47130718e-03]),\n",
       " 'rank_test_score': array([29, 28, 23, 21, 18, 11, 15, 14,  8, 10, 12, 13, 20, 22, 26, 30, 27,\n",
       "        24, 19, 17,  7,  3,  1,  2,  5,  4,  6,  9, 16, 25])}"
      ]
     },
     "execution_count": 7,
     "metadata": {},
     "output_type": "execute_result"
    }
   ],
   "source": [
    "grid_search_acc.cv_results_\n",
    "\n"
   ]
  }
 ],
 "metadata": {
  "kernelspec": {
   "display_name": "Python 3",
   "language": "python",
   "name": "python3"
  },
  "language_info": {
   "codemirror_mode": {
    "name": "ipython",
    "version": 3
   },
   "file_extension": ".py",
   "mimetype": "text/x-python",
   "name": "python",
   "nbconvert_exporter": "python",
   "pygments_lexer": "ipython3",
   "version": "3.7.4"
  },
  "pycharm": {
   "stem_cell": {
    "cell_type": "raw",
    "metadata": {
     "collapsed": false
    },
    "source": []
   }
  }
 },
 "nbformat": 4,
 "nbformat_minor": 1
}
