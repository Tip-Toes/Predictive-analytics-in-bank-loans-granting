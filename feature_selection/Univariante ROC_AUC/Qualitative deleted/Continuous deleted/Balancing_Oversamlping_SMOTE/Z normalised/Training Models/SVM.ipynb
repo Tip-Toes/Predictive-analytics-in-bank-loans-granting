{
 "cells": [
  {
   "cell_type": "code",
   "execution_count": 1,
   "metadata": {
    "pycharm": {
     "name": "#%%\n"
    }
   },
   "outputs": [],
   "source": [
    "import warnings\n",
    "from sklearn.model_selection import GridSearchCV, train_test_split\n",
    "warnings.filterwarnings('ignore')\n",
    "import pandas as pd\n",
    "from sklearn.svm import SVC \n",
    "from sklearn.metrics import make_scorer, recall_score,precision_score, confusion_matrix,classification_report,accuracy_score\n",
    "import matplotlib.pyplot as plt\n",
    "import numpy as np"
   ]
  },
  {
   "cell_type": "code",
   "execution_count": 2,
   "metadata": {
    "pycharm": {
     "name": "#%%\n"
    }
   },
   "outputs": [],
   "source": [
    "data= pd.read_csv('../z_norm.csv')"
   ]
  },
  {
   "cell_type": "markdown",
   "metadata": {
    "pycharm": {
     "name": "#%% md\n"
    }
   },
   "source": [
    "### split data en X et Y"
   ]
  },
  {
   "cell_type": "code",
   "execution_count": 3,
   "metadata": {
    "pycharm": {
     "name": "#%%\n"
    }
   },
   "outputs": [],
   "source": [
    "data1= data.copy()\n",
    "X= data1.drop('Loan Status', axis=1)\n",
    "Y= data1['Loan Status']"
   ]
  },
  {
   "cell_type": "code",
   "execution_count": 4,
   "metadata": {
    "pycharm": {
     "name": "#%%\n"
    }
   },
   "outputs": [],
   "source": [
    "X_train , X_test , Y_train , Y_test = train_test_split(X, Y, test_size = 0.20, random_state = 123, stratify=Y)\n"
   ]
  },
  {
   "cell_type": "code",
   "execution_count": 5,
   "metadata": {
    "pycharm": {
     "name": "#%%\n"
    }
   },
   "outputs": [
    {
     "data": {
      "text/plain": [
       "(array([0, 1]), array([41020, 41021]))"
      ]
     },
     "execution_count": 5,
     "metadata": {},
     "output_type": "execute_result"
    }
   ],
   "source": [
    "np.unique(Y_train, return_counts=True)"
   ]
  },
  {
   "cell_type": "markdown",
   "metadata": {},
   "source": [
    "### ---SVM---"
   ]
  },
  {
   "cell_type": "code",
   "execution_count": 6,
   "metadata": {
    "pycharm": {
     "name": "#%%\n"
    }
   },
   "outputs": [],
   "source": [
    "params = {'C': [0.1, 1, 10, 100],  \n",
    "          'gamma': [1, 0.1, 0.01, 0.001, 0.0001]}  \n",
    "##accuracy\n",
    "grid_search_acc= GridSearchCV(estimator=SVC(), param_grid= params, scoring='accuracy',cv=5, n_jobs=-1)\n",
    "grid_search_acc= grid_search_acc.fit(X_train, Y_train)\n",
    "y_predict= grid_search_acc.best_estimator_.predict(X_test)"
   ]
  },
  {
   "cell_type": "code",
   "execution_count": 7,
   "metadata": {
    "pycharm": {
     "name": "#%%\n"
    }
   },
   "outputs": [
    {
     "name": "stdout",
     "output_type": "stream",
     "text": [
      "----------\n",
      "best parameters:  {'C': 100, 'gamma': 0.1}\n",
      "----------\n",
      "[[7598 2658]\n",
      " [ 751 9504]]\n",
      "----------\n",
      "              precision    recall  f1-score   support\n",
      "\n",
      "           0       0.91      0.74      0.82     10256\n",
      "           1       0.78      0.93      0.85     10255\n",
      "\n",
      "    accuracy                           0.83     20511\n",
      "   macro avg       0.85      0.83      0.83     20511\n",
      "weighted avg       0.85      0.83      0.83     20511\n",
      "\n",
      "----------\n"
     ]
    }
   ],
   "source": [
    "## evaluating the model\n",
    "print(\"----------\")\n",
    "print('best parameters: ', grid_search_acc.best_params_)\n",
    "print(\"----------\")\n",
    "print(confusion_matrix(Y_test,y_predict))\n",
    "print(\"----------\")\n",
    "print(classification_report(Y_test, y_predict))\n",
    "print(\"----------\")\n"
   ]
  },
  {
   "cell_type": "code",
   "execution_count": 8,
   "metadata": {
    "pycharm": {
     "name": "#%%\n"
    }
   },
   "outputs": [],
   "source": [
    "## Recall\n",
    "rec_avg=make_scorer(recall_score, average='macro')\n",
    "grid_search_rec= GridSearchCV(estimator=SVC(), param_grid= params, scoring=rec_avg,cv=5, n_jobs=-1)\n",
    "grid_search_rec= grid_search_rec.fit(X_train, Y_train)\n",
    "y_predict= grid_search_rec.best_estimator_.predict(X_test)"
   ]
  },
  {
   "cell_type": "code",
   "execution_count": 9,
   "metadata": {
    "pycharm": {
     "name": "#%%\n"
    }
   },
   "outputs": [
    {
     "name": "stdout",
     "output_type": "stream",
     "text": [
      "----------\n",
      "best parameters:  {'C': 100, 'gamma': 0.1}\n",
      "----------\n",
      "[[7598 2658]\n",
      " [ 751 9504]]\n",
      "----------\n",
      "              precision    recall  f1-score   support\n",
      "\n",
      "           0       0.91      0.74      0.82     10256\n",
      "           1       0.78      0.93      0.85     10255\n",
      "\n",
      "    accuracy                           0.83     20511\n",
      "   macro avg       0.85      0.83      0.83     20511\n",
      "weighted avg       0.85      0.83      0.83     20511\n",
      "\n",
      "----------\n"
     ]
    }
   ],
   "source": [
    "## evaluating the model\n",
    "print(\"----------\")\n",
    "print('best parameters: ', grid_search_rec.best_params_)\n",
    "print(\"----------\")\n",
    "print(confusion_matrix(Y_test,y_predict))\n",
    "print(\"----------\")\n",
    "print(classification_report(Y_test, y_predict))\n",
    "print(\"----------\")"
   ]
  },
  {
   "cell_type": "code",
   "execution_count": 10,
   "metadata": {
    "pycharm": {
     "name": "#%%\n"
    }
   },
   "outputs": [],
   "source": [
    "## precision\n",
    "prec_avg=make_scorer(precision_score, average='macro')\n",
    "grid_search_prec_avg= GridSearchCV(estimator=SVC(), param_grid= params, scoring=prec_avg,cv=5, n_jobs=-1)\n",
    "grid_search_prec_avg= grid_search_prec_avg.fit(X_train, Y_train)\n",
    "y_predict= grid_search_prec_avg.best_estimator_.predict(X_test)"
   ]
  },
  {
   "cell_type": "code",
   "execution_count": 11,
   "metadata": {
    "pycharm": {
     "name": "#%%\n"
    }
   },
   "outputs": [
    {
     "name": "stdout",
     "output_type": "stream",
     "text": [
      "----------\n",
      "best parameters:  {'C': 10, 'gamma': 0.01}\n",
      "----------\n",
      "[[7276 2980]\n",
      " [ 522 9733]]\n",
      "----------\n",
      "              precision    recall  f1-score   support\n",
      "\n",
      "           0       0.93      0.71      0.81     10256\n",
      "           1       0.77      0.95      0.85     10255\n",
      "\n",
      "    accuracy                           0.83     20511\n",
      "   macro avg       0.85      0.83      0.83     20511\n",
      "weighted avg       0.85      0.83      0.83     20511\n",
      "\n",
      "----------\n"
     ]
    }
   ],
   "source": [
    "## evaluating the model\n",
    "print(\"----------\")\n",
    "print('best parameters: ', grid_search_prec_avg.best_params_)\n",
    "print(\"----------\")\n",
    "print(confusion_matrix(Y_test,y_predict))\n",
    "print(\"----------\")\n",
    "print(classification_report(Y_test, y_predict))\n",
    "print(\"----------\")"
   ]
  },
  {
   "cell_type": "code",
   "execution_count": 16,
   "metadata": {
    "pycharm": {
     "name": "#%%\n"
    }
   },
   "outputs": [],
   "source": [
    "def plot_grid_search(cv_results, grid_param_1, grid_param_2, name_param_1, name_param_2, titre):\n",
    "    # Get Test Scores Mean and std for each grid search\n",
    "    scores_mean = cv_results['mean_test_score']\n",
    "    scores_mean = np.array(scores_mean).reshape(len(grid_param_2),len(grid_param_1))\n",
    "\n",
    "    # Plot Grid search scores\n",
    "    _, ax = plt.subplots(1,1)\n",
    "\n",
    "    # Param1 is the X-axis, Param 2 is represented as a different curve (color line)\n",
    "    for idx, val in enumerate(grid_param_2):\n",
    "        ax.set_ylim([0.70,0.86])\n",
    "        ax.plot(grid_param_1, scores_mean[idx,:], '-o', label= name_param_2 + ': ' + str(val))\n",
    "\n",
    "    ax.set_title(titre, fontsize=18, fontweight='bold')\n",
    "    ax.set_xlabel(name_param_1, fontsize=14)\n",
    "    ax.set_ylabel(titre+'[CV Avg Score]', fontsize=14)\n",
    "    ax.legend(loc=\"best\", fontsize=15)\n",
    "    ax.grid('on')"
   ]
  },
  {
   "cell_type": "code",
   "execution_count": 20,
   "metadata": {
    "pycharm": {
     "name": "#%%\n"
    }
   },
   "outputs": [
    {
     "data": {
      "image/png": "[encoded data removed]",
      "text/plain": [
       "<Figure size 720x360 with 1 Axes>"
      ]
     },
     "metadata": {
      "needs_background": "light"
     },
     "output_type": "display_data"
    },
    {
     "data": {
      "image/png": "[encoded data removed]",
      "text/plain": [
       "<Figure size 720x360 with 1 Axes>"
      ]
     },
     "metadata": {
      "needs_background": "light"
     },
     "output_type": "display_data"
    },
    {
     "data": {
      "image/png": "[encoded data removed]",
      "text/plain": [
       "<Figure size 720x360 with 1 Axes>"
      ]
     },
     "metadata": {
      "needs_background": "light"
     },
     "output_type": "display_data"
    }
   ],
   "source": [
    "# Calling Method \n",
    "from pylab import rcParams\n",
    "rcParams['figure.figsize'] = 10, 5\n",
    "plot_grid_search(grid_search_acc.cv_results_, params['gamma'], params['C'], 'gamma', 'C',  'Accuracy')\n",
    "plot_grid_search(grid_search_rec.cv_results_, params['gamma'], params['C'], 'gamma', 'C', 'Recall')\n",
    "plot_grid_search(grid_search_prec_avg.cv_results_, params['gamma'], params['C'], 'gamma', 'C', 'Precision')"
   ]
  },
  {
   "cell_type": "code",
   "execution_count": 14,
   "metadata": {
    "pycharm": {
     "name": "#%%\n"
    }
   },
   "outputs": [],
   "source": [
    "def return_index_list(param1, param2):\n",
    "    list=[]\n",
    "    for p1 in param1:\n",
    "        for p2 in param2:\n",
    "            list.append('['+str(p1)+', '+str(p2)+']')\n",
    "    return list\n",
    "index= return_index_list(params['C'], params['gamma'])"
   ]
  },
  {
   "cell_type": "code",
   "execution_count": 24,
   "metadata": {
    "pycharm": {
     "name": "#%%\n"
    }
   },
   "outputs": [],
   "source": [
    "df= pd.DataFrame({  'Accuracy': grid_search_acc.cv_results_['mean_test_score'],\n",
    "                    'Precision(Avg)': grid_search_prec_avg.cv_results_['mean_test_score'],\n",
    "                    'Recall(Avg)': grid_search_rec.cv_results_['mean_test_score'],},\n",
    "                 index=index)\n",
    "\n",
    "path= \"../../tables_smote.xlsx\"\n",
    "writer = pd.ExcelWriter(path, engine=\"openpyxl\")\n",
    "from openpyxl import load_workbook\n",
    "writer.book= load_workbook(path)\n",
    "df.to_excel(writer, 'SVM_Z')\n",
    "writer.save()"
   ]
  },
  {
   "cell_type": "code",
   "execution_count": 21,
   "metadata": {},
   "outputs": [
    {
     "data": {
      "text/html": [
       "<div>\n",
       "<style scoped>\n",
       "    .dataframe tbody tr th:only-of-type {\n",
       "        vertical-align: middle;\n",
       "    }\n",
       "\n",
       "    .dataframe tbody tr th {\n",
       "        vertical-align: top;\n",
       "    }\n",
       "\n",
       "    .dataframe thead th {\n",
       "        text-align: right;\n",
       "    }\n",
       "</style>\n",
       "<table border=\"1\" class=\"dataframe\">\n",
       "  <thead>\n",
       "    <tr style=\"text-align: right;\">\n",
       "      <th></th>\n",
       "      <th>Accuracy</th>\n",
       "      <th>Precision(Avg)</th>\n",
       "      <th>Recall(Avg)</th>\n",
       "    </tr>\n",
       "  </thead>\n",
       "  <tbody>\n",
       "    <tr>\n",
       "      <th>[0.1, 1]</th>\n",
       "      <td>0.821455</td>\n",
       "      <td>0.840246</td>\n",
       "      <td>0.821454</td>\n",
       "    </tr>\n",
       "    <tr>\n",
       "      <th>[0.1, 0.1]</th>\n",
       "      <td>0.831340</td>\n",
       "      <td>0.850621</td>\n",
       "      <td>0.831339</td>\n",
       "    </tr>\n",
       "    <tr>\n",
       "      <th>[0.1, 0.01]</th>\n",
       "      <td>0.832328</td>\n",
       "      <td>0.851059</td>\n",
       "      <td>0.832326</td>\n",
       "    </tr>\n",
       "    <tr>\n",
       "      <th>[0.1, 0.001]</th>\n",
       "      <td>0.750868</td>\n",
       "      <td>0.768236</td>\n",
       "      <td>0.750867</td>\n",
       "    </tr>\n",
       "    <tr>\n",
       "      <th>[0.1, 0.0001]</th>\n",
       "      <td>0.708951</td>\n",
       "      <td>0.812200</td>\n",
       "      <td>0.708947</td>\n",
       "    </tr>\n",
       "    <tr>\n",
       "      <th>[1, 1]</th>\n",
       "      <td>0.834546</td>\n",
       "      <td>0.844828</td>\n",
       "      <td>0.834545</td>\n",
       "    </tr>\n",
       "    <tr>\n",
       "      <th>[1, 0.1]</th>\n",
       "      <td>0.833669</td>\n",
       "      <td>0.851823</td>\n",
       "      <td>0.833667</td>\n",
       "    </tr>\n",
       "    <tr>\n",
       "      <th>[1, 0.01]</th>\n",
       "      <td>0.832913</td>\n",
       "      <td>0.851296</td>\n",
       "      <td>0.832911</td>\n",
       "    </tr>\n",
       "    <tr>\n",
       "      <th>[1, 0.001]</th>\n",
       "      <td>0.832937</td>\n",
       "      <td>0.851288</td>\n",
       "      <td>0.832936</td>\n",
       "    </tr>\n",
       "    <tr>\n",
       "      <th>[1, 0.0001]</th>\n",
       "      <td>0.750661</td>\n",
       "      <td>0.768051</td>\n",
       "      <td>0.750660</td>\n",
       "    </tr>\n",
       "    <tr>\n",
       "      <th>[10, 1]</th>\n",
       "      <td>0.827501</td>\n",
       "      <td>0.831788</td>\n",
       "      <td>0.827500</td>\n",
       "    </tr>\n",
       "    <tr>\n",
       "      <th>[10, 0.1]</th>\n",
       "      <td>0.834473</td>\n",
       "      <td>0.849132</td>\n",
       "      <td>0.834472</td>\n",
       "    </tr>\n",
       "    <tr>\n",
       "      <th>[10, 0.01]</th>\n",
       "      <td>0.833693</td>\n",
       "      <td>0.851824</td>\n",
       "      <td>0.833691</td>\n",
       "    </tr>\n",
       "    <tr>\n",
       "      <th>[10, 0.001]</th>\n",
       "      <td>0.832827</td>\n",
       "      <td>0.851178</td>\n",
       "      <td>0.832826</td>\n",
       "    </tr>\n",
       "    <tr>\n",
       "      <th>[10, 0.0001]</th>\n",
       "      <td>0.832974</td>\n",
       "      <td>0.851298</td>\n",
       "      <td>0.832972</td>\n",
       "    </tr>\n",
       "    <tr>\n",
       "      <th>[100, 1]</th>\n",
       "      <td>0.815202</td>\n",
       "      <td>0.816569</td>\n",
       "      <td>0.815202</td>\n",
       "    </tr>\n",
       "    <tr>\n",
       "      <th>[100, 0.1]</th>\n",
       "      <td>0.835802</td>\n",
       "      <td>0.846414</td>\n",
       "      <td>0.835800</td>\n",
       "    </tr>\n",
       "    <tr>\n",
       "      <th>[100, 0.01]</th>\n",
       "      <td>0.833705</td>\n",
       "      <td>0.851725</td>\n",
       "      <td>0.833704</td>\n",
       "    </tr>\n",
       "    <tr>\n",
       "      <th>[100, 0.001]</th>\n",
       "      <td>0.833510</td>\n",
       "      <td>0.851658</td>\n",
       "      <td>0.833509</td>\n",
       "    </tr>\n",
       "    <tr>\n",
       "      <th>[100, 0.0001]</th>\n",
       "      <td>0.832815</td>\n",
       "      <td>0.851178</td>\n",
       "      <td>0.832814</td>\n",
       "    </tr>\n",
       "  </tbody>\n",
       "</table>\n",
       "</div>"
      ],
      "text/plain": [
       "               Accuracy  Precision(Avg)  Recall(Avg)\n",
       "[0.1, 1]       0.821455        0.840246     0.821454\n",
       "[0.1, 0.1]     0.831340        0.850621     0.831339\n",
       "[0.1, 0.01]    0.832328        0.851059     0.832326\n",
       "[0.1, 0.001]   0.750868        0.768236     0.750867\n",
       "[0.1, 0.0001]  0.708951        0.812200     0.708947\n",
       "[1, 1]         0.834546        0.844828     0.834545\n",
       "[1, 0.1]       0.833669        0.851823     0.833667\n",
       "[1, 0.01]      0.832913        0.851296     0.832911\n",
       "[1, 0.001]     0.832937        0.851288     0.832936\n",
       "[1, 0.0001]    0.750661        0.768051     0.750660\n",
       "[10, 1]        0.827501        0.831788     0.827500\n",
       "[10, 0.1]      0.834473        0.849132     0.834472\n",
       "[10, 0.01]     0.833693        0.851824     0.833691\n",
       "[10, 0.001]    0.832827        0.851178     0.832826\n",
       "[10, 0.0001]   0.832974        0.851298     0.832972\n",
       "[100, 1]       0.815202        0.816569     0.815202\n",
       "[100, 0.1]     0.835802        0.846414     0.835800\n",
       "[100, 0.01]    0.833705        0.851725     0.833704\n",
       "[100, 0.001]   0.833510        0.851658     0.833509\n",
       "[100, 0.0001]  0.832815        0.851178     0.832814"
      ]
     },
     "execution_count": 21,
     "metadata": {},
     "output_type": "execute_result"
    }
   ],
   "source": [
    "df"
   ]
  }
 ],
 "metadata": {
  "kernelspec": {
   "display_name": "Python 3",
   "language": "python",
   "name": "python3"
  },
  "language_info": {
   "codemirror_mode": {
    "name": "ipython",
    "version": 3
   },
   "file_extension": ".py",
   "mimetype": "text/x-python",
   "name": "python",
   "nbconvert_exporter": "python",
   "pygments_lexer": "ipython3",
   "version": "3.5.3"
  },
  "pycharm": {
   "stem_cell": {
    "cell_type": "raw",
    "metadata": {
     "collapsed": false
    },
    "source": []
   }
  }
 },
 "nbformat": 4,
 "nbformat_minor": 1
}
