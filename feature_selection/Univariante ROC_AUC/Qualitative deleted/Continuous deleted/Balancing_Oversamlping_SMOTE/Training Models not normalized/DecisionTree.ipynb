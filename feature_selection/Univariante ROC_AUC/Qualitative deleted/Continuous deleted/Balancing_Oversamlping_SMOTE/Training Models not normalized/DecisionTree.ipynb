{
 "cells": [
  {
   "cell_type": "code",
   "execution_count": 20,
   "metadata": {
    "pycharm": {
     "is_executing": false
    }
   },
   "outputs": [],
   "source": [
    "from pylab import rcParams\n",
    "from plot_metric.functions import BinaryClassification\n",
    "rcParams['figure.figsize'] = 10, 5\n",
    "import warnings\n",
    "warnings.filterwarnings('ignore')\n",
    "from sklearn.tree import DecisionTreeClassifier\n",
    "import pandas as pd\n",
    "import matplotlib.pyplot as plt\n",
    "import numpy as np\n",
    "from sklearn.model_selection import cross_val_score, GridSearchCV, train_test_split\n",
    "from sklearn.metrics import make_scorer, recall_score,precision_score, confusion_matrix,classification_report,accuracy_score"
   ]
  },
  {
   "cell_type": "code",
   "execution_count": 2,
   "metadata": {
    "pycharm": {
     "is_executing": false,
     "name": "#%%\n"
    }
   },
   "outputs": [
    {
     "data": {
      "text/html": [
       "<div>\n",
       "<style scoped>\n",
       "    .dataframe tbody tr th:only-of-type {\n",
       "        vertical-align: middle;\n",
       "    }\n",
       "\n",
       "    .dataframe tbody tr th {\n",
       "        vertical-align: top;\n",
       "    }\n",
       "\n",
       "    .dataframe thead th {\n",
       "        text-align: right;\n",
       "    }\n",
       "</style>\n",
       "<table border=\"1\" class=\"dataframe\">\n",
       "  <thead>\n",
       "    <tr style=\"text-align: right;\">\n",
       "      <th></th>\n",
       "      <th>Current Loan Amount</th>\n",
       "      <th>Credit Score</th>\n",
       "      <th>Annual Income</th>\n",
       "      <th>Monthly Debt</th>\n",
       "      <th>Years of Credit History</th>\n",
       "      <th>Current Credit Balance</th>\n",
       "      <th>Maximum Open Credit</th>\n",
       "      <th>Term_Short Term</th>\n",
       "      <th>Years in current job_10+ years</th>\n",
       "      <th>Years in current job_2 years</th>\n",
       "      <th>...</th>\n",
       "      <th>Years in current job_4 years</th>\n",
       "      <th>Years in current job_5 years</th>\n",
       "      <th>Years in current job_6 years</th>\n",
       "      <th>Years in current job_7 years</th>\n",
       "      <th>Years in current job_8 years</th>\n",
       "      <th>Years in current job_9 years</th>\n",
       "      <th>Years in current job_&lt; 1 year</th>\n",
       "      <th>Home Ownership_Own Home</th>\n",
       "      <th>Home Ownership_Rent</th>\n",
       "      <th>Loan Status</th>\n",
       "    </tr>\n",
       "  </thead>\n",
       "  <tbody>\n",
       "    <tr>\n",
       "      <th>0</th>\n",
       "      <td>445412.0</td>\n",
       "      <td>709.0</td>\n",
       "      <td>1167493.0</td>\n",
       "      <td>5214.74</td>\n",
       "      <td>17.2</td>\n",
       "      <td>228190.0</td>\n",
       "      <td>416746.0</td>\n",
       "      <td>1</td>\n",
       "      <td>0</td>\n",
       "      <td>0</td>\n",
       "      <td>...</td>\n",
       "      <td>0</td>\n",
       "      <td>0</td>\n",
       "      <td>0</td>\n",
       "      <td>0</td>\n",
       "      <td>1</td>\n",
       "      <td>0</td>\n",
       "      <td>0</td>\n",
       "      <td>0</td>\n",
       "      <td>0</td>\n",
       "      <td>1</td>\n",
       "    </tr>\n",
       "    <tr>\n",
       "      <th>1</th>\n",
       "      <td>99999999.0</td>\n",
       "      <td>741.0</td>\n",
       "      <td>2231892.0</td>\n",
       "      <td>29200.53</td>\n",
       "      <td>14.9</td>\n",
       "      <td>297996.0</td>\n",
       "      <td>750090.0</td>\n",
       "      <td>1</td>\n",
       "      <td>0</td>\n",
       "      <td>0</td>\n",
       "      <td>...</td>\n",
       "      <td>0</td>\n",
       "      <td>0</td>\n",
       "      <td>0</td>\n",
       "      <td>0</td>\n",
       "      <td>1</td>\n",
       "      <td>0</td>\n",
       "      <td>0</td>\n",
       "      <td>1</td>\n",
       "      <td>0</td>\n",
       "      <td>1</td>\n",
       "    </tr>\n",
       "    <tr>\n",
       "      <th>2</th>\n",
       "      <td>347666.0</td>\n",
       "      <td>721.0</td>\n",
       "      <td>806949.0</td>\n",
       "      <td>8741.90</td>\n",
       "      <td>12.0</td>\n",
       "      <td>256329.0</td>\n",
       "      <td>386958.0</td>\n",
       "      <td>0</td>\n",
       "      <td>0</td>\n",
       "      <td>0</td>\n",
       "      <td>...</td>\n",
       "      <td>0</td>\n",
       "      <td>0</td>\n",
       "      <td>0</td>\n",
       "      <td>0</td>\n",
       "      <td>0</td>\n",
       "      <td>0</td>\n",
       "      <td>0</td>\n",
       "      <td>1</td>\n",
       "      <td>0</td>\n",
       "      <td>1</td>\n",
       "    </tr>\n",
       "    <tr>\n",
       "      <th>3</th>\n",
       "      <td>206602.0</td>\n",
       "      <td>7290.0</td>\n",
       "      <td>896857.0</td>\n",
       "      <td>16367.74</td>\n",
       "      <td>17.3</td>\n",
       "      <td>215308.0</td>\n",
       "      <td>272448.0</td>\n",
       "      <td>1</td>\n",
       "      <td>1</td>\n",
       "      <td>0</td>\n",
       "      <td>...</td>\n",
       "      <td>0</td>\n",
       "      <td>0</td>\n",
       "      <td>0</td>\n",
       "      <td>0</td>\n",
       "      <td>0</td>\n",
       "      <td>0</td>\n",
       "      <td>0</td>\n",
       "      <td>0</td>\n",
       "      <td>0</td>\n",
       "      <td>0</td>\n",
       "    </tr>\n",
       "    <tr>\n",
       "      <th>4</th>\n",
       "      <td>217646.0</td>\n",
       "      <td>730.0</td>\n",
       "      <td>1184194.0</td>\n",
       "      <td>10855.08</td>\n",
       "      <td>19.6</td>\n",
       "      <td>122170.0</td>\n",
       "      <td>272052.0</td>\n",
       "      <td>1</td>\n",
       "      <td>0</td>\n",
       "      <td>0</td>\n",
       "      <td>...</td>\n",
       "      <td>0</td>\n",
       "      <td>0</td>\n",
       "      <td>0</td>\n",
       "      <td>0</td>\n",
       "      <td>0</td>\n",
       "      <td>0</td>\n",
       "      <td>1</td>\n",
       "      <td>0</td>\n",
       "      <td>0</td>\n",
       "      <td>1</td>\n",
       "    </tr>\n",
       "  </tbody>\n",
       "</table>\n",
       "<p>5 rows × 21 columns</p>\n",
       "</div>"
      ],
      "text/plain": [
       "   Current Loan Amount  Credit Score  Annual Income  Monthly Debt  \\\n",
       "0             445412.0         709.0      1167493.0       5214.74   \n",
       "1           99999999.0         741.0      2231892.0      29200.53   \n",
       "2             347666.0         721.0       806949.0       8741.90   \n",
       "3             206602.0        7290.0       896857.0      16367.74   \n",
       "4             217646.0         730.0      1184194.0      10855.08   \n",
       "\n",
       "   Years of Credit History  Current Credit Balance  Maximum Open Credit  \\\n",
       "0                     17.2                228190.0             416746.0   \n",
       "1                     14.9                297996.0             750090.0   \n",
       "2                     12.0                256329.0             386958.0   \n",
       "3                     17.3                215308.0             272448.0   \n",
       "4                     19.6                122170.0             272052.0   \n",
       "\n",
       "   Term_Short Term  Years in current job_10+ years  \\\n",
       "0                1                               0   \n",
       "1                1                               0   \n",
       "2                0                               0   \n",
       "3                1                               1   \n",
       "4                1                               0   \n",
       "\n",
       "   Years in current job_2 years  ...  Years in current job_4 years  \\\n",
       "0                             0  ...                             0   \n",
       "1                             0  ...                             0   \n",
       "2                             0  ...                             0   \n",
       "3                             0  ...                             0   \n",
       "4                             0  ...                             0   \n",
       "\n",
       "   Years in current job_5 years  Years in current job_6 years  \\\n",
       "0                             0                             0   \n",
       "1                             0                             0   \n",
       "2                             0                             0   \n",
       "3                             0                             0   \n",
       "4                             0                             0   \n",
       "\n",
       "   Years in current job_7 years  Years in current job_8 years  \\\n",
       "0                             0                             1   \n",
       "1                             0                             1   \n",
       "2                             0                             0   \n",
       "3                             0                             0   \n",
       "4                             0                             0   \n",
       "\n",
       "   Years in current job_9 years  Years in current job_< 1 year  \\\n",
       "0                             0                              0   \n",
       "1                             0                              0   \n",
       "2                             0                              0   \n",
       "3                             0                              0   \n",
       "4                             0                              1   \n",
       "\n",
       "   Home Ownership_Own Home  Home Ownership_Rent  Loan Status  \n",
       "0                        0                    0            1  \n",
       "1                        1                    0            1  \n",
       "2                        1                    0            1  \n",
       "3                        0                    0            0  \n",
       "4                        0                    0            1  \n",
       "\n",
       "[5 rows x 21 columns]"
      ]
     },
     "execution_count": 2,
     "metadata": {},
     "output_type": "execute_result"
    }
   ],
   "source": [
    "data= pd.read_csv('../data.csv')\n",
    "data.head()"
   ]
  },
  {
   "cell_type": "code",
   "execution_count": 3,
   "metadata": {
    "pycharm": {
     "is_executing": false,
     "name": "#%%\n"
    }
   },
   "outputs": [
    {
     "data": {
      "text/plain": [
       "Current Loan Amount               float64\n",
       "Credit Score                      float64\n",
       "Annual Income                     float64\n",
       "Monthly Debt                      float64\n",
       "Years of Credit History           float64\n",
       "Current Credit Balance            float64\n",
       "Maximum Open Credit               float64\n",
       "Term_Short Term                     int64\n",
       "Years in current job_10+ years      int64\n",
       "Years in current job_2 years        int64\n",
       "Years in current job_3 years        int64\n",
       "Years in current job_4 years        int64\n",
       "Years in current job_5 years        int64\n",
       "Years in current job_6 years        int64\n",
       "Years in current job_7 years        int64\n",
       "Years in current job_8 years        int64\n",
       "Years in current job_9 years        int64\n",
       "Years in current job_< 1 year       int64\n",
       "Home Ownership_Own Home             int64\n",
       "Home Ownership_Rent                 int64\n",
       "Loan Status                         int64\n",
       "dtype: object"
      ]
     },
     "execution_count": 3,
     "metadata": {},
     "output_type": "execute_result"
    }
   ],
   "source": [
    "data.dtypes"
   ]
  },
  {
   "cell_type": "code",
   "execution_count": 4,
   "metadata": {
    "pycharm": {
     "is_executing": false,
     "name": "#%%\n"
    }
   },
   "outputs": [],
   "source": [
    "##copying data\n",
    "data1=data.copy()"
   ]
  },
  {
   "cell_type": "markdown",
   "metadata": {
    "pycharm": {
     "is_executing": false,
     "name": "#%% md\n"
    }
   },
   "source": [
    "### spliting data en X et Y"
   ]
  },
  {
   "cell_type": "code",
   "execution_count": 5,
   "metadata": {
    "pycharm": {
     "is_executing": false,
     "name": "#%%\n"
    }
   },
   "outputs": [],
   "source": [
    "X= data1.drop('Loan Status', axis=1)\n",
    "Y= data1['Loan Status']"
   ]
  },
  {
   "cell_type": "markdown",
   "metadata": {
    "pycharm": {
     "is_executing": false,
     "name": "#%% md\n"
    }
   },
   "source": [
    "### spliting the data to train and test"
   ]
  },
  {
   "cell_type": "code",
   "execution_count": 6,
   "metadata": {
    "pycharm": {
     "is_executing": false,
     "name": "#%%\n"
    }
   },
   "outputs": [],
   "source": [
    "X_train , X_test , Y_train , Y_test = train_test_split(X, Y, test_size = 0.20, random_state = 123, stratify=Y)"
   ]
  },
  {
   "cell_type": "markdown",
   "metadata": {},
   "source": [
    "## dicision tree (CART)"
   ]
  },
  {
   "cell_type": "code",
   "execution_count": 7,
   "metadata": {
    "pycharm": {
     "is_executing": false,
     "name": "#%%\n"
    }
   },
   "outputs": [],
   "source": [
    "dct = DecisionTreeClassifier()\n",
    "params={'criterion' : ['gini', 'entropy'],\n",
    "        'max_depth': [4, 5, 6, 7, 8, 9, 10, 11, 12, 13,14, 15, 16, 17, None]}\n",
    "\n",
    "##accuracy\n",
    "grid_search_acc= GridSearchCV(estimator=dct, param_grid= params, scoring='accuracy',cv=15, n_jobs=-1)\n",
    "grid_search_acc= grid_search_acc.fit(X_train, Y_train)\n",
    "y_predict= grid_search_acc.best_estimator_.predict(X_test)\n"
   ]
  },
  {
   "cell_type": "code",
   "execution_count": 23,
   "metadata": {
    "pycharm": {
     "is_executing": false,
     "name": "#%%\n"
    }
   },
   "outputs": [
    {
     "name": "stdout",
     "output_type": "stream",
     "text": [
      "----------\n",
      "best parameters:  {'max_depth': 14, 'criterion': 'entropy'}\n",
      "----------\n",
      "[[7777 2479]\n",
      " [1093 9162]]\n",
      "----------\n",
      "              precision    recall  f1-score   support\n",
      "\n",
      "           0       0.88      0.76      0.81     10256\n",
      "           1       0.79      0.89      0.84     10255\n",
      "\n",
      "    accuracy                           0.83     20511\n",
      "   macro avg       0.83      0.83      0.83     20511\n",
      "weighted avg       0.83      0.83      0.83     20511\n",
      "\n",
      "----------\n"
     ]
    },
    {
     "data": {
      "image/png": "[encoded data removed]",
      "text/plain": [
       "<Figure size 504x432 with 1 Axes>"
      ]
     },
     "metadata": {},
     "output_type": "display_data"
    }
   ],
   "source": [
    "## evaluating the model\n",
    "print(\"----------\")\n",
    "print('best parameters: ', grid_search_acc.best_params_)\n",
    "print(\"----------\")\n",
    "print(confusion_matrix(Y_test,y_predict))\n",
    "print(\"----------\")\n",
    "print(classification_report(Y_test, y_predict))\n",
    "print(\"----------\")\n",
    "\n",
    "##ROC\n",
    "y_predict_proba = grid_search_acc.best_estimator_.predict_proba(X_test)[:,1]\n",
    "\n",
    "# Visualisation with plot_metric\n",
    "bc = BinaryClassification(Y_test, y_predict_proba, labels=[1, 0])\n",
    "# Figures\n",
    "plt.figure(figsize=(7,6))\n",
    "bc.plot_roc_curve()\n",
    "plt.title('Decision_Tree_Smote')\n",
    "plt.show()"
   ]
  },
  {
   "cell_type": "code",
   "execution_count": 9,
   "metadata": {
    "pycharm": {
     "is_executing": false,
     "name": "#%%\n"
    }
   },
   "outputs": [],
   "source": [
    "## Recall\n",
    "rec_avg=make_scorer(recall_score, average='macro')\n",
    "grid_search_rec= GridSearchCV(estimator=dct, param_grid= params, scoring=rec_avg,cv=15, n_jobs=-1)\n",
    "grid_search_rec= grid_search_rec.fit(X_train, Y_train)\n",
    "y_predict= grid_search_rec.best_estimator_.predict(X_test)"
   ]
  },
  {
   "cell_type": "code",
   "execution_count": 10,
   "metadata": {
    "pycharm": {
     "is_executing": false,
     "name": "#%%\n"
    }
   },
   "outputs": [
    {
     "name": "stdout",
     "output_type": "stream",
     "text": [
      "----------\n",
      "best parameters:  {'max_depth': 14, 'criterion': 'entropy'}\n",
      "----------\n",
      "[[7772 2484]\n",
      " [1086 9169]]\n",
      "----------\n",
      "              precision    recall  f1-score   support\n",
      "\n",
      "           0       0.88      0.76      0.81     10256\n",
      "           1       0.79      0.89      0.84     10255\n",
      "\n",
      "    accuracy                           0.83     20511\n",
      "   macro avg       0.83      0.83      0.83     20511\n",
      "weighted avg       0.83      0.83      0.83     20511\n",
      "\n",
      "----------\n"
     ]
    }
   ],
   "source": [
    "## evaluating the model\n",
    "print(\"----------\")\n",
    "print('best parameters: ', grid_search_rec.best_params_)\n",
    "print(\"----------\")\n",
    "print(confusion_matrix(Y_test,y_predict))\n",
    "print(\"----------\")\n",
    "print(classification_report(Y_test, y_predict))\n",
    "print(\"----------\")"
   ]
  },
  {
   "cell_type": "code",
   "execution_count": 11,
   "metadata": {
    "pycharm": {
     "is_executing": false,
     "name": "#%%\n"
    }
   },
   "outputs": [],
   "source": [
    "## precision\n",
    "prec_avg=make_scorer(precision_score, average='macro')\n",
    "grid_search_prec_avg= GridSearchCV(estimator=dct, param_grid= params, scoring=prec_avg,cv=15, n_jobs=-1)\n",
    "grid_search_prec_avg= grid_search_prec_avg.fit(X_train, Y_train)\n",
    "y_predict= grid_search_prec_avg.best_estimator_.predict(X_test)"
   ]
  },
  {
   "cell_type": "code",
   "execution_count": 12,
   "metadata": {
    "pycharm": {
     "is_executing": false,
     "name": "#%%\n"
    }
   },
   "outputs": [
    {
     "name": "stdout",
     "output_type": "stream",
     "text": [
      "----------\n",
      "best parameters:  {'max_depth': 14, 'criterion': 'entropy'}\n",
      "----------\n",
      "[[7777 2479]\n",
      " [1093 9162]]\n",
      "----------\n",
      "              precision    recall  f1-score   support\n",
      "\n",
      "           0       0.88      0.76      0.81     10256\n",
      "           1       0.79      0.89      0.84     10255\n",
      "\n",
      "    accuracy                           0.83     20511\n",
      "   macro avg       0.83      0.83      0.83     20511\n",
      "weighted avg       0.83      0.83      0.83     20511\n",
      "\n",
      "----------\n"
     ]
    }
   ],
   "source": [
    "## evaluating the model\n",
    "print(\"----------\")\n",
    "print('best parameters: ', grid_search_prec_avg.best_params_)\n",
    "print(\"----------\")\n",
    "print(confusion_matrix(Y_test,y_predict))\n",
    "print(\"----------\")\n",
    "print(classification_report(Y_test, y_predict))\n",
    "print(\"----------\")"
   ]
  },
  {
   "cell_type": "code",
   "execution_count": 13,
   "metadata": {
    "pycharm": {
     "is_executing": false,
     "name": "#%%\n"
    }
   },
   "outputs": [],
   "source": [
    "def plot_grid_search(cv_results, grid_param_1, grid_param_2, name_param_1, name_param_2, titre):\n",
    "    # Get Test Scores Mean and std for each grid search\n",
    "    scores_mean = cv_results['mean_test_score']\n",
    "    scores_mean = np.array(scores_mean).reshape(len(grid_param_2),len(grid_param_1))\n",
    "\n",
    "    # Plot Grid search scores\n",
    "    _, ax = plt.subplots(1,1)\n",
    "\n",
    "    # Param1 is the X-axis, Param 2 is represented as a different curve (color line)\n",
    "    for idx, val in enumerate(grid_param_2):\n",
    "        ax.set_ylim([0.76,0.88])\n",
    "        ax.plot(grid_param_1[:-1], scores_mean[idx,:-1], '-o', label= name_param_2 + ': ' + str(val))\n",
    "        ax.plot(19, scores_mean[idx, -1:], '*', label= 'crt' + '=' + str(val) + ' & mx_dpt=None')\n",
    "        \n",
    "    ax.set_title(titre, fontsize=18, fontweight='bold')\n",
    "    ax.set_xlabel(name_param_1, fontsize=14)\n",
    "    ax.set_ylabel(titre+'[CV Avg Score]', fontsize=14)\n",
    "    ax.legend(loc=\"best\", fontsize=15)\n",
    "    ax.grid('on')"
   ]
  },
  {
   "cell_type": "code",
   "execution_count": 14,
   "metadata": {
    "pycharm": {
     "is_executing": false,
     "name": "#%%\n"
    }
   },
   "outputs": [
    {
     "data": {
      "image/png": "[encoded data removed]",
      "text/plain": [
       "<Figure size 432x288 with 1 Axes>"
      ]
     },
     "metadata": {
      "needs_background": "light"
     },
     "output_type": "display_data"
    },
    {
     "data": {
      "image/png": "[encoded data removed]",
      "text/plain": [
       "<Figure size 432x288 with 1 Axes>"
      ]
     },
     "metadata": {
      "needs_background": "light"
     },
     "output_type": "display_data"
    },
    {
     "data": {
      "image/png": "[encoded data removed]",
      "text/plain": [
       "<Figure size 432x288 with 1 Axes>"
      ]
     },
     "metadata": {
      "needs_background": "light"
     },
     "output_type": "display_data"
    }
   ],
   "source": [
    "# Calling Method \n",
    "plot_grid_search(grid_search_acc.cv_results_, params['max_depth'], params['criterion'],  'max_depth', 'criterion', 'Accuracy')\n",
    "plot_grid_search(grid_search_rec.cv_results_, params['max_depth'], params['criterion'],  'max_depth', 'criterion', 'Recall')\n",
    "plot_grid_search(grid_search_prec_avg.cv_results_, params['max_depth'], params['criterion'], 'max_depth', 'criterion', 'Precision')\n"
   ]
  },
  {
   "cell_type": "code",
   "execution_count": 15,
   "metadata": {
    "pycharm": {
     "is_executing": false,
     "name": "#%%\n"
    }
   },
   "outputs": [],
   "source": [
    "def return_index_list(param1, param2):\n",
    "    list=[]\n",
    "    for p1 in param1:\n",
    "        for p2 in param2:\n",
    "            list.append('['+str(p1)+', '+str(p2)+']')\n",
    "    return list\n",
    "index= return_index_list(params['criterion'], params['max_depth'])"
   ]
  },
  {
   "cell_type": "code",
   "execution_count": 19,
   "metadata": {
    "pycharm": {
     "is_executing": false,
     "name": "#%%\n"
    }
   },
   "outputs": [],
   "source": [
    "df= pd.DataFrame({  'Accuracy': grid_search_acc.cv_results_['mean_test_score'],\n",
    "                    'Precision(Avg)': grid_search_prec_avg.cv_results_['mean_test_score'],\n",
    "                    'Recall(Avg)': grid_search_rec.cv_results_['mean_test_score'],},\n",
    "                 index=index)\n",
    "\n",
    "writer = pd.ExcelWriter('../tables_smote.xlsx')\n",
    "df.to_excel(writer, 'DT_smote')\n",
    "writer.save()\n",
    "writer.close()"
   ]
  },
  {
   "cell_type": "code",
   "execution_count": 17,
   "metadata": {
    "pycharm": {
     "is_executing": false,
     "name": "#%%\n"
    }
   },
   "outputs": [
    {
     "data": {
      "text/html": [
       "<div>\n",
       "<style scoped>\n",
       "    .dataframe tbody tr th:only-of-type {\n",
       "        vertical-align: middle;\n",
       "    }\n",
       "\n",
       "    .dataframe tbody tr th {\n",
       "        vertical-align: top;\n",
       "    }\n",
       "\n",
       "    .dataframe thead th {\n",
       "        text-align: right;\n",
       "    }\n",
       "</style>\n",
       "<table border=\"1\" class=\"dataframe\">\n",
       "  <thead>\n",
       "    <tr style=\"text-align: right;\">\n",
       "      <th></th>\n",
       "      <th>Accuracy</th>\n",
       "      <th>Precision(Avg)</th>\n",
       "      <th>Recall(Avg)</th>\n",
       "    </tr>\n",
       "  </thead>\n",
       "  <tbody>\n",
       "    <tr>\n",
       "      <th>[gini, 4]</th>\n",
       "      <td>0.755659</td>\n",
       "      <td>0.772036</td>\n",
       "      <td>0.755658</td>\n",
       "    </tr>\n",
       "    <tr>\n",
       "      <th>[gini, 5]</th>\n",
       "      <td>0.759632</td>\n",
       "      <td>0.779868</td>\n",
       "      <td>0.759631</td>\n",
       "    </tr>\n",
       "    <tr>\n",
       "      <th>[gini, 6]</th>\n",
       "      <td>0.763594</td>\n",
       "      <td>0.785943</td>\n",
       "      <td>0.763581</td>\n",
       "    </tr>\n",
       "    <tr>\n",
       "      <th>[gini, 7]</th>\n",
       "      <td>0.766349</td>\n",
       "      <td>0.788961</td>\n",
       "      <td>0.766335</td>\n",
       "    </tr>\n",
       "    <tr>\n",
       "      <th>[gini, 8]</th>\n",
       "      <td>0.776831</td>\n",
       "      <td>0.778652</td>\n",
       "      <td>0.776818</td>\n",
       "    </tr>\n",
       "    <tr>\n",
       "      <th>[gini, 9]</th>\n",
       "      <td>0.788118</td>\n",
       "      <td>0.788384</td>\n",
       "      <td>0.788143</td>\n",
       "    </tr>\n",
       "    <tr>\n",
       "      <th>[gini, 10]</th>\n",
       "      <td>0.799990</td>\n",
       "      <td>0.799973</td>\n",
       "      <td>0.799965</td>\n",
       "    </tr>\n",
       "    <tr>\n",
       "      <th>[gini, 11]</th>\n",
       "      <td>0.811936</td>\n",
       "      <td>0.813416</td>\n",
       "      <td>0.812155</td>\n",
       "    </tr>\n",
       "    <tr>\n",
       "      <th>[gini, 12]</th>\n",
       "      <td>0.819749</td>\n",
       "      <td>0.822825</td>\n",
       "      <td>0.819736</td>\n",
       "    </tr>\n",
       "    <tr>\n",
       "      <th>[gini, 13]</th>\n",
       "      <td>0.826148</td>\n",
       "      <td>0.830787</td>\n",
       "      <td>0.826257</td>\n",
       "    </tr>\n",
       "    <tr>\n",
       "      <th>[gini, 14]</th>\n",
       "      <td>0.828610</td>\n",
       "      <td>0.833542</td>\n",
       "      <td>0.828415</td>\n",
       "    </tr>\n",
       "    <tr>\n",
       "      <th>[gini, 15]</th>\n",
       "      <td>0.827671</td>\n",
       "      <td>0.831347</td>\n",
       "      <td>0.828000</td>\n",
       "    </tr>\n",
       "    <tr>\n",
       "      <th>[gini, 16]</th>\n",
       "      <td>0.826099</td>\n",
       "      <td>0.828794</td>\n",
       "      <td>0.825928</td>\n",
       "    </tr>\n",
       "    <tr>\n",
       "      <th>[gini, 17]</th>\n",
       "      <td>0.823771</td>\n",
       "      <td>0.825230</td>\n",
       "      <td>0.823539</td>\n",
       "    </tr>\n",
       "    <tr>\n",
       "      <th>[gini, None]</th>\n",
       "      <td>0.794993</td>\n",
       "      <td>0.796147</td>\n",
       "      <td>0.795675</td>\n",
       "    </tr>\n",
       "    <tr>\n",
       "      <th>[entropy, 4]</th>\n",
       "      <td>0.755683</td>\n",
       "      <td>0.772034</td>\n",
       "      <td>0.755682</td>\n",
       "    </tr>\n",
       "    <tr>\n",
       "      <th>[entropy, 5]</th>\n",
       "      <td>0.759596</td>\n",
       "      <td>0.779793</td>\n",
       "      <td>0.759595</td>\n",
       "    </tr>\n",
       "    <tr>\n",
       "      <th>[entropy, 6]</th>\n",
       "      <td>0.763557</td>\n",
       "      <td>0.785950</td>\n",
       "      <td>0.763557</td>\n",
       "    </tr>\n",
       "    <tr>\n",
       "      <th>[entropy, 7]</th>\n",
       "      <td>0.766507</td>\n",
       "      <td>0.789439</td>\n",
       "      <td>0.766506</td>\n",
       "    </tr>\n",
       "    <tr>\n",
       "      <th>[entropy, 8]</th>\n",
       "      <td>0.774954</td>\n",
       "      <td>0.777131</td>\n",
       "      <td>0.774941</td>\n",
       "    </tr>\n",
       "    <tr>\n",
       "      <th>[entropy, 9]</th>\n",
       "      <td>0.786229</td>\n",
       "      <td>0.786509</td>\n",
       "      <td>0.786241</td>\n",
       "    </tr>\n",
       "    <tr>\n",
       "      <th>[entropy, 10]</th>\n",
       "      <td>0.799576</td>\n",
       "      <td>0.799747</td>\n",
       "      <td>0.799563</td>\n",
       "    </tr>\n",
       "    <tr>\n",
       "      <th>[entropy, 11]</th>\n",
       "      <td>0.811692</td>\n",
       "      <td>0.813225</td>\n",
       "      <td>0.811642</td>\n",
       "    </tr>\n",
       "    <tr>\n",
       "      <th>[entropy, 12]</th>\n",
       "      <td>0.819956</td>\n",
       "      <td>0.823438</td>\n",
       "      <td>0.819968</td>\n",
       "    </tr>\n",
       "    <tr>\n",
       "      <th>[entropy, 13]</th>\n",
       "      <td>0.827379</td>\n",
       "      <td>0.832895</td>\n",
       "      <td>0.827439</td>\n",
       "    </tr>\n",
       "    <tr>\n",
       "      <th>[entropy, 14]</th>\n",
       "      <td>0.831438</td>\n",
       "      <td>0.836891</td>\n",
       "      <td>0.831377</td>\n",
       "    </tr>\n",
       "    <tr>\n",
       "      <th>[entropy, 15]</th>\n",
       "      <td>0.829707</td>\n",
       "      <td>0.833902</td>\n",
       "      <td>0.829524</td>\n",
       "    </tr>\n",
       "    <tr>\n",
       "      <th>[entropy, 16]</th>\n",
       "      <td>0.829085</td>\n",
       "      <td>0.832578</td>\n",
       "      <td>0.829597</td>\n",
       "    </tr>\n",
       "    <tr>\n",
       "      <th>[entropy, 17]</th>\n",
       "      <td>0.826172</td>\n",
       "      <td>0.828189</td>\n",
       "      <td>0.826087</td>\n",
       "    </tr>\n",
       "    <tr>\n",
       "      <th>[entropy, None]</th>\n",
       "      <td>0.799490</td>\n",
       "      <td>0.799840</td>\n",
       "      <td>0.799467</td>\n",
       "    </tr>\n",
       "  </tbody>\n",
       "</table>\n",
       "</div>"
      ],
      "text/plain": [
       "                 Accuracy  Precision(Avg)  Recall(Avg)\n",
       "[gini, 4]        0.755659        0.772036     0.755658\n",
       "[gini, 5]        0.759632        0.779868     0.759631\n",
       "[gini, 6]        0.763594        0.785943     0.763581\n",
       "[gini, 7]        0.766349        0.788961     0.766335\n",
       "[gini, 8]        0.776831        0.778652     0.776818\n",
       "[gini, 9]        0.788118        0.788384     0.788143\n",
       "[gini, 10]       0.799990        0.799973     0.799965\n",
       "[gini, 11]       0.811936        0.813416     0.812155\n",
       "[gini, 12]       0.819749        0.822825     0.819736\n",
       "[gini, 13]       0.826148        0.830787     0.826257\n",
       "[gini, 14]       0.828610        0.833542     0.828415\n",
       "[gini, 15]       0.827671        0.831347     0.828000\n",
       "[gini, 16]       0.826099        0.828794     0.825928\n",
       "[gini, 17]       0.823771        0.825230     0.823539\n",
       "[gini, None]     0.794993        0.796147     0.795675\n",
       "[entropy, 4]     0.755683        0.772034     0.755682\n",
       "[entropy, 5]     0.759596        0.779793     0.759595\n",
       "[entropy, 6]     0.763557        0.785950     0.763557\n",
       "[entropy, 7]     0.766507        0.789439     0.766506\n",
       "[entropy, 8]     0.774954        0.777131     0.774941\n",
       "[entropy, 9]     0.786229        0.786509     0.786241\n",
       "[entropy, 10]    0.799576        0.799747     0.799563\n",
       "[entropy, 11]    0.811692        0.813225     0.811642\n",
       "[entropy, 12]    0.819956        0.823438     0.819968\n",
       "[entropy, 13]    0.827379        0.832895     0.827439\n",
       "[entropy, 14]    0.831438        0.836891     0.831377\n",
       "[entropy, 15]    0.829707        0.833902     0.829524\n",
       "[entropy, 16]    0.829085        0.832578     0.829597\n",
       "[entropy, 17]    0.826172        0.828189     0.826087\n",
       "[entropy, None]  0.799490        0.799840     0.799467"
      ]
     },
     "execution_count": 17,
     "metadata": {},
     "output_type": "execute_result"
    }
   ],
   "source": [
    "df"
   ]
  }
 ],
 "metadata": {
  "kernelspec": {
   "display_name": "Python 3",
   "language": "python",
   "name": "python3"
  },
  "language_info": {
   "codemirror_mode": {
    "name": "ipython",
    "version": 3
   },
   "file_extension": ".py",
   "mimetype": "text/x-python",
   "name": "python",
   "nbconvert_exporter": "python",
   "pygments_lexer": "ipython3",
   "version": "3.5.3"
  },
  "pycharm": {
   "stem_cell": {
    "cell_type": "raw",
    "metadata": {
     "collapsed": false
    },
    "source": []
   }
  }
 },
 "nbformat": 4,
 "nbformat_minor": 1
}
