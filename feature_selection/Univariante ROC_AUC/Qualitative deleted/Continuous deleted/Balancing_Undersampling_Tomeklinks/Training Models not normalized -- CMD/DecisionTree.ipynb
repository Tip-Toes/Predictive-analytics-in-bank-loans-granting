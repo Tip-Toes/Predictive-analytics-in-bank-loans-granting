{
 "cells": [
  {
   "cell_type": "code",
   "execution_count": 1,
   "metadata": {
    "pycharm": {
     "is_executing": false
    }
   },
   "outputs": [],
   "source": [
    "from pylab import rcParams\n",
    "rcParams['figure.figsize'] = 10, 5\n",
    "import warnings\n",
    "warnings.filterwarnings('ignore')\n",
    "from sklearn.tree import DecisionTreeClassifier\n",
    "import pandas as pd\n",
    "from sklearn.model_selection import GridSearchCV, train_test_split\n",
    "from sklearn.metrics import confusion_matrix, classification_report, average_precision_score, accuracy_score\n",
    "import csv"
   ]
  },
  {
   "cell_type": "code",
   "execution_count": 99,
   "metadata": {
    "pycharm": {
     "is_executing": false,
     "name": "#%%\n"
    }
   },
   "outputs": [],
   "source": []
  },
  {
   "cell_type": "code",
   "execution_count": 2,
   "metadata": {
    "pycharm": {
     "is_executing": false,
     "name": "#%%\n"
    }
   },
   "outputs": [],
   "source": [
    "def get_algo_path():\n",
    "    import os\n",
    "    cwd = os.getcwd()\n",
    "    s='\\\\'\n",
    "    if '\\\\' not in cwd:\n",
    "        s='/'\n",
    "    cwd= cwd.split(s)[4:-1]\n",
    "    cwd.append('Not Normalized')\n",
    "    cwd='/'.join(cwd)\n",
    "    return cwd\n",
    "\n",
    "def get_csv_path():\n",
    "    import os\n",
    "    cwd = os.getcwd()\n",
    "    s=\"\\\\\"\n",
    "    if \"\\\\\" not in cwd:\n",
    "        s='/'\n",
    "    file= cwd.split(s)[:4]\n",
    "    file.append('models_scores.csv')\n",
    "    file= s.join(file)\n",
    "    return file\n",
    "\n",
    "def line_is_exist(file, row):\n",
    "    logfile = open(file, 'r')\n",
    "    loglist = logfile.readlines()\n",
    "    logfile.close()\n",
    "    for line in loglist:\n",
    "        if ','.join(row) in line:\n",
    "            return True\n",
    "    return False\n",
    "\n",
    "def write_new_score(file, line):\n",
    "    if( not line_is_exist(file, line) ):\n",
    "        with open(file, 'a') as f:\n",
    "            writer = csv.writer(f)\n",
    "            writer.writerow(line)\n",
    "    else:\n",
    "        print('line exsist already')\n",
    "    "
   ]
  },
  {
   "cell_type": "code",
   "execution_count": 3,
   "metadata": {
    "pycharm": {
     "is_executing": false,
     "name": "#%%\n"
    }
   },
   "outputs": [],
   "source": [
    "data= pd.read_csv('../data.csv')"
   ]
  },
  {
   "cell_type": "code",
   "execution_count": 4,
   "metadata": {
    "pycharm": {
     "is_executing": false,
     "name": "#%%\n"
    }
   },
   "outputs": [],
   "source": [
    "##copying data\n",
    "data1=data.copy()\n",
    "### spliting data en X et Y\n",
    "X= data1.drop('Loan Status', axis=1)\n",
    "Y= data1['Loan Status']\n",
    "### spliting the data to train and test\n",
    "X_train , X_test , Y_train , Y_test = train_test_split(X, Y, test_size = 0.30, random_state = 123)\n",
    "## dicision tree (CART)\n",
    "dct = DecisionTreeClassifier()\n",
    "params={'criterion' : ['gini', 'entropy'],\n",
    "        'max_depth': [4, 5, 6, 7, 8, 9, 10, 11, 12, 13,14, 15, 16, 17, None]}\n",
    "\n",
    "##accuracy\n",
    "grid_search_acc= GridSearchCV(estimator=dct, param_grid= params, scoring='accuracy',cv=2, n_jobs=-1)\n",
    "grid_search_acc= grid_search_acc.fit(X_train, Y_train)\n",
    "y_predict= grid_search_acc.best_estimator_.predict(X_test)\n"
   ]
  },
  {
   "cell_type": "code",
   "execution_count": 5,
   "metadata": {
    "pycharm": {
     "is_executing": false,
     "name": "#%%\n"
    }
   },
   "outputs": [],
   "source": [
    "## get avg precision & avg recall\n",
    "report= classification_report(Y_test, y_predict, output_dict=True)\n",
    "avg_list = report.pop(\"weighted avg\")\n",
    "avg_precision= round(avg_list['precision'], 3)\n",
    "avg_recall= round(avg_list['recall'], 3)\n",
    "accuraccy= round(accuracy_score(Y_test,y_predict), 3)\n",
    "## csv row\n",
    "csv_row = [get_algo_path(), 'Decision Tree', str(grid_search_acc.best_params_), str(accuraccy), str(avg_precision), str(avg_recall)]\n",
    "## write file\n",
    "csv_file= get_csv_path()\n",
    "write_new_score(csv_file, csv_row)"
   ]
  },
  {
   "cell_type": "code",
   "execution_count": 6,
   "metadata": {
    "pycharm": {
     "is_executing": false,
     "name": "#%%\n"
    }
   },
   "outputs": [
    {
     "name": "stdout",
     "output_type": "stream",
     "text": [
      "----------\n",
      "best parameters:  {'criterion': 'entropy', 'max_depth': 7}\n",
      "----------\n",
      "[[ 1297  3655]\n",
      " [    6 13405]]\n",
      "----------\n",
      "              precision    recall  f1-score   support\n",
      "\n",
      "           0       1.00      0.26      0.41      4952\n",
      "           1       0.79      1.00      0.88     13411\n",
      "\n",
      "    accuracy                           0.80     18363\n",
      "   macro avg       0.89      0.63      0.65     18363\n",
      "weighted avg       0.84      0.80      0.75     18363\n",
      "\n",
      "----------\n"
     ]
    }
   ],
   "source": [
    "## evaluating the model\n",
    "print(\"----------\")\n",
    "print('best parameters: ', grid_search_acc.best_params_)\n",
    "print(\"----------\")\n",
    "print(confusion_matrix(Y_test,y_predict))\n",
    "print(\"----------\")\n",
    "print(classification_report(Y_test, y_predict))\n",
    "print(\"----------\")\n"
   ]
  },
  {
   "cell_type": "code",
   "execution_count": 7,
   "metadata": {
    "collapsed": false,
    "pycharm": {
     "is_executing": false,
     "name": "#%%\n"
    }
   },
   "outputs": [
    {
     "data": {
      "text/plain": [
       "{'mean_fit_time': array([0.12815726, 0.14959931, 0.18201375, 0.20345652, 0.18001842,\n",
       "        0.22340167, 0.22888744, 0.26878142, 0.26279795, 0.26628745,\n",
       "        0.29371405, 0.31216466, 0.32413244, 0.34358025, 0.39793444,\n",
       "        0.13663316, 0.19049001, 0.19398069, 0.23038316, 0.2717725 ,\n",
       "        0.28274298, 0.33560228, 0.3510617 , 0.35006356, 0.40092707,\n",
       "        0.40790796, 0.45727634, 0.4812125 , 0.61635184, 0.65674508]),\n",
       " 'std_fit_time': array([6.48248196e-03, 1.49610043e-02, 1.04715824e-02, 2.09437609e-02,\n",
       "        4.99725342e-04, 3.57627869e-07, 1.44621134e-02, 3.49068642e-03,\n",
       "        1.24675035e-02, 3.57627869e-07, 8.47697258e-03, 2.19413042e-02,\n",
       "        6.98208809e-03, 3.24139595e-02, 3.98945808e-02, 7.15255737e-07,\n",
       "        1.99437141e-03, 1.49583817e-03, 1.19678974e-02, 1.49500370e-03,\n",
       "        1.04718208e-02, 2.04455853e-02, 2.19408274e-02, 9.97066498e-04,\n",
       "        1.89495087e-02, 1.19683743e-02, 2.24397182e-02, 3.49056721e-03,\n",
       "        1.79514885e-02, 4.48739529e-03]),\n",
       " 'mean_score_time': array([0.00947571, 0.00748026, 0.00797749, 0.00847888, 0.00797844,\n",
       "        0.00797844, 0.00847721, 0.00897753, 0.00947499, 0.00947487,\n",
       "        0.00947535, 0.00947571, 0.00997388, 0.00947464, 0.01097047,\n",
       "        0.00698209, 0.00748098, 0.00748038, 0.00748003, 0.00797951,\n",
       "        0.00797915, 0.00797868, 0.00797784, 0.00847769, 0.00847733,\n",
       "        0.00947559, 0.00947547, 0.01147032, 0.01097107, 0.0079782 ]),\n",
       " 'std_score_time': array([1.49464607e-03, 4.98652458e-04, 7.15255737e-07, 4.99010086e-04,\n",
       "        9.53674316e-07, 2.38418579e-07, 4.99010086e-04, 1.31130219e-06,\n",
       "        4.98533249e-04, 4.98652458e-04, 4.99844551e-04, 4.98056412e-04,\n",
       "        9.97185707e-04, 4.98890877e-04, 8.34465027e-07, 2.38418579e-07,\n",
       "        4.98414040e-04, 4.98771667e-04, 4.98414040e-04, 1.19209290e-07,\n",
       "        2.38418579e-07, 2.38418579e-07, 5.96046448e-07, 4.99248505e-04,\n",
       "        4.98652458e-04, 4.98890877e-04, 4.99248505e-04, 1.49488449e-03,\n",
       "        2.38418579e-07, 0.00000000e+00]),\n",
       " 'param_criterion': masked_array(data=['gini', 'gini', 'gini', 'gini', 'gini', 'gini', 'gini',\n",
       "                    'gini', 'gini', 'gini', 'gini', 'gini', 'gini', 'gini',\n",
       "                    'gini', 'entropy', 'entropy', 'entropy', 'entropy',\n",
       "                    'entropy', 'entropy', 'entropy', 'entropy', 'entropy',\n",
       "                    'entropy', 'entropy', 'entropy', 'entropy', 'entropy',\n",
       "                    'entropy'],\n",
       "              mask=[False, False, False, False, False, False, False, False,\n",
       "                    False, False, False, False, False, False, False, False,\n",
       "                    False, False, False, False, False, False, False, False,\n",
       "                    False, False, False, False, False, False],\n",
       "        fill_value='?',\n",
       "             dtype=object),\n",
       " 'param_max_depth': masked_array(data=[4, 5, 6, 7, 8, 9, 10, 11, 12, 13, 14, 15, 16, 17, None,\n",
       "                    4, 5, 6, 7, 8, 9, 10, 11, 12, 13, 14, 15, 16, 17, None],\n",
       "              mask=[False, False, False, False, False, False, False, False,\n",
       "                    False, False, False, False, False, False, False, False,\n",
       "                    False, False, False, False, False, False, False, False,\n",
       "                    False, False, False, False, False, False],\n",
       "        fill_value='?',\n",
       "             dtype=object),\n",
       " 'params': [{'criterion': 'gini', 'max_depth': 4},\n",
       "  {'criterion': 'gini', 'max_depth': 5},\n",
       "  {'criterion': 'gini', 'max_depth': 6},\n",
       "  {'criterion': 'gini', 'max_depth': 7},\n",
       "  {'criterion': 'gini', 'max_depth': 8},\n",
       "  {'criterion': 'gini', 'max_depth': 9},\n",
       "  {'criterion': 'gini', 'max_depth': 10},\n",
       "  {'criterion': 'gini', 'max_depth': 11},\n",
       "  {'criterion': 'gini', 'max_depth': 12},\n",
       "  {'criterion': 'gini', 'max_depth': 13},\n",
       "  {'criterion': 'gini', 'max_depth': 14},\n",
       "  {'criterion': 'gini', 'max_depth': 15},\n",
       "  {'criterion': 'gini', 'max_depth': 16},\n",
       "  {'criterion': 'gini', 'max_depth': 17},\n",
       "  {'criterion': 'gini', 'max_depth': None},\n",
       "  {'criterion': 'entropy', 'max_depth': 4},\n",
       "  {'criterion': 'entropy', 'max_depth': 5},\n",
       "  {'criterion': 'entropy', 'max_depth': 6},\n",
       "  {'criterion': 'entropy', 'max_depth': 7},\n",
       "  {'criterion': 'entropy', 'max_depth': 8},\n",
       "  {'criterion': 'entropy', 'max_depth': 9},\n",
       "  {'criterion': 'entropy', 'max_depth': 10},\n",
       "  {'criterion': 'entropy', 'max_depth': 11},\n",
       "  {'criterion': 'entropy', 'max_depth': 12},\n",
       "  {'criterion': 'entropy', 'max_depth': 13},\n",
       "  {'criterion': 'entropy', 'max_depth': 14},\n",
       "  {'criterion': 'entropy', 'max_depth': 15},\n",
       "  {'criterion': 'entropy', 'max_depth': 16},\n",
       "  {'criterion': 'entropy', 'max_depth': 17},\n",
       "  {'criterion': 'entropy', 'max_depth': None}],\n",
       " 'split0_test_score': array([0.80716986, 0.80716986, 0.80702983, 0.8073099 , 0.80534939,\n",
       "        0.80245531, 0.79844093, 0.79624702, 0.79087896, 0.78261681,\n",
       "        0.77724875, 0.7744947 , 0.76585912, 0.76170471, 0.72655557,\n",
       "        0.80716986, 0.80716986, 0.80716986, 0.8066564 , 0.80688979,\n",
       "        0.80166177, 0.80007469, 0.79727396, 0.79293283, 0.78835831,\n",
       "        0.78215003, 0.77547496, 0.77104047, 0.76725949, 0.73103674]),\n",
       " 'split1_test_score': array([0.80711418, 0.80711418, 0.80697414, 0.80674073, 0.80351975,\n",
       "        0.80277285, 0.79544394, 0.79044907, 0.78157968, 0.77574456,\n",
       "        0.76911586, 0.76309402, 0.7555317 , 0.75375782, 0.72612268,\n",
       "        0.8070675 , 0.8070675 , 0.8070675 , 0.80767435, 0.80669405,\n",
       "        0.80566707, 0.79875829, 0.7955373 , 0.79068248, 0.78587433,\n",
       "        0.78050602, 0.77257025, 0.76640837, 0.76356083, 0.72602932]),\n",
       " 'mean_test_score': array([0.80714202, 0.80714202, 0.80700198, 0.80702532, 0.80443459,\n",
       "        0.80261407, 0.79694247, 0.79334812, 0.78622943, 0.77918077,\n",
       "        0.7731824 , 0.76879449, 0.76069553, 0.75773136, 0.72633913,\n",
       "        0.80711868, 0.80711868, 0.80711868, 0.80716536, 0.80679192,\n",
       "        0.80366437, 0.7994165 , 0.79640565, 0.79180768, 0.78711635,\n",
       "        0.78132804, 0.77402264, 0.76872447, 0.7654102 , 0.72853308]),\n",
       " 'std_test_score': array([2.78412411e-05, 2.78412411e-05, 2.78445097e-05, 2.84583374e-04,\n",
       "        9.14822393e-04, 1.58772647e-04, 1.49849592e-03, 2.89897659e-03,\n",
       "        4.64963871e-03, 3.43612602e-03, 4.06644457e-03, 5.70034323e-03,\n",
       "        5.16371349e-03, 3.97344541e-03, 2.16446747e-04, 5.11817322e-05,\n",
       "        5.11817322e-05, 5.11817322e-05, 5.08978069e-04, 9.78692514e-05,\n",
       "        2.00265292e-03, 6.58200105e-04, 8.68329895e-04, 1.12517662e-03,\n",
       "        1.24198585e-03, 8.22001913e-04, 1.45235097e-03, 2.31605264e-03,\n",
       "        1.84933107e-03, 2.50371028e-03]),\n",
       " 'rank_test_score': array([ 2,  2,  8,  7, 10, 12, 14, 16, 19, 21, 23, 24, 27, 28, 30,  4,  4,\n",
       "         4,  1,  9, 11, 13, 15, 17, 18, 20, 22, 25, 26, 29])}"
      ]
     },
     "execution_count": 7,
     "metadata": {},
     "output_type": "execute_result"
    }
   ],
   "source": [
    "grid_search_acc.cv_results_\n",
    "\n"
   ]
  }
 ],
 "metadata": {
  "kernelspec": {
   "display_name": "Python 3",
   "language": "python",
   "name": "python3"
  },
  "language_info": {
   "codemirror_mode": {
    "name": "ipython",
    "version": 3
   },
   "file_extension": ".py",
   "mimetype": "text/x-python",
   "name": "python",
   "nbconvert_exporter": "python",
   "pygments_lexer": "ipython3",
   "version": "3.7.4"
  },
  "pycharm": {
   "stem_cell": {
    "cell_type": "raw",
    "metadata": {
     "collapsed": false
    },
    "source": []
   }
  }
 },
 "nbformat": 4,
 "nbformat_minor": 1
}
