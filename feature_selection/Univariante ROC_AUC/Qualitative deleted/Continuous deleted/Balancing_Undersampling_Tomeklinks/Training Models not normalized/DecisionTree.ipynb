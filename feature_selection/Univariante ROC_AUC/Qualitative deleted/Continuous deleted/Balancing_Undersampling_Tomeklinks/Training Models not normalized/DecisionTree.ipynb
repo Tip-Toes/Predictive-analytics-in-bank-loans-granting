{
 "cells": [
  {
   "cell_type": "code",
   "execution_count": 1,
   "metadata": {
    "pycharm": {
     "is_executing": false
    }
   },
   "outputs": [],
   "source": [
    "from pylab import rcParams\n",
    "rcParams['figure.figsize'] = 10, 5\n",
    "from plot_metric.functions import BinaryClassification\n",
    "import warnings\n",
    "warnings.filterwarnings('ignore')\n",
    "from sklearn.tree import DecisionTreeClassifier\n",
    "import pandas as pd\n",
    "import matplotlib.pyplot as plt\n",
    "import numpy as np\n",
    "from sklearn.model_selection import cross_val_score, GridSearchCV, train_test_split\n",
    "from sklearn.metrics import make_scorer, recall_score,precision_score, confusion_matrix,classification_report,accuracy_score"
   ]
  },
  {
   "cell_type": "code",
   "execution_count": 2,
   "metadata": {
    "pycharm": {
     "is_executing": false,
     "name": "#%%\n"
    }
   },
   "outputs": [
    {
     "data": {
      "text/html": [
       "<div>\n",
       "<style scoped>\n",
       "    .dataframe tbody tr th:only-of-type {\n",
       "        vertical-align: middle;\n",
       "    }\n",
       "\n",
       "    .dataframe tbody tr th {\n",
       "        vertical-align: top;\n",
       "    }\n",
       "\n",
       "    .dataframe thead th {\n",
       "        text-align: right;\n",
       "    }\n",
       "</style>\n",
       "<table border=\"1\" class=\"dataframe\">\n",
       "  <thead>\n",
       "    <tr style=\"text-align: right;\">\n",
       "      <th></th>\n",
       "      <th>Current Loan Amount</th>\n",
       "      <th>Credit Score</th>\n",
       "      <th>Annual Income</th>\n",
       "      <th>Monthly Debt</th>\n",
       "      <th>Years of Credit History</th>\n",
       "      <th>Current Credit Balance</th>\n",
       "      <th>Maximum Open Credit</th>\n",
       "      <th>Term_Short Term</th>\n",
       "      <th>Years in current job_10+ years</th>\n",
       "      <th>Years in current job_2 years</th>\n",
       "      <th>...</th>\n",
       "      <th>Years in current job_4 years</th>\n",
       "      <th>Years in current job_5 years</th>\n",
       "      <th>Years in current job_6 years</th>\n",
       "      <th>Years in current job_7 years</th>\n",
       "      <th>Years in current job_8 years</th>\n",
       "      <th>Years in current job_9 years</th>\n",
       "      <th>Years in current job_&lt; 1 year</th>\n",
       "      <th>Home Ownership_Own Home</th>\n",
       "      <th>Home Ownership_Rent</th>\n",
       "      <th>Loan Status</th>\n",
       "    </tr>\n",
       "  </thead>\n",
       "  <tbody>\n",
       "    <tr>\n",
       "      <th>0</th>\n",
       "      <td>445412.0</td>\n",
       "      <td>709.0</td>\n",
       "      <td>1167493.0</td>\n",
       "      <td>5214.74</td>\n",
       "      <td>17.2</td>\n",
       "      <td>228190.0</td>\n",
       "      <td>416746.0</td>\n",
       "      <td>1</td>\n",
       "      <td>0</td>\n",
       "      <td>0</td>\n",
       "      <td>...</td>\n",
       "      <td>0</td>\n",
       "      <td>0</td>\n",
       "      <td>0</td>\n",
       "      <td>0</td>\n",
       "      <td>1</td>\n",
       "      <td>0</td>\n",
       "      <td>0</td>\n",
       "      <td>0</td>\n",
       "      <td>0</td>\n",
       "      <td>1</td>\n",
       "    </tr>\n",
       "    <tr>\n",
       "      <th>1</th>\n",
       "      <td>99999999.0</td>\n",
       "      <td>741.0</td>\n",
       "      <td>2231892.0</td>\n",
       "      <td>29200.53</td>\n",
       "      <td>14.9</td>\n",
       "      <td>297996.0</td>\n",
       "      <td>750090.0</td>\n",
       "      <td>1</td>\n",
       "      <td>0</td>\n",
       "      <td>0</td>\n",
       "      <td>...</td>\n",
       "      <td>0</td>\n",
       "      <td>0</td>\n",
       "      <td>0</td>\n",
       "      <td>0</td>\n",
       "      <td>1</td>\n",
       "      <td>0</td>\n",
       "      <td>0</td>\n",
       "      <td>1</td>\n",
       "      <td>0</td>\n",
       "      <td>1</td>\n",
       "    </tr>\n",
       "    <tr>\n",
       "      <th>2</th>\n",
       "      <td>206602.0</td>\n",
       "      <td>7290.0</td>\n",
       "      <td>896857.0</td>\n",
       "      <td>16367.74</td>\n",
       "      <td>17.3</td>\n",
       "      <td>215308.0</td>\n",
       "      <td>272448.0</td>\n",
       "      <td>1</td>\n",
       "      <td>1</td>\n",
       "      <td>0</td>\n",
       "      <td>...</td>\n",
       "      <td>0</td>\n",
       "      <td>0</td>\n",
       "      <td>0</td>\n",
       "      <td>0</td>\n",
       "      <td>0</td>\n",
       "      <td>0</td>\n",
       "      <td>0</td>\n",
       "      <td>0</td>\n",
       "      <td>0</td>\n",
       "      <td>0</td>\n",
       "    </tr>\n",
       "    <tr>\n",
       "      <th>3</th>\n",
       "      <td>217646.0</td>\n",
       "      <td>730.0</td>\n",
       "      <td>1184194.0</td>\n",
       "      <td>10855.08</td>\n",
       "      <td>19.6</td>\n",
       "      <td>122170.0</td>\n",
       "      <td>272052.0</td>\n",
       "      <td>1</td>\n",
       "      <td>0</td>\n",
       "      <td>0</td>\n",
       "      <td>...</td>\n",
       "      <td>0</td>\n",
       "      <td>0</td>\n",
       "      <td>0</td>\n",
       "      <td>0</td>\n",
       "      <td>0</td>\n",
       "      <td>0</td>\n",
       "      <td>1</td>\n",
       "      <td>0</td>\n",
       "      <td>0</td>\n",
       "      <td>1</td>\n",
       "    </tr>\n",
       "    <tr>\n",
       "      <th>4</th>\n",
       "      <td>548746.0</td>\n",
       "      <td>678.0</td>\n",
       "      <td>2559110.0</td>\n",
       "      <td>18660.28</td>\n",
       "      <td>22.6</td>\n",
       "      <td>437171.0</td>\n",
       "      <td>555038.0</td>\n",
       "      <td>1</td>\n",
       "      <td>0</td>\n",
       "      <td>1</td>\n",
       "      <td>...</td>\n",
       "      <td>0</td>\n",
       "      <td>0</td>\n",
       "      <td>0</td>\n",
       "      <td>0</td>\n",
       "      <td>0</td>\n",
       "      <td>0</td>\n",
       "      <td>0</td>\n",
       "      <td>0</td>\n",
       "      <td>1</td>\n",
       "      <td>1</td>\n",
       "    </tr>\n",
       "  </tbody>\n",
       "</table>\n",
       "<p>5 rows × 21 columns</p>\n",
       "</div>"
      ],
      "text/plain": [
       "   Current Loan Amount  Credit Score  Annual Income  Monthly Debt  \\\n",
       "0             445412.0         709.0      1167493.0       5214.74   \n",
       "1           99999999.0         741.0      2231892.0      29200.53   \n",
       "2             206602.0        7290.0       896857.0      16367.74   \n",
       "3             217646.0         730.0      1184194.0      10855.08   \n",
       "4             548746.0         678.0      2559110.0      18660.28   \n",
       "\n",
       "   Years of Credit History  Current Credit Balance  Maximum Open Credit  \\\n",
       "0                     17.2                228190.0             416746.0   \n",
       "1                     14.9                297996.0             750090.0   \n",
       "2                     17.3                215308.0             272448.0   \n",
       "3                     19.6                122170.0             272052.0   \n",
       "4                     22.6                437171.0             555038.0   \n",
       "\n",
       "   Term_Short Term  Years in current job_10+ years  \\\n",
       "0                1                               0   \n",
       "1                1                               0   \n",
       "2                1                               1   \n",
       "3                1                               0   \n",
       "4                1                               0   \n",
       "\n",
       "   Years in current job_2 years  ...  Years in current job_4 years  \\\n",
       "0                             0  ...                             0   \n",
       "1                             0  ...                             0   \n",
       "2                             0  ...                             0   \n",
       "3                             0  ...                             0   \n",
       "4                             1  ...                             0   \n",
       "\n",
       "   Years in current job_5 years  Years in current job_6 years  \\\n",
       "0                             0                             0   \n",
       "1                             0                             0   \n",
       "2                             0                             0   \n",
       "3                             0                             0   \n",
       "4                             0                             0   \n",
       "\n",
       "   Years in current job_7 years  Years in current job_8 years  \\\n",
       "0                             0                             1   \n",
       "1                             0                             1   \n",
       "2                             0                             0   \n",
       "3                             0                             0   \n",
       "4                             0                             0   \n",
       "\n",
       "   Years in current job_9 years  Years in current job_< 1 year  \\\n",
       "0                             0                              0   \n",
       "1                             0                              0   \n",
       "2                             0                              0   \n",
       "3                             0                              1   \n",
       "4                             0                              0   \n",
       "\n",
       "   Home Ownership_Own Home  Home Ownership_Rent  Loan Status  \n",
       "0                        0                    0            1  \n",
       "1                        1                    0            1  \n",
       "2                        0                    0            0  \n",
       "3                        0                    0            1  \n",
       "4                        0                    1            1  \n",
       "\n",
       "[5 rows x 21 columns]"
      ]
     },
     "execution_count": 2,
     "metadata": {},
     "output_type": "execute_result"
    }
   ],
   "source": [
    "data= pd.read_csv('../data.csv')\n",
    "data.head()"
   ]
  },
  {
   "cell_type": "code",
   "execution_count": 3,
   "metadata": {
    "pycharm": {
     "is_executing": false,
     "name": "#%%\n"
    }
   },
   "outputs": [
    {
     "data": {
      "text/plain": [
       "Current Loan Amount               float64\n",
       "Credit Score                      float64\n",
       "Annual Income                     float64\n",
       "Monthly Debt                      float64\n",
       "Years of Credit History           float64\n",
       "Current Credit Balance            float64\n",
       "Maximum Open Credit               float64\n",
       "Term_Short Term                     int64\n",
       "Years in current job_10+ years      int64\n",
       "Years in current job_2 years        int64\n",
       "Years in current job_3 years        int64\n",
       "Years in current job_4 years        int64\n",
       "Years in current job_5 years        int64\n",
       "Years in current job_6 years        int64\n",
       "Years in current job_7 years        int64\n",
       "Years in current job_8 years        int64\n",
       "Years in current job_9 years        int64\n",
       "Years in current job_< 1 year       int64\n",
       "Home Ownership_Own Home             int64\n",
       "Home Ownership_Rent                 int64\n",
       "Loan Status                         int64\n",
       "dtype: object"
      ]
     },
     "execution_count": 3,
     "metadata": {},
     "output_type": "execute_result"
    }
   ],
   "source": [
    "data.dtypes"
   ]
  },
  {
   "cell_type": "code",
   "execution_count": 4,
   "metadata": {
    "pycharm": {
     "is_executing": false,
     "name": "#%%\n"
    }
   },
   "outputs": [],
   "source": [
    "##copying data\n",
    "data1=data.copy()"
   ]
  },
  {
   "cell_type": "markdown",
   "metadata": {
    "pycharm": {
     "is_executing": false,
     "name": "#%% md\n"
    }
   },
   "source": [
    "### spliting data en X et Y"
   ]
  },
  {
   "cell_type": "code",
   "execution_count": 5,
   "metadata": {
    "pycharm": {
     "is_executing": false,
     "name": "#%%\n"
    }
   },
   "outputs": [],
   "source": [
    "X= data1.drop('Loan Status', axis=1)\n",
    "Y= data1['Loan Status']"
   ]
  },
  {
   "cell_type": "markdown",
   "metadata": {
    "pycharm": {
     "is_executing": false,
     "name": "#%% md\n"
    }
   },
   "source": [
    "### spliting the data to train and test"
   ]
  },
  {
   "cell_type": "code",
   "execution_count": 6,
   "metadata": {
    "pycharm": {
     "is_executing": false,
     "name": "#%%\n"
    }
   },
   "outputs": [],
   "source": [
    "X_train , X_test , Y_train , Y_test = train_test_split(X, Y, test_size = 0.30, random_state = 123)"
   ]
  },
  {
   "cell_type": "markdown",
   "metadata": {},
   "source": [
    "## dicision tree (CART)"
   ]
  },
  {
   "cell_type": "code",
   "execution_count": 7,
   "metadata": {
    "pycharm": {
     "is_executing": false,
     "name": "#%%\n"
    }
   },
   "outputs": [],
   "source": [
    "dct = DecisionTreeClassifier()\n",
    "params={'criterion' : ['gini', 'entropy'],\n",
    "        'max_depth': [4, 5, 6, 7, 8, 9, 10, 11, 12, 13,14, 15, 16, 17, None]}\n",
    "\n",
    "##accuracy\n",
    "grid_search_acc= GridSearchCV(estimator=dct, param_grid= params, scoring='accuracy',cv=5, n_jobs=-1)\n",
    "grid_search_acc= grid_search_acc.fit(X_train, Y_train)\n",
    "y_predict= grid_search_acc.best_estimator_.predict(X_test)\n"
   ]
  },
  {
   "cell_type": "code",
   "execution_count": 8,
   "metadata": {
    "pycharm": {
     "is_executing": false,
     "name": "#%%\n"
    }
   },
   "outputs": [
    {
     "name": "stdout",
     "output_type": "stream",
     "text": [
      "----------\n",
      "best parameters:  {'max_depth': 4, 'criterion': 'gini'}\n",
      "----------\n",
      "[[ 1296  3656]\n",
      " [    0 13411]]\n",
      "----------\n",
      "              precision    recall  f1-score   support\n",
      "\n",
      "           0       1.00      0.26      0.41      4952\n",
      "           1       0.79      1.00      0.88     13411\n",
      "\n",
      "    accuracy                           0.80     18363\n",
      "   macro avg       0.89      0.63      0.65     18363\n",
      "weighted avg       0.84      0.80      0.75     18363\n",
      "\n",
      "----------\n"
     ]
    }
   ],
   "source": [
    "## evaluating the model\n",
    "print(\"----------\")\n",
    "print('best parameters: ', grid_search_acc.best_params_)\n",
    "print(\"----------\")\n",
    "print(confusion_matrix(Y_test,y_predict))\n",
    "print(\"----------\")\n",
    "print(classification_report(Y_test, y_predict))\n",
    "print(\"----------\")"
   ]
  },
  {
   "cell_type": "code",
   "execution_count": 9,
   "metadata": {},
   "outputs": [
    {
     "data": {
      "image/png": "[encoded data removed]",
      "text/plain": [
       "<Figure size 504x432 with 1 Axes>"
      ]
     },
     "metadata": {},
     "output_type": "display_data"
    }
   ],
   "source": [
    "##ROC\n",
    "y_predict_proba = grid_search_acc.best_estimator_.predict_proba(X_test)[:,1]\n",
    "\n",
    "# Visualisation with plot_metric\n",
    "bc = BinaryClassification(Y_test, y_predict_proba, labels=[1, 0])\n",
    "# Figures\n",
    "plt.figure(figsize=(7,6))\n",
    "bc.plot_roc_curve()\n",
    "plt.title('ROC curve')\n",
    "plt.show()"
   ]
  },
  {
   "cell_type": "code",
   "execution_count": 10,
   "metadata": {
    "pycharm": {
     "is_executing": false,
     "name": "#%%\n"
    }
   },
   "outputs": [],
   "source": [
    "## Recall\n",
    "rec_avg=make_scorer(recall_score, average='macro')\n",
    "grid_search_rec= GridSearchCV(estimator=dct, param_grid= params, scoring=rec_avg,cv=5, n_jobs=-1)\n",
    "grid_search_rec= grid_search_rec.fit(X_train, Y_train)\n",
    "y_predict= grid_search_rec.best_estimator_.predict(X_test)"
   ]
  },
  {
   "cell_type": "code",
   "execution_count": 11,
   "metadata": {
    "pycharm": {
     "is_executing": false,
     "name": "#%%\n"
    }
   },
   "outputs": [
    {
     "name": "stdout",
     "output_type": "stream",
     "text": [
      "----------\n",
      "best parameters:  {'max_depth': None, 'criterion': 'gini'}\n",
      "----------\n",
      "[[ 2462  2490]\n",
      " [ 2616 10795]]\n",
      "----------\n",
      "              precision    recall  f1-score   support\n",
      "\n",
      "           0       0.48      0.50      0.49      4952\n",
      "           1       0.81      0.80      0.81     13411\n",
      "\n",
      "    accuracy                           0.72     18363\n",
      "   macro avg       0.65      0.65      0.65     18363\n",
      "weighted avg       0.72      0.72      0.72     18363\n",
      "\n",
      "----------\n"
     ]
    }
   ],
   "source": [
    "## evaluating the model\n",
    "print(\"----------\")\n",
    "print('best parameters: ', grid_search_rec.best_params_)\n",
    "print(\"----------\")\n",
    "print(confusion_matrix(Y_test,y_predict))\n",
    "print(\"----------\")\n",
    "print(classification_report(Y_test, y_predict))\n",
    "print(\"----------\")"
   ]
  },
  {
   "cell_type": "code",
   "execution_count": 12,
   "metadata": {
    "pycharm": {
     "is_executing": false,
     "name": "#%%\n"
    }
   },
   "outputs": [],
   "source": [
    "## precision\n",
    "prec_avg=make_scorer(precision_score, average='macro')\n",
    "grid_search_prec_avg= GridSearchCV(estimator=dct, param_grid= params, scoring=prec_avg,cv=5, n_jobs=-1)\n",
    "grid_search_prec_avg= grid_search_prec_avg.fit(X_train, Y_train)\n",
    "y_predict= grid_search_prec_avg.best_estimator_.predict(X_test)"
   ]
  },
  {
   "cell_type": "code",
   "execution_count": 13,
   "metadata": {
    "pycharm": {
     "is_executing": false,
     "name": "#%%\n"
    }
   },
   "outputs": [
    {
     "name": "stdout",
     "output_type": "stream",
     "text": [
      "----------\n",
      "best parameters:  {'max_depth': 4, 'criterion': 'gini'}\n",
      "----------\n",
      "[[ 1296  3656]\n",
      " [    0 13411]]\n",
      "----------\n",
      "              precision    recall  f1-score   support\n",
      "\n",
      "           0       1.00      0.26      0.41      4952\n",
      "           1       0.79      1.00      0.88     13411\n",
      "\n",
      "    accuracy                           0.80     18363\n",
      "   macro avg       0.89      0.63      0.65     18363\n",
      "weighted avg       0.84      0.80      0.75     18363\n",
      "\n",
      "----------\n"
     ]
    }
   ],
   "source": [
    "## evaluating the model\n",
    "print(\"----------\")\n",
    "print('best parameters: ', grid_search_prec_avg.best_params_)\n",
    "print(\"----------\")\n",
    "print(confusion_matrix(Y_test,y_predict))\n",
    "print(\"----------\")\n",
    "print(classification_report(Y_test, y_predict))\n",
    "print(\"----------\")"
   ]
  },
  {
   "cell_type": "code",
   "execution_count": 14,
   "metadata": {
    "pycharm": {
     "is_executing": false,
     "name": "#%%\n"
    }
   },
   "outputs": [],
   "source": [
    "def plot_grid_search(cv_results, grid_param_1, grid_param_2, name_param_1, name_param_2, titre):\n",
    "    # Get Test Scores Mean and std for each grid search\n",
    "    scores_mean = cv_results['mean_test_score']\n",
    "    scores_mean = np.array(scores_mean).reshape(len(grid_param_2),len(grid_param_1))\n",
    "\n",
    "    # Plot Grid search scores\n",
    "    _, ax = plt.subplots(1,1)\n",
    "\n",
    "    # Param1 is the X-axis, Param 2 is represented as a different curve (color line)\n",
    "    for idx, val in enumerate(grid_param_2):\n",
    "        #ax.set_ylim([0.74,0.84])\n",
    "        ax.plot(grid_param_1[:-1], scores_mean[idx,:-1], '-o', label= name_param_2 + ': ' + str(val))\n",
    "        ax.plot(19, scores_mean[idx, -1:], '*', label= 'crt' + '=' + str(val) + ' & mx_dpt=None')\n",
    "        \n",
    "    ax.set_title(titre, fontsize=18, fontweight='bold')\n",
    "    ax.set_xlabel(name_param_1, fontsize=14)\n",
    "    ax.set_ylabel(titre+'[CV Avg Score]', fontsize=14)\n",
    "    ax.legend(loc=\"best\", fontsize=15)\n",
    "    ax.grid('on')"
   ]
  },
  {
   "cell_type": "code",
   "execution_count": 15,
   "metadata": {
    "pycharm": {
     "is_executing": false,
     "name": "#%%\n"
    }
   },
   "outputs": [
    {
     "data": {
      "image/png": "[encoded data removed]",
      "text/plain": [
       "<Figure size 432x288 with 1 Axes>"
      ]
     },
     "metadata": {},
     "output_type": "display_data"
    },
    {
     "data": {
      "image/png": "[encoded data removed]",
      "text/plain": [
       "<Figure size 432x288 with 1 Axes>"
      ]
     },
     "metadata": {},
     "output_type": "display_data"
    },
    {
     "data": {
      "image/png": "[encoded data removed]",
      "text/plain": [
       "<Figure size 432x288 with 1 Axes>"
      ]
     },
     "metadata": {},
     "output_type": "display_data"
    }
   ],
   "source": [
    "# Calling Method \n",
    "plot_grid_search(grid_search_acc.cv_results_, params['max_depth'], params['criterion'],  'max_depth', 'criterion', 'Accuracy')\n",
    "plot_grid_search(grid_search_rec.cv_results_, params['max_depth'], params['criterion'],  'max_depth', 'criterion', 'Recall')\n",
    "plot_grid_search(grid_search_prec_avg.cv_results_, params['max_depth'], params['criterion'], 'max_depth', 'criterion', 'Precision')\n"
   ]
  },
  {
   "cell_type": "code",
   "execution_count": 16,
   "metadata": {
    "pycharm": {
     "is_executing": false,
     "name": "#%%\n"
    }
   },
   "outputs": [],
   "source": [
    "##return index for dataframe\n",
    "def return_index_list(param1, param2):\n",
    "    list=[]\n",
    "    for p1 in param1:\n",
    "        for p2 in param2:\n",
    "            list.append('['+str(p1)+', '+str(p2)+']')\n",
    "    return list\n",
    "index= return_index_list(params['criterion'], params['max_depth'])"
   ]
  },
  {
   "cell_type": "code",
   "execution_count": 17,
   "metadata": {
    "pycharm": {
     "is_executing": false,
     "name": "#%%\n"
    }
   },
   "outputs": [],
   "source": [
    "df= pd.DataFrame({  'Accuracy': grid_search_acc.cv_results_['mean_test_score'],\n",
    "                    'Precision(Avg)': grid_search_prec_avg.cv_results_['mean_test_score'],\n",
    "                    'Recall(Avg)': grid_search_rec.cv_results_['mean_test_score'],\n",
    "                     'std_cross_validation': grid_search_acc.cv_results_['std_test_score']},\n",
    "                 index=index)\n",
    "\n",
    "writer = pd.ExcelWriter('DecitionTree.xlsx')\n",
    "df.to_excel(writer, 'DecitionTree')\n",
    "writer.save()\n",
    "writer.close()"
   ]
  },
  {
   "cell_type": "code",
   "execution_count": 18,
   "metadata": {
    "pycharm": {
     "is_executing": false,
     "name": "#%%\n"
    }
   },
   "outputs": [
    {
     "data": {
      "text/html": [
       "<div>\n",
       "<style scoped>\n",
       "    .dataframe tbody tr th:only-of-type {\n",
       "        vertical-align: middle;\n",
       "    }\n",
       "\n",
       "    .dataframe tbody tr th {\n",
       "        vertical-align: top;\n",
       "    }\n",
       "\n",
       "    .dataframe thead th {\n",
       "        text-align: right;\n",
       "    }\n",
       "</style>\n",
       "<table border=\"1\" class=\"dataframe\">\n",
       "  <thead>\n",
       "    <tr style=\"text-align: right;\">\n",
       "      <th></th>\n",
       "      <th>Accuracy</th>\n",
       "      <th>Precision(Avg)</th>\n",
       "      <th>Recall(Avg)</th>\n",
       "      <th>std_cross_validation</th>\n",
       "    </tr>\n",
       "  </thead>\n",
       "  <tbody>\n",
       "    <tr>\n",
       "      <th>[gini, 4]</th>\n",
       "      <td>0.807119</td>\n",
       "      <td>0.896304</td>\n",
       "      <td>0.633103</td>\n",
       "      <td>0.001175</td>\n",
       "    </tr>\n",
       "    <tr>\n",
       "      <th>[gini, 5]</th>\n",
       "      <td>0.806699</td>\n",
       "      <td>0.886380</td>\n",
       "      <td>0.634417</td>\n",
       "      <td>0.001785</td>\n",
       "    </tr>\n",
       "    <tr>\n",
       "      <th>[gini, 6]</th>\n",
       "      <td>0.806699</td>\n",
       "      <td>0.879095</td>\n",
       "      <td>0.636075</td>\n",
       "      <td>0.001746</td>\n",
       "    </tr>\n",
       "    <tr>\n",
       "      <th>[gini, 7]</th>\n",
       "      <td>0.805578</td>\n",
       "      <td>0.847232</td>\n",
       "      <td>0.641172</td>\n",
       "      <td>0.001774</td>\n",
       "    </tr>\n",
       "    <tr>\n",
       "      <th>[gini, 8]</th>\n",
       "      <td>0.804178</td>\n",
       "      <td>0.825964</td>\n",
       "      <td>0.644921</td>\n",
       "      <td>0.001593</td>\n",
       "    </tr>\n",
       "    <tr>\n",
       "      <th>[gini, 9]</th>\n",
       "      <td>0.802497</td>\n",
       "      <td>0.807649</td>\n",
       "      <td>0.648304</td>\n",
       "      <td>0.001453</td>\n",
       "    </tr>\n",
       "    <tr>\n",
       "      <th>[gini, 10]</th>\n",
       "      <td>0.800070</td>\n",
       "      <td>0.789082</td>\n",
       "      <td>0.651574</td>\n",
       "      <td>0.001862</td>\n",
       "    </tr>\n",
       "    <tr>\n",
       "      <th>[gini, 11]</th>\n",
       "      <td>0.796592</td>\n",
       "      <td>0.775475</td>\n",
       "      <td>0.651361</td>\n",
       "      <td>0.002497</td>\n",
       "    </tr>\n",
       "    <tr>\n",
       "      <th>[gini, 12]</th>\n",
       "      <td>0.790711</td>\n",
       "      <td>0.750927</td>\n",
       "      <td>0.651825</td>\n",
       "      <td>0.002290</td>\n",
       "    </tr>\n",
       "    <tr>\n",
       "      <th>[gini, 13]</th>\n",
       "      <td>0.785086</td>\n",
       "      <td>0.737158</td>\n",
       "      <td>0.651220</td>\n",
       "      <td>0.003085</td>\n",
       "    </tr>\n",
       "    <tr>\n",
       "      <th>[gini, 14]</th>\n",
       "      <td>0.780138</td>\n",
       "      <td>0.722737</td>\n",
       "      <td>0.651126</td>\n",
       "      <td>0.004082</td>\n",
       "    </tr>\n",
       "    <tr>\n",
       "      <th>[gini, 15]</th>\n",
       "      <td>0.773322</td>\n",
       "      <td>0.709075</td>\n",
       "      <td>0.651489</td>\n",
       "      <td>0.003551</td>\n",
       "    </tr>\n",
       "    <tr>\n",
       "      <th>[gini, 16]</th>\n",
       "      <td>0.767114</td>\n",
       "      <td>0.694157</td>\n",
       "      <td>0.651815</td>\n",
       "      <td>0.004835</td>\n",
       "    </tr>\n",
       "    <tr>\n",
       "      <th>[gini, 17]</th>\n",
       "      <td>0.759599</td>\n",
       "      <td>0.684732</td>\n",
       "      <td>0.651598</td>\n",
       "      <td>0.003766</td>\n",
       "    </tr>\n",
       "    <tr>\n",
       "      <th>[gini, None]</th>\n",
       "      <td>0.728323</td>\n",
       "      <td>0.652605</td>\n",
       "      <td>0.656934</td>\n",
       "      <td>0.002910</td>\n",
       "    </tr>\n",
       "    <tr>\n",
       "      <th>[entropy, 4]</th>\n",
       "      <td>0.807119</td>\n",
       "      <td>0.896304</td>\n",
       "      <td>0.633103</td>\n",
       "      <td>0.001175</td>\n",
       "    </tr>\n",
       "    <tr>\n",
       "      <th>[entropy, 5]</th>\n",
       "      <td>0.806699</td>\n",
       "      <td>0.886380</td>\n",
       "      <td>0.634417</td>\n",
       "      <td>0.001785</td>\n",
       "    </tr>\n",
       "    <tr>\n",
       "      <th>[entropy, 6]</th>\n",
       "      <td>0.807002</td>\n",
       "      <td>0.891116</td>\n",
       "      <td>0.633880</td>\n",
       "      <td>0.001399</td>\n",
       "    </tr>\n",
       "    <tr>\n",
       "      <th>[entropy, 7]</th>\n",
       "      <td>0.806582</td>\n",
       "      <td>0.847751</td>\n",
       "      <td>0.643622</td>\n",
       "      <td>0.001101</td>\n",
       "    </tr>\n",
       "    <tr>\n",
       "      <th>[entropy, 8]</th>\n",
       "      <td>0.805392</td>\n",
       "      <td>0.823508</td>\n",
       "      <td>0.648483</td>\n",
       "      <td>0.001256</td>\n",
       "    </tr>\n",
       "    <tr>\n",
       "      <th>[entropy, 9]</th>\n",
       "      <td>0.803688</td>\n",
       "      <td>0.821087</td>\n",
       "      <td>0.645983</td>\n",
       "      <td>0.000932</td>\n",
       "    </tr>\n",
       "    <tr>\n",
       "      <th>[entropy, 10]</th>\n",
       "      <td>0.802287</td>\n",
       "      <td>0.800714</td>\n",
       "      <td>0.650396</td>\n",
       "      <td>0.002126</td>\n",
       "    </tr>\n",
       "    <tr>\n",
       "      <th>[entropy, 11]</th>\n",
       "      <td>0.798810</td>\n",
       "      <td>0.789540</td>\n",
       "      <td>0.648685</td>\n",
       "      <td>0.002117</td>\n",
       "    </tr>\n",
       "    <tr>\n",
       "      <th>[entropy, 12]</th>\n",
       "      <td>0.795052</td>\n",
       "      <td>0.769537</td>\n",
       "      <td>0.650448</td>\n",
       "      <td>0.002456</td>\n",
       "    </tr>\n",
       "    <tr>\n",
       "      <th>[entropy, 13]</th>\n",
       "      <td>0.791714</td>\n",
       "      <td>0.753262</td>\n",
       "      <td>0.653582</td>\n",
       "      <td>0.003623</td>\n",
       "    </tr>\n",
       "    <tr>\n",
       "      <th>[entropy, 14]</th>\n",
       "      <td>0.786229</td>\n",
       "      <td>0.737223</td>\n",
       "      <td>0.654710</td>\n",
       "      <td>0.002589</td>\n",
       "    </tr>\n",
       "    <tr>\n",
       "      <th>[entropy, 15]</th>\n",
       "      <td>0.780605</td>\n",
       "      <td>0.722256</td>\n",
       "      <td>0.651900</td>\n",
       "      <td>0.003480</td>\n",
       "    </tr>\n",
       "    <tr>\n",
       "      <th>[entropy, 16]</th>\n",
       "      <td>0.775236</td>\n",
       "      <td>0.713261</td>\n",
       "      <td>0.652181</td>\n",
       "      <td>0.005244</td>\n",
       "    </tr>\n",
       "    <tr>\n",
       "      <th>[entropy, 17]</th>\n",
       "      <td>0.769308</td>\n",
       "      <td>0.699472</td>\n",
       "      <td>0.651898</td>\n",
       "      <td>0.004451</td>\n",
       "    </tr>\n",
       "    <tr>\n",
       "      <th>[entropy, None]</th>\n",
       "      <td>0.729257</td>\n",
       "      <td>0.653302</td>\n",
       "      <td>0.654970</td>\n",
       "      <td>0.005122</td>\n",
       "    </tr>\n",
       "  </tbody>\n",
       "</table>\n",
       "</div>"
      ],
      "text/plain": [
       "                 Accuracy  Precision(Avg)  Recall(Avg)  std_cross_validation\n",
       "[gini, 4]        0.807119        0.896304     0.633103              0.001175\n",
       "[gini, 5]        0.806699        0.886380     0.634417              0.001785\n",
       "[gini, 6]        0.806699        0.879095     0.636075              0.001746\n",
       "[gini, 7]        0.805578        0.847232     0.641172              0.001774\n",
       "[gini, 8]        0.804178        0.825964     0.644921              0.001593\n",
       "[gini, 9]        0.802497        0.807649     0.648304              0.001453\n",
       "[gini, 10]       0.800070        0.789082     0.651574              0.001862\n",
       "[gini, 11]       0.796592        0.775475     0.651361              0.002497\n",
       "[gini, 12]       0.790711        0.750927     0.651825              0.002290\n",
       "[gini, 13]       0.785086        0.737158     0.651220              0.003085\n",
       "[gini, 14]       0.780138        0.722737     0.651126              0.004082\n",
       "[gini, 15]       0.773322        0.709075     0.651489              0.003551\n",
       "[gini, 16]       0.767114        0.694157     0.651815              0.004835\n",
       "[gini, 17]       0.759599        0.684732     0.651598              0.003766\n",
       "[gini, None]     0.728323        0.652605     0.656934              0.002910\n",
       "[entropy, 4]     0.807119        0.896304     0.633103              0.001175\n",
       "[entropy, 5]     0.806699        0.886380     0.634417              0.001785\n",
       "[entropy, 6]     0.807002        0.891116     0.633880              0.001399\n",
       "[entropy, 7]     0.806582        0.847751     0.643622              0.001101\n",
       "[entropy, 8]     0.805392        0.823508     0.648483              0.001256\n",
       "[entropy, 9]     0.803688        0.821087     0.645983              0.000932\n",
       "[entropy, 10]    0.802287        0.800714     0.650396              0.002126\n",
       "[entropy, 11]    0.798810        0.789540     0.648685              0.002117\n",
       "[entropy, 12]    0.795052        0.769537     0.650448              0.002456\n",
       "[entropy, 13]    0.791714        0.753262     0.653582              0.003623\n",
       "[entropy, 14]    0.786229        0.737223     0.654710              0.002589\n",
       "[entropy, 15]    0.780605        0.722256     0.651900              0.003480\n",
       "[entropy, 16]    0.775236        0.713261     0.652181              0.005244\n",
       "[entropy, 17]    0.769308        0.699472     0.651898              0.004451\n",
       "[entropy, None]  0.729257        0.653302     0.654970              0.005122"
      ]
     },
     "execution_count": 18,
     "metadata": {},
     "output_type": "execute_result"
    }
   ],
   "source": [
    "df"
   ]
  }
 ],
 "metadata": {
  "kernelspec": {
   "display_name": "Python 3",
   "language": "python",
   "name": "python3"
  },
  "language_info": {
   "codemirror_mode": {
    "name": "ipython",
    "version": 3
   },
   "file_extension": ".py",
   "mimetype": "text/x-python",
   "name": "python",
   "nbconvert_exporter": "python",
   "pygments_lexer": "ipython3",
   "version": "3.5.3"
  },
  "pycharm": {
   "stem_cell": {
    "cell_type": "raw",
    "metadata": {
     "collapsed": false
    },
    "source": []
   }
  }
 },
 "nbformat": 4,
 "nbformat_minor": 1
}
