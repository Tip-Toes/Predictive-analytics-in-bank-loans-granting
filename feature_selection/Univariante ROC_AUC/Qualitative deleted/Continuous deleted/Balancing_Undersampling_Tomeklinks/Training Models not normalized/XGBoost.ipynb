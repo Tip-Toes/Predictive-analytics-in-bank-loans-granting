{
 "cells": [
  {
   "cell_type": "code",
   "execution_count": null,
   "metadata": {},
   "outputs": [],
   "source": [
    "##### done"
   ]
  },
  {
   "cell_type": "code",
   "execution_count": 1,
   "metadata": {},
   "outputs": [
    {
     "name": "stderr",
     "output_type": "stream",
     "text": [
      "/home/omar_totsso/.local/lib/python3.5/site-packages/xgboost/__init__.py:28: FutureWarning: Python 3.5 support is deprecated; XGBoost will require Python 3.6+ in the near future. Consider upgrading to Python 3.6+.\n",
      "  FutureWarning)\n"
     ]
    }
   ],
   "source": [
    "from pylab import rcParams\n",
    "from xgboost import XGBClassifier\n",
    "rcParams['figure.figsize'] = 10, 5\n",
    "from plot_metric.functions import BinaryClassification\n",
    "import warnings\n",
    "warnings.filterwarnings('ignore')\n",
    "import pandas as pd\n",
    "import matplotlib.pyplot as plt\n",
    "import numpy as np\n",
    "from sklearn.model_selection import GridSearchCV, train_test_split\n",
    "from sklearn.metrics import make_scorer, recall_score,precision_score, confusion_matrix,classification_report"
   ]
  },
  {
   "cell_type": "code",
   "execution_count": 2,
   "metadata": {
    "pycharm": {
     "name": "#%%\n"
    }
   },
   "outputs": [
    {
     "data": {
      "text/html": [
       "<div>\n",
       "<style scoped>\n",
       "    .dataframe tbody tr th:only-of-type {\n",
       "        vertical-align: middle;\n",
       "    }\n",
       "\n",
       "    .dataframe tbody tr th {\n",
       "        vertical-align: top;\n",
       "    }\n",
       "\n",
       "    .dataframe thead th {\n",
       "        text-align: right;\n",
       "    }\n",
       "</style>\n",
       "<table border=\"1\" class=\"dataframe\">\n",
       "  <thead>\n",
       "    <tr style=\"text-align: right;\">\n",
       "      <th></th>\n",
       "      <th>Current Loan Amount</th>\n",
       "      <th>Credit Score</th>\n",
       "      <th>Annual Income</th>\n",
       "      <th>Monthly Debt</th>\n",
       "      <th>Years of Credit History</th>\n",
       "      <th>Current Credit Balance</th>\n",
       "      <th>Maximum Open Credit</th>\n",
       "      <th>Term_Short Term</th>\n",
       "      <th>Years in current job_10+ years</th>\n",
       "      <th>Years in current job_2 years</th>\n",
       "      <th>...</th>\n",
       "      <th>Years in current job_4 years</th>\n",
       "      <th>Years in current job_5 years</th>\n",
       "      <th>Years in current job_6 years</th>\n",
       "      <th>Years in current job_7 years</th>\n",
       "      <th>Years in current job_8 years</th>\n",
       "      <th>Years in current job_9 years</th>\n",
       "      <th>Years in current job_&lt; 1 year</th>\n",
       "      <th>Home Ownership_Own Home</th>\n",
       "      <th>Home Ownership_Rent</th>\n",
       "      <th>Loan Status</th>\n",
       "    </tr>\n",
       "  </thead>\n",
       "  <tbody>\n",
       "    <tr>\n",
       "      <th>0</th>\n",
       "      <td>445412.0</td>\n",
       "      <td>709.0</td>\n",
       "      <td>1167493.0</td>\n",
       "      <td>5214.74</td>\n",
       "      <td>17.2</td>\n",
       "      <td>228190.0</td>\n",
       "      <td>416746.0</td>\n",
       "      <td>1</td>\n",
       "      <td>0</td>\n",
       "      <td>0</td>\n",
       "      <td>...</td>\n",
       "      <td>0</td>\n",
       "      <td>0</td>\n",
       "      <td>0</td>\n",
       "      <td>0</td>\n",
       "      <td>1</td>\n",
       "      <td>0</td>\n",
       "      <td>0</td>\n",
       "      <td>0</td>\n",
       "      <td>0</td>\n",
       "      <td>1</td>\n",
       "    </tr>\n",
       "    <tr>\n",
       "      <th>1</th>\n",
       "      <td>99999999.0</td>\n",
       "      <td>741.0</td>\n",
       "      <td>2231892.0</td>\n",
       "      <td>29200.53</td>\n",
       "      <td>14.9</td>\n",
       "      <td>297996.0</td>\n",
       "      <td>750090.0</td>\n",
       "      <td>1</td>\n",
       "      <td>0</td>\n",
       "      <td>0</td>\n",
       "      <td>...</td>\n",
       "      <td>0</td>\n",
       "      <td>0</td>\n",
       "      <td>0</td>\n",
       "      <td>0</td>\n",
       "      <td>1</td>\n",
       "      <td>0</td>\n",
       "      <td>0</td>\n",
       "      <td>1</td>\n",
       "      <td>0</td>\n",
       "      <td>1</td>\n",
       "    </tr>\n",
       "    <tr>\n",
       "      <th>2</th>\n",
       "      <td>206602.0</td>\n",
       "      <td>7290.0</td>\n",
       "      <td>896857.0</td>\n",
       "      <td>16367.74</td>\n",
       "      <td>17.3</td>\n",
       "      <td>215308.0</td>\n",
       "      <td>272448.0</td>\n",
       "      <td>1</td>\n",
       "      <td>1</td>\n",
       "      <td>0</td>\n",
       "      <td>...</td>\n",
       "      <td>0</td>\n",
       "      <td>0</td>\n",
       "      <td>0</td>\n",
       "      <td>0</td>\n",
       "      <td>0</td>\n",
       "      <td>0</td>\n",
       "      <td>0</td>\n",
       "      <td>0</td>\n",
       "      <td>0</td>\n",
       "      <td>0</td>\n",
       "    </tr>\n",
       "    <tr>\n",
       "      <th>3</th>\n",
       "      <td>217646.0</td>\n",
       "      <td>730.0</td>\n",
       "      <td>1184194.0</td>\n",
       "      <td>10855.08</td>\n",
       "      <td>19.6</td>\n",
       "      <td>122170.0</td>\n",
       "      <td>272052.0</td>\n",
       "      <td>1</td>\n",
       "      <td>0</td>\n",
       "      <td>0</td>\n",
       "      <td>...</td>\n",
       "      <td>0</td>\n",
       "      <td>0</td>\n",
       "      <td>0</td>\n",
       "      <td>0</td>\n",
       "      <td>0</td>\n",
       "      <td>0</td>\n",
       "      <td>1</td>\n",
       "      <td>0</td>\n",
       "      <td>0</td>\n",
       "      <td>1</td>\n",
       "    </tr>\n",
       "    <tr>\n",
       "      <th>4</th>\n",
       "      <td>548746.0</td>\n",
       "      <td>678.0</td>\n",
       "      <td>2559110.0</td>\n",
       "      <td>18660.28</td>\n",
       "      <td>22.6</td>\n",
       "      <td>437171.0</td>\n",
       "      <td>555038.0</td>\n",
       "      <td>1</td>\n",
       "      <td>0</td>\n",
       "      <td>1</td>\n",
       "      <td>...</td>\n",
       "      <td>0</td>\n",
       "      <td>0</td>\n",
       "      <td>0</td>\n",
       "      <td>0</td>\n",
       "      <td>0</td>\n",
       "      <td>0</td>\n",
       "      <td>0</td>\n",
       "      <td>0</td>\n",
       "      <td>1</td>\n",
       "      <td>1</td>\n",
       "    </tr>\n",
       "  </tbody>\n",
       "</table>\n",
       "<p>5 rows × 21 columns</p>\n",
       "</div>"
      ],
      "text/plain": [
       "   Current Loan Amount  Credit Score  Annual Income  Monthly Debt  \\\n",
       "0             445412.0         709.0      1167493.0       5214.74   \n",
       "1           99999999.0         741.0      2231892.0      29200.53   \n",
       "2             206602.0        7290.0       896857.0      16367.74   \n",
       "3             217646.0         730.0      1184194.0      10855.08   \n",
       "4             548746.0         678.0      2559110.0      18660.28   \n",
       "\n",
       "   Years of Credit History  Current Credit Balance  Maximum Open Credit  \\\n",
       "0                     17.2                228190.0             416746.0   \n",
       "1                     14.9                297996.0             750090.0   \n",
       "2                     17.3                215308.0             272448.0   \n",
       "3                     19.6                122170.0             272052.0   \n",
       "4                     22.6                437171.0             555038.0   \n",
       "\n",
       "   Term_Short Term  Years in current job_10+ years  \\\n",
       "0                1                               0   \n",
       "1                1                               0   \n",
       "2                1                               1   \n",
       "3                1                               0   \n",
       "4                1                               0   \n",
       "\n",
       "   Years in current job_2 years  ...  Years in current job_4 years  \\\n",
       "0                             0  ...                             0   \n",
       "1                             0  ...                             0   \n",
       "2                             0  ...                             0   \n",
       "3                             0  ...                             0   \n",
       "4                             1  ...                             0   \n",
       "\n",
       "   Years in current job_5 years  Years in current job_6 years  \\\n",
       "0                             0                             0   \n",
       "1                             0                             0   \n",
       "2                             0                             0   \n",
       "3                             0                             0   \n",
       "4                             0                             0   \n",
       "\n",
       "   Years in current job_7 years  Years in current job_8 years  \\\n",
       "0                             0                             1   \n",
       "1                             0                             1   \n",
       "2                             0                             0   \n",
       "3                             0                             0   \n",
       "4                             0                             0   \n",
       "\n",
       "   Years in current job_9 years  Years in current job_< 1 year  \\\n",
       "0                             0                              0   \n",
       "1                             0                              0   \n",
       "2                             0                              0   \n",
       "3                             0                              1   \n",
       "4                             0                              0   \n",
       "\n",
       "   Home Ownership_Own Home  Home Ownership_Rent  Loan Status  \n",
       "0                        0                    0            1  \n",
       "1                        1                    0            1  \n",
       "2                        0                    0            0  \n",
       "3                        0                    0            1  \n",
       "4                        0                    1            1  \n",
       "\n",
       "[5 rows x 21 columns]"
      ]
     },
     "execution_count": 2,
     "metadata": {},
     "output_type": "execute_result"
    }
   ],
   "source": [
    "data= pd.read_csv('../data.csv')\n",
    "data.head()"
   ]
  },
  {
   "cell_type": "code",
   "execution_count": 3,
   "metadata": {
    "pycharm": {
     "name": "#%%\n"
    }
   },
   "outputs": [
    {
     "data": {
      "text/plain": [
       "Current Loan Amount               float64\n",
       "Credit Score                      float64\n",
       "Annual Income                     float64\n",
       "Monthly Debt                      float64\n",
       "Years of Credit History           float64\n",
       "Current Credit Balance            float64\n",
       "Maximum Open Credit               float64\n",
       "Term_Short Term                     int64\n",
       "Years in current job_10+ years      int64\n",
       "Years in current job_2 years        int64\n",
       "Years in current job_3 years        int64\n",
       "Years in current job_4 years        int64\n",
       "Years in current job_5 years        int64\n",
       "Years in current job_6 years        int64\n",
       "Years in current job_7 years        int64\n",
       "Years in current job_8 years        int64\n",
       "Years in current job_9 years        int64\n",
       "Years in current job_< 1 year       int64\n",
       "Home Ownership_Own Home             int64\n",
       "Home Ownership_Rent                 int64\n",
       "Loan Status                         int64\n",
       "dtype: object"
      ]
     },
     "execution_count": 3,
     "metadata": {},
     "output_type": "execute_result"
    }
   ],
   "source": [
    "data.dtypes"
   ]
  },
  {
   "cell_type": "code",
   "execution_count": 4,
   "metadata": {
    "pycharm": {
     "name": "#%%\n"
    }
   },
   "outputs": [],
   "source": [
    "##copying data\n",
    "data1=data.copy()"
   ]
  },
  {
   "cell_type": "markdown",
   "metadata": {},
   "source": [
    "### spliting data en X et Y"
   ]
  },
  {
   "cell_type": "code",
   "execution_count": 5,
   "metadata": {
    "pycharm": {
     "name": "#%%\n"
    }
   },
   "outputs": [],
   "source": [
    "X= data1.drop('Loan Status', axis=1)\n",
    "Y= data1['Loan Status']"
   ]
  },
  {
   "cell_type": "markdown",
   "metadata": {},
   "source": [
    "### spliting the data to train and test"
   ]
  },
  {
   "cell_type": "code",
   "execution_count": 6,
   "metadata": {
    "pycharm": {
     "name": "#%%\n"
    }
   },
   "outputs": [],
   "source": [
    "X_train , X_test , Y_train , Y_test = train_test_split(X, Y, test_size = 0.30, random_state = 123)"
   ]
  },
  {
   "cell_type": "markdown",
   "metadata": {},
   "source": [
    "### XGBoost"
   ]
  },
  {
   "cell_type": "code",
   "execution_count": 7,
   "metadata": {
    "pycharm": {
     "name": "#%%\n"
    }
   },
   "outputs": [],
   "source": [
    "## converting Y_train & X_test & Y_train & Y_test to numpy array pour XGBoost\n",
    "X_train = X_train.values\n",
    "X_test = X_test.values\n",
    "Y_train = Y_train.values\n",
    "Y_test = Y_test.values"
   ]
  },
  {
   "cell_type": "code",
   "execution_count": 8,
   "metadata": {
    "pycharm": {
     "name": "#%%\n"
    }
   },
   "outputs": [],
   "source": [
    "xgb= XGBClassifier()\n",
    "params= {\n",
    "        'max_depth': [5, 6, 7, 8, 9, 10, 11, 12, 13,14],\n",
    "        'n_estimators' : [100, 300, 500, 800]\n",
    "        }\n",
    "\n",
    "##accuracy\n",
    "grid_search_acc= GridSearchCV(estimator=xgb, param_grid= params, scoring='accuracy',cv=2, n_jobs=-1)\n",
    "grid_search_acc= grid_search_acc.fit(X_train, Y_train)\n",
    "y_predict= grid_search_acc.best_estimator_.predict(X_test)"
   ]
  },
  {
   "cell_type": "code",
   "execution_count": 9,
   "metadata": {
    "pycharm": {
     "name": "#%%\n"
    }
   },
   "outputs": [
    {
     "name": "stdout",
     "output_type": "stream",
     "text": [
      "----------\n",
      "best parameters:  {'max_depth': 5, 'n_estimators': 100}\n",
      "----------\n",
      "[[ 1621  3331]\n",
      " [  368 13043]]\n",
      "----------\n",
      "              precision    recall  f1-score   support\n",
      "\n",
      "           0       0.81      0.33      0.47      4952\n",
      "           1       0.80      0.97      0.88     13411\n",
      "\n",
      "    accuracy                           0.80     18363\n",
      "   macro avg       0.81      0.65      0.67     18363\n",
      "weighted avg       0.80      0.80      0.77     18363\n",
      "\n",
      "----------\n"
     ]
    },
    {
     "data": {
      "image/png": "[encoded data removed]",
      "text/plain": [
       "<Figure size 504x432 with 1 Axes>"
      ]
     },
     "metadata": {},
     "output_type": "display_data"
    }
   ],
   "source": [
    "## evaluating the model\n",
    "print(\"----------\")\n",
    "print('best parameters: ', grid_search_acc.best_params_)\n",
    "print(\"----------\")\n",
    "print(confusion_matrix(Y_test,y_predict))\n",
    "print(\"----------\")\n",
    "print(classification_report(Y_test, y_predict))\n",
    "print(\"----------\")\n",
    "\n",
    "##ROC\n",
    "y_predict_proba = grid_search_acc.best_estimator_.predict_proba(X_test)[:,1]\n",
    "\n",
    "# Visualisation with plot_metric\n",
    "bc = BinaryClassification(Y_test, y_predict_proba, labels=[1, 0])\n",
    "# Figures\n",
    "plt.figure(figsize=(7,6))\n",
    "bc.plot_roc_curve()\n",
    "plt.title('ROC curve')\n",
    "plt.show()"
   ]
  },
  {
   "cell_type": "code",
   "execution_count": 10,
   "metadata": {
    "pycharm": {
     "name": "#%%\n"
    }
   },
   "outputs": [],
   "source": [
    "## Recall\n",
    "rec_avg=make_scorer(recall_score, average='macro')\n",
    "grid_search_rec= GridSearchCV(estimator=xgb, param_grid= params, scoring=rec_avg,cv=2, n_jobs=-1)\n",
    "grid_search_rec= grid_search_rec.fit(X_train, Y_train)\n",
    "y_predict= grid_search_rec.best_estimator_.predict(X_test)"
   ]
  },
  {
   "cell_type": "code",
   "execution_count": 11,
   "metadata": {
    "pycharm": {
     "name": "#%%\n"
    }
   },
   "outputs": [
    {
     "name": "stdout",
     "output_type": "stream",
     "text": [
      "----------\n",
      "best parameters:  {'max_depth': 11, 'n_estimators': 500}\n",
      "----------\n",
      "[[ 1939  3013]\n",
      " [  927 12484]]\n",
      "----------\n",
      "              precision    recall  f1-score   support\n",
      "\n",
      "           0       0.68      0.39      0.50      4952\n",
      "           1       0.81      0.93      0.86     13411\n",
      "\n",
      "    accuracy                           0.79     18363\n",
      "   macro avg       0.74      0.66      0.68     18363\n",
      "weighted avg       0.77      0.79      0.76     18363\n",
      "\n",
      "----------\n"
     ]
    }
   ],
   "source": [
    "## evaluating the model\n",
    "print(\"----------\")\n",
    "print('best parameters: ', grid_search_rec.best_params_)\n",
    "print(\"----------\")\n",
    "print(confusion_matrix(Y_test,y_predict))\n",
    "print(\"----------\")\n",
    "print(classification_report(Y_test, y_predict))\n",
    "print(\"----------\")"
   ]
  },
  {
   "cell_type": "code",
   "execution_count": 12,
   "metadata": {
    "pycharm": {
     "name": "#%%\n"
    }
   },
   "outputs": [],
   "source": [
    "## precision\n",
    "prec_avg=make_scorer(precision_score, average='macro')\n",
    "grid_search_prec_avg= GridSearchCV(estimator=xgb, param_grid= params, scoring=prec_avg,cv=2, n_jobs=-1)\n",
    "grid_search_prec_avg= grid_search_prec_avg.fit(X_train, Y_train)\n",
    "y_predict= grid_search_prec_avg.best_estimator_.predict(X_test)"
   ]
  },
  {
   "cell_type": "code",
   "execution_count": 13,
   "metadata": {
    "pycharm": {
     "name": "#%%\n"
    }
   },
   "outputs": [
    {
     "name": "stdout",
     "output_type": "stream",
     "text": [
      "----------\n",
      "best parameters:  {'max_depth': 5, 'n_estimators': 100}\n",
      "----------\n",
      "[[ 1621  3331]\n",
      " [  368 13043]]\n",
      "----------\n",
      "              precision    recall  f1-score   support\n",
      "\n",
      "           0       0.81      0.33      0.47      4952\n",
      "           1       0.80      0.97      0.88     13411\n",
      "\n",
      "    accuracy                           0.80     18363\n",
      "   macro avg       0.81      0.65      0.67     18363\n",
      "weighted avg       0.80      0.80      0.77     18363\n",
      "\n",
      "----------\n"
     ]
    }
   ],
   "source": [
    "## evaluating the model\n",
    "print(\"----------\")\n",
    "print('best parameters: ', grid_search_prec_avg.best_params_)\n",
    "print(\"----------\")\n",
    "print(confusion_matrix(Y_test,y_predict))\n",
    "print(\"----------\")\n",
    "print(classification_report(Y_test, y_predict))\n",
    "print(\"----------\")"
   ]
  },
  {
   "cell_type": "code",
   "execution_count": 14,
   "metadata": {
    "pycharm": {
     "name": "#%%\n"
    }
   },
   "outputs": [],
   "source": [
    "def plot_grid_search(cv_results, grid_param_1, grid_param_2, name_param_1, name_param_2, titre):\n",
    "    # Get Test Scores Mean and std for each grid search\n",
    "    scores_mean = cv_results['mean_test_score']\n",
    "    scores_mean = np.array(scores_mean).reshape(len(grid_param_1), len(grid_param_2))\n",
    "    scores_mean= scores_mean.T\n",
    "    # Plot Grid search scores\n",
    "    _, ax = plt.subplots(1,1)\n",
    "\n",
    "    # Param1 is the X-axis, Param 2 is represented as a different curve (color line)\n",
    "    for idx, val in enumerate(grid_param_2):\n",
    "        #ax.set_ylim([0.845,0.867])\n",
    "        ax.plot(grid_param_1, scores_mean[idx,:], '-o', label= name_param_2 + ': ' + str(val))\n",
    "        #ax.plot(19, scores_mean[idx, -1:], '*', label= 'crt' + '=' + str(val) + ' & mx_dpt=None')\n",
    "        \n",
    "    ax.set_title(titre, fontsize=18, fontweight='bold')\n",
    "    ax.set_xlabel(name_param_1, fontsize=14)\n",
    "    ax.set_ylabel(titre+'[CV Avg Score]', fontsize=14)\n",
    "    ax.legend(loc=\"best\", fontsize=15)\n",
    "    ax.grid('on')"
   ]
  },
  {
   "cell_type": "code",
   "execution_count": 15,
   "metadata": {
    "pycharm": {
     "name": "#%%\n"
    }
   },
   "outputs": [
    {
     "data": {
      "image/png": "[encoded data removed]",
      "text/plain": [
       "<Figure size 432x288 with 1 Axes>"
      ]
     },
     "metadata": {},
     "output_type": "display_data"
    },
    {
     "data": {
      "image/png": "[encoded data removed]",
      "text/plain": [
       "<Figure size 432x288 with 1 Axes>"
      ]
     },
     "metadata": {},
     "output_type": "display_data"
    },
    {
     "data": {
      "image/png": "[encoded data removed]",
      "text/plain": [
       "<Figure size 432x288 with 1 Axes>"
      ]
     },
     "metadata": {},
     "output_type": "display_data"
    }
   ],
   "source": [
    "# Calling Method \n",
    "plot_grid_search(grid_search_acc.cv_results_, params['max_depth'], params['n_estimators'],  'max_depth', 'n_estimators', 'Accuracy')\n",
    "plot_grid_search(grid_search_rec.cv_results_, params['max_depth'], params['n_estimators'],  'max_depth', 'n_estimators', 'Recall')\n",
    "plot_grid_search(grid_search_prec_avg.cv_results_, params['max_depth'], params['n_estimators'], 'max_depth', 'n_estimators', 'Precision')\n"
   ]
  },
  {
   "cell_type": "code",
   "execution_count": 16,
   "metadata": {
    "pycharm": {
     "name": "#%%\n"
    }
   },
   "outputs": [],
   "source": [
    "##return index for dataframe\n",
    "def return_index_list(param1, param2):\n",
    "    list=[]\n",
    "    for p1 in param1:\n",
    "        for p2 in param2:\n",
    "            list.append('['+str(p1)+', '+str(p2)+']')\n",
    "    return list\n",
    "index= return_index_list(params['max_depth'], params['n_estimators'])"
   ]
  },
  {
   "cell_type": "code",
   "execution_count": 17,
   "metadata": {
    "pycharm": {
     "name": "#%%        \n"
    }
   },
   "outputs": [],
   "source": [
    "df= pd.DataFrame({  'Accuracy': grid_search_acc.cv_results_['mean_test_score'],\n",
    "                    'Precision(Avg)': grid_search_prec_avg.cv_results_['mean_test_score'],\n",
    "                    'Recall(Avg)': grid_search_rec.cv_results_['mean_test_score'],\n",
    "                     'std_cross_validation': grid_search_acc.cv_results_['std_test_score']},\n",
    "                 index=index)\n",
    "        \n",
    "## to excel\n",
    "writer = pd.ExcelWriter('XGBoost.xlsx')\n",
    "df.to_excel(writer, 'XGboost')\n",
    "writer.save()\n",
    "writer.close()"
   ]
  },
  {
   "cell_type": "code",
   "execution_count": 18,
   "metadata": {
    "pycharm": {
     "name": "#%%\n"
    }
   },
   "outputs": [
    {
     "data": {
      "text/html": [
       "<div>\n",
       "<style scoped>\n",
       "    .dataframe tbody tr th:only-of-type {\n",
       "        vertical-align: middle;\n",
       "    }\n",
       "\n",
       "    .dataframe tbody tr th {\n",
       "        vertical-align: top;\n",
       "    }\n",
       "\n",
       "    .dataframe thead th {\n",
       "        text-align: right;\n",
       "    }\n",
       "</style>\n",
       "<table border=\"1\" class=\"dataframe\">\n",
       "  <thead>\n",
       "    <tr style=\"text-align: right;\">\n",
       "      <th></th>\n",
       "      <th>Accuracy</th>\n",
       "      <th>Precision(Avg)</th>\n",
       "      <th>Recall(Avg)</th>\n",
       "      <th>std_cross_validation</th>\n",
       "    </tr>\n",
       "  </thead>\n",
       "  <tbody>\n",
       "    <tr>\n",
       "      <th>[5, 100]</th>\n",
       "      <td>0.801517</td>\n",
       "      <td>0.790470</td>\n",
       "      <td>0.654412</td>\n",
       "      <td>0.000509</td>\n",
       "    </tr>\n",
       "    <tr>\n",
       "      <th>[5, 300]</th>\n",
       "      <td>0.792998</td>\n",
       "      <td>0.751823</td>\n",
       "      <td>0.660260</td>\n",
       "      <td>0.001989</td>\n",
       "    </tr>\n",
       "    <tr>\n",
       "      <th>[5, 500]</th>\n",
       "      <td>0.787653</td>\n",
       "      <td>0.736196</td>\n",
       "      <td>0.661148</td>\n",
       "      <td>0.001966</td>\n",
       "    </tr>\n",
       "    <tr>\n",
       "      <th>[5, 800]</th>\n",
       "      <td>0.783569</td>\n",
       "      <td>0.726636</td>\n",
       "      <td>0.660092</td>\n",
       "      <td>0.001896</td>\n",
       "    </tr>\n",
       "    <tr>\n",
       "      <th>[6, 100]</th>\n",
       "      <td>0.798646</td>\n",
       "      <td>0.774932</td>\n",
       "      <td>0.656836</td>\n",
       "      <td>0.002129</td>\n",
       "    </tr>\n",
       "    <tr>\n",
       "      <th>[6, 300]</th>\n",
       "      <td>0.788447</td>\n",
       "      <td>0.738745</td>\n",
       "      <td>0.660429</td>\n",
       "      <td>0.002946</td>\n",
       "    </tr>\n",
       "    <tr>\n",
       "      <th>[6, 500]</th>\n",
       "      <td>0.784642</td>\n",
       "      <td>0.729557</td>\n",
       "      <td>0.659334</td>\n",
       "      <td>0.002502</td>\n",
       "    </tr>\n",
       "    <tr>\n",
       "      <th>[6, 800]</th>\n",
       "      <td>0.781865</td>\n",
       "      <td>0.722860</td>\n",
       "      <td>0.659650</td>\n",
       "      <td>0.001592</td>\n",
       "    </tr>\n",
       "    <tr>\n",
       "      <th>[7, 100]</th>\n",
       "      <td>0.796639</td>\n",
       "      <td>0.765380</td>\n",
       "      <td>0.658531</td>\n",
       "      <td>0.001615</td>\n",
       "    </tr>\n",
       "    <tr>\n",
       "      <th>[7, 300]</th>\n",
       "      <td>0.786509</td>\n",
       "      <td>0.734015</td>\n",
       "      <td>0.659658</td>\n",
       "      <td>0.000775</td>\n",
       "    </tr>\n",
       "    <tr>\n",
       "      <th>[7, 500]</th>\n",
       "      <td>0.783942</td>\n",
       "      <td>0.728024</td>\n",
       "      <td>0.658945</td>\n",
       "      <td>0.001942</td>\n",
       "    </tr>\n",
       "    <tr>\n",
       "      <th>[7, 800]</th>\n",
       "      <td>0.781912</td>\n",
       "      <td>0.723111</td>\n",
       "      <td>0.659225</td>\n",
       "      <td>0.001265</td>\n",
       "    </tr>\n",
       "    <tr>\n",
       "      <th>[8, 100]</th>\n",
       "      <td>0.792414</td>\n",
       "      <td>0.751722</td>\n",
       "      <td>0.658207</td>\n",
       "      <td>0.001919</td>\n",
       "    </tr>\n",
       "    <tr>\n",
       "      <th>[8, 300]</th>\n",
       "      <td>0.786463</td>\n",
       "      <td>0.733025</td>\n",
       "      <td>0.661369</td>\n",
       "      <td>0.001475</td>\n",
       "    </tr>\n",
       "    <tr>\n",
       "      <th>[8, 500]</th>\n",
       "      <td>0.785716</td>\n",
       "      <td>0.731066</td>\n",
       "      <td>0.661719</td>\n",
       "      <td>0.001615</td>\n",
       "    </tr>\n",
       "    <tr>\n",
       "      <th>[8, 800]</th>\n",
       "      <td>0.783942</td>\n",
       "      <td>0.726610</td>\n",
       "      <td>0.662173</td>\n",
       "      <td>0.000355</td>\n",
       "    </tr>\n",
       "    <tr>\n",
       "      <th>[9, 100]</th>\n",
       "      <td>0.792461</td>\n",
       "      <td>0.749327</td>\n",
       "      <td>0.661381</td>\n",
       "      <td>0.001125</td>\n",
       "    </tr>\n",
       "    <tr>\n",
       "      <th>[9, 300]</th>\n",
       "      <td>0.787093</td>\n",
       "      <td>0.734681</td>\n",
       "      <td>0.661168</td>\n",
       "      <td>0.001685</td>\n",
       "    </tr>\n",
       "    <tr>\n",
       "      <th>[9, 500]</th>\n",
       "      <td>0.784852</td>\n",
       "      <td>0.729347</td>\n",
       "      <td>0.660734</td>\n",
       "      <td>0.001452</td>\n",
       "    </tr>\n",
       "    <tr>\n",
       "      <th>[9, 800]</th>\n",
       "      <td>0.783335</td>\n",
       "      <td>0.725598</td>\n",
       "      <td>0.661190</td>\n",
       "      <td>0.001382</td>\n",
       "    </tr>\n",
       "    <tr>\n",
       "      <th>[10, 100]</th>\n",
       "      <td>0.790431</td>\n",
       "      <td>0.744607</td>\n",
       "      <td>0.659690</td>\n",
       "      <td>0.001335</td>\n",
       "    </tr>\n",
       "    <tr>\n",
       "      <th>[10, 300]</th>\n",
       "      <td>0.786953</td>\n",
       "      <td>0.735222</td>\n",
       "      <td>0.659445</td>\n",
       "      <td>0.000565</td>\n",
       "    </tr>\n",
       "    <tr>\n",
       "      <th>[10, 500]</th>\n",
       "      <td>0.784222</td>\n",
       "      <td>0.728600</td>\n",
       "      <td>0.658964</td>\n",
       "      <td>0.001242</td>\n",
       "    </tr>\n",
       "    <tr>\n",
       "      <th>[10, 800]</th>\n",
       "      <td>0.782588</td>\n",
       "      <td>0.724710</td>\n",
       "      <td>0.658970</td>\n",
       "      <td>0.000262</td>\n",
       "    </tr>\n",
       "    <tr>\n",
       "      <th>[11, 100]</th>\n",
       "      <td>0.791154</td>\n",
       "      <td>0.745016</td>\n",
       "      <td>0.662037</td>\n",
       "      <td>0.000929</td>\n",
       "    </tr>\n",
       "    <tr>\n",
       "      <th>[11, 300]</th>\n",
       "      <td>0.788120</td>\n",
       "      <td>0.737070</td>\n",
       "      <td>0.661608</td>\n",
       "      <td>0.000555</td>\n",
       "    </tr>\n",
       "    <tr>\n",
       "      <th>[11, 500]</th>\n",
       "      <td>0.786836</td>\n",
       "      <td>0.733515</td>\n",
       "      <td>0.662194</td>\n",
       "      <td>0.000262</td>\n",
       "    </tr>\n",
       "    <tr>\n",
       "      <th>[11, 800]</th>\n",
       "      <td>0.783755</td>\n",
       "      <td>0.726903</td>\n",
       "      <td>0.660304</td>\n",
       "      <td>0.000532</td>\n",
       "    </tr>\n",
       "    <tr>\n",
       "      <th>[12, 100]</th>\n",
       "      <td>0.788377</td>\n",
       "      <td>0.739915</td>\n",
       "      <td>0.657954</td>\n",
       "      <td>0.000112</td>\n",
       "    </tr>\n",
       "    <tr>\n",
       "      <th>[12, 300]</th>\n",
       "      <td>0.786650</td>\n",
       "      <td>0.734753</td>\n",
       "      <td>0.659068</td>\n",
       "      <td>0.001709</td>\n",
       "    </tr>\n",
       "    <tr>\n",
       "      <th>[12, 500]</th>\n",
       "      <td>0.785716</td>\n",
       "      <td>0.731700</td>\n",
       "      <td>0.660263</td>\n",
       "      <td>0.001009</td>\n",
       "    </tr>\n",
       "    <tr>\n",
       "      <th>[12, 800]</th>\n",
       "      <td>0.783942</td>\n",
       "      <td>0.727554</td>\n",
       "      <td>0.660002</td>\n",
       "      <td>0.001662</td>\n",
       "    </tr>\n",
       "    <tr>\n",
       "      <th>[13, 100]</th>\n",
       "      <td>0.790314</td>\n",
       "      <td>0.743591</td>\n",
       "      <td>0.660639</td>\n",
       "      <td>0.000798</td>\n",
       "    </tr>\n",
       "    <tr>\n",
       "      <th>[13, 300]</th>\n",
       "      <td>0.786860</td>\n",
       "      <td>0.734826</td>\n",
       "      <td>0.659724</td>\n",
       "      <td>0.000565</td>\n",
       "    </tr>\n",
       "    <tr>\n",
       "      <th>[13, 500]</th>\n",
       "      <td>0.785693</td>\n",
       "      <td>0.731597</td>\n",
       "      <td>0.660304</td>\n",
       "      <td>0.000939</td>\n",
       "    </tr>\n",
       "    <tr>\n",
       "      <th>[13, 800]</th>\n",
       "      <td>0.783522</td>\n",
       "      <td>0.726816</td>\n",
       "      <td>0.659232</td>\n",
       "      <td>0.000682</td>\n",
       "    </tr>\n",
       "    <tr>\n",
       "      <th>[14, 100]</th>\n",
       "      <td>0.789194</td>\n",
       "      <td>0.740961</td>\n",
       "      <td>0.659936</td>\n",
       "      <td>0.001965</td>\n",
       "    </tr>\n",
       "    <tr>\n",
       "      <th>[14, 300]</th>\n",
       "      <td>0.787490</td>\n",
       "      <td>0.735988</td>\n",
       "      <td>0.660809</td>\n",
       "      <td>0.003389</td>\n",
       "    </tr>\n",
       "    <tr>\n",
       "      <th>[14, 500]</th>\n",
       "      <td>0.785926</td>\n",
       "      <td>0.731935</td>\n",
       "      <td>0.660862</td>\n",
       "      <td>0.001872</td>\n",
       "    </tr>\n",
       "    <tr>\n",
       "      <th>[14, 800]</th>\n",
       "      <td>0.784082</td>\n",
       "      <td>0.727677</td>\n",
       "      <td>0.660383</td>\n",
       "      <td>0.001756</td>\n",
       "    </tr>\n",
       "  </tbody>\n",
       "</table>\n",
       "</div>"
      ],
      "text/plain": [
       "           Accuracy  Precision(Avg)  Recall(Avg)  std_cross_validation\n",
       "[5, 100]   0.801517        0.790470     0.654412              0.000509\n",
       "[5, 300]   0.792998        0.751823     0.660260              0.001989\n",
       "[5, 500]   0.787653        0.736196     0.661148              0.001966\n",
       "[5, 800]   0.783569        0.726636     0.660092              0.001896\n",
       "[6, 100]   0.798646        0.774932     0.656836              0.002129\n",
       "[6, 300]   0.788447        0.738745     0.660429              0.002946\n",
       "[6, 500]   0.784642        0.729557     0.659334              0.002502\n",
       "[6, 800]   0.781865        0.722860     0.659650              0.001592\n",
       "[7, 100]   0.796639        0.765380     0.658531              0.001615\n",
       "[7, 300]   0.786509        0.734015     0.659658              0.000775\n",
       "[7, 500]   0.783942        0.728024     0.658945              0.001942\n",
       "[7, 800]   0.781912        0.723111     0.659225              0.001265\n",
       "[8, 100]   0.792414        0.751722     0.658207              0.001919\n",
       "[8, 300]   0.786463        0.733025     0.661369              0.001475\n",
       "[8, 500]   0.785716        0.731066     0.661719              0.001615\n",
       "[8, 800]   0.783942        0.726610     0.662173              0.000355\n",
       "[9, 100]   0.792461        0.749327     0.661381              0.001125\n",
       "[9, 300]   0.787093        0.734681     0.661168              0.001685\n",
       "[9, 500]   0.784852        0.729347     0.660734              0.001452\n",
       "[9, 800]   0.783335        0.725598     0.661190              0.001382\n",
       "[10, 100]  0.790431        0.744607     0.659690              0.001335\n",
       "[10, 300]  0.786953        0.735222     0.659445              0.000565\n",
       "[10, 500]  0.784222        0.728600     0.658964              0.001242\n",
       "[10, 800]  0.782588        0.724710     0.658970              0.000262\n",
       "[11, 100]  0.791154        0.745016     0.662037              0.000929\n",
       "[11, 300]  0.788120        0.737070     0.661608              0.000555\n",
       "[11, 500]  0.786836        0.733515     0.662194              0.000262\n",
       "[11, 800]  0.783755        0.726903     0.660304              0.000532\n",
       "[12, 100]  0.788377        0.739915     0.657954              0.000112\n",
       "[12, 300]  0.786650        0.734753     0.659068              0.001709\n",
       "[12, 500]  0.785716        0.731700     0.660263              0.001009\n",
       "[12, 800]  0.783942        0.727554     0.660002              0.001662\n",
       "[13, 100]  0.790314        0.743591     0.660639              0.000798\n",
       "[13, 300]  0.786860        0.734826     0.659724              0.000565\n",
       "[13, 500]  0.785693        0.731597     0.660304              0.000939\n",
       "[13, 800]  0.783522        0.726816     0.659232              0.000682\n",
       "[14, 100]  0.789194        0.740961     0.659936              0.001965\n",
       "[14, 300]  0.787490        0.735988     0.660809              0.003389\n",
       "[14, 500]  0.785926        0.731935     0.660862              0.001872\n",
       "[14, 800]  0.784082        0.727677     0.660383              0.001756"
      ]
     },
     "execution_count": 18,
     "metadata": {},
     "output_type": "execute_result"
    }
   ],
   "source": [
    "df"
   ]
  },
  {
   "cell_type": "code",
   "execution_count": 19,
   "metadata": {
    "pycharm": {
     "name": "#%%\n"
    }
   },
   "outputs": [
    {
     "data": {
      "text/plain": [
       "{'mean_fit_time': array([ 7.79121161, 23.59250474, 34.37133074, 49.45437872, 10.16165948,\n",
       "        28.18774056, 39.29081094, 57.0964669 , 11.51612067, 26.73348296,\n",
       "        36.43143713, 53.97723806,  7.74725187, 23.00973725, 38.24025357,\n",
       "        60.60462046,  8.770473  , 25.90450191, 42.76777744, 67.68206513,\n",
       "         9.74908888, 28.67993152, 47.36996841, 74.9026711 , 10.78677285,\n",
       "        31.73274577, 51.85205448, 81.55938816, 11.88090301, 34.33202767,\n",
       "        56.28396797, 81.72018528, 12.9283303 , 37.29201376, 56.77936769,\n",
       "        76.58525014, 14.15320086, 34.91246378, 49.69532216, 69.26296246]),\n",
       " 'mean_score_time': array([0.26419234, 0.69527268, 0.55719185, 0.89768326, 0.24082255,\n",
       "        0.42233825, 0.66615272, 1.14477026, 0.32327008, 0.46028614,\n",
       "        0.7705971 , 1.50994813, 0.19108868, 0.54971743, 0.98859835,\n",
       "        2.11476588, 0.21437728, 0.64235961, 1.14770746, 2.60836101,\n",
       "        0.23656654, 0.71177733, 1.37402296, 3.07837915, 0.25553608,\n",
       "        0.81836307, 1.59160364, 3.2053287 , 0.29489565, 0.96377611,\n",
       "        2.00671399, 2.97568262, 0.32763195, 1.06027484, 1.89365065,\n",
       "        3.35768151, 0.35830581, 0.97435033, 1.69262242, 3.58733892]),\n",
       " 'mean_test_score': array([0.80151711, 0.79299797, 0.78765312, 0.78356863, 0.79864623,\n",
       "        0.78844666, 0.78464226, 0.78186482, 0.79663901, 0.78650949,\n",
       "        0.78394207, 0.78191151, 0.79241447, 0.7864628 , 0.78571592,\n",
       "        0.78394211, 0.79246117, 0.78709297, 0.78485234, 0.78333525,\n",
       "        0.79043059, 0.78695296, 0.78422217, 0.78258839, 0.79115418,\n",
       "        0.78811998, 0.78683626, 0.78375541, 0.78837671, 0.78664951,\n",
       "        0.78571593, 0.78394208, 0.7903139 , 0.7868596 , 0.78569259,\n",
       "        0.78352198, 0.78919356, 0.78748971, 0.78592597, 0.78408212]),\n",
       " 'param_max_depth': masked_array(data=[5, 5, 5, 5, 6, 6, 6, 6, 7, 7, 7, 7, 8, 8, 8, 8, 9, 9,\n",
       "                    9, 9, 10, 10, 10, 10, 11, 11, 11, 11, 12, 12, 12, 12,\n",
       "                    13, 13, 13, 13, 14, 14, 14, 14],\n",
       "              mask=[False, False, False, False, False, False, False, False,\n",
       "                    False, False, False, False, False, False, False, False,\n",
       "                    False, False, False, False, False, False, False, False,\n",
       "                    False, False, False, False, False, False, False, False,\n",
       "                    False, False, False, False, False, False, False, False],\n",
       "        fill_value='?',\n",
       "             dtype=object),\n",
       " 'param_n_estimators': masked_array(data=[100, 300, 500, 800, 100, 300, 500, 800, 100, 300, 500,\n",
       "                    800, 100, 300, 500, 800, 100, 300, 500, 800, 100, 300,\n",
       "                    500, 800, 100, 300, 500, 800, 100, 300, 500, 800, 100,\n",
       "                    300, 500, 800, 100, 300, 500, 800],\n",
       "              mask=[False, False, False, False, False, False, False, False,\n",
       "                    False, False, False, False, False, False, False, False,\n",
       "                    False, False, False, False, False, False, False, False,\n",
       "                    False, False, False, False, False, False, False, False,\n",
       "                    False, False, False, False, False, False, False, False],\n",
       "        fill_value='?',\n",
       "             dtype=object),\n",
       " 'params': [{'max_depth': 5, 'n_estimators': 100},\n",
       "  {'max_depth': 5, 'n_estimators': 300},\n",
       "  {'max_depth': 5, 'n_estimators': 500},\n",
       "  {'max_depth': 5, 'n_estimators': 800},\n",
       "  {'max_depth': 6, 'n_estimators': 100},\n",
       "  {'max_depth': 6, 'n_estimators': 300},\n",
       "  {'max_depth': 6, 'n_estimators': 500},\n",
       "  {'max_depth': 6, 'n_estimators': 800},\n",
       "  {'max_depth': 7, 'n_estimators': 100},\n",
       "  {'max_depth': 7, 'n_estimators': 300},\n",
       "  {'max_depth': 7, 'n_estimators': 500},\n",
       "  {'max_depth': 7, 'n_estimators': 800},\n",
       "  {'max_depth': 8, 'n_estimators': 100},\n",
       "  {'max_depth': 8, 'n_estimators': 300},\n",
       "  {'max_depth': 8, 'n_estimators': 500},\n",
       "  {'max_depth': 8, 'n_estimators': 800},\n",
       "  {'max_depth': 9, 'n_estimators': 100},\n",
       "  {'max_depth': 9, 'n_estimators': 300},\n",
       "  {'max_depth': 9, 'n_estimators': 500},\n",
       "  {'max_depth': 9, 'n_estimators': 800},\n",
       "  {'max_depth': 10, 'n_estimators': 100},\n",
       "  {'max_depth': 10, 'n_estimators': 300},\n",
       "  {'max_depth': 10, 'n_estimators': 500},\n",
       "  {'max_depth': 10, 'n_estimators': 800},\n",
       "  {'max_depth': 11, 'n_estimators': 100},\n",
       "  {'max_depth': 11, 'n_estimators': 300},\n",
       "  {'max_depth': 11, 'n_estimators': 500},\n",
       "  {'max_depth': 11, 'n_estimators': 800},\n",
       "  {'max_depth': 12, 'n_estimators': 100},\n",
       "  {'max_depth': 12, 'n_estimators': 300},\n",
       "  {'max_depth': 12, 'n_estimators': 500},\n",
       "  {'max_depth': 12, 'n_estimators': 800},\n",
       "  {'max_depth': 13, 'n_estimators': 100},\n",
       "  {'max_depth': 13, 'n_estimators': 300},\n",
       "  {'max_depth': 13, 'n_estimators': 500},\n",
       "  {'max_depth': 13, 'n_estimators': 800},\n",
       "  {'max_depth': 14, 'n_estimators': 100},\n",
       "  {'max_depth': 14, 'n_estimators': 300},\n",
       "  {'max_depth': 14, 'n_estimators': 500},\n",
       "  {'max_depth': 14, 'n_estimators': 800}],\n",
       " 'rank_test_score': array([ 1,  4, 14, 35,  2, 11, 28, 40,  3, 21, 33, 39,  6, 22, 25, 31,  5,\n",
       "        16, 27, 37,  8, 17, 29, 38,  7, 13, 19, 34, 12, 20, 24, 32,  9, 18,\n",
       "        26, 36, 10, 15, 23, 30], dtype=int32),\n",
       " 'split0_test_score': array([0.80100826, 0.7949867 , 0.78961863, 0.78546422, 0.80077487,\n",
       "        0.79139243, 0.78714466, 0.78345703, 0.79825421, 0.78728469,\n",
       "        0.78588433, 0.78317696, 0.79433319, 0.7879382 , 0.78733137,\n",
       "        0.78429725, 0.79358633, 0.78877842, 0.78630444, 0.78471736,\n",
       "        0.79176586, 0.78751809, 0.78546422, 0.78285021, 0.79022546,\n",
       "        0.78756477, 0.78709798, 0.78322364, 0.78826495, 0.78835831,\n",
       "        0.78672455, 0.78560426, 0.79111236, 0.78742473, 0.78663119,\n",
       "        0.78420389, 0.79115903, 0.79087896, 0.78779816, 0.78583765]),\n",
       " 'split1_test_score': array([0.80202595, 0.79100924, 0.78568761, 0.78167305, 0.7965176 ,\n",
       "        0.78550089, 0.78213986, 0.78027262, 0.79502381, 0.78573429,\n",
       "        0.78199981, 0.78064606, 0.79049575, 0.7849874 , 0.78410046,\n",
       "        0.78358697, 0.79133601, 0.78540752, 0.78340024, 0.78195313,\n",
       "        0.78909532, 0.78638783, 0.78298011, 0.78232658, 0.79208291,\n",
       "        0.78867519, 0.78657455, 0.78428718, 0.78848847, 0.78494072,\n",
       "        0.78470731, 0.7822799 , 0.78951545, 0.78629446, 0.78475399,\n",
       "        0.78284007, 0.78722808, 0.78410046, 0.78405378, 0.78232658]),\n",
       " 'std_fit_time': array([1.68401003e-01, 5.89446545e-01, 4.45914984e-01, 2.35685468e-01,\n",
       "        2.72216082e-01, 2.92123318e-01, 1.10164762e-01, 4.76956367e-04,\n",
       "        5.35893440e-03, 3.35071206e-01, 1.61635280e-01, 1.03452325e-01,\n",
       "        3.48416567e-02, 4.24685478e-02, 8.09992552e-02, 3.99782658e-02,\n",
       "        4.41765785e-03, 2.34925747e-02, 7.83762932e-02, 9.64939594e-03,\n",
       "        6.61357641e-02, 3.56057882e-02, 1.13372803e-02, 8.54086876e-03,\n",
       "        8.74463320e-02, 9.97184515e-02, 1.13564610e-01, 5.33598185e-01,\n",
       "        5.13415337e-02, 5.93159199e-02, 1.63404942e-01, 1.55936813e+00,\n",
       "        6.91791773e-02, 4.74890471e-02, 1.47458005e+00, 1.15174007e+00,\n",
       "        1.72086716e-01, 6.46148801e-01, 6.45226836e-01, 1.83100593e+00]),\n",
       " 'std_score_time': array([0.00462031, 0.01931715, 0.00199103, 0.00416529, 0.08105874,\n",
       "        0.01627254, 0.00342965, 0.01159799, 0.00354886, 0.01224828,\n",
       "        0.00917447, 0.02866518, 0.0019145 , 0.00799298, 0.03663945,\n",
       "        0.01147318, 0.00142491, 0.02198589, 0.01349807, 0.02303815,\n",
       "        0.00630641, 0.00796068, 0.02486825, 0.00545669, 0.00069451,\n",
       "        0.00860107, 0.03731024, 0.14876366, 0.0076077 , 0.00414205,\n",
       "        0.000512  , 0.01819646, 0.00405312, 0.02771306, 0.01870906,\n",
       "        0.01002407, 0.00123131, 0.01696837, 0.00719643, 0.00326085]),\n",
       " 'std_test_score': array([0.00050885, 0.00198873, 0.00196551, 0.00189559, 0.00212863,\n",
       "        0.00294577, 0.0025024 , 0.00159221, 0.0016152 , 0.0007752 ,\n",
       "        0.00194226, 0.00126545, 0.00191872, 0.0014754 , 0.00161546,\n",
       "        0.00035514, 0.00112516, 0.00168545, 0.0014521 , 0.00138211,\n",
       "        0.00133527, 0.00056513, 0.00124205, 0.00026181, 0.00092872,\n",
       "        0.00055521, 0.00026171, 0.00053177, 0.00011176, 0.0017088 ,\n",
       "        0.00100862, 0.00166218, 0.00079845, 0.00056513, 0.0009386 ,\n",
       "        0.00068191, 0.00196548, 0.00338925, 0.00187219, 0.00175554])}"
      ]
     },
     "execution_count": 19,
     "metadata": {},
     "output_type": "execute_result"
    }
   ],
   "source": [
    "grid_search_acc.cv_results_\n",
    "\n"
   ]
  }
 ],
 "metadata": {
  "kernelspec": {
   "display_name": "Python 3",
   "language": "python",
   "name": "python3"
  },
  "language_info": {
   "codemirror_mode": {
    "name": "ipython",
    "version": 3
   },
   "file_extension": ".py",
   "mimetype": "text/x-python",
   "name": "python",
   "nbconvert_exporter": "python",
   "pygments_lexer": "ipython3",
   "version": "3.5.3"
  },
  "pycharm": {
   "stem_cell": {
    "cell_type": "raw",
    "metadata": {
     "collapsed": false
    },
    "source": []
   }
  }
 },
 "nbformat": 4,
 "nbformat_minor": 1
}
