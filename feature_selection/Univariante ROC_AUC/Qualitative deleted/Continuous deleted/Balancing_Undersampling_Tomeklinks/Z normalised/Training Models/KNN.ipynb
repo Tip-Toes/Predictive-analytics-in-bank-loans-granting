{
 "cells": [
  {
   "cell_type": "code",
   "execution_count": 31,
   "metadata": {
    "pycharm": {
     "is_executing": false
    }
   },
   "outputs": [],
   "source": [
    "import warnings\n",
    "from plot_metric.functions import BinaryClassification\n",
    "from sklearn.model_selection import GridSearchCV, train_test_split\n",
    "warnings.filterwarnings('ignore')\n",
    "import pandas as pd\n",
    "from sklearn.neighbors import KNeighborsClassifier\n",
    "from sklearn.metrics import make_scorer, recall_score,precision_score, confusion_matrix,classification_report,accuracy_score\n",
    "import matplotlib.pyplot as plt\n",
    "import numpy as np"
   ]
  },
  {
   "cell_type": "code",
   "execution_count": 12,
   "metadata": {
    "pycharm": {
     "is_executing": false,
     "name": "#%%\n"
    }
   },
   "outputs": [],
   "source": [
    "data= pd.read_csv('../z_norm.csv')"
   ]
  },
  {
   "cell_type": "markdown",
   "metadata": {
    "pycharm": {
     "is_executing": false,
     "name": "#%% md\n"
    }
   },
   "source": [
    "### split data en X et Y"
   ]
  },
  {
   "cell_type": "code",
   "execution_count": 13,
   "metadata": {
    "pycharm": {
     "is_executing": false,
     "name": "#%%\n"
    }
   },
   "outputs": [],
   "source": [
    "data1= data.copy()\n",
    "X= data1.drop('Loan Status', axis=1)\n",
    "Y= data1['Loan Status']"
   ]
  },
  {
   "cell_type": "code",
   "execution_count": 14,
   "metadata": {
    "pycharm": {
     "is_executing": false,
     "name": "#%%\n"
    }
   },
   "outputs": [],
   "source": [
    "X_train , X_test , Y_train , Y_test = train_test_split(X, Y, test_size = 0.20, random_state = 123, stratify=Y)\n"
   ]
  },
  {
   "cell_type": "code",
   "execution_count": 15,
   "metadata": {
    "pycharm": {
     "is_executing": false,
     "name": "#%%\n"
    }
   },
   "outputs": [
    {
     "data": {
      "text/plain": [
       "(array([0, 1]), array([12971, 35995]))"
      ]
     },
     "execution_count": 15,
     "metadata": {},
     "output_type": "execute_result"
    }
   ],
   "source": [
    "np.unique(Y_train, return_counts=True)"
   ]
  },
  {
   "cell_type": "markdown",
   "metadata": {},
   "source": [
    "### ---KNN---"
   ]
  },
  {
   "cell_type": "code",
   "execution_count": 16,
   "metadata": {
    "pycharm": {
     "is_executing": false,
     "name": "#%%\n"
    }
   },
   "outputs": [],
   "source": [
    "knn = KNeighborsClassifier()\n",
    "params={'n_neighbors' : [2, 3, 4, 5, 6, 7, 8],\n",
    "        'metric': ['minkowski','euclidean','manhattan']}\n",
    "\n",
    "##accuracy\n",
    "grid_search_acc= GridSearchCV(estimator=knn, param_grid= params, scoring='accuracy',cv=5, n_jobs=-1)\n",
    "grid_search_acc= grid_search_acc.fit(X_train, Y_train)\n",
    "y_predict= grid_search_acc.best_estimator_.predict(X_test)"
   ]
  },
  {
   "cell_type": "code",
   "execution_count": null,
   "metadata": {
    "pycharm": {
     "is_executing": false,
     "name": "#%%\n"
    }
   },
   "outputs": [
    {
     "name": "stdout",
     "output_type": "stream",
     "text": [
      "----------\n",
      "best parameters:  {'metric': 'manhattan', 'n_neighbors': 7}\n",
      "----------\n",
      "[[1218 2025]\n",
      " [ 641 8358]]\n",
      "----------\n",
      "              precision    recall  f1-score   support\n",
      "\n",
      "           0       0.66      0.38      0.48      3243\n",
      "           1       0.80      0.93      0.86      8999\n",
      "\n",
      "    accuracy                           0.78     12242\n",
      "   macro avg       0.73      0.65      0.67     12242\n",
      "weighted avg       0.77      0.78      0.76     12242\n",
      "\n",
      "----------\n"
     ]
    }
   ],
   "source": [
    "## evaluating the model\n",
    "print(\"----------\")\n",
    "print('best parameters: ', grid_search_acc.best_params_)\n",
    "print(\"----------\")\n",
    "print(confusion_matrix(Y_test,y_predict))\n",
    "print(\"----------\")\n",
    "print(classification_report(Y_test, y_predict))\n",
    "print(\"----------\")\n",
    "\n",
    "\n",
    "##ROC\n",
    "y_predict_proba = grid_search_acc.best_estimator_.predict_proba(X_test)[:,1]\n",
    "\n",
    "# Visualisation with plot_metric\n",
    "bc = BinaryClassification(Y_test, y_predict_proba, labels=[1, 0])\n",
    "# Figures\n",
    "plt.figure(figsize=(7,6))\n",
    "bc.plot_roc_curve()\n",
    "plt.show()"
   ]
  },
  {
   "cell_type": "code",
   "execution_count": 18,
   "metadata": {
    "pycharm": {
     "is_executing": false,
     "name": "#%%\n"
    }
   },
   "outputs": [],
   "source": [
    "## Recall\n",
    "rec_avg=make_scorer(recall_score, average='macro')\n",
    "grid_search_rec= GridSearchCV(estimator=knn, param_grid= params, scoring=rec_avg,cv=5, n_jobs=-1)\n",
    "grid_search_rec= grid_search_rec.fit(X_train, Y_train)\n",
    "y_predict= grid_search_rec.best_estimator_.predict(X_test)"
   ]
  },
  {
   "cell_type": "code",
   "execution_count": 19,
   "metadata": {
    "pycharm": {
     "is_executing": false,
     "name": "#%%\n"
    }
   },
   "outputs": [
    {
     "name": "stdout",
     "output_type": "stream",
     "text": [
      "----------\n",
      "best parameters:  {'metric': 'minkowski', 'n_neighbors': 4}\n",
      "----------\n",
      "[[1650 1593]\n",
      " [1775 7224]]\n",
      "----------\n",
      "              precision    recall  f1-score   support\n",
      "\n",
      "           0       0.48      0.51      0.49      3243\n",
      "           1       0.82      0.80      0.81      8999\n",
      "\n",
      "    accuracy                           0.72     12242\n",
      "   macro avg       0.65      0.66      0.65     12242\n",
      "weighted avg       0.73      0.72      0.73     12242\n",
      "\n",
      "----------\n"
     ]
    }
   ],
   "source": [
    "## evaluating the model\n",
    "print(\"----------\")\n",
    "print('best parameters: ', grid_search_rec.best_params_)\n",
    "print(\"----------\")\n",
    "print(confusion_matrix(Y_test,y_predict))\n",
    "print(\"----------\")\n",
    "print(classification_report(Y_test, y_predict))\n",
    "print(\"----------\")"
   ]
  },
  {
   "cell_type": "code",
   "execution_count": 20,
   "metadata": {
    "pycharm": {
     "is_executing": false,
     "name": "#%%\n"
    }
   },
   "outputs": [],
   "source": [
    "## precision\n",
    "prec_avg=make_scorer(precision_score, average='macro')\n",
    "grid_search_prec_avg= GridSearchCV(estimator=knn, param_grid= params, scoring=prec_avg,cv=5, n_jobs=-1)\n",
    "grid_search_prec_avg= grid_search_prec_avg.fit(X_train, Y_train)\n",
    "y_predict= grid_search_prec_avg.best_estimator_.predict(X_test)"
   ]
  },
  {
   "cell_type": "code",
   "execution_count": 21,
   "metadata": {
    "pycharm": {
     "is_executing": false,
     "name": "#%%\n"
    }
   },
   "outputs": [
    {
     "name": "stdout",
     "output_type": "stream",
     "text": [
      "----------\n",
      "best parameters:  {'metric': 'manhattan', 'n_neighbors': 7}\n",
      "----------\n",
      "[[1218 2025]\n",
      " [ 641 8358]]\n",
      "----------\n",
      "              precision    recall  f1-score   support\n",
      "\n",
      "           0       0.66      0.38      0.48      3243\n",
      "           1       0.80      0.93      0.86      8999\n",
      "\n",
      "    accuracy                           0.78     12242\n",
      "   macro avg       0.73      0.65      0.67     12242\n",
      "weighted avg       0.77      0.78      0.76     12242\n",
      "\n",
      "----------\n"
     ]
    }
   ],
   "source": [
    "## evaluating the model\n",
    "print(\"----------\")\n",
    "print('best parameters: ', grid_search_prec_avg.best_params_)\n",
    "print(\"----------\")\n",
    "print(confusion_matrix(Y_test,y_predict))\n",
    "print(\"----------\")\n",
    "print(classification_report(Y_test, y_predict))\n",
    "print(\"----------\")"
   ]
  },
  {
   "cell_type": "code",
   "execution_count": 29,
   "metadata": {
    "pycharm": {
     "is_executing": false,
     "name": "#%%\n"
    }
   },
   "outputs": [],
   "source": [
    "def plot_grid_search(cv_results, grid_param_1, grid_param_2, name_param_1, name_param_2, titre):\n",
    "    # Get Test Scores Mean and std for each grid search\n",
    "    scores_mean = cv_results['mean_test_score']\n",
    "    scores_mean = np.array(scores_mean).reshape(len(grid_param_2),len(grid_param_1))\n",
    "\n",
    "    # Plot Grid search scores\n",
    "    _, ax = plt.subplots(1,1)\n",
    "\n",
    "    # Param1 is the X-axis, Param 2 is represented as a different curve (color line)\n",
    "    for idx, val in enumerate(grid_param_2):\n",
    "        ax.set_ylim([0.6,0.79])\n",
    "        ax.plot(grid_param_1, scores_mean[idx,:], '-o', label= name_param_2 + ': ' + str(val))\n",
    "\n",
    "    ax.set_title(titre, fontsize=18, fontweight='bold')\n",
    "    ax.set_xlabel(name_param_1, fontsize=14)\n",
    "    ax.set_ylabel(titre+'[CV Avg Score]', fontsize=14)\n",
    "    ax.legend(loc=\"best\", fontsize=15)\n",
    "    ax.grid('on')"
   ]
  },
  {
   "cell_type": "code",
   "execution_count": 30,
   "metadata": {
    "pycharm": {
     "is_executing": false,
     "name": "#%%\n"
    }
   },
   "outputs": [
    {
     "data": {
      "image/png": "[encoded data removed]",
      "text/plain": [
       "<Figure size 432x288 with 1 Axes>"
      ]
     },
     "metadata": {
      "needs_background": "light"
     },
     "output_type": "display_data"
    },
    {
     "data": {
      "image/png": "[encoded data removed]",
      "text/plain": [
       "<Figure size 432x288 with 1 Axes>"
      ]
     },
     "metadata": {
      "needs_background": "light"
     },
     "output_type": "display_data"
    },
    {
     "data": {
      "image/png": "[encoded data removed]",
      "text/plain": [
       "<Figure size 432x288 with 1 Axes>"
      ]
     },
     "metadata": {
      "needs_background": "light"
     },
     "output_type": "display_data"
    }
   ],
   "source": [
    "# Calling Method \n",
    "plot_grid_search(grid_search_acc.cv_results_, params['n_neighbors'], params['metric'], 'N neighbors', 'Metric', 'Accuracy')\n",
    "plot_grid_search(grid_search_rec.cv_results_, params['n_neighbors'], params['metric'], 'N neighbors', 'Metric', 'Recall')\n",
    "plot_grid_search(grid_search_prec_avg.cv_results_, params['n_neighbors'], params['metric'], 'N neighbors', 'Metric', 'Precision')\n"
   ]
  },
  {
   "cell_type": "code",
   "execution_count": 24,
   "metadata": {
    "pycharm": {
     "name": "#%%\n"
    }
   },
   "outputs": [],
   "source": [
    "def return_index_list(param1, param2):\n",
    "    list=[]\n",
    "    for p1 in param1:\n",
    "        for p2 in param2:\n",
    "            list.append('['+str(p1)+', '+str(p2)+']')\n",
    "    return list\n",
    "index= return_index_list(params['metric'], params['n_neighbors'])"
   ]
  },
  {
   "cell_type": "code",
   "execution_count": 25,
   "metadata": {
    "pycharm": {
     "name": "#%%\n"
    }
   },
   "outputs": [],
   "source": [
    "df= pd.DataFrame({  'Accuracy': grid_search_acc.cv_results_['mean_test_score'],\n",
    "                    'Precision(Avg)': grid_search_prec_avg.cv_results_['mean_test_score'],\n",
    "                    'Recall(Avg)': grid_search_rec.cv_results_['mean_test_score'],},\n",
    "                 index=index)\n",
    "\n",
    "\n",
    "path= \"../../tables_tomeklinks.xlsx\"\n",
    "writer = pd.ExcelWriter(path)\n",
    "from openpyxl import load_workbook\n",
    "writer.book= load_workbook(path)\n",
    "df.to_excel(writer, 'knn_z')\n",
    "writer.save()\n"
   ]
  },
  {
   "cell_type": "code",
   "execution_count": 26,
   "metadata": {},
   "outputs": [
    {
     "data": {
      "text/html": [
       "<div>\n",
       "<style scoped>\n",
       "    .dataframe tbody tr th:only-of-type {\n",
       "        vertical-align: middle;\n",
       "    }\n",
       "\n",
       "    .dataframe tbody tr th {\n",
       "        vertical-align: top;\n",
       "    }\n",
       "\n",
       "    .dataframe thead th {\n",
       "        text-align: right;\n",
       "    }\n",
       "</style>\n",
       "<table border=\"1\" class=\"dataframe\">\n",
       "  <thead>\n",
       "    <tr style=\"text-align: right;\">\n",
       "      <th></th>\n",
       "      <th>Accuracy</th>\n",
       "      <th>Precision(Avg)</th>\n",
       "      <th>Recall(Avg)</th>\n",
       "    </tr>\n",
       "  </thead>\n",
       "  <tbody>\n",
       "    <tr>\n",
       "      <th>[minkowski, 2]</th>\n",
       "      <td>0.663848</td>\n",
       "      <td>0.623138</td>\n",
       "      <td>0.652216</td>\n",
       "    </tr>\n",
       "    <tr>\n",
       "      <th>[minkowski, 3]</th>\n",
       "      <td>0.756382</td>\n",
       "      <td>0.680483</td>\n",
       "      <td>0.651121</td>\n",
       "    </tr>\n",
       "    <tr>\n",
       "      <th>[minkowski, 4]</th>\n",
       "      <td>0.724809</td>\n",
       "      <td>0.651524</td>\n",
       "      <td>0.658149</td>\n",
       "    </tr>\n",
       "    <tr>\n",
       "      <th>[minkowski, 5]</th>\n",
       "      <td>0.773190</td>\n",
       "      <td>0.709099</td>\n",
       "      <td>0.651581</td>\n",
       "    </tr>\n",
       "    <tr>\n",
       "      <th>[minkowski, 6]</th>\n",
       "      <td>0.753074</td>\n",
       "      <td>0.677216</td>\n",
       "      <td>0.657673</td>\n",
       "    </tr>\n",
       "    <tr>\n",
       "      <th>[minkowski, 7]</th>\n",
       "      <td>0.779275</td>\n",
       "      <td>0.724730</td>\n",
       "      <td>0.647633</td>\n",
       "    </tr>\n",
       "    <tr>\n",
       "      <th>[minkowski, 8]</th>\n",
       "      <td>0.767124</td>\n",
       "      <td>0.697278</td>\n",
       "      <td>0.655297</td>\n",
       "    </tr>\n",
       "    <tr>\n",
       "      <th>[euclidean, 2]</th>\n",
       "      <td>0.663848</td>\n",
       "      <td>0.623138</td>\n",
       "      <td>0.652216</td>\n",
       "    </tr>\n",
       "    <tr>\n",
       "      <th>[euclidean, 3]</th>\n",
       "      <td>0.756382</td>\n",
       "      <td>0.680483</td>\n",
       "      <td>0.651121</td>\n",
       "    </tr>\n",
       "    <tr>\n",
       "      <th>[euclidean, 4]</th>\n",
       "      <td>0.724809</td>\n",
       "      <td>0.651524</td>\n",
       "      <td>0.658149</td>\n",
       "    </tr>\n",
       "    <tr>\n",
       "      <th>[euclidean, 5]</th>\n",
       "      <td>0.773190</td>\n",
       "      <td>0.709099</td>\n",
       "      <td>0.651581</td>\n",
       "    </tr>\n",
       "    <tr>\n",
       "      <th>[euclidean, 6]</th>\n",
       "      <td>0.753074</td>\n",
       "      <td>0.677216</td>\n",
       "      <td>0.657673</td>\n",
       "    </tr>\n",
       "    <tr>\n",
       "      <th>[euclidean, 7]</th>\n",
       "      <td>0.779275</td>\n",
       "      <td>0.724730</td>\n",
       "      <td>0.647633</td>\n",
       "    </tr>\n",
       "    <tr>\n",
       "      <th>[euclidean, 8]</th>\n",
       "      <td>0.767124</td>\n",
       "      <td>0.697278</td>\n",
       "      <td>0.655297</td>\n",
       "    </tr>\n",
       "    <tr>\n",
       "      <th>[manhattan, 2]</th>\n",
       "      <td>0.666177</td>\n",
       "      <td>0.625722</td>\n",
       "      <td>0.655476</td>\n",
       "    </tr>\n",
       "    <tr>\n",
       "      <th>[manhattan, 3]</th>\n",
       "      <td>0.755912</td>\n",
       "      <td>0.679808</td>\n",
       "      <td>0.650999</td>\n",
       "    </tr>\n",
       "    <tr>\n",
       "      <th>[manhattan, 4]</th>\n",
       "      <td>0.724993</td>\n",
       "      <td>0.651260</td>\n",
       "      <td>0.657313</td>\n",
       "    </tr>\n",
       "    <tr>\n",
       "      <th>[manhattan, 5]</th>\n",
       "      <td>0.772904</td>\n",
       "      <td>0.708635</td>\n",
       "      <td>0.650894</td>\n",
       "    </tr>\n",
       "    <tr>\n",
       "      <th>[manhattan, 6]</th>\n",
       "      <td>0.751971</td>\n",
       "      <td>0.675666</td>\n",
       "      <td>0.656628</td>\n",
       "    </tr>\n",
       "    <tr>\n",
       "      <th>[manhattan, 7]</th>\n",
       "      <td>0.780664</td>\n",
       "      <td>0.728044</td>\n",
       "      <td>0.648307</td>\n",
       "    </tr>\n",
       "    <tr>\n",
       "      <th>[manhattan, 8]</th>\n",
       "      <td>0.767859</td>\n",
       "      <td>0.698460</td>\n",
       "      <td>0.655402</td>\n",
       "    </tr>\n",
       "  </tbody>\n",
       "</table>\n",
       "</div>"
      ],
      "text/plain": [
       "                Accuracy  Precision(Avg)  Recall(Avg)\n",
       "[minkowski, 2]  0.663848        0.623138     0.652216\n",
       "[minkowski, 3]  0.756382        0.680483     0.651121\n",
       "[minkowski, 4]  0.724809        0.651524     0.658149\n",
       "[minkowski, 5]  0.773190        0.709099     0.651581\n",
       "[minkowski, 6]  0.753074        0.677216     0.657673\n",
       "[minkowski, 7]  0.779275        0.724730     0.647633\n",
       "[minkowski, 8]  0.767124        0.697278     0.655297\n",
       "[euclidean, 2]  0.663848        0.623138     0.652216\n",
       "[euclidean, 3]  0.756382        0.680483     0.651121\n",
       "[euclidean, 4]  0.724809        0.651524     0.658149\n",
       "[euclidean, 5]  0.773190        0.709099     0.651581\n",
       "[euclidean, 6]  0.753074        0.677216     0.657673\n",
       "[euclidean, 7]  0.779275        0.724730     0.647633\n",
       "[euclidean, 8]  0.767124        0.697278     0.655297\n",
       "[manhattan, 2]  0.666177        0.625722     0.655476\n",
       "[manhattan, 3]  0.755912        0.679808     0.650999\n",
       "[manhattan, 4]  0.724993        0.651260     0.657313\n",
       "[manhattan, 5]  0.772904        0.708635     0.650894\n",
       "[manhattan, 6]  0.751971        0.675666     0.656628\n",
       "[manhattan, 7]  0.780664        0.728044     0.648307\n",
       "[manhattan, 8]  0.767859        0.698460     0.655402"
      ]
     },
     "execution_count": 26,
     "metadata": {},
     "output_type": "execute_result"
    }
   ],
   "source": [
    "df"
   ]
  }
 ],
 "metadata": {
  "kernelspec": {
   "display_name": "Python 3",
   "language": "python",
   "name": "python3"
  },
  "language_info": {
   "codemirror_mode": {
    "name": "ipython",
    "version": 3
   },
   "file_extension": ".py",
   "mimetype": "text/x-python",
   "name": "python",
   "nbconvert_exporter": "python",
   "pygments_lexer": "ipython3",
   "version": "3.5.3"
  },
  "pycharm": {
   "stem_cell": {
    "cell_type": "raw",
    "metadata": {
     "collapsed": false
    },
    "source": []
   }
  }
 },
 "nbformat": 4,
 "nbformat_minor": 1
}
