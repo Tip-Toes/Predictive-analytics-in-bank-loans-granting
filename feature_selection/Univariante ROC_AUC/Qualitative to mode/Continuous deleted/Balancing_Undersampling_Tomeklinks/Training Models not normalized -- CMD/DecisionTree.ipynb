{
 "cells": [
  {
   "cell_type": "code",
   "execution_count": 1,
   "metadata": {
    "pycharm": {
     "is_executing": false
    }
   },
   "outputs": [],
   "source": [
    "from pylab import rcParams\n",
    "rcParams['figure.figsize'] = 10, 5\n",
    "import warnings\n",
    "warnings.filterwarnings('ignore')\n",
    "from sklearn.tree import DecisionTreeClassifier\n",
    "import pandas as pd\n",
    "from sklearn.model_selection import GridSearchCV, train_test_split\n",
    "from sklearn.metrics import confusion_matrix, classification_report, average_precision_score, accuracy_score\n",
    "import csv"
   ]
  },
  {
   "cell_type": "code",
   "execution_count": 99,
   "metadata": {
    "pycharm": {
     "is_executing": false,
     "name": "#%%\n"
    }
   },
   "outputs": [],
   "source": []
  },
  {
   "cell_type": "code",
   "execution_count": 2,
   "metadata": {
    "pycharm": {
     "is_executing": false,
     "name": "#%%\n"
    }
   },
   "outputs": [],
   "source": [
    "def get_algo_path():\n",
    "    import os\n",
    "    cwd = os.getcwd()\n",
    "    s='\\\\'\n",
    "    if '\\\\' not in cwd:\n",
    "        s='/'\n",
    "    cwd= cwd.split(s)[4:-1]\n",
    "    cwd.append('Not Normalized')\n",
    "    cwd='/'.join(cwd)\n",
    "    return cwd\n",
    "\n",
    "def get_csv_path():\n",
    "    import os\n",
    "    cwd = os.getcwd()\n",
    "    s=\"\\\\\"\n",
    "    if \"\\\\\" not in cwd:\n",
    "        s='/'\n",
    "    file= cwd.split(s)[:4]\n",
    "    file.append('models_scores.csv')\n",
    "    file= s.join(file)\n",
    "    return file\n",
    "\n",
    "def line_is_exist(file, row):\n",
    "    logfile = open(file, 'r')\n",
    "    loglist = logfile.readlines()\n",
    "    logfile.close()\n",
    "    for line in loglist:\n",
    "        if ','.join(row) in line:\n",
    "            return True\n",
    "    return False\n",
    "\n",
    "def write_new_score(file, line):\n",
    "    if( not line_is_exist(file, line) ):\n",
    "        with open(file, 'a') as f:\n",
    "            writer = csv.writer(f)\n",
    "            writer.writerow(line)\n",
    "    else:\n",
    "        print('line exsist already')\n",
    "    "
   ]
  },
  {
   "cell_type": "code",
   "execution_count": 3,
   "metadata": {
    "pycharm": {
     "is_executing": false,
     "name": "#%%\n"
    }
   },
   "outputs": [],
   "source": [
    "data= pd.read_csv('../data.csv')"
   ]
  },
  {
   "cell_type": "code",
   "execution_count": 4,
   "metadata": {
    "pycharm": {
     "is_executing": false,
     "name": "#%%\n"
    }
   },
   "outputs": [],
   "source": [
    "##copying data\n",
    "data1=data.copy()\n",
    "### spliting data en X et Y\n",
    "X= data1.drop('Loan Status', axis=1)\n",
    "Y= data1['Loan Status']\n",
    "### spliting the data to train and test\n",
    "X_train , X_test , Y_train , Y_test = train_test_split(X, Y, test_size = 0.30, random_state = 123)\n",
    "## dicision tree (CART)\n",
    "dct = DecisionTreeClassifier()\n",
    "params={'criterion' : ['gini', 'entropy'],\n",
    "        'max_depth': [4, 5, 6, 7, 8, 9, 10, 11, 12, 13,14, 15, 16, 17, None]}\n",
    "\n",
    "##accuracy\n",
    "grid_search_acc= GridSearchCV(estimator=dct, param_grid= params, scoring='accuracy',cv=2, n_jobs=-1)\n",
    "grid_search_acc= grid_search_acc.fit(X_train, Y_train)\n",
    "y_predict= grid_search_acc.best_estimator_.predict(X_test)\n"
   ]
  },
  {
   "cell_type": "code",
   "execution_count": 5,
   "metadata": {
    "pycharm": {
     "is_executing": false,
     "name": "#%%\n"
    }
   },
   "outputs": [],
   "source": [
    "## get avg precision & avg recall\n",
    "report= classification_report(Y_test, y_predict, output_dict=True)\n",
    "avg_list = report.pop(\"weighted avg\")\n",
    "avg_precision= round(avg_list['precision'], 3)\n",
    "avg_recall= round(avg_list['recall'], 3)\n",
    "accuraccy= round(accuracy_score(Y_test,y_predict), 3)\n",
    "## csv row\n",
    "csv_row = [get_algo_path(), 'Decision Tree', str(grid_search_acc.best_params_), str(accuraccy), str(avg_precision), str(avg_recall)]\n",
    "## write file\n",
    "csv_file= get_csv_path()\n",
    "write_new_score(csv_file, csv_row)"
   ]
  },
  {
   "cell_type": "code",
   "execution_count": 6,
   "metadata": {
    "pycharm": {
     "is_executing": false,
     "name": "#%%\n"
    }
   },
   "outputs": [
    {
     "name": "stdout",
     "output_type": "stream",
     "text": [
      "----------\n",
      "best parameters:  {'criterion': 'gini', 'max_depth': 4}\n",
      "----------\n",
      "[[ 1362  3812]\n",
      " [    0 13996]]\n",
      "----------\n",
      "              precision    recall  f1-score   support\n",
      "\n",
      "           0       1.00      0.26      0.42      5174\n",
      "           1       0.79      1.00      0.88     13996\n",
      "\n",
      "    accuracy                           0.80     19170\n",
      "   macro avg       0.89      0.63      0.65     19170\n",
      "weighted avg       0.84      0.80      0.76     19170\n",
      "\n",
      "----------\n"
     ]
    }
   ],
   "source": [
    "## evaluating the model\n",
    "print(\"----------\")\n",
    "print('best parameters: ', grid_search_acc.best_params_)\n",
    "print(\"----------\")\n",
    "print(confusion_matrix(Y_test,y_predict))\n",
    "print(\"----------\")\n",
    "print(classification_report(Y_test, y_predict))\n",
    "print(\"----------\")\n"
   ]
  },
  {
   "cell_type": "code",
   "execution_count": 7,
   "metadata": {
    "collapsed": false,
    "pycharm": {
     "is_executing": false,
     "name": "#%%\n"
    }
   },
   "outputs": [
    {
     "data": {
      "text/plain": [
       "{'mean_fit_time': array([0.16605616, 0.17403519, 0.1924845 , 0.26329625, 0.24185359,\n",
       "        0.29720378, 0.32862139, 0.31964529, 0.3316139 , 0.34108758,\n",
       "        0.39344811, 0.4223696 , 0.43284297, 0.41888034, 0.54504097,\n",
       "        0.1855036 , 0.23387432, 0.26329589, 0.30418599, 0.38895929,\n",
       "        0.3829751 , 0.41638529, 0.4612658 , 0.51362467, 0.49168491,\n",
       "        0.53756273, 0.58443689, 0.58094621, 0.57845318, 0.59740174]),\n",
       " 'std_fit_time': array([0.02243924, 0.0074805 , 0.00199568, 0.00598419, 0.00149548,\n",
       "        0.03191495, 0.00947428, 0.01146877, 0.01047218, 0.00299263,\n",
       "        0.00149608, 0.04338372, 0.01097131, 0.01097047, 0.01645553,\n",
       "        0.0079788 , 0.0054872 , 0.004987  , 0.0029918 , 0.01396239,\n",
       "        0.01196861, 0.00149524, 0.02044582, 0.03390932, 0.00598431,\n",
       "        0.00598347, 0.02892208, 0.00349092, 0.00099766, 0.02493346]),\n",
       " 'mean_score_time': array([0.00997365, 0.00997376, 0.00997305, 0.01097035, 0.01047111,\n",
       "        0.01047206, 0.00997424, 0.01097071, 0.01246667, 0.01146865,\n",
       "        0.01246655, 0.01496112, 0.01196754, 0.01346362, 0.01595688,\n",
       "        0.00997293, 0.01047206, 0.00947487, 0.00897646, 0.01047242,\n",
       "        0.00947511, 0.00997353, 0.01196897, 0.01097107, 0.01146948,\n",
       "        0.01097023, 0.01246679, 0.00947511, 0.00847709, 0.00947523]),\n",
       " 'std_score_time': array([1.31130219e-06, 9.96828079e-04, 2.38418579e-07, 9.98020172e-04,\n",
       "        4.98771667e-04, 4.98771667e-04, 2.38418579e-07, 5.96046448e-07,\n",
       "        4.98056412e-04, 4.98533249e-04, 4.98652458e-04, 2.99251080e-03,\n",
       "        1.19209290e-07, 4.99129295e-04, 0.00000000e+00, 9.96708870e-04,\n",
       "        4.98294830e-04, 4.99367714e-04, 4.76837158e-07, 4.98652458e-04,\n",
       "        4.98652458e-04, 2.38418579e-07, 9.97424126e-04, 0.00000000e+00,\n",
       "        4.99129295e-04, 1.19209290e-07, 4.99129295e-04, 4.98652458e-04,\n",
       "        4.98652458e-04, 4.98771667e-04]),\n",
       " 'param_criterion': masked_array(data=['gini', 'gini', 'gini', 'gini', 'gini', 'gini', 'gini',\n",
       "                    'gini', 'gini', 'gini', 'gini', 'gini', 'gini', 'gini',\n",
       "                    'gini', 'entropy', 'entropy', 'entropy', 'entropy',\n",
       "                    'entropy', 'entropy', 'entropy', 'entropy', 'entropy',\n",
       "                    'entropy', 'entropy', 'entropy', 'entropy', 'entropy',\n",
       "                    'entropy'],\n",
       "              mask=[False, False, False, False, False, False, False, False,\n",
       "                    False, False, False, False, False, False, False, False,\n",
       "                    False, False, False, False, False, False, False, False,\n",
       "                    False, False, False, False, False, False],\n",
       "        fill_value='?',\n",
       "             dtype=object),\n",
       " 'param_max_depth': masked_array(data=[4, 5, 6, 7, 8, 9, 10, 11, 12, 13, 14, 15, 16, 17, None,\n",
       "                    4, 5, 6, 7, 8, 9, 10, 11, 12, 13, 14, 15, 16, 17, None],\n",
       "              mask=[False, False, False, False, False, False, False, False,\n",
       "                    False, False, False, False, False, False, False, False,\n",
       "                    False, False, False, False, False, False, False, False,\n",
       "                    False, False, False, False, False, False],\n",
       "        fill_value='?',\n",
       "             dtype=object),\n",
       " 'params': [{'criterion': 'gini', 'max_depth': 4},\n",
       "  {'criterion': 'gini', 'max_depth': 5},\n",
       "  {'criterion': 'gini', 'max_depth': 6},\n",
       "  {'criterion': 'gini', 'max_depth': 7},\n",
       "  {'criterion': 'gini', 'max_depth': 8},\n",
       "  {'criterion': 'gini', 'max_depth': 9},\n",
       "  {'criterion': 'gini', 'max_depth': 10},\n",
       "  {'criterion': 'gini', 'max_depth': 11},\n",
       "  {'criterion': 'gini', 'max_depth': 12},\n",
       "  {'criterion': 'gini', 'max_depth': 13},\n",
       "  {'criterion': 'gini', 'max_depth': 14},\n",
       "  {'criterion': 'gini', 'max_depth': 15},\n",
       "  {'criterion': 'gini', 'max_depth': 16},\n",
       "  {'criterion': 'gini', 'max_depth': 17},\n",
       "  {'criterion': 'gini', 'max_depth': None},\n",
       "  {'criterion': 'entropy', 'max_depth': 4},\n",
       "  {'criterion': 'entropy', 'max_depth': 5},\n",
       "  {'criterion': 'entropy', 'max_depth': 6},\n",
       "  {'criterion': 'entropy', 'max_depth': 7},\n",
       "  {'criterion': 'entropy', 'max_depth': 8},\n",
       "  {'criterion': 'entropy', 'max_depth': 9},\n",
       "  {'criterion': 'entropy', 'max_depth': 10},\n",
       "  {'criterion': 'entropy', 'max_depth': 11},\n",
       "  {'criterion': 'entropy', 'max_depth': 12},\n",
       "  {'criterion': 'entropy', 'max_depth': 13},\n",
       "  {'criterion': 'entropy', 'max_depth': 14},\n",
       "  {'criterion': 'entropy', 'max_depth': 15},\n",
       "  {'criterion': 'entropy', 'max_depth': 16},\n",
       "  {'criterion': 'entropy', 'max_depth': 17},\n",
       "  {'criterion': 'entropy', 'max_depth': None}],\n",
       " 'split0_test_score': array([0.80365766, 0.80365766, 0.80321052, 0.80115364, 0.80213736,\n",
       "        0.79900733, 0.7955643 , 0.79207655, 0.78657664, 0.78201574,\n",
       "        0.77414595, 0.76694688, 0.75885351, 0.75688607, 0.72102486,\n",
       "        0.80365766, 0.80365766, 0.80356823, 0.80186908, 0.80146664,\n",
       "        0.80016992, 0.79690574, 0.79189769, 0.79001967, 0.78532463,\n",
       "        0.77817027, 0.77423538, 0.76667859, 0.76122339, 0.72795564]),\n",
       " 'split1_test_score': array([0.8020838 , 0.80203908, 0.80136833, 0.80284398, 0.79779099,\n",
       "        0.79564459, 0.7922014 , 0.78933953, 0.7857622 , 0.77985959,\n",
       "        0.77140813, 0.76765193, 0.76139158, 0.75718821, 0.72530519,\n",
       "        0.80199437, 0.80199437, 0.80105531, 0.80007155, 0.80038456,\n",
       "        0.79238027, 0.79206725, 0.78665653, 0.78781917, 0.78191656,\n",
       "        0.77006663, 0.76876984, 0.76563967, 0.7608997 , 0.72915083]),\n",
       " 'mean_test_score': array([0.80287075, 0.80284839, 0.80228944, 0.80199879, 0.79996423,\n",
       "        0.797326  , 0.79388289, 0.79070807, 0.78616943, 0.78093769,\n",
       "        0.77277707, 0.76729939, 0.76012252, 0.75703714, 0.72316498,\n",
       "        0.80282603, 0.80282603, 0.8023118 , 0.80097033, 0.80092562,\n",
       "        0.79627518, 0.79448655, 0.78927717, 0.78891944, 0.78362063,\n",
       "        0.77411854, 0.77150267, 0.76615914, 0.76106155, 0.72855322]),\n",
       " 'std_test_score': array([0.00078693, 0.00080929, 0.00092109, 0.00084517, 0.00217318,\n",
       "        0.00168137, 0.00168145, 0.00136851, 0.00040722, 0.00107808,\n",
       "        0.00136891, 0.00035252, 0.00126903, 0.00015107, 0.00214017,\n",
       "        0.00083165, 0.00083165, 0.00125646, 0.00089876, 0.00054104,\n",
       "        0.00389482, 0.00241924, 0.00262058, 0.00110025, 0.00170404,\n",
       "        0.00405182, 0.00273277, 0.00051946, 0.00016185, 0.00059759]),\n",
       " 'rank_test_score': array([ 1,  2,  6,  7, 10, 11, 14, 15, 18, 20, 22, 24, 27, 28, 30,  3,  3,\n",
       "         5,  8,  9, 12, 13, 16, 17, 19, 21, 23, 25, 26, 29])}"
      ]
     },
     "execution_count": 7,
     "metadata": {},
     "output_type": "execute_result"
    }
   ],
   "source": [
    "grid_search_acc.cv_results_\n",
    "\n"
   ]
  }
 ],
 "metadata": {
  "kernelspec": {
   "display_name": "Python 3",
   "language": "python",
   "name": "python3"
  },
  "language_info": {
   "codemirror_mode": {
    "name": "ipython",
    "version": 3
   },
   "file_extension": ".py",
   "mimetype": "text/x-python",
   "name": "python",
   "nbconvert_exporter": "python",
   "pygments_lexer": "ipython3",
   "version": "3.7.4"
  },
  "pycharm": {
   "stem_cell": {
    "cell_type": "raw",
    "metadata": {
     "collapsed": false
    },
    "source": []
   }
  }
 },
 "nbformat": 4,
 "nbformat_minor": 1
}
