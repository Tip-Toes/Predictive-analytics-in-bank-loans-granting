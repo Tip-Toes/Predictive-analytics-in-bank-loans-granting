{
 "cells": [
  {
   "cell_type": "code",
   "execution_count": 1,
   "metadata": {
    "pycharm": {
     "is_executing": false
    }
   },
   "outputs": [],
   "source": [
    "from pylab import rcParams\n",
    "rcParams['figure.figsize'] = 10, 5\n",
    "import warnings\n",
    "warnings.filterwarnings('ignore')\n",
    "from sklearn.tree import DecisionTreeClassifier\n",
    "import pandas as pd\n",
    "from sklearn.model_selection import GridSearchCV, train_test_split\n",
    "from sklearn.metrics import confusion_matrix, classification_report, average_precision_score, accuracy_score\n",
    "import csv"
   ]
  },
  {
   "cell_type": "code",
   "execution_count": 99,
   "metadata": {
    "pycharm": {
     "is_executing": false,
     "name": "#%%\n"
    }
   },
   "outputs": [],
   "source": []
  },
  {
   "cell_type": "code",
   "execution_count": 2,
   "metadata": {
    "pycharm": {
     "is_executing": false,
     "name": "#%%\n"
    }
   },
   "outputs": [],
   "source": [
    "def get_algo_path():\n",
    "    import os\n",
    "    cwd = os.getcwd()\n",
    "    s='\\\\'\n",
    "    if '\\\\' not in cwd:\n",
    "        s='/'\n",
    "    cwd= cwd.split(s)[4:-1]\n",
    "    cwd.append('Not Normalized')\n",
    "    cwd='/'.join(cwd)\n",
    "    return cwd\n",
    "\n",
    "def get_csv_path():\n",
    "    import os\n",
    "    cwd = os.getcwd()\n",
    "    s=\"\\\\\"\n",
    "    if \"\\\\\" not in cwd:\n",
    "        s='/'\n",
    "    file= cwd.split(s)[:4]\n",
    "    file.append('models_scores.csv')\n",
    "    file= s.join(file)\n",
    "    return file\n",
    "\n",
    "def line_is_exist(file, row):\n",
    "    logfile = open(file, 'r')\n",
    "    loglist = logfile.readlines()\n",
    "    logfile.close()\n",
    "    for line in loglist:\n",
    "        if ','.join(row) in line:\n",
    "            return True\n",
    "    return False\n",
    "\n",
    "def write_new_score(file, line):\n",
    "    if( not line_is_exist(file, line) ):\n",
    "        with open(file, 'a') as f:\n",
    "            writer = csv.writer(f)\n",
    "            writer.writerow(line)\n",
    "    else:\n",
    "        print('line exsist already')\n",
    "    "
   ]
  },
  {
   "cell_type": "code",
   "execution_count": 3,
   "metadata": {
    "pycharm": {
     "is_executing": false,
     "name": "#%%\n"
    }
   },
   "outputs": [],
   "source": [
    "data= pd.read_csv('../data.csv')"
   ]
  },
  {
   "cell_type": "code",
   "execution_count": 4,
   "metadata": {
    "pycharm": {
     "is_executing": false,
     "name": "#%%\n"
    }
   },
   "outputs": [],
   "source": [
    "##copying data\n",
    "data1=data.copy()\n",
    "### spliting data en X et Y\n",
    "X= data1.drop('Loan Status', axis=1)\n",
    "Y= data1['Loan Status']\n",
    "### spliting the data to train and test\n",
    "X_train , X_test , Y_train , Y_test = train_test_split(X, Y, test_size = 0.30, random_state = 123)\n",
    "## dicision tree (CART)\n",
    "dct = DecisionTreeClassifier()\n",
    "params={'criterion' : ['gini', 'entropy'],\n",
    "        'max_depth': [4, 5, 6, 7, 8, 9, 10, 11, 12, 13,14, 15, 16, 17, None]}\n",
    "\n",
    "##accuracy\n",
    "grid_search_acc= GridSearchCV(estimator=dct, param_grid= params, scoring='accuracy',cv=2, n_jobs=-1)\n",
    "grid_search_acc= grid_search_acc.fit(X_train, Y_train)\n",
    "y_predict= grid_search_acc.best_estimator_.predict(X_test)\n"
   ]
  },
  {
   "cell_type": "code",
   "execution_count": 5,
   "metadata": {
    "pycharm": {
     "is_executing": false,
     "name": "#%%\n"
    }
   },
   "outputs": [],
   "source": [
    "## get avg precision & avg recall\n",
    "report= classification_report(Y_test, y_predict, output_dict=True)\n",
    "avg_list = report.pop(\"weighted avg\")\n",
    "avg_precision= round(avg_list['precision'], 3)\n",
    "avg_recall= round(avg_list['recall'], 3)\n",
    "accuraccy= round(accuracy_score(Y_test,y_predict), 3)\n",
    "## csv row\n",
    "csv_row = [get_algo_path(), 'Decision Tree', str(grid_search_acc.best_params_), str(accuraccy), str(avg_precision), str(avg_recall)]\n",
    "## write file\n",
    "csv_file= get_csv_path()\n",
    "write_new_score(csv_file, csv_row)"
   ]
  },
  {
   "cell_type": "code",
   "execution_count": 6,
   "metadata": {
    "pycharm": {
     "is_executing": false,
     "name": "#%%\n"
    }
   },
   "outputs": [
    {
     "name": "stdout",
     "output_type": "stream",
     "text": [
      "----------\n",
      "best parameters:  {'criterion': 'gini', 'max_depth': 12}\n",
      "----------\n",
      "[[11582  4452]\n",
      " [  583 15370]]\n",
      "----------\n",
      "              precision    recall  f1-score   support\n",
      "\n",
      "           0       0.95      0.72      0.82     16034\n",
      "           1       0.78      0.96      0.86     15953\n",
      "\n",
      "    accuracy                           0.84     31987\n",
      "   macro avg       0.86      0.84      0.84     31987\n",
      "weighted avg       0.86      0.84      0.84     31987\n",
      "\n",
      "----------\n"
     ]
    }
   ],
   "source": [
    "## evaluating the model\n",
    "print(\"----------\")\n",
    "print('best parameters: ', grid_search_acc.best_params_)\n",
    "print(\"----------\")\n",
    "print(confusion_matrix(Y_test,y_predict))\n",
    "print(\"----------\")\n",
    "print(classification_report(Y_test, y_predict))\n",
    "print(\"----------\")\n"
   ]
  },
  {
   "cell_type": "code",
   "execution_count": 7,
   "metadata": {
    "collapsed": false,
    "pycharm": {
     "is_executing": false,
     "name": "#%%\n"
    }
   },
   "outputs": [
    {
     "data": {
      "text/plain": [
       "{'mean_fit_time': array([0.27925217, 0.3460747 , 0.37998343, 0.46226251, 0.41289604,\n",
       "        0.45578063, 0.47822011, 0.53905833, 0.5226022 , 0.58344054,\n",
       "        0.62881875, 0.70212102, 0.72107279, 0.68716097, 0.82379603,\n",
       "        0.38147926, 0.42386532, 0.49019015, 0.60139191, 0.64677227,\n",
       "        0.67918432, 0.75348532, 0.77841842, 0.82280004, 0.90557647,\n",
       "        0.88962054, 0.96092892, 1.01628268, 0.9639219 , 0.97292829]),\n",
       " 'std_fit_time': array([2.99131870e-03, 2.39356756e-02, 9.97304916e-04, 1.54589415e-02,\n",
       "        3.98981571e-03, 9.97292995e-03, 1.74535513e-02, 4.48834896e-03,\n",
       "        8.97705555e-03, 3.59053612e-02, 3.74000072e-02, 1.19209290e-06,\n",
       "        1.99452639e-02, 1.39629841e-02, 3.69012356e-02, 2.54321098e-02,\n",
       "        5.98454475e-03, 8.47804546e-03, 4.98688221e-03, 2.84243822e-02,\n",
       "        3.29116583e-02, 1.94486380e-02, 8.47756863e-03, 2.59310007e-02,\n",
       "        4.38804626e-02, 1.99532509e-03, 1.44629478e-02, 8.97538662e-03,\n",
       "        1.04717016e-02, 6.33585453e-02]),\n",
       " 'mean_score_time': array([0.01645684, 0.01645672, 0.01894939, 0.01545882, 0.01595712,\n",
       "        0.01695585, 0.02293837, 0.01795232, 0.01745319, 0.0244348 ,\n",
       "        0.0204457 , 0.01845133, 0.02094352, 0.02094448, 0.02194154,\n",
       "        0.0304172 , 0.01645589, 0.01994669, 0.02044535, 0.01545656,\n",
       "        0.01795113, 0.01695466, 0.01645505, 0.0184505 , 0.01795185,\n",
       "        0.01894891, 0.02144301, 0.01645589, 0.01248479, 0.01396382]),\n",
       " 'std_score_time': array([1.49655342e-03, 1.49786472e-03, 3.98886204e-03, 4.97817993e-04,\n",
       "        9.97066498e-04, 1.43051147e-06, 1.99472904e-03, 1.99496746e-03,\n",
       "        4.98771667e-04, 6.48260117e-03, 1.49548054e-03, 4.98652458e-04,\n",
       "        9.97900963e-04, 1.19209290e-07, 9.96947289e-04, 1.64563656e-02,\n",
       "        4.99010086e-04, 3.98957729e-03, 2.49338150e-03, 4.99844551e-04,\n",
       "        5.96046448e-07, 9.97066498e-04, 4.97937202e-04, 4.99010086e-04,\n",
       "        5.96046448e-07, 1.19209290e-07, 3.49199772e-03, 4.98771667e-04,\n",
       "        4.80651855e-04, 1.93607807e-03]),\n",
       " 'param_criterion': masked_array(data=['gini', 'gini', 'gini', 'gini', 'gini', 'gini', 'gini',\n",
       "                    'gini', 'gini', 'gini', 'gini', 'gini', 'gini', 'gini',\n",
       "                    'gini', 'entropy', 'entropy', 'entropy', 'entropy',\n",
       "                    'entropy', 'entropy', 'entropy', 'entropy', 'entropy',\n",
       "                    'entropy', 'entropy', 'entropy', 'entropy', 'entropy',\n",
       "                    'entropy'],\n",
       "              mask=[False, False, False, False, False, False, False, False,\n",
       "                    False, False, False, False, False, False, False, False,\n",
       "                    False, False, False, False, False, False, False, False,\n",
       "                    False, False, False, False, False, False],\n",
       "        fill_value='?',\n",
       "             dtype=object),\n",
       " 'param_max_depth': masked_array(data=[4, 5, 6, 7, 8, 9, 10, 11, 12, 13, 14, 15, 16, 17, None,\n",
       "                    4, 5, 6, 7, 8, 9, 10, 11, 12, 13, 14, 15, 16, 17, None],\n",
       "              mask=[False, False, False, False, False, False, False, False,\n",
       "                    False, False, False, False, False, False, False, False,\n",
       "                    False, False, False, False, False, False, False, False,\n",
       "                    False, False, False, False, False, False],\n",
       "        fill_value='?',\n",
       "             dtype=object),\n",
       " 'params': [{'criterion': 'gini', 'max_depth': 4},\n",
       "  {'criterion': 'gini', 'max_depth': 5},\n",
       "  {'criterion': 'gini', 'max_depth': 6},\n",
       "  {'criterion': 'gini', 'max_depth': 7},\n",
       "  {'criterion': 'gini', 'max_depth': 8},\n",
       "  {'criterion': 'gini', 'max_depth': 9},\n",
       "  {'criterion': 'gini', 'max_depth': 10},\n",
       "  {'criterion': 'gini', 'max_depth': 11},\n",
       "  {'criterion': 'gini', 'max_depth': 12},\n",
       "  {'criterion': 'gini', 'max_depth': 13},\n",
       "  {'criterion': 'gini', 'max_depth': 14},\n",
       "  {'criterion': 'gini', 'max_depth': 15},\n",
       "  {'criterion': 'gini', 'max_depth': 16},\n",
       "  {'criterion': 'gini', 'max_depth': 17},\n",
       "  {'criterion': 'gini', 'max_depth': None},\n",
       "  {'criterion': 'entropy', 'max_depth': 4},\n",
       "  {'criterion': 'entropy', 'max_depth': 5},\n",
       "  {'criterion': 'entropy', 'max_depth': 6},\n",
       "  {'criterion': 'entropy', 'max_depth': 7},\n",
       "  {'criterion': 'entropy', 'max_depth': 8},\n",
       "  {'criterion': 'entropy', 'max_depth': 9},\n",
       "  {'criterion': 'entropy', 'max_depth': 10},\n",
       "  {'criterion': 'entropy', 'max_depth': 11},\n",
       "  {'criterion': 'entropy', 'max_depth': 12},\n",
       "  {'criterion': 'entropy', 'max_depth': 13},\n",
       "  {'criterion': 'entropy', 'max_depth': 14},\n",
       "  {'criterion': 'entropy', 'max_depth': 15},\n",
       "  {'criterion': 'entropy', 'max_depth': 16},\n",
       "  {'criterion': 'entropy', 'max_depth': 17},\n",
       "  {'criterion': 'entropy', 'max_depth': None}],\n",
       " 'split0_test_score': array([0.76207192, 0.8121282 , 0.81751434, 0.82043518, 0.82793826,\n",
       "        0.83712954, 0.84163138, 0.83892492, 0.84275685, 0.84243529,\n",
       "        0.83587009, 0.83160941, 0.82871537, 0.82686639, 0.80548261,\n",
       "        0.76215231, 0.8121014 , 0.81754113, 0.82290048, 0.82665202,\n",
       "        0.83522697, 0.84339997, 0.8423013 , 0.84366794, 0.84342676,\n",
       "        0.83881773, 0.83771906, 0.8341819 , 0.83187738, 0.80601854]),\n",
       " 'split1_test_score': array([0.76327143, 0.77039955, 0.81314146, 0.81244473, 0.82453037,\n",
       "        0.83763432, 0.84256505, 0.84052845, 0.84272584, 0.83771471,\n",
       "        0.83377549, 0.83074738, 0.82919313, 0.82619182, 0.80826433,\n",
       "        0.76327143, 0.77039955, 0.81314146, 0.81265911, 0.82152906,\n",
       "        0.83519576, 0.83760752, 0.83843825, 0.84170753, 0.84026047,\n",
       "        0.83779511, 0.83479379, 0.83179248, 0.83305196, 0.8054506 ]),\n",
       " 'mean_test_score': array([0.76267167, 0.79126415, 0.81532793, 0.81644001, 0.82623434,\n",
       "        0.83738193, 0.84209821, 0.83972667, 0.84274134, 0.84007503,\n",
       "        0.8348228 , 0.8311784 , 0.82895424, 0.82652911, 0.80687345,\n",
       "        0.76271186, 0.79125075, 0.81534133, 0.81777986, 0.82409057,\n",
       "        0.83521136, 0.84050379, 0.8403698 , 0.84268775, 0.84184364,\n",
       "        0.83830642, 0.83625645, 0.8329872 , 0.83246466, 0.80573457]),\n",
       " 'std_test_score': array([5.99754427e-04, 2.08643229e-02, 2.18643628e-03, 3.99522422e-03,\n",
       "        1.70394273e-03, 2.52393407e-04, 4.66833231e-04, 8.01764945e-04,\n",
       "        1.55055759e-05, 2.36028572e-03, 1.04729922e-03, 4.31015229e-04,\n",
       "        2.38881949e-04, 3.37287746e-04, 1.39086050e-03, 5.59559347e-04,\n",
       "        2.08509245e-02, 2.19983464e-03, 5.12068360e-03, 2.56147799e-03,\n",
       "        1.56064666e-05, 2.89622156e-03, 1.93152851e-03, 9.80201142e-04,\n",
       "        1.58314673e-03, 5.11310961e-04, 1.46263474e-03, 1.19470775e-03,\n",
       "        5.87291012e-04, 2.83972204e-04]),\n",
       " 'rank_test_score': array([30, 27, 24, 22, 19, 10,  3,  8,  1,  7, 13, 16, 17, 18, 25, 29, 28,\n",
       "        23, 21, 20, 12,  5,  6,  2,  4,  9, 11, 14, 15, 26])}"
      ]
     },
     "execution_count": 7,
     "metadata": {},
     "output_type": "execute_result"
    }
   ],
   "source": [
    "grid_search_acc.cv_results_\n",
    "\n"
   ]
  }
 ],
 "metadata": {
  "kernelspec": {
   "display_name": "Python 3",
   "language": "python",
   "name": "python3"
  },
  "language_info": {
   "codemirror_mode": {
    "name": "ipython",
    "version": 3
   },
   "file_extension": ".py",
   "mimetype": "text/x-python",
   "name": "python",
   "nbconvert_exporter": "python",
   "pygments_lexer": "ipython3",
   "version": "3.7.4"
  },
  "pycharm": {
   "stem_cell": {
    "cell_type": "raw",
    "metadata": {
     "collapsed": false
    },
    "source": []
   }
  }
 },
 "nbformat": 4,
 "nbformat_minor": 1
}
