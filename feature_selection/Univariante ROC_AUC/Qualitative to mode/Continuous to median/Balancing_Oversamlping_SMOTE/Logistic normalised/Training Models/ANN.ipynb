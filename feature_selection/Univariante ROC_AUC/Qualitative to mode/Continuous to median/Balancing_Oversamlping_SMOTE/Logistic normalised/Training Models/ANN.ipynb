{
 "cells": [
  {
   "cell_type": "code",
   "execution_count": 1,
   "metadata": {
    "pycharm": {
     "is_executing": false
    }
   },
   "outputs": [],
   "source": [
    "import warnings\n",
    "from plot_metric.functions import BinaryClassification\n",
    "from pylab import rcParams\n",
    "from tensorflow_core.python.keras.wrappers.scikit_learn import KerasClassifier\n",
    "rcParams['figure.figsize'] = 10, 5\n",
    "from sklearn.model_selection import GridSearchCV, train_test_split\n",
    "warnings.filterwarnings('ignore')\n",
    "import pandas as pd\n",
    "from sklearn.metrics import make_scorer, recall_score,precision_score, confusion_matrix,classification_report,accuracy_score\n",
    "import matplotlib.pyplot as plt\n",
    "import numpy as np\n",
    "\n",
    "\n",
    "import tensorflow as tf\n",
    "from sklearn.model_selection import train_test_split\n",
    "from tensorflow.keras.models import Sequential\n",
    "from tensorflow.keras.layers import Dense, Activation,Dropout"
   ]
  },
  {
   "cell_type": "code",
   "execution_count": null,
   "metadata": {
    "pycharm": {
     "is_executing": false,
     "name": "#%%\n"
    }
   },
   "outputs": [],
   "source": []
  },
  {
   "cell_type": "code",
   "execution_count": 2,
   "metadata": {
    "pycharm": {
     "is_executing": false,
     "name": "#%%\n"
    }
   },
   "outputs": [],
   "source": [
    "data= pd.read_csv('../logis_norm.csv')"
   ]
  },
  {
   "cell_type": "markdown",
   "metadata": {},
   "source": [
    "### split data en X et Y"
   ]
  },
  {
   "cell_type": "code",
   "execution_count": 3,
   "metadata": {
    "pycharm": {
     "is_executing": false,
     "name": "#%%\n"
    }
   },
   "outputs": [],
   "source": [
    "data1= data.copy()\n",
    "X= data1.drop('Loan Status', axis=1)\n",
    "Y= data1['Loan Status']"
   ]
  },
  {
   "cell_type": "code",
   "execution_count": 4,
   "metadata": {
    "pycharm": {
     "is_executing": false,
     "name": "#%%\n"
    }
   },
   "outputs": [],
   "source": [
    "X_train , X_test , Y_train , Y_test = train_test_split(X, Y, test_size = 0.30, random_state = 123)"
   ]
  },
  {
   "cell_type": "markdown",
   "metadata": {},
   "source": [
    "### Neural Network"
   ]
  },
  {
   "cell_type": "code",
   "execution_count": 5,
   "metadata": {
    "pycharm": {
     "is_executing": false,
     "name": "#%%\n"
    }
   },
   "outputs": [],
   "source": [
    "## ANN Model\n",
    "def create_model(optimizer):\n",
    "    model = Sequential()\n",
    "\t#Layer 1\n",
    "    model.add(Dense(20, activation='relu', input_dim=20))\n",
    "    model.add(Dropout(0.3))\n",
    "    #Layer 2\n",
    "    model.add(Dense(10, activation='relu'))\n",
    "    model.add(Dropout(0.3))\n",
    "    \n",
    "    # output layer\n",
    "    model.add(Dense(units=1,activation='sigmoid'))\n",
    "    model.compile(loss='binary_crossentropy', optimizer=optimizer, metrics=['accuracy'])\n",
    "    return model"
   ]
  },
  {
   "cell_type": "code",
   "execution_count": 6,
   "metadata": {
    "pycharm": {
     "is_executing": false,
     "name": "#%%\n"
    }
   },
   "outputs": [
    {
     "name": "stdout",
     "output_type": "stream",
     "text": [
      "Train on 71786 samples, validate on 30766 samples\n",
      "Epoch 1/400\n",
      "71786/71786 [==============================] - 5s 76us/sample - loss: 0.6176 - accuracy: 0.6619 - val_loss: 0.5247 - val_accuracy: 0.7556\n",
      "Epoch 2/400\n",
      "71786/71786 [==============================] - 2s 34us/sample - loss: 0.5379 - accuracy: 0.7469 - val_loss: 0.4974 - val_accuracy: 0.7631\n",
      "Epoch 3/400\n",
      "71786/71786 [==============================] - 3s 43us/sample - loss: 0.5206 - accuracy: 0.7588 - val_loss: 0.4925 - val_accuracy: 0.7687\n",
      "Epoch 4/400\n",
      "71786/71786 [==============================] - 3s 46us/sample - loss: 0.5163 - accuracy: 0.7625 - val_loss: 0.4916 - val_accuracy: 0.7687\n",
      "Epoch 5/400\n",
      "71786/71786 [==============================] - 2s 34us/sample - loss: 0.5136 - accuracy: 0.7647 - val_loss: 0.4914 - val_accuracy: 0.7687\n",
      "Epoch 6/400\n",
      "71786/71786 [==============================] - 4s 50us/sample - loss: 0.5131 - accuracy: 0.7652 - val_loss: 0.4912 - val_accuracy: 0.7687\n",
      "Epoch 7/400\n",
      "71786/71786 [==============================] - 3s 45us/sample - loss: 0.5103 - accuracy: 0.7659 - val_loss: 0.4905 - val_accuracy: 0.7687\n",
      "Epoch 8/400\n",
      "71786/71786 [==============================] - 2s 31us/sample - loss: 0.5091 - accuracy: 0.7668 - val_loss: 0.4903 - val_accuracy: 0.7687\n",
      "Epoch 9/400\n",
      "71786/71786 [==============================] - 3s 43us/sample - loss: 0.5075 - accuracy: 0.7690 - val_loss: 0.4903 - val_accuracy: 0.7687\n",
      "Epoch 10/400\n",
      "71786/71786 [==============================] - 3s 37us/sample - loss: 0.5089 - accuracy: 0.7669 - val_loss: 0.4905 - val_accuracy: 0.7687\n",
      "Epoch 11/400\n",
      "71786/71786 [==============================] - 3s 36us/sample - loss: 0.5069 - accuracy: 0.7679 - val_loss: 0.4901 - val_accuracy: 0.7687\n",
      "Epoch 12/400\n",
      "71786/71786 [==============================] - 3s 39us/sample - loss: 0.5088 - accuracy: 0.7671 - val_loss: 0.4900 - val_accuracy: 0.7687\n",
      "Epoch 13/400\n",
      "71786/71786 [==============================] - 3s 39us/sample - loss: 0.5069 - accuracy: 0.7675 - val_loss: 0.4907 - val_accuracy: 0.7687\n",
      "Epoch 14/400\n",
      "71786/71786 [==============================] - 3s 41us/sample - loss: 0.5063 - accuracy: 0.7694 - val_loss: 0.4904 - val_accuracy: 0.7686\n",
      "Epoch 15/400\n",
      "71786/71786 [==============================] - 3s 45us/sample - loss: 0.5076 - accuracy: 0.7672 - val_loss: 0.4902 - val_accuracy: 0.7687\n",
      "Epoch 16/400\n",
      "71786/71786 [==============================] - 3s 41us/sample - loss: 0.5069 - accuracy: 0.7677 - val_loss: 0.4907 - val_accuracy: 0.7687\n",
      "Epoch 17/400\n",
      "71786/71786 [==============================] - 3s 42us/sample - loss: 0.5067 - accuracy: 0.7691 - val_loss: 0.4898 - val_accuracy: 0.7687\n",
      "Epoch 18/400\n",
      "71786/71786 [==============================] - 3s 45us/sample - loss: 0.5062 - accuracy: 0.7677 - val_loss: 0.4897 - val_accuracy: 0.7687\n",
      "Epoch 19/400\n",
      "71786/71786 [==============================] - 3s 45us/sample - loss: 0.5063 - accuracy: 0.7679 - val_loss: 0.4897 - val_accuracy: 0.7687\n",
      "Epoch 20/400\n",
      "71786/71786 [==============================] - 3s 38us/sample - loss: 0.5065 - accuracy: 0.7693 - val_loss: 0.4907 - val_accuracy: 0.7687\n",
      "Epoch 21/400\n",
      "71786/71786 [==============================] - 3s 42us/sample - loss: 0.5062 - accuracy: 0.7674 - val_loss: 0.4899 - val_accuracy: 0.7687\n",
      "Epoch 22/400\n",
      "71786/71786 [==============================] - 3s 39us/sample - loss: 0.5053 - accuracy: 0.7673 - val_loss: 0.4897 - val_accuracy: 0.7687\n",
      "Epoch 23/400\n",
      "71786/71786 [==============================] - 3s 44us/sample - loss: 0.5056 - accuracy: 0.7689 - val_loss: 0.4902 - val_accuracy: 0.7647\n",
      "Epoch 24/400\n",
      "71786/71786 [==============================] - 3s 44us/sample - loss: 0.5072 - accuracy: 0.7695 - val_loss: 0.4901 - val_accuracy: 0.7647\n",
      "Epoch 25/400\n",
      "71786/71786 [==============================] - 2s 33us/sample - loss: 0.5056 - accuracy: 0.7682 - val_loss: 0.4897 - val_accuracy: 0.7647\n",
      "Epoch 26/400\n",
      "71786/71786 [==============================] - 1s 18us/sample - loss: 0.5055 - accuracy: 0.7684 - val_loss: 0.4896 - val_accuracy: 0.7687\n",
      "Epoch 27/400\n",
      "71786/71786 [==============================] - 2s 26us/sample - loss: 0.5048 - accuracy: 0.7673 - val_loss: 0.4900 - val_accuracy: 0.7687\n",
      "Epoch 28/400\n",
      "71786/71786 [==============================] - 3s 37us/sample - loss: 0.5058 - accuracy: 0.7687 - val_loss: 0.4896 - val_accuracy: 0.7687\n",
      "Epoch 29/400\n",
      "71786/71786 [==============================] - 2s 25us/sample - loss: 0.5066 - accuracy: 0.7685 - val_loss: 0.4902 - val_accuracy: 0.7686\n",
      "Epoch 30/400\n",
      "71786/71786 [==============================] - 2s 26us/sample - loss: 0.5059 - accuracy: 0.7683 - val_loss: 0.4903 - val_accuracy: 0.7687\n",
      "Epoch 31/400\n",
      "71786/71786 [==============================] - 2s 34us/sample - loss: 0.5050 - accuracy: 0.7689 - val_loss: 0.4903 - val_accuracy: 0.7686\n",
      "Epoch 32/400\n",
      "71786/71786 [==============================] - 2s 24us/sample - loss: 0.5061 - accuracy: 0.7680 - val_loss: 0.4898 - val_accuracy: 0.7687\n",
      "Epoch 33/400\n",
      "71786/71786 [==============================] - 2s 34us/sample - loss: 0.5061 - accuracy: 0.7662 - val_loss: 0.4912 - val_accuracy: 0.7647\n",
      "Epoch 34/400\n",
      "71786/71786 [==============================] - 2s 23us/sample - loss: 0.5043 - accuracy: 0.7691 - val_loss: 0.4901 - val_accuracy: 0.7647\n",
      "Epoch 35/400\n",
      "71786/71786 [==============================] - 2s 22us/sample - loss: 0.5051 - accuracy: 0.7677 - val_loss: 0.4900 - val_accuracy: 0.7687\n",
      "Epoch 36/400\n",
      "71786/71786 [==============================] - 2s 33us/sample - loss: 0.5061 - accuracy: 0.7680 - val_loss: 0.4919 - val_accuracy: 0.7686\n",
      "Epoch 37/400\n",
      "71786/71786 [==============================] - 2s 22us/sample - loss: 0.5037 - accuracy: 0.7688 - val_loss: 0.4899 - val_accuracy: 0.7686\n",
      "Epoch 38/400\n",
      "71786/71786 [==============================] - 2s 21us/sample - loss: 0.5071 - accuracy: 0.7677 - val_loss: 0.4900 - val_accuracy: 0.7686\n",
      "Epoch 39/400\n",
      "71786/71786 [==============================] - 3s 36us/sample - loss: 0.5040 - accuracy: 0.7680 - val_loss: 0.4901 - val_accuracy: 0.7684\n",
      "Epoch 40/400\n",
      "71786/71786 [==============================] - 2s 23us/sample - loss: 0.5056 - accuracy: 0.7674 - val_loss: 0.4895 - val_accuracy: 0.7687\n",
      "Epoch 41/400\n",
      "71786/71786 [==============================] - 2s 29us/sample - loss: 0.5048 - accuracy: 0.7672 - val_loss: 0.4898 - val_accuracy: 0.7686\n",
      "Epoch 42/400\n",
      "71786/71786 [==============================] - 3s 36us/sample - loss: 0.5051 - accuracy: 0.7680 - val_loss: 0.4901 - val_accuracy: 0.7686\n",
      "Epoch 43/400\n",
      "71786/71786 [==============================] - 2s 27us/sample - loss: 0.5045 - accuracy: 0.7684 - val_loss: 0.4902 - val_accuracy: 0.7687\n",
      "Epoch 44/400\n",
      "71786/71786 [==============================] - 3s 41us/sample - loss: 0.5042 - accuracy: 0.7680 - val_loss: 0.4910 - val_accuracy: 0.7687\n",
      "Epoch 45/400\n",
      "71786/71786 [==============================] - 2s 26us/sample - loss: 0.5051 - accuracy: 0.7681 - val_loss: 0.4903 - val_accuracy: 0.7687\n",
      "Epoch 46/400\n",
      "71786/71786 [==============================] - 2s 34us/sample - loss: 0.5049 - accuracy: 0.7685 - val_loss: 0.4904 - val_accuracy: 0.7647\n",
      "Epoch 47/400\n",
      "71786/71786 [==============================] - 2s 27us/sample - loss: 0.5057 - accuracy: 0.7687 - val_loss: 0.4896 - val_accuracy: 0.7687\n",
      "Epoch 48/400\n",
      "71786/71786 [==============================] - 2s 34us/sample - loss: 0.5056 - accuracy: 0.7687 - val_loss: 0.4902 - val_accuracy: 0.7687\n",
      "Epoch 49/400\n",
      "71786/71786 [==============================] - 1s 21us/sample - loss: 0.5045 - accuracy: 0.7675 - val_loss: 0.4894 - val_accuracy: 0.7687\n",
      "Epoch 50/400\n",
      "71786/71786 [==============================] - 2s 23us/sample - loss: 0.5045 - accuracy: 0.7693 - val_loss: 0.4896 - val_accuracy: 0.7687\n",
      "Epoch 51/400\n",
      "71786/71786 [==============================] - 2s 32us/sample - loss: 0.5047 - accuracy: 0.7668 - val_loss: 0.4901 - val_accuracy: 0.7682\n",
      "Epoch 52/400\n",
      "71786/71786 [==============================] - 2s 25us/sample - loss: 0.5051 - accuracy: 0.7671 - val_loss: 0.4906 - val_accuracy: 0.7687\n",
      "Epoch 53/400\n",
      "71786/71786 [==============================] - 2s 28us/sample - loss: 0.5046 - accuracy: 0.7683 - val_loss: 0.4898 - val_accuracy: 0.7687\n",
      "Epoch 54/400\n",
      "71786/71786 [==============================] - 2s 29us/sample - loss: 0.5046 - accuracy: 0.7683 - val_loss: 0.4901 - val_accuracy: 0.7687\n"
     ]
    },
    {
     "name": "stdout",
     "output_type": "stream",
     "text": [
      "Epoch 55/400\n",
      "71786/71786 [==============================] - 2s 21us/sample - loss: 0.5050 - accuracy: 0.7675 - val_loss: 0.4901 - val_accuracy: 0.7686\n",
      "Epoch 56/400\n",
      "71786/71786 [==============================] - 2s 25us/sample - loss: 0.5047 - accuracy: 0.7682 - val_loss: 0.4893 - val_accuracy: 0.7686\n",
      "Epoch 57/400\n",
      "71786/71786 [==============================] - 3s 35us/sample - loss: 0.5047 - accuracy: 0.7673 - val_loss: 0.4898 - val_accuracy: 0.7680\n",
      "Epoch 58/400\n",
      "71786/71786 [==============================] - 1s 19us/sample - loss: 0.5049 - accuracy: 0.7678 - val_loss: 0.4899 - val_accuracy: 0.7687\n",
      "Epoch 59/400\n",
      "71786/71786 [==============================] - 1s 21us/sample - loss: 0.5055 - accuracy: 0.7673 - val_loss: 0.4901 - val_accuracy: 0.7647\n",
      "Epoch 60/400\n",
      "71786/71786 [==============================] - 2s 32us/sample - loss: 0.5052 - accuracy: 0.7676 - val_loss: 0.4898 - val_accuracy: 0.7686\n",
      "Epoch 61/400\n",
      "71786/71786 [==============================] - 1s 21us/sample - loss: 0.5053 - accuracy: 0.7676 - val_loss: 0.4900 - val_accuracy: 0.7687\n",
      "Epoch 62/400\n",
      "71786/71786 [==============================] - 2s 23us/sample - loss: 0.5032 - accuracy: 0.7667 - val_loss: 0.4907 - val_accuracy: 0.7687\n",
      "Epoch 63/400\n",
      "71786/71786 [==============================] - 2s 27us/sample - loss: 0.5052 - accuracy: 0.7665 - val_loss: 0.4897 - val_accuracy: 0.7687\n",
      "Epoch 64/400\n",
      "71786/71786 [==============================] - 2s 29us/sample - loss: 0.5038 - accuracy: 0.7683 - val_loss: 0.4916 - val_accuracy: 0.7687\n",
      "Epoch 65/400\n",
      "71786/71786 [==============================] - 1s 19us/sample - loss: 0.5051 - accuracy: 0.7677 - val_loss: 0.4908 - val_accuracy: 0.7686\n",
      "Epoch 66/400\n",
      "71786/71786 [==============================] - 1s 21us/sample - loss: 0.5035 - accuracy: 0.7677 - val_loss: 0.4898 - val_accuracy: 0.7687\n",
      "Epoch 67/400\n",
      "71786/71786 [==============================] - 2s 32us/sample - loss: 0.5033 - accuracy: 0.7675 - val_loss: 0.4898 - val_accuracy: 0.7687\n",
      "Epoch 68/400\n",
      "71786/71786 [==============================] - 1s 20us/sample - loss: 0.5038 - accuracy: 0.7668 - val_loss: 0.4901 - val_accuracy: 0.7687\n",
      "Epoch 69/400\n",
      "71786/71786 [==============================] - 1s 20us/sample - loss: 0.5048 - accuracy: 0.7687 - val_loss: 0.4904 - val_accuracy: 0.7687\n",
      "Epoch 70/400\n",
      "71786/71786 [==============================] - 2s 28us/sample - loss: 0.5040 - accuracy: 0.7687 - val_loss: 0.4896 - val_accuracy: 0.7687\n",
      "Epoch 71/400\n",
      "71786/71786 [==============================] - 2s 29us/sample - loss: 0.5045 - accuracy: 0.7685 - val_loss: 0.4893 - val_accuracy: 0.7687\n",
      "Epoch 72/400\n",
      "71786/71786 [==============================] - 2s 34us/sample - loss: 0.5037 - accuracy: 0.7691 - val_loss: 0.4897 - val_accuracy: 0.7686\n",
      "Epoch 73/400\n",
      "71786/71786 [==============================] - 2s 27us/sample - loss: 0.5051 - accuracy: 0.7676 - val_loss: 0.4897 - val_accuracy: 0.7687\n",
      "Epoch 74/400\n",
      "71786/71786 [==============================] - 2s 26us/sample - loss: 0.5040 - accuracy: 0.7680 - val_loss: 0.4910 - val_accuracy: 0.7647\n",
      "Epoch 75/400\n",
      "71786/71786 [==============================] - 2s 31us/sample - loss: 0.5047 - accuracy: 0.7684 - val_loss: 0.4906 - val_accuracy: 0.7682\n",
      "Epoch 76/400\n",
      "71786/71786 [==============================] - 2s 24us/sample - loss: 0.5056 - accuracy: 0.7678 - val_loss: 0.4900 - val_accuracy: 0.7681\n",
      "Epoch 77/400\n",
      "71786/71786 [==============================] - 2s 33us/sample - loss: 0.5049 - accuracy: 0.7672 - val_loss: 0.4906 - val_accuracy: 0.7686\n",
      "Epoch 78/400\n",
      "71786/71786 [==============================] - 1s 21us/sample - loss: 0.5043 - accuracy: 0.7674 - val_loss: 0.4899 - val_accuracy: 0.7686\n",
      "Epoch 79/400\n",
      "71786/71786 [==============================] - 1s 21us/sample - loss: 0.5048 - accuracy: 0.7684 - val_loss: 0.4903 - val_accuracy: 0.7689\n",
      "Epoch 80/400\n",
      "71786/71786 [==============================] - 3s 36us/sample - loss: 0.5044 - accuracy: 0.7673 - val_loss: 0.4898 - val_accuracy: 0.7687\n",
      "Epoch 81/400\n",
      "71786/71786 [==============================] - 2s 23us/sample - loss: 0.5045 - accuracy: 0.7671 - val_loss: 0.4895 - val_accuracy: 0.7687\n",
      "Epoch 82/400\n",
      "71786/71786 [==============================] - 2s 24us/sample - loss: 0.5031 - accuracy: 0.7679 - val_loss: 0.4896 - val_accuracy: 0.7687\n",
      "Epoch 83/400\n",
      "71786/71786 [==============================] - 2s 33us/sample - loss: 0.5038 - accuracy: 0.7700 - val_loss: 0.4909 - val_accuracy: 0.7687\n",
      "Epoch 84/400\n",
      "71786/71786 [==============================] - 2s 21us/sample - loss: 0.5043 - accuracy: 0.7676 - val_loss: 0.4899 - val_accuracy: 0.7687\n",
      "Epoch 85/400\n",
      "71786/71786 [==============================] - 2s 26us/sample - loss: 0.5036 - accuracy: 0.7684 - val_loss: 0.4896 - val_accuracy: 0.7687\n",
      "Epoch 86/400\n",
      "71786/71786 [==============================] - 2s 31us/sample - loss: 0.5048 - accuracy: 0.7684 - val_loss: 0.4897 - val_accuracy: 0.7687\n",
      "Epoch 87/400\n",
      "71786/71786 [==============================] - 2s 23us/sample - loss: 0.5057 - accuracy: 0.7688 - val_loss: 0.4902 - val_accuracy: 0.7686\n",
      "Epoch 88/400\n",
      "71786/71786 [==============================] - 2s 33us/sample - loss: 0.5057 - accuracy: 0.7655 - val_loss: 0.4901 - val_accuracy: 0.7687\n",
      "Epoch 89/400\n",
      "71786/71786 [==============================] - 2s 26us/sample - loss: 0.5044 - accuracy: 0.7664 - val_loss: 0.4907 - val_accuracy: 0.7679\n",
      "Epoch 90/400\n",
      "71786/71786 [==============================] - 2s 33us/sample - loss: 0.5039 - accuracy: 0.7678 - val_loss: 0.4900 - val_accuracy: 0.7687\n",
      "Epoch 91/400\n",
      "71786/71786 [==============================] - 2s 25us/sample - loss: 0.5045 - accuracy: 0.7675 - val_loss: 0.4905 - val_accuracy: 0.7687\n",
      "Epoch 92/400\n",
      "71786/71786 [==============================] - 1s 20us/sample - loss: 0.5048 - accuracy: 0.7663 - val_loss: 0.4898 - val_accuracy: 0.7687\n",
      "Epoch 93/400\n",
      "71786/71786 [==============================] - 2s 27us/sample - loss: 0.5053 - accuracy: 0.7670 - val_loss: 0.4896 - val_accuracy: 0.7687\n",
      "Epoch 94/400\n",
      "71786/71786 [==============================] - 2s 28us/sample - loss: 0.5049 - accuracy: 0.7683 - val_loss: 0.4903 - val_accuracy: 0.7687\n",
      "Epoch 95/400\n",
      "71786/71786 [==============================] - 2s 30us/sample - loss: 0.5037 - accuracy: 0.7686 - val_loss: 0.4896 - val_accuracy: 0.7687\n",
      "Epoch 96/400\n",
      "71786/71786 [==============================] - 2s 33us/sample - loss: 0.5040 - accuracy: 0.7659 - val_loss: 0.4902 - val_accuracy: 0.7686\n",
      "Epoch 97/400\n",
      "71786/71786 [==============================] - 2s 23us/sample - loss: 0.5045 - accuracy: 0.7681 - val_loss: 0.4901 - val_accuracy: 0.7687\n",
      "Epoch 98/400\n",
      "71786/71786 [==============================] - 2s 22us/sample - loss: 0.5034 - accuracy: 0.7689 - val_loss: 0.4901 - val_accuracy: 0.7687\n",
      "Epoch 99/400\n",
      "71786/71786 [==============================] - 3s 36us/sample - loss: 0.5039 - accuracy: 0.7679 - val_loss: 0.4903 - val_accuracy: 0.7687\n",
      "Epoch 100/400\n",
      "71786/71786 [==============================] - 2s 23us/sample - loss: 0.5045 - accuracy: 0.7686 - val_loss: 0.4897 - val_accuracy: 0.7687\n",
      "Epoch 101/400\n",
      "71786/71786 [==============================] - 2s 31us/sample - loss: 0.5044 - accuracy: 0.7690 - val_loss: 0.4894 - val_accuracy: 0.7687\n",
      "Epoch 102/400\n",
      "71786/71786 [==============================] - 2s 25us/sample - loss: 0.5032 - accuracy: 0.7681 - val_loss: 0.4898 - val_accuracy: 0.7687\n",
      "Epoch 103/400\n",
      "71786/71786 [==============================] - 2s 28us/sample - loss: 0.5032 - accuracy: 0.7679 - val_loss: 0.4897 - val_accuracy: 0.7687\n",
      "Epoch 104/400\n",
      "71786/71786 [==============================] - 2s 26us/sample - loss: 0.5045 - accuracy: 0.7675 - val_loss: 0.4901 - val_accuracy: 0.7686\n",
      "Epoch 105/400\n",
      "71786/71786 [==============================] - 2s 26us/sample - loss: 0.5029 - accuracy: 0.7679 - val_loss: 0.4896 - val_accuracy: 0.7687\n",
      "Epoch 106/400\n",
      "71786/71786 [==============================] - 2s 31us/sample - loss: 0.5047 - accuracy: 0.7670 - val_loss: 0.4897 - val_accuracy: 0.7687\n"
     ]
    }
   ],
   "source": [
    "from tensorflow.keras.callbacks import EarlyStopping\n",
    "early_stop = EarlyStopping(monitor='val_loss', mode='min', patience=50)\n",
    "ANN = KerasClassifier(build_fn=create_model)\n",
    "\n",
    "params={'optimizer' : ['adam', 'rmsprop'],\n",
    "        'batch_size': [128, 256, 512, 800]}\n",
    "\n",
    "\n",
    "##accuracy\n",
    "grid_search_acc= GridSearchCV(estimator=ANN, param_grid= params, scoring='accuracy',cv=5, n_jobs=-1)\n",
    "grid_search_acc= grid_search_acc.fit(X_train, Y_train, epochs=400, validation_data=(X_test, Y_test), callbacks=[early_stop])\n",
    "y_predict= grid_search_acc.best_estimator_.predict(X_test)"
   ]
  },
  {
   "cell_type": "code",
   "execution_count": 7,
   "metadata": {
    "scrolled": true
   },
   "outputs": [
    {
     "name": "stdout",
     "output_type": "stream",
     "text": [
      "----------\n",
      "best parameters:  {'batch_size': 256, 'optimizer': 'adam'}\n",
      "----------\n",
      "[[10237  5122]\n",
      " [ 1993 13414]]\n",
      "----------\n",
      "              precision    recall  f1-score   support\n",
      "\n",
      "           0       0.84      0.67      0.74     15359\n",
      "           1       0.72      0.87      0.79     15407\n",
      "\n",
      "    accuracy                           0.77     30766\n",
      "   macro avg       0.78      0.77      0.77     30766\n",
      "weighted avg       0.78      0.77      0.77     30766\n",
      "\n",
      "----------\n"
     ]
    }
   ],
   "source": [
    "## evaluating the model\n",
    "print(\"----------\")\n",
    "print('best parameters: ', grid_search_acc.best_params_)\n",
    "print(\"----------\")\n",
    "print(confusion_matrix(Y_test,y_predict))\n",
    "print(\"----------\")\n",
    "print(classification_report(Y_test, y_predict))\n",
    "print(\"----------\")"
   ]
  },
  {
   "cell_type": "code",
   "execution_count": 8,
   "metadata": {},
   "outputs": [
    {
     "data": {
      "image/png": "[encoded data removed]",
      "text/plain": [
       "<Figure size 504x432 with 1 Axes>"
      ]
     },
     "metadata": {},
     "output_type": "display_data"
    }
   ],
   "source": [
    "##ROC\n",
    "y_predict_proba = grid_search_acc.best_estimator_.predict_proba(X_test)[:,1]\n",
    "\n",
    "# Visualisation with plot_metric\n",
    "bc = BinaryClassification(Y_test, y_predict_proba, labels=[1, 0])\n",
    "# Figures\n",
    "plt.figure(figsize=(7,6))\n",
    "bc.plot_roc_curve()\n",
    "plt.title('Neural Network')\n",
    "plt.show()"
   ]
  },
  {
   "cell_type": "code",
   "execution_count": 9,
   "metadata": {},
   "outputs": [
    {
     "ename": "PicklingError",
     "evalue": "Could not pickle the task to send it to the workers.",
     "output_type": "error",
     "traceback": [
      "\u001b[0;31m---------------------------------------------------------------------------\u001b[0m",
      "\u001b[0;31m_RemoteTraceback\u001b[0m                          Traceback (most recent call last)",
      "\u001b[0;31m_RemoteTraceback\u001b[0m: \n\"\"\"\nTraceback (most recent call last):\n  File \"/usr/local/lib/python3.5/dist-packages/joblib/externals/loky/backend/queues.py\", line 150, in _feed\n    obj_ = dumps(obj, reducers=reducers)\n  File \"/usr/local/lib/python3.5/dist-packages/joblib/externals/loky/backend/reduction.py\", line 247, in dumps\n    dump(obj, buf, reducers=reducers, protocol=protocol)\n  File \"/usr/local/lib/python3.5/dist-packages/joblib/externals/loky/backend/reduction.py\", line 240, in dump\n    _LokyPickler(file, reducers=reducers, protocol=protocol).dump(obj)\n  File \"/usr/local/lib/python3.5/dist-packages/joblib/externals/cloudpickle/cloudpickle.py\", line 482, in dump\n    return Pickler.dump(self, obj)\n  File \"/usr/lib/python3.5/pickle.py\", line 408, in dump\n    self.save(obj)\n  File \"/usr/lib/python3.5/pickle.py\", line 520, in save\n    self.save_reduce(obj=obj, *rv)\n  File \"/usr/lib/python3.5/pickle.py\", line 627, in save_reduce\n    save(state)\n  File \"/usr/lib/python3.5/pickle.py\", line 475, in save\n    f(self, obj) # Call unbound method with explicit self\n  File \"/usr/lib/python3.5/pickle.py\", line 814, in save_dict\n    self._batch_setitems(obj.items())\n  File \"/usr/lib/python3.5/pickle.py\", line 840, in _batch_setitems\n    save(v)\n  File \"/usr/lib/python3.5/pickle.py\", line 520, in save\n    self.save_reduce(obj=obj, *rv)\n  File \"/usr/lib/python3.5/pickle.py\", line 627, in save_reduce\n    save(state)\n  File \"/usr/lib/python3.5/pickle.py\", line 475, in save\n    f(self, obj) # Call unbound method with explicit self\n  File \"/usr/lib/python3.5/pickle.py\", line 814, in save_dict\n    self._batch_setitems(obj.items())\n  File \"/usr/lib/python3.5/pickle.py\", line 845, in _batch_setitems\n    save(v)\n  File \"/usr/lib/python3.5/pickle.py\", line 520, in save\n    self.save_reduce(obj=obj, *rv)\n  File \"/usr/lib/python3.5/pickle.py\", line 627, in save_reduce\n    save(state)\n  File \"/usr/lib/python3.5/pickle.py\", line 475, in save\n    f(self, obj) # Call unbound method with explicit self\n  File \"/usr/lib/python3.5/pickle.py\", line 814, in save_dict\n    self._batch_setitems(obj.items())\n  File \"/usr/lib/python3.5/pickle.py\", line 840, in _batch_setitems\n    save(v)\n  File \"/usr/lib/python3.5/pickle.py\", line 475, in save\n    f(self, obj) # Call unbound method with explicit self\n  File \"/usr/lib/python3.5/pickle.py\", line 774, in save_list\n    self._batch_appends(obj)\n  File \"/usr/lib/python3.5/pickle.py\", line 801, in _batch_appends\n    save(tmp[0])\n  File \"/usr/lib/python3.5/pickle.py\", line 475, in save\n    f(self, obj) # Call unbound method with explicit self\n  File \"/usr/lib/python3.5/pickle.py\", line 729, in save_tuple\n    save(element)\n  File \"/usr/lib/python3.5/pickle.py\", line 475, in save\n    f(self, obj) # Call unbound method with explicit self\n  File \"/usr/lib/python3.5/pickle.py\", line 814, in save_dict\n    self._batch_setitems(obj.items())\n  File \"/usr/lib/python3.5/pickle.py\", line 840, in _batch_setitems\n    save(v)\n  File \"/usr/lib/python3.5/pickle.py\", line 475, in save\n    f(self, obj) # Call unbound method with explicit self\n  File \"/usr/lib/python3.5/pickle.py\", line 814, in save_dict\n    self._batch_setitems(obj.items())\n  File \"/usr/lib/python3.5/pickle.py\", line 840, in _batch_setitems\n    save(v)\n  File \"/usr/lib/python3.5/pickle.py\", line 475, in save\n    f(self, obj) # Call unbound method with explicit self\n  File \"/usr/lib/python3.5/pickle.py\", line 774, in save_list\n    self._batch_appends(obj)\n  File \"/usr/lib/python3.5/pickle.py\", line 801, in _batch_appends\n    save(tmp[0])\n  File \"/usr/lib/python3.5/pickle.py\", line 520, in save\n    self.save_reduce(obj=obj, *rv)\n  File \"/usr/lib/python3.5/pickle.py\", line 627, in save_reduce\n    save(state)\n  File \"/usr/lib/python3.5/pickle.py\", line 475, in save\n    f(self, obj) # Call unbound method with explicit self\n  File \"/usr/lib/python3.5/pickle.py\", line 814, in save_dict\n    self._batch_setitems(obj.items())\n  File \"/usr/lib/python3.5/pickle.py\", line 840, in _batch_setitems\n    save(v)\n  File \"/usr/lib/python3.5/pickle.py\", line 520, in save\n    self.save_reduce(obj=obj, *rv)\n  File \"/usr/lib/python3.5/pickle.py\", line 627, in save_reduce\n    save(state)\n  File \"/usr/lib/python3.5/pickle.py\", line 475, in save\n    f(self, obj) # Call unbound method with explicit self\n  File \"/usr/lib/python3.5/pickle.py\", line 814, in save_dict\n    self._batch_setitems(obj.items())\n  File \"/usr/lib/python3.5/pickle.py\", line 840, in _batch_setitems\n    save(v)\n  File \"/usr/lib/python3.5/pickle.py\", line 475, in save\n    f(self, obj) # Call unbound method with explicit self\n  File \"/usr/lib/python3.5/pickle.py\", line 774, in save_list\n    self._batch_appends(obj)\n  File \"/usr/lib/python3.5/pickle.py\", line 801, in _batch_appends\n    save(tmp[0])\n  File \"/usr/lib/python3.5/pickle.py\", line 520, in save\n    self.save_reduce(obj=obj, *rv)\n  File \"/usr/lib/python3.5/pickle.py\", line 627, in save_reduce\n    save(state)\n  File \"/usr/lib/python3.5/pickle.py\", line 475, in save\n    f(self, obj) # Call unbound method with explicit self\n  File \"/usr/lib/python3.5/pickle.py\", line 814, in save_dict\n    self._batch_setitems(obj.items())\n  File \"/usr/lib/python3.5/pickle.py\", line 840, in _batch_setitems\n    save(v)\n  File \"/usr/lib/python3.5/pickle.py\", line 475, in save\n    f(self, obj) # Call unbound method with explicit self\n  File \"/usr/lib/python3.5/pickle.py\", line 774, in save_list\n    self._batch_appends(obj)\n  File \"/usr/lib/python3.5/pickle.py\", line 801, in _batch_appends\n    save(tmp[0])\n  File \"/usr/lib/python3.5/pickle.py\", line 520, in save\n    self.save_reduce(obj=obj, *rv)\n  File \"/usr/lib/python3.5/pickle.py\", line 627, in save_reduce\n    save(state)\n  File \"/usr/lib/python3.5/pickle.py\", line 475, in save\n    f(self, obj) # Call unbound method with explicit self\n  File \"/usr/lib/python3.5/pickle.py\", line 814, in save_dict\n    self._batch_setitems(obj.items())\n  File \"/usr/lib/python3.5/pickle.py\", line 840, in _batch_setitems\n    save(v)\n  File \"/usr/lib/python3.5/pickle.py\", line 475, in save\n    f(self, obj) # Call unbound method with explicit self\n  File \"/usr/lib/python3.5/pickle.py\", line 774, in save_list\n    self._batch_appends(obj)\n  File \"/usr/lib/python3.5/pickle.py\", line 801, in _batch_appends\n    save(tmp[0])\n  File \"/usr/lib/python3.5/pickle.py\", line 520, in save\n    self.save_reduce(obj=obj, *rv)\n  File \"/usr/lib/python3.5/pickle.py\", line 627, in save_reduce\n    save(state)\n  File \"/usr/lib/python3.5/pickle.py\", line 475, in save\n    f(self, obj) # Call unbound method with explicit self\n  File \"/usr/lib/python3.5/pickle.py\", line 814, in save_dict\n    self._batch_setitems(obj.items())\n  File \"/usr/lib/python3.5/pickle.py\", line 840, in _batch_setitems\n    save(v)\n  File \"/usr/lib/python3.5/pickle.py\", line 520, in save\n    self.save_reduce(obj=obj, *rv)\n  File \"/usr/lib/python3.5/pickle.py\", line 627, in save_reduce\n    save(state)\n  File \"/usr/lib/python3.5/pickle.py\", line 475, in save\n    f(self, obj) # Call unbound method with explicit self\n  File \"/usr/lib/python3.5/pickle.py\", line 814, in save_dict\n    self._batch_setitems(obj.items())\n  File \"/usr/lib/python3.5/pickle.py\", line 845, in _batch_setitems\n    save(v)\n  File \"/usr/lib/python3.5/pickle.py\", line 495, in save\n    rv = reduce(self.proto)\nTypeError: can't pickle SwigPyObject objects\n\"\"\"",
      "\nThe above exception was the direct cause of the following exception:\n",
      "\u001b[0;31mPicklingError\u001b[0m                             Traceback (most recent call last)",
      "\u001b[0;32m<ipython-input-9-75681ef60cb4>\u001b[0m in \u001b[0;36m<module>\u001b[0;34m\u001b[0m\n\u001b[1;32m      2\u001b[0m \u001b[0mrec_avg\u001b[0m\u001b[0;34m=\u001b[0m\u001b[0mmake_scorer\u001b[0m\u001b[0;34m(\u001b[0m\u001b[0mrecall_score\u001b[0m\u001b[0;34m,\u001b[0m \u001b[0maverage\u001b[0m\u001b[0;34m=\u001b[0m\u001b[0;34m'macro'\u001b[0m\u001b[0;34m)\u001b[0m\u001b[0;34m\u001b[0m\u001b[0m\n\u001b[1;32m      3\u001b[0m \u001b[0mgrid_search_rec\u001b[0m\u001b[0;34m=\u001b[0m \u001b[0mGridSearchCV\u001b[0m\u001b[0;34m(\u001b[0m\u001b[0mestimator\u001b[0m\u001b[0;34m=\u001b[0m\u001b[0mANN\u001b[0m\u001b[0;34m,\u001b[0m \u001b[0mparam_grid\u001b[0m\u001b[0;34m=\u001b[0m \u001b[0mparams\u001b[0m\u001b[0;34m,\u001b[0m \u001b[0mscoring\u001b[0m\u001b[0;34m=\u001b[0m\u001b[0mrec_avg\u001b[0m\u001b[0;34m,\u001b[0m\u001b[0mcv\u001b[0m\u001b[0;34m=\u001b[0m\u001b[0;36m5\u001b[0m\u001b[0;34m,\u001b[0m \u001b[0mn_jobs\u001b[0m\u001b[0;34m=\u001b[0m\u001b[0;34m-\u001b[0m\u001b[0;36m1\u001b[0m\u001b[0;34m)\u001b[0m\u001b[0;34m\u001b[0m\u001b[0m\n\u001b[0;32m----> 4\u001b[0;31m \u001b[0mgrid_search_rec\u001b[0m\u001b[0;34m=\u001b[0m \u001b[0mgrid_search_rec\u001b[0m\u001b[0;34m.\u001b[0m\u001b[0mfit\u001b[0m\u001b[0;34m(\u001b[0m\u001b[0mX_train\u001b[0m\u001b[0;34m,\u001b[0m \u001b[0mY_train\u001b[0m\u001b[0;34m,\u001b[0m \u001b[0mepochs\u001b[0m\u001b[0;34m=\u001b[0m\u001b[0;36m400\u001b[0m\u001b[0;34m,\u001b[0m \u001b[0mvalidation_data\u001b[0m\u001b[0;34m=\u001b[0m\u001b[0;34m(\u001b[0m\u001b[0mX_test\u001b[0m\u001b[0;34m,\u001b[0m \u001b[0mY_test\u001b[0m\u001b[0;34m)\u001b[0m\u001b[0;34m,\u001b[0m \u001b[0mcallbacks\u001b[0m\u001b[0;34m=\u001b[0m\u001b[0;34m[\u001b[0m\u001b[0mearly_stop\u001b[0m\u001b[0;34m]\u001b[0m\u001b[0;34m)\u001b[0m\u001b[0;34m\u001b[0m\u001b[0m\n\u001b[0m\u001b[1;32m      5\u001b[0m \u001b[0my_predict\u001b[0m\u001b[0;34m=\u001b[0m \u001b[0mgrid_search_rec\u001b[0m\u001b[0;34m.\u001b[0m\u001b[0mbest_estimator_\u001b[0m\u001b[0;34m.\u001b[0m\u001b[0mpredict\u001b[0m\u001b[0;34m(\u001b[0m\u001b[0mX_test\u001b[0m\u001b[0;34m)\u001b[0m\u001b[0;34m\u001b[0m\u001b[0m\n",
      "\u001b[0;32m/usr/local/lib/python3.5/dist-packages/sklearn/model_selection/_search.py\u001b[0m in \u001b[0;36mfit\u001b[0;34m(self, X, y, groups, **fit_params)\u001b[0m\n\u001b[1;32m    708\u001b[0m                 \u001b[0;32mreturn\u001b[0m \u001b[0mresults\u001b[0m\u001b[0;34m\u001b[0m\u001b[0m\n\u001b[1;32m    709\u001b[0m \u001b[0;34m\u001b[0m\u001b[0m\n\u001b[0;32m--> 710\u001b[0;31m             \u001b[0mself\u001b[0m\u001b[0;34m.\u001b[0m\u001b[0m_run_search\u001b[0m\u001b[0;34m(\u001b[0m\u001b[0mevaluate_candidates\u001b[0m\u001b[0;34m)\u001b[0m\u001b[0;34m\u001b[0m\u001b[0m\n\u001b[0m\u001b[1;32m    711\u001b[0m \u001b[0;34m\u001b[0m\u001b[0m\n\u001b[1;32m    712\u001b[0m         \u001b[0;31m# For multi-metric evaluation, store the best_index_, best_params_ and\u001b[0m\u001b[0;34m\u001b[0m\u001b[0;34m\u001b[0m\u001b[0m\n",
      "\u001b[0;32m/usr/local/lib/python3.5/dist-packages/sklearn/model_selection/_search.py\u001b[0m in \u001b[0;36m_run_search\u001b[0;34m(self, evaluate_candidates)\u001b[0m\n\u001b[1;32m   1149\u001b[0m     \u001b[0;32mdef\u001b[0m \u001b[0m_run_search\u001b[0m\u001b[0;34m(\u001b[0m\u001b[0mself\u001b[0m\u001b[0;34m,\u001b[0m \u001b[0mevaluate_candidates\u001b[0m\u001b[0;34m)\u001b[0m\u001b[0;34m:\u001b[0m\u001b[0;34m\u001b[0m\u001b[0m\n\u001b[1;32m   1150\u001b[0m         \u001b[0;34m\"\"\"Search all candidates in param_grid\"\"\"\u001b[0m\u001b[0;34m\u001b[0m\u001b[0m\n\u001b[0;32m-> 1151\u001b[0;31m         \u001b[0mevaluate_candidates\u001b[0m\u001b[0;34m(\u001b[0m\u001b[0mParameterGrid\u001b[0m\u001b[0;34m(\u001b[0m\u001b[0mself\u001b[0m\u001b[0;34m.\u001b[0m\u001b[0mparam_grid\u001b[0m\u001b[0;34m)\u001b[0m\u001b[0;34m)\u001b[0m\u001b[0;34m\u001b[0m\u001b[0m\n\u001b[0m\u001b[1;32m   1152\u001b[0m \u001b[0;34m\u001b[0m\u001b[0m\n\u001b[1;32m   1153\u001b[0m \u001b[0;34m\u001b[0m\u001b[0m\n",
      "\u001b[0;32m/usr/local/lib/python3.5/dist-packages/sklearn/model_selection/_search.py\u001b[0m in \u001b[0;36mevaluate_candidates\u001b[0;34m(candidate_params)\u001b[0m\n\u001b[1;32m    687\u001b[0m                                \u001b[0;32mfor\u001b[0m \u001b[0mparameters\u001b[0m\u001b[0;34m,\u001b[0m \u001b[0;34m(\u001b[0m\u001b[0mtrain\u001b[0m\u001b[0;34m,\u001b[0m \u001b[0mtest\u001b[0m\u001b[0;34m)\u001b[0m\u001b[0;34m\u001b[0m\u001b[0m\n\u001b[1;32m    688\u001b[0m                                in product(candidate_params,\n\u001b[0;32m--> 689\u001b[0;31m                                           cv.split(X, y, groups)))\n\u001b[0m\u001b[1;32m    690\u001b[0m \u001b[0;34m\u001b[0m\u001b[0m\n\u001b[1;32m    691\u001b[0m                 \u001b[0;32mif\u001b[0m \u001b[0mlen\u001b[0m\u001b[0;34m(\u001b[0m\u001b[0mout\u001b[0m\u001b[0;34m)\u001b[0m \u001b[0;34m<\u001b[0m \u001b[0;36m1\u001b[0m\u001b[0;34m:\u001b[0m\u001b[0;34m\u001b[0m\u001b[0m\n",
      "\u001b[0;32m/usr/local/lib/python3.5/dist-packages/joblib/parallel.py\u001b[0m in \u001b[0;36m__call__\u001b[0;34m(self, iterable)\u001b[0m\n\u001b[1;32m   1015\u001b[0m \u001b[0;34m\u001b[0m\u001b[0m\n\u001b[1;32m   1016\u001b[0m             \u001b[0;32mwith\u001b[0m \u001b[0mself\u001b[0m\u001b[0;34m.\u001b[0m\u001b[0m_backend\u001b[0m\u001b[0;34m.\u001b[0m\u001b[0mretrieval_context\u001b[0m\u001b[0;34m(\u001b[0m\u001b[0;34m)\u001b[0m\u001b[0;34m:\u001b[0m\u001b[0;34m\u001b[0m\u001b[0m\n\u001b[0;32m-> 1017\u001b[0;31m                 \u001b[0mself\u001b[0m\u001b[0;34m.\u001b[0m\u001b[0mretrieve\u001b[0m\u001b[0;34m(\u001b[0m\u001b[0;34m)\u001b[0m\u001b[0;34m\u001b[0m\u001b[0m\n\u001b[0m\u001b[1;32m   1018\u001b[0m             \u001b[0;31m# Make sure that we get a last message telling us we are done\u001b[0m\u001b[0;34m\u001b[0m\u001b[0;34m\u001b[0m\u001b[0m\n\u001b[1;32m   1019\u001b[0m             \u001b[0melapsed_time\u001b[0m \u001b[0;34m=\u001b[0m \u001b[0mtime\u001b[0m\u001b[0;34m.\u001b[0m\u001b[0mtime\u001b[0m\u001b[0;34m(\u001b[0m\u001b[0;34m)\u001b[0m \u001b[0;34m-\u001b[0m \u001b[0mself\u001b[0m\u001b[0;34m.\u001b[0m\u001b[0m_start_time\u001b[0m\u001b[0;34m\u001b[0m\u001b[0m\n",
      "\u001b[0;32m/usr/local/lib/python3.5/dist-packages/joblib/parallel.py\u001b[0m in \u001b[0;36mretrieve\u001b[0;34m(self)\u001b[0m\n\u001b[1;32m    907\u001b[0m             \u001b[0;32mtry\u001b[0m\u001b[0;34m:\u001b[0m\u001b[0;34m\u001b[0m\u001b[0m\n\u001b[1;32m    908\u001b[0m                 \u001b[0;32mif\u001b[0m \u001b[0mgetattr\u001b[0m\u001b[0;34m(\u001b[0m\u001b[0mself\u001b[0m\u001b[0;34m.\u001b[0m\u001b[0m_backend\u001b[0m\u001b[0;34m,\u001b[0m \u001b[0;34m'supports_timeout'\u001b[0m\u001b[0;34m,\u001b[0m \u001b[0;32mFalse\u001b[0m\u001b[0;34m)\u001b[0m\u001b[0;34m:\u001b[0m\u001b[0;34m\u001b[0m\u001b[0m\n\u001b[0;32m--> 909\u001b[0;31m                     \u001b[0mself\u001b[0m\u001b[0;34m.\u001b[0m\u001b[0m_output\u001b[0m\u001b[0;34m.\u001b[0m\u001b[0mextend\u001b[0m\u001b[0;34m(\u001b[0m\u001b[0mjob\u001b[0m\u001b[0;34m.\u001b[0m\u001b[0mget\u001b[0m\u001b[0;34m(\u001b[0m\u001b[0mtimeout\u001b[0m\u001b[0;34m=\u001b[0m\u001b[0mself\u001b[0m\u001b[0;34m.\u001b[0m\u001b[0mtimeout\u001b[0m\u001b[0;34m)\u001b[0m\u001b[0;34m)\u001b[0m\u001b[0;34m\u001b[0m\u001b[0m\n\u001b[0m\u001b[1;32m    910\u001b[0m                 \u001b[0;32melse\u001b[0m\u001b[0;34m:\u001b[0m\u001b[0;34m\u001b[0m\u001b[0m\n\u001b[1;32m    911\u001b[0m                     \u001b[0mself\u001b[0m\u001b[0;34m.\u001b[0m\u001b[0m_output\u001b[0m\u001b[0;34m.\u001b[0m\u001b[0mextend\u001b[0m\u001b[0;34m(\u001b[0m\u001b[0mjob\u001b[0m\u001b[0;34m.\u001b[0m\u001b[0mget\u001b[0m\u001b[0;34m(\u001b[0m\u001b[0;34m)\u001b[0m\u001b[0;34m)\u001b[0m\u001b[0;34m\u001b[0m\u001b[0m\n",
      "\u001b[0;32m/usr/local/lib/python3.5/dist-packages/joblib/_parallel_backends.py\u001b[0m in \u001b[0;36mwrap_future_result\u001b[0;34m(future, timeout)\u001b[0m\n\u001b[1;32m    560\u001b[0m         AsyncResults.get from multiprocessing.\"\"\"\n\u001b[1;32m    561\u001b[0m         \u001b[0;32mtry\u001b[0m\u001b[0;34m:\u001b[0m\u001b[0;34m\u001b[0m\u001b[0m\n\u001b[0;32m--> 562\u001b[0;31m             \u001b[0;32mreturn\u001b[0m \u001b[0mfuture\u001b[0m\u001b[0;34m.\u001b[0m\u001b[0mresult\u001b[0m\u001b[0;34m(\u001b[0m\u001b[0mtimeout\u001b[0m\u001b[0;34m=\u001b[0m\u001b[0mtimeout\u001b[0m\u001b[0;34m)\u001b[0m\u001b[0;34m\u001b[0m\u001b[0m\n\u001b[0m\u001b[1;32m    563\u001b[0m         \u001b[0;32mexcept\u001b[0m \u001b[0mLokyTimeoutError\u001b[0m\u001b[0;34m:\u001b[0m\u001b[0;34m\u001b[0m\u001b[0m\n\u001b[1;32m    564\u001b[0m             \u001b[0;32mraise\u001b[0m \u001b[0mTimeoutError\u001b[0m\u001b[0;34m(\u001b[0m\u001b[0;34m)\u001b[0m\u001b[0;34m\u001b[0m\u001b[0m\n",
      "\u001b[0;32m/usr/lib/python3.5/concurrent/futures/_base.py\u001b[0m in \u001b[0;36mresult\u001b[0;34m(self, timeout)\u001b[0m\n\u001b[1;32m    396\u001b[0m                 \u001b[0;32mraise\u001b[0m \u001b[0mCancelledError\u001b[0m\u001b[0;34m(\u001b[0m\u001b[0;34m)\u001b[0m\u001b[0;34m\u001b[0m\u001b[0m\n\u001b[1;32m    397\u001b[0m             \u001b[0;32melif\u001b[0m \u001b[0mself\u001b[0m\u001b[0;34m.\u001b[0m\u001b[0m_state\u001b[0m \u001b[0;34m==\u001b[0m \u001b[0mFINISHED\u001b[0m\u001b[0;34m:\u001b[0m\u001b[0;34m\u001b[0m\u001b[0m\n\u001b[0;32m--> 398\u001b[0;31m                 \u001b[0;32mreturn\u001b[0m \u001b[0mself\u001b[0m\u001b[0;34m.\u001b[0m\u001b[0m__get_result\u001b[0m\u001b[0;34m(\u001b[0m\u001b[0;34m)\u001b[0m\u001b[0;34m\u001b[0m\u001b[0m\n\u001b[0m\u001b[1;32m    399\u001b[0m \u001b[0;34m\u001b[0m\u001b[0m\n\u001b[1;32m    400\u001b[0m             \u001b[0mself\u001b[0m\u001b[0;34m.\u001b[0m\u001b[0m_condition\u001b[0m\u001b[0;34m.\u001b[0m\u001b[0mwait\u001b[0m\u001b[0;34m(\u001b[0m\u001b[0mtimeout\u001b[0m\u001b[0;34m)\u001b[0m\u001b[0;34m\u001b[0m\u001b[0m\n",
      "\u001b[0;32m/usr/lib/python3.5/concurrent/futures/_base.py\u001b[0m in \u001b[0;36m__get_result\u001b[0;34m(self)\u001b[0m\n\u001b[1;32m    355\u001b[0m     \u001b[0;32mdef\u001b[0m \u001b[0m__get_result\u001b[0m\u001b[0;34m(\u001b[0m\u001b[0mself\u001b[0m\u001b[0;34m)\u001b[0m\u001b[0;34m:\u001b[0m\u001b[0;34m\u001b[0m\u001b[0m\n\u001b[1;32m    356\u001b[0m         \u001b[0;32mif\u001b[0m \u001b[0mself\u001b[0m\u001b[0;34m.\u001b[0m\u001b[0m_exception\u001b[0m\u001b[0;34m:\u001b[0m\u001b[0;34m\u001b[0m\u001b[0m\n\u001b[0;32m--> 357\u001b[0;31m             \u001b[0;32mraise\u001b[0m \u001b[0mself\u001b[0m\u001b[0;34m.\u001b[0m\u001b[0m_exception\u001b[0m\u001b[0;34m\u001b[0m\u001b[0m\n\u001b[0m\u001b[1;32m    358\u001b[0m         \u001b[0;32melse\u001b[0m\u001b[0;34m:\u001b[0m\u001b[0;34m\u001b[0m\u001b[0m\n\u001b[1;32m    359\u001b[0m             \u001b[0;32mreturn\u001b[0m \u001b[0mself\u001b[0m\u001b[0;34m.\u001b[0m\u001b[0m_result\u001b[0m\u001b[0;34m\u001b[0m\u001b[0m\n",
      "\u001b[0;31mPicklingError\u001b[0m: Could not pickle the task to send it to the workers."
     ]
    }
   ],
   "source": [
    "## Recall\n",
    "rec_avg=make_scorer(recall_score, average='macro')\n",
    "grid_search_rec= GridSearchCV(estimator=ANN, param_grid= params, scoring=rec_avg,cv=5, n_jobs=-1)\n",
    "grid_search_rec= grid_search_rec.fit(X_train, Y_train, epochs=400, validation_data=(X_test, Y_test), callbacks=[early_stop])\n",
    "y_predict= grid_search_rec.best_estimator_.predict(X_test)"
   ]
  },
  {
   "cell_type": "code",
   "execution_count": null,
   "metadata": {},
   "outputs": [],
   "source": [
    "## evaluating the model\n",
    "print(\"----------\")\n",
    "print('best parameters: ', grid_search_rec.best_params_)\n",
    "print(\"----------\")\n",
    "print(confusion_matrix(Y_test,y_predict))\n",
    "print(\"----------\")\n",
    "print(classification_report(Y_test, y_predict))\n",
    "print(\"----------\")\n"
   ]
  },
  {
   "cell_type": "code",
   "execution_count": null,
   "metadata": {},
   "outputs": [],
   "source": [
    "## precision\n",
    "prec_avg=make_scorer(precision_score, average='macro')\n",
    "grid_search_prec_avg= GridSearchCV(estimator=ANN, param_grid= params, scoring=prec_avg,cv=5, n_jobs=-1)\n",
    "grid_search_prec_avg= grid_search_prec_avg.fit(X_train, Y_train)\n",
    "y_predict= grid_search_prec_avg.best_estimator_.predict(X_test)"
   ]
  },
  {
   "cell_type": "code",
   "execution_count": null,
   "metadata": {},
   "outputs": [],
   "source": [
    "## evaluating the model\n",
    "print(\"----------\")\n",
    "print('best parameters: ', grid_search_prec_avg.best_params_)\n",
    "print(\"----------\")\n",
    "print(confusion_matrix(Y_test,y_predict))\n",
    "print(\"----------\")\n",
    "print(classification_report(Y_test, y_predict))\n",
    "print(\"----------\")"
   ]
  },
  {
   "cell_type": "code",
   "execution_count": null,
   "metadata": {},
   "outputs": [],
   "source": [
    "def plot_grid_search(cv_results, grid_param_1, grid_param_2, name_param_1, name_param_2, titre):\n",
    "    # Get Test Scores Mean and std for each grid search\n",
    "    scores_mean = cv_results['mean_test_score']\n",
    "    scores_mean = np.array(scores_mean).reshape(len(grid_param_2),len(grid_param_1))\n",
    "\n",
    "    # Plot Grid search scores\n",
    "    _, ax = plt.subplots(1,1)\n",
    "\n",
    "    # Param1 is the X-axis, Param 2 is represented as a different curve (color line)\n",
    "    for idx, val in enumerate(grid_param_2):\n",
    "        #ax.set_ylim([0.74,0.83])\n",
    "        ax.plot(grid_param_1, scores_mean[idx,:], '-o', label= name_param_2 + ': ' + str(val))\n",
    "\n",
    "    ax.set_title(titre, fontsize=18, fontweight='bold')\n",
    "    ax.set_xlabel(name_param_1, fontsize=14)\n",
    "    ax.set_ylabel(titre+'[CV Avg Score]', fontsize=14)\n",
    "    ax.legend(loc=\"best\", fontsize=15)\n",
    "    ax.grid('on')\n"
   ]
  },
  {
   "cell_type": "code",
   "execution_count": null,
   "metadata": {},
   "outputs": [],
   "source": [
    "# Calling Method \n",
    "plot_grid_search(grid_search_acc.cv_results_, params['batch_size'], params['optimizer'], 'batch_size', 'optimizer', 'Accuracy')\n",
    "plot_grid_search(grid_search_rec.cv_results_, params['batch_size'], params['optimizer'], 'batch_size', 'optimizer', 'Recall')\n",
    "plot_grid_search(grid_search_prec_avg.cv_results_, params['batch_size'], params['optimizer'], 'batch_size', 'optimizer', 'Precision')\n"
   ]
  },
  {
   "cell_type": "code",
   "execution_count": null,
   "metadata": {},
   "outputs": [],
   "source": [
    "def return_index_list(param1, param2):\n",
    "    list=[]\n",
    "    for p1 in param1:\n",
    "        for p2 in param2:\n",
    "            list.append('['+str(p1)+', '+str(p2)+']')\n",
    "    return list"
   ]
  },
  {
   "cell_type": "code",
   "execution_count": null,
   "metadata": {},
   "outputs": [],
   "source": [
    "index= return_index_list(params['optimizer'], params['batch_size'])\n",
    "\n",
    "df= pd.DataFrame({  'Accuracy': grid_search_acc.cv_results_['mean_test_score'],\n",
    "                    'Precision(Avg)': grid_search_prec_avg.cv_results_['mean_test_score'],\n",
    "                    'Recall(Avg)': grid_search_rec.cv_results_['mean_test_score'],},\n",
    "                 index=index)\n",
    "\n",
    "## to excel\n",
    "writer = pd.ExcelWriter('Neural_Network.xlsx')\n",
    "df.to_excel(writer, 'Neural_Network')\n",
    "writer.save()\n",
    "writer.close()"
   ]
  },
  {
   "cell_type": "code",
   "execution_count": null,
   "metadata": {},
   "outputs": [],
   "source": [
    "df"
   ]
  },
  {
   "cell_type": "code",
   "execution_count": null,
   "metadata": {
    "pycharm": {
     "name": "#%%\n"
    }
   },
   "outputs": [],
   "source": [
    "grid_search_acc.cv_results_"
   ]
  },
  {
   "cell_type": "code",
   "execution_count": null,
   "metadata": {},
   "outputs": [],
   "source": [
    "## check for overfiting\n",
    "model_ov= create_model(\"rmsprop\")\n",
    "history= model_ov.fit(x=X_train, y=Y_train, epochs=300, validation_data=(X_test, Y_test), verbose=1, callbacks=[early_stop])\n",
    "\n",
    "# Get training and test loss histories\n",
    "training_loss = history.history['loss']\n",
    "test_loss = history.history['val_loss']\n",
    "\n",
    "# Create count of the number of epochs\n",
    "epoch_count = range(1, len(training_loss) + 1)\n",
    "\n",
    "# Visualize loss history\n",
    "plt.plot(epoch_count, training_loss, 'r--')\n",
    "plt.plot(epoch_count, test_loss, 'b-')\n",
    "plt.legend(['Training Loss', 'Test Loss'])\n",
    "plt.xlabel('Epoch')\n",
    "plt.ylabel('Loss')\n",
    "plt.show();"
   ]
  }
 ],
 "metadata": {
  "kernelspec": {
   "display_name": "Python 3",
   "language": "python",
   "name": "python3"
  },
  "language_info": {
   "codemirror_mode": {
    "name": "ipython",
    "version": 3
   },
   "file_extension": ".py",
   "mimetype": "text/x-python",
   "name": "python",
   "nbconvert_exporter": "python",
   "pygments_lexer": "ipython3",
   "version": "3.5.3"
  },
  "pycharm": {
   "stem_cell": {
    "cell_type": "raw",
    "metadata": {
     "collapsed": false
    },
    "source": []
   }
  }
 },
 "nbformat": 4,
 "nbformat_minor": 1
}
