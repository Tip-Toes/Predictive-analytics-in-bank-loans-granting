{
 "cells": [
  {
   "cell_type": "code",
   "execution_count": 1,
   "metadata": {
    "pycharm": {
     "is_executing": false
    }
   },
   "outputs": [],
   "source": [
    "from pylab import rcParams\n",
    "rcParams['figure.figsize'] = 10, 5\n",
    "import warnings\n",
    "warnings.filterwarnings('ignore')\n",
    "from sklearn.tree import DecisionTreeClassifier\n",
    "import pandas as pd\n",
    "from sklearn.model_selection import GridSearchCV, train_test_split\n",
    "from sklearn.metrics import confusion_matrix, classification_report, average_precision_score, accuracy_score\n",
    "import csv"
   ]
  },
  {
   "cell_type": "code",
   "execution_count": 99,
   "metadata": {
    "pycharm": {
     "is_executing": false,
     "name": "#%%\n"
    }
   },
   "outputs": [],
   "source": []
  },
  {
   "cell_type": "code",
   "execution_count": 2,
   "metadata": {
    "pycharm": {
     "is_executing": false,
     "name": "#%%\n"
    }
   },
   "outputs": [],
   "source": [
    "def get_algo_path():\n",
    "    import os\n",
    "    cwd = os.getcwd()\n",
    "    s='\\\\'\n",
    "    if '\\\\' not in cwd:\n",
    "        s='/'\n",
    "    cwd= cwd.split(s)[4:-1]\n",
    "    cwd.append('Not Normalized')\n",
    "    cwd='/'.join(cwd)\n",
    "    return cwd\n",
    "\n",
    "def get_csv_path():\n",
    "    import os\n",
    "    cwd = os.getcwd()\n",
    "    s=\"\\\\\"\n",
    "    if \"\\\\\" not in cwd:\n",
    "        s='/'\n",
    "    file= cwd.split(s)[:4]\n",
    "    file.append('models_scores.csv')\n",
    "    file= s.join(file)\n",
    "    return file\n",
    "\n",
    "def line_is_exist(file, row):\n",
    "    logfile = open(file, 'r')\n",
    "    loglist = logfile.readlines()\n",
    "    logfile.close()\n",
    "    for line in loglist:\n",
    "        if ','.join(row) in line:\n",
    "            return True\n",
    "    return False\n",
    "\n",
    "def write_new_score(file, line):\n",
    "    if( not line_is_exist(file, line) ):\n",
    "        with open(file, 'a') as f:\n",
    "            writer = csv.writer(f)\n",
    "            writer.writerow(line)\n",
    "    else:\n",
    "        print('line exsist already')\n",
    "    "
   ]
  },
  {
   "cell_type": "code",
   "execution_count": 3,
   "metadata": {
    "pycharm": {
     "is_executing": false,
     "name": "#%%\n"
    }
   },
   "outputs": [],
   "source": [
    "data= pd.read_csv('../data.csv')"
   ]
  },
  {
   "cell_type": "code",
   "execution_count": 4,
   "metadata": {
    "pycharm": {
     "is_executing": false,
     "name": "#%%\n"
    }
   },
   "outputs": [],
   "source": [
    "##copying data\n",
    "data1=data.copy()\n",
    "### spliting data en X et Y\n",
    "X= data1.drop('Loan Status', axis=1)\n",
    "Y= data1['Loan Status']\n",
    "### spliting the data to train and test\n",
    "X_train , X_test , Y_train , Y_test = train_test_split(X, Y, test_size = 0.30, random_state = 123)\n",
    "## dicision tree (CART)\n",
    "dct = DecisionTreeClassifier()\n",
    "params={'criterion' : ['gini', 'entropy'],\n",
    "        'max_depth': [4, 5, 6, 7, 8, 9, 10, 11, 12, 13,14, 15, 16, 17, None]}\n",
    "\n",
    "##accuracy\n",
    "grid_search_acc= GridSearchCV(estimator=dct, param_grid= params, scoring='accuracy',cv=2, n_jobs=-1)\n",
    "grid_search_acc= grid_search_acc.fit(X_train, Y_train)\n",
    "y_predict= grid_search_acc.best_estimator_.predict(X_test)\n"
   ]
  },
  {
   "cell_type": "code",
   "execution_count": 5,
   "metadata": {
    "pycharm": {
     "is_executing": false,
     "name": "#%%\n"
    }
   },
   "outputs": [],
   "source": [
    "## get avg precision & avg recall\n",
    "report= classification_report(Y_test, y_predict, output_dict=True)\n",
    "avg_list = report.pop(\"weighted avg\")\n",
    "avg_precision= round(avg_list['precision'], 3)\n",
    "avg_recall= round(avg_list['recall'], 3)\n",
    "accuraccy= round(accuracy_score(Y_test,y_predict), 3)\n",
    "## csv row\n",
    "csv_row = [get_algo_path(), 'Decision Tree', str(grid_search_acc.best_params_), str(accuraccy), str(avg_precision), str(avg_recall)]\n",
    "## write file\n",
    "csv_file= get_csv_path()\n",
    "write_new_score(csv_file, csv_row)"
   ]
  },
  {
   "cell_type": "code",
   "execution_count": 6,
   "metadata": {
    "pycharm": {
     "is_executing": false,
     "name": "#%%\n"
    }
   },
   "outputs": [
    {
     "name": "stdout",
     "output_type": "stream",
     "text": [
      "----------\n",
      "best parameters:  {'criterion': 'entropy', 'max_depth': 12}\n",
      "----------\n",
      "[[13815  6134]\n",
      " [  802 19156]]\n",
      "----------\n",
      "              precision    recall  f1-score   support\n",
      "\n",
      "           0       0.95      0.69      0.80     19949\n",
      "           1       0.76      0.96      0.85     19958\n",
      "\n",
      "    accuracy                           0.83     39907\n",
      "   macro avg       0.85      0.83      0.82     39907\n",
      "weighted avg       0.85      0.83      0.82     39907\n",
      "\n",
      "----------\n"
     ]
    }
   ],
   "source": [
    "## evaluating the model\n",
    "print(\"----------\")\n",
    "print('best parameters: ', grid_search_acc.best_params_)\n",
    "print(\"----------\")\n",
    "print(confusion_matrix(Y_test,y_predict))\n",
    "print(\"----------\")\n",
    "print(classification_report(Y_test, y_predict))\n",
    "print(\"----------\")\n"
   ]
  },
  {
   "cell_type": "code",
   "execution_count": 7,
   "metadata": {
    "collapsed": false,
    "pycharm": {
     "is_executing": false,
     "name": "#%%\n"
    }
   },
   "outputs": [
    {
     "data": {
      "text/plain": [
       "{'mean_fit_time': array([0.34856749, 0.4024241 , 0.47772205, 0.57446456, 0.54404533,\n",
       "        0.58443606, 0.65824008, 0.72755611, 0.7310456 , 0.78689563,\n",
       "        0.840253  , 0.85920191, 0.86219323, 0.84922981, 1.10155499,\n",
       "        0.51711679, 0.57994914, 0.68217611, 0.76096523, 0.78440106,\n",
       "        0.84623754, 0.94746876, 1.01877654, 1.14045036, 1.16189265,\n",
       "        1.24317467, 1.19330931, 1.16887403, 1.10953295, 1.13197231]),\n",
       " 'std_fit_time': array([9.47475433e-03, 1.49655342e-03, 1.19209290e-07, 3.09176445e-02,\n",
       "        4.48668003e-03, 9.97424126e-04, 7.15255737e-07, 1.14706755e-02,\n",
       "        1.39631033e-02, 2.39359140e-02, 1.14690065e-02, 2.49290466e-03,\n",
       "        4.48811054e-03, 1.24664307e-02, 4.48739529e-03, 2.04451084e-02,\n",
       "        9.47403908e-03, 1.09703541e-02, 1.09711885e-02, 6.48272038e-03,\n",
       "        5.48589230e-03, 9.97471809e-03, 4.48715687e-03, 5.48565388e-03,\n",
       "        4.18884754e-02, 2.94226408e-02, 1.74534321e-02, 3.78980637e-02,\n",
       "        2.49278545e-03, 4.48801517e-02]),\n",
       " 'mean_score_time': array([0.01994669, 0.02194071, 0.02094448, 0.02443457, 0.02094316,\n",
       "        0.02293825, 0.02194083, 0.02742469, 0.02293849, 0.02543175,\n",
       "        0.02892256, 0.02443552, 0.02543163, 0.02543104, 0.03590369,\n",
       "        0.02044559, 0.01944816, 0.01894915, 0.02044463, 0.01994681,\n",
       "        0.022439  , 0.03141403, 0.02243912, 0.02293813, 0.02343738,\n",
       "        0.02642894, 0.0244379 , 0.02044475, 0.02094424, 0.01595736]),\n",
       " 'std_score_time': array([5.96046448e-07, 7.15255737e-07, 9.96708870e-04, 4.99725342e-04,\n",
       "        4.76837158e-07, 0.00000000e+00, 3.57627869e-07, 5.48398495e-03,\n",
       "        2.38418579e-07, 2.49326229e-03, 2.99286842e-03, 4.99248505e-04,\n",
       "        4.98533249e-04, 1.49595737e-03, 9.97543335e-04, 4.98294830e-04,\n",
       "        4.99367714e-04, 1.31130219e-06, 4.98771667e-04, 9.97066498e-04,\n",
       "        4.98056412e-04, 7.47871399e-03, 4.98175621e-04, 1.19209290e-07,\n",
       "        1.49619579e-03, 2.49361992e-03, 1.49869919e-03, 4.98175621e-04,\n",
       "        9.98377800e-04, 9.97304916e-04]),\n",
       " 'param_criterion': masked_array(data=['gini', 'gini', 'gini', 'gini', 'gini', 'gini', 'gini',\n",
       "                    'gini', 'gini', 'gini', 'gini', 'gini', 'gini', 'gini',\n",
       "                    'gini', 'entropy', 'entropy', 'entropy', 'entropy',\n",
       "                    'entropy', 'entropy', 'entropy', 'entropy', 'entropy',\n",
       "                    'entropy', 'entropy', 'entropy', 'entropy', 'entropy',\n",
       "                    'entropy'],\n",
       "              mask=[False, False, False, False, False, False, False, False,\n",
       "                    False, False, False, False, False, False, False, False,\n",
       "                    False, False, False, False, False, False, False, False,\n",
       "                    False, False, False, False, False, False],\n",
       "        fill_value='?',\n",
       "             dtype=object),\n",
       " 'param_max_depth': masked_array(data=[4, 5, 6, 7, 8, 9, 10, 11, 12, 13, 14, 15, 16, 17, None,\n",
       "                    4, 5, 6, 7, 8, 9, 10, 11, 12, 13, 14, 15, 16, 17, None],\n",
       "              mask=[False, False, False, False, False, False, False, False,\n",
       "                    False, False, False, False, False, False, False, False,\n",
       "                    False, False, False, False, False, False, False, False,\n",
       "                    False, False, False, False, False, False],\n",
       "        fill_value='?',\n",
       "             dtype=object),\n",
       " 'params': [{'criterion': 'gini', 'max_depth': 4},\n",
       "  {'criterion': 'gini', 'max_depth': 5},\n",
       "  {'criterion': 'gini', 'max_depth': 6},\n",
       "  {'criterion': 'gini', 'max_depth': 7},\n",
       "  {'criterion': 'gini', 'max_depth': 8},\n",
       "  {'criterion': 'gini', 'max_depth': 9},\n",
       "  {'criterion': 'gini', 'max_depth': 10},\n",
       "  {'criterion': 'gini', 'max_depth': 11},\n",
       "  {'criterion': 'gini', 'max_depth': 12},\n",
       "  {'criterion': 'gini', 'max_depth': 13},\n",
       "  {'criterion': 'gini', 'max_depth': 14},\n",
       "  {'criterion': 'gini', 'max_depth': 15},\n",
       "  {'criterion': 'gini', 'max_depth': 16},\n",
       "  {'criterion': 'gini', 'max_depth': 17},\n",
       "  {'criterion': 'gini', 'max_depth': None},\n",
       "  {'criterion': 'entropy', 'max_depth': 4},\n",
       "  {'criterion': 'entropy', 'max_depth': 5},\n",
       "  {'criterion': 'entropy', 'max_depth': 6},\n",
       "  {'criterion': 'entropy', 'max_depth': 7},\n",
       "  {'criterion': 'entropy', 'max_depth': 8},\n",
       "  {'criterion': 'entropy', 'max_depth': 9},\n",
       "  {'criterion': 'entropy', 'max_depth': 10},\n",
       "  {'criterion': 'entropy', 'max_depth': 11},\n",
       "  {'criterion': 'entropy', 'max_depth': 12},\n",
       "  {'criterion': 'entropy', 'max_depth': 13},\n",
       "  {'criterion': 'entropy', 'max_depth': 14},\n",
       "  {'criterion': 'entropy', 'max_depth': 15},\n",
       "  {'criterion': 'entropy', 'max_depth': 16},\n",
       "  {'criterion': 'entropy', 'max_depth': 17},\n",
       "  {'criterion': 'entropy', 'max_depth': None}],\n",
       " 'split0_test_score': array([0.72614803, 0.78607328, 0.79030457, 0.7994974 , 0.80671421,\n",
       "        0.81777568, 0.81695949, 0.81719576, 0.82007389, 0.81726019,\n",
       "        0.8201598 , 0.81592852, 0.81717428, 0.81285708, 0.78697539,\n",
       "        0.72614803, 0.78607328, 0.79030457, 0.80022767, 0.80808884,\n",
       "        0.81814081, 0.81852743, 0.81824821, 0.82125521, 0.82080416,\n",
       "        0.81988058, 0.8171528 , 0.81936509, 0.81629366, 0.78938099]),\n",
       " 'split1_test_score': array([0.72244775, 0.78523101, 0.78922611, 0.80258608, 0.81016818,\n",
       "        0.81895311, 0.82447323, 0.82389329, 0.82391477, 0.82288378,\n",
       "        0.8219387 , 0.82026333, 0.81931826, 0.81272419, 0.78828103,\n",
       "        0.72244775, 0.78523101, 0.78922611, 0.80258608, 0.8102541 ,\n",
       "        0.82067144, 0.82189574, 0.82312005, 0.82475245, 0.82247567,\n",
       "        0.82180982, 0.82004854, 0.81817987, 0.8141418 , 0.79051485]),\n",
       " 'mean_test_score': array([0.72429791, 0.78565215, 0.78976534, 0.80104172, 0.80844117,\n",
       "        0.81836439, 0.82071632, 0.82054449, 0.82199431, 0.82007195,\n",
       "        0.82104924, 0.8180959 , 0.81824625, 0.81279064, 0.7876282 ,\n",
       "        0.72429791, 0.78565215, 0.78976534, 0.80140686, 0.80917145,\n",
       "        0.81940611, 0.82021157, 0.8206841 , 0.82300381, 0.82163991,\n",
       "        0.82084519, 0.81860066, 0.81877249, 0.81521774, 0.78994791]),\n",
       " 'std_test_score': array([1.85013910e-03, 4.21138891e-04, 5.39228209e-04, 1.54433810e-03,\n",
       "        1.72698750e-03, 5.88716795e-04, 3.75686749e-03, 3.34876813e-03,\n",
       "        1.92044240e-03, 2.81179264e-03, 8.89449060e-04, 2.16740693e-03,\n",
       "        1.07198890e-03, 6.64469674e-05, 6.52823156e-04, 1.85013910e-03,\n",
       "        4.21138891e-04, 5.39228209e-04, 1.17920214e-03, 1.08263085e-03,\n",
       "        1.26531070e-03, 1.68415628e-03, 2.43591993e-03, 1.74862271e-03,\n",
       "        8.35758362e-04, 9.64622727e-04, 1.44787199e-03, 5.92613731e-04,\n",
       "        1.07592528e-03, 5.66932803e-04]),\n",
       " 'rank_test_score': array([29, 27, 24, 22, 20, 14,  6,  8,  2, 10,  4, 16, 15, 18, 26, 29, 27,\n",
       "        24, 21, 19, 11,  9,  7,  1,  3,  5, 13, 12, 17, 23])}"
      ]
     },
     "execution_count": 7,
     "metadata": {},
     "output_type": "execute_result"
    }
   ],
   "source": [
    "grid_search_acc.cv_results_\n",
    "\n"
   ]
  }
 ],
 "metadata": {
  "kernelspec": {
   "display_name": "Python 3",
   "language": "python",
   "name": "python3"
  },
  "language_info": {
   "codemirror_mode": {
    "name": "ipython",
    "version": 3
   },
   "file_extension": ".py",
   "mimetype": "text/x-python",
   "name": "python",
   "nbconvert_exporter": "python",
   "pygments_lexer": "ipython3",
   "version": "3.7.4"
  },
  "pycharm": {
   "stem_cell": {
    "cell_type": "raw",
    "metadata": {
     "collapsed": false
    },
    "source": []
   }
  }
 },
 "nbformat": 4,
 "nbformat_minor": 1
}
