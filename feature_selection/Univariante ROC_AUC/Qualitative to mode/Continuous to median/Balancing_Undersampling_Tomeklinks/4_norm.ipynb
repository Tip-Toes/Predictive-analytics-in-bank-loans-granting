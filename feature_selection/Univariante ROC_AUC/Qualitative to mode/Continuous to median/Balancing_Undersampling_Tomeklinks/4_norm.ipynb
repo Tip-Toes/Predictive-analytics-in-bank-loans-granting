{
 "cells": [
  {
   "cell_type": "code",
   "execution_count": 25,
   "metadata": {
    "pycharm": {
     "is_executing": false
    }
   },
   "outputs": [],
   "source": [
    "import pandas as pd\n",
    "import numpy as np"
   ]
  },
  {
   "cell_type": "markdown",
   "metadata": {},
   "source": [
    " "
   ]
  },
  {
   "cell_type": "markdown",
   "metadata": {},
   "source": [
    " # Data introduction start"
   ]
  },
  {
   "cell_type": "code",
   "execution_count": 26,
   "metadata": {
    "pycharm": {
     "is_executing": false
    }
   },
   "outputs": [
    {
     "data": {
      "text/plain": "   Current Loan Amount  Credit Score  Annual Income  Monthly Debt  \\\n0             445412.0         709.0      1167493.0       5214.74   \n1           99999999.0         741.0      2231892.0      29200.53   \n2             206602.0        7290.0       896857.0      16367.74   \n3             217646.0         730.0      1184194.0      10855.08   \n4             548746.0         678.0      2559110.0      18660.28   \n\n   Years of Credit History  Current Credit Balance  Maximum Open Credit  \\\n0                     17.2                228190.0             416746.0   \n1                     14.9                297996.0             750090.0   \n2                     17.3                215308.0             272448.0   \n3                     19.6                122170.0             272052.0   \n4                     22.6                437171.0             555038.0   \n\n   Term_Short Term  Years in current job_10+ years  \\\n0                1                               0   \n1                1                               0   \n2                1                               1   \n3                1                               0   \n4                1                               0   \n\n   Years in current job_2 years  ...  Years in current job_4 years  \\\n0                             0  ...                             0   \n1                             0  ...                             0   \n2                             0  ...                             0   \n3                             0  ...                             0   \n4                             1  ...                             0   \n\n   Years in current job_5 years  Years in current job_6 years  \\\n0                             0                             0   \n1                             0                             0   \n2                             0                             0   \n3                             0                             0   \n4                             0                             0   \n\n   Years in current job_7 years  Years in current job_8 years  \\\n0                             0                             1   \n1                             0                             1   \n2                             0                             0   \n3                             0                             0   \n4                             0                             0   \n\n   Years in current job_9 years  Years in current job_< 1 year  \\\n0                             0                              0   \n1                             0                              0   \n2                             0                              0   \n3                             0                              1   \n4                             0                              0   \n\n   Home Ownership_Own Home  Home Ownership_Rent  Loan Status  \n0                        0                    0            1  \n1                        1                    0            1  \n2                        0                    0            0  \n3                        0                    0            1  \n4                        0                    1            1  \n\n[5 rows x 21 columns]",
      "text/html": "<div>\n<style scoped>\n    .dataframe tbody tr th:only-of-type {\n        vertical-align: middle;\n    }\n\n    .dataframe tbody tr th {\n        vertical-align: top;\n    }\n\n    .dataframe thead th {\n        text-align: right;\n    }\n</style>\n<table border=\"1\" class=\"dataframe\">\n  <thead>\n    <tr style=\"text-align: right;\">\n      <th></th>\n      <th>Current Loan Amount</th>\n      <th>Credit Score</th>\n      <th>Annual Income</th>\n      <th>Monthly Debt</th>\n      <th>Years of Credit History</th>\n      <th>Current Credit Balance</th>\n      <th>Maximum Open Credit</th>\n      <th>Term_Short Term</th>\n      <th>Years in current job_10+ years</th>\n      <th>Years in current job_2 years</th>\n      <th>...</th>\n      <th>Years in current job_4 years</th>\n      <th>Years in current job_5 years</th>\n      <th>Years in current job_6 years</th>\n      <th>Years in current job_7 years</th>\n      <th>Years in current job_8 years</th>\n      <th>Years in current job_9 years</th>\n      <th>Years in current job_&lt; 1 year</th>\n      <th>Home Ownership_Own Home</th>\n      <th>Home Ownership_Rent</th>\n      <th>Loan Status</th>\n    </tr>\n  </thead>\n  <tbody>\n    <tr>\n      <td>0</td>\n      <td>445412.0</td>\n      <td>709.0</td>\n      <td>1167493.0</td>\n      <td>5214.74</td>\n      <td>17.2</td>\n      <td>228190.0</td>\n      <td>416746.0</td>\n      <td>1</td>\n      <td>0</td>\n      <td>0</td>\n      <td>...</td>\n      <td>0</td>\n      <td>0</td>\n      <td>0</td>\n      <td>0</td>\n      <td>1</td>\n      <td>0</td>\n      <td>0</td>\n      <td>0</td>\n      <td>0</td>\n      <td>1</td>\n    </tr>\n    <tr>\n      <td>1</td>\n      <td>99999999.0</td>\n      <td>741.0</td>\n      <td>2231892.0</td>\n      <td>29200.53</td>\n      <td>14.9</td>\n      <td>297996.0</td>\n      <td>750090.0</td>\n      <td>1</td>\n      <td>0</td>\n      <td>0</td>\n      <td>...</td>\n      <td>0</td>\n      <td>0</td>\n      <td>0</td>\n      <td>0</td>\n      <td>1</td>\n      <td>0</td>\n      <td>0</td>\n      <td>1</td>\n      <td>0</td>\n      <td>1</td>\n    </tr>\n    <tr>\n      <td>2</td>\n      <td>206602.0</td>\n      <td>7290.0</td>\n      <td>896857.0</td>\n      <td>16367.74</td>\n      <td>17.3</td>\n      <td>215308.0</td>\n      <td>272448.0</td>\n      <td>1</td>\n      <td>1</td>\n      <td>0</td>\n      <td>...</td>\n      <td>0</td>\n      <td>0</td>\n      <td>0</td>\n      <td>0</td>\n      <td>0</td>\n      <td>0</td>\n      <td>0</td>\n      <td>0</td>\n      <td>0</td>\n      <td>0</td>\n    </tr>\n    <tr>\n      <td>3</td>\n      <td>217646.0</td>\n      <td>730.0</td>\n      <td>1184194.0</td>\n      <td>10855.08</td>\n      <td>19.6</td>\n      <td>122170.0</td>\n      <td>272052.0</td>\n      <td>1</td>\n      <td>0</td>\n      <td>0</td>\n      <td>...</td>\n      <td>0</td>\n      <td>0</td>\n      <td>0</td>\n      <td>0</td>\n      <td>0</td>\n      <td>0</td>\n      <td>1</td>\n      <td>0</td>\n      <td>0</td>\n      <td>1</td>\n    </tr>\n    <tr>\n      <td>4</td>\n      <td>548746.0</td>\n      <td>678.0</td>\n      <td>2559110.0</td>\n      <td>18660.28</td>\n      <td>22.6</td>\n      <td>437171.0</td>\n      <td>555038.0</td>\n      <td>1</td>\n      <td>0</td>\n      <td>1</td>\n      <td>...</td>\n      <td>0</td>\n      <td>0</td>\n      <td>0</td>\n      <td>0</td>\n      <td>0</td>\n      <td>0</td>\n      <td>0</td>\n      <td>0</td>\n      <td>1</td>\n      <td>1</td>\n    </tr>\n  </tbody>\n</table>\n<p>5 rows × 21 columns</p>\n</div>"
     },
     "metadata": {},
     "output_type": "execute_result",
     "execution_count": 26
    }
   ],
   "source": [
    "data = pd.read_csv('data.csv')\n",
    "data.head()"
   ]
  },
  {
   "cell_type": "markdown",
   "metadata": {},
   "source": [
    "# Case1 : Z-score"
   ]
  },
  {
   "cell_type": "code",
   "execution_count": 27,
   "metadata": {
    "pycharm": {
     "is_executing": false
    }
   },
   "outputs": [],
   "source": [
    "data1= data.copy()\n",
    "cols= ['Current Loan Amount','Credit Score','Annual Income','Monthly Debt','Years of Credit History','Current Credit Balance','Maximum Open Credit']\n",
    "for col in cols:\n",
    "    data1[col] = (data1[col] - data1[col].mean())/data1[col].std(ddof=0)"
   ]
  },
  {
   "cell_type": "markdown",
   "metadata": {},
   "source": [
    "## Export the data"
   ]
  },
  {
   "cell_type": "code",
   "execution_count": 28,
   "metadata": {
    "pycharm": {
     "is_executing": false
    }
   },
   "outputs": [],
   "source": [
    "data1.to_csv(\"Z normalised/z_norm.csv\", index=False)\n",
    "\n"
   ]
  },
  {
   "cell_type": "markdown",
   "metadata": {},
   "source": [
    "# CASE2 : MinMax"
   ]
  },
  {
   "cell_type": "code",
   "execution_count": 29,
   "metadata": {
    "pycharm": {
     "is_executing": false
    }
   },
   "outputs": [],
   "source": [
    "data2=data.copy()\n",
    "for col in cols:\n",
    "    data2[col] = (data2[col] - data2[col].min())/(data2[col].max() - data2[col].min())\n"
   ]
  },
  {
   "cell_type": "markdown",
   "metadata": {
    "pycharm": {
     "is_executing": false,
     "name": "#%% md\n"
    }
   },
   "source": [
    "## Export the data"
   ]
  },
  {
   "cell_type": "code",
   "execution_count": 30,
   "metadata": {
    "pycharm": {
     "is_executing": false
    }
   },
   "outputs": [],
   "source": [
    "data2.to_csv(\"MinMax normalised/min_max_norm.csv\", index=False)"
   ]
  },
  {
   "cell_type": "markdown",
   "metadata": {},
   "source": [
    " "
   ]
  },
  {
   "cell_type": "markdown",
   "metadata": {},
   "source": [
    "# CASE3 : Logistic"
   ]
  },
  {
   "cell_type": "code",
   "execution_count": 31,
   "metadata": {
    "pycharm": {
     "is_executing": false
    }
   },
   "outputs": [],
   "source": [
    "data3=data.copy()\n",
    "for col in cols:\n",
    "    data3[col] = (1 / (1 + np.exp(-data3[col])))\n"
   ]
  },
  {
   "cell_type": "markdown",
   "metadata": {
    "pycharm": {
     "is_executing": false,
     "name": "#%% md\n"
    }
   },
   "source": [
    "## Export the data"
   ]
  },
  {
   "cell_type": "code",
   "execution_count": 32,
   "metadata": {
    "pycharm": {
     "is_executing": false
    }
   },
   "outputs": [],
   "source": [
    "data3.to_csv(\"Logistic normalised/logis_norm.csv\", index=False)"
   ]
  },
  {
   "cell_type": "markdown",
   "metadata": {},
   "source": [
    " end"
   ]
  }
 ],
 "metadata": {
  "kernelspec": {
   "display_name": "Python 3",
   "language": "python",
   "name": "python3"
  },
  "language_info": {
   "codemirror_mode": {
    "name": "ipython",
    "version": 3
   },
   "file_extension": ".py",
   "mimetype": "text/x-python",
   "name": "python",
   "nbconvert_exporter": "python",
   "pygments_lexer": "ipython3",
   "version": "3.5.3"
  },
  "pycharm": {
   "stem_cell": {
    "cell_type": "raw",
    "metadata": {
     "collapsed": false
    },
    "source": []
   }
  }
 },
 "nbformat": 4,
 "nbformat_minor": 2
}