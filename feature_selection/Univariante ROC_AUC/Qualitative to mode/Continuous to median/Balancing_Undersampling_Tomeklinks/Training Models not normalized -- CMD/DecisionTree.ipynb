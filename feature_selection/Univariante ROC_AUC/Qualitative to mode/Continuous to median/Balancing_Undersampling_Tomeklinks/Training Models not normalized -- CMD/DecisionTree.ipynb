{
 "cells": [
  {
   "cell_type": "code",
   "execution_count": 1,
   "metadata": {
    "pycharm": {
     "is_executing": false
    }
   },
   "outputs": [],
   "source": [
    "from pylab import rcParams\n",
    "rcParams['figure.figsize'] = 10, 5\n",
    "import warnings\n",
    "warnings.filterwarnings('ignore')\n",
    "from sklearn.tree import DecisionTreeClassifier\n",
    "import pandas as pd\n",
    "from sklearn.model_selection import GridSearchCV, train_test_split\n",
    "from sklearn.metrics import confusion_matrix, classification_report, average_precision_score, accuracy_score\n",
    "import csv"
   ]
  },
  {
   "cell_type": "code",
   "execution_count": 99,
   "metadata": {
    "pycharm": {
     "is_executing": false,
     "name": "#%%\n"
    }
   },
   "outputs": [],
   "source": []
  },
  {
   "cell_type": "code",
   "execution_count": 2,
   "metadata": {
    "pycharm": {
     "is_executing": false,
     "name": "#%%\n"
    }
   },
   "outputs": [],
   "source": [
    "def get_algo_path():\n",
    "    import os\n",
    "    cwd = os.getcwd()\n",
    "    s='\\\\'\n",
    "    if '\\\\' not in cwd:\n",
    "        s='/'\n",
    "    cwd= cwd.split(s)[4:-1]\n",
    "    cwd.append('Not Normalized')\n",
    "    cwd='/'.join(cwd)\n",
    "    return cwd\n",
    "\n",
    "def get_csv_path():\n",
    "    import os\n",
    "    cwd = os.getcwd()\n",
    "    s=\"\\\\\"\n",
    "    if \"\\\\\" not in cwd:\n",
    "        s='/'\n",
    "    file= cwd.split(s)[:4]\n",
    "    file.append('models_scores.csv')\n",
    "    file= s.join(file)\n",
    "    return file\n",
    "\n",
    "def line_is_exist(file, row):\n",
    "    logfile = open(file, 'r')\n",
    "    loglist = logfile.readlines()\n",
    "    logfile.close()\n",
    "    for line in loglist:\n",
    "        if ','.join(row) in line:\n",
    "            return True\n",
    "    return False\n",
    "\n",
    "def write_new_score(file, line):\n",
    "    if( not line_is_exist(file, line) ):\n",
    "        with open(file, 'a') as f:\n",
    "            writer = csv.writer(f)\n",
    "            writer.writerow(line)\n",
    "    else:\n",
    "        print('line exsist already')\n",
    "    "
   ]
  },
  {
   "cell_type": "code",
   "execution_count": 3,
   "metadata": {
    "pycharm": {
     "is_executing": false,
     "name": "#%%\n"
    }
   },
   "outputs": [],
   "source": [
    "data= pd.read_csv('../data.csv')"
   ]
  },
  {
   "cell_type": "code",
   "execution_count": 4,
   "metadata": {
    "pycharm": {
     "is_executing": false,
     "name": "#%%\n"
    }
   },
   "outputs": [],
   "source": [
    "##copying data\n",
    "data1=data.copy()\n",
    "### spliting data en X et Y\n",
    "X= data1.drop('Loan Status', axis=1)\n",
    "Y= data1['Loan Status']\n",
    "### spliting the data to train and test\n",
    "X_train , X_test , Y_train , Y_test = train_test_split(X, Y, test_size = 0.30, random_state = 123)\n",
    "## dicision tree (CART)\n",
    "dct = DecisionTreeClassifier()\n",
    "params={'criterion' : ['gini', 'entropy'],\n",
    "        'max_depth': [4, 5, 6, 7, 8, 9, 10, 11, 12, 13,14, 15, 16, 17, None]}\n",
    "\n",
    "##accuracy\n",
    "grid_search_acc= GridSearchCV(estimator=dct, param_grid= params, scoring='accuracy',cv=2, n_jobs=-1)\n",
    "grid_search_acc= grid_search_acc.fit(X_train, Y_train)\n",
    "y_predict= grid_search_acc.best_estimator_.predict(X_test)\n"
   ]
  },
  {
   "cell_type": "code",
   "execution_count": 5,
   "metadata": {
    "pycharm": {
     "is_executing": false,
     "name": "#%%\n"
    }
   },
   "outputs": [],
   "source": [
    "## get avg precision & avg recall\n",
    "report= classification_report(Y_test, y_predict, output_dict=True)\n",
    "avg_list = report.pop(\"weighted avg\")\n",
    "avg_precision= round(avg_list['precision'], 3)\n",
    "avg_recall= round(avg_list['recall'], 3)\n",
    "accuraccy= round(accuracy_score(Y_test,y_predict), 3)\n",
    "## csv row\n",
    "csv_row = [get_algo_path(), 'Decision Tree', str(grid_search_acc.best_params_), str(accuraccy), str(avg_precision), str(avg_recall)]\n",
    "## write file\n",
    "csv_file= get_csv_path()\n",
    "write_new_score(csv_file, csv_row)"
   ]
  },
  {
   "cell_type": "code",
   "execution_count": 6,
   "metadata": {
    "pycharm": {
     "is_executing": false,
     "name": "#%%\n"
    }
   },
   "outputs": [
    {
     "name": "stdout",
     "output_type": "stream",
     "text": [
      "----------\n",
      "best parameters:  {'criterion': 'gini', 'max_depth': 4}\n",
      "----------\n",
      "[[ 1377  5340]\n",
      " [    0 17377]]\n",
      "----------\n",
      "              precision    recall  f1-score   support\n",
      "\n",
      "           0       1.00      0.21      0.34      6717\n",
      "           1       0.76      1.00      0.87     17377\n",
      "\n",
      "    accuracy                           0.78     24094\n",
      "   macro avg       0.88      0.60      0.60     24094\n",
      "weighted avg       0.83      0.78      0.72     24094\n",
      "\n",
      "----------\n"
     ]
    }
   ],
   "source": [
    "## evaluating the model\n",
    "print(\"----------\")\n",
    "print('best parameters: ', grid_search_acc.best_params_)\n",
    "print(\"----------\")\n",
    "print(confusion_matrix(Y_test,y_predict))\n",
    "print(\"----------\")\n",
    "print(classification_report(Y_test, y_predict))\n",
    "print(\"----------\")\n"
   ]
  },
  {
   "cell_type": "code",
   "execution_count": 7,
   "metadata": {
    "collapsed": false,
    "pycharm": {
     "is_executing": false,
     "name": "#%%\n"
    }
   },
   "outputs": [
    {
     "data": {
      "text/plain": [
       "{'mean_fit_time': array([0.18300986, 0.21392775, 0.29022336, 0.32114089, 0.3296181 ,\n",
       "        0.3341068 , 0.40441847, 0.44481075, 0.4153893 , 0.45328784,\n",
       "        0.51761687, 0.50963759, 0.53506863, 0.53706324, 0.76894331,\n",
       "        0.24384654, 0.29720592, 0.3266263 , 0.39444482, 0.42286885,\n",
       "        0.47722363, 0.56498837, 0.60787439, 0.61734855, 0.67220306,\n",
       "        0.704615  , 0.76794624, 0.77093697, 0.73755491, 0.77442753]),\n",
       " 'std_fit_time': array([1.14684105e-02, 1.49607658e-03, 2.99239159e-03, 1.79513693e-02,\n",
       "        2.04461813e-02, 4.98688221e-03, 2.49266624e-03, 5.96046448e-07,\n",
       "        2.49218941e-03, 2.49266624e-03, 5.98299503e-03, 2.19419003e-02,\n",
       "        1.44611597e-02, 2.49373913e-03, 2.19416618e-02, 1.44611597e-02,\n",
       "        7.97891617e-03, 1.49655342e-03, 1.84503794e-02, 6.98196888e-03,\n",
       "        4.98533249e-04, 2.94215679e-02, 5.48553467e-03, 9.97316837e-03,\n",
       "        1.99365616e-03, 7.48050213e-03, 4.98723984e-03, 2.99143791e-03,\n",
       "        4.45973873e-03, 2.14425325e-02]),\n",
       " 'mean_score_time': array([0.01196778, 0.01246703, 0.01246727, 0.01346469, 0.01196837,\n",
       "        0.01246631, 0.01745379, 0.02692866, 0.0144608 , 0.01595736,\n",
       "        0.01545894, 0.01645565, 0.01545846, 0.01645601, 0.01944768,\n",
       "        0.01146996, 0.01047218, 0.01146936, 0.01246679, 0.02144253,\n",
       "        0.01196837, 0.01595759, 0.01346409, 0.01645637, 0.01446044,\n",
       "        0.01446128, 0.01545906, 0.0129652 , 0.01044416, 0.01097107]),\n",
       " 'std_score_time': array([1.19209290e-07, 4.97937202e-04, 4.98414040e-04, 4.98533249e-04,\n",
       "        9.53674316e-07, 4.98890877e-04, 3.49009037e-03, 1.39634609e-02,\n",
       "        4.97817993e-04, 9.98020172e-04, 4.98175621e-04, 1.49631500e-03,\n",
       "        4.99129295e-04, 4.98890877e-04, 4.98652458e-04, 4.99129295e-04,\n",
       "        4.98652458e-04, 4.98533249e-04, 4.98414040e-04, 9.47463512e-03,\n",
       "        4.76837158e-07, 2.99215317e-03, 4.98652458e-04, 3.49044800e-03,\n",
       "        4.97937202e-04, 4.99248505e-04, 4.99010086e-04, 4.76837158e-07,\n",
       "        4.70638275e-04, 4.76837158e-07]),\n",
       " 'param_criterion': masked_array(data=['gini', 'gini', 'gini', 'gini', 'gini', 'gini', 'gini',\n",
       "                    'gini', 'gini', 'gini', 'gini', 'gini', 'gini', 'gini',\n",
       "                    'gini', 'entropy', 'entropy', 'entropy', 'entropy',\n",
       "                    'entropy', 'entropy', 'entropy', 'entropy', 'entropy',\n",
       "                    'entropy', 'entropy', 'entropy', 'entropy', 'entropy',\n",
       "                    'entropy'],\n",
       "              mask=[False, False, False, False, False, False, False, False,\n",
       "                    False, False, False, False, False, False, False, False,\n",
       "                    False, False, False, False, False, False, False, False,\n",
       "                    False, False, False, False, False, False],\n",
       "        fill_value='?',\n",
       "             dtype=object),\n",
       " 'param_max_depth': masked_array(data=[4, 5, 6, 7, 8, 9, 10, 11, 12, 13, 14, 15, 16, 17, None,\n",
       "                    4, 5, 6, 7, 8, 9, 10, 11, 12, 13, 14, 15, 16, 17, None],\n",
       "              mask=[False, False, False, False, False, False, False, False,\n",
       "                    False, False, False, False, False, False, False, False,\n",
       "                    False, False, False, False, False, False, False, False,\n",
       "                    False, False, False, False, False, False],\n",
       "        fill_value='?',\n",
       "             dtype=object),\n",
       " 'params': [{'criterion': 'gini', 'max_depth': 4},\n",
       "  {'criterion': 'gini', 'max_depth': 5},\n",
       "  {'criterion': 'gini', 'max_depth': 6},\n",
       "  {'criterion': 'gini', 'max_depth': 7},\n",
       "  {'criterion': 'gini', 'max_depth': 8},\n",
       "  {'criterion': 'gini', 'max_depth': 9},\n",
       "  {'criterion': 'gini', 'max_depth': 10},\n",
       "  {'criterion': 'gini', 'max_depth': 11},\n",
       "  {'criterion': 'gini', 'max_depth': 12},\n",
       "  {'criterion': 'gini', 'max_depth': 13},\n",
       "  {'criterion': 'gini', 'max_depth': 14},\n",
       "  {'criterion': 'gini', 'max_depth': 15},\n",
       "  {'criterion': 'gini', 'max_depth': 16},\n",
       "  {'criterion': 'gini', 'max_depth': 17},\n",
       "  {'criterion': 'gini', 'max_depth': None},\n",
       "  {'criterion': 'entropy', 'max_depth': 4},\n",
       "  {'criterion': 'entropy', 'max_depth': 5},\n",
       "  {'criterion': 'entropy', 'max_depth': 6},\n",
       "  {'criterion': 'entropy', 'max_depth': 7},\n",
       "  {'criterion': 'entropy', 'max_depth': 8},\n",
       "  {'criterion': 'entropy', 'max_depth': 9},\n",
       "  {'criterion': 'entropy', 'max_depth': 10},\n",
       "  {'criterion': 'entropy', 'max_depth': 11},\n",
       "  {'criterion': 'entropy', 'max_depth': 12},\n",
       "  {'criterion': 'entropy', 'max_depth': 13},\n",
       "  {'criterion': 'entropy', 'max_depth': 14},\n",
       "  {'criterion': 'entropy', 'max_depth': 15},\n",
       "  {'criterion': 'entropy', 'max_depth': 16},\n",
       "  {'criterion': 'entropy', 'max_depth': 17},\n",
       "  {'criterion': 'entropy', 'max_depth': None}],\n",
       " 'split0_test_score': array([0.7793312 , 0.7793312 , 0.77886873, 0.77883316, 0.77627179,\n",
       "        0.77395945, 0.77111348, 0.76979723, 0.76392743, 0.76036998,\n",
       "        0.75585201, 0.75204554, 0.74286731, 0.73496976, 0.69843472,\n",
       "        0.7793312 , 0.7793312 , 0.77886873, 0.77915333, 0.77815724,\n",
       "        0.77580932, 0.77210957, 0.76791178, 0.76513696, 0.76193525,\n",
       "        0.75606546, 0.752508  , 0.74695838, 0.74276058, 0.69662042]),\n",
       " 'split1_test_score': array([0.77982141, 0.77982141, 0.77957238, 0.77576577, 0.77665516,\n",
       "        0.7761571 , 0.7726351 , 0.76740546, 0.76221139, 0.75879612,\n",
       "        0.75466932, 0.74901277, 0.7411861 , 0.73485361, 0.69408375,\n",
       "        0.77982141, 0.77982141, 0.77957238, 0.7782205 , 0.77697535,\n",
       "        0.77455619, 0.77295528, 0.7726351 , 0.7705717 , 0.76701412,\n",
       "        0.76466612, 0.75872496, 0.75363762, 0.75157423, 0.70006048]),\n",
       " 'mean_test_score': array([0.7795763 , 0.7795763 , 0.77922055, 0.77729949, 0.77646347,\n",
       "        0.77505825, 0.77187428, 0.76860136, 0.76306942, 0.75958306,\n",
       "        0.75526068, 0.75052918, 0.74202672, 0.73491168, 0.69625927,\n",
       "        0.7795763 , 0.7795763 , 0.77922055, 0.77868692, 0.7775663 ,\n",
       "        0.77518277, 0.77253242, 0.7702734 , 0.76785428, 0.76447464,\n",
       "        0.76036571, 0.75561643, 0.75029794, 0.74716733, 0.69834042]),\n",
       " 'std_test_score': array([2.45105326e-04, 2.45105326e-04, 3.51824482e-04, 1.53369324e-03,\n",
       "        1.91687214e-04, 1.09882883e-03, 7.60808166e-04, 1.19588393e-03,\n",
       "        8.58018296e-04, 7.86929987e-04, 5.91343484e-04, 1.51638184e-03,\n",
       "        8.40605014e-04, 5.80780219e-05, 2.17548766e-03, 2.45105326e-04,\n",
       "        2.45105326e-04, 3.51824482e-04, 4.66413723e-04, 5.90946721e-04,\n",
       "        6.26564280e-04, 4.22855839e-04, 2.36166195e-03, 2.71737054e-03,\n",
       "        2.53943462e-03, 4.30033202e-03, 3.10847963e-03, 3.33962358e-03,\n",
       "        4.40682274e-03, 1.72002954e-03]),\n",
       " 'rank_test_score': array([ 1,  1,  5,  9, 10, 12, 14, 16, 19, 21, 23, 24, 27, 28, 30,  1,  1,\n",
       "         5,  7,  8, 11, 13, 15, 17, 18, 20, 22, 25, 26, 29])}"
      ]
     },
     "execution_count": 7,
     "metadata": {},
     "output_type": "execute_result"
    }
   ],
   "source": [
    "grid_search_acc.cv_results_\n",
    "\n"
   ]
  }
 ],
 "metadata": {
  "kernelspec": {
   "display_name": "Python 3",
   "language": "python",
   "name": "python3"
  },
  "language_info": {
   "codemirror_mode": {
    "name": "ipython",
    "version": 3
   },
   "file_extension": ".py",
   "mimetype": "text/x-python",
   "name": "python",
   "nbconvert_exporter": "python",
   "pygments_lexer": "ipython3",
   "version": "3.7.4"
  },
  "pycharm": {
   "stem_cell": {
    "cell_type": "raw",
    "metadata": {
     "collapsed": false
    },
    "source": []
   }
  }
 },
 "nbformat": 4,
 "nbformat_minor": 1
}
