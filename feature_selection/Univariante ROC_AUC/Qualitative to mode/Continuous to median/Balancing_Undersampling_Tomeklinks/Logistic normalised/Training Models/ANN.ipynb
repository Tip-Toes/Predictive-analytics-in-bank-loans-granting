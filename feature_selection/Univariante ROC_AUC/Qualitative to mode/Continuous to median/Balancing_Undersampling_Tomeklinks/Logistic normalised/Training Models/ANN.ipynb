{
 "cells": [
  {
   "cell_type": "code",
   "execution_count": null,
   "metadata": {},
   "outputs": [],
   "source": [
    "### done"
   ]
  },
  {
   "cell_type": "code",
   "execution_count": 1,
   "metadata": {
    "pycharm": {
     "is_executing": false
    }
   },
   "outputs": [],
   "source": [
    "import warnings\n",
    "from plot_metric.functions import BinaryClassification\n",
    "from pylab import rcParams\n",
    "from tensorflow_core.python.keras.wrappers.scikit_learn import KerasClassifier\n",
    "rcParams['figure.figsize'] = 10, 5\n",
    "from sklearn.model_selection import GridSearchCV\n",
    "warnings.filterwarnings('ignore')\n",
    "import pandas as pd\n",
    "from sklearn.metrics import make_scorer, recall_score,precision_score, confusion_matrix,classification_report,accuracy_score\n",
    "import matplotlib.pyplot as plt\n",
    "import numpy as np\n",
    "\n",
    "\n",
    "import tensorflow as tf\n",
    "from sklearn.model_selection import train_test_split\n",
    "from tensorflow.keras.models import Sequential\n",
    "from tensorflow.keras.layers import Dense,Dropout"
   ]
  },
  {
   "cell_type": "code",
   "execution_count": null,
   "metadata": {
    "pycharm": {
     "is_executing": false,
     "name": "#%%\n"
    }
   },
   "outputs": [],
   "source": []
  },
  {
   "cell_type": "code",
   "execution_count": 2,
   "metadata": {
    "pycharm": {
     "is_executing": false,
     "name": "#%%\n"
    }
   },
   "outputs": [],
   "source": [
    "data= pd.read_csv('../logis_norm.csv')"
   ]
  },
  {
   "cell_type": "markdown",
   "metadata": {},
   "source": [
    "### split data en X et Y"
   ]
  },
  {
   "cell_type": "code",
   "execution_count": 3,
   "metadata": {
    "pycharm": {
     "is_executing": false,
     "name": "#%%\n"
    }
   },
   "outputs": [],
   "source": [
    "data1= data.copy()\n",
    "X= data1.drop('Loan Status', axis=1)\n",
    "Y= data1['Loan Status']"
   ]
  },
  {
   "cell_type": "code",
   "execution_count": 4,
   "metadata": {
    "pycharm": {
     "is_executing": false,
     "name": "#%%\n"
    }
   },
   "outputs": [],
   "source": [
    "X_train , X_test , Y_train , Y_test = train_test_split(X, Y, test_size = 0.30, random_state = 123)"
   ]
  },
  {
   "cell_type": "markdown",
   "metadata": {
    "pycharm": {
     "name": "#%% md\n"
    }
   },
   "source": [
    "### Neural Network"
   ]
  },
  {
   "cell_type": "code",
   "execution_count": 5,
   "metadata": {
    "pycharm": {
     "name": "#%%\n"
    }
   },
   "outputs": [],
   "source": [
    "## ANN Model\n",
    "def create_model(optimizer):\n",
    "    model = Sequential()\n",
    "\t#Layer 1\n",
    "    model.add(Dense(20, activation='relu', input_dim=20))\n",
    "    model.add(Dropout(0.3))\n",
    "    #Layer 2\n",
    "    model.add(Dense(10, activation='relu'))\n",
    "    model.add(Dropout(0.3))\n",
    "    \n",
    "    # output layer\n",
    "    model.add(Dense(units=1,activation='sigmoid'))\n",
    "    model.compile(loss='binary_crossentropy', optimizer=optimizer, metrics=['accuracy'])\n",
    "    return model"
   ]
  },
  {
   "cell_type": "code",
   "execution_count": 6,
   "metadata": {
    "pycharm": {
     "name": "#%%\n"
    }
   },
   "outputs": [],
   "source": [
    "from tensorflow.keras.callbacks import EarlyStopping\n",
    "early_stop = EarlyStopping(monitor='val_loss', mode='min', patience=50)\n",
    "ANN = KerasClassifier(build_fn=create_model)\n",
    "params={'optimizer' : ['adam', 'rmsprop'],\n",
    "        'batch_size': [128, 256, 512, 800]}"
   ]
  },
  {
   "cell_type": "code",
   "execution_count": 7,
   "metadata": {
    "pycharm": {
     "name": "#%%\n"
    }
   },
   "outputs": [
    {
     "name": "stdout",
     "output_type": "stream",
     "text": [
      "Train on 42845 samples, validate on 18363 samples\n",
      "Epoch 1/300\n",
      "42845/42845 [==============================] - 3s 67us/sample - loss: 0.6162 - accuracy: 0.6975 - val_loss: 0.5754 - val_accuracy: 0.7303\n",
      "Epoch 2/300\n",
      "42845/42845 [==============================] - 2s 38us/sample - loss: 0.5800 - accuracy: 0.7368 - val_loss: 0.5716 - val_accuracy: 0.7303\n",
      "Epoch 3/300\n",
      "42845/42845 [==============================] - 3s 66us/sample - loss: 0.5739 - accuracy: 0.7371 - val_loss: 0.5705 - val_accuracy: 0.7303\n",
      "Epoch 4/300\n",
      "42845/42845 [==============================] - 2s 41us/sample - loss: 0.5714 - accuracy: 0.7371 - val_loss: 0.5705 - val_accuracy: 0.7303\n",
      "Epoch 5/300\n",
      "42845/42845 [==============================] - 2s 52us/sample - loss: 0.5699 - accuracy: 0.7371 - val_loss: 0.5702 - val_accuracy: 0.7303\n",
      "Epoch 6/300\n",
      "42845/42845 [==============================] - 3s 62us/sample - loss: 0.5688 - accuracy: 0.7371 - val_loss: 0.5707 - val_accuracy: 0.7303\n",
      "Epoch 7/300\n",
      "42845/42845 [==============================] - 2s 49us/sample - loss: 0.5671 - accuracy: 0.7371 - val_loss: 0.5706 - val_accuracy: 0.7303\n",
      "Epoch 8/300\n",
      "42845/42845 [==============================] - 2s 47us/sample - loss: 0.5677 - accuracy: 0.7371 - val_loss: 0.5703 - val_accuracy: 0.7303\n",
      "Epoch 9/300\n",
      "42845/42845 [==============================] - 3s 62us/sample - loss: 0.5670 - accuracy: 0.7371 - val_loss: 0.5699 - val_accuracy: 0.7303\n",
      "Epoch 10/300\n",
      "42845/42845 [==============================] - 2s 49us/sample - loss: 0.5672 - accuracy: 0.7371 - val_loss: 0.5705 - val_accuracy: 0.7303\n",
      "Epoch 11/300\n",
      "42845/42845 [==============================] - 2s 57us/sample - loss: 0.5664 - accuracy: 0.7371 - val_loss: 0.5699 - val_accuracy: 0.7303\n",
      "Epoch 12/300\n",
      "42845/42845 [==============================] - 2s 43us/sample - loss: 0.5666 - accuracy: 0.7371 - val_loss: 0.5705 - val_accuracy: 0.7303\n",
      "Epoch 13/300\n",
      "42845/42845 [==============================] - 3s 59us/sample - loss: 0.5664 - accuracy: 0.7372 - val_loss: 0.5696 - val_accuracy: 0.7303\n",
      "Epoch 14/300\n",
      "42845/42845 [==============================] - 3s 59us/sample - loss: 0.5659 - accuracy: 0.7371 - val_loss: 0.5698 - val_accuracy: 0.7303\n",
      "Epoch 15/300\n",
      "42845/42845 [==============================] - 2s 50us/sample - loss: 0.5660 - accuracy: 0.7371 - val_loss: 0.5699 - val_accuracy: 0.7303\n",
      "Epoch 16/300\n",
      "42845/42845 [==============================] - 2s 56us/sample - loss: 0.5656 - accuracy: 0.7371 - val_loss: 0.5698 - val_accuracy: 0.7303\n",
      "Epoch 17/300\n",
      "42845/42845 [==============================] - 2s 51us/sample - loss: 0.5652 - accuracy: 0.7371 - val_loss: 0.5699 - val_accuracy: 0.7303\n",
      "Epoch 18/300\n",
      "42845/42845 [==============================] - 2s 44us/sample - loss: 0.5654 - accuracy: 0.7371 - val_loss: 0.5696 - val_accuracy: 0.7303\n",
      "Epoch 19/300\n",
      "42845/42845 [==============================] - 3s 65us/sample - loss: 0.5660 - accuracy: 0.7371 - val_loss: 0.5702 - val_accuracy: 0.7303\n",
      "Epoch 20/300\n",
      "42845/42845 [==============================] - 2s 51us/sample - loss: 0.5655 - accuracy: 0.7371 - val_loss: 0.5701 - val_accuracy: 0.7303\n",
      "Epoch 21/300\n",
      "42845/42845 [==============================] - 2s 57us/sample - loss: 0.5656 - accuracy: 0.7371 - val_loss: 0.5704 - val_accuracy: 0.7303\n",
      "Epoch 22/300\n",
      "42845/42845 [==============================] - 2s 46us/sample - loss: 0.5655 - accuracy: 0.7370 - val_loss: 0.5699 - val_accuracy: 0.7303\n",
      "Epoch 23/300\n",
      "42845/42845 [==============================] - 2s 46us/sample - loss: 0.5653 - accuracy: 0.7370 - val_loss: 0.5700 - val_accuracy: 0.7303\n",
      "Epoch 24/300\n",
      "42845/42845 [==============================] - 2s 46us/sample - loss: 0.5653 - accuracy: 0.7372 - val_loss: 0.5700 - val_accuracy: 0.7303\n",
      "Epoch 25/300\n",
      "42845/42845 [==============================] - 3s 66us/sample - loss: 0.5650 - accuracy: 0.7371 - val_loss: 0.5698 - val_accuracy: 0.7303\n",
      "Epoch 26/300\n",
      "42845/42845 [==============================] - 2s 40us/sample - loss: 0.5652 - accuracy: 0.7370 - val_loss: 0.5705 - val_accuracy: 0.7303\n",
      "Epoch 27/300\n",
      "42845/42845 [==============================] - 3s 58us/sample - loss: 0.5649 - accuracy: 0.7370 - val_loss: 0.5702 - val_accuracy: 0.7303\n",
      "Epoch 28/300\n",
      "42845/42845 [==============================] - 3s 64us/sample - loss: 0.5651 - accuracy: 0.7370 - val_loss: 0.5701 - val_accuracy: 0.7303\n",
      "Epoch 29/300\n",
      "42845/42845 [==============================] - 2s 53us/sample - loss: 0.5653 - accuracy: 0.7370 - val_loss: 0.5698 - val_accuracy: 0.7303\n",
      "Epoch 30/300\n",
      "42845/42845 [==============================] - 2s 54us/sample - loss: 0.5652 - accuracy: 0.7371 - val_loss: 0.5700 - val_accuracy: 0.7303\n",
      "Epoch 31/300\n",
      "42845/42845 [==============================] - 2s 48us/sample - loss: 0.5650 - accuracy: 0.7373 - val_loss: 0.5701 - val_accuracy: 0.7303\n",
      "Epoch 32/300\n",
      "42845/42845 [==============================] - 2s 46us/sample - loss: 0.5651 - accuracy: 0.7371 - val_loss: 0.5698 - val_accuracy: 0.7303\n",
      "Epoch 33/300\n",
      "42845/42845 [==============================] - 2s 40us/sample - loss: 0.5650 - accuracy: 0.7369 - val_loss: 0.5701 - val_accuracy: 0.7303\n",
      "Epoch 34/300\n",
      "42845/42845 [==============================] - 2s 44us/sample - loss: 0.5650 - accuracy: 0.7371 - val_loss: 0.5702 - val_accuracy: 0.7303\n",
      "Epoch 35/300\n",
      "42845/42845 [==============================] - 2s 50us/sample - loss: 0.5647 - accuracy: 0.7372 - val_loss: 0.5701 - val_accuracy: 0.7303\n",
      "Epoch 36/300\n",
      "42845/42845 [==============================] - 2s 49us/sample - loss: 0.5648 - accuracy: 0.7371 - val_loss: 0.5699 - val_accuracy: 0.7303\n",
      "Epoch 37/300\n",
      "42845/42845 [==============================] - 2s 47us/sample - loss: 0.5648 - accuracy: 0.7371 - val_loss: 0.5704 - val_accuracy: 0.7303\n",
      "Epoch 38/300\n",
      "42845/42845 [==============================] - 2s 46us/sample - loss: 0.5652 - accuracy: 0.7370 - val_loss: 0.5702 - val_accuracy: 0.7303\n",
      "Epoch 39/300\n",
      "42845/42845 [==============================] - 2s 49us/sample - loss: 0.5645 - accuracy: 0.7370 - val_loss: 0.5701 - val_accuracy: 0.7303\n",
      "Epoch 40/300\n",
      "42845/42845 [==============================] - 2s 40us/sample - loss: 0.5646 - accuracy: 0.7374 - val_loss: 0.5698 - val_accuracy: 0.7303\n",
      "Epoch 41/300\n",
      "42845/42845 [==============================] - 2s 50us/sample - loss: 0.5647 - accuracy: 0.7368 - val_loss: 0.5703 - val_accuracy: 0.7303\n",
      "Epoch 42/300\n",
      "42845/42845 [==============================] - 2s 42us/sample - loss: 0.5653 - accuracy: 0.7370 - val_loss: 0.5701 - val_accuracy: 0.7303\n",
      "Epoch 43/300\n",
      "42845/42845 [==============================] - 2s 50us/sample - loss: 0.5650 - accuracy: 0.7370 - val_loss: 0.5696 - val_accuracy: 0.7303\n",
      "Epoch 44/300\n",
      "42845/42845 [==============================] - 2s 42us/sample - loss: 0.5647 - accuracy: 0.7369 - val_loss: 0.5703 - val_accuracy: 0.7303\n",
      "Epoch 45/300\n",
      "42845/42845 [==============================] - 2s 51us/sample - loss: 0.5652 - accuracy: 0.7367 - val_loss: 0.5707 - val_accuracy: 0.7303\n",
      "Epoch 46/300\n",
      "42845/42845 [==============================] - 3s 60us/sample - loss: 0.5651 - accuracy: 0.7367 - val_loss: 0.5699 - val_accuracy: 0.7303\n",
      "Epoch 47/300\n",
      "42845/42845 [==============================] - 2s 54us/sample - loss: 0.5651 - accuracy: 0.7369 - val_loss: 0.5700 - val_accuracy: 0.7303\n",
      "Epoch 48/300\n",
      "42845/42845 [==============================] - 3s 60us/sample - loss: 0.5647 - accuracy: 0.7371 - val_loss: 0.5700 - val_accuracy: 0.7303\n",
      "Epoch 49/300\n",
      "42845/42845 [==============================] - 2s 50us/sample - loss: 0.5642 - accuracy: 0.7367 - val_loss: 0.5702 - val_accuracy: 0.7303\n",
      "Epoch 50/300\n",
      "42845/42845 [==============================] - 2s 48us/sample - loss: 0.5654 - accuracy: 0.7369 - val_loss: 0.5703 - val_accuracy: 0.7303\n",
      "Epoch 51/300\n",
      "42845/42845 [==============================] - 2s 49us/sample - loss: 0.5648 - accuracy: 0.7366 - val_loss: 0.5705 - val_accuracy: 0.7303\n",
      "Epoch 52/300\n",
      "42845/42845 [==============================] - 2s 50us/sample - loss: 0.5647 - accuracy: 0.7366 - val_loss: 0.5705 - val_accuracy: 0.7303\n",
      "Epoch 53/300\n",
      "42845/42845 [==============================] - 2s 43us/sample - loss: 0.5646 - accuracy: 0.7370 - val_loss: 0.5702 - val_accuracy: 0.7303\n",
      "Epoch 54/300\n",
      "42845/42845 [==============================] - 2s 54us/sample - loss: 0.5647 - accuracy: 0.7368 - val_loss: 0.5707 - val_accuracy: 0.7303\n"
     ]
    },
    {
     "name": "stdout",
     "output_type": "stream",
     "text": [
      "Epoch 55/300\n",
      "42845/42845 [==============================] - 2s 53us/sample - loss: 0.5643 - accuracy: 0.7368 - val_loss: 0.5698 - val_accuracy: 0.7303\n",
      "Epoch 56/300\n",
      "42845/42845 [==============================] - 2s 50us/sample - loss: 0.5648 - accuracy: 0.7369 - val_loss: 0.5697 - val_accuracy: 0.7303\n",
      "Epoch 57/300\n",
      "42845/42845 [==============================] - 2s 55us/sample - loss: 0.5645 - accuracy: 0.7369 - val_loss: 0.5698 - val_accuracy: 0.7303\n",
      "Epoch 58/300\n",
      "42845/42845 [==============================] - 2s 37us/sample - loss: 0.5650 - accuracy: 0.7367 - val_loss: 0.5704 - val_accuracy: 0.7303\n",
      "Epoch 59/300\n",
      "42845/42845 [==============================] - 2s 45us/sample - loss: 0.5651 - accuracy: 0.7366 - val_loss: 0.5704 - val_accuracy: 0.7303\n",
      "Epoch 60/300\n",
      "42845/42845 [==============================] - 2s 55us/sample - loss: 0.5653 - accuracy: 0.7372 - val_loss: 0.5704 - val_accuracy: 0.7303\n",
      "Epoch 61/300\n",
      "42845/42845 [==============================] - 2s 43us/sample - loss: 0.5652 - accuracy: 0.7370 - val_loss: 0.5702 - val_accuracy: 0.7303\n",
      "Epoch 62/300\n",
      "42845/42845 [==============================] - 2s 57us/sample - loss: 0.5647 - accuracy: 0.7368 - val_loss: 0.5702 - val_accuracy: 0.7303\n",
      "Epoch 63/300\n",
      "42845/42845 [==============================] - 2s 42us/sample - loss: 0.5645 - accuracy: 0.7370 - val_loss: 0.5699 - val_accuracy: 0.7303\n",
      "Epoch 64/300\n",
      "42845/42845 [==============================] - 2s 53us/sample - loss: 0.5647 - accuracy: 0.7370 - val_loss: 0.5703 - val_accuracy: 0.7303\n",
      "Epoch 65/300\n",
      "42845/42845 [==============================] - 2s 42us/sample - loss: 0.5649 - accuracy: 0.7371 - val_loss: 0.5702 - val_accuracy: 0.7303\n",
      "Epoch 66/300\n",
      "42845/42845 [==============================] - 2s 50us/sample - loss: 0.5648 - accuracy: 0.7368 - val_loss: 0.5703 - val_accuracy: 0.7303\n",
      "Epoch 67/300\n",
      "42845/42845 [==============================] - 3s 59us/sample - loss: 0.5651 - accuracy: 0.7371 - val_loss: 0.5706 - val_accuracy: 0.7303\n",
      "Epoch 68/300\n",
      "42845/42845 [==============================] - 2s 56us/sample - loss: 0.5646 - accuracy: 0.7368 - val_loss: 0.5702 - val_accuracy: 0.7303\n"
     ]
    }
   ],
   "source": [
    "##accuracy\n",
    "grid_search_acc= GridSearchCV(estimator=ANN, param_grid= params, scoring='accuracy',cv=2, n_jobs=-1)\n",
    "grid_search_acc= grid_search_acc.fit(X_train, Y_train, epochs=300, validation_data=(X_test, Y_test), callbacks=[early_stop])\n",
    "y_predict= grid_search_acc.best_estimator_.predict(X_test)"
   ]
  },
  {
   "cell_type": "code",
   "execution_count": 8,
   "metadata": {
    "pycharm": {
     "name": "#%%\n"
    }
   },
   "outputs": [
    {
     "name": "stdout",
     "output_type": "stream",
     "text": [
      "----------\n",
      "best parameters:  {'optimizer': 'adam', 'batch_size': 128}\n",
      "----------\n",
      "[[    0  4952]\n",
      " [    0 13411]]\n",
      "----------\n",
      "              precision    recall  f1-score   support\n",
      "\n",
      "           0       0.00      0.00      0.00      4952\n",
      "           1       0.73      1.00      0.84     13411\n",
      "\n",
      "    accuracy                           0.73     18363\n",
      "   macro avg       0.37      0.50      0.42     18363\n",
      "weighted avg       0.53      0.73      0.62     18363\n",
      "\n",
      "----------\n"
     ]
    }
   ],
   "source": [
    "## evaluating the model\n",
    "print(\"----------\")\n",
    "print('best parameters: ', grid_search_acc.best_params_)\n",
    "print(\"----------\")\n",
    "print(confusion_matrix(Y_test,y_predict))\n",
    "print(\"----------\")\n",
    "print(classification_report(Y_test, y_predict))\n",
    "print(\"----------\")"
   ]
  },
  {
   "cell_type": "code",
   "execution_count": 9,
   "metadata": {
    "pycharm": {
     "name": "#%%\n"
    }
   },
   "outputs": [
    {
     "data": {
      "image/png": "[encoded data removed]",
      "text/plain": [
       "<Figure size 504x432 with 1 Axes>"
      ]
     },
     "metadata": {},
     "output_type": "display_data"
    }
   ],
   "source": [
    "##ROC\n",
    "y_predict_proba = grid_search_acc.best_estimator_.predict_proba(X_test)[:,1]\n",
    "\n",
    "# Visualisation with plot_metric\n",
    "bc = BinaryClassification(Y_test, y_predict_proba, labels=[1, 0])\n",
    "# Figures\n",
    "plt.figure(figsize=(7,6))\n",
    "bc.plot_roc_curve()\n",
    "plt.title('Neural Network')\n",
    "plt.show()"
   ]
  },
  {
   "cell_type": "code",
   "execution_count": 10,
   "metadata": {
    "pycharm": {
     "name": "#%%\n"
    }
   },
   "outputs": [],
   "source": [
    "early_stop_rec = EarlyStopping(monitor='val_loss', mode='min', patience=50)\n",
    "ANN_rec = KerasClassifier(build_fn=create_model)"
   ]
  },
  {
   "cell_type": "code",
   "execution_count": 11,
   "metadata": {
    "pycharm": {
     "name": "#%%\n"
    }
   },
   "outputs": [
    {
     "name": "stdout",
     "output_type": "stream",
     "text": [
      "Train on 42845 samples, validate on 18363 samples\n",
      "Epoch 1/300\n",
      "42845/42845 [==============================] - 3s 70us/sample - loss: 0.5980 - accuracy: 0.7228 - val_loss: 0.5742 - val_accuracy: 0.7303\n",
      "Epoch 2/300\n",
      "42845/42845 [==============================] - 2s 44us/sample - loss: 0.5786 - accuracy: 0.7371 - val_loss: 0.5716 - val_accuracy: 0.7303\n",
      "Epoch 3/300\n",
      "42845/42845 [==============================] - 2s 41us/sample - loss: 0.5734 - accuracy: 0.7371 - val_loss: 0.5701 - val_accuracy: 0.7303\n",
      "Epoch 4/300\n",
      "42845/42845 [==============================] - 1s 34us/sample - loss: 0.5707 - accuracy: 0.7371 - val_loss: 0.5704 - val_accuracy: 0.7303\n",
      "Epoch 5/300\n",
      "42845/42845 [==============================] - 2s 51us/sample - loss: 0.5697 - accuracy: 0.7371 - val_loss: 0.5708 - val_accuracy: 0.7303\n",
      "Epoch 6/300\n",
      "42845/42845 [==============================] - 2s 49us/sample - loss: 0.5680 - accuracy: 0.7371 - val_loss: 0.5702 - val_accuracy: 0.7303\n",
      "Epoch 7/300\n",
      "42845/42845 [==============================] - 2s 49us/sample - loss: 0.5682 - accuracy: 0.7371 - val_loss: 0.5703 - val_accuracy: 0.7303\n",
      "Epoch 8/300\n",
      "42845/42845 [==============================] - 2s 46us/sample - loss: 0.5674 - accuracy: 0.7371 - val_loss: 0.5709 - val_accuracy: 0.7303\n",
      "Epoch 9/300\n",
      "42845/42845 [==============================] - 2s 44us/sample - loss: 0.5672 - accuracy: 0.7371 - val_loss: 0.5703 - val_accuracy: 0.7303\n",
      "Epoch 10/300\n",
      "42845/42845 [==============================] - 2s 43us/sample - loss: 0.5665 - accuracy: 0.7371 - val_loss: 0.5700 - val_accuracy: 0.7303\n",
      "Epoch 11/300\n",
      "42845/42845 [==============================] - 2s 50us/sample - loss: 0.5666 - accuracy: 0.7371 - val_loss: 0.5699 - val_accuracy: 0.7303\n",
      "Epoch 12/300\n",
      "42845/42845 [==============================] - 2s 50us/sample - loss: 0.5660 - accuracy: 0.7372 - val_loss: 0.5703 - val_accuracy: 0.7303\n",
      "Epoch 13/300\n",
      "42845/42845 [==============================] - 2s 57us/sample - loss: 0.5661 - accuracy: 0.7373 - val_loss: 0.5707 - val_accuracy: 0.7303\n",
      "Epoch 14/300\n",
      "42845/42845 [==============================] - 2s 51us/sample - loss: 0.5654 - accuracy: 0.7372 - val_loss: 0.5700 - val_accuracy: 0.7303\n",
      "Epoch 15/300\n",
      "42845/42845 [==============================] - 2s 46us/sample - loss: 0.5658 - accuracy: 0.7372 - val_loss: 0.5698 - val_accuracy: 0.7303\n",
      "Epoch 16/300\n",
      "42845/42845 [==============================] - 2s 39us/sample - loss: 0.5655 - accuracy: 0.7368 - val_loss: 0.5705 - val_accuracy: 0.7303\n",
      "Epoch 17/300\n",
      "42845/42845 [==============================] - 2s 51us/sample - loss: 0.5660 - accuracy: 0.7373 - val_loss: 0.5705 - val_accuracy: 0.7303\n",
      "Epoch 18/300\n",
      "42845/42845 [==============================] - 2s 46us/sample - loss: 0.5655 - accuracy: 0.7371 - val_loss: 0.5698 - val_accuracy: 0.7303\n",
      "Epoch 19/300\n",
      "42845/42845 [==============================] - 2s 44us/sample - loss: 0.5652 - accuracy: 0.7370 - val_loss: 0.5701 - val_accuracy: 0.7303\n",
      "Epoch 20/300\n",
      "42845/42845 [==============================] - 2s 45us/sample - loss: 0.5652 - accuracy: 0.7367 - val_loss: 0.5706 - val_accuracy: 0.7303\n",
      "Epoch 21/300\n",
      "42845/42845 [==============================] - 2s 50us/sample - loss: 0.5655 - accuracy: 0.7370 - val_loss: 0.5701 - val_accuracy: 0.7303\n",
      "Epoch 22/300\n",
      "42845/42845 [==============================] - 2s 43us/sample - loss: 0.5655 - accuracy: 0.7364 - val_loss: 0.5703 - val_accuracy: 0.7303\n",
      "Epoch 23/300\n",
      "42845/42845 [==============================] - 2s 50us/sample - loss: 0.5649 - accuracy: 0.7370 - val_loss: 0.5700 - val_accuracy: 0.7303\n",
      "Epoch 24/300\n",
      "42845/42845 [==============================] - 2s 58us/sample - loss: 0.5653 - accuracy: 0.7370 - val_loss: 0.5702 - val_accuracy: 0.7303\n",
      "Epoch 25/300\n",
      "42845/42845 [==============================] - 2s 47us/sample - loss: 0.5653 - accuracy: 0.7369 - val_loss: 0.5706 - val_accuracy: 0.7303\n",
      "Epoch 26/300\n",
      "42845/42845 [==============================] - 2s 40us/sample - loss: 0.5652 - accuracy: 0.7369 - val_loss: 0.5704 - val_accuracy: 0.7303\n",
      "Epoch 27/300\n",
      "42845/42845 [==============================] - 2s 48us/sample - loss: 0.5648 - accuracy: 0.7367 - val_loss: 0.5700 - val_accuracy: 0.7303\n",
      "Epoch 28/300\n",
      "42845/42845 [==============================] - 2s 45us/sample - loss: 0.5652 - accuracy: 0.7369 - val_loss: 0.5699 - val_accuracy: 0.7303\n",
      "Epoch 29/300\n",
      "42845/42845 [==============================] - 2s 41us/sample - loss: 0.5651 - accuracy: 0.7370 - val_loss: 0.5697 - val_accuracy: 0.7303\n",
      "Epoch 30/300\n",
      "42845/42845 [==============================] - 3s 59us/sample - loss: 0.5649 - accuracy: 0.7369 - val_loss: 0.5700 - val_accuracy: 0.7303\n",
      "Epoch 31/300\n",
      "42845/42845 [==============================] - 2s 49us/sample - loss: 0.5655 - accuracy: 0.7366 - val_loss: 0.5698 - val_accuracy: 0.7303\n",
      "Epoch 32/300\n",
      "42845/42845 [==============================] - 2s 51us/sample - loss: 0.5655 - accuracy: 0.7366 - val_loss: 0.5697 - val_accuracy: 0.7303\n",
      "Epoch 33/300\n",
      "42845/42845 [==============================] - 2s 43us/sample - loss: 0.5654 - accuracy: 0.7366 - val_loss: 0.5700 - val_accuracy: 0.7303\n",
      "Epoch 34/300\n",
      "42845/42845 [==============================] - 2s 51us/sample - loss: 0.5653 - accuracy: 0.7368 - val_loss: 0.5702 - val_accuracy: 0.7303\n",
      "Epoch 35/300\n",
      "42845/42845 [==============================] - 2s 40us/sample - loss: 0.5657 - accuracy: 0.7372 - val_loss: 0.5702 - val_accuracy: 0.7303\n",
      "Epoch 36/300\n",
      "42845/42845 [==============================] - 2s 48us/sample - loss: 0.5654 - accuracy: 0.7370 - val_loss: 0.5699 - val_accuracy: 0.7303\n",
      "Epoch 37/300\n",
      "42845/42845 [==============================] - 2s 45us/sample - loss: 0.5649 - accuracy: 0.7367 - val_loss: 0.5698 - val_accuracy: 0.7303\n",
      "Epoch 38/300\n",
      "42845/42845 [==============================] - 2s 49us/sample - loss: 0.5646 - accuracy: 0.7363 - val_loss: 0.5702 - val_accuracy: 0.7303\n",
      "Epoch 39/300\n",
      "42845/42845 [==============================] - 2s 47us/sample - loss: 0.5648 - accuracy: 0.7369 - val_loss: 0.5698 - val_accuracy: 0.7303\n",
      "Epoch 40/300\n",
      "42845/42845 [==============================] - 2s 55us/sample - loss: 0.5651 - accuracy: 0.7370 - val_loss: 0.5700 - val_accuracy: 0.7303\n",
      "Epoch 41/300\n",
      "42845/42845 [==============================] - 2s 43us/sample - loss: 0.5647 - accuracy: 0.7369 - val_loss: 0.5696 - val_accuracy: 0.7303\n",
      "Epoch 42/300\n",
      "42845/42845 [==============================] - 2s 39us/sample - loss: 0.5646 - accuracy: 0.7372 - val_loss: 0.5701 - val_accuracy: 0.7303\n",
      "Epoch 43/300\n",
      "42845/42845 [==============================] - 2s 53us/sample - loss: 0.5654 - accuracy: 0.7370 - val_loss: 0.5699 - val_accuracy: 0.7303\n",
      "Epoch 44/300\n",
      "42845/42845 [==============================] - 2s 47us/sample - loss: 0.5651 - accuracy: 0.7369 - val_loss: 0.5699 - val_accuracy: 0.7303\n",
      "Epoch 45/300\n",
      "42845/42845 [==============================] - 2s 45us/sample - loss: 0.5656 - accuracy: 0.7371 - val_loss: 0.5698 - val_accuracy: 0.7303\n",
      "Epoch 46/300\n",
      "42845/42845 [==============================] - 2s 42us/sample - loss: 0.5650 - accuracy: 0.7366 - val_loss: 0.5699 - val_accuracy: 0.7303\n",
      "Epoch 47/300\n",
      "42845/42845 [==============================] - 2s 44us/sample - loss: 0.5652 - accuracy: 0.7372 - val_loss: 0.5698 - val_accuracy: 0.7303\n",
      "Epoch 48/300\n",
      "42845/42845 [==============================] - 2s 48us/sample - loss: 0.5650 - accuracy: 0.7370 - val_loss: 0.5700 - val_accuracy: 0.7303\n",
      "Epoch 49/300\n",
      "42845/42845 [==============================] - 2s 42us/sample - loss: 0.5655 - accuracy: 0.7369 - val_loss: 0.5698 - val_accuracy: 0.7303\n",
      "Epoch 50/300\n",
      "42845/42845 [==============================] - 2s 40us/sample - loss: 0.5650 - accuracy: 0.7370 - val_loss: 0.5695 - val_accuracy: 0.7303\n",
      "Epoch 51/300\n",
      "42845/42845 [==============================] - 2s 47us/sample - loss: 0.5650 - accuracy: 0.7367 - val_loss: 0.5703 - val_accuracy: 0.7303\n",
      "Epoch 52/300\n",
      "42845/42845 [==============================] - 2s 42us/sample - loss: 0.5653 - accuracy: 0.7370 - val_loss: 0.5703 - val_accuracy: 0.7303\n",
      "Epoch 53/300\n",
      "42845/42845 [==============================] - 2s 47us/sample - loss: 0.5648 - accuracy: 0.7372 - val_loss: 0.5700 - val_accuracy: 0.7303\n",
      "Epoch 54/300\n",
      "42845/42845 [==============================] - 2s 38us/sample - loss: 0.5648 - accuracy: 0.7370 - val_loss: 0.5700 - val_accuracy: 0.7303\n"
     ]
    },
    {
     "name": "stdout",
     "output_type": "stream",
     "text": [
      "Epoch 55/300\n",
      "42845/42845 [==============================] - 2s 53us/sample - loss: 0.5652 - accuracy: 0.7363 - val_loss: 0.5705 - val_accuracy: 0.7303\n",
      "Epoch 56/300\n",
      "42845/42845 [==============================] - 2s 46us/sample - loss: 0.5648 - accuracy: 0.7369 - val_loss: 0.5699 - val_accuracy: 0.7303\n",
      "Epoch 57/300\n",
      "42845/42845 [==============================] - 2s 42us/sample - loss: 0.5647 - accuracy: 0.7371 - val_loss: 0.5700 - val_accuracy: 0.7303\n",
      "Epoch 58/300\n",
      "42845/42845 [==============================] - 2s 45us/sample - loss: 0.5645 - accuracy: 0.7360 - val_loss: 0.5706 - val_accuracy: 0.7303\n",
      "Epoch 59/300\n",
      "42845/42845 [==============================] - 2s 43us/sample - loss: 0.5650 - accuracy: 0.7369 - val_loss: 0.5697 - val_accuracy: 0.7303\n",
      "Epoch 60/300\n",
      "42845/42845 [==============================] - 2s 45us/sample - loss: 0.5653 - accuracy: 0.7367 - val_loss: 0.5698 - val_accuracy: 0.7303\n",
      "Epoch 61/300\n",
      "42845/42845 [==============================] - 2s 46us/sample - loss: 0.5650 - accuracy: 0.7369 - val_loss: 0.5701 - val_accuracy: 0.7303\n",
      "Epoch 62/300\n",
      "42845/42845 [==============================] - 2s 45us/sample - loss: 0.5650 - accuracy: 0.7365 - val_loss: 0.5699 - val_accuracy: 0.7303\n",
      "Epoch 63/300\n",
      "42845/42845 [==============================] - 2s 41us/sample - loss: 0.5649 - accuracy: 0.7366 - val_loss: 0.5700 - val_accuracy: 0.7303\n",
      "Epoch 64/300\n",
      "42845/42845 [==============================] - 2s 39us/sample - loss: 0.5652 - accuracy: 0.7369 - val_loss: 0.5709 - val_accuracy: 0.7303\n",
      "Epoch 65/300\n",
      "42845/42845 [==============================] - 2s 40us/sample - loss: 0.5657 - accuracy: 0.7371 - val_loss: 0.5702 - val_accuracy: 0.7303\n",
      "Epoch 66/300\n",
      "42845/42845 [==============================] - 2s 46us/sample - loss: 0.5651 - accuracy: 0.7364 - val_loss: 0.5704 - val_accuracy: 0.7303\n",
      "Epoch 67/300\n",
      "42845/42845 [==============================] - 2s 44us/sample - loss: 0.5650 - accuracy: 0.7371 - val_loss: 0.5699 - val_accuracy: 0.7303\n",
      "Epoch 68/300\n",
      "42845/42845 [==============================] - 2s 41us/sample - loss: 0.5651 - accuracy: 0.7369 - val_loss: 0.5700 - val_accuracy: 0.7303\n",
      "Epoch 69/300\n",
      "42845/42845 [==============================] - 2s 54us/sample - loss: 0.5646 - accuracy: 0.7368 - val_loss: 0.5705 - val_accuracy: 0.7303\n",
      "Epoch 70/300\n",
      "42845/42845 [==============================] - 2s 42us/sample - loss: 0.5651 - accuracy: 0.7365 - val_loss: 0.5703 - val_accuracy: 0.7303\n",
      "Epoch 71/300\n",
      "42845/42845 [==============================] - 2s 41us/sample - loss: 0.5648 - accuracy: 0.7367 - val_loss: 0.5698 - val_accuracy: 0.7303\n",
      "Epoch 72/300\n",
      "42845/42845 [==============================] - 2s 49us/sample - loss: 0.5648 - accuracy: 0.7365 - val_loss: 0.5700 - val_accuracy: 0.7303\n",
      "Epoch 73/300\n",
      "42845/42845 [==============================] - 2s 47us/sample - loss: 0.5649 - accuracy: 0.7365 - val_loss: 0.5699 - val_accuracy: 0.7303\n",
      "Epoch 74/300\n",
      "42845/42845 [==============================] - 2s 43us/sample - loss: 0.5648 - accuracy: 0.7368 - val_loss: 0.5698 - val_accuracy: 0.7303\n",
      "Epoch 75/300\n",
      "42845/42845 [==============================] - 2s 46us/sample - loss: 0.5645 - accuracy: 0.7372 - val_loss: 0.5695 - val_accuracy: 0.7303\n",
      "Epoch 76/300\n",
      "42845/42845 [==============================] - 2s 46us/sample - loss: 0.5651 - accuracy: 0.7363 - val_loss: 0.5698 - val_accuracy: 0.7303\n",
      "Epoch 77/300\n",
      "42845/42845 [==============================] - 2s 40us/sample - loss: 0.5648 - accuracy: 0.7368 - val_loss: 0.5704 - val_accuracy: 0.7303\n",
      "Epoch 78/300\n",
      "42845/42845 [==============================] - 2s 54us/sample - loss: 0.5653 - accuracy: 0.7371 - val_loss: 0.5701 - val_accuracy: 0.7303\n",
      "Epoch 79/300\n",
      "42845/42845 [==============================] - 2s 41us/sample - loss: 0.5650 - accuracy: 0.7368 - val_loss: 0.5700 - val_accuracy: 0.7303\n",
      "Epoch 80/300\n",
      "42845/42845 [==============================] - 2s 45us/sample - loss: 0.5656 - accuracy: 0.7367 - val_loss: 0.5705 - val_accuracy: 0.7303\n",
      "Epoch 81/300\n",
      "42845/42845 [==============================] - 2s 50us/sample - loss: 0.5657 - accuracy: 0.7364 - val_loss: 0.5704 - val_accuracy: 0.7303\n",
      "Epoch 82/300\n",
      "42845/42845 [==============================] - 2s 39us/sample - loss: 0.5650 - accuracy: 0.7368 - val_loss: 0.5702 - val_accuracy: 0.7303\n",
      "Epoch 83/300\n",
      "42845/42845 [==============================] - 2s 46us/sample - loss: 0.5650 - accuracy: 0.7367 - val_loss: 0.5697 - val_accuracy: 0.7303\n",
      "Epoch 84/300\n",
      "42845/42845 [==============================] - 2s 43us/sample - loss: 0.5652 - accuracy: 0.7367 - val_loss: 0.5703 - val_accuracy: 0.7303\n",
      "Epoch 85/300\n",
      "42845/42845 [==============================] - 2s 58us/sample - loss: 0.5651 - accuracy: 0.7367 - val_loss: 0.5695 - val_accuracy: 0.7303\n",
      "Epoch 86/300\n",
      "42845/42845 [==============================] - 2s 44us/sample - loss: 0.5646 - accuracy: 0.7364 - val_loss: 0.5698 - val_accuracy: 0.7303\n",
      "Epoch 87/300\n",
      "42845/42845 [==============================] - 2s 45us/sample - loss: 0.5646 - accuracy: 0.7364 - val_loss: 0.5702 - val_accuracy: 0.7303\n",
      "Epoch 88/300\n",
      "42845/42845 [==============================] - 2s 51us/sample - loss: 0.5652 - accuracy: 0.7368 - val_loss: 0.5704 - val_accuracy: 0.7303\n",
      "Epoch 89/300\n",
      "42845/42845 [==============================] - 2s 40us/sample - loss: 0.5649 - accuracy: 0.7372 - val_loss: 0.5698 - val_accuracy: 0.7303\n",
      "Epoch 90/300\n",
      "42845/42845 [==============================] - 2s 42us/sample - loss: 0.5647 - accuracy: 0.7369 - val_loss: 0.5701 - val_accuracy: 0.7303\n",
      "Epoch 91/300\n",
      "42845/42845 [==============================] - 2s 47us/sample - loss: 0.5649 - accuracy: 0.7371 - val_loss: 0.5697 - val_accuracy: 0.7303\n",
      "Epoch 92/300\n",
      "42845/42845 [==============================] - 2s 41us/sample - loss: 0.5646 - accuracy: 0.7367 - val_loss: 0.5699 - val_accuracy: 0.7303\n",
      "Epoch 93/300\n",
      "42845/42845 [==============================] - 2s 48us/sample - loss: 0.5649 - accuracy: 0.7367 - val_loss: 0.5702 - val_accuracy: 0.7303\n",
      "Epoch 94/300\n",
      "42845/42845 [==============================] - 2s 52us/sample - loss: 0.5651 - accuracy: 0.7369 - val_loss: 0.5698 - val_accuracy: 0.7303\n",
      "Epoch 95/300\n",
      "42845/42845 [==============================] - 2s 40us/sample - loss: 0.5648 - accuracy: 0.7365 - val_loss: 0.5700 - val_accuracy: 0.7303\n",
      "Epoch 96/300\n",
      "42845/42845 [==============================] - 2s 50us/sample - loss: 0.5649 - accuracy: 0.7367 - val_loss: 0.5702 - val_accuracy: 0.7303\n",
      "Epoch 97/300\n",
      "42845/42845 [==============================] - 2s 44us/sample - loss: 0.5652 - accuracy: 0.7368 - val_loss: 0.5699 - val_accuracy: 0.7303\n",
      "Epoch 98/300\n",
      "42845/42845 [==============================] - 2s 42us/sample - loss: 0.5650 - accuracy: 0.7366 - val_loss: 0.5703 - val_accuracy: 0.7303\n",
      "Epoch 99/300\n",
      "42845/42845 [==============================] - 2s 50us/sample - loss: 0.5650 - accuracy: 0.7368 - val_loss: 0.5704 - val_accuracy: 0.7303\n",
      "Epoch 100/300\n",
      "42845/42845 [==============================] - 2s 44us/sample - loss: 0.5643 - accuracy: 0.7367 - val_loss: 0.5699 - val_accuracy: 0.7303\n"
     ]
    }
   ],
   "source": [
    "## Recall\n",
    "rec_avg=make_scorer(recall_score, average='macro')\n",
    "grid_search_rec= GridSearchCV(estimator=ANN_rec, param_grid= params, scoring=rec_avg,cv=2, n_jobs=-1)\n",
    "grid_search_rec= grid_search_rec.fit(X_train, Y_train, epochs=300, validation_data=(X_test, Y_test), callbacks=[early_stop_rec])\n",
    "y_predict= grid_search_rec.best_estimator_.predict(X_test)"
   ]
  },
  {
   "cell_type": "code",
   "execution_count": 12,
   "metadata": {
    "pycharm": {
     "name": "#%%\n"
    }
   },
   "outputs": [
    {
     "name": "stdout",
     "output_type": "stream",
     "text": [
      "----------\n",
      "best parameters:  {'optimizer': 'adam', 'batch_size': 128}\n",
      "----------\n",
      "[[    0  4952]\n",
      " [    0 13411]]\n",
      "----------\n",
      "              precision    recall  f1-score   support\n",
      "\n",
      "           0       0.00      0.00      0.00      4952\n",
      "           1       0.73      1.00      0.84     13411\n",
      "\n",
      "    accuracy                           0.73     18363\n",
      "   macro avg       0.37      0.50      0.42     18363\n",
      "weighted avg       0.53      0.73      0.62     18363\n",
      "\n",
      "----------\n"
     ]
    }
   ],
   "source": [
    "## evaluating the model\n",
    "print(\"----------\")\n",
    "print('best parameters: ', grid_search_rec.best_params_)\n",
    "print(\"----------\")\n",
    "print(confusion_matrix(Y_test,y_predict))\n",
    "print(\"----------\")\n",
    "print(classification_report(Y_test, y_predict))\n",
    "print(\"----------\")\n"
   ]
  },
  {
   "cell_type": "code",
   "execution_count": 13,
   "metadata": {
    "pycharm": {
     "name": "#%%\n"
    }
   },
   "outputs": [],
   "source": [
    "early_stop_prec_avg = EarlyStopping(monitor='val_loss', mode='min', patience=50)\n",
    "ANN_rec_prec_avg = KerasClassifier(build_fn=create_model)"
   ]
  },
  {
   "cell_type": "code",
   "execution_count": 14,
   "metadata": {
    "pycharm": {
     "name": "#%%\n"
    }
   },
   "outputs": [
    {
     "name": "stdout",
     "output_type": "stream",
     "text": [
      "Train on 42845 samples, validate on 18363 samples\n",
      "Epoch 1/300\n",
      "42845/42845 [==============================] - 4s 83us/sample - loss: 0.5910 - accuracy: 0.7311 - val_loss: 0.5719 - val_accuracy: 0.7303\n",
      "Epoch 2/300\n",
      "42845/42845 [==============================] - 2s 56us/sample - loss: 0.5742 - accuracy: 0.7371 - val_loss: 0.5714 - val_accuracy: 0.7303\n",
      "Epoch 3/300\n",
      "42845/42845 [==============================] - 3s 59us/sample - loss: 0.5717 - accuracy: 0.7371 - val_loss: 0.5714 - val_accuracy: 0.7303\n",
      "Epoch 4/300\n",
      "42845/42845 [==============================] - 2s 50us/sample - loss: 0.5698 - accuracy: 0.7371 - val_loss: 0.5718 - val_accuracy: 0.7303\n",
      "Epoch 5/300\n",
      "42845/42845 [==============================] - 2s 42us/sample - loss: 0.5694 - accuracy: 0.7371 - val_loss: 0.5728 - val_accuracy: 0.7303\n",
      "Epoch 6/300\n",
      "42845/42845 [==============================] - 2s 58us/sample - loss: 0.5679 - accuracy: 0.7371 - val_loss: 0.5707 - val_accuracy: 0.7303\n",
      "Epoch 7/300\n",
      "42845/42845 [==============================] - 2s 50us/sample - loss: 0.5679 - accuracy: 0.7371 - val_loss: 0.5708 - val_accuracy: 0.7303\n",
      "Epoch 8/300\n",
      "42845/42845 [==============================] - 2s 45us/sample - loss: 0.5673 - accuracy: 0.7371 - val_loss: 0.5706 - val_accuracy: 0.7303\n",
      "Epoch 9/300\n",
      "42845/42845 [==============================] - 2s 45us/sample - loss: 0.5670 - accuracy: 0.7371 - val_loss: 0.5711 - val_accuracy: 0.7303\n",
      "Epoch 10/300\n",
      "42845/42845 [==============================] - 2s 52us/sample - loss: 0.5671 - accuracy: 0.7371 - val_loss: 0.5703 - val_accuracy: 0.7303\n",
      "Epoch 11/300\n",
      "42845/42845 [==============================] - 2s 43us/sample - loss: 0.5663 - accuracy: 0.7371 - val_loss: 0.5713 - val_accuracy: 0.7303\n",
      "Epoch 12/300\n",
      "42845/42845 [==============================] - 2s 57us/sample - loss: 0.5665 - accuracy: 0.7371 - val_loss: 0.5706 - val_accuracy: 0.7303\n",
      "Epoch 13/300\n",
      "42845/42845 [==============================] - 2s 40us/sample - loss: 0.5661 - accuracy: 0.7371 - val_loss: 0.5705 - val_accuracy: 0.7303\n",
      "Epoch 14/300\n",
      "42845/42845 [==============================] - 3s 61us/sample - loss: 0.5661 - accuracy: 0.7371 - val_loss: 0.5703 - val_accuracy: 0.7303\n",
      "Epoch 15/300\n",
      "42845/42845 [==============================] - 2s 51us/sample - loss: 0.5658 - accuracy: 0.7371 - val_loss: 0.5708 - val_accuracy: 0.7303\n",
      "Epoch 16/300\n",
      "42845/42845 [==============================] - 2s 48us/sample - loss: 0.5659 - accuracy: 0.7371 - val_loss: 0.5707 - val_accuracy: 0.7303\n",
      "Epoch 17/300\n",
      "42845/42845 [==============================] - 2s 47us/sample - loss: 0.5663 - accuracy: 0.7371 - val_loss: 0.5711 - val_accuracy: 0.7303\n",
      "Epoch 18/300\n",
      "42845/42845 [==============================] - 2s 58us/sample - loss: 0.5659 - accuracy: 0.7371 - val_loss: 0.5705 - val_accuracy: 0.7303\n",
      "Epoch 19/300\n",
      "42845/42845 [==============================] - 2s 44us/sample - loss: 0.5655 - accuracy: 0.7372 - val_loss: 0.5709 - val_accuracy: 0.7303\n",
      "Epoch 20/300\n",
      "42845/42845 [==============================] - 3s 60us/sample - loss: 0.5654 - accuracy: 0.7371 - val_loss: 0.5701 - val_accuracy: 0.7303\n",
      "Epoch 21/300\n",
      "42845/42845 [==============================] - 2s 45us/sample - loss: 0.5654 - accuracy: 0.7371 - val_loss: 0.5699 - val_accuracy: 0.7303\n",
      "Epoch 22/300\n",
      "42845/42845 [==============================] - 2s 49us/sample - loss: 0.5655 - accuracy: 0.7371 - val_loss: 0.5698 - val_accuracy: 0.7303\n",
      "Epoch 23/300\n",
      "42845/42845 [==============================] - 2s 56us/sample - loss: 0.5661 - accuracy: 0.7371 - val_loss: 0.5704 - val_accuracy: 0.7303\n",
      "Epoch 24/300\n",
      "42845/42845 [==============================] - 3s 65us/sample - loss: 0.5663 - accuracy: 0.7371 - val_loss: 0.5709 - val_accuracy: 0.7303\n",
      "Epoch 25/300\n",
      "42845/42845 [==============================] - 2s 45us/sample - loss: 0.5652 - accuracy: 0.7371 - val_loss: 0.5702 - val_accuracy: 0.7303\n",
      "Epoch 26/300\n",
      "42845/42845 [==============================] - 2s 54us/sample - loss: 0.5653 - accuracy: 0.7371 - val_loss: 0.5698 - val_accuracy: 0.7303\n",
      "Epoch 27/300\n",
      "42845/42845 [==============================] - 2s 39us/sample - loss: 0.5659 - accuracy: 0.7371 - val_loss: 0.5701 - val_accuracy: 0.7303\n",
      "Epoch 28/300\n",
      "42845/42845 [==============================] - 3s 59us/sample - loss: 0.5655 - accuracy: 0.7371 - val_loss: 0.5699 - val_accuracy: 0.7303\n",
      "Epoch 29/300\n",
      "42845/42845 [==============================] - 2s 42us/sample - loss: 0.5652 - accuracy: 0.7372 - val_loss: 0.5700 - val_accuracy: 0.7303\n",
      "Epoch 30/300\n",
      "42845/42845 [==============================] - 2s 47us/sample - loss: 0.5655 - accuracy: 0.7372 - val_loss: 0.5698 - val_accuracy: 0.7303\n",
      "Epoch 31/300\n",
      "42845/42845 [==============================] - 2s 41us/sample - loss: 0.5659 - accuracy: 0.7371 - val_loss: 0.5703 - val_accuracy: 0.7303\n",
      "Epoch 32/300\n",
      "42845/42845 [==============================] - 2s 51us/sample - loss: 0.5657 - accuracy: 0.7371 - val_loss: 0.5703 - val_accuracy: 0.7303\n",
      "Epoch 33/300\n",
      "42845/42845 [==============================] - 2s 44us/sample - loss: 0.5656 - accuracy: 0.7371 - val_loss: 0.5709 - val_accuracy: 0.7303\n",
      "Epoch 34/300\n",
      "42845/42845 [==============================] - 2s 43us/sample - loss: 0.5654 - accuracy: 0.7371 - val_loss: 0.5704 - val_accuracy: 0.7303\n",
      "Epoch 35/300\n",
      "42845/42845 [==============================] - 2s 55us/sample - loss: 0.5654 - accuracy: 0.7371 - val_loss: 0.5706 - val_accuracy: 0.7303\n",
      "Epoch 36/300\n",
      "42845/42845 [==============================] - 2s 40us/sample - loss: 0.5658 - accuracy: 0.7372 - val_loss: 0.5699 - val_accuracy: 0.7303\n",
      "Epoch 37/300\n",
      "42845/42845 [==============================] - 2s 42us/sample - loss: 0.5654 - accuracy: 0.7371 - val_loss: 0.5705 - val_accuracy: 0.7303\n",
      "Epoch 38/300\n",
      "42845/42845 [==============================] - 2s 55us/sample - loss: 0.5652 - accuracy: 0.7371 - val_loss: 0.5704 - val_accuracy: 0.7303\n",
      "Epoch 39/300\n",
      "42845/42845 [==============================] - 2s 44us/sample - loss: 0.5657 - accuracy: 0.7371 - val_loss: 0.5703 - val_accuracy: 0.7303\n",
      "Epoch 40/300\n",
      "42845/42845 [==============================] - 2s 51us/sample - loss: 0.5656 - accuracy: 0.7371 - val_loss: 0.5701 - val_accuracy: 0.7303\n",
      "Epoch 41/300\n",
      "42845/42845 [==============================] - 2s 53us/sample - loss: 0.5656 - accuracy: 0.7371 - val_loss: 0.5707 - val_accuracy: 0.7303\n",
      "Epoch 42/300\n",
      "42845/42845 [==============================] - 2s 41us/sample - loss: 0.5650 - accuracy: 0.7373 - val_loss: 0.5700 - val_accuracy: 0.7303\n",
      "Epoch 43/300\n",
      "42845/42845 [==============================] - 2s 55us/sample - loss: 0.5650 - accuracy: 0.7372 - val_loss: 0.5700 - val_accuracy: 0.7303\n",
      "Epoch 44/300\n",
      "42845/42845 [==============================] - 2s 58us/sample - loss: 0.5651 - accuracy: 0.7371 - val_loss: 0.5700 - val_accuracy: 0.7303\n",
      "Epoch 45/300\n",
      "42845/42845 [==============================] - 3s 65us/sample - loss: 0.5651 - accuracy: 0.7371 - val_loss: 0.5701 - val_accuracy: 0.7303\n",
      "Epoch 46/300\n",
      "42845/42845 [==============================] - 2s 40us/sample - loss: 0.5652 - accuracy: 0.7370 - val_loss: 0.5700 - val_accuracy: 0.7303\n",
      "Epoch 47/300\n",
      "42845/42845 [==============================] - 2s 38us/sample - loss: 0.5650 - accuracy: 0.7372 - val_loss: 0.5707 - val_accuracy: 0.7303\n",
      "Epoch 48/300\n",
      "42845/42845 [==============================] - 2s 53us/sample - loss: 0.5653 - accuracy: 0.7371 - val_loss: 0.5704 - val_accuracy: 0.7303\n",
      "Epoch 49/300\n",
      "42845/42845 [==============================] - 2s 43us/sample - loss: 0.5649 - accuracy: 0.7371 - val_loss: 0.5699 - val_accuracy: 0.7303\n",
      "Epoch 50/300\n",
      "42845/42845 [==============================] - 2s 44us/sample - loss: 0.5656 - accuracy: 0.7372 - val_loss: 0.5703 - val_accuracy: 0.7303\n",
      "Epoch 51/300\n",
      "42845/42845 [==============================] - 3s 61us/sample - loss: 0.5655 - accuracy: 0.7372 - val_loss: 0.5703 - val_accuracy: 0.7303\n",
      "Epoch 52/300\n",
      "42845/42845 [==============================] - 2s 43us/sample - loss: 0.5649 - accuracy: 0.7371 - val_loss: 0.5702 - val_accuracy: 0.7303\n",
      "Epoch 53/300\n",
      "42845/42845 [==============================] - 2s 40us/sample - loss: 0.5652 - accuracy: 0.7371 - val_loss: 0.5702 - val_accuracy: 0.7303\n",
      "Epoch 54/300\n",
      "42845/42845 [==============================] - 2s 52us/sample - loss: 0.5653 - accuracy: 0.7372 - val_loss: 0.5705 - val_accuracy: 0.7303\n"
     ]
    },
    {
     "name": "stdout",
     "output_type": "stream",
     "text": [
      "Epoch 55/300\n",
      "42845/42845 [==============================] - 2s 48us/sample - loss: 0.5660 - accuracy: 0.7371 - val_loss: 0.5701 - val_accuracy: 0.7303\n",
      "Epoch 56/300\n",
      "42845/42845 [==============================] - 3s 64us/sample - loss: 0.5661 - accuracy: 0.7371 - val_loss: 0.5705 - val_accuracy: 0.7303\n",
      "Epoch 57/300\n",
      "42845/42845 [==============================] - 2s 56us/sample - loss: 0.5657 - accuracy: 0.7371 - val_loss: 0.5704 - val_accuracy: 0.7303\n",
      "Epoch 58/300\n",
      "42845/42845 [==============================] - 2s 42us/sample - loss: 0.5651 - accuracy: 0.7371 - val_loss: 0.5701 - val_accuracy: 0.7303\n",
      "Epoch 59/300\n",
      "42845/42845 [==============================] - 2s 44us/sample - loss: 0.5647 - accuracy: 0.7372 - val_loss: 0.5700 - val_accuracy: 0.7303\n",
      "Epoch 60/300\n",
      "42845/42845 [==============================] - 3s 74us/sample - loss: 0.5654 - accuracy: 0.7372 - val_loss: 0.5700 - val_accuracy: 0.7303\n",
      "Epoch 61/300\n",
      "42845/42845 [==============================] - 2s 45us/sample - loss: 0.5652 - accuracy: 0.7371 - val_loss: 0.5704 - val_accuracy: 0.7303\n",
      "Epoch 62/300\n",
      "42845/42845 [==============================] - 4s 88us/sample - loss: 0.5651 - accuracy: 0.7371 - val_loss: 0.5703 - val_accuracy: 0.7303\n",
      "Epoch 63/300\n",
      "42845/42845 [==============================] - 3s 66us/sample - loss: 0.5651 - accuracy: 0.7371 - val_loss: 0.5701 - val_accuracy: 0.7303\n",
      "Epoch 64/300\n",
      "42845/42845 [==============================] - 3s 81us/sample - loss: 0.5653 - accuracy: 0.7372 - val_loss: 0.5705 - val_accuracy: 0.7303\n",
      "Epoch 65/300\n",
      "42845/42845 [==============================] - 3s 72us/sample - loss: 0.5652 - accuracy: 0.7370 - val_loss: 0.5701 - val_accuracy: 0.7303\n",
      "Epoch 66/300\n",
      "42845/42845 [==============================] - 3s 80us/sample - loss: 0.5649 - accuracy: 0.7371 - val_loss: 0.5698 - val_accuracy: 0.7303\n",
      "Epoch 67/300\n",
      "42845/42845 [==============================] - 4s 88us/sample - loss: 0.5655 - accuracy: 0.7371 - val_loss: 0.5704 - val_accuracy: 0.7303\n",
      "Epoch 68/300\n",
      "42845/42845 [==============================] - 3s 79us/sample - loss: 0.5646 - accuracy: 0.7371 - val_loss: 0.5704 - val_accuracy: 0.7303\n",
      "Epoch 69/300\n",
      "42845/42845 [==============================] - 3s 73us/sample - loss: 0.5650 - accuracy: 0.7371 - val_loss: 0.5702 - val_accuracy: 0.7303\n",
      "Epoch 70/300\n",
      "42845/42845 [==============================] - 3s 69us/sample - loss: 0.5650 - accuracy: 0.7372 - val_loss: 0.5702 - val_accuracy: 0.7303\n",
      "Epoch 71/300\n",
      "42845/42845 [==============================] - 3s 81us/sample - loss: 0.5660 - accuracy: 0.7371 - val_loss: 0.5701 - val_accuracy: 0.7303\n",
      "Epoch 72/300\n",
      "42845/42845 [==============================] - 3s 70us/sample - loss: 0.5652 - accuracy: 0.7370 - val_loss: 0.5703 - val_accuracy: 0.7303\n",
      "Epoch 73/300\n",
      "42845/42845 [==============================] - 4s 83us/sample - loss: 0.5650 - accuracy: 0.7371 - val_loss: 0.5702 - val_accuracy: 0.7303\n",
      "Epoch 74/300\n",
      "42845/42845 [==============================] - 3s 75us/sample - loss: 0.5653 - accuracy: 0.7371 - val_loss: 0.5703 - val_accuracy: 0.7303\n",
      "Epoch 75/300\n",
      "42845/42845 [==============================] - 4s 87us/sample - loss: 0.5647 - accuracy: 0.7371 - val_loss: 0.5700 - val_accuracy: 0.7303\n",
      "Epoch 76/300\n",
      "42845/42845 [==============================] - 3s 76us/sample - loss: 0.5650 - accuracy: 0.7372 - val_loss: 0.5703 - val_accuracy: 0.7303\n"
     ]
    }
   ],
   "source": [
    "## precision\n",
    "prec_avg=make_scorer(precision_score, average='macro')\n",
    "grid_search_prec_avg= GridSearchCV(estimator=ANN_rec_prec_avg, param_grid= params, scoring=prec_avg,cv=2, n_jobs=-1)\n",
    "grid_search_prec_avg= grid_search_prec_avg.fit(X_train, Y_train, epochs=300, validation_data=(X_test, Y_test), callbacks=[early_stop_prec_avg])\n",
    "y_predict= grid_search_prec_avg.best_estimator_.predict(X_test)"
   ]
  },
  {
   "cell_type": "code",
   "execution_count": 15,
   "metadata": {
    "pycharm": {
     "name": "#%%\n"
    }
   },
   "outputs": [
    {
     "name": "stdout",
     "output_type": "stream",
     "text": [
      "----------\n",
      "best parameters:  {'optimizer': 'adam', 'batch_size': 128}\n",
      "----------\n",
      "[[    0  4952]\n",
      " [    0 13411]]\n",
      "----------\n",
      "              precision    recall  f1-score   support\n",
      "\n",
      "           0       0.00      0.00      0.00      4952\n",
      "           1       0.73      1.00      0.84     13411\n",
      "\n",
      "    accuracy                           0.73     18363\n",
      "   macro avg       0.37      0.50      0.42     18363\n",
      "weighted avg       0.53      0.73      0.62     18363\n",
      "\n",
      "----------\n"
     ]
    }
   ],
   "source": [
    "## evaluating the model\n",
    "print(\"----------\")\n",
    "print('best parameters: ', grid_search_prec_avg.best_params_)\n",
    "print(\"----------\")\n",
    "print(confusion_matrix(Y_test,y_predict))\n",
    "print(\"----------\")\n",
    "print(classification_report(Y_test, y_predict))\n",
    "print(\"----------\")"
   ]
  },
  {
   "cell_type": "code",
   "execution_count": 16,
   "metadata": {
    "pycharm": {
     "name": "#%%\n"
    }
   },
   "outputs": [],
   "source": [
    "def plot_grid_search(cv_results, grid_param_1, grid_param_2, name_param_1, name_param_2, titre):\n",
    "    # Get Test Scores Mean and std for each grid search\n",
    "    scores_mean = cv_results['mean_test_score']\n",
    "    scores_mean = np.array(scores_mean).reshape(len(grid_param_1),len(grid_param_2))\n",
    "    scores_mean = scores_mean.T\n",
    "    # Plot Grid search scores\n",
    "    _, ax = plt.subplots(1,1)\n",
    "    # Param1 is the X-axis, Param 2 is represented as a different curve (color line)\n",
    "    for idx, val in enumerate(grid_param_2):\n",
    "        #ax.set_ylim([0.83,0.855])\n",
    "        ax.plot(grid_param_1, scores_mean[idx,:], '-o', label= name_param_2 + ': ' + str(val))\n",
    "\n",
    "    ax.set_title(titre, fontsize=18, fontweight='bold')\n",
    "    ax.set_xlabel(name_param_1, fontsize=14)\n",
    "    ax.set_ylabel(titre+'[CV Avg Score]', fontsize=14)\n",
    "    ax.legend(loc=\"best\", fontsize=15)\n",
    "    ax.grid('on')\n"
   ]
  },
  {
   "cell_type": "code",
   "execution_count": 17,
   "metadata": {
    "pycharm": {
     "name": "#%%\n"
    }
   },
   "outputs": [
    {
     "data": {
      "image/png": "[encoded data removed]",
      "text/plain": [
       "<Figure size 432x288 with 1 Axes>"
      ]
     },
     "metadata": {},
     "output_type": "display_data"
    },
    {
     "data": {
      "image/png": "[encoded data removed]",
      "text/plain": [
       "<Figure size 432x288 with 1 Axes>"
      ]
     },
     "metadata": {},
     "output_type": "display_data"
    },
    {
     "data": {
      "image/png": "[encoded data removed]",
      "text/plain": [
       "<Figure size 432x288 with 1 Axes>"
      ]
     },
     "metadata": {},
     "output_type": "display_data"
    }
   ],
   "source": [
    "# Calling Method \n",
    "plot_grid_search(grid_search_acc.cv_results_, params['batch_size'], params['optimizer'], 'batch_size', 'optimizer', 'Accuracy')\n",
    "plot_grid_search(grid_search_rec.cv_results_, params['batch_size'], params['optimizer'], 'batch_size', 'optimizer', 'Recall')\n",
    "plot_grid_search(grid_search_prec_avg.cv_results_, params['batch_size'], params['optimizer'], 'batch_size', 'optimizer', 'Precision')\n"
   ]
  },
  {
   "cell_type": "code",
   "execution_count": 18,
   "metadata": {
    "pycharm": {
     "name": "#%%\n"
    }
   },
   "outputs": [],
   "source": [
    "def return_index_list(param1, param2):\n",
    "    list=[]\n",
    "    for p1 in param1:\n",
    "        for p2 in param2:\n",
    "            list.append('['+str(p1)+', '+str(p2)+']')\n",
    "    return list"
   ]
  },
  {
   "cell_type": "code",
   "execution_count": 19,
   "metadata": {
    "pycharm": {
     "name": "#%%\n"
    }
   },
   "outputs": [],
   "source": [
    "index= return_index_list(params['batch_size'], params['optimizer'])\n",
    "\n",
    "df= pd.DataFrame({  'Accuracy': grid_search_acc.cv_results_['mean_test_score'],\n",
    "                    'Precision(Avg)': grid_search_prec_avg.cv_results_['mean_test_score'],\n",
    "                    'Recall(Avg)': grid_search_rec.cv_results_['mean_test_score'],\n",
    "                    'std_cross_validation': grid_search_acc.cv_results_['std_test_score']},\n",
    "                 index=index)\n",
    "\n",
    "writer = pd.ExcelWriter('Neural_Network.xlsx')\n",
    "df.to_excel(writer, 'Neural_Network')\n",
    "writer.save()\n",
    "writer.close()"
   ]
  },
  {
   "cell_type": "code",
   "execution_count": 20,
   "metadata": {
    "pycharm": {
     "name": "#%%\n"
    }
   },
   "outputs": [
    {
     "data": {
      "text/html": [
       "<div>\n",
       "<style scoped>\n",
       "    .dataframe tbody tr th:only-of-type {\n",
       "        vertical-align: middle;\n",
       "    }\n",
       "\n",
       "    .dataframe tbody tr th {\n",
       "        vertical-align: top;\n",
       "    }\n",
       "\n",
       "    .dataframe thead th {\n",
       "        text-align: right;\n",
       "    }\n",
       "</style>\n",
       "<table border=\"1\" class=\"dataframe\">\n",
       "  <thead>\n",
       "    <tr style=\"text-align: right;\">\n",
       "      <th></th>\n",
       "      <th>Accuracy</th>\n",
       "      <th>Precision(Avg)</th>\n",
       "      <th>Recall(Avg)</th>\n",
       "      <th>std_cross_validation</th>\n",
       "    </tr>\n",
       "  </thead>\n",
       "  <tbody>\n",
       "    <tr>\n",
       "      <th>[128, adam]</th>\n",
       "      <td>0.737146</td>\n",
       "      <td>0.368573</td>\n",
       "      <td>0.5</td>\n",
       "      <td>0.002188</td>\n",
       "    </tr>\n",
       "    <tr>\n",
       "      <th>[128, rmsprop]</th>\n",
       "      <td>0.737146</td>\n",
       "      <td>0.368573</td>\n",
       "      <td>0.5</td>\n",
       "      <td>0.002188</td>\n",
       "    </tr>\n",
       "    <tr>\n",
       "      <th>[256, adam]</th>\n",
       "      <td>0.737146</td>\n",
       "      <td>0.368573</td>\n",
       "      <td>0.5</td>\n",
       "      <td>0.002188</td>\n",
       "    </tr>\n",
       "    <tr>\n",
       "      <th>[256, rmsprop]</th>\n",
       "      <td>0.737146</td>\n",
       "      <td>0.368573</td>\n",
       "      <td>0.5</td>\n",
       "      <td>0.002188</td>\n",
       "    </tr>\n",
       "    <tr>\n",
       "      <th>[512, adam]</th>\n",
       "      <td>0.737146</td>\n",
       "      <td>0.368573</td>\n",
       "      <td>0.5</td>\n",
       "      <td>0.002188</td>\n",
       "    </tr>\n",
       "    <tr>\n",
       "      <th>[512, rmsprop]</th>\n",
       "      <td>0.737146</td>\n",
       "      <td>0.368573</td>\n",
       "      <td>0.5</td>\n",
       "      <td>0.002188</td>\n",
       "    </tr>\n",
       "    <tr>\n",
       "      <th>[800, adam]</th>\n",
       "      <td>0.737146</td>\n",
       "      <td>0.368573</td>\n",
       "      <td>0.5</td>\n",
       "      <td>0.002188</td>\n",
       "    </tr>\n",
       "    <tr>\n",
       "      <th>[800, rmsprop]</th>\n",
       "      <td>0.737146</td>\n",
       "      <td>0.368573</td>\n",
       "      <td>0.5</td>\n",
       "      <td>0.002188</td>\n",
       "    </tr>\n",
       "  </tbody>\n",
       "</table>\n",
       "</div>"
      ],
      "text/plain": [
       "                Accuracy  Precision(Avg)  Recall(Avg)  std_cross_validation\n",
       "[128, adam]     0.737146        0.368573          0.5              0.002188\n",
       "[128, rmsprop]  0.737146        0.368573          0.5              0.002188\n",
       "[256, adam]     0.737146        0.368573          0.5              0.002188\n",
       "[256, rmsprop]  0.737146        0.368573          0.5              0.002188\n",
       "[512, adam]     0.737146        0.368573          0.5              0.002188\n",
       "[512, rmsprop]  0.737146        0.368573          0.5              0.002188\n",
       "[800, adam]     0.737146        0.368573          0.5              0.002188\n",
       "[800, rmsprop]  0.737146        0.368573          0.5              0.002188"
      ]
     },
     "execution_count": 20,
     "metadata": {},
     "output_type": "execute_result"
    }
   ],
   "source": [
    "df"
   ]
  },
  {
   "cell_type": "code",
   "execution_count": 21,
   "metadata": {
    "pycharm": {
     "name": "#%%\n"
    }
   },
   "outputs": [
    {
     "name": "stdout",
     "output_type": "stream",
     "text": [
      "Train on 42845 samples, validate on 18363 samples\n",
      "Epoch 1/300\n",
      "42845/42845 [==============================] - 3s 68us/sample - loss: 0.6325 - accuracy: 0.6693 - val_loss: 0.5838 - val_accuracy: 0.7303\n",
      "Epoch 2/300\n",
      "42845/42845 [==============================] - 1s 29us/sample - loss: 0.5964 - accuracy: 0.7321 - val_loss: 0.5788 - val_accuracy: 0.7303\n",
      "Epoch 3/300\n",
      "42845/42845 [==============================] - 1s 14us/sample - loss: 0.5917 - accuracy: 0.7356 - val_loss: 0.5780 - val_accuracy: 0.7303\n",
      "Epoch 4/300\n",
      "42845/42845 [==============================] - 1s 12us/sample - loss: 0.5861 - accuracy: 0.7368 - val_loss: 0.5756 - val_accuracy: 0.7303\n",
      "Epoch 5/300\n",
      "42845/42845 [==============================] - 1s 12us/sample - loss: 0.5827 - accuracy: 0.7370 - val_loss: 0.5763 - val_accuracy: 0.7303\n",
      "Epoch 6/300\n",
      "42845/42845 [==============================] - 1s 15us/sample - loss: 0.5807 - accuracy: 0.7371 - val_loss: 0.5737 - val_accuracy: 0.7303\n",
      "Epoch 7/300\n",
      "42845/42845 [==============================] - 1s 13us/sample - loss: 0.5773 - accuracy: 0.7371 - val_loss: 0.5735 - val_accuracy: 0.7303\n",
      "Epoch 8/300\n",
      "42845/42845 [==============================] - 1s 18us/sample - loss: 0.5771 - accuracy: 0.7371 - val_loss: 0.5718 - val_accuracy: 0.7303\n",
      "Epoch 9/300\n",
      "42845/42845 [==============================] - 1s 18us/sample - loss: 0.5741 - accuracy: 0.7371 - val_loss: 0.5710 - val_accuracy: 0.7303\n",
      "Epoch 10/300\n",
      "42845/42845 [==============================] - 1s 14us/sample - loss: 0.5751 - accuracy: 0.7371 - val_loss: 0.5709 - val_accuracy: 0.7303\n",
      "Epoch 11/300\n",
      "42845/42845 [==============================] - 1s 15us/sample - loss: 0.5732 - accuracy: 0.7371 - val_loss: 0.5703 - val_accuracy: 0.7303\n",
      "Epoch 12/300\n",
      "42845/42845 [==============================] - 1s 13us/sample - loss: 0.5723 - accuracy: 0.7371 - val_loss: 0.5708 - val_accuracy: 0.7303\n",
      "Epoch 13/300\n",
      "42845/42845 [==============================] - 1s 14us/sample - loss: 0.5726 - accuracy: 0.7371 - val_loss: 0.5705 - val_accuracy: 0.7303\n",
      "Epoch 14/300\n",
      "42845/42845 [==============================] - 1s 14us/sample - loss: 0.5724 - accuracy: 0.7371 - val_loss: 0.5708 - val_accuracy: 0.7303\n",
      "Epoch 15/300\n",
      "42845/42845 [==============================] - 1s 13us/sample - loss: 0.5714 - accuracy: 0.7371 - val_loss: 0.5711 - val_accuracy: 0.7303\n",
      "Epoch 16/300\n",
      "42845/42845 [==============================] - 1s 15us/sample - loss: 0.5699 - accuracy: 0.7371 - val_loss: 0.5702 - val_accuracy: 0.7303\n",
      "Epoch 17/300\n",
      "42845/42845 [==============================] - 1s 13us/sample - loss: 0.5706 - accuracy: 0.7371 - val_loss: 0.5702 - val_accuracy: 0.7303\n",
      "Epoch 18/300\n",
      "42845/42845 [==============================] - 0s 12us/sample - loss: 0.5705 - accuracy: 0.7371 - val_loss: 0.5704 - val_accuracy: 0.7303\n",
      "Epoch 19/300\n",
      "42845/42845 [==============================] - 1s 13us/sample - loss: 0.5694 - accuracy: 0.7371 - val_loss: 0.5703 - val_accuracy: 0.7303\n",
      "Epoch 20/300\n",
      "42845/42845 [==============================] - 1s 13us/sample - loss: 0.5703 - accuracy: 0.7371 - val_loss: 0.5718 - val_accuracy: 0.7303\n",
      "Epoch 21/300\n",
      "42845/42845 [==============================] - 1s 12us/sample - loss: 0.5694 - accuracy: 0.7371 - val_loss: 0.5702 - val_accuracy: 0.7303\n",
      "Epoch 22/300\n",
      "42845/42845 [==============================] - 1s 13us/sample - loss: 0.5693 - accuracy: 0.7371 - val_loss: 0.5706 - val_accuracy: 0.7303\n",
      "Epoch 23/300\n",
      "42845/42845 [==============================] - 1s 13us/sample - loss: 0.5687 - accuracy: 0.7371 - val_loss: 0.5701 - val_accuracy: 0.7303\n",
      "Epoch 24/300\n",
      "42845/42845 [==============================] - 1s 14us/sample - loss: 0.5684 - accuracy: 0.7371 - val_loss: 0.5701 - val_accuracy: 0.7303\n",
      "Epoch 25/300\n",
      "42845/42845 [==============================] - 1s 14us/sample - loss: 0.5682 - accuracy: 0.7371 - val_loss: 0.5701 - val_accuracy: 0.7303\n",
      "Epoch 26/300\n",
      "42845/42845 [==============================] - 1s 18us/sample - loss: 0.5687 - accuracy: 0.7371 - val_loss: 0.5700 - val_accuracy: 0.7303\n",
      "Epoch 27/300\n",
      "42845/42845 [==============================] - 1s 15us/sample - loss: 0.5679 - accuracy: 0.7371 - val_loss: 0.5701 - val_accuracy: 0.7303\n",
      "Epoch 28/300\n",
      "42845/42845 [==============================] - 1s 18us/sample - loss: 0.5676 - accuracy: 0.7371 - val_loss: 0.5702 - val_accuracy: 0.7303\n",
      "Epoch 29/300\n",
      "42845/42845 [==============================] - 1s 29us/sample - loss: 0.5674 - accuracy: 0.7371 - val_loss: 0.5701 - val_accuracy: 0.7303\n",
      "Epoch 30/300\n",
      "42845/42845 [==============================] - 1s 14us/sample - loss: 0.5678 - accuracy: 0.7371 - val_loss: 0.5700 - val_accuracy: 0.7303\n",
      "Epoch 31/300\n",
      "42845/42845 [==============================] - 1s 15us/sample - loss: 0.5671 - accuracy: 0.7371 - val_loss: 0.5699 - val_accuracy: 0.7303\n",
      "Epoch 32/300\n",
      "42845/42845 [==============================] - 1s 15us/sample - loss: 0.5671 - accuracy: 0.7371 - val_loss: 0.5698 - val_accuracy: 0.7303\n",
      "Epoch 33/300\n",
      "42845/42845 [==============================] - 1s 15us/sample - loss: 0.5670 - accuracy: 0.7371 - val_loss: 0.5699 - val_accuracy: 0.7303\n",
      "Epoch 34/300\n",
      "42845/42845 [==============================] - 1s 18us/sample - loss: 0.5665 - accuracy: 0.7371 - val_loss: 0.5698 - val_accuracy: 0.7303\n",
      "Epoch 35/300\n",
      "42845/42845 [==============================] - 1s 13us/sample - loss: 0.5664 - accuracy: 0.7371 - val_loss: 0.5699 - val_accuracy: 0.7303\n",
      "Epoch 36/300\n",
      "42845/42845 [==============================] - 1s 13us/sample - loss: 0.5669 - accuracy: 0.7371 - val_loss: 0.5699 - val_accuracy: 0.7303\n",
      "Epoch 37/300\n",
      "42845/42845 [==============================] - 1s 17us/sample - loss: 0.5661 - accuracy: 0.7371 - val_loss: 0.5697 - val_accuracy: 0.7303\n",
      "Epoch 38/300\n",
      "42845/42845 [==============================] - 1s 27us/sample - loss: 0.5658 - accuracy: 0.7371 - val_loss: 0.5698 - val_accuracy: 0.7303\n",
      "Epoch 39/300\n",
      "42845/42845 [==============================] - 1s 14us/sample - loss: 0.5659 - accuracy: 0.7371 - val_loss: 0.5698 - val_accuracy: 0.7303\n",
      "Epoch 40/300\n",
      "42845/42845 [==============================] - 1s 13us/sample - loss: 0.5649 - accuracy: 0.7371 - val_loss: 0.5697 - val_accuracy: 0.7303\n",
      "Epoch 41/300\n",
      "42845/42845 [==============================] - 2s 36us/sample - loss: 0.5662 - accuracy: 0.7371 - val_loss: 0.5698 - val_accuracy: 0.7303\n",
      "Epoch 42/300\n",
      "42845/42845 [==============================] - 1s 15us/sample - loss: 0.5656 - accuracy: 0.7371 - val_loss: 0.5697 - val_accuracy: 0.7303\n",
      "Epoch 43/300\n",
      "42845/42845 [==============================] - 1s 17us/sample - loss: 0.5660 - accuracy: 0.7371 - val_loss: 0.5698 - val_accuracy: 0.7303\n",
      "Epoch 44/300\n",
      "42845/42845 [==============================] - 1s 13us/sample - loss: 0.5664 - accuracy: 0.7371 - val_loss: 0.5697 - val_accuracy: 0.7303\n",
      "Epoch 45/300\n",
      "42845/42845 [==============================] - 0s 11us/sample - loss: 0.5656 - accuracy: 0.7371 - val_loss: 0.5701 - val_accuracy: 0.7303\n",
      "Epoch 46/300\n",
      "42845/42845 [==============================] - 1s 12us/sample - loss: 0.5652 - accuracy: 0.7371 - val_loss: 0.5696 - val_accuracy: 0.7303\n",
      "Epoch 47/300\n",
      "42845/42845 [==============================] - 0s 11us/sample - loss: 0.5660 - accuracy: 0.7371 - val_loss: 0.5697 - val_accuracy: 0.7303\n",
      "Epoch 48/300\n",
      "42845/42845 [==============================] - 1s 14us/sample - loss: 0.5655 - accuracy: 0.7371 - val_loss: 0.5698 - val_accuracy: 0.7303\n",
      "Epoch 49/300\n",
      "42845/42845 [==============================] - 0s 12us/sample - loss: 0.5660 - accuracy: 0.7371 - val_loss: 0.5699 - val_accuracy: 0.7303\n",
      "Epoch 50/300\n",
      "42845/42845 [==============================] - 1s 13us/sample - loss: 0.5651 - accuracy: 0.7371 - val_loss: 0.5698 - val_accuracy: 0.7303\n",
      "Epoch 51/300\n",
      "42845/42845 [==============================] - 1s 14us/sample - loss: 0.5655 - accuracy: 0.7371 - val_loss: 0.5699 - val_accuracy: 0.7303\n",
      "Epoch 52/300\n",
      "42845/42845 [==============================] - 1s 13us/sample - loss: 0.5650 - accuracy: 0.7371 - val_loss: 0.5698 - val_accuracy: 0.7303\n",
      "Epoch 53/300\n",
      "42845/42845 [==============================] - 1s 27us/sample - loss: 0.5660 - accuracy: 0.7371 - val_loss: 0.5698 - val_accuracy: 0.7303\n",
      "Epoch 54/300\n",
      "42845/42845 [==============================] - 1s 17us/sample - loss: 0.5648 - accuracy: 0.7371 - val_loss: 0.5697 - val_accuracy: 0.7303\n"
     ]
    },
    {
     "name": "stdout",
     "output_type": "stream",
     "text": [
      "Epoch 55/300\n",
      "42845/42845 [==============================] - 1s 13us/sample - loss: 0.5648 - accuracy: 0.7371 - val_loss: 0.5696 - val_accuracy: 0.7303\n",
      "Epoch 56/300\n",
      "42845/42845 [==============================] - 1s 15us/sample - loss: 0.5650 - accuracy: 0.7370 - val_loss: 0.5698 - val_accuracy: 0.7303\n",
      "Epoch 57/300\n",
      "42845/42845 [==============================] - 1s 14us/sample - loss: 0.5650 - accuracy: 0.7371 - val_loss: 0.5698 - val_accuracy: 0.7303\n",
      "Epoch 58/300\n",
      "42845/42845 [==============================] - 1s 17us/sample - loss: 0.5653 - accuracy: 0.7371 - val_loss: 0.5696 - val_accuracy: 0.7303\n",
      "Epoch 59/300\n",
      "42845/42845 [==============================] - 1s 15us/sample - loss: 0.5652 - accuracy: 0.7371 - val_loss: 0.5695 - val_accuracy: 0.7303\n",
      "Epoch 60/300\n",
      "42845/42845 [==============================] - 1s 18us/sample - loss: 0.5648 - accuracy: 0.7371 - val_loss: 0.5696 - val_accuracy: 0.7303\n",
      "Epoch 61/300\n",
      "42845/42845 [==============================] - 1s 30us/sample - loss: 0.5653 - accuracy: 0.7371 - val_loss: 0.5697 - val_accuracy: 0.7303\n",
      "Epoch 62/300\n",
      "42845/42845 [==============================] - 1s 22us/sample - loss: 0.5650 - accuracy: 0.7371 - val_loss: 0.5697 - val_accuracy: 0.7303\n",
      "Epoch 63/300\n",
      "42845/42845 [==============================] - 1s 16us/sample - loss: 0.5644 - accuracy: 0.7371 - val_loss: 0.5697 - val_accuracy: 0.7303\n",
      "Epoch 64/300\n",
      "42845/42845 [==============================] - 1s 15us/sample - loss: 0.5646 - accuracy: 0.7372 - val_loss: 0.5696 - val_accuracy: 0.7303\n",
      "Epoch 65/300\n",
      "42845/42845 [==============================] - 0s 12us/sample - loss: 0.5650 - accuracy: 0.7371 - val_loss: 0.5698 - val_accuracy: 0.7303\n",
      "Epoch 66/300\n",
      "42845/42845 [==============================] - 0s 11us/sample - loss: 0.5642 - accuracy: 0.7371 - val_loss: 0.5697 - val_accuracy: 0.7303\n",
      "Epoch 67/300\n",
      "42845/42845 [==============================] - 1s 12us/sample - loss: 0.5648 - accuracy: 0.7372 - val_loss: 0.5696 - val_accuracy: 0.7303\n",
      "Epoch 68/300\n",
      "42845/42845 [==============================] - 1s 12us/sample - loss: 0.5646 - accuracy: 0.7372 - val_loss: 0.5696 - val_accuracy: 0.7303\n",
      "Epoch 69/300\n",
      "42845/42845 [==============================] - 1s 12us/sample - loss: 0.5649 - accuracy: 0.7368 - val_loss: 0.5698 - val_accuracy: 0.7303\n",
      "Epoch 70/300\n",
      "42845/42845 [==============================] - 1s 25us/sample - loss: 0.5652 - accuracy: 0.7371 - val_loss: 0.5698 - val_accuracy: 0.7303\n",
      "Epoch 71/300\n",
      "42845/42845 [==============================] - 1s 17us/sample - loss: 0.5647 - accuracy: 0.7371 - val_loss: 0.5697 - val_accuracy: 0.7303\n",
      "Epoch 72/300\n",
      "42845/42845 [==============================] - 1s 13us/sample - loss: 0.5649 - accuracy: 0.7371 - val_loss: 0.5696 - val_accuracy: 0.7303\n",
      "Epoch 73/300\n",
      "42845/42845 [==============================] - 1s 12us/sample - loss: 0.5650 - accuracy: 0.7371 - val_loss: 0.5698 - val_accuracy: 0.7303\n",
      "Epoch 74/300\n",
      "42845/42845 [==============================] - 1s 14us/sample - loss: 0.5642 - accuracy: 0.7371 - val_loss: 0.5697 - val_accuracy: 0.7303\n",
      "Epoch 75/300\n",
      "42845/42845 [==============================] - 1s 14us/sample - loss: 0.5653 - accuracy: 0.7371 - val_loss: 0.5700 - val_accuracy: 0.7303\n",
      "Epoch 76/300\n",
      "42845/42845 [==============================] - 1s 18us/sample - loss: 0.5650 - accuracy: 0.7371 - val_loss: 0.5698 - val_accuracy: 0.7303\n",
      "Epoch 77/300\n",
      "42845/42845 [==============================] - 1s 20us/sample - loss: 0.5646 - accuracy: 0.7371 - val_loss: 0.5698 - val_accuracy: 0.7303\n",
      "Epoch 78/300\n",
      "42845/42845 [==============================] - 2s 49us/sample - loss: 0.5645 - accuracy: 0.7371 - val_loss: 0.5698 - val_accuracy: 0.7303\n",
      "Epoch 79/300\n",
      "42845/42845 [==============================] - 0s 11us/sample - loss: 0.5645 - accuracy: 0.7368 - val_loss: 0.5699 - val_accuracy: 0.7303\n",
      "Epoch 80/300\n",
      "42845/42845 [==============================] - 0s 11us/sample - loss: 0.5645 - accuracy: 0.7371 - val_loss: 0.5698 - val_accuracy: 0.7303\n",
      "Epoch 81/300\n",
      "42845/42845 [==============================] - 1s 14us/sample - loss: 0.5650 - accuracy: 0.7367 - val_loss: 0.5698 - val_accuracy: 0.7303\n",
      "Epoch 82/300\n",
      "42845/42845 [==============================] - 0s 11us/sample - loss: 0.5644 - accuracy: 0.7369 - val_loss: 0.5698 - val_accuracy: 0.7303\n",
      "Epoch 83/300\n",
      "42845/42845 [==============================] - 1s 13us/sample - loss: 0.5644 - accuracy: 0.7371 - val_loss: 0.5697 - val_accuracy: 0.7303\n",
      "Epoch 84/300\n",
      "42845/42845 [==============================] - 1s 14us/sample - loss: 0.5649 - accuracy: 0.7370 - val_loss: 0.5698 - val_accuracy: 0.7303\n",
      "Epoch 85/300\n",
      "42845/42845 [==============================] - 1s 13us/sample - loss: 0.5642 - accuracy: 0.7370 - val_loss: 0.5697 - val_accuracy: 0.7303\n",
      "Epoch 86/300\n",
      "42845/42845 [==============================] - 1s 15us/sample - loss: 0.5644 - accuracy: 0.7371 - val_loss: 0.5700 - val_accuracy: 0.7303\n",
      "Epoch 87/300\n",
      "42845/42845 [==============================] - 1s 14us/sample - loss: 0.5646 - accuracy: 0.7370 - val_loss: 0.5700 - val_accuracy: 0.7303\n",
      "Epoch 88/300\n",
      "42845/42845 [==============================] - 1s 29us/sample - loss: 0.5649 - accuracy: 0.7371 - val_loss: 0.5698 - val_accuracy: 0.7303\n",
      "Epoch 89/300\n",
      "42845/42845 [==============================] - 1s 17us/sample - loss: 0.5652 - accuracy: 0.7371 - val_loss: 0.5698 - val_accuracy: 0.7303\n",
      "Epoch 90/300\n",
      "42845/42845 [==============================] - 1s 18us/sample - loss: 0.5647 - accuracy: 0.7371 - val_loss: 0.5701 - val_accuracy: 0.7303\n",
      "Epoch 91/300\n",
      "42845/42845 [==============================] - 1s 15us/sample - loss: 0.5645 - accuracy: 0.7370 - val_loss: 0.5697 - val_accuracy: 0.7303\n",
      "Epoch 92/300\n",
      "42845/42845 [==============================] - 1s 16us/sample - loss: 0.5653 - accuracy: 0.7372 - val_loss: 0.5698 - val_accuracy: 0.7303\n",
      "Epoch 93/300\n",
      "42845/42845 [==============================] - 1s 18us/sample - loss: 0.5652 - accuracy: 0.7371 - val_loss: 0.5700 - val_accuracy: 0.7303\n",
      "Epoch 94/300\n",
      "42845/42845 [==============================] - 1s 29us/sample - loss: 0.5646 - accuracy: 0.7368 - val_loss: 0.5700 - val_accuracy: 0.7303\n",
      "Epoch 95/300\n",
      "42845/42845 [==============================] - 1s 18us/sample - loss: 0.5652 - accuracy: 0.7372 - val_loss: 0.5699 - val_accuracy: 0.7303\n",
      "Epoch 96/300\n",
      "42845/42845 [==============================] - 1s 17us/sample - loss: 0.5649 - accuracy: 0.7371 - val_loss: 0.5698 - val_accuracy: 0.7303\n",
      "Epoch 97/300\n",
      "42845/42845 [==============================] - 1s 17us/sample - loss: 0.5645 - accuracy: 0.7367 - val_loss: 0.5697 - val_accuracy: 0.7303\n",
      "Epoch 98/300\n",
      "42845/42845 [==============================] - 1s 14us/sample - loss: 0.5644 - accuracy: 0.7366 - val_loss: 0.5698 - val_accuracy: 0.7303\n",
      "Epoch 99/300\n",
      "42845/42845 [==============================] - 1s 13us/sample - loss: 0.5647 - accuracy: 0.7370 - val_loss: 0.5697 - val_accuracy: 0.7303\n",
      "Epoch 100/300\n",
      "42845/42845 [==============================] - 1s 13us/sample - loss: 0.5651 - accuracy: 0.7370 - val_loss: 0.5698 - val_accuracy: 0.7303\n",
      "Epoch 101/300\n",
      "42845/42845 [==============================] - 1s 14us/sample - loss: 0.5647 - accuracy: 0.7372 - val_loss: 0.5696 - val_accuracy: 0.7303\n",
      "Epoch 102/300\n",
      "42845/42845 [==============================] - 1s 14us/sample - loss: 0.5648 - accuracy: 0.7368 - val_loss: 0.5697 - val_accuracy: 0.7303\n",
      "Epoch 103/300\n",
      "42845/42845 [==============================] - 1s 16us/sample - loss: 0.5646 - accuracy: 0.7373 - val_loss: 0.5697 - val_accuracy: 0.7303\n",
      "Epoch 104/300\n",
      "42845/42845 [==============================] - 1s 27us/sample - loss: 0.5642 - accuracy: 0.7370 - val_loss: 0.5696 - val_accuracy: 0.7303\n",
      "Epoch 105/300\n",
      "42845/42845 [==============================] - 1s 17us/sample - loss: 0.5647 - accuracy: 0.7371 - val_loss: 0.5697 - val_accuracy: 0.7303\n",
      "Epoch 106/300\n",
      "42845/42845 [==============================] - 0s 11us/sample - loss: 0.5646 - accuracy: 0.7371 - val_loss: 0.5696 - val_accuracy: 0.7303\n",
      "Epoch 107/300\n",
      "42845/42845 [==============================] - 0s 10us/sample - loss: 0.5647 - accuracy: 0.7371 - val_loss: 0.5696 - val_accuracy: 0.7303\n",
      "Epoch 108/300\n",
      "42845/42845 [==============================] - 0s 10us/sample - loss: 0.5647 - accuracy: 0.7370 - val_loss: 0.5696 - val_accuracy: 0.7303\n",
      "Epoch 109/300\n"
     ]
    },
    {
     "name": "stdout",
     "output_type": "stream",
     "text": [
      "42845/42845 [==============================] - 1s 12us/sample - loss: 0.5646 - accuracy: 0.7371 - val_loss: 0.5696 - val_accuracy: 0.7303\n"
     ]
    }
   ],
   "source": [
    "## check for overfiting\n",
    "model_ov= create_model(\"adam\")\n",
    "history= model_ov.fit(x=X_train, y=Y_train, epochs=300, batch_size=800, validation_data=(X_test, Y_test), verbose=1, callbacks=[early_stop])\n"
   ]
  },
  {
   "cell_type": "code",
   "execution_count": 22,
   "metadata": {
    "pycharm": {
     "name": "#%%\n"
    }
   },
   "outputs": [
    {
     "data": {
      "image/png": "[encoded data removed]",
      "text/plain": [
       "<Figure size 432x288 with 1 Axes>"
      ]
     },
     "metadata": {},
     "output_type": "display_data"
    }
   ],
   "source": [
    "# Get training and test loss histories\n",
    "training_loss = history.history['loss']\n",
    "test_loss = history.history['val_loss']\n",
    "\n",
    "# Create count of the number of epochs\n",
    "epoch_count = range(1, len(training_loss) + 1)\n",
    "\n",
    "# Visualize loss history\n",
    "_, ax = plt.subplots(1,1)\n",
    "ax.set_ylim([0.32,0.8])\n",
    "ax.plot(epoch_count, training_loss, 'r-')\n",
    "ax.plot(epoch_count, test_loss, 'b-')\n",
    "\n",
    "ax.set_xlabel('Epoch', fontsize=14)\n",
    "ax.set_ylabel('Loss', fontsize=14)\n",
    "ax.legend(['Training Loss', 'Test Loss'], fontsize=14)\n",
    "ax.grid('on')\n"
   ]
  }
 ],
 "metadata": {
  "kernelspec": {
   "display_name": "Python 3",
   "language": "python",
   "name": "python3"
  },
  "language_info": {
   "codemirror_mode": {
    "name": "ipython",
    "version": 3
   },
   "file_extension": ".py",
   "mimetype": "text/x-python",
   "name": "python",
   "nbconvert_exporter": "python",
   "pygments_lexer": "ipython3",
   "version": "3.5.3"
  },
  "pycharm": {
   "stem_cell": {
    "cell_type": "raw",
    "metadata": {
     "collapsed": false
    },
    "source": []
   }
  }
 },
 "nbformat": 4,
 "nbformat_minor": 1
}
