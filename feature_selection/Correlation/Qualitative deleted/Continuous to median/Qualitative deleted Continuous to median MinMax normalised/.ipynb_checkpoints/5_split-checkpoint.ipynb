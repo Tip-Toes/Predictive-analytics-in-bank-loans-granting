{
 "cells": [
  {
   "cell_type": "code",
   "execution_count": 1,
   "metadata": {},
   "outputs": [],
   "source": [
    "import pandas as pd\n",
    "import numpy as np\n",
    "from sklearn.model_selection import train_test_split"
   ]
  },
  {
   "cell_type": "markdown",
   "metadata": {},
   "source": [
    " "
   ]
  },
  {
   "cell_type": "markdown",
   "metadata": {},
   "source": [
    " "
   ]
  },
  {
   "cell_type": "markdown",
   "metadata": {},
   "source": [
    " "
   ]
  },
  {
   "cell_type": "markdown",
   "metadata": {},
   "source": [
    " "
   ]
  },
  {
   "cell_type": "markdown",
   "metadata": {},
   "source": [
    " "
   ]
  },
  {
   "cell_type": "markdown",
   "metadata": {},
   "source": [
    " "
   ]
  },
  {
   "cell_type": "markdown",
   "metadata": {},
   "source": [
    " # Data introduction start"
   ]
  },
  {
   "cell_type": "code",
   "execution_count": 2,
   "metadata": {},
   "outputs": [
    {
     "data": {
      "text/html": [
       "<div>\n",
       "<style scoped>\n",
       "    .dataframe tbody tr th:only-of-type {\n",
       "        vertical-align: middle;\n",
       "    }\n",
       "\n",
       "    .dataframe tbody tr th {\n",
       "        vertical-align: top;\n",
       "    }\n",
       "\n",
       "    .dataframe thead th {\n",
       "        text-align: right;\n",
       "    }\n",
       "</style>\n",
       "<table border=\"1\" class=\"dataframe\">\n",
       "  <thead>\n",
       "    <tr style=\"text-align: right;\">\n",
       "      <th></th>\n",
       "      <th>Loan Status</th>\n",
       "      <th>Current Loan Amount</th>\n",
       "      <th>Term</th>\n",
       "      <th>Credit Score</th>\n",
       "      <th>Annual Income</th>\n",
       "      <th>Years in current job</th>\n",
       "      <th>Home Ownership</th>\n",
       "      <th>Purpose</th>\n",
       "      <th>Monthly Debt</th>\n",
       "      <th>Years of Credit History</th>\n",
       "      <th>Number of Open Accounts</th>\n",
       "      <th>Number of Credit Problems</th>\n",
       "      <th>Current Credit Balance</th>\n",
       "      <th>Maximum Open Credit</th>\n",
       "      <th>Bankruptcies</th>\n",
       "    </tr>\n",
       "  </thead>\n",
       "  <tbody>\n",
       "    <tr>\n",
       "      <td>0</td>\n",
       "      <td>Fully Paid</td>\n",
       "      <td>0.004301</td>\n",
       "      <td>Short Term</td>\n",
       "      <td>0.017906</td>\n",
       "      <td>0.006592</td>\n",
       "      <td>8 years</td>\n",
       "      <td>Home Mortgage</td>\n",
       "      <td>Home Improvements</td>\n",
       "      <td>0.011965</td>\n",
       "      <td>0.203288</td>\n",
       "      <td>0.078947</td>\n",
       "      <td>1.0</td>\n",
       "      <td>0.006940</td>\n",
       "      <td>0.000271</td>\n",
       "      <td>&gt;=1</td>\n",
       "    </tr>\n",
       "    <tr>\n",
       "      <td>1</td>\n",
       "      <td>Fully Paid</td>\n",
       "      <td>0.002469</td>\n",
       "      <td>Short Term</td>\n",
       "      <td>0.020794</td>\n",
       "      <td>0.006781</td>\n",
       "      <td>10+ years</td>\n",
       "      <td>Home Mortgage</td>\n",
       "      <td>Debt Consolidation</td>\n",
       "      <td>0.076394</td>\n",
       "      <td>0.261584</td>\n",
       "      <td>0.460526</td>\n",
       "      <td>0.0</td>\n",
       "      <td>0.006995</td>\n",
       "      <td>0.000553</td>\n",
       "      <td>0.0</td>\n",
       "    </tr>\n",
       "    <tr>\n",
       "      <td>2</td>\n",
       "      <td>Fully Paid</td>\n",
       "      <td>1.000000</td>\n",
       "      <td>Short Term</td>\n",
       "      <td>0.022527</td>\n",
       "      <td>0.013024</td>\n",
       "      <td>8 years</td>\n",
       "      <td>Own Home</td>\n",
       "      <td>Debt Consolidation</td>\n",
       "      <td>0.066998</td>\n",
       "      <td>0.168909</td>\n",
       "      <td>0.236842</td>\n",
       "      <td>1.0</td>\n",
       "      <td>0.009063</td>\n",
       "      <td>0.000487</td>\n",
       "      <td>0.0</td>\n",
       "    </tr>\n",
       "    <tr>\n",
       "      <td>3</td>\n",
       "      <td>Fully Paid</td>\n",
       "      <td>0.003323</td>\n",
       "      <td>Long Term</td>\n",
       "      <td>0.019639</td>\n",
       "      <td>0.004413</td>\n",
       "      <td>3 years</td>\n",
       "      <td>Own Home</td>\n",
       "      <td>Debt Consolidation</td>\n",
       "      <td>0.020057</td>\n",
       "      <td>0.125561</td>\n",
       "      <td>0.118421</td>\n",
       "      <td>0.0</td>\n",
       "      <td>0.007796</td>\n",
       "      <td>0.000251</td>\n",
       "      <td>0.0</td>\n",
       "    </tr>\n",
       "    <tr>\n",
       "      <td>4</td>\n",
       "      <td>Fully Paid</td>\n",
       "      <td>0.001608</td>\n",
       "      <td>Short Term</td>\n",
       "      <td>0.020794</td>\n",
       "      <td>0.006781</td>\n",
       "      <td>5 years</td>\n",
       "      <td>Rent</td>\n",
       "      <td>Debt Consolidation</td>\n",
       "      <td>0.047356</td>\n",
       "      <td>0.037369</td>\n",
       "      <td>0.197368</td>\n",
       "      <td>0.0</td>\n",
       "      <td>0.007709</td>\n",
       "      <td>0.000277</td>\n",
       "      <td>0.0</td>\n",
       "    </tr>\n",
       "  </tbody>\n",
       "</table>\n",
       "</div>"
      ],
      "text/plain": [
       "  Loan Status  Current Loan Amount        Term  Credit Score  Annual Income  \\\n",
       "0  Fully Paid             0.004301  Short Term      0.017906       0.006592   \n",
       "1  Fully Paid             0.002469  Short Term      0.020794       0.006781   \n",
       "2  Fully Paid             1.000000  Short Term      0.022527       0.013024   \n",
       "3  Fully Paid             0.003323   Long Term      0.019639       0.004413   \n",
       "4  Fully Paid             0.001608  Short Term      0.020794       0.006781   \n",
       "\n",
       "  Years in current job Home Ownership             Purpose  Monthly Debt  \\\n",
       "0              8 years  Home Mortgage   Home Improvements      0.011965   \n",
       "1            10+ years  Home Mortgage  Debt Consolidation      0.076394   \n",
       "2              8 years       Own Home  Debt Consolidation      0.066998   \n",
       "3              3 years       Own Home  Debt Consolidation      0.020057   \n",
       "4              5 years           Rent  Debt Consolidation      0.047356   \n",
       "\n",
       "   Years of Credit History  Number of Open Accounts Number of Credit Problems  \\\n",
       "0                 0.203288                 0.078947                       1.0   \n",
       "1                 0.261584                 0.460526                       0.0   \n",
       "2                 0.168909                 0.236842                       1.0   \n",
       "3                 0.125561                 0.118421                       0.0   \n",
       "4                 0.037369                 0.197368                       0.0   \n",
       "\n",
       "   Current Credit Balance  Maximum Open Credit Bankruptcies  \n",
       "0                0.006940             0.000271          >=1  \n",
       "1                0.006995             0.000553          0.0  \n",
       "2                0.009063             0.000487          0.0  \n",
       "3                0.007796             0.000251          0.0  \n",
       "4                0.007709             0.000277          0.0  "
      ]
     },
     "execution_count": 2,
     "metadata": {},
     "output_type": "execute_result"
    }
   ],
   "source": [
    "data = pd.read_csv('4_credit_qmvd_cmvm_mm.csv',encoding='latin-1')\n",
    "data.head()"
   ]
  },
  {
   "cell_type": "code",
   "execution_count": 3,
   "metadata": {},
   "outputs": [
    {
     "data": {
      "text/plain": [
       "85791"
      ]
     },
     "execution_count": 3,
     "metadata": {},
     "output_type": "execute_result"
    }
   ],
   "source": [
    "len(data)"
   ]
  },
  {
   "cell_type": "markdown",
   "metadata": {},
   "source": [
    " "
   ]
  },
  {
   "cell_type": "markdown",
   "metadata": {},
   "source": [
    " "
   ]
  },
  {
   "cell_type": "markdown",
   "metadata": {},
   "source": [
    " "
   ]
  },
  {
   "cell_type": "markdown",
   "metadata": {},
   "source": [
    "# Split the data"
   ]
  },
  {
   "cell_type": "code",
   "execution_count": 4,
   "metadata": {},
   "outputs": [],
   "source": [
    "N = len(data)\n",
    "data_indices = data.index\n",
    "random_indices20 = np.random.choice(data_indices,(int(N*20/100)), replace=False)\n",
    "random_indices80 = data_indices.drop(random_indices20)\n",
    "data_test = data.loc[random_indices20]\n",
    "data_train = data.loc[random_indices80]"
   ]
  },
  {
   "cell_type": "markdown",
   "metadata": {},
   "source": [
    "## Emport the data"
   ]
  },
  {
   "cell_type": "code",
   "execution_count": 5,
   "metadata": {},
   "outputs": [],
   "source": [
    "data_test.to_csv(\"5_credit_qmvd_cmvm_mm_test.csv\", index=False)\n",
    "data_train.to_csv(\"5_credit_qmvd_cmvm_mm_train.csv\", index=False)"
   ]
  },
  {
   "cell_type": "markdown",
   "metadata": {},
   "source": [
    " end"
   ]
  }
 ],
 "metadata": {
  "kernelspec": {
   "display_name": "Python 3",
   "language": "python",
   "name": "python3"
  },
  "language_info": {
   "codemirror_mode": {
    "name": "ipython",
    "version": 3
   },
   "file_extension": ".py",
   "mimetype": "text/x-python",
   "name": "python",
   "nbconvert_exporter": "python",
   "pygments_lexer": "ipython3",
   "version": "3.7.4"
  }
 },
 "nbformat": 4,
 "nbformat_minor": 2
}
