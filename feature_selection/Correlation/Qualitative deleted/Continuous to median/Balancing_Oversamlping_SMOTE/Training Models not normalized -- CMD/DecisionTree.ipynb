{
 "cells": [
  {
   "cell_type": "code",
   "execution_count": 1,
   "metadata": {
    "pycharm": {
     "is_executing": false
    }
   },
   "outputs": [],
   "source": [
    "from pylab import rcParams\n",
    "rcParams['figure.figsize'] = 10, 5\n",
    "import warnings\n",
    "warnings.filterwarnings('ignore')\n",
    "from sklearn.tree import DecisionTreeClassifier\n",
    "import pandas as pd\n",
    "from sklearn.model_selection import GridSearchCV, train_test_split\n",
    "from sklearn.metrics import confusion_matrix, classification_report, average_precision_score, accuracy_score\n",
    "import csv"
   ]
  },
  {
   "cell_type": "code",
   "execution_count": 99,
   "metadata": {
    "pycharm": {
     "is_executing": false,
     "name": "#%%\n"
    }
   },
   "outputs": [],
   "source": []
  },
  {
   "cell_type": "code",
   "execution_count": 2,
   "metadata": {
    "pycharm": {
     "is_executing": false,
     "name": "#%%\n"
    }
   },
   "outputs": [],
   "source": [
    "def get_algo_path():\n",
    "    import os\n",
    "    cwd = os.getcwd()\n",
    "    s='\\\\'\n",
    "    if '\\\\' not in cwd:\n",
    "        s='/'\n",
    "    cwd= cwd.split(s)[4:-1]\n",
    "    cwd.append('Not Normalized')\n",
    "    cwd='/'.join(cwd)\n",
    "    return cwd\n",
    "\n",
    "def get_csv_path():\n",
    "    import os\n",
    "    cwd = os.getcwd()\n",
    "    s=\"\\\\\"\n",
    "    if \"\\\\\" not in cwd:\n",
    "        s='/'\n",
    "    file= cwd.split(s)[:4]\n",
    "    file.append('models_scores.csv')\n",
    "    file= s.join(file)\n",
    "    return file\n",
    "\n",
    "def line_is_exist(file, row):\n",
    "    logfile = open(file, 'r')\n",
    "    loglist = logfile.readlines()\n",
    "    logfile.close()\n",
    "    for line in loglist:\n",
    "        if ','.join(row) in line:\n",
    "            return True\n",
    "    return False\n",
    "\n",
    "def write_new_score(file, line):\n",
    "    if( not line_is_exist(file, line) ):\n",
    "        with open(file, 'a') as f:\n",
    "            writer = csv.writer(f)\n",
    "            writer.writerow(line)\n",
    "    else:\n",
    "        print('line exsist already')\n",
    "    "
   ]
  },
  {
   "cell_type": "code",
   "execution_count": 3,
   "metadata": {
    "pycharm": {
     "is_executing": false,
     "name": "#%%\n"
    }
   },
   "outputs": [],
   "source": [
    "data= pd.read_csv('../data.csv')"
   ]
  },
  {
   "cell_type": "code",
   "execution_count": 4,
   "metadata": {
    "pycharm": {
     "is_executing": false,
     "name": "#%%\n"
    }
   },
   "outputs": [],
   "source": [
    "##copying data\n",
    "data1=data.copy()\n",
    "### spliting data en X et Y\n",
    "X= data1.drop('Loan Status', axis=1)\n",
    "Y= data1['Loan Status']\n",
    "### spliting the data to train and test\n",
    "X_train , X_test , Y_train , Y_test = train_test_split(X, Y, test_size = 0.30, random_state = 123)\n",
    "## dicision tree (CART)\n",
    "dct = DecisionTreeClassifier()\n",
    "params={'criterion' : ['gini', 'entropy'],\n",
    "        'max_depth': [4, 5, 6, 7, 8, 9, 10, 11, 12, 13,14, 15, 16, 17, None]}\n",
    "\n",
    "##accuracy\n",
    "grid_search_acc= GridSearchCV(estimator=dct, param_grid= params, scoring='accuracy',cv=2, n_jobs=-1)\n",
    "grid_search_acc= grid_search_acc.fit(X_train, Y_train)\n",
    "y_predict= grid_search_acc.best_estimator_.predict(X_test)\n"
   ]
  },
  {
   "cell_type": "code",
   "execution_count": 5,
   "metadata": {
    "pycharm": {
     "is_executing": false,
     "name": "#%%\n"
    }
   },
   "outputs": [],
   "source": [
    "## get avg precision & avg recall\n",
    "report= classification_report(Y_test, y_predict, output_dict=True)\n",
    "avg_list = report.pop(\"weighted avg\")\n",
    "avg_precision= round(avg_list['precision'], 3)\n",
    "avg_recall= round(avg_list['recall'], 3)\n",
    "accuraccy= round(accuracy_score(Y_test,y_predict), 3)\n",
    "## csv row\n",
    "csv_row = [get_algo_path(), 'Decision Tree', str(grid_search_acc.best_params_), str(accuraccy), str(avg_precision), str(avg_recall)]\n",
    "## write file\n",
    "csv_file= get_csv_path()\n",
    "write_new_score(csv_file, csv_row)"
   ]
  },
  {
   "cell_type": "code",
   "execution_count": 6,
   "metadata": {
    "pycharm": {
     "is_executing": false,
     "name": "#%%\n"
    }
   },
   "outputs": [
    {
     "name": "stdout",
     "output_type": "stream",
     "text": [
      "----------\n",
      "best parameters:  {'criterion': 'entropy', 'max_depth': 12}\n",
      "----------\n",
      "[[13455  5905]\n",
      " [  793 18533]]\n",
      "----------\n",
      "              precision    recall  f1-score   support\n",
      "\n",
      "           0       0.94      0.69      0.80     19360\n",
      "           1       0.76      0.96      0.85     19326\n",
      "\n",
      "    accuracy                           0.83     38686\n",
      "   macro avg       0.85      0.83      0.82     38686\n",
      "weighted avg       0.85      0.83      0.82     38686\n",
      "\n",
      "----------\n"
     ]
    }
   ],
   "source": [
    "## evaluating the model\n",
    "print(\"----------\")\n",
    "print('best parameters: ', grid_search_acc.best_params_)\n",
    "print(\"----------\")\n",
    "print(confusion_matrix(Y_test,y_predict))\n",
    "print(\"----------\")\n",
    "print(classification_report(Y_test, y_predict))\n",
    "print(\"----------\")\n"
   ]
  },
  {
   "cell_type": "code",
   "execution_count": 7,
   "metadata": {
    "collapsed": false,
    "pycharm": {
     "is_executing": false,
     "name": "#%%\n"
    }
   },
   "outputs": [
    {
     "data": {
      "text/plain": [
       "{'mean_fit_time': array([0.37300313, 0.43433976, 0.52310002, 0.60388625, 0.67569435,\n",
       "        0.71957505, 0.77143764, 0.84424269, 0.76246059, 0.75547969,\n",
       "        0.86319256, 0.8646872 , 0.91854358, 0.89311147, 1.12848115,\n",
       "        0.50614488, 0.589921  , 0.68716264, 0.73702776, 0.8093363 ,\n",
       "        0.87565875, 0.92452669, 1.03124201, 1.11102879, 1.21076214,\n",
       "        1.29254234, 1.31648171, 1.46358812, 1.5074687 , 1.61717451]),\n",
       " 'std_fit_time': array([0.00299323, 0.00149488, 0.01346481, 0.01346362, 0.03141534,\n",
       "        0.01545918, 0.00748014, 0.01944745, 0.02443588, 0.0054878 ,\n",
       "        0.00249314, 0.03191447, 0.07180643, 0.00448775, 0.06133628,\n",
       "        0.02144325, 0.02543163, 0.03390956, 0.03091896, 0.04537785,\n",
       "        0.05585027, 0.03091717, 0.0638293 , 0.06781876, 0.02792561,\n",
       "        0.06881678, 0.06881726, 0.03839624, 0.05236006, 0.04338348]),\n",
       " 'mean_score_time': array([0.02044523, 0.02094328, 0.02194226, 0.02144313, 0.02443337,\n",
       "        0.02293885, 0.03191376, 0.02443469, 0.02343786, 0.02393484,\n",
       "        0.03091764, 0.02493382, 0.02792454, 0.02592993, 0.02792609,\n",
       "        0.01944757, 0.01994693, 0.02243984, 0.01994658, 0.02044559,\n",
       "        0.02094448, 0.02194118, 0.0234381 , 0.02493334, 0.02593088,\n",
       "        0.0254333 , 0.03041995, 0.0294193 , 0.02244043, 0.02347016]),\n",
       " 'std_score_time': array([4.97937202e-04, 8.34465027e-07, 1.19209290e-07, 4.98771667e-04,\n",
       "        4.98056412e-04, 1.99377537e-03, 8.97598267e-03, 2.49469280e-03,\n",
       "        4.98890877e-04, 9.98735428e-04, 5.98382950e-03, 9.97781754e-04,\n",
       "        2.99191475e-03, 9.97066498e-04, 5.96046448e-07, 4.98294830e-04,\n",
       "        5.96046448e-07, 1.49548054e-03, 7.15255737e-07, 4.99010086e-04,\n",
       "        3.57627869e-07, 9.97543335e-04, 1.49595737e-03, 9.97066498e-04,\n",
       "        1.99437141e-03, 4.98294830e-04, 5.48732281e-03, 5.48589230e-03,\n",
       "        5.48577309e-03, 5.24520874e-04]),\n",
       " 'param_criterion': masked_array(data=['gini', 'gini', 'gini', 'gini', 'gini', 'gini', 'gini',\n",
       "                    'gini', 'gini', 'gini', 'gini', 'gini', 'gini', 'gini',\n",
       "                    'gini', 'entropy', 'entropy', 'entropy', 'entropy',\n",
       "                    'entropy', 'entropy', 'entropy', 'entropy', 'entropy',\n",
       "                    'entropy', 'entropy', 'entropy', 'entropy', 'entropy',\n",
       "                    'entropy'],\n",
       "              mask=[False, False, False, False, False, False, False, False,\n",
       "                    False, False, False, False, False, False, False, False,\n",
       "                    False, False, False, False, False, False, False, False,\n",
       "                    False, False, False, False, False, False],\n",
       "        fill_value='?',\n",
       "             dtype=object),\n",
       " 'param_max_depth': masked_array(data=[4, 5, 6, 7, 8, 9, 10, 11, 12, 13, 14, 15, 16, 17, None,\n",
       "                    4, 5, 6, 7, 8, 9, 10, 11, 12, 13, 14, 15, 16, 17, None],\n",
       "              mask=[False, False, False, False, False, False, False, False,\n",
       "                    False, False, False, False, False, False, False, False,\n",
       "                    False, False, False, False, False, False, False, False,\n",
       "                    False, False, False, False, False, False],\n",
       "        fill_value='?',\n",
       "             dtype=object),\n",
       " 'params': [{'criterion': 'gini', 'max_depth': 4},\n",
       "  {'criterion': 'gini', 'max_depth': 5},\n",
       "  {'criterion': 'gini', 'max_depth': 6},\n",
       "  {'criterion': 'gini', 'max_depth': 7},\n",
       "  {'criterion': 'gini', 'max_depth': 8},\n",
       "  {'criterion': 'gini', 'max_depth': 9},\n",
       "  {'criterion': 'gini', 'max_depth': 10},\n",
       "  {'criterion': 'gini', 'max_depth': 11},\n",
       "  {'criterion': 'gini', 'max_depth': 12},\n",
       "  {'criterion': 'gini', 'max_depth': 13},\n",
       "  {'criterion': 'gini', 'max_depth': 14},\n",
       "  {'criterion': 'gini', 'max_depth': 15},\n",
       "  {'criterion': 'gini', 'max_depth': 16},\n",
       "  {'criterion': 'gini', 'max_depth': 17},\n",
       "  {'criterion': 'gini', 'max_depth': None},\n",
       "  {'criterion': 'entropy', 'max_depth': 4},\n",
       "  {'criterion': 'entropy', 'max_depth': 5},\n",
       "  {'criterion': 'entropy', 'max_depth': 6},\n",
       "  {'criterion': 'entropy', 'max_depth': 7},\n",
       "  {'criterion': 'entropy', 'max_depth': 8},\n",
       "  {'criterion': 'entropy', 'max_depth': 9},\n",
       "  {'criterion': 'entropy', 'max_depth': 10},\n",
       "  {'criterion': 'entropy', 'max_depth': 11},\n",
       "  {'criterion': 'entropy', 'max_depth': 12},\n",
       "  {'criterion': 'entropy', 'max_depth': 13},\n",
       "  {'criterion': 'entropy', 'max_depth': 14},\n",
       "  {'criterion': 'entropy', 'max_depth': 15},\n",
       "  {'criterion': 'entropy', 'max_depth': 16},\n",
       "  {'criterion': 'entropy', 'max_depth': 17},\n",
       "  {'criterion': 'entropy', 'max_depth': None}],\n",
       " 'split0_test_score': array([0.72674097, 0.78889061, 0.79305608, 0.81009461, 0.81049343,\n",
       "        0.8212616 , 0.82489531, 0.81999867, 0.82152749, 0.82130592,\n",
       "        0.82276826, 0.82201493, 0.81822613, 0.81443733, 0.79084041,\n",
       "        0.72676312, 0.78889061, 0.79307824, 0.81007245, 0.81049343,\n",
       "        0.8215718 , 0.82680079, 0.8246959 , 0.82642412, 0.8205969 ,\n",
       "        0.82374316, 0.82077416, 0.81866927, 0.8150134 , 0.79148295]),\n",
       " 'split1_test_score': array([0.72631999, 0.78928943, 0.79283451, 0.7982186 , 0.8051315 ,\n",
       "        0.81350675, 0.81288636, 0.82004298, 0.81937828, 0.81891299,\n",
       "        0.82057475, 0.8205969 , 0.81767221, 0.81702967, 0.79228059,\n",
       "        0.72631999, 0.78928943, 0.79283451, 0.7982186 , 0.80544169,\n",
       "        0.81928966, 0.81776084, 0.82711098, 0.82706667, 0.82584805,\n",
       "        0.82436355, 0.82447433, 0.82409767, 0.82263532, 0.79487293]),\n",
       " 'mean_test_score': array([0.72653048, 0.78909002, 0.7929453 , 0.8041566 , 0.80781247,\n",
       "        0.81738418, 0.81889083, 0.82002083, 0.82045288, 0.82010945,\n",
       "        0.8216715 , 0.82130592, 0.81794917, 0.8157335 , 0.7915605 ,\n",
       "        0.72654155, 0.78909002, 0.79295637, 0.80414553, 0.80796756,\n",
       "        0.82043073, 0.82228081, 0.82590344, 0.8267454 , 0.82322248,\n",
       "        0.82405335, 0.82262424, 0.82138347, 0.81882436, 0.79317794]),\n",
       " 'std_test_score': array([2.10488999e-04, 1.99410631e-04, 1.10783684e-04, 5.93800545e-03,\n",
       "        2.68096515e-03, 3.87742893e-03, 6.00447566e-03, 2.21567368e-05,\n",
       "        1.07460173e-03, 1.19646378e-03, 1.09675847e-03, 7.09015576e-04,\n",
       "        2.76959209e-04, 1.29616910e-03, 7.20093945e-04, 2.21567368e-04,\n",
       "        1.99410631e-04, 1.21862052e-04, 5.92692708e-03, 2.52586799e-03,\n",
       "        1.14107194e-03, 4.51997430e-03, 1.20754215e-03, 3.21272683e-04,\n",
       "        2.62557331e-03, 3.10194315e-04, 1.85008752e-03, 2.71420025e-03,\n",
       "        3.81095872e-03, 1.69499036e-03]),\n",
       " 'rank_test_score': array([30, 27, 25, 21, 20, 17, 14, 13, 10, 12,  7,  9, 16, 18, 26, 29, 27,\n",
       "        24, 22, 19, 11,  6,  2,  1,  4,  3,  5,  8, 15, 23])}"
      ]
     },
     "execution_count": 7,
     "metadata": {},
     "output_type": "execute_result"
    }
   ],
   "source": [
    "grid_search_acc.cv_results_\n",
    "\n"
   ]
  }
 ],
 "metadata": {
  "kernelspec": {
   "display_name": "Python 3",
   "language": "python",
   "name": "python3"
  },
  "language_info": {
   "codemirror_mode": {
    "name": "ipython",
    "version": 3
   },
   "file_extension": ".py",
   "mimetype": "text/x-python",
   "name": "python",
   "nbconvert_exporter": "python",
   "pygments_lexer": "ipython3",
   "version": "3.7.4"
  },
  "pycharm": {
   "stem_cell": {
    "cell_type": "raw",
    "metadata": {
     "collapsed": false
    },
    "source": []
   }
  }
 },
 "nbformat": 4,
 "nbformat_minor": 1
}
