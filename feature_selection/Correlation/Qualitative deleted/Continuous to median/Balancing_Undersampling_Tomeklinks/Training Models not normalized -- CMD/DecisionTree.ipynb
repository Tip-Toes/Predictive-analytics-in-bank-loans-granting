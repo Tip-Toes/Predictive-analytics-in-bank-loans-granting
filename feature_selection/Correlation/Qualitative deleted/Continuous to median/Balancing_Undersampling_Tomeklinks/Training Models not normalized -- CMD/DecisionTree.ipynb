{
 "cells": [
  {
   "cell_type": "code",
   "execution_count": 1,
   "metadata": {
    "pycharm": {
     "is_executing": false
    }
   },
   "outputs": [],
   "source": [
    "from pylab import rcParams\n",
    "rcParams['figure.figsize'] = 10, 5\n",
    "import warnings\n",
    "warnings.filterwarnings('ignore')\n",
    "from sklearn.tree import DecisionTreeClassifier\n",
    "import pandas as pd\n",
    "from sklearn.model_selection import GridSearchCV, train_test_split\n",
    "from sklearn.metrics import confusion_matrix, classification_report, average_precision_score, accuracy_score\n",
    "import csv"
   ]
  },
  {
   "cell_type": "code",
   "execution_count": 99,
   "metadata": {
    "pycharm": {
     "is_executing": false,
     "name": "#%%\n"
    }
   },
   "outputs": [],
   "source": []
  },
  {
   "cell_type": "code",
   "execution_count": 2,
   "metadata": {
    "pycharm": {
     "is_executing": false,
     "name": "#%%\n"
    }
   },
   "outputs": [],
   "source": [
    "def get_algo_path():\n",
    "    import os\n",
    "    cwd = os.getcwd()\n",
    "    s='\\\\'\n",
    "    if '\\\\' not in cwd:\n",
    "        s='/'\n",
    "    cwd= cwd.split(s)[4:-1]\n",
    "    cwd.append('Not Normalized')\n",
    "    cwd='/'.join(cwd)\n",
    "    return cwd\n",
    "\n",
    "def get_csv_path():\n",
    "    import os\n",
    "    cwd = os.getcwd()\n",
    "    s=\"\\\\\"\n",
    "    if \"\\\\\" not in cwd:\n",
    "        s='/'\n",
    "    file= cwd.split(s)[:4]\n",
    "    file.append('models_scores.csv')\n",
    "    file= s.join(file)\n",
    "    return file\n",
    "\n",
    "def line_is_exist(file, row):\n",
    "    logfile = open(file, 'r')\n",
    "    loglist = logfile.readlines()\n",
    "    logfile.close()\n",
    "    for line in loglist:\n",
    "        if ','.join(row) in line:\n",
    "            return True\n",
    "    return False\n",
    "\n",
    "def write_new_score(file, line):\n",
    "    if( not line_is_exist(file, line) ):\n",
    "        with open(file, 'a') as f:\n",
    "            writer = csv.writer(f)\n",
    "            writer.writerow(line)\n",
    "    else:\n",
    "        print('line exsist already')\n",
    "    "
   ]
  },
  {
   "cell_type": "code",
   "execution_count": 3,
   "metadata": {
    "pycharm": {
     "is_executing": false,
     "name": "#%%\n"
    }
   },
   "outputs": [],
   "source": [
    "data= pd.read_csv('../data.csv')"
   ]
  },
  {
   "cell_type": "code",
   "execution_count": 4,
   "metadata": {
    "pycharm": {
     "is_executing": false,
     "name": "#%%\n"
    }
   },
   "outputs": [],
   "source": [
    "##copying data\n",
    "data1=data.copy()\n",
    "### spliting data en X et Y\n",
    "X= data1.drop('Loan Status', axis=1)\n",
    "Y= data1['Loan Status']\n",
    "### spliting the data to train and test\n",
    "X_train , X_test , Y_train , Y_test = train_test_split(X, Y, test_size = 0.30, random_state = 123)\n",
    "## dicision tree (CART)\n",
    "dct = DecisionTreeClassifier()\n",
    "params={'criterion' : ['gini', 'entropy'],\n",
    "        'max_depth': [4, 5, 6, 7, 8, 9, 10, 11, 12, 13,14, 15, 16, 17, None]}\n",
    "\n",
    "##accuracy\n",
    "grid_search_acc= GridSearchCV(estimator=dct, param_grid= params, scoring='accuracy',cv=2, n_jobs=-1)\n",
    "grid_search_acc= grid_search_acc.fit(X_train, Y_train)\n",
    "y_predict= grid_search_acc.best_estimator_.predict(X_test)\n"
   ]
  },
  {
   "cell_type": "code",
   "execution_count": 5,
   "metadata": {
    "pycharm": {
     "is_executing": false,
     "name": "#%%\n"
    }
   },
   "outputs": [],
   "source": [
    "## get avg precision & avg recall\n",
    "report= classification_report(Y_test, y_predict, output_dict=True)\n",
    "avg_list = report.pop(\"weighted avg\")\n",
    "avg_precision= round(avg_list['precision'], 3)\n",
    "avg_recall= round(avg_list['recall'], 3)\n",
    "accuraccy= round(accuracy_score(Y_test,y_predict), 3)\n",
    "## csv row\n",
    "csv_row = [get_algo_path(), 'Decision Tree', str(grid_search_acc.best_params_), str(accuraccy), str(avg_precision), str(avg_recall)]\n",
    "## write file\n",
    "csv_file= get_csv_path()\n",
    "write_new_score(csv_file, csv_row)"
   ]
  },
  {
   "cell_type": "code",
   "execution_count": 6,
   "metadata": {
    "pycharm": {
     "is_executing": false,
     "name": "#%%\n"
    }
   },
   "outputs": [
    {
     "name": "stdout",
     "output_type": "stream",
     "text": [
      "----------\n",
      "best parameters:  {'criterion': 'entropy', 'max_depth': 4}\n",
      "----------\n",
      "[[ 1266  5119]\n",
      " [    0 16906]]\n",
      "----------\n",
      "              precision    recall  f1-score   support\n",
      "\n",
      "           0       1.00      0.20      0.33      6385\n",
      "           1       0.77      1.00      0.87     16906\n",
      "\n",
      "    accuracy                           0.78     23291\n",
      "   macro avg       0.88      0.60      0.60     23291\n",
      "weighted avg       0.83      0.78      0.72     23291\n",
      "\n",
      "----------\n"
     ]
    }
   ],
   "source": [
    "## evaluating the model\n",
    "print(\"----------\")\n",
    "print('best parameters: ', grid_search_acc.best_params_)\n",
    "print(\"----------\")\n",
    "print(confusion_matrix(Y_test,y_predict))\n",
    "print(\"----------\")\n",
    "print(classification_report(Y_test, y_predict))\n",
    "print(\"----------\")\n"
   ]
  },
  {
   "cell_type": "code",
   "execution_count": 7,
   "metadata": {
    "collapsed": false,
    "pycharm": {
     "is_executing": false,
     "name": "#%%\n"
    }
   },
   "outputs": [
    {
     "data": {
      "text/plain": [
       "{'mean_fit_time': array([0.25032985, 0.27127278, 0.27426469, 0.35454798, 0.33709872,\n",
       "        0.44032097, 0.44680476, 0.48819482, 0.49268031, 0.51013625,\n",
       "        0.61286128, 0.67968214, 0.71858048, 0.80285239, 0.85620868,\n",
       "        0.35106111, 0.37748742, 0.41090178, 0.39095509, 0.43633366,\n",
       "        0.53157854, 0.62133956, 0.65026128, 0.67120481, 0.68167651,\n",
       "        0.72456264, 0.77542651, 0.77941537, 0.70810652, 0.71209466]),\n",
       " 'std_fit_time': array([0.0019964 , 0.00099885, 0.00199854, 0.0194509 , 0.00498617,\n",
       "        0.00847816, 0.00598288, 0.00448859, 0.0259304 , 0.02842414,\n",
       "        0.09624231, 0.03540599, 0.03041911, 0.00299215, 0.00349104,\n",
       "        0.02892256, 0.01645494, 0.03590369, 0.00099719, 0.00648308,\n",
       "        0.00398874, 0.02593112, 0.0249325 , 0.02493334, 0.00249255,\n",
       "        0.0014956 , 0.00847733, 0.00049901, 0.02792478, 0.00598371]),\n",
       " 'mean_score_time': array([0.01496077, 0.0119679 , 0.01396215, 0.01346505, 0.02543163,\n",
       "        0.01496017, 0.01496017, 0.0144608 , 0.01645875, 0.01496005,\n",
       "        0.02293944, 0.01645613, 0.02991843, 0.01994658, 0.01944852,\n",
       "        0.01446128, 0.01246738, 0.0119673 , 0.0124687 , 0.01246667,\n",
       "        0.01346374, 0.0139631 , 0.01396215, 0.01346362, 0.01396227,\n",
       "        0.01994705, 0.0144614 , 0.014961  , 0.01246655, 0.01148963]),\n",
       " 'std_score_time': array([1.99317932e-03, 0.00000000e+00, 9.98377800e-04, 5.00082970e-04,\n",
       "        1.24669075e-02, 3.57627869e-07, 9.96708870e-04, 4.98533249e-04,\n",
       "        4.95672226e-04, 9.97066498e-04, 6.98232651e-03, 1.49583817e-03,\n",
       "        5.98311424e-03, 2.99263000e-03, 1.49607658e-03, 2.49361992e-03,\n",
       "        4.98771667e-04, 8.34465027e-07, 5.00559807e-04, 4.99963760e-04,\n",
       "        4.99486923e-04, 9.96708870e-04, 5.96046448e-07, 4.99129295e-04,\n",
       "        4.76837158e-07, 4.98771667e-03, 4.98414040e-04, 9.96828079e-04,\n",
       "        1.49571896e-03, 5.18560410e-04]),\n",
       " 'param_criterion': masked_array(data=['gini', 'gini', 'gini', 'gini', 'gini', 'gini', 'gini',\n",
       "                    'gini', 'gini', 'gini', 'gini', 'gini', 'gini', 'gini',\n",
       "                    'gini', 'entropy', 'entropy', 'entropy', 'entropy',\n",
       "                    'entropy', 'entropy', 'entropy', 'entropy', 'entropy',\n",
       "                    'entropy', 'entropy', 'entropy', 'entropy', 'entropy',\n",
       "                    'entropy'],\n",
       "              mask=[False, False, False, False, False, False, False, False,\n",
       "                    False, False, False, False, False, False, False, False,\n",
       "                    False, False, False, False, False, False, False, False,\n",
       "                    False, False, False, False, False, False],\n",
       "        fill_value='?',\n",
       "             dtype=object),\n",
       " 'param_max_depth': masked_array(data=[4, 5, 6, 7, 8, 9, 10, 11, 12, 13, 14, 15, 16, 17, None,\n",
       "                    4, 5, 6, 7, 8, 9, 10, 11, 12, 13, 14, 15, 16, 17, None],\n",
       "              mask=[False, False, False, False, False, False, False, False,\n",
       "                    False, False, False, False, False, False, False, False,\n",
       "                    False, False, False, False, False, False, False, False,\n",
       "                    False, False, False, False, False, False],\n",
       "        fill_value='?',\n",
       "             dtype=object),\n",
       " 'params': [{'criterion': 'gini', 'max_depth': 4},\n",
       "  {'criterion': 'gini', 'max_depth': 5},\n",
       "  {'criterion': 'gini', 'max_depth': 6},\n",
       "  {'criterion': 'gini', 'max_depth': 7},\n",
       "  {'criterion': 'gini', 'max_depth': 8},\n",
       "  {'criterion': 'gini', 'max_depth': 9},\n",
       "  {'criterion': 'gini', 'max_depth': 10},\n",
       "  {'criterion': 'gini', 'max_depth': 11},\n",
       "  {'criterion': 'gini', 'max_depth': 12},\n",
       "  {'criterion': 'gini', 'max_depth': 13},\n",
       "  {'criterion': 'gini', 'max_depth': 14},\n",
       "  {'criterion': 'gini', 'max_depth': 15},\n",
       "  {'criterion': 'gini', 'max_depth': 16},\n",
       "  {'criterion': 'gini', 'max_depth': 17},\n",
       "  {'criterion': 'gini', 'max_depth': None},\n",
       "  {'criterion': 'entropy', 'max_depth': 4},\n",
       "  {'criterion': 'entropy', 'max_depth': 5},\n",
       "  {'criterion': 'entropy', 'max_depth': 6},\n",
       "  {'criterion': 'entropy', 'max_depth': 7},\n",
       "  {'criterion': 'entropy', 'max_depth': 8},\n",
       "  {'criterion': 'entropy', 'max_depth': 9},\n",
       "  {'criterion': 'entropy', 'max_depth': 10},\n",
       "  {'criterion': 'entropy', 'max_depth': 11},\n",
       "  {'criterion': 'entropy', 'max_depth': 12},\n",
       "  {'criterion': 'entropy', 'max_depth': 13},\n",
       "  {'criterion': 'entropy', 'max_depth': 14},\n",
       "  {'criterion': 'entropy', 'max_depth': 15},\n",
       "  {'criterion': 'entropy', 'max_depth': 16},\n",
       "  {'criterion': 'entropy', 'max_depth': 17},\n",
       "  {'criterion': 'entropy', 'max_depth': None}],\n",
       " 'split0_test_score': array([0.78117179, 0.78117179, 0.77936847, 0.77785956, 0.77749154,\n",
       "        0.77465774, 0.77108788, 0.7670028 , 0.764169  , 0.7584646 ,\n",
       "        0.7542323 , 0.75103047, 0.74414839, 0.73377006, 0.6960842 ,\n",
       "        0.78117179, 0.78117179, 0.77936847, 0.77793317, 0.77900044,\n",
       "        0.77789636, 0.77506256, 0.77403209, 0.76674518, 0.76689239,\n",
       "        0.76177683, 0.76026792, 0.75103047, 0.74668777, 0.70204622]),\n",
       " 'split1_test_score': array([0.78076697, 0.78076697, 0.78205506, 0.78058295, 0.77811718,\n",
       "        0.7769395 , 0.77248638, 0.77145591, 0.76453702, 0.75633005,\n",
       "        0.75257618, 0.75007361, 0.74032092, 0.73792875, 0.6988444 ,\n",
       "        0.78080377, 0.78080377, 0.78080377, 0.78187104, 0.78150302,\n",
       "        0.77730752, 0.77624025, 0.77211836, 0.7656779 , 0.76324893,\n",
       "        0.75938466, 0.75298101, 0.74775504, 0.74595172, 0.70421758]),\n",
       " 'mean_test_score': array([0.78096938, 0.78096938, 0.78071176, 0.77922126, 0.77780436,\n",
       "        0.77579862, 0.77178713, 0.76922935, 0.76435301, 0.75739732,\n",
       "        0.75340424, 0.75055204, 0.74223465, 0.7358494 , 0.6974643 ,\n",
       "        0.78098778, 0.78098778, 0.78008612, 0.77990211, 0.78025173,\n",
       "        0.77760194, 0.77565141, 0.77307522, 0.76621154, 0.76507066,\n",
       "        0.76058074, 0.75662447, 0.74939276, 0.74631974, 0.7031319 ]),\n",
       " 'std_test_score': array([0.00020241, 0.00020241, 0.00134329, 0.0013617 , 0.00031282,\n",
       "        0.00114088, 0.00069925, 0.00222656, 0.00018401, 0.00106728,\n",
       "        0.00082806, 0.00047843, 0.00191373, 0.00207935, 0.0013801 ,\n",
       "        0.00018401, 0.00018401, 0.00071765, 0.00196894, 0.00125129,\n",
       "        0.00029442, 0.00058884, 0.00095687, 0.00053364, 0.00182173,\n",
       "        0.00119608, 0.00364346, 0.00163772, 0.00036803, 0.00108568]),\n",
       " 'rank_test_score': array([ 3,  3,  5,  9, 10, 12, 15, 16, 19, 21, 23, 24, 27, 28, 30,  1,  1,\n",
       "         7,  8,  6, 11, 13, 14, 17, 18, 20, 22, 25, 26, 29])}"
      ]
     },
     "execution_count": 7,
     "metadata": {},
     "output_type": "execute_result"
    }
   ],
   "source": [
    "grid_search_acc.cv_results_\n",
    "\n"
   ]
  }
 ],
 "metadata": {
  "kernelspec": {
   "display_name": "Python 3",
   "language": "python",
   "name": "python3"
  },
  "language_info": {
   "codemirror_mode": {
    "name": "ipython",
    "version": 3
   },
   "file_extension": ".py",
   "mimetype": "text/x-python",
   "name": "python",
   "nbconvert_exporter": "python",
   "pygments_lexer": "ipython3",
   "version": "3.7.4"
  },
  "pycharm": {
   "stem_cell": {
    "cell_type": "raw",
    "metadata": {
     "collapsed": false
    },
    "source": []
   }
  }
 },
 "nbformat": 4,
 "nbformat_minor": 1
}
