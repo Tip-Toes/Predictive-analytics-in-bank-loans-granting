{
 "cells": [
  {
   "cell_type": "code",
   "execution_count": 1,
   "metadata": {
    "pycharm": {
     "is_executing": false,
     "name": "#%%\n"
    }
   },
   "outputs": [],
   "source": [
    "import warnings\n",
    "from sklearn.model_selection import train_test_split,cross_val_score, GridSearchCV\n",
    "warnings.filterwarnings('ignore')\n",
    "import pandas as pd\n",
    "from sklearn.neighbors import KNeighborsClassifier\n",
    "from sklearn.svm import SVC\n",
    "from sklearn.metrics import confusion_matrix,classification_report,accuracy_score\n"
   ]
  },
  {
   "cell_type": "code",
   "execution_count": 2,
   "metadata": {
    "pycharm": {
     "is_executing": false,
     "name": "#%%\n"
    }
   },
   "outputs": [],
   "source": [
    "data= pd.read_csv('../z_norm.csv')"
   ]
  },
  {
   "cell_type": "markdown",
   "metadata": {},
   "source": [
    "### Imbalanced dataset"
   ]
  },
  {
   "cell_type": "code",
   "execution_count": 3,
   "metadata": {
    "pycharm": {
     "is_executing": false,
     "name": "#%%\n"
    }
   },
   "outputs": [
    {
     "data": {
      "text/plain": "Fully Paid     51276\nCharged Off    16214\nName: Loan Status, dtype: int64"
     },
     "metadata": {},
     "output_type": "execute_result",
     "execution_count": 3
    }
   ],
   "source": [
    "data['Loan Status'].value_counts()"
   ]
  },
  {
   "cell_type": "markdown",
   "source": [
    "### split data en X et Y"
   ],
   "metadata": {
    "collapsed": false,
    "pycharm": {
     "name": "#%% md\n"
    }
   }
  },
  {
   "cell_type": "code",
   "execution_count": 12,
   "outputs": [],
   "source": [
    "data1= data.copy()\n",
    "X= data1.drop('Loan Status', axis=1)\n",
    "Y= data1['Loan Status']\n"
   ],
   "metadata": {
    "collapsed": false,
    "pycharm": {
     "name": "#%%\n",
     "is_executing": false
    }
   }
  },
  {
   "cell_type": "markdown",
   "source": [
    "### One hot encoding"
   ],
   "metadata": {
    "collapsed": false,
    "pycharm": {
     "name": "#%% md\n"
    }
   }
  },
  {
   "cell_type": "code",
   "execution_count": 13,
   "metadata": {
    "pycharm": {
     "is_executing": false,
     "name": "#%%\n"
    }
   },
   "outputs": [],
   "source": [
    "X= pd.get_dummies(X, drop_first= True)\n",
    "Y= pd.get_dummies(Y, drop_first= True)"
   ]
  },
  {
   "cell_type": "markdown",
   "metadata": {
    "pycharm": {
     "name": "#%% md\n"
    }
   },
   "source": [
    "### split data en train and test"
   ]
  },
  {
   "cell_type": "code",
   "execution_count": 14,
   "outputs": [],
   "source": [
    "X_train , X_test , Y_train , Y_test = train_test_split(X, Y, test_size = 0.20, random_state = 123, stratify=Y)\n"
   ],
   "metadata": {
    "collapsed": false,
    "pycharm": {
     "name": "#%%\n",
     "is_executing": false
    }
   }
  },
  {
   "cell_type": "markdown",
   "source": [
    "### ---KNN---"
   ],
   "metadata": {
    "collapsed": false
   }
  },
  {
   "cell_type": "code",
   "execution_count": 15,
   "metadata": {
    "pycharm": {
     "is_executing": false,
     "name": "#%%\n"
    }
   },
   "outputs": [],
   "source": [
    "knn = KNeighborsClassifier()\n",
    "##Hyperparameter tuning     ##5*4*10= 200 training \n",
    "params={'n_neighbors' : [3, 4, 5, 6, 7],\n",
    "        'metric': ['minkowski','euclidean','manhattan', 'hamming']}\n",
    "grid_search= GridSearchCV(estimator=knn, param_grid= params, scoring='accuracy', n_jobs=-1)\n",
    "grid_search= grid_search.fit(X_train, Y_train)\n",
    "y_predict= grid_search.best_estimator_.predict(X_test)"
   ]
  },
  {
   "cell_type": "code",
   "execution_count": 16,
   "metadata": {
    "pycharm": {
     "is_executing": false,
     "name": "#%%\n"
    }
   },
   "outputs": [
    {
     "name": "stdout",
     "text": [
      "----------\n",
      "best parameters:  {'metric': 'manhattan', 'n_neighbors': 7}\n",
      "----------\n",
      "[[1073 2170]\n",
      " [ 500 9755]]\n",
      "----------\n",
      "              precision    recall  f1-score   support\n",
      "\n",
      "           0       0.68      0.33      0.45      3243\n",
      "           1       0.82      0.95      0.88     10255\n",
      "\n",
      "    accuracy                           0.80     13498\n",
      "   macro avg       0.75      0.64      0.66     13498\n",
      "weighted avg       0.79      0.80      0.78     13498\n",
      "\n",
      "----------\n",
      "best accuracy:  0.804248777596681\n",
      "----------\n"
     ],
     "output_type": "stream"
    }
   ],
   "source": [
    "## evaluating the model\n",
    "print(\"----------\")\n",
    "print('best parameters: ', grid_search.best_params_)\n",
    "print(\"----------\")\n",
    "print(confusion_matrix(Y_test,y_predict))\n",
    "print(\"----------\")\n",
    "print(classification_report(Y_test, y_predict))\n",
    "print(\"----------\")\n",
    "print('best accuracy: ', grid_search.best_score_)\n",
    "print(\"----------\")"
   ]
  },
  {
   "cell_type": "markdown",
   "metadata": {
    "pycharm": {
     "is_executing": false,
     "name": "#%% md\n"
    }
   },
   "source": [
    "### SVM"
   ]
  },
  {
   "cell_type": "code",
   "execution_count": 17,
   "metadata": {
    "pycharm": {
     "is_executing": false,
     "name": "#%%\n"
    }
   },
   "outputs": [],
   "source": [
    "##training the model\n",
    "svc = SVC()\n",
    "svc.fit(X_train, Y_train)\n",
    "y_predict = svc.predict(X_test)"
   ]
  },
  {
   "cell_type": "code",
   "execution_count": 18,
   "metadata": {
    "pycharm": {
     "is_executing": false,
     "name": "#%%\n"
    }
   },
   "outputs": [
    {
     "name": "stdout",
     "text": [
      "[[  864  2379]\n",
      " [    0 10255]]\n",
      "----------\n",
      "              precision    recall  f1-score   support\n",
      "\n",
      "           0       1.00      0.27      0.42      3243\n",
      "           1       0.81      1.00      0.90     10255\n",
      "\n",
      "    accuracy                           0.82     13498\n",
      "   macro avg       0.91      0.63      0.66     13498\n",
      "weighted avg       0.86      0.82      0.78     13498\n",
      "\n",
      "----------\n",
      "Score:  0.8237516669136168\n"
     ],
     "output_type": "stream"
    }
   ],
   "source": [
    "## evaluating the model\n",
    "print(confusion_matrix(Y_test,y_predict))\n",
    "print(\"----------\")\n",
    "print(classification_report(Y_test, y_predict))\n",
    "print(\"----------\")\n",
    "print(\"Score: \",svc.score(X_test, Y_test))"
   ]
  },
  {
   "cell_type": "markdown",
   "metadata": {},
   "source": [
    "## Cross Validation (K-Fold)"
   ]
  },
  {
   "cell_type": "code",
   "execution_count": 22,
   "metadata": {
    "pycharm": {
     "is_executing": false,
     "name": "#%%\n"
    }
   },
   "outputs": [],
   "source": [
    "scores2= cross_val_score(estimator=svc, X=X_train, y=Y_train, cv=10)"
   ]
  },
  {
   "cell_type": "code",
   "execution_count": 27,
   "outputs": [],
   "source": [
    "knn = KNeighborsClassifier(n_neighbors= 7, metric='manhattan')\n",
    "scores1= cross_val_score(estimator=knn, X=X_train, y=Y_train, cv=10)"
   ],
   "metadata": {
    "collapsed": false,
    "pycharm": {
     "name": "#%%\n",
     "is_executing": false
    }
   }
  },
  {
   "cell_type": "code",
   "execution_count": 28,
   "metadata": {
    "pycharm": {
     "is_executing": false,
     "name": "#%%\n"
    }
   },
   "outputs": [
    {
     "name": "stdout",
     "text": [
      "KNN: \n",
      "---------------\n",
      "scores:  [0.813, 0.807, 0.808, 0.804, 0.802, 0.806, 0.793, 0.804, 0.806, 0.798]\n",
      "Mean score:  0.804\n",
      "standart deviation:  0.005\n",
      "\n",
      "SVC: \n",
      "---------------\n",
      "scores:  [0.829, 0.819, 0.828, 0.828, 0.818, 0.823, 0.816, 0.823, 0.826, 0.821]\n",
      "Mean score:  0.823\n",
      "standart deviation:  0.004\n"
     ],
     "output_type": "stream"
    }
   ],
   "source": [
    "scores1_list= [round(elem, 3) for elem in list(scores1)]\n",
    "scores2_list= [round(elem, 3) for elem in list(scores2)]\n",
    "print(\"KNN: \")\n",
    "print(\"---------------\")\n",
    "print(\"scores: \", scores1_list)\n",
    "print(\"Mean score: \", round(scores1.mean(), 3))\n",
    "print(\"standart deviation: \", round(scores1.std(), 3))\n",
    "print(\"\")\n",
    "print(\"SVC: \")\n",
    "print(\"---------------\")\n",
    "print(\"scores: \", scores2_list)\n",
    "print(\"Mean score: \", round(scores2.mean(), 3))\n",
    "print(\"standart deviation: \", round(scores2.std(), 3))"
   ]
  }
 ],
 "metadata": {
  "kernelspec": {
   "display_name": "Python 3",
   "language": "python",
   "name": "python3"
  },
  "language_info": {
   "codemirror_mode": {
    "name": "ipython",
    "version": 3
   },
   "file_extension": ".py",
   "mimetype": "text/x-python",
   "name": "python",
   "nbconvert_exporter": "python",
   "pygments_lexer": "ipython3",
   "version": "3.7.4"
  },
  "pycharm": {
   "stem_cell": {
    "cell_type": "raw",
    "source": [],
    "metadata": {
     "collapsed": false
    }
   }
  }
 },
 "nbformat": 4,
 "nbformat_minor": 1
}