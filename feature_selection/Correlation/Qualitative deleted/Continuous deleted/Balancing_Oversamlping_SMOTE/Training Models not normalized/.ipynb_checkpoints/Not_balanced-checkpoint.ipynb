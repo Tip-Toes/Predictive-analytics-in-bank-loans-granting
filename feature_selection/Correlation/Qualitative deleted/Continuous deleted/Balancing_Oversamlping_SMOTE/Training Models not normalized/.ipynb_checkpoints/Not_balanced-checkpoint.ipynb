{
 "cells": [
  {
   "cell_type": "code",
   "execution_count": 13,
   "metadata": {
    "pycharm": {
     "is_executing": false,
     "name": "#%%\n"
    }
   },
   "outputs": [],
   "source": [
    "import warnings\n",
    "warnings.filterwarnings('ignore')\n",
    "import pandas as pd\n",
    "from sklearn.model_selection import train_test_split, cross_val_score\n",
    "from sklearn.ensemble import RandomForestClassifier\n",
    "from xgboost import XGBClassifier\n",
    "from sklearn.metrics import confusion_matrix,classification_report,accuracy_score\n"
   ]
  },
  {
   "cell_type": "code",
   "execution_count": 14,
   "metadata": {
    "pycharm": {
     "is_executing": false,
     "name": "#%%\n"
    }
   },
   "outputs": [
    {
     "data": {
      "text/html": [
       "<div>\n",
       "<style scoped>\n",
       "    .dataframe tbody tr th:only-of-type {\n",
       "        vertical-align: middle;\n",
       "    }\n",
       "\n",
       "    .dataframe tbody tr th {\n",
       "        vertical-align: top;\n",
       "    }\n",
       "\n",
       "    .dataframe thead th {\n",
       "        text-align: right;\n",
       "    }\n",
       "</style>\n",
       "<table border=\"1\" class=\"dataframe\">\n",
       "  <thead>\n",
       "    <tr style=\"text-align: right;\">\n",
       "      <th></th>\n",
       "      <th>Loan Status</th>\n",
       "      <th>Current Loan Amount</th>\n",
       "      <th>Term</th>\n",
       "      <th>Credit Score</th>\n",
       "      <th>Annual Income</th>\n",
       "      <th>Years in current job</th>\n",
       "      <th>Home Ownership</th>\n",
       "      <th>Purpose</th>\n",
       "      <th>Monthly Debt</th>\n",
       "      <th>Years of Credit History</th>\n",
       "      <th>Number of Open Accounts</th>\n",
       "      <th>Number of Credit Problems</th>\n",
       "      <th>Current Credit Balance</th>\n",
       "      <th>Maximum Open Credit</th>\n",
       "      <th>Bankruptcies</th>\n",
       "    </tr>\n",
       "  </thead>\n",
       "  <tbody>\n",
       "    <tr>\n",
       "      <td>0</td>\n",
       "      <td>Fully Paid</td>\n",
       "      <td>445412.0</td>\n",
       "      <td>Short Term</td>\n",
       "      <td>709.0</td>\n",
       "      <td>1167493.0</td>\n",
       "      <td>8 years</td>\n",
       "      <td>Home Mortgage</td>\n",
       "      <td>Home Improvements</td>\n",
       "      <td>5214.74</td>\n",
       "      <td>17.2</td>\n",
       "      <td>6.0</td>\n",
       "      <td>1.0</td>\n",
       "      <td>228190.0</td>\n",
       "      <td>416746.0</td>\n",
       "      <td>&gt;=1</td>\n",
       "    </tr>\n",
       "    <tr>\n",
       "      <td>1</td>\n",
       "      <td>Fully Paid</td>\n",
       "      <td>99999999.0</td>\n",
       "      <td>Short Term</td>\n",
       "      <td>741.0</td>\n",
       "      <td>2231892.0</td>\n",
       "      <td>8 years</td>\n",
       "      <td>Own Home</td>\n",
       "      <td>Debt Consolidation</td>\n",
       "      <td>29200.53</td>\n",
       "      <td>14.9</td>\n",
       "      <td>18.0</td>\n",
       "      <td>1.0</td>\n",
       "      <td>297996.0</td>\n",
       "      <td>750090.0</td>\n",
       "      <td>0.0</td>\n",
       "    </tr>\n",
       "    <tr>\n",
       "      <td>2</td>\n",
       "      <td>Fully Paid</td>\n",
       "      <td>347666.0</td>\n",
       "      <td>Long Term</td>\n",
       "      <td>721.0</td>\n",
       "      <td>806949.0</td>\n",
       "      <td>3 years</td>\n",
       "      <td>Own Home</td>\n",
       "      <td>Debt Consolidation</td>\n",
       "      <td>8741.90</td>\n",
       "      <td>12.0</td>\n",
       "      <td>9.0</td>\n",
       "      <td>0.0</td>\n",
       "      <td>256329.0</td>\n",
       "      <td>386958.0</td>\n",
       "      <td>0.0</td>\n",
       "    </tr>\n",
       "    <tr>\n",
       "      <td>3</td>\n",
       "      <td>Charged Off</td>\n",
       "      <td>206602.0</td>\n",
       "      <td>Short Term</td>\n",
       "      <td>7290.0</td>\n",
       "      <td>896857.0</td>\n",
       "      <td>10+ years</td>\n",
       "      <td>Home Mortgage</td>\n",
       "      <td>Debt Consolidation</td>\n",
       "      <td>16367.74</td>\n",
       "      <td>17.3</td>\n",
       "      <td>6.0</td>\n",
       "      <td>0.0</td>\n",
       "      <td>215308.0</td>\n",
       "      <td>272448.0</td>\n",
       "      <td>0.0</td>\n",
       "    </tr>\n",
       "    <tr>\n",
       "      <td>4</td>\n",
       "      <td>Fully Paid</td>\n",
       "      <td>217646.0</td>\n",
       "      <td>Short Term</td>\n",
       "      <td>730.0</td>\n",
       "      <td>1184194.0</td>\n",
       "      <td>&lt; 1 year</td>\n",
       "      <td>Home Mortgage</td>\n",
       "      <td>Debt Consolidation</td>\n",
       "      <td>10855.08</td>\n",
       "      <td>19.6</td>\n",
       "      <td>13.0</td>\n",
       "      <td>1.0</td>\n",
       "      <td>122170.0</td>\n",
       "      <td>272052.0</td>\n",
       "      <td>&gt;=1</td>\n",
       "    </tr>\n",
       "  </tbody>\n",
       "</table>\n",
       "</div>"
      ],
      "text/plain": [
       "   Loan Status  Current Loan Amount        Term  Credit Score  Annual Income  \\\n",
       "0   Fully Paid             445412.0  Short Term         709.0      1167493.0   \n",
       "1   Fully Paid           99999999.0  Short Term         741.0      2231892.0   \n",
       "2   Fully Paid             347666.0   Long Term         721.0       806949.0   \n",
       "3  Charged Off             206602.0  Short Term        7290.0       896857.0   \n",
       "4   Fully Paid             217646.0  Short Term         730.0      1184194.0   \n",
       "\n",
       "  Years in current job Home Ownership             Purpose  Monthly Debt  \\\n",
       "0              8 years  Home Mortgage   Home Improvements       5214.74   \n",
       "1              8 years       Own Home  Debt Consolidation      29200.53   \n",
       "2              3 years       Own Home  Debt Consolidation       8741.90   \n",
       "3            10+ years  Home Mortgage  Debt Consolidation      16367.74   \n",
       "4             < 1 year  Home Mortgage  Debt Consolidation      10855.08   \n",
       "\n",
       "   Years of Credit History  Number of Open Accounts Number of Credit Problems  \\\n",
       "0                     17.2                      6.0                       1.0   \n",
       "1                     14.9                     18.0                       1.0   \n",
       "2                     12.0                      9.0                       0.0   \n",
       "3                     17.3                      6.0                       0.0   \n",
       "4                     19.6                     13.0                       1.0   \n",
       "\n",
       "   Current Credit Balance  Maximum Open Credit Bankruptcies  \n",
       "0                228190.0             416746.0          >=1  \n",
       "1                297996.0             750090.0          0.0  \n",
       "2                256329.0             386958.0          0.0  \n",
       "3                215308.0             272448.0          0.0  \n",
       "4                122170.0             272052.0          >=1  "
      ]
     },
     "execution_count": 14,
     "metadata": {},
     "output_type": "execute_result"
    }
   ],
   "source": [
    "data= pd.read_csv('../3_credit_qmvd_cmvd.csv')\n",
    "data.head()"
   ]
  },
  {
   "cell_type": "markdown",
   "metadata": {},
   "source": [
    "### Imbalanced dataset"
   ]
  },
  {
   "cell_type": "code",
   "execution_count": 15,
   "metadata": {
    "pycharm": {
     "is_executing": false,
     "name": "#%%\n"
    }
   },
   "outputs": [
    {
     "data": {
      "text/plain": [
       "Fully Paid     51276\n",
       "Charged Off    16214\n",
       "Name: Loan Status, dtype: int64"
      ]
     },
     "execution_count": 15,
     "metadata": {},
     "output_type": "execute_result"
    }
   ],
   "source": [
    "data['Loan Status'].value_counts()"
   ]
  },
  {
   "cell_type": "markdown",
   "metadata": {},
   "source": [
    "### spliting data en X et Y"
   ]
  },
  {
   "cell_type": "code",
   "execution_count": 16,
   "metadata": {
    "pycharm": {
     "is_executing": false,
     "name": "#%%\n"
    }
   },
   "outputs": [],
   "source": [
    "X= data.drop('Loan Status', axis=1)\n",
    "Y= data['Loan Status']"
   ]
  },
  {
   "cell_type": "markdown",
   "metadata": {},
   "source": [
    "### One hot encoding"
   ]
  },
  {
   "cell_type": "code",
   "execution_count": 17,
   "metadata": {
    "pycharm": {
     "is_executing": false,
     "name": "#%%\n"
    }
   },
   "outputs": [],
   "source": [
    "X= pd.get_dummies(X, drop_first= True)\n",
    "Y= pd.get_dummies(Y, drop_first= True)\n"
   ]
  },
  {
   "cell_type": "markdown",
   "metadata": {},
   "source": [
    "### spliting the data to train and test"
   ]
  },
  {
   "cell_type": "code",
   "execution_count": 18,
   "metadata": {
    "pycharm": {
     "is_executing": false,
     "name": "#%%\n"
    }
   },
   "outputs": [],
   "source": [
    "X_train , X_test , Y_train , Y_test = train_test_split(X, Y, test_size = 0.20, random_state = 123, stratify=Y)"
   ]
  },
  {
   "cell_type": "code",
   "execution_count": 19,
   "metadata": {
    "pycharm": {
     "is_executing": false,
     "name": "#%%\n"
    }
   },
   "outputs": [
    {
     "data": {
      "text/plain": [
       "1    10255\n",
       "0     3243\n",
       "Name: Fully Paid, dtype: int64"
      ]
     },
     "execution_count": 19,
     "metadata": {},
     "output_type": "execute_result"
    }
   ],
   "source": [
    "Y_test['Fully Paid'].value_counts()\n"
   ]
  },
  {
   "cell_type": "markdown",
   "metadata": {},
   "source": [
    "## Random Forest & XGBoost\n",
    "### Random Forest"
   ]
  },
  {
   "cell_type": "code",
   "execution_count": 20,
   "metadata": {
    "pycharm": {
     "is_executing": false,
     "name": "#%%\n"
    }
   },
   "outputs": [],
   "source": [
    "##training the model\n",
    "rfc= RandomForestClassifier(n_estimators=500, n_jobs=-1,random_state= 123)\n",
    "rfc.fit(X_train, Y_train)\n",
    "y_predict= rfc.predict(X_test)"
   ]
  },
  {
   "cell_type": "code",
   "execution_count": 21,
   "metadata": {
    "pycharm": {
     "is_executing": false,
     "name": "#%%\n"
    }
   },
   "outputs": [
    {
     "name": "stdout",
     "output_type": "stream",
     "text": [
      "[[  920  2323]\n",
      " [   50 10205]]\n",
      "----------\n",
      "              precision    recall  f1-score   support\n",
      "\n",
      "           0       0.95      0.28      0.44      3243\n",
      "           1       0.81      1.00      0.90     10255\n",
      "\n",
      "    accuracy                           0.82     13498\n",
      "   macro avg       0.88      0.64      0.67     13498\n",
      "weighted avg       0.85      0.82      0.79     13498\n",
      "\n",
      "----------\n",
      "accuracy:  0.8241961772114388\n"
     ]
    }
   ],
   "source": [
    "## evaluating the model\n",
    "print(confusion_matrix(Y_test,y_predict))\n",
    "print(\"----------\")\n",
    "print(classification_report(Y_test, y_predict))\n",
    "print(\"----------\")\n",
    "print(\"accuracy: \",rfc.score(X_test, Y_test))"
   ]
  },
  {
   "cell_type": "markdown",
   "metadata": {},
   "source": [
    "### XGBoost"
   ]
  },
  {
   "cell_type": "code",
   "execution_count": 22,
   "metadata": {
    "pycharm": {
     "is_executing": false,
     "name": "#%%\n"
    }
   },
   "outputs": [],
   "source": [
    "## converting Y_train & X_test & Y_train & Y_test to numpy array pour XGBoost\n",
    "X_train_xg = X_train.values\n",
    "X_test_xg = X_test.values\n",
    "Y_train_xg = Y_train.values\n",
    "Y_test_xg = Y_test.values"
   ]
  },
  {
   "cell_type": "code",
   "execution_count": 23,
   "metadata": {
    "pycharm": {
     "is_executing": false,
     "name": "#%%\n"
    }
   },
   "outputs": [],
   "source": [
    "##training the model\n",
    "xgb= XGBClassifier()\n",
    "xgb.fit(X_train_xg, Y_train_xg)\n",
    "y_predict= xgb.predict(X_test_xg)"
   ]
  },
  {
   "cell_type": "code",
   "execution_count": 24,
   "metadata": {
    "pycharm": {
     "is_executing": false,
     "name": "#%%\n"
    }
   },
   "outputs": [
    {
     "name": "stdout",
     "output_type": "stream",
     "text": [
      "[[  878  2365]\n",
      " [    3 10252]]\n",
      "----------\n",
      "              precision    recall  f1-score   support\n",
      "\n",
      "           0       1.00      0.27      0.43      3243\n",
      "           1       0.81      1.00      0.90     10255\n",
      "\n",
      "    accuracy                           0.82     13498\n",
      "   macro avg       0.90      0.64      0.66     13498\n",
      "weighted avg       0.86      0.82      0.78     13498\n",
      "\n",
      "----------\n",
      "accuracy:  0.8245666024596237\n"
     ]
    }
   ],
   "source": [
    "## evaluating the model\n",
    "print(confusion_matrix(Y_test_xg,y_predict))\n",
    "print(\"----------\")\n",
    "print(classification_report(Y_test_xg, y_predict))\n",
    "print(\"----------\")\n",
    "print(\"accuracy: \",xgb.score(X_test_xg, Y_test_xg))"
   ]
  },
  {
   "cell_type": "markdown",
   "metadata": {},
   "source": [
    "## Cross Validation (K-Fold)\n"
   ]
  },
  {
   "cell_type": "code",
   "execution_count": 25,
   "metadata": {
    "pycharm": {
     "is_executing": false,
     "name": "#%%\n"
    }
   },
   "outputs": [],
   "source": [
    "scores1= cross_val_score(estimator=rfc, X=X_train, y=Y_train, cv=10)\n",
    "scores2= cross_val_score(estimator=xgb, X=X_train_xg, y=Y_train_xg, cv=10)"
   ]
  },
  {
   "cell_type": "code",
   "execution_count": 32,
   "metadata": {
    "pycharm": {
     "is_executing": false,
     "name": "#%%\n"
    }
   },
   "outputs": [
    {
     "name": "stdout",
     "output_type": "stream",
     "text": [
      "Decision Tree: \n",
      "---------------\n",
      "scores:  [0.828, 0.819, 0.828, 0.825, 0.819, 0.823, 0.816, 0.824, 0.827, 0.818]\n",
      "Mean score:  0.823\n",
      "standart deviation:  0.004\n",
      "\n",
      "XGBoost: \n",
      "---------------\n",
      "scores:  [0.829, 0.819, 0.829, 0.829, 0.818, 0.822, 0.817, 0.823, 0.826, 0.821]\n",
      "Mean score:  0.823\n",
      "standart deviation:  0.004\n"
     ]
    }
   ],
   "source": [
    "scores1_list= [round(elem, 3) for elem in list(scores1)]\n",
    "scores2_list= [round(elem, 3) for elem in list(scores2)]\n",
    "print(\"Decision Tree: \")\n",
    "print(\"---------------\")\n",
    "print(\"scores: \", scores1_list)\n",
    "print(\"Mean score: \", round(scores1.mean(), 3))\n",
    "print(\"standart deviation: \", round(scores1.std(), 3))\n",
    "print(\"\")\n",
    "print(\"XGBoost: \")\n",
    "print(\"---------------\")\n",
    "print(\"scores: \", scores2_list)\n",
    "print(\"Mean score: \", round(scores2.mean(), 3))\n",
    "print(\"standart deviation: \", round(scores2.std(), 3))\n",
    "\n"
   ]
  }
 ],
 "metadata": {
  "kernelspec": {
   "display_name": "Python 3",
   "language": "python",
   "name": "python3"
  },
  "language_info": {
   "codemirror_mode": {
    "name": "ipython",
    "version": 3
   },
   "file_extension": ".py",
   "mimetype": "text/x-python",
   "name": "python",
   "nbconvert_exporter": "python",
   "pygments_lexer": "ipython3",
   "version": "3.7.4"
  },
  "pycharm": {
   "stem_cell": {
    "cell_type": "raw",
    "metadata": {
     "collapsed": false
    },
    "source": []
   }
  }
 },
 "nbformat": 4,
 "nbformat_minor": 1
}
