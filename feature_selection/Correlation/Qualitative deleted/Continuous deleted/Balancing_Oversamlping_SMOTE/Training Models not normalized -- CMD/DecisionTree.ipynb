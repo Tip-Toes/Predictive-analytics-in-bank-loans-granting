{
 "cells": [
  {
   "cell_type": "code",
   "execution_count": 1,
   "metadata": {
    "pycharm": {
     "is_executing": false
    }
   },
   "outputs": [],
   "source": [
    "from pylab import rcParams\n",
    "rcParams['figure.figsize'] = 10, 5\n",
    "import warnings\n",
    "warnings.filterwarnings('ignore')\n",
    "from sklearn.tree import DecisionTreeClassifier\n",
    "import pandas as pd\n",
    "from sklearn.model_selection import GridSearchCV, train_test_split\n",
    "from sklearn.metrics import confusion_matrix, classification_report, average_precision_score, accuracy_score\n",
    "import csv"
   ]
  },
  {
   "cell_type": "code",
   "execution_count": 99,
   "metadata": {
    "pycharm": {
     "is_executing": false,
     "name": "#%%\n"
    }
   },
   "outputs": [],
   "source": []
  },
  {
   "cell_type": "code",
   "execution_count": 2,
   "metadata": {
    "pycharm": {
     "is_executing": false,
     "name": "#%%\n"
    }
   },
   "outputs": [],
   "source": [
    "def get_algo_path():\n",
    "    import os\n",
    "    cwd = os.getcwd()\n",
    "    s='\\\\'\n",
    "    if '\\\\' not in cwd:\n",
    "        s='/'\n",
    "    cwd= cwd.split(s)[4:-1]\n",
    "    cwd.append('Not Normalized')\n",
    "    cwd='/'.join(cwd)\n",
    "    return cwd\n",
    "\n",
    "def get_csv_path():\n",
    "    import os\n",
    "    cwd = os.getcwd()\n",
    "    s=\"\\\\\"\n",
    "    if \"\\\\\" not in cwd:\n",
    "        s='/'\n",
    "    file= cwd.split(s)[:4]\n",
    "    file.append('models_scores.csv')\n",
    "    file= s.join(file)\n",
    "    return file\n",
    "\n",
    "def line_is_exist(file, row):\n",
    "    logfile = open(file, 'r')\n",
    "    loglist = logfile.readlines()\n",
    "    logfile.close()\n",
    "    for line in loglist:\n",
    "        if ','.join(row) in line:\n",
    "            return True\n",
    "    return False\n",
    "\n",
    "def write_new_score(file, line):\n",
    "    if( not line_is_exist(file, line) ):\n",
    "        with open(file, 'a') as f:\n",
    "            writer = csv.writer(f)\n",
    "            writer.writerow(line)\n",
    "    else:\n",
    "        print('line exsist already')\n",
    "    "
   ]
  },
  {
   "cell_type": "code",
   "execution_count": 3,
   "metadata": {
    "pycharm": {
     "is_executing": false,
     "name": "#%%\n"
    }
   },
   "outputs": [],
   "source": [
    "data= pd.read_csv('../data.csv')"
   ]
  },
  {
   "cell_type": "code",
   "execution_count": 4,
   "metadata": {
    "pycharm": {
     "is_executing": false,
     "name": "#%%\n"
    }
   },
   "outputs": [],
   "source": [
    "##copying data\n",
    "data1=data.copy()\n",
    "### spliting data en X et Y\n",
    "X= data1.drop('Loan Status', axis=1)\n",
    "Y= data1['Loan Status']\n",
    "### spliting the data to train and test\n",
    "X_train , X_test , Y_train , Y_test = train_test_split(X, Y, test_size = 0.30, random_state = 123)\n",
    "## dicision tree (CART)\n",
    "dct = DecisionTreeClassifier()\n",
    "params={'criterion' : ['gini', 'entropy'],\n",
    "        'max_depth': [4, 5, 6, 7, 8, 9, 10, 11, 12, 13,14, 15, 16, 17, None]}\n",
    "\n",
    "##accuracy\n",
    "grid_search_acc= GridSearchCV(estimator=dct, param_grid= params, scoring='accuracy',cv=2, n_jobs=-1)\n",
    "grid_search_acc= grid_search_acc.fit(X_train, Y_train)\n",
    "y_predict= grid_search_acc.best_estimator_.predict(X_test)\n"
   ]
  },
  {
   "cell_type": "code",
   "execution_count": 5,
   "metadata": {
    "pycharm": {
     "is_executing": false,
     "name": "#%%\n"
    }
   },
   "outputs": [],
   "source": [
    "## get avg precision & avg recall\n",
    "report= classification_report(Y_test, y_predict, output_dict=True)\n",
    "avg_list = report.pop(\"weighted avg\")\n",
    "avg_precision= round(avg_list['precision'], 3)\n",
    "avg_recall= round(avg_list['recall'], 3)\n",
    "accuraccy= round(accuracy_score(Y_test,y_predict), 3)\n",
    "## csv row\n",
    "csv_row = [get_algo_path(), 'Decision Tree', str(grid_search_acc.best_params_), str(accuraccy), str(avg_precision), str(avg_recall)]\n",
    "## write file\n",
    "csv_file= get_csv_path()\n",
    "write_new_score(csv_file, csv_row)"
   ]
  },
  {
   "cell_type": "code",
   "execution_count": 6,
   "metadata": {
    "pycharm": {
     "is_executing": false,
     "name": "#%%\n"
    }
   },
   "outputs": [
    {
     "name": "stdout",
     "output_type": "stream",
     "text": [
      "----------\n",
      "best parameters:  {'criterion': 'entropy', 'max_depth': 11}\n",
      "----------\n",
      "[[10743  4616]\n",
      " [  252 15155]]\n",
      "----------\n",
      "              precision    recall  f1-score   support\n",
      "\n",
      "           0       0.98      0.70      0.82     15359\n",
      "           1       0.77      0.98      0.86     15407\n",
      "\n",
      "    accuracy                           0.84     30766\n",
      "   macro avg       0.87      0.84      0.84     30766\n",
      "weighted avg       0.87      0.84      0.84     30766\n",
      "\n",
      "----------\n"
     ]
    }
   ],
   "source": [
    "## evaluating the model\n",
    "print(\"----------\")\n",
    "print('best parameters: ', grid_search_acc.best_params_)\n",
    "print(\"----------\")\n",
    "print(confusion_matrix(Y_test,y_predict))\n",
    "print(\"----------\")\n",
    "print(classification_report(Y_test, y_predict))\n",
    "print(\"----------\")\n"
   ]
  },
  {
   "cell_type": "code",
   "execution_count": 7,
   "metadata": {
    "collapsed": false,
    "pycharm": {
     "is_executing": false,
     "name": "#%%\n"
    }
   },
   "outputs": [
    {
     "data": {
      "text/plain": [
       "{'mean_fit_time': array([0.30717945, 0.37300301, 0.42436683, 0.46276188, 0.49816763,\n",
       "        0.50714326, 0.5445416 , 0.55401564, 0.6412847 , 0.62433064,\n",
       "        0.64876604, 0.64377773, 0.68815851, 0.75747657, 0.86069787,\n",
       "        0.37948406, 0.56349349, 0.69912994, 0.71857667, 0.70910048,\n",
       "        0.73453474, 0.74500918, 0.8452394 , 0.90059114, 1.01877451,\n",
       "        1.02974629, 1.03024495, 1.00481129, 0.90906847, 0.92159414]),\n",
       " 'std_fit_time': array([0.00598335, 0.00299263, 0.01944792, 0.01296496, 0.00249445,\n",
       "        0.00249314, 0.02393508, 0.00149727, 0.01795244, 0.02792418,\n",
       "        0.00149679, 0.00847542, 0.0089767 , 0.08826566, 0.04787242,\n",
       "        0.00149477, 0.04388285, 0.04687536, 0.03440809, 0.02493668,\n",
       "        0.02642918, 0.0398941 , 0.04438162, 0.00698185, 0.05235958,\n",
       "        0.00747991, 0.01196778, 0.00548673, 0.01246583, 0.01495624]),\n",
       " 'mean_score_time': array([0.01695561, 0.01994801, 0.01795101, 0.01645529, 0.01745272,\n",
       "        0.0169543 , 0.01994729, 0.02144265, 0.01944768, 0.0194478 ,\n",
       "        0.01894808, 0.01994562, 0.01944911, 0.02144086, 0.02642882,\n",
       "        0.01695585, 0.02842546, 0.01695597, 0.01695466, 0.01645565,\n",
       "        0.01745284, 0.01944757, 0.02044487, 0.01845133, 0.03540564,\n",
       "        0.01994836, 0.01845026, 0.0179522 , 0.01446199, 0.0129447 ]),\n",
       " 'std_score_time': array([9.99212265e-04, 2.99191475e-03, 9.98258591e-04, 4.99129295e-04,\n",
       "        4.98056412e-04, 3.57627869e-07, 9.96828079e-04, 1.49655342e-03,\n",
       "        4.97698784e-04, 4.98771667e-04, 1.19209290e-06, 4.76837158e-07,\n",
       "        4.99606133e-04, 4.96268272e-04, 3.49056721e-03, 9.97304916e-04,\n",
       "        8.47744942e-03, 8.34465027e-07, 9.97543335e-04, 4.98771667e-04,\n",
       "        4.98652458e-04, 1.49536133e-03, 2.49314308e-03, 4.99606133e-04,\n",
       "        5.48529625e-03, 9.99331474e-04, 4.98771667e-04, 7.15255737e-07,\n",
       "        1.49655342e-03, 9.79423523e-04]),\n",
       " 'param_criterion': masked_array(data=['gini', 'gini', 'gini', 'gini', 'gini', 'gini', 'gini',\n",
       "                    'gini', 'gini', 'gini', 'gini', 'gini', 'gini', 'gini',\n",
       "                    'gini', 'entropy', 'entropy', 'entropy', 'entropy',\n",
       "                    'entropy', 'entropy', 'entropy', 'entropy', 'entropy',\n",
       "                    'entropy', 'entropy', 'entropy', 'entropy', 'entropy',\n",
       "                    'entropy'],\n",
       "              mask=[False, False, False, False, False, False, False, False,\n",
       "                    False, False, False, False, False, False, False, False,\n",
       "                    False, False, False, False, False, False, False, False,\n",
       "                    False, False, False, False, False, False],\n",
       "        fill_value='?',\n",
       "             dtype=object),\n",
       " 'param_max_depth': masked_array(data=[4, 5, 6, 7, 8, 9, 10, 11, 12, 13, 14, 15, 16, 17, None,\n",
       "                    4, 5, 6, 7, 8, 9, 10, 11, 12, 13, 14, 15, 16, 17, None],\n",
       "              mask=[False, False, False, False, False, False, False, False,\n",
       "                    False, False, False, False, False, False, False, False,\n",
       "                    False, False, False, False, False, False, False, False,\n",
       "                    False, False, False, False, False, False],\n",
       "        fill_value='?',\n",
       "             dtype=object),\n",
       " 'params': [{'criterion': 'gini', 'max_depth': 4},\n",
       "  {'criterion': 'gini', 'max_depth': 5},\n",
       "  {'criterion': 'gini', 'max_depth': 6},\n",
       "  {'criterion': 'gini', 'max_depth': 7},\n",
       "  {'criterion': 'gini', 'max_depth': 8},\n",
       "  {'criterion': 'gini', 'max_depth': 9},\n",
       "  {'criterion': 'gini', 'max_depth': 10},\n",
       "  {'criterion': 'gini', 'max_depth': 11},\n",
       "  {'criterion': 'gini', 'max_depth': 12},\n",
       "  {'criterion': 'gini', 'max_depth': 13},\n",
       "  {'criterion': 'gini', 'max_depth': 14},\n",
       "  {'criterion': 'gini', 'max_depth': 15},\n",
       "  {'criterion': 'gini', 'max_depth': 16},\n",
       "  {'criterion': 'gini', 'max_depth': 17},\n",
       "  {'criterion': 'gini', 'max_depth': None},\n",
       "  {'criterion': 'entropy', 'max_depth': 4},\n",
       "  {'criterion': 'entropy', 'max_depth': 5},\n",
       "  {'criterion': 'entropy', 'max_depth': 6},\n",
       "  {'criterion': 'entropy', 'max_depth': 7},\n",
       "  {'criterion': 'entropy', 'max_depth': 8},\n",
       "  {'criterion': 'entropy', 'max_depth': 9},\n",
       "  {'criterion': 'entropy', 'max_depth': 10},\n",
       "  {'criterion': 'entropy', 'max_depth': 11},\n",
       "  {'criterion': 'entropy', 'max_depth': 12},\n",
       "  {'criterion': 'entropy', 'max_depth': 13},\n",
       "  {'criterion': 'entropy', 'max_depth': 14},\n",
       "  {'criterion': 'entropy', 'max_depth': 15},\n",
       "  {'criterion': 'entropy', 'max_depth': 16},\n",
       "  {'criterion': 'entropy', 'max_depth': 17},\n",
       "  {'criterion': 'entropy', 'max_depth': None}],\n",
       " 'split0_test_score': array([0.76628406, 0.81208559, 0.81999777, 0.82793782, 0.83261826,\n",
       "        0.838831  , 0.83543211, 0.8359893 , 0.8385524 , 0.83501421,\n",
       "        0.8332869 , 0.82621051, 0.82506826, 0.82381457, 0.80266897,\n",
       "        0.76631192, 0.81205773, 0.82002563, 0.82849501, 0.83348192,\n",
       "        0.8369644 , 0.83830167, 0.83922104, 0.84122695, 0.83888672,\n",
       "        0.83434557, 0.83392768, 0.82986014, 0.82813284, 0.80773946]),\n",
       " 'split1_test_score': array([0.76351276, 0.81045916, 0.81984843, 0.82890338, 0.83038003,\n",
       "        0.83244177, 0.83637022, 0.83692745, 0.83656525, 0.83617519,\n",
       "        0.83157807, 0.82959991, 0.82673019, 0.82511423, 0.81026413,\n",
       "        0.76356848, 0.77195475, 0.81667224, 0.82530926, 0.82617296,\n",
       "        0.83079795, 0.83205171, 0.83611947, 0.83327761, 0.83561797,\n",
       "        0.8326368 , 0.83096512, 0.83255322, 0.82998997, 0.80728296]),\n",
       " 'mean_test_score': array([0.76489845, 0.81127239, 0.8199231 , 0.82842058, 0.83149918,\n",
       "        0.83563648, 0.83590115, 0.83645836, 0.83755886, 0.83559468,\n",
       "        0.83243251, 0.82790516, 0.8258992 , 0.82446438, 0.80646644,\n",
       "        0.76494024, 0.7920068 , 0.81834898, 0.82690218, 0.82982754,\n",
       "        0.83388126, 0.83517678, 0.8376703 , 0.83725239, 0.83725239,\n",
       "        0.83349121, 0.83244644, 0.83120664, 0.82906138, 0.80751121]),\n",
       " 'std_test_score': array([1.38564906e-03, 8.13215045e-04, 7.46685119e-05, 4.82779946e-04,\n",
       "        1.11911796e-03, 3.19461632e-03, 4.69058066e-04, 4.69073590e-04,\n",
       "        9.93576496e-04, 5.80491870e-04, 8.54416390e-04, 1.69470106e-03,\n",
       "        8.30967019e-04, 6.49833237e-04, 3.79757798e-03, 1.37171760e-03,\n",
       "        2.00514862e-02, 1.67669604e-03, 1.59287599e-03, 3.65447782e-03,\n",
       "        3.08322288e-03, 3.12497766e-03, 1.55078510e-03, 3.97466770e-03,\n",
       "        1.63437850e-03, 8.54386894e-04, 1.48127918e-03, 1.34653572e-03,\n",
       "        9.28567169e-04, 2.28247535e-04]),\n",
       " 'rank_test_score': array([30, 25, 23, 18, 14,  7,  6,  5,  2,  8, 13, 19, 21, 22, 27, 29, 28,\n",
       "        24, 20, 16, 10,  9,  1,  3,  3, 11, 12, 15, 17, 26])}"
      ]
     },
     "execution_count": 7,
     "metadata": {},
     "output_type": "execute_result"
    }
   ],
   "source": [
    "grid_search_acc.cv_results_\n",
    "\n"
   ]
  }
 ],
 "metadata": {
  "kernelspec": {
   "display_name": "Python 3",
   "language": "python",
   "name": "python3"
  },
  "language_info": {
   "codemirror_mode": {
    "name": "ipython",
    "version": 3
   },
   "file_extension": ".py",
   "mimetype": "text/x-python",
   "name": "python",
   "nbconvert_exporter": "python",
   "pygments_lexer": "ipython3",
   "version": "3.7.4"
  },
  "pycharm": {
   "stem_cell": {
    "cell_type": "raw",
    "metadata": {
     "collapsed": false
    },
    "source": []
   }
  }
 },
 "nbformat": 4,
 "nbformat_minor": 1
}
