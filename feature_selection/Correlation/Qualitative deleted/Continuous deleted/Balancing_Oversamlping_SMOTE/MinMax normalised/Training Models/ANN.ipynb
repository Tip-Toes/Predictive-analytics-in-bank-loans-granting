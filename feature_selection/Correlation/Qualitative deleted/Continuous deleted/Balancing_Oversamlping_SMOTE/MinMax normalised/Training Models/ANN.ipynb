{
 "cells": [
  {
   "cell_type": "code",
   "execution_count": 14,
   "metadata": {
    "pycharm": {
     "is_executing": false
    }
   },
   "outputs": [],
   "source": [
    "import warnings\n",
    "from plot_metric.functions import BinaryClassification\n",
    "from pylab import rcParams\n",
    "from tensorflow_core.python.keras.wrappers.scikit_learn import KerasClassifier\n",
    "rcParams['figure.figsize'] = 10, 5\n",
    "from sklearn.model_selection import GridSearchCV, train_test_split\n",
    "warnings.filterwarnings('ignore')\n",
    "import pandas as pd\n",
    "from sklearn.metrics import make_scorer, recall_score,precision_score, confusion_matrix,classification_report,accuracy_score\n",
    "import matplotlib.pyplot as plt\n",
    "import numpy as np\n",
    "\n",
    "\n",
    "import tensorflow as tf\n",
    "from sklearn.model_selection import train_test_split\n",
    "from tensorflow.keras.models import Sequential\n",
    "from tensorflow.keras.layers import Dense, Activation,Dropout"
   ]
  },
  {
   "cell_type": "code",
   "execution_count": null,
   "metadata": {
    "pycharm": {
     "is_executing": false,
     "name": "#%%\n"
    }
   },
   "outputs": [],
   "source": []
  },
  {
   "cell_type": "code",
   "execution_count": 15,
   "metadata": {
    "pycharm": {
     "is_executing": false,
     "name": "#%%\n"
    }
   },
   "outputs": [],
   "source": [
    "data= pd.read_csv('../min_max_norm.csv')"
   ]
  },
  {
   "cell_type": "markdown",
   "metadata": {},
   "source": [
    "### split data en X et Y"
   ]
  },
  {
   "cell_type": "code",
   "execution_count": 16,
   "metadata": {
    "pycharm": {
     "is_executing": false,
     "name": "#%%\n"
    }
   },
   "outputs": [],
   "source": [
    "data1= data.copy()\n",
    "X= data1.drop('Loan Status', axis=1)\n",
    "Y= data1['Loan Status']"
   ]
  },
  {
   "cell_type": "code",
   "execution_count": 17,
   "metadata": {
    "pycharm": {
     "is_executing": false,
     "name": "#%%\n"
    }
   },
   "outputs": [],
   "source": [
    "X_train , X_test , Y_train , Y_test = train_test_split(X, Y, test_size = 0.30, random_state = 123)"
   ]
  },
  {
   "cell_type": "markdown",
   "metadata": {},
   "source": [
    "### Neural Network"
   ]
  },
  {
   "cell_type": "code",
   "execution_count": 18,
   "metadata": {
    "pycharm": {
     "is_executing": false,
     "name": "#%%\n"
    }
   },
   "outputs": [],
   "source": [
    "## ANN Model\n",
    "def create_model(optimizer):\n",
    "    model = Sequential()\n",
    "\t#Layer 1\n",
    "    model.add(Dense(20, activation='relu', input_dim=20))\n",
    "    model.add(Dropout(0.3))\n",
    "    #Layer 2\n",
    "    model.add(Dense(10, activation='relu'))\n",
    "    model.add(Dropout(0.3))\n",
    "    \n",
    "    # output layer\n",
    "    model.add(Dense(units=1,activation='sigmoid'))\n",
    "    model.compile(loss='binary_crossentropy', optimizer=optimizer, metrics=['accuracy'])\n",
    "    return model"
   ]
  },
  {
   "cell_type": "code",
   "execution_count": 19,
   "metadata": {
    "pycharm": {
     "is_executing": false,
     "name": "#%%\n"
    }
   },
   "outputs": [
    {
     "name": "stdout",
     "output_type": "stream",
     "text": [
      "Train on 71786 samples, validate on 30766 samples\n",
      "Epoch 1/400\n",
      "71786/71786 [==============================] - 3s 42us/sample - loss: 0.5683 - accuracy: 0.6675 - val_loss: 0.4317 - val_accuracy: 0.7994\n",
      "Epoch 2/400\n",
      "71786/71786 [==============================] - 2s 26us/sample - loss: 0.4284 - accuracy: 0.7905 - val_loss: 0.3716 - val_accuracy: 0.8292\n",
      "Epoch 3/400\n",
      "71786/71786 [==============================] - 2s 21us/sample - loss: 0.3919 - accuracy: 0.8234 - val_loss: 0.3607 - val_accuracy: 0.8319\n",
      "Epoch 4/400\n",
      "71786/71786 [==============================] - 2s 22us/sample - loss: 0.3768 - accuracy: 0.8291 - val_loss: 0.3584 - val_accuracy: 0.8324\n",
      "Epoch 5/400\n",
      "71786/71786 [==============================] - 2s 25us/sample - loss: 0.3742 - accuracy: 0.8325 - val_loss: 0.3563 - val_accuracy: 0.8334\n",
      "Epoch 6/400\n",
      "71786/71786 [==============================] - 2s 28us/sample - loss: 0.3708 - accuracy: 0.8333 - val_loss: 0.3553 - val_accuracy: 0.8337\n",
      "Epoch 7/400\n",
      "71786/71786 [==============================] - 2s 26us/sample - loss: 0.3680 - accuracy: 0.8344 - val_loss: 0.3549 - val_accuracy: 0.8347\n",
      "Epoch 8/400\n",
      "71786/71786 [==============================] - 2s 27us/sample - loss: 0.3672 - accuracy: 0.8340 - val_loss: 0.3547 - val_accuracy: 0.8337\n",
      "Epoch 9/400\n",
      "71786/71786 [==============================] - 2s 24us/sample - loss: 0.3701 - accuracy: 0.8342 - val_loss: 0.3543 - val_accuracy: 0.8352\n",
      "Epoch 10/400\n",
      "71786/71786 [==============================] - 2s 23us/sample - loss: 0.3639 - accuracy: 0.8347 - val_loss: 0.3537 - val_accuracy: 0.8349\n",
      "Epoch 11/400\n",
      "71786/71786 [==============================] - 2s 28us/sample - loss: 0.3631 - accuracy: 0.8344 - val_loss: 0.3541 - val_accuracy: 0.8345\n",
      "Epoch 12/400\n",
      "71786/71786 [==============================] - 2s 23us/sample - loss: 0.3632 - accuracy: 0.8346 - val_loss: 0.3534 - val_accuracy: 0.8351\n",
      "Epoch 13/400\n",
      "71786/71786 [==============================] - 2s 24us/sample - loss: 0.3619 - accuracy: 0.8342 - val_loss: 0.3535 - val_accuracy: 0.8334\n",
      "Epoch 14/400\n",
      "71786/71786 [==============================] - 1s 21us/sample - loss: 0.3630 - accuracy: 0.8344 - val_loss: 0.3537 - val_accuracy: 0.8344\n",
      "Epoch 15/400\n",
      "71786/71786 [==============================] - 2s 23us/sample - loss: 0.3632 - accuracy: 0.8345 - val_loss: 0.3536 - val_accuracy: 0.8341\n",
      "Epoch 16/400\n",
      "71786/71786 [==============================] - 2s 22us/sample - loss: 0.3612 - accuracy: 0.8364 - val_loss: 0.3533 - val_accuracy: 0.8354\n",
      "Epoch 17/400\n",
      "71786/71786 [==============================] - 2s 24us/sample - loss: 0.3620 - accuracy: 0.8354 - val_loss: 0.3529 - val_accuracy: 0.8353\n",
      "Epoch 18/400\n",
      "71786/71786 [==============================] - 2s 34us/sample - loss: 0.3626 - accuracy: 0.8355 - val_loss: 0.3532 - val_accuracy: 0.8356\n",
      "Epoch 19/400\n",
      "71786/71786 [==============================] - 2s 27us/sample - loss: 0.3627 - accuracy: 0.8356 - val_loss: 0.3538 - val_accuracy: 0.8338\n",
      "Epoch 20/400\n",
      "71786/71786 [==============================] - 2s 27us/sample - loss: 0.3616 - accuracy: 0.8351 - val_loss: 0.3535 - val_accuracy: 0.8341\n",
      "Epoch 21/400\n",
      "71786/71786 [==============================] - 2s 24us/sample - loss: 0.3616 - accuracy: 0.8356 - val_loss: 0.3531 - val_accuracy: 0.8337\n",
      "Epoch 22/400\n",
      "71786/71786 [==============================] - 1s 21us/sample - loss: 0.3619 - accuracy: 0.8346 - val_loss: 0.3529 - val_accuracy: 0.8339\n",
      "Epoch 23/400\n",
      "71786/71786 [==============================] - 2s 23us/sample - loss: 0.3603 - accuracy: 0.8362 - val_loss: 0.3530 - val_accuracy: 0.8350\n",
      "Epoch 24/400\n",
      "71786/71786 [==============================] - 2s 25us/sample - loss: 0.3615 - accuracy: 0.8348 - val_loss: 0.3529 - val_accuracy: 0.8349\n",
      "Epoch 25/400\n",
      "71786/71786 [==============================] - 2s 29us/sample - loss: 0.3597 - accuracy: 0.8357 - val_loss: 0.3533 - val_accuracy: 0.8337\n",
      "Epoch 26/400\n",
      "71786/71786 [==============================] - 2s 24us/sample - loss: 0.3603 - accuracy: 0.8343 - val_loss: 0.3527 - val_accuracy: 0.8352\n",
      "Epoch 27/400\n",
      "71786/71786 [==============================] - 2s 22us/sample - loss: 0.3630 - accuracy: 0.8346 - val_loss: 0.3525 - val_accuracy: 0.8350\n",
      "Epoch 28/400\n",
      "71786/71786 [==============================] - 2s 24us/sample - loss: 0.3610 - accuracy: 0.8350 - val_loss: 0.3526 - val_accuracy: 0.8341\n",
      "Epoch 29/400\n",
      "71786/71786 [==============================] - 2s 23us/sample - loss: 0.3601 - accuracy: 0.8353 - val_loss: 0.3519 - val_accuracy: 0.8356\n",
      "Epoch 30/400\n",
      "71786/71786 [==============================] - 2s 22us/sample - loss: 0.3600 - accuracy: 0.8358 - val_loss: 0.3529 - val_accuracy: 0.8345\n",
      "Epoch 31/400\n",
      "71786/71786 [==============================] - 2s 27us/sample - loss: 0.3608 - accuracy: 0.8352 - val_loss: 0.3523 - val_accuracy: 0.8354\n",
      "Epoch 32/400\n",
      "71786/71786 [==============================] - 2s 27us/sample - loss: 0.3601 - accuracy: 0.8346 - val_loss: 0.3521 - val_accuracy: 0.8355\n",
      "Epoch 33/400\n",
      "71786/71786 [==============================] - 2s 23us/sample - loss: 0.3596 - accuracy: 0.8354 - val_loss: 0.3528 - val_accuracy: 0.8341\n",
      "Epoch 34/400\n",
      "71786/71786 [==============================] - 2s 22us/sample - loss: 0.3591 - accuracy: 0.8359 - val_loss: 0.3528 - val_accuracy: 0.8349\n",
      "Epoch 35/400\n",
      "71786/71786 [==============================] - 2s 22us/sample - loss: 0.3608 - accuracy: 0.8356 - val_loss: 0.3527 - val_accuracy: 0.8342\n",
      "Epoch 36/400\n",
      "71786/71786 [==============================] - 2s 21us/sample - loss: 0.3593 - accuracy: 0.8359 - val_loss: 0.3522 - val_accuracy: 0.8346\n",
      "Epoch 37/400\n",
      "71786/71786 [==============================] - 2s 26us/sample - loss: 0.3601 - accuracy: 0.8365 - val_loss: 0.3526 - val_accuracy: 0.8339\n",
      "Epoch 38/400\n",
      "71786/71786 [==============================] - 2s 23us/sample - loss: 0.3598 - accuracy: 0.8349 - val_loss: 0.3525 - val_accuracy: 0.8354\n",
      "Epoch 39/400\n",
      "71786/71786 [==============================] - 2s 22us/sample - loss: 0.3585 - accuracy: 0.8352 - val_loss: 0.3526 - val_accuracy: 0.8347\n",
      "Epoch 40/400\n",
      "71786/71786 [==============================] - 2s 24us/sample - loss: 0.3620 - accuracy: 0.8348 - val_loss: 0.3523 - val_accuracy: 0.8348\n",
      "Epoch 41/400\n",
      "71786/71786 [==============================] - 2s 22us/sample - loss: 0.3596 - accuracy: 0.8357 - val_loss: 0.3520 - val_accuracy: 0.8359\n",
      "Epoch 42/400\n",
      "71786/71786 [==============================] - 2s 23us/sample - loss: 0.3585 - accuracy: 0.8359 - val_loss: 0.3521 - val_accuracy: 0.8357\n",
      "Epoch 43/400\n",
      "71786/71786 [==============================] - 1s 20us/sample - loss: 0.3577 - accuracy: 0.8363 - val_loss: 0.3521 - val_accuracy: 0.8349\n",
      "Epoch 44/400\n",
      "71786/71786 [==============================] - 2s 27us/sample - loss: 0.3586 - accuracy: 0.8356 - val_loss: 0.3523 - val_accuracy: 0.8349\n",
      "Epoch 45/400\n",
      "71786/71786 [==============================] - 2s 23us/sample - loss: 0.3584 - accuracy: 0.8361 - val_loss: 0.3523 - val_accuracy: 0.8344\n",
      "Epoch 46/400\n",
      "71786/71786 [==============================] - 2s 24us/sample - loss: 0.3580 - accuracy: 0.8360 - val_loss: 0.3528 - val_accuracy: 0.8348\n",
      "Epoch 47/400\n",
      "71786/71786 [==============================] - 2s 27us/sample - loss: 0.3591 - accuracy: 0.8349 - val_loss: 0.3525 - val_accuracy: 0.8350\n",
      "Epoch 48/400\n",
      "71786/71786 [==============================] - 2s 26us/sample - loss: 0.3583 - accuracy: 0.8364 - val_loss: 0.3520 - val_accuracy: 0.8350\n",
      "Epoch 49/400\n",
      "71786/71786 [==============================] - 2s 25us/sample - loss: 0.3587 - accuracy: 0.8359 - val_loss: 0.3521 - val_accuracy: 0.8345\n",
      "Epoch 50/400\n",
      "71786/71786 [==============================] - 2s 27us/sample - loss: 0.3582 - accuracy: 0.8349 - val_loss: 0.3519 - val_accuracy: 0.8357\n",
      "Epoch 51/400\n",
      "71786/71786 [==============================] - 2s 24us/sample - loss: 0.3584 - accuracy: 0.8362 - val_loss: 0.3523 - val_accuracy: 0.8344\n",
      "Epoch 52/400\n",
      "71786/71786 [==============================] - 2s 24us/sample - loss: 0.3581 - accuracy: 0.8361 - val_loss: 0.3523 - val_accuracy: 0.8345\n",
      "Epoch 53/400\n",
      "71786/71786 [==============================] - 2s 26us/sample - loss: 0.3577 - accuracy: 0.8355 - val_loss: 0.3523 - val_accuracy: 0.8341\n",
      "Epoch 54/400\n",
      "71786/71786 [==============================] - 2s 27us/sample - loss: 0.3596 - accuracy: 0.8350 - val_loss: 0.3524 - val_accuracy: 0.8347\n"
     ]
    },
    {
     "name": "stdout",
     "output_type": "stream",
     "text": [
      "Epoch 55/400\n",
      "71786/71786 [==============================] - 2s 27us/sample - loss: 0.3590 - accuracy: 0.8349 - val_loss: 0.3523 - val_accuracy: 0.8351\n",
      "Epoch 56/400\n",
      "71786/71786 [==============================] - 2s 35us/sample - loss: 0.3569 - accuracy: 0.8358 - val_loss: 0.3520 - val_accuracy: 0.8360\n",
      "Epoch 57/400\n",
      "71786/71786 [==============================] - 2s 30us/sample - loss: 0.3579 - accuracy: 0.8355 - val_loss: 0.3521 - val_accuracy: 0.8351\n",
      "Epoch 58/400\n",
      "71786/71786 [==============================] - 2s 33us/sample - loss: 0.3580 - accuracy: 0.8354 - val_loss: 0.3519 - val_accuracy: 0.8353\n",
      "Epoch 59/400\n",
      "71786/71786 [==============================] - 2s 27us/sample - loss: 0.3571 - accuracy: 0.8353 - val_loss: 0.3517 - val_accuracy: 0.8347\n",
      "Epoch 60/400\n",
      "71786/71786 [==============================] - 2s 23us/sample - loss: 0.3582 - accuracy: 0.8360 - val_loss: 0.3523 - val_accuracy: 0.8350\n",
      "Epoch 61/400\n",
      "71786/71786 [==============================] - 2s 25us/sample - loss: 0.3581 - accuracy: 0.8355 - val_loss: 0.3518 - val_accuracy: 0.8354\n",
      "Epoch 62/400\n",
      "71786/71786 [==============================] - 2s 23us/sample - loss: 0.3576 - accuracy: 0.8361 - val_loss: 0.3518 - val_accuracy: 0.8360\n",
      "Epoch 63/400\n",
      "71786/71786 [==============================] - 2s 24us/sample - loss: 0.3573 - accuracy: 0.8359 - val_loss: 0.3521 - val_accuracy: 0.8351\n",
      "Epoch 64/400\n",
      "71786/71786 [==============================] - 2s 23us/sample - loss: 0.3590 - accuracy: 0.8357 - val_loss: 0.3514 - val_accuracy: 0.8354\n",
      "Epoch 65/400\n",
      "71786/71786 [==============================] - 2s 28us/sample - loss: 0.3581 - accuracy: 0.8354 - val_loss: 0.3524 - val_accuracy: 0.8353\n",
      "Epoch 66/400\n",
      "71786/71786 [==============================] - 2s 28us/sample - loss: 0.3587 - accuracy: 0.8352 - val_loss: 0.3521 - val_accuracy: 0.8358\n",
      "Epoch 67/400\n",
      "71786/71786 [==============================] - 2s 28us/sample - loss: 0.3568 - accuracy: 0.8360 - val_loss: 0.3532 - val_accuracy: 0.8341\n",
      "Epoch 68/400\n",
      "71786/71786 [==============================] - 2s 22us/sample - loss: 0.3573 - accuracy: 0.8367 - val_loss: 0.3519 - val_accuracy: 0.8347\n",
      "Epoch 69/400\n",
      "71786/71786 [==============================] - 2s 26us/sample - loss: 0.3580 - accuracy: 0.8353 - val_loss: 0.3520 - val_accuracy: 0.8347\n",
      "Epoch 70/400\n",
      "71786/71786 [==============================] - 2s 22us/sample - loss: 0.3577 - accuracy: 0.8363 - val_loss: 0.3518 - val_accuracy: 0.8354\n",
      "Epoch 71/400\n",
      "71786/71786 [==============================] - 2s 22us/sample - loss: 0.3577 - accuracy: 0.8364 - val_loss: 0.3518 - val_accuracy: 0.8361\n",
      "Epoch 72/400\n",
      "71786/71786 [==============================] - 2s 21us/sample - loss: 0.3589 - accuracy: 0.8361 - val_loss: 0.3519 - val_accuracy: 0.8348\n",
      "Epoch 73/400\n",
      "71786/71786 [==============================] - 2s 22us/sample - loss: 0.3594 - accuracy: 0.8351 - val_loss: 0.3524 - val_accuracy: 0.8351\n",
      "Epoch 74/400\n",
      "71786/71786 [==============================] - 2s 22us/sample - loss: 0.3582 - accuracy: 0.8367 - val_loss: 0.3516 - val_accuracy: 0.8354\n",
      "Epoch 75/400\n",
      "71786/71786 [==============================] - 2s 34us/sample - loss: 0.3576 - accuracy: 0.8372 - val_loss: 0.3519 - val_accuracy: 0.8353\n",
      "Epoch 76/400\n",
      "71786/71786 [==============================] - 2s 23us/sample - loss: 0.3590 - accuracy: 0.8357 - val_loss: 0.3519 - val_accuracy: 0.8352\n",
      "Epoch 77/400\n",
      "71786/71786 [==============================] - 2s 26us/sample - loss: 0.3575 - accuracy: 0.8362 - val_loss: 0.3518 - val_accuracy: 0.8358\n",
      "Epoch 78/400\n",
      "71786/71786 [==============================] - 2s 30us/sample - loss: 0.3590 - accuracy: 0.8363 - val_loss: 0.3521 - val_accuracy: 0.8342\n",
      "Epoch 79/400\n",
      "71786/71786 [==============================] - 2s 29us/sample - loss: 0.3579 - accuracy: 0.8364 - val_loss: 0.3521 - val_accuracy: 0.8342\n",
      "Epoch 80/400\n",
      "71786/71786 [==============================] - 2s 29us/sample - loss: 0.3574 - accuracy: 0.8358 - val_loss: 0.3521 - val_accuracy: 0.8349\n",
      "Epoch 81/400\n",
      "71786/71786 [==============================] - 2s 22us/sample - loss: 0.3583 - accuracy: 0.8362 - val_loss: 0.3527 - val_accuracy: 0.8348\n",
      "Epoch 82/400\n",
      "71786/71786 [==============================] - 2s 27us/sample - loss: 0.3582 - accuracy: 0.8355 - val_loss: 0.3521 - val_accuracy: 0.8348\n",
      "Epoch 83/400\n",
      "71786/71786 [==============================] - 2s 24us/sample - loss: 0.3583 - accuracy: 0.8361 - val_loss: 0.3516 - val_accuracy: 0.8361\n",
      "Epoch 84/400\n",
      "71786/71786 [==============================] - 2s 23us/sample - loss: 0.3581 - accuracy: 0.8354 - val_loss: 0.3519 - val_accuracy: 0.8358\n",
      "Epoch 85/400\n",
      "71786/71786 [==============================] - 2s 25us/sample - loss: 0.3577 - accuracy: 0.8351 - val_loss: 0.3519 - val_accuracy: 0.8356\n",
      "Epoch 86/400\n",
      "71786/71786 [==============================] - 2s 22us/sample - loss: 0.3588 - accuracy: 0.8353 - val_loss: 0.3530 - val_accuracy: 0.8339\n",
      "Epoch 87/400\n",
      "71786/71786 [==============================] - 2s 24us/sample - loss: 0.3583 - accuracy: 0.8359 - val_loss: 0.3524 - val_accuracy: 0.8345\n",
      "Epoch 88/400\n",
      "71786/71786 [==============================] - 2s 27us/sample - loss: 0.3576 - accuracy: 0.8364 - val_loss: 0.3522 - val_accuracy: 0.8353\n",
      "Epoch 89/400\n",
      "71786/71786 [==============================] - 2s 23us/sample - loss: 0.3578 - accuracy: 0.8356 - val_loss: 0.3519 - val_accuracy: 0.8353\n",
      "Epoch 90/400\n",
      "71786/71786 [==============================] - 2s 21us/sample - loss: 0.3577 - accuracy: 0.8361 - val_loss: 0.3524 - val_accuracy: 0.8351\n",
      "Epoch 91/400\n",
      "71786/71786 [==============================] - 2s 25us/sample - loss: 0.3583 - accuracy: 0.8362 - val_loss: 0.3528 - val_accuracy: 0.8347\n",
      "Epoch 92/400\n",
      "71786/71786 [==============================] - 2s 32us/sample - loss: 0.3588 - accuracy: 0.8362 - val_loss: 0.3519 - val_accuracy: 0.8354\n",
      "Epoch 93/400\n",
      "71786/71786 [==============================] - 2s 24us/sample - loss: 0.3582 - accuracy: 0.8363 - val_loss: 0.3520 - val_accuracy: 0.8351\n",
      "Epoch 94/400\n",
      "71786/71786 [==============================] - 2s 22us/sample - loss: 0.3581 - accuracy: 0.8351 - val_loss: 0.3518 - val_accuracy: 0.8359\n",
      "Epoch 95/400\n",
      "71786/71786 [==============================] - 2s 22us/sample - loss: 0.3579 - accuracy: 0.8361 - val_loss: 0.3519 - val_accuracy: 0.8346\n",
      "Epoch 96/400\n",
      "71786/71786 [==============================] - 2s 21us/sample - loss: 0.3579 - accuracy: 0.8365 - val_loss: 0.3518 - val_accuracy: 0.8354\n",
      "Epoch 97/400\n",
      "71786/71786 [==============================] - 2s 26us/sample - loss: 0.3575 - accuracy: 0.8362 - val_loss: 0.3521 - val_accuracy: 0.8354\n",
      "Epoch 98/400\n",
      "71786/71786 [==============================] - 2s 24us/sample - loss: 0.3575 - accuracy: 0.8358 - val_loss: 0.3516 - val_accuracy: 0.8353\n",
      "Epoch 99/400\n",
      "71786/71786 [==============================] - 2s 22us/sample - loss: 0.3588 - accuracy: 0.8359 - val_loss: 0.3525 - val_accuracy: 0.8355\n",
      "Epoch 100/400\n",
      "71786/71786 [==============================] - 2s 25us/sample - loss: 0.3572 - accuracy: 0.8360 - val_loss: 0.3515 - val_accuracy: 0.8353\n",
      "Epoch 101/400\n",
      "71786/71786 [==============================] - 2s 22us/sample - loss: 0.3585 - accuracy: 0.8348 - val_loss: 0.3522 - val_accuracy: 0.8348\n",
      "Epoch 102/400\n",
      "71786/71786 [==============================] - 2s 22us/sample - loss: 0.3573 - accuracy: 0.8356 - val_loss: 0.3526 - val_accuracy: 0.8344\n",
      "Epoch 103/400\n",
      "71786/71786 [==============================] - 2s 21us/sample - loss: 0.3580 - accuracy: 0.8354 - val_loss: 0.3518 - val_accuracy: 0.8351\n",
      "Epoch 104/400\n",
      "71786/71786 [==============================] - 2s 21us/sample - loss: 0.3600 - accuracy: 0.8359 - val_loss: 0.3520 - val_accuracy: 0.8347\n",
      "Epoch 105/400\n",
      "71786/71786 [==============================] - 2s 21us/sample - loss: 0.3575 - accuracy: 0.8365 - val_loss: 0.3517 - val_accuracy: 0.8343\n",
      "Epoch 106/400\n",
      "71786/71786 [==============================] - 2s 22us/sample - loss: 0.3564 - accuracy: 0.8362 - val_loss: 0.3517 - val_accuracy: 0.8350\n",
      "Epoch 107/400\n",
      "71786/71786 [==============================] - 1s 20us/sample - loss: 0.3580 - accuracy: 0.8358 - val_loss: 0.3517 - val_accuracy: 0.8349\n",
      "Epoch 108/400\n",
      "71786/71786 [==============================] - 1s 20us/sample - loss: 0.3574 - accuracy: 0.8361 - val_loss: 0.3520 - val_accuracy: 0.8347\n",
      "Epoch 109/400\n"
     ]
    },
    {
     "name": "stdout",
     "output_type": "stream",
     "text": [
      "71786/71786 [==============================] - 2s 27us/sample - loss: 0.3583 - accuracy: 0.8359 - val_loss: 0.3519 - val_accuracy: 0.8348\n",
      "Epoch 110/400\n",
      "71786/71786 [==============================] - 2s 25us/sample - loss: 0.3614 - accuracy: 0.8363 - val_loss: 0.3520 - val_accuracy: 0.8350\n",
      "Epoch 111/400\n",
      "71786/71786 [==============================] - 2s 24us/sample - loss: 0.3571 - accuracy: 0.8352 - val_loss: 0.3516 - val_accuracy: 0.8362\n",
      "Epoch 112/400\n",
      "71786/71786 [==============================] - 2s 21us/sample - loss: 0.3574 - accuracy: 0.8360 - val_loss: 0.3521 - val_accuracy: 0.8350\n",
      "Epoch 113/400\n",
      "71786/71786 [==============================] - 2s 22us/sample - loss: 0.3580 - accuracy: 0.8361 - val_loss: 0.3518 - val_accuracy: 0.8344\n",
      "Epoch 114/400\n",
      "71786/71786 [==============================] - 2s 23us/sample - loss: 0.3571 - accuracy: 0.8352 - val_loss: 0.3517 - val_accuracy: 0.8357\n"
     ]
    }
   ],
   "source": [
    "from tensorflow.keras.callbacks import EarlyStopping\n",
    "early_stop = EarlyStopping(monitor='val_loss', mode='min', patience=50)\n",
    "ANN = KerasClassifier(build_fn=create_model)\n",
    "params={'optimizer' : ['adam', 'rmsprop'],\n",
    "        'batch_size': [128, 256, 512, 800]}"
   ]
  },
  {
   "cell_type": "code",
   "execution_count": 22,
   "metadata": {
    "scrolled": true
   },
   "outputs": [
    {
     "name": "stdout",
     "output_type": "stream",
     "text": [
      "----------\n",
      "best parameters:  {'batch_size': 256, 'optimizer': 'rmsprop'}\n",
      "----------\n",
      "[[11245  4114]\n",
      " [  940 14467]]\n",
      "----------\n",
      "              precision    recall  f1-score   support\n",
      "\n",
      "           0       0.92      0.73      0.82     15359\n",
      "           1       0.78      0.94      0.85     15407\n",
      "\n",
      "    accuracy                           0.84     30766\n",
      "   macro avg       0.85      0.84      0.83     30766\n",
      "weighted avg       0.85      0.84      0.83     30766\n",
      "\n",
      "----------\n"
     ]
    }
   ],
   "source": [
    "##accuracy\n",
    "grid_search_acc= GridSearchCV(estimator=ANN, param_grid= params, scoring='accuracy',cv=2, n_jobs=-1)\n",
    "grid_search_acc= grid_search_acc.fit(X_train, Y_train, epochs=300, validation_data=(X_test, Y_test), callbacks=[early_stop])\n",
    "y_predict= grid_search_acc.best_estimator_.predict(X_test)"
   ]
  },
  {
   "cell_type": "code",
   "execution_count": 23,
   "metadata": {},
   "outputs": [
    {
     "data": {
      "image/png": "[encoded data removed]",
      "text/plain": [
       "<Figure size 504x432 with 1 Axes>"
      ]
     },
     "metadata": {},
     "output_type": "display_data"
    }
   ],
   "source": [
    "## evaluating the model\n",
    "print(\"----------\")\n",
    "print('best parameters: ', grid_search_acc.best_params_)\n",
    "print(\"----------\")\n",
    "print(confusion_matrix(Y_test,y_predict))\n",
    "print(\"----------\")\n",
    "print(classification_report(Y_test, y_predict))\n",
    "print(\"----------\")"
   ]
  },
  {
   "cell_type": "code",
   "execution_count": 30,
   "metadata": {},
   "outputs": [
    {
     "ename": "PicklingError",
     "evalue": "Could not pickle the task to send it to the workers.",
     "output_type": "error",
     "traceback": [
      "\u001b[0;31m---------------------------------------------------------------------------\u001b[0m",
      "\u001b[0;31m_RemoteTraceback\u001b[0m                          Traceback (most recent call last)",
      "\u001b[0;31m_RemoteTraceback\u001b[0m: \n\"\"\"\nTraceback (most recent call last):\n  File \"/usr/local/lib/python3.5/dist-packages/joblib/externals/loky/backend/queues.py\", line 150, in _feed\n    obj_ = dumps(obj, reducers=reducers)\n  File \"/usr/local/lib/python3.5/dist-packages/joblib/externals/loky/backend/reduction.py\", line 247, in dumps\n    dump(obj, buf, reducers=reducers, protocol=protocol)\n  File \"/usr/local/lib/python3.5/dist-packages/joblib/externals/loky/backend/reduction.py\", line 240, in dump\n    _LokyPickler(file, reducers=reducers, protocol=protocol).dump(obj)\n  File \"/usr/local/lib/python3.5/dist-packages/joblib/externals/cloudpickle/cloudpickle.py\", line 482, in dump\n    return Pickler.dump(self, obj)\n  File \"/usr/lib/python3.5/pickle.py\", line 408, in dump\n    self.save(obj)\n  File \"/usr/lib/python3.5/pickle.py\", line 520, in save\n    self.save_reduce(obj=obj, *rv)\n  File \"/usr/lib/python3.5/pickle.py\", line 627, in save_reduce\n    save(state)\n  File \"/usr/lib/python3.5/pickle.py\", line 475, in save\n    f(self, obj) # Call unbound method with explicit self\n  File \"/usr/lib/python3.5/pickle.py\", line 814, in save_dict\n    self._batch_setitems(obj.items())\n  File \"/usr/lib/python3.5/pickle.py\", line 840, in _batch_setitems\n    save(v)\n  File \"/usr/lib/python3.5/pickle.py\", line 520, in save\n    self.save_reduce(obj=obj, *rv)\n  File \"/usr/lib/python3.5/pickle.py\", line 627, in save_reduce\n    save(state)\n  File \"/usr/lib/python3.5/pickle.py\", line 475, in save\n    f(self, obj) # Call unbound method with explicit self\n  File \"/usr/lib/python3.5/pickle.py\", line 814, in save_dict\n    self._batch_setitems(obj.items())\n  File \"/usr/lib/python3.5/pickle.py\", line 845, in _batch_setitems\n    save(v)\n  File \"/usr/lib/python3.5/pickle.py\", line 520, in save\n    self.save_reduce(obj=obj, *rv)\n  File \"/usr/lib/python3.5/pickle.py\", line 627, in save_reduce\n    save(state)\n  File \"/usr/lib/python3.5/pickle.py\", line 475, in save\n    f(self, obj) # Call unbound method with explicit self\n  File \"/usr/lib/python3.5/pickle.py\", line 814, in save_dict\n    self._batch_setitems(obj.items())\n  File \"/usr/lib/python3.5/pickle.py\", line 840, in _batch_setitems\n    save(v)\n  File \"/usr/lib/python3.5/pickle.py\", line 475, in save\n    f(self, obj) # Call unbound method with explicit self\n  File \"/usr/lib/python3.5/pickle.py\", line 774, in save_list\n    self._batch_appends(obj)\n  File \"/usr/lib/python3.5/pickle.py\", line 801, in _batch_appends\n    save(tmp[0])\n  File \"/usr/lib/python3.5/pickle.py\", line 475, in save\n    f(self, obj) # Call unbound method with explicit self\n  File \"/usr/lib/python3.5/pickle.py\", line 729, in save_tuple\n    save(element)\n  File \"/usr/lib/python3.5/pickle.py\", line 475, in save\n    f(self, obj) # Call unbound method with explicit self\n  File \"/usr/lib/python3.5/pickle.py\", line 814, in save_dict\n    self._batch_setitems(obj.items())\n  File \"/usr/lib/python3.5/pickle.py\", line 840, in _batch_setitems\n    save(v)\n  File \"/usr/lib/python3.5/pickle.py\", line 475, in save\n    f(self, obj) # Call unbound method with explicit self\n  File \"/usr/lib/python3.5/pickle.py\", line 814, in save_dict\n    self._batch_setitems(obj.items())\n  File \"/usr/lib/python3.5/pickle.py\", line 840, in _batch_setitems\n    save(v)\n  File \"/usr/lib/python3.5/pickle.py\", line 475, in save\n    f(self, obj) # Call unbound method with explicit self\n  File \"/usr/lib/python3.5/pickle.py\", line 774, in save_list\n    self._batch_appends(obj)\n  File \"/usr/lib/python3.5/pickle.py\", line 801, in _batch_appends\n    save(tmp[0])\n  File \"/usr/lib/python3.5/pickle.py\", line 520, in save\n    self.save_reduce(obj=obj, *rv)\n  File \"/usr/lib/python3.5/pickle.py\", line 627, in save_reduce\n    save(state)\n  File \"/usr/lib/python3.5/pickle.py\", line 475, in save\n    f(self, obj) # Call unbound method with explicit self\n  File \"/usr/lib/python3.5/pickle.py\", line 814, in save_dict\n    self._batch_setitems(obj.items())\n  File \"/usr/lib/python3.5/pickle.py\", line 840, in _batch_setitems\n    save(v)\n  File \"/usr/lib/python3.5/pickle.py\", line 520, in save\n    self.save_reduce(obj=obj, *rv)\n  File \"/usr/lib/python3.5/pickle.py\", line 627, in save_reduce\n    save(state)\n  File \"/usr/lib/python3.5/pickle.py\", line 475, in save\n    f(self, obj) # Call unbound method with explicit self\n  File \"/usr/lib/python3.5/pickle.py\", line 814, in save_dict\n    self._batch_setitems(obj.items())\n  File \"/usr/lib/python3.5/pickle.py\", line 840, in _batch_setitems\n    save(v)\n  File \"/usr/lib/python3.5/pickle.py\", line 475, in save\n    f(self, obj) # Call unbound method with explicit self\n  File \"/usr/lib/python3.5/pickle.py\", line 774, in save_list\n    self._batch_appends(obj)\n  File \"/usr/lib/python3.5/pickle.py\", line 801, in _batch_appends\n    save(tmp[0])\n  File \"/usr/lib/python3.5/pickle.py\", line 520, in save\n    self.save_reduce(obj=obj, *rv)\n  File \"/usr/lib/python3.5/pickle.py\", line 627, in save_reduce\n    save(state)\n  File \"/usr/lib/python3.5/pickle.py\", line 475, in save\n    f(self, obj) # Call unbound method with explicit self\n  File \"/usr/lib/python3.5/pickle.py\", line 814, in save_dict\n    self._batch_setitems(obj.items())\n  File \"/usr/lib/python3.5/pickle.py\", line 840, in _batch_setitems\n    save(v)\n  File \"/usr/lib/python3.5/pickle.py\", line 475, in save\n    f(self, obj) # Call unbound method with explicit self\n  File \"/usr/lib/python3.5/pickle.py\", line 774, in save_list\n    self._batch_appends(obj)\n  File \"/usr/lib/python3.5/pickle.py\", line 801, in _batch_appends\n    save(tmp[0])\n  File \"/usr/lib/python3.5/pickle.py\", line 520, in save\n    self.save_reduce(obj=obj, *rv)\n  File \"/usr/lib/python3.5/pickle.py\", line 627, in save_reduce\n    save(state)\n  File \"/usr/lib/python3.5/pickle.py\", line 475, in save\n    f(self, obj) # Call unbound method with explicit self\n  File \"/usr/lib/python3.5/pickle.py\", line 814, in save_dict\n    self._batch_setitems(obj.items())\n  File \"/usr/lib/python3.5/pickle.py\", line 840, in _batch_setitems\n    save(v)\n  File \"/usr/lib/python3.5/pickle.py\", line 475, in save\n    f(self, obj) # Call unbound method with explicit self\n  File \"/usr/lib/python3.5/pickle.py\", line 774, in save_list\n    self._batch_appends(obj)\n  File \"/usr/lib/python3.5/pickle.py\", line 801, in _batch_appends\n    save(tmp[0])\n  File \"/usr/lib/python3.5/pickle.py\", line 520, in save\n    self.save_reduce(obj=obj, *rv)\n  File \"/usr/lib/python3.5/pickle.py\", line 627, in save_reduce\n    save(state)\n  File \"/usr/lib/python3.5/pickle.py\", line 475, in save\n    f(self, obj) # Call unbound method with explicit self\n  File \"/usr/lib/python3.5/pickle.py\", line 814, in save_dict\n    self._batch_setitems(obj.items())\n  File \"/usr/lib/python3.5/pickle.py\", line 840, in _batch_setitems\n    save(v)\n  File \"/usr/lib/python3.5/pickle.py\", line 520, in save\n    self.save_reduce(obj=obj, *rv)\n  File \"/usr/lib/python3.5/pickle.py\", line 627, in save_reduce\n    save(state)\n  File \"/usr/lib/python3.5/pickle.py\", line 475, in save\n    f(self, obj) # Call unbound method with explicit self\n  File \"/usr/lib/python3.5/pickle.py\", line 814, in save_dict\n    self._batch_setitems(obj.items())\n  File \"/usr/lib/python3.5/pickle.py\", line 845, in _batch_setitems\n    save(v)\n  File \"/usr/lib/python3.5/pickle.py\", line 495, in save\n    rv = reduce(self.proto)\nTypeError: can't pickle SwigPyObject objects\n\"\"\"",
      "\nThe above exception was the direct cause of the following exception:\n",
      "\u001b[0;31mPicklingError\u001b[0m                             Traceback (most recent call last)",
      "\u001b[0;32m<ipython-input-30-75681ef60cb4>\u001b[0m in \u001b[0;36m<module>\u001b[0;34m\u001b[0m\n\u001b[1;32m      2\u001b[0m \u001b[0mrec_avg\u001b[0m\u001b[0;34m=\u001b[0m\u001b[0mmake_scorer\u001b[0m\u001b[0;34m(\u001b[0m\u001b[0mrecall_score\u001b[0m\u001b[0;34m,\u001b[0m \u001b[0maverage\u001b[0m\u001b[0;34m=\u001b[0m\u001b[0;34m'macro'\u001b[0m\u001b[0;34m)\u001b[0m\u001b[0;34m\u001b[0m\u001b[0m\n\u001b[1;32m      3\u001b[0m \u001b[0mgrid_search_rec\u001b[0m\u001b[0;34m=\u001b[0m \u001b[0mGridSearchCV\u001b[0m\u001b[0;34m(\u001b[0m\u001b[0mestimator\u001b[0m\u001b[0;34m=\u001b[0m\u001b[0mANN\u001b[0m\u001b[0;34m,\u001b[0m \u001b[0mparam_grid\u001b[0m\u001b[0;34m=\u001b[0m \u001b[0mparams\u001b[0m\u001b[0;34m,\u001b[0m \u001b[0mscoring\u001b[0m\u001b[0;34m=\u001b[0m\u001b[0mrec_avg\u001b[0m\u001b[0;34m,\u001b[0m\u001b[0mcv\u001b[0m\u001b[0;34m=\u001b[0m\u001b[0;36m5\u001b[0m\u001b[0;34m,\u001b[0m \u001b[0mn_jobs\u001b[0m\u001b[0;34m=\u001b[0m\u001b[0;34m-\u001b[0m\u001b[0;36m1\u001b[0m\u001b[0;34m)\u001b[0m\u001b[0;34m\u001b[0m\u001b[0m\n\u001b[0;32m----> 4\u001b[0;31m \u001b[0mgrid_search_rec\u001b[0m\u001b[0;34m=\u001b[0m \u001b[0mgrid_search_rec\u001b[0m\u001b[0;34m.\u001b[0m\u001b[0mfit\u001b[0m\u001b[0;34m(\u001b[0m\u001b[0mX_train\u001b[0m\u001b[0;34m,\u001b[0m \u001b[0mY_train\u001b[0m\u001b[0;34m,\u001b[0m \u001b[0mepochs\u001b[0m\u001b[0;34m=\u001b[0m\u001b[0;36m400\u001b[0m\u001b[0;34m,\u001b[0m \u001b[0mvalidation_data\u001b[0m\u001b[0;34m=\u001b[0m\u001b[0;34m(\u001b[0m\u001b[0mX_test\u001b[0m\u001b[0;34m,\u001b[0m \u001b[0mY_test\u001b[0m\u001b[0;34m)\u001b[0m\u001b[0;34m,\u001b[0m \u001b[0mcallbacks\u001b[0m\u001b[0;34m=\u001b[0m\u001b[0;34m[\u001b[0m\u001b[0mearly_stop\u001b[0m\u001b[0;34m]\u001b[0m\u001b[0;34m)\u001b[0m\u001b[0;34m\u001b[0m\u001b[0m\n\u001b[0m\u001b[1;32m      5\u001b[0m \u001b[0my_predict\u001b[0m\u001b[0;34m=\u001b[0m \u001b[0mgrid_search_rec\u001b[0m\u001b[0;34m.\u001b[0m\u001b[0mbest_estimator_\u001b[0m\u001b[0;34m.\u001b[0m\u001b[0mpredict\u001b[0m\u001b[0;34m(\u001b[0m\u001b[0mX_test\u001b[0m\u001b[0;34m)\u001b[0m\u001b[0;34m\u001b[0m\u001b[0m\n",
      "\u001b[0;32m/usr/local/lib/python3.5/dist-packages/sklearn/model_selection/_search.py\u001b[0m in \u001b[0;36mfit\u001b[0;34m(self, X, y, groups, **fit_params)\u001b[0m\n\u001b[1;32m    708\u001b[0m                 \u001b[0;32mreturn\u001b[0m \u001b[0mresults\u001b[0m\u001b[0;34m\u001b[0m\u001b[0m\n\u001b[1;32m    709\u001b[0m \u001b[0;34m\u001b[0m\u001b[0m\n\u001b[0;32m--> 710\u001b[0;31m             \u001b[0mself\u001b[0m\u001b[0;34m.\u001b[0m\u001b[0m_run_search\u001b[0m\u001b[0;34m(\u001b[0m\u001b[0mevaluate_candidates\u001b[0m\u001b[0;34m)\u001b[0m\u001b[0;34m\u001b[0m\u001b[0m\n\u001b[0m\u001b[1;32m    711\u001b[0m \u001b[0;34m\u001b[0m\u001b[0m\n\u001b[1;32m    712\u001b[0m         \u001b[0;31m# For multi-metric evaluation, store the best_index_, best_params_ and\u001b[0m\u001b[0;34m\u001b[0m\u001b[0;34m\u001b[0m\u001b[0m\n",
      "\u001b[0;32m/usr/local/lib/python3.5/dist-packages/sklearn/model_selection/_search.py\u001b[0m in \u001b[0;36m_run_search\u001b[0;34m(self, evaluate_candidates)\u001b[0m\n\u001b[1;32m   1149\u001b[0m     \u001b[0;32mdef\u001b[0m \u001b[0m_run_search\u001b[0m\u001b[0;34m(\u001b[0m\u001b[0mself\u001b[0m\u001b[0;34m,\u001b[0m \u001b[0mevaluate_candidates\u001b[0m\u001b[0;34m)\u001b[0m\u001b[0;34m:\u001b[0m\u001b[0;34m\u001b[0m\u001b[0m\n\u001b[1;32m   1150\u001b[0m         \u001b[0;34m\"\"\"Search all candidates in param_grid\"\"\"\u001b[0m\u001b[0;34m\u001b[0m\u001b[0m\n\u001b[0;32m-> 1151\u001b[0;31m         \u001b[0mevaluate_candidates\u001b[0m\u001b[0;34m(\u001b[0m\u001b[0mParameterGrid\u001b[0m\u001b[0;34m(\u001b[0m\u001b[0mself\u001b[0m\u001b[0;34m.\u001b[0m\u001b[0mparam_grid\u001b[0m\u001b[0;34m)\u001b[0m\u001b[0;34m)\u001b[0m\u001b[0;34m\u001b[0m\u001b[0m\n\u001b[0m\u001b[1;32m   1152\u001b[0m \u001b[0;34m\u001b[0m\u001b[0m\n\u001b[1;32m   1153\u001b[0m \u001b[0;34m\u001b[0m\u001b[0m\n",
      "\u001b[0;32m/usr/local/lib/python3.5/dist-packages/sklearn/model_selection/_search.py\u001b[0m in \u001b[0;36mevaluate_candidates\u001b[0;34m(candidate_params)\u001b[0m\n\u001b[1;32m    687\u001b[0m                                \u001b[0;32mfor\u001b[0m \u001b[0mparameters\u001b[0m\u001b[0;34m,\u001b[0m \u001b[0;34m(\u001b[0m\u001b[0mtrain\u001b[0m\u001b[0;34m,\u001b[0m \u001b[0mtest\u001b[0m\u001b[0;34m)\u001b[0m\u001b[0;34m\u001b[0m\u001b[0m\n\u001b[1;32m    688\u001b[0m                                in product(candidate_params,\n\u001b[0;32m--> 689\u001b[0;31m                                           cv.split(X, y, groups)))\n\u001b[0m\u001b[1;32m    690\u001b[0m \u001b[0;34m\u001b[0m\u001b[0m\n\u001b[1;32m    691\u001b[0m                 \u001b[0;32mif\u001b[0m \u001b[0mlen\u001b[0m\u001b[0;34m(\u001b[0m\u001b[0mout\u001b[0m\u001b[0;34m)\u001b[0m \u001b[0;34m<\u001b[0m \u001b[0;36m1\u001b[0m\u001b[0;34m:\u001b[0m\u001b[0;34m\u001b[0m\u001b[0m\n",
      "\u001b[0;32m/usr/local/lib/python3.5/dist-packages/joblib/parallel.py\u001b[0m in \u001b[0;36m__call__\u001b[0;34m(self, iterable)\u001b[0m\n\u001b[1;32m   1015\u001b[0m \u001b[0;34m\u001b[0m\u001b[0m\n\u001b[1;32m   1016\u001b[0m             \u001b[0;32mwith\u001b[0m \u001b[0mself\u001b[0m\u001b[0;34m.\u001b[0m\u001b[0m_backend\u001b[0m\u001b[0;34m.\u001b[0m\u001b[0mretrieval_context\u001b[0m\u001b[0;34m(\u001b[0m\u001b[0;34m)\u001b[0m\u001b[0;34m:\u001b[0m\u001b[0;34m\u001b[0m\u001b[0m\n\u001b[0;32m-> 1017\u001b[0;31m                 \u001b[0mself\u001b[0m\u001b[0;34m.\u001b[0m\u001b[0mretrieve\u001b[0m\u001b[0;34m(\u001b[0m\u001b[0;34m)\u001b[0m\u001b[0;34m\u001b[0m\u001b[0m\n\u001b[0m\u001b[1;32m   1018\u001b[0m             \u001b[0;31m# Make sure that we get a last message telling us we are done\u001b[0m\u001b[0;34m\u001b[0m\u001b[0;34m\u001b[0m\u001b[0m\n\u001b[1;32m   1019\u001b[0m             \u001b[0melapsed_time\u001b[0m \u001b[0;34m=\u001b[0m \u001b[0mtime\u001b[0m\u001b[0;34m.\u001b[0m\u001b[0mtime\u001b[0m\u001b[0;34m(\u001b[0m\u001b[0;34m)\u001b[0m \u001b[0;34m-\u001b[0m \u001b[0mself\u001b[0m\u001b[0;34m.\u001b[0m\u001b[0m_start_time\u001b[0m\u001b[0;34m\u001b[0m\u001b[0m\n",
      "\u001b[0;32m/usr/local/lib/python3.5/dist-packages/joblib/parallel.py\u001b[0m in \u001b[0;36mretrieve\u001b[0;34m(self)\u001b[0m\n\u001b[1;32m    907\u001b[0m             \u001b[0;32mtry\u001b[0m\u001b[0;34m:\u001b[0m\u001b[0;34m\u001b[0m\u001b[0m\n\u001b[1;32m    908\u001b[0m                 \u001b[0;32mif\u001b[0m \u001b[0mgetattr\u001b[0m\u001b[0;34m(\u001b[0m\u001b[0mself\u001b[0m\u001b[0;34m.\u001b[0m\u001b[0m_backend\u001b[0m\u001b[0;34m,\u001b[0m \u001b[0;34m'supports_timeout'\u001b[0m\u001b[0;34m,\u001b[0m \u001b[0;32mFalse\u001b[0m\u001b[0;34m)\u001b[0m\u001b[0;34m:\u001b[0m\u001b[0;34m\u001b[0m\u001b[0m\n\u001b[0;32m--> 909\u001b[0;31m                     \u001b[0mself\u001b[0m\u001b[0;34m.\u001b[0m\u001b[0m_output\u001b[0m\u001b[0;34m.\u001b[0m\u001b[0mextend\u001b[0m\u001b[0;34m(\u001b[0m\u001b[0mjob\u001b[0m\u001b[0;34m.\u001b[0m\u001b[0mget\u001b[0m\u001b[0;34m(\u001b[0m\u001b[0mtimeout\u001b[0m\u001b[0;34m=\u001b[0m\u001b[0mself\u001b[0m\u001b[0;34m.\u001b[0m\u001b[0mtimeout\u001b[0m\u001b[0;34m)\u001b[0m\u001b[0;34m)\u001b[0m\u001b[0;34m\u001b[0m\u001b[0m\n\u001b[0m\u001b[1;32m    910\u001b[0m                 \u001b[0;32melse\u001b[0m\u001b[0;34m:\u001b[0m\u001b[0;34m\u001b[0m\u001b[0m\n\u001b[1;32m    911\u001b[0m                     \u001b[0mself\u001b[0m\u001b[0;34m.\u001b[0m\u001b[0m_output\u001b[0m\u001b[0;34m.\u001b[0m\u001b[0mextend\u001b[0m\u001b[0;34m(\u001b[0m\u001b[0mjob\u001b[0m\u001b[0;34m.\u001b[0m\u001b[0mget\u001b[0m\u001b[0;34m(\u001b[0m\u001b[0;34m)\u001b[0m\u001b[0;34m)\u001b[0m\u001b[0;34m\u001b[0m\u001b[0m\n",
      "\u001b[0;32m/usr/local/lib/python3.5/dist-packages/joblib/_parallel_backends.py\u001b[0m in \u001b[0;36mwrap_future_result\u001b[0;34m(future, timeout)\u001b[0m\n\u001b[1;32m    560\u001b[0m         AsyncResults.get from multiprocessing.\"\"\"\n\u001b[1;32m    561\u001b[0m         \u001b[0;32mtry\u001b[0m\u001b[0;34m:\u001b[0m\u001b[0;34m\u001b[0m\u001b[0m\n\u001b[0;32m--> 562\u001b[0;31m             \u001b[0;32mreturn\u001b[0m \u001b[0mfuture\u001b[0m\u001b[0;34m.\u001b[0m\u001b[0mresult\u001b[0m\u001b[0;34m(\u001b[0m\u001b[0mtimeout\u001b[0m\u001b[0;34m=\u001b[0m\u001b[0mtimeout\u001b[0m\u001b[0;34m)\u001b[0m\u001b[0;34m\u001b[0m\u001b[0m\n\u001b[0m\u001b[1;32m    563\u001b[0m         \u001b[0;32mexcept\u001b[0m \u001b[0mLokyTimeoutError\u001b[0m\u001b[0;34m:\u001b[0m\u001b[0;34m\u001b[0m\u001b[0m\n\u001b[1;32m    564\u001b[0m             \u001b[0;32mraise\u001b[0m \u001b[0mTimeoutError\u001b[0m\u001b[0;34m(\u001b[0m\u001b[0;34m)\u001b[0m\u001b[0;34m\u001b[0m\u001b[0m\n",
      "\u001b[0;32m/usr/lib/python3.5/concurrent/futures/_base.py\u001b[0m in \u001b[0;36mresult\u001b[0;34m(self, timeout)\u001b[0m\n\u001b[1;32m    403\u001b[0m                 \u001b[0;32mraise\u001b[0m \u001b[0mCancelledError\u001b[0m\u001b[0;34m(\u001b[0m\u001b[0;34m)\u001b[0m\u001b[0;34m\u001b[0m\u001b[0m\n\u001b[1;32m    404\u001b[0m             \u001b[0;32melif\u001b[0m \u001b[0mself\u001b[0m\u001b[0;34m.\u001b[0m\u001b[0m_state\u001b[0m \u001b[0;34m==\u001b[0m \u001b[0mFINISHED\u001b[0m\u001b[0;34m:\u001b[0m\u001b[0;34m\u001b[0m\u001b[0m\n\u001b[0;32m--> 405\u001b[0;31m                 \u001b[0;32mreturn\u001b[0m \u001b[0mself\u001b[0m\u001b[0;34m.\u001b[0m\u001b[0m__get_result\u001b[0m\u001b[0;34m(\u001b[0m\u001b[0;34m)\u001b[0m\u001b[0;34m\u001b[0m\u001b[0m\n\u001b[0m\u001b[1;32m    406\u001b[0m             \u001b[0;32melse\u001b[0m\u001b[0;34m:\u001b[0m\u001b[0;34m\u001b[0m\u001b[0m\n\u001b[1;32m    407\u001b[0m                 \u001b[0;32mraise\u001b[0m \u001b[0mTimeoutError\u001b[0m\u001b[0;34m(\u001b[0m\u001b[0;34m)\u001b[0m\u001b[0;34m\u001b[0m\u001b[0m\n",
      "\u001b[0;32m/usr/lib/python3.5/concurrent/futures/_base.py\u001b[0m in \u001b[0;36m__get_result\u001b[0;34m(self)\u001b[0m\n\u001b[1;32m    355\u001b[0m     \u001b[0;32mdef\u001b[0m \u001b[0m__get_result\u001b[0m\u001b[0;34m(\u001b[0m\u001b[0mself\u001b[0m\u001b[0;34m)\u001b[0m\u001b[0;34m:\u001b[0m\u001b[0;34m\u001b[0m\u001b[0m\n\u001b[1;32m    356\u001b[0m         \u001b[0;32mif\u001b[0m \u001b[0mself\u001b[0m\u001b[0;34m.\u001b[0m\u001b[0m_exception\u001b[0m\u001b[0;34m:\u001b[0m\u001b[0;34m\u001b[0m\u001b[0m\n\u001b[0;32m--> 357\u001b[0;31m             \u001b[0;32mraise\u001b[0m \u001b[0mself\u001b[0m\u001b[0;34m.\u001b[0m\u001b[0m_exception\u001b[0m\u001b[0;34m\u001b[0m\u001b[0m\n\u001b[0m\u001b[1;32m    358\u001b[0m         \u001b[0;32melse\u001b[0m\u001b[0;34m:\u001b[0m\u001b[0;34m\u001b[0m\u001b[0m\n\u001b[1;32m    359\u001b[0m             \u001b[0;32mreturn\u001b[0m \u001b[0mself\u001b[0m\u001b[0;34m.\u001b[0m\u001b[0m_result\u001b[0m\u001b[0;34m\u001b[0m\u001b[0m\n",
      "\u001b[0;31mPicklingError\u001b[0m: Could not pickle the task to send it to the workers."
     ]
    }
   ],
   "source": [
    "##ROC\n",
    "y_predict_proba = grid_search_acc.best_estimator_.predict_proba(X_test)[:,1]\n",
    "\n",
    "# Visualisation with plot_metric\n",
    "bc = BinaryClassification(Y_test, y_predict_proba, labels=[1, 0])\n",
    "# Figures\n",
    "plt.figure(figsize=(7,6))\n",
    "bc.plot_roc_curve()\n",
    "plt.title('Deep Neural Network')\n",
    "plt.show()"
   ]
  },
  {
   "cell_type": "code",
   "execution_count": 25,
   "metadata": {},
   "outputs": [
    {
     "name": "stdout",
     "output_type": "stream",
     "text": [
      "----------\n",
      "best parameters:  {'batch_size': 128, 'optimizer': 'adam'}\n",
      "----------\n",
      "[[11301  4058]\n",
      " [ 1189 14218]]\n",
      "----------\n",
      "              precision    recall  f1-score   support\n",
      "\n",
      "           0       0.90      0.74      0.81     15359\n",
      "           1       0.78      0.92      0.84     15407\n",
      "\n",
      "    accuracy                           0.83     30766\n",
      "   macro avg       0.84      0.83      0.83     30766\n",
      "weighted avg       0.84      0.83      0.83     30766\n",
      "\n",
      "----------\n"
     ]
    }
   ],
   "source": [
    "early_stop_rec = EarlyStopping(monitor='val_loss', mode='min', patience=50)\n",
    "ANN_rec = KerasClassifier(build_fn=create_model)"
   ]
  },
  {
   "cell_type": "code",
   "execution_count": 26,
   "metadata": {},
   "outputs": [
    {
     "ename": "NameError",
     "evalue": "name 'knn' is not defined",
     "output_type": "error",
     "traceback": [
      "\u001b[0;31m---------------------------------------------------------------------------\u001b[0m",
      "\u001b[0;31mNameError\u001b[0m                                 Traceback (most recent call last)",
      "\u001b[0;32m<ipython-input-26-7a46b395bfbc>\u001b[0m in \u001b[0;36m<module>\u001b[0;34m\u001b[0m\n\u001b[1;32m      1\u001b[0m \u001b[0;31m## precision\u001b[0m\u001b[0;34m\u001b[0m\u001b[0;34m\u001b[0m\u001b[0m\n\u001b[1;32m      2\u001b[0m \u001b[0mprec_avg\u001b[0m\u001b[0;34m=\u001b[0m\u001b[0mmake_scorer\u001b[0m\u001b[0;34m(\u001b[0m\u001b[0mprecision_score\u001b[0m\u001b[0;34m,\u001b[0m \u001b[0maverage\u001b[0m\u001b[0;34m=\u001b[0m\u001b[0;34m'macro'\u001b[0m\u001b[0;34m)\u001b[0m\u001b[0;34m\u001b[0m\u001b[0m\n\u001b[0;32m----> 3\u001b[0;31m \u001b[0mgrid_search_prec_avg\u001b[0m\u001b[0;34m=\u001b[0m \u001b[0mGridSearchCV\u001b[0m\u001b[0;34m(\u001b[0m\u001b[0mestimator\u001b[0m\u001b[0;34m=\u001b[0m\u001b[0mknn\u001b[0m\u001b[0;34m,\u001b[0m \u001b[0mparam_grid\u001b[0m\u001b[0;34m=\u001b[0m \u001b[0mparams\u001b[0m\u001b[0;34m,\u001b[0m \u001b[0mscoring\u001b[0m\u001b[0;34m=\u001b[0m\u001b[0mprec_avg\u001b[0m\u001b[0;34m,\u001b[0m\u001b[0mcv\u001b[0m\u001b[0;34m=\u001b[0m\u001b[0;36m5\u001b[0m\u001b[0;34m,\u001b[0m \u001b[0mn_jobs\u001b[0m\u001b[0;34m=\u001b[0m\u001b[0;34m-\u001b[0m\u001b[0;36m1\u001b[0m\u001b[0;34m)\u001b[0m\u001b[0;34m\u001b[0m\u001b[0m\n\u001b[0m\u001b[1;32m      4\u001b[0m \u001b[0mgrid_search_prec_avg\u001b[0m\u001b[0;34m=\u001b[0m \u001b[0mgrid_search_prec_avg\u001b[0m\u001b[0;34m.\u001b[0m\u001b[0mfit\u001b[0m\u001b[0;34m(\u001b[0m\u001b[0mX_train\u001b[0m\u001b[0;34m,\u001b[0m \u001b[0mY_train\u001b[0m\u001b[0;34m)\u001b[0m\u001b[0;34m\u001b[0m\u001b[0m\n\u001b[1;32m      5\u001b[0m \u001b[0my_predict\u001b[0m\u001b[0;34m=\u001b[0m \u001b[0mgrid_search_prec_avg\u001b[0m\u001b[0;34m.\u001b[0m\u001b[0mbest_estimator_\u001b[0m\u001b[0;34m.\u001b[0m\u001b[0mpredict\u001b[0m\u001b[0;34m(\u001b[0m\u001b[0mX_test\u001b[0m\u001b[0;34m)\u001b[0m\u001b[0;34m\u001b[0m\u001b[0m\n",
      "\u001b[0;31mNameError\u001b[0m: name 'knn' is not defined"
     ]
    }
   ],
   "source": [
    "## Recall\n",
    "rec_avg=make_scorer(recall_score, average='macro')\n",
    "grid_search_rec= GridSearchCV(estimator=ANN_rec, param_grid= params, scoring=rec_avg,cv=2, n_jobs=-1)\n",
    "grid_search_rec= grid_search_rec.fit(X_train, Y_train, epochs=300, validation_data=(X_test, Y_test), callbacks=[early_stop_rec])\n",
    "y_predict= grid_search_rec.best_estimator_.predict(X_test)"
   ]
  },
  {
   "cell_type": "code",
   "execution_count": null,
   "metadata": {},
   "outputs": [],
   "source": [
    "## evaluating the model\n",
    "print(\"----------\")\n",
    "print('best parameters: ', grid_search_rec.best_params_)\n",
    "print(\"----------\")\n",
    "print(confusion_matrix(Y_test,y_predict))\n",
    "print(\"----------\")\n",
    "print(classification_report(Y_test, y_predict))\n",
    "print(\"----------\")\n"
   ]
  },
  {
   "cell_type": "code",
   "execution_count": null,
   "metadata": {},
   "outputs": [],
   "source": [
    "early_stop_prec_avg = EarlyStopping(monitor='val_loss', mode='min', patience=50)\n",
    "ANN_rec_prec_avg = KerasClassifier(build_fn=create_model)"
   ]
  },
  {
   "cell_type": "code",
   "execution_count": null,
   "metadata": {},
   "outputs": [],
   "source": [
    "## precision\n",
    "prec_avg=make_scorer(precision_score, average='macro')\n",
    "grid_search_prec_avg= GridSearchCV(estimator=ANN_rec_prec_avg, param_grid= params, scoring=prec_avg,cv=2, n_jobs=-1)\n",
    "grid_search_prec_avg= grid_search_prec_avg.fit(X_train, Y_train, epochs=300, validation_data=(X_test, Y_test), callbacks=[early_stop_prec_avg])\n",
    "y_predict= grid_search_prec_avg.best_estimator_.predict(X_test)"
   ]
  },
  {
   "cell_type": "code",
   "execution_count": null,
   "metadata": {},
   "outputs": [],
   "source": [
    "## evaluating the model\n",
    "print(\"----------\")\n",
    "print('best parameters: ', grid_search_prec_avg.best_params_)\n",
    "print(\"----------\")\n",
    "print(confusion_matrix(Y_test,y_predict))\n",
    "print(\"----------\")\n",
    "print(classification_report(Y_test, y_predict))\n",
    "print(\"----------\")"
   ]
  },
  {
   "cell_type": "code",
   "execution_count": null,
   "metadata": {},
   "outputs": [],
   "source": [
    "def plot_grid_search(cv_results, grid_param_1, grid_param_2, name_param_1, name_param_2, titre):\n",
    "    # Get Test Scores Mean and std for each grid search\n",
    "    scores_mean = cv_results['mean_test_score']\n",
    "    scores_mean = np.array(scores_mean).reshape(len(grid_param_1),len(grid_param_2))\n",
    "    scores_mean = scores_mean.T\n",
    "    # Plot Grid search scores\n",
    "    _, ax = plt.subplots(1,1)\n",
    "    # Param1 is the X-axis, Param 2 is represented as a different curve (color line)\n",
    "    for idx, val in enumerate(grid_param_2):\n",
    "        #ax.set_ylim([0.83,0.855])\n",
    "        ax.plot(grid_param_1, scores_mean[idx,:], '-o', label= name_param_2 + ': ' + str(val))\n",
    "\n",
    "    ax.set_title(titre, fontsize=18, fontweight='bold')\n",
    "    ax.set_xlabel(name_param_1, fontsize=14)\n",
    "    ax.set_ylabel(titre+'[CV Avg Score]', fontsize=14)\n",
    "    ax.legend(loc=\"best\", fontsize=15)\n",
    "    ax.grid('on')\n"
   ]
  },
  {
   "cell_type": "code",
   "execution_count": null,
   "metadata": {},
   "outputs": [],
   "source": [
    "# Calling Method \n",
    "plot_grid_search(grid_search_acc.cv_results_, params['batch_size'], params['optimizer'], 'batch_size', 'optimizer', 'Accuracy')\n",
    "plot_grid_search(grid_search_rec.cv_results_, params['batch_size'], params['optimizer'], 'batch_size', 'optimizer', 'Recall')\n",
    "plot_grid_search(grid_search_prec_avg.cv_results_, params['batch_size'], params['optimizer'], 'batch_size', 'optimizer', 'Precision')\n"
   ]
  },
  {
   "cell_type": "code",
   "execution_count": null,
   "outputs": [],
   "source": [
    "def return_index_list(param1, param2):\n",
    "    list=[]\n",
    "    for p1 in param1:\n",
    "        for p2 in param2:\n",
    "            list.append('['+str(p1)+', '+str(p2)+']')\n",
    "    return list"
   ],
   "metadata": {
    "collapsed": false,
    "pycharm": {
     "name": "#%%\n"
    }
   }
  },
  {
   "cell_type": "code",
   "execution_count": null,
   "metadata": {},
   "outputs": [
    {
     "name": "stdout",
     "output_type": "stream",
     "text": [
      "Train on 71786 samples, validate on 30766 samples\n",
      "Epoch 1/300\n",
      "71786/71786 [==============================] - 15s 215us/sample - loss: 0.4526 - accuracy: 0.7733 - val_loss: 0.3637 - val_accuracy: 0.8308\n",
      "Epoch 2/300\n",
      "71786/71786 [==============================] - 11s 150us/sample - loss: 0.3753 - accuracy: 0.8303 - val_loss: 0.3601 - val_accuracy: 0.8323\n",
      "Epoch 3/300\n",
      "71786/71786 [==============================] - 11s 151us/sample - loss: 0.3705 - accuracy: 0.8333 - val_loss: 0.3599 - val_accuracy: 0.8341\n",
      "Epoch 4/300\n",
      "71786/71786 [==============================] - 14s 200us/sample - loss: 0.3706 - accuracy: 0.8338 - val_loss: 0.3597 - val_accuracy: 0.8339\n",
      "Epoch 5/300\n",
      "71786/71786 [==============================] - 12s 171us/sample - loss: 0.3681 - accuracy: 0.8343 - val_loss: 0.3600 - val_accuracy: 0.8336\n",
      "Epoch 6/300\n",
      "71786/71786 [==============================] - 13s 185us/sample - loss: 0.3706 - accuracy: 0.8343 - val_loss: 0.3593 - val_accuracy: 0.8332\n",
      "Epoch 7/300\n",
      "71786/71786 [==============================] - 14s 190us/sample - loss: 0.3699 - accuracy: 0.8345 - val_loss: 0.3584 - val_accuracy: 0.8343\n",
      "Epoch 8/300\n",
      "71786/71786 [==============================] - 13s 180us/sample - loss: 0.3682 - accuracy: 0.8340 - val_loss: 0.3597 - val_accuracy: 0.8347\n",
      "Epoch 9/300\n",
      "71786/71786 [==============================] - 13s 177us/sample - loss: 0.3691 - accuracy: 0.8346 - val_loss: 0.3590 - val_accuracy: 0.8348\n",
      "Epoch 10/300\n",
      "71786/71786 [==============================] - 11s 155us/sample - loss: 0.3687 - accuracy: 0.8348 - val_loss: 0.3588 - val_accuracy: 0.8346\n",
      "Epoch 11/300\n",
      "71786/71786 [==============================] - 12s 165us/sample - loss: 0.3678 - accuracy: 0.8340 - val_loss: 0.3586 - val_accuracy: 0.8341\n",
      "Epoch 12/300\n",
      "71786/71786 [==============================] - 12s 164us/sample - loss: 0.3683 - accuracy: 0.8348 - val_loss: 0.3604 - val_accuracy: 0.8336\n",
      "Epoch 13/300\n",
      "71786/71786 [==============================] - 13s 186us/sample - loss: 0.3687 - accuracy: 0.8342 - val_loss: 0.3593 - val_accuracy: 0.8336\n",
      "Epoch 14/300\n",
      "71786/71786 [==============================] - 14s 198us/sample - loss: 0.3683 - accuracy: 0.8345 - val_loss: 0.3595 - val_accuracy: 0.8336\n",
      "Epoch 15/300\n",
      "71786/71786 [==============================] - 12s 169us/sample - loss: 0.3685 - accuracy: 0.8351 - val_loss: 0.3603 - val_accuracy: 0.8348\n",
      "Epoch 16/300\n",
      "71786/71786 [==============================] - 17s 233us/sample - loss: 0.3698 - accuracy: 0.8351 - val_loss: 0.3600 - val_accuracy: 0.8333\n",
      "Epoch 17/300\n",
      "71786/71786 [==============================] - 13s 178us/sample - loss: 0.3683 - accuracy: 0.8343 - val_loss: 0.3628 - val_accuracy: 0.8339\n",
      "Epoch 18/300\n",
      "71786/71786 [==============================] - 12s 170us/sample - loss: 0.3686 - accuracy: 0.8353 - val_loss: 0.3590 - val_accuracy: 0.8336\n",
      "Epoch 19/300\n",
      "71786/71786 [==============================] - 12s 166us/sample - loss: 0.3684 - accuracy: 0.8346 - val_loss: 0.3592 - val_accuracy: 0.8339\n",
      "Epoch 20/300\n",
      "71786/71786 [==============================] - 11s 158us/sample - loss: 0.3701 - accuracy: 0.8336 - val_loss: 0.3593 - val_accuracy: 0.8345\n",
      "Epoch 21/300\n",
      "71786/71786 [==============================] - 12s 169us/sample - loss: 0.3691 - accuracy: 0.8345 - val_loss: 0.3590 - val_accuracy: 0.8352\n",
      "Epoch 22/300\n",
      "71786/71786 [==============================] - 11s 150us/sample - loss: 0.3681 - accuracy: 0.8348 - val_loss: 0.3605 - val_accuracy: 0.8349\n",
      "Epoch 23/300\n",
      "71786/71786 [==============================] - 12s 172us/sample - loss: 0.3718 - accuracy: 0.8345 - val_loss: 0.3594 - val_accuracy: 0.8346\n",
      "Epoch 24/300\n",
      "71786/71786 [==============================] - 11s 155us/sample - loss: 0.3703 - accuracy: 0.8345 - val_loss: 0.3616 - val_accuracy: 0.8336\n",
      "Epoch 25/300\n",
      "71786/71786 [==============================] - 11s 149us/sample - loss: 0.3680 - accuracy: 0.8351 - val_loss: 0.3601 - val_accuracy: 0.8343\n",
      "Epoch 26/300\n",
      "71786/71786 [==============================] - 12s 162us/sample - loss: 0.3687 - accuracy: 0.8346 - val_loss: 0.3610 - val_accuracy: 0.8350\n",
      "Epoch 27/300\n",
      "71786/71786 [==============================] - 12s 163us/sample - loss: 0.3693 - accuracy: 0.8350 - val_loss: 0.3593 - val_accuracy: 0.8351\n",
      "Epoch 28/300\n",
      "71786/71786 [==============================] - 12s 171us/sample - loss: 0.3689 - accuracy: 0.8341 - val_loss: 0.3599 - val_accuracy: 0.8356\n",
      "Epoch 29/300\n",
      "71786/71786 [==============================] - 12s 166us/sample - loss: 0.3707 - accuracy: 0.8342 - val_loss: 0.3597 - val_accuracy: 0.8342\n",
      "Epoch 30/300\n",
      "71786/71786 [==============================] - 12s 169us/sample - loss: 0.3681 - accuracy: 0.8351 - val_loss: 0.3600 - val_accuracy: 0.8354\n",
      "Epoch 31/300\n",
      "71786/71786 [==============================] - 11s 154us/sample - loss: 0.3680 - accuracy: 0.8344 - val_loss: 0.3632 - val_accuracy: 0.8347\n",
      "Epoch 32/300\n",
      "71786/71786 [==============================] - 11s 159us/sample - loss: 0.3694 - accuracy: 0.8348 - val_loss: 0.3600 - val_accuracy: 0.8354\n",
      "Epoch 33/300\n",
      "71786/71786 [==============================] - 11s 155us/sample - loss: 0.3699 - accuracy: 0.8344 - val_loss: 0.3601 - val_accuracy: 0.8349\n",
      "Epoch 34/300\n",
      "71786/71786 [==============================] - 12s 168us/sample - loss: 0.3691 - accuracy: 0.8347 - val_loss: 0.3590 - val_accuracy: 0.8357\n",
      "Epoch 35/300\n",
      "71786/71786 [==============================] - 11s 158us/sample - loss: 0.3693 - accuracy: 0.8348 - val_loss: 0.3599 - val_accuracy: 0.8345\n",
      "Epoch 36/300\n",
      "71786/71786 [==============================] - 12s 173us/sample - loss: 0.3690 - accuracy: 0.8344 - val_loss: 0.3598 - val_accuracy: 0.8346\n",
      "Epoch 37/300\n",
      "71786/71786 [==============================] - 12s 173us/sample - loss: 0.3700 - accuracy: 0.8352 - val_loss: 0.3615 - val_accuracy: 0.8349\n",
      "Epoch 38/300\n",
      "71786/71786 [==============================] - 12s 174us/sample - loss: 0.3689 - accuracy: 0.8345 - val_loss: 0.3596 - val_accuracy: 0.8346\n",
      "Epoch 39/300\n",
      "71786/71786 [==============================] - 13s 187us/sample - loss: 0.3695 - accuracy: 0.8349 - val_loss: 0.3606 - val_accuracy: 0.8346\n",
      "Epoch 40/300\n",
      "71786/71786 [==============================] - 13s 177us/sample - loss: 0.3685 - accuracy: 0.8350 - val_loss: 0.3600 - val_accuracy: 0.8352\n",
      "Epoch 41/300\n",
      "71786/71786 [==============================] - 12s 173us/sample - loss: 0.3697 - accuracy: 0.8345 - val_loss: 0.3593 - val_accuracy: 0.8353\n",
      "Epoch 42/300\n",
      "71786/71786 [==============================] - 11s 159us/sample - loss: 0.3679 - accuracy: 0.8354 - val_loss: 0.3593 - val_accuracy: 0.8336\n",
      "Epoch 43/300\n",
      "71786/71786 [==============================] - 13s 180us/sample - loss: 0.3683 - accuracy: 0.8347 - val_loss: 0.3605 - val_accuracy: 0.8355\n",
      "Epoch 44/300\n",
      "71786/71786 [==============================] - 15s 208us/sample - loss: 0.3690 - accuracy: 0.8344 - val_loss: 0.3597 - val_accuracy: 0.8345\n",
      "Epoch 45/300\n",
      "66976/71786 [==========================>...] - ETA: 0s - loss: 0.3692 - accuracy: 0.8354"
     ]
    }
   ],
   "source": [
    "index= return_index_list(params['batch_size'], params['optimizer'])\n",
    "\n",
    "df= pd.DataFrame({  'Accuracy': grid_search_acc.cv_results_['mean_test_score'],\n",
    "                    'Precision(Avg)': grid_search_prec_avg.cv_results_['mean_test_score'],\n",
    "                    'Recall(Avg)': grid_search_rec.cv_results_['mean_test_score'],\n",
    "                    'std_cross_validation': grid_search_acc.cv_results_['std_test_score']},\n",
    "                 index=index)\n",
    "\n",
    "writer = pd.ExcelWriter('tables_smote.xlsx')\n",
    "df.to_excel(writer, 'ANN_smote')\n",
    "writer.save()\n",
    "writer.close()"
   ]
  },
  {
   "cell_type": "code",
   "execution_count": null,
   "outputs": [],
   "source": [
    "df"
   ],
   "metadata": {
    "collapsed": false,
    "pycharm": {
     "name": "#%%\n"
    }
   }
  },
  {
   "cell_type": "code",
   "execution_count": null,
   "outputs": [],
   "source": [
    "## check for overfiting\n",
    "model_ov= create_model(\"adam\")\n",
    "history= model_ov.fit(x=X_train, y=Y_train, epochs=300, batch_size=800, validation_data=(X_test, Y_test), verbose=1, callbacks=[early_stop])\n"
   ],
   "metadata": {
    "collapsed": false,
    "pycharm": {
     "name": "#%%\n"
    }
   }
  },
  {
   "cell_type": "code",
   "execution_count": null,
   "outputs": [],
   "source": [
    "# Get training and test loss histories\n",
    "training_loss = history.history['loss']\n",
    "test_loss = history.history['val_loss']\n",
    "\n",
    "# Create count of the number of epochs\n",
    "epoch_count = range(1, len(training_loss) + 1)\n",
    "\n",
    "# Visualize loss history\n",
    "_, ax = plt.subplots(1,1)\n",
    "ax.set_ylim([0.32,0.8])\n",
    "ax.plot(epoch_count, training_loss, 'r-')\n",
    "ax.plot(epoch_count, test_loss, 'b-')\n",
    "\n",
    "ax.set_xlabel('Epoch', fontsize=14)\n",
    "ax.set_ylabel('Loss', fontsize=14)\n",
    "ax.legend(['Training Loss', 'Test Loss'], fontsize=14)\n",
    "ax.grid('on')\n"
   ],
   "metadata": {
    "collapsed": false,
    "pycharm": {
     "name": "#%%\n"
    }
   }
  }
 ],
 "metadata": {
  "kernelspec": {
   "display_name": "Python 3",
   "language": "python",
   "name": "python3"
  },
  "language_info": {
   "codemirror_mode": {
    "name": "ipython",
    "version": 3
   },
   "file_extension": ".py",
   "mimetype": "text/x-python",
   "name": "python",
   "nbconvert_exporter": "python",
   "pygments_lexer": "ipython3",
   "version": "3.5.3"
  },
  "pycharm": {
   "stem_cell": {
    "cell_type": "raw",
    "source": [],
    "metadata": {
     "collapsed": false
    }
   }
  }
 },
 "nbformat": 4,
 "nbformat_minor": 1
}