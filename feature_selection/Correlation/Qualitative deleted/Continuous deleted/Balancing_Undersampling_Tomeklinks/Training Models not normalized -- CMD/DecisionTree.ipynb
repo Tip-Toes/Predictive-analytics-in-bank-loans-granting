{
 "cells": [
  {
   "cell_type": "code",
   "execution_count": 1,
   "metadata": {
    "pycharm": {
     "is_executing": false
    }
   },
   "outputs": [],
   "source": [
    "from pylab import rcParams\n",
    "rcParams['figure.figsize'] = 10, 5\n",
    "import warnings\n",
    "warnings.filterwarnings('ignore')\n",
    "from sklearn.tree import DecisionTreeClassifier\n",
    "import pandas as pd\n",
    "from sklearn.model_selection import GridSearchCV, train_test_split\n",
    "from sklearn.metrics import confusion_matrix, classification_report, average_precision_score, accuracy_score\n",
    "import csv"
   ]
  },
  {
   "cell_type": "code",
   "execution_count": 99,
   "metadata": {
    "pycharm": {
     "is_executing": false,
     "name": "#%%\n"
    }
   },
   "outputs": [],
   "source": []
  },
  {
   "cell_type": "code",
   "execution_count": 2,
   "metadata": {
    "pycharm": {
     "is_executing": false,
     "name": "#%%\n"
    }
   },
   "outputs": [],
   "source": [
    "def get_algo_path():\n",
    "    import os\n",
    "    cwd = os.getcwd()\n",
    "    s='\\\\'\n",
    "    if '\\\\' not in cwd:\n",
    "        s='/'\n",
    "    cwd= cwd.split(s)[4:-1]\n",
    "    cwd.append('Not Normalized')\n",
    "    cwd='/'.join(cwd)\n",
    "    return cwd\n",
    "\n",
    "def get_csv_path():\n",
    "    import os\n",
    "    cwd = os.getcwd()\n",
    "    s=\"\\\\\"\n",
    "    if \"\\\\\" not in cwd:\n",
    "        s='/'\n",
    "    file= cwd.split(s)[:4]\n",
    "    file.append('models_scores.csv')\n",
    "    file= s.join(file)\n",
    "    return file\n",
    "\n",
    "def line_is_exist(file, row):\n",
    "    logfile = open(file, 'r')\n",
    "    loglist = logfile.readlines()\n",
    "    logfile.close()\n",
    "    for line in loglist:\n",
    "        if ','.join(row) in line:\n",
    "            return True\n",
    "    return False\n",
    "\n",
    "def write_new_score(file, line):\n",
    "    if( not line_is_exist(file, line) ):\n",
    "        with open(file, 'a') as f:\n",
    "            writer = csv.writer(f)\n",
    "            writer.writerow(line)\n",
    "    else:\n",
    "        print('line exsist already')\n",
    "    "
   ]
  },
  {
   "cell_type": "code",
   "execution_count": 3,
   "metadata": {
    "pycharm": {
     "is_executing": false,
     "name": "#%%\n"
    }
   },
   "outputs": [],
   "source": [
    "data= pd.read_csv('../data.csv')"
   ]
  },
  {
   "cell_type": "code",
   "execution_count": 4,
   "metadata": {
    "pycharm": {
     "is_executing": false,
     "name": "#%%\n"
    }
   },
   "outputs": [],
   "source": [
    "##copying data\n",
    "data1=data.copy()\n",
    "### spliting data en X et Y\n",
    "X= data1.drop('Loan Status', axis=1)\n",
    "Y= data1['Loan Status']\n",
    "### spliting the data to train and test\n",
    "X_train , X_test , Y_train , Y_test = train_test_split(X, Y, test_size = 0.30, random_state = 123)\n",
    "## dicision tree (CART)\n",
    "dct = DecisionTreeClassifier()\n",
    "params={'criterion' : ['gini', 'entropy'],\n",
    "        'max_depth': [4, 5, 6, 7, 8, 9, 10, 11, 12, 13,14, 15, 16, 17, None]}\n",
    "\n",
    "##accuracy\n",
    "grid_search_acc= GridSearchCV(estimator=dct, param_grid= params, scoring='accuracy',cv=2, n_jobs=-1)\n",
    "grid_search_acc= grid_search_acc.fit(X_train, Y_train)\n",
    "y_predict= grid_search_acc.best_estimator_.predict(X_test)\n"
   ]
  },
  {
   "cell_type": "code",
   "execution_count": 5,
   "metadata": {
    "pycharm": {
     "is_executing": false,
     "name": "#%%\n"
    }
   },
   "outputs": [],
   "source": [
    "## get avg precision & avg recall\n",
    "report= classification_report(Y_test, y_predict, output_dict=True)\n",
    "avg_list = report.pop(\"weighted avg\")\n",
    "avg_precision= round(avg_list['precision'], 3)\n",
    "avg_recall= round(avg_list['recall'], 3)\n",
    "accuraccy= round(accuracy_score(Y_test,y_predict), 3)\n",
    "## csv row\n",
    "csv_row = [get_algo_path(), 'Decision Tree', str(grid_search_acc.best_params_), str(accuraccy), str(avg_precision), str(avg_recall)]\n",
    "## write file\n",
    "csv_file= get_csv_path()\n",
    "write_new_score(csv_file, csv_row)"
   ]
  },
  {
   "cell_type": "code",
   "execution_count": 6,
   "metadata": {
    "pycharm": {
     "is_executing": false,
     "name": "#%%\n"
    }
   },
   "outputs": [
    {
     "name": "stdout",
     "output_type": "stream",
     "text": [
      "----------\n",
      "best parameters:  {'criterion': 'entropy', 'max_depth': 7}\n",
      "----------\n",
      "[[ 1297  3655]\n",
      " [    6 13405]]\n",
      "----------\n",
      "              precision    recall  f1-score   support\n",
      "\n",
      "           0       1.00      0.26      0.41      4952\n",
      "           1       0.79      1.00      0.88     13411\n",
      "\n",
      "    accuracy                           0.80     18363\n",
      "   macro avg       0.89      0.63      0.65     18363\n",
      "weighted avg       0.84      0.80      0.75     18363\n",
      "\n",
      "----------\n"
     ]
    }
   ],
   "source": [
    "## evaluating the model\n",
    "print(\"----------\")\n",
    "print('best parameters: ', grid_search_acc.best_params_)\n",
    "print(\"----------\")\n",
    "print(confusion_matrix(Y_test,y_predict))\n",
    "print(\"----------\")\n",
    "print(classification_report(Y_test, y_predict))\n",
    "print(\"----------\")\n"
   ]
  },
  {
   "cell_type": "code",
   "execution_count": 7,
   "metadata": {
    "collapsed": false,
    "pycharm": {
     "is_executing": false,
     "name": "#%%\n"
    }
   },
   "outputs": [
    {
     "data": {
      "text/plain": [
       "{'mean_fit_time': array([0.14909983, 0.18500364, 0.20794344, 0.25980556, 0.26080179,\n",
       "        0.28224385, 0.33460546, 0.34707248, 0.33859468, 0.37549472,\n",
       "        0.42137265, 0.4303484 , 0.44530821, 0.44780314, 0.55451643,\n",
       "        0.19148993, 0.24983156, 0.26878011, 0.32463109, 0.33310854,\n",
       "        0.38546872, 0.44082105, 0.48470366, 0.47672486, 0.5305804 ,\n",
       "        0.5450418 , 0.59740222, 0.57795405, 0.54404461, 0.53905749]),\n",
       " 'std_fit_time': array([0.00548506, 0.00748003, 0.01047301, 0.00249374, 0.00149655,\n",
       "        0.00099695, 0.01446104, 0.01196778, 0.00249267, 0.01446056,\n",
       "        0.00448704, 0.01745415, 0.01745391, 0.00698149, 0.01196778,\n",
       "        0.0049839 , 0.02842391, 0.00648224, 0.02643049, 0.00199521,\n",
       "        0.01146984, 0.01495993, 0.01296532, 0.00099778, 0.01994598,\n",
       "        0.01845002, 0.00698078, 0.01047134, 0.00249374, 0.01944852]),\n",
       " 'mean_score_time': array([0.00947559, 0.0099746 , 0.01097143, 0.01246643, 0.01097023,\n",
       "        0.01097047, 0.01246607, 0.01097071, 0.01097023, 0.01196933,\n",
       "        0.01496017, 0.01246595, 0.01296568, 0.01296473, 0.01396239,\n",
       "        0.0099709 , 0.01346409, 0.00997388, 0.01047146, 0.00997353,\n",
       "        0.0104717 , 0.01097155, 0.01097131, 0.01097095, 0.01097143,\n",
       "        0.01346433, 0.01146972, 0.0114696 , 0.00947499, 0.00847733]),\n",
       " 'std_score_time': array([4.99129295e-04, 1.07288361e-06, 9.96947289e-04, 4.98294830e-04,\n",
       "        5.96046448e-07, 9.98139381e-04, 1.49571896e-03, 1.07288361e-06,\n",
       "        1.19209290e-07, 2.38418579e-07, 2.99274921e-03, 4.98294830e-04,\n",
       "        2.38418579e-07, 4.76837158e-07, 1.19209290e-07, 9.99927521e-04,\n",
       "        4.48811054e-03, 3.57627869e-07, 4.98414040e-04, 0.00000000e+00,\n",
       "        4.98414040e-04, 0.00000000e+00, 4.76837158e-07, 1.19209290e-07,\n",
       "        1.19209290e-07, 4.98414040e-04, 4.99129295e-04, 4.98533249e-04,\n",
       "        4.98533249e-04, 4.98652458e-04]),\n",
       " 'param_criterion': masked_array(data=['gini', 'gini', 'gini', 'gini', 'gini', 'gini', 'gini',\n",
       "                    'gini', 'gini', 'gini', 'gini', 'gini', 'gini', 'gini',\n",
       "                    'gini', 'entropy', 'entropy', 'entropy', 'entropy',\n",
       "                    'entropy', 'entropy', 'entropy', 'entropy', 'entropy',\n",
       "                    'entropy', 'entropy', 'entropy', 'entropy', 'entropy',\n",
       "                    'entropy'],\n",
       "              mask=[False, False, False, False, False, False, False, False,\n",
       "                    False, False, False, False, False, False, False, False,\n",
       "                    False, False, False, False, False, False, False, False,\n",
       "                    False, False, False, False, False, False],\n",
       "        fill_value='?',\n",
       "             dtype=object),\n",
       " 'param_max_depth': masked_array(data=[4, 5, 6, 7, 8, 9, 10, 11, 12, 13, 14, 15, 16, 17, None,\n",
       "                    4, 5, 6, 7, 8, 9, 10, 11, 12, 13, 14, 15, 16, 17, None],\n",
       "              mask=[False, False, False, False, False, False, False, False,\n",
       "                    False, False, False, False, False, False, False, False,\n",
       "                    False, False, False, False, False, False, False, False,\n",
       "                    False, False, False, False, False, False],\n",
       "        fill_value='?',\n",
       "             dtype=object),\n",
       " 'params': [{'criterion': 'gini', 'max_depth': 4},\n",
       "  {'criterion': 'gini', 'max_depth': 5},\n",
       "  {'criterion': 'gini', 'max_depth': 6},\n",
       "  {'criterion': 'gini', 'max_depth': 7},\n",
       "  {'criterion': 'gini', 'max_depth': 8},\n",
       "  {'criterion': 'gini', 'max_depth': 9},\n",
       "  {'criterion': 'gini', 'max_depth': 10},\n",
       "  {'criterion': 'gini', 'max_depth': 11},\n",
       "  {'criterion': 'gini', 'max_depth': 12},\n",
       "  {'criterion': 'gini', 'max_depth': 13},\n",
       "  {'criterion': 'gini', 'max_depth': 14},\n",
       "  {'criterion': 'gini', 'max_depth': 15},\n",
       "  {'criterion': 'gini', 'max_depth': 16},\n",
       "  {'criterion': 'gini', 'max_depth': 17},\n",
       "  {'criterion': 'gini', 'max_depth': None},\n",
       "  {'criterion': 'entropy', 'max_depth': 4},\n",
       "  {'criterion': 'entropy', 'max_depth': 5},\n",
       "  {'criterion': 'entropy', 'max_depth': 6},\n",
       "  {'criterion': 'entropy', 'max_depth': 7},\n",
       "  {'criterion': 'entropy', 'max_depth': 8},\n",
       "  {'criterion': 'entropy', 'max_depth': 9},\n",
       "  {'criterion': 'entropy', 'max_depth': 10},\n",
       "  {'criterion': 'entropy', 'max_depth': 11},\n",
       "  {'criterion': 'entropy', 'max_depth': 12},\n",
       "  {'criterion': 'entropy', 'max_depth': 13},\n",
       "  {'criterion': 'entropy', 'max_depth': 14},\n",
       "  {'criterion': 'entropy', 'max_depth': 15},\n",
       "  {'criterion': 'entropy', 'max_depth': 16},\n",
       "  {'criterion': 'entropy', 'max_depth': 17},\n",
       "  {'criterion': 'entropy', 'max_depth': None}],\n",
       " 'split0_test_score': array([0.80716986, 0.80716986, 0.80693647, 0.80726322, 0.80502264,\n",
       "        0.80189516, 0.79886104, 0.79508005, 0.7894786 , 0.77958269,\n",
       "        0.77468142, 0.77454138, 0.76399197, 0.75741026, 0.72660225,\n",
       "        0.80716986, 0.80716986, 0.80707651, 0.80674975, 0.80712319,\n",
       "        0.80161509, 0.79965458, 0.79750735, 0.79022546, 0.78723802,\n",
       "        0.77981609, 0.77790225, 0.7720674 , 0.76515894, 0.73355739]),\n",
       " 'split1_test_score': array([0.80711418, 0.80711418, 0.80697414, 0.80650733, 0.80295957,\n",
       "        0.80253945, 0.79539726, 0.7898889 , 0.7840071 , 0.77513771,\n",
       "        0.77523107, 0.76682849, 0.75931286, 0.75599851, 0.73107086,\n",
       "        0.8070675 , 0.8070675 , 0.8070675 , 0.8078144 , 0.80664737,\n",
       "        0.80548035, 0.79913173, 0.79521053, 0.79212959, 0.78241994,\n",
       "        0.77523107, 0.76776211, 0.76575483, 0.76454113, 0.72915694]),\n",
       " 'mean_test_score': array([0.80714202, 0.80714202, 0.8069553 , 0.80688528, 0.80399113,\n",
       "        0.80221729, 0.79712919, 0.79248454, 0.78674291, 0.77736025,\n",
       "        0.77495624, 0.77068503, 0.76165247, 0.7567044 , 0.7288365 ,\n",
       "        0.80711868, 0.80711868, 0.807072  , 0.80728206, 0.80688528,\n",
       "        0.80354767, 0.79939316, 0.79635897, 0.7911775 , 0.78482903,\n",
       "        0.77752363, 0.7728323 , 0.76891119, 0.76485004, 0.73135722]),\n",
       " 'std_test_score': array([2.78412411e-05, 2.78412411e-05, 1.88342935e-05, 3.77946428e-04,\n",
       "        1.03153247e-03, 3.22143011e-04, 1.73189102e-03, 2.59557744e-03,\n",
       "        2.73575113e-03, 2.22249130e-03, 2.74826847e-04, 3.85644334e-03,\n",
       "        2.33955765e-03, 7.05876896e-04, 2.23430591e-03, 5.11817322e-05,\n",
       "        5.11817322e-05, 4.50292908e-06, 5.32320739e-04, 2.37906750e-04,\n",
       "        1.93263036e-03, 2.61421562e-04, 1.14841034e-03, 9.52063893e-04,\n",
       "        2.40903655e-03, 2.29250733e-03, 5.07007043e-03, 3.15628635e-03,\n",
       "        3.08907690e-04, 2.20022506e-03]),\n",
       " 'rank_test_score': array([ 2,  2,  7,  8, 10, 12, 14, 16, 18, 21, 22, 24, 27, 28, 30,  4,  4,\n",
       "         6,  1,  8, 11, 13, 15, 17, 19, 20, 23, 25, 26, 29])}"
      ]
     },
     "execution_count": 7,
     "metadata": {},
     "output_type": "execute_result"
    }
   ],
   "source": [
    "grid_search_acc.cv_results_\n",
    "\n"
   ]
  }
 ],
 "metadata": {
  "kernelspec": {
   "display_name": "Python 3",
   "language": "python",
   "name": "python3"
  },
  "language_info": {
   "codemirror_mode": {
    "name": "ipython",
    "version": 3
   },
   "file_extension": ".py",
   "mimetype": "text/x-python",
   "name": "python",
   "nbconvert_exporter": "python",
   "pygments_lexer": "ipython3",
   "version": "3.7.4"
  },
  "pycharm": {
   "stem_cell": {
    "cell_type": "raw",
    "metadata": {
     "collapsed": false
    },
    "source": []
   }
  }
 },
 "nbformat": 4,
 "nbformat_minor": 1
}
