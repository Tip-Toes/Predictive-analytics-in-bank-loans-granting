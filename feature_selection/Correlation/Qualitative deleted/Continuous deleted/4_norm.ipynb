{
 "cells": [
  {
   "cell_type": "code",
   "execution_count": 3,
   "metadata": {
    "pycharm": {
     "is_executing": false
    }
   },
   "outputs": [],
   "source": [
    "import pandas as pd\n",
    "import numpy as np"
   ]
  },
  {
   "cell_type": "markdown",
   "metadata": {},
   "source": [
    " "
   ]
  },
  {
   "cell_type": "markdown",
   "metadata": {},
   "source": [
    " # Data introduction start"
   ]
  },
  {
   "cell_type": "code",
   "execution_count": 4,
   "metadata": {
    "pycharm": {
     "is_executing": false
    }
   },
   "outputs": [
    {
     "data": {
      "text/plain": "   Loan Status  Current Loan Amount        Term  Credit Score  Annual Income  \\\n0   Fully Paid             445412.0  Short Term         709.0      1167493.0   \n1   Fully Paid           99999999.0  Short Term         741.0      2231892.0   \n2   Fully Paid             347666.0   Long Term         721.0       806949.0   \n3  Charged Off             206602.0  Short Term        7290.0       896857.0   \n4   Fully Paid             217646.0  Short Term         730.0      1184194.0   \n\n  Years in current job Home Ownership             Purpose  Monthly Debt  \\\n0              8 years  Home Mortgage   Home Improvements       5214.74   \n1              8 years       Own Home  Debt Consolidation      29200.53   \n2              3 years       Own Home  Debt Consolidation       8741.90   \n3            10+ years  Home Mortgage  Debt Consolidation      16367.74   \n4             < 1 year  Home Mortgage  Debt Consolidation      10855.08   \n\n   Years of Credit History  Number of Open Accounts Number of Credit Problems  \\\n0                     17.2                      6.0                       1.0   \n1                     14.9                     18.0                       1.0   \n2                     12.0                      9.0                       0.0   \n3                     17.3                      6.0                       0.0   \n4                     19.6                     13.0                       1.0   \n\n   Current Credit Balance  Maximum Open Credit Bankruptcies  \n0                228190.0             416746.0          >=1  \n1                297996.0             750090.0          0.0  \n2                256329.0             386958.0          0.0  \n3                215308.0             272448.0          0.0  \n4                122170.0             272052.0          >=1  ",
      "text/html": "<div>\n<style scoped>\n    .dataframe tbody tr th:only-of-type {\n        vertical-align: middle;\n    }\n\n    .dataframe tbody tr th {\n        vertical-align: top;\n    }\n\n    .dataframe thead th {\n        text-align: right;\n    }\n</style>\n<table border=\"1\" class=\"dataframe\">\n  <thead>\n    <tr style=\"text-align: right;\">\n      <th></th>\n      <th>Loan Status</th>\n      <th>Current Loan Amount</th>\n      <th>Term</th>\n      <th>Credit Score</th>\n      <th>Annual Income</th>\n      <th>Years in current job</th>\n      <th>Home Ownership</th>\n      <th>Purpose</th>\n      <th>Monthly Debt</th>\n      <th>Years of Credit History</th>\n      <th>Number of Open Accounts</th>\n      <th>Number of Credit Problems</th>\n      <th>Current Credit Balance</th>\n      <th>Maximum Open Credit</th>\n      <th>Bankruptcies</th>\n    </tr>\n  </thead>\n  <tbody>\n    <tr>\n      <td>0</td>\n      <td>Fully Paid</td>\n      <td>445412.0</td>\n      <td>Short Term</td>\n      <td>709.0</td>\n      <td>1167493.0</td>\n      <td>8 years</td>\n      <td>Home Mortgage</td>\n      <td>Home Improvements</td>\n      <td>5214.74</td>\n      <td>17.2</td>\n      <td>6.0</td>\n      <td>1.0</td>\n      <td>228190.0</td>\n      <td>416746.0</td>\n      <td>&gt;=1</td>\n    </tr>\n    <tr>\n      <td>1</td>\n      <td>Fully Paid</td>\n      <td>99999999.0</td>\n      <td>Short Term</td>\n      <td>741.0</td>\n      <td>2231892.0</td>\n      <td>8 years</td>\n      <td>Own Home</td>\n      <td>Debt Consolidation</td>\n      <td>29200.53</td>\n      <td>14.9</td>\n      <td>18.0</td>\n      <td>1.0</td>\n      <td>297996.0</td>\n      <td>750090.0</td>\n      <td>0.0</td>\n    </tr>\n    <tr>\n      <td>2</td>\n      <td>Fully Paid</td>\n      <td>347666.0</td>\n      <td>Long Term</td>\n      <td>721.0</td>\n      <td>806949.0</td>\n      <td>3 years</td>\n      <td>Own Home</td>\n      <td>Debt Consolidation</td>\n      <td>8741.90</td>\n      <td>12.0</td>\n      <td>9.0</td>\n      <td>0.0</td>\n      <td>256329.0</td>\n      <td>386958.0</td>\n      <td>0.0</td>\n    </tr>\n    <tr>\n      <td>3</td>\n      <td>Charged Off</td>\n      <td>206602.0</td>\n      <td>Short Term</td>\n      <td>7290.0</td>\n      <td>896857.0</td>\n      <td>10+ years</td>\n      <td>Home Mortgage</td>\n      <td>Debt Consolidation</td>\n      <td>16367.74</td>\n      <td>17.3</td>\n      <td>6.0</td>\n      <td>0.0</td>\n      <td>215308.0</td>\n      <td>272448.0</td>\n      <td>0.0</td>\n    </tr>\n    <tr>\n      <td>4</td>\n      <td>Fully Paid</td>\n      <td>217646.0</td>\n      <td>Short Term</td>\n      <td>730.0</td>\n      <td>1184194.0</td>\n      <td>&lt; 1 year</td>\n      <td>Home Mortgage</td>\n      <td>Debt Consolidation</td>\n      <td>10855.08</td>\n      <td>19.6</td>\n      <td>13.0</td>\n      <td>1.0</td>\n      <td>122170.0</td>\n      <td>272052.0</td>\n      <td>&gt;=1</td>\n    </tr>\n  </tbody>\n</table>\n</div>"
     },
     "metadata": {},
     "output_type": "execute_result",
     "execution_count": 4
    }
   ],
   "source": [
    "data = pd.read_csv('3_credit_qmvd_cmvd.csv',encoding='latin-1')\n",
    "data.head()"
   ]
  },
  {
   "cell_type": "markdown",
   "metadata": {},
   "source": [
    "# Case1 : Z-score"
   ]
  },
  {
   "cell_type": "code",
   "execution_count": 5,
   "metadata": {
    "pycharm": {
     "is_executing": false
    }
   },
   "outputs": [],
   "source": [
    "data1= data.copy()\n",
    "cols= ['Current Loan Amount','Credit Score','Annual Income','Monthly Debt','Years of Credit History','Number of Open Accounts','Current Credit Balance','Maximum Open Credit']\n",
    "for col in cols:\n",
    "    data1[col] = (data1[col] - data1[col].mean())/data1[col].std(ddof=0)"
   ]
  },
  {
   "cell_type": "markdown",
   "metadata": {},
   "source": [
    "## Export the data"
   ]
  },
  {
   "cell_type": "code",
   "execution_count": 6,
   "metadata": {
    "pycharm": {
     "is_executing": false
    }
   },
   "outputs": [],
   "source": [
    "data1.to_csv(\"Z normalised/z_norm.csv\", index=False)\n",
    "\n"
   ]
  },
  {
   "cell_type": "markdown",
   "metadata": {},
   "source": [
    "# CASE2 : MinMax"
   ]
  },
  {
   "cell_type": "code",
   "execution_count": 7,
   "metadata": {
    "pycharm": {
     "is_executing": false
    }
   },
   "outputs": [],
   "source": [
    "data2=data.copy()\n",
    "for col in cols:\n",
    "    data2[col] = (data2[col] - data2[col].min())/(data2[col].max() - data2[col].min())\n"
   ]
  },
  {
   "cell_type": "markdown",
   "metadata": {
    "pycharm": {
     "is_executing": false,
     "name": "#%% md\n"
    }
   },
   "source": [
    "## Export the data"
   ]
  },
  {
   "cell_type": "code",
   "execution_count": 8,
   "metadata": {
    "pycharm": {
     "is_executing": false
    }
   },
   "outputs": [],
   "source": [
    "data2.to_csv(\"MinMax normalised/min_max_norm.csv\", index=False)"
   ]
  },
  {
   "cell_type": "markdown",
   "metadata": {},
   "source": [
    " "
   ]
  },
  {
   "cell_type": "markdown",
   "metadata": {},
   "source": [
    "# CASE3 : Logistic"
   ]
  },
  {
   "cell_type": "code",
   "execution_count": 9,
   "metadata": {
    "pycharm": {
     "is_executing": false
    }
   },
   "outputs": [],
   "source": [
    "data3=data.copy()\n",
    "for col in cols:\n",
    "    data3[col] = (1 / (1 + np.exp(-data3[col])))\n"
   ]
  },
  {
   "cell_type": "markdown",
   "metadata": {
    "pycharm": {
     "is_executing": false,
     "name": "#%% md\n"
    }
   },
   "source": [
    "## Export the data"
   ]
  },
  {
   "cell_type": "code",
   "execution_count": 10,
   "metadata": {
    "pycharm": {
     "is_executing": false
    }
   },
   "outputs": [],
   "source": [
    "data3.to_csv(\"Logistic normalised/logis_norm.csv\", index=False)"
   ]
  },
  {
   "cell_type": "markdown",
   "metadata": {},
   "source": [
    " end"
   ]
  }
 ],
 "metadata": {
  "kernelspec": {
   "display_name": "Python 3",
   "language": "python",
   "name": "python3"
  },
  "language_info": {
   "codemirror_mode": {
    "name": "ipython",
    "version": 3
   },
   "file_extension": ".py",
   "mimetype": "text/x-python",
   "name": "python",
   "nbconvert_exporter": "python",
   "pygments_lexer": "ipython3",
   "version": "3.7.4"
  },
  "pycharm": {
   "stem_cell": {
    "cell_type": "raw",
    "source": [],
    "metadata": {
     "collapsed": false
    }
   }
  }
 },
 "nbformat": 4,
 "nbformat_minor": 2
}