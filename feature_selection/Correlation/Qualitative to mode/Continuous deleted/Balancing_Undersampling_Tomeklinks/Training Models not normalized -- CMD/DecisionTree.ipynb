{
 "cells": [
  {
   "cell_type": "code",
   "execution_count": 1,
   "metadata": {
    "pycharm": {
     "is_executing": false
    }
   },
   "outputs": [],
   "source": [
    "from pylab import rcParams\n",
    "rcParams['figure.figsize'] = 10, 5\n",
    "import warnings\n",
    "warnings.filterwarnings('ignore')\n",
    "from sklearn.tree import DecisionTreeClassifier\n",
    "import pandas as pd\n",
    "from sklearn.model_selection import GridSearchCV, train_test_split\n",
    "from sklearn.metrics import confusion_matrix, classification_report, average_precision_score, accuracy_score\n",
    "import csv"
   ]
  },
  {
   "cell_type": "code",
   "execution_count": 99,
   "metadata": {
    "pycharm": {
     "is_executing": false,
     "name": "#%%\n"
    }
   },
   "outputs": [],
   "source": []
  },
  {
   "cell_type": "code",
   "execution_count": 2,
   "metadata": {
    "pycharm": {
     "is_executing": false,
     "name": "#%%\n"
    }
   },
   "outputs": [],
   "source": [
    "def get_algo_path():\n",
    "    import os\n",
    "    cwd = os.getcwd()\n",
    "    s='\\\\'\n",
    "    if '\\\\' not in cwd:\n",
    "        s='/'\n",
    "    cwd= cwd.split(s)[4:-1]\n",
    "    cwd.append('Not Normalized')\n",
    "    cwd='/'.join(cwd)\n",
    "    return cwd\n",
    "\n",
    "def get_csv_path():\n",
    "    import os\n",
    "    cwd = os.getcwd()\n",
    "    s=\"\\\\\"\n",
    "    if \"\\\\\" not in cwd:\n",
    "        s='/'\n",
    "    file= cwd.split(s)[:4]\n",
    "    file.append('models_scores.csv')\n",
    "    file= s.join(file)\n",
    "    return file\n",
    "\n",
    "def line_is_exist(file, row):\n",
    "    logfile = open(file, 'r')\n",
    "    loglist = logfile.readlines()\n",
    "    logfile.close()\n",
    "    for line in loglist:\n",
    "        if ','.join(row) in line:\n",
    "            return True\n",
    "    return False\n",
    "\n",
    "def write_new_score(file, line):\n",
    "    if( not line_is_exist(file, line) ):\n",
    "        with open(file, 'a') as f:\n",
    "            writer = csv.writer(f)\n",
    "            writer.writerow(line)\n",
    "    else:\n",
    "        print('line exsist already')\n",
    "    "
   ]
  },
  {
   "cell_type": "code",
   "execution_count": 3,
   "metadata": {
    "pycharm": {
     "is_executing": false,
     "name": "#%%\n"
    }
   },
   "outputs": [],
   "source": [
    "data= pd.read_csv('../data.csv')"
   ]
  },
  {
   "cell_type": "code",
   "execution_count": 4,
   "metadata": {
    "pycharm": {
     "is_executing": false,
     "name": "#%%\n"
    }
   },
   "outputs": [],
   "source": [
    "##copying data\n",
    "data1=data.copy()\n",
    "### spliting data en X et Y\n",
    "X= data1.drop('Loan Status', axis=1)\n",
    "Y= data1['Loan Status']\n",
    "### spliting the data to train and test\n",
    "X_train , X_test , Y_train , Y_test = train_test_split(X, Y, test_size = 0.30, random_state = 123)\n",
    "## dicision tree (CART)\n",
    "dct = DecisionTreeClassifier()\n",
    "params={'criterion' : ['gini', 'entropy'],\n",
    "        'max_depth': [4, 5, 6, 7, 8, 9, 10, 11, 12, 13,14, 15, 16, 17, None]}\n",
    "\n",
    "##accuracy\n",
    "grid_search_acc= GridSearchCV(estimator=dct, param_grid= params, scoring='accuracy',cv=2, n_jobs=-1)\n",
    "grid_search_acc= grid_search_acc.fit(X_train, Y_train)\n",
    "y_predict= grid_search_acc.best_estimator_.predict(X_test)\n"
   ]
  },
  {
   "cell_type": "code",
   "execution_count": 5,
   "metadata": {
    "pycharm": {
     "is_executing": false,
     "name": "#%%\n"
    }
   },
   "outputs": [],
   "source": [
    "## get avg precision & avg recall\n",
    "report= classification_report(Y_test, y_predict, output_dict=True)\n",
    "avg_list = report.pop(\"weighted avg\")\n",
    "avg_precision= round(avg_list['precision'], 3)\n",
    "avg_recall= round(avg_list['recall'], 3)\n",
    "accuraccy= round(accuracy_score(Y_test,y_predict), 3)\n",
    "## csv row\n",
    "csv_row = [get_algo_path(), 'Decision Tree', str(grid_search_acc.best_params_), str(accuraccy), str(avg_precision), str(avg_recall)]\n",
    "## write file\n",
    "csv_file= get_csv_path()\n",
    "write_new_score(csv_file, csv_row)"
   ]
  },
  {
   "cell_type": "code",
   "execution_count": 6,
   "metadata": {
    "pycharm": {
     "is_executing": false,
     "name": "#%%\n"
    }
   },
   "outputs": [
    {
     "name": "stdout",
     "output_type": "stream",
     "text": [
      "----------\n",
      "best parameters:  {'criterion': 'gini', 'max_depth': 4}\n",
      "----------\n",
      "[[ 1362  3812]\n",
      " [    0 13996]]\n",
      "----------\n",
      "              precision    recall  f1-score   support\n",
      "\n",
      "           0       1.00      0.26      0.42      5174\n",
      "           1       0.79      1.00      0.88     13996\n",
      "\n",
      "    accuracy                           0.80     19170\n",
      "   macro avg       0.89      0.63      0.65     19170\n",
      "weighted avg       0.84      0.80      0.76     19170\n",
      "\n",
      "----------\n"
     ]
    }
   ],
   "source": [
    "## evaluating the model\n",
    "print(\"----------\")\n",
    "print('best parameters: ', grid_search_acc.best_params_)\n",
    "print(\"----------\")\n",
    "print(confusion_matrix(Y_test,y_predict))\n",
    "print(\"----------\")\n",
    "print(classification_report(Y_test, y_predict))\n",
    "print(\"----------\")\n"
   ]
  },
  {
   "cell_type": "code",
   "execution_count": 7,
   "metadata": {
    "collapsed": false,
    "pycharm": {
     "is_executing": false,
     "name": "#%%\n"
    }
   },
   "outputs": [
    {
     "data": {
      "text/plain": [
       "{'mean_fit_time': array([0.15508461, 0.19547665, 0.22290409, 0.27277148, 0.30019796,\n",
       "        0.30518329, 0.35505068, 0.39843488, 0.46974432, 0.46774948,\n",
       "        0.48969018, 0.48919272, 0.51512146, 0.54154956, 0.57396376,\n",
       "        0.21991122, 0.26030374, 0.293715  , 0.37699139, 0.38945866,\n",
       "        0.40292203, 0.45777607, 0.53207672, 0.58842659, 0.59840059,\n",
       "        0.79487455, 0.84424233, 0.81880891, 0.78589845, 0.7315762 ]),\n",
       " 'std_fit_time': array([0.00049925, 0.01496017, 0.01545918, 0.02144158, 0.03590262,\n",
       "        0.01396191, 0.01495969, 0.01246786, 0.01795161, 0.01695478,\n",
       "        0.00498736, 0.01845121, 0.0054853 , 0.00299013, 0.01845086,\n",
       "        0.00049841, 0.01097035, 0.00448918, 0.01695526, 0.01645541,\n",
       "        0.00698125, 0.02493405, 0.00349081, 0.04288554, 0.00997353,\n",
       "        0.06382859, 0.00548553, 0.01196849, 0.00299191, 0.03939462]),\n",
       " 'mean_score_time': array([0.00997317, 0.01296568, 0.01146865, 0.01146722, 0.01346362,\n",
       "        0.0179522 , 0.01246738, 0.01346409, 0.01246715, 0.01396394,\n",
       "        0.01496136, 0.01346409, 0.01446247, 0.01446116, 0.01595783,\n",
       "        0.01097107, 0.01047182, 0.01097012, 0.01097083, 0.01246607,\n",
       "        0.01196826, 0.01246703, 0.01196849, 0.01246738, 0.0134635 ,\n",
       "        0.01545918, 0.01646018, 0.01396358, 0.0134635 , 0.00995827]),\n",
       " 'std_score_time': array([1.19209290e-07, 2.99143791e-03, 1.49559975e-03, 4.97817993e-04,\n",
       "        2.49254704e-03, 5.98406792e-03, 4.97817993e-04, 4.99129295e-04,\n",
       "        4.99725342e-04, 1.19209290e-06, 1.99615955e-03, 4.98890877e-04,\n",
       "        4.99010086e-04, 4.98890877e-04, 9.97781754e-04, 2.38418579e-07,\n",
       "        4.98533249e-04, 9.98973846e-04, 2.38418579e-07, 2.49302387e-03,\n",
       "        9.97662544e-04, 4.98890877e-04, 1.19209290e-07, 4.98533249e-04,\n",
       "        4.99010086e-04, 4.99129295e-04, 3.49473953e-03, 1.19209290e-07,\n",
       "        4.98294830e-04, 1.59740448e-05]),\n",
       " 'param_criterion': masked_array(data=['gini', 'gini', 'gini', 'gini', 'gini', 'gini', 'gini',\n",
       "                    'gini', 'gini', 'gini', 'gini', 'gini', 'gini', 'gini',\n",
       "                    'gini', 'entropy', 'entropy', 'entropy', 'entropy',\n",
       "                    'entropy', 'entropy', 'entropy', 'entropy', 'entropy',\n",
       "                    'entropy', 'entropy', 'entropy', 'entropy', 'entropy',\n",
       "                    'entropy'],\n",
       "              mask=[False, False, False, False, False, False, False, False,\n",
       "                    False, False, False, False, False, False, False, False,\n",
       "                    False, False, False, False, False, False, False, False,\n",
       "                    False, False, False, False, False, False],\n",
       "        fill_value='?',\n",
       "             dtype=object),\n",
       " 'param_max_depth': masked_array(data=[4, 5, 6, 7, 8, 9, 10, 11, 12, 13, 14, 15, 16, 17, None,\n",
       "                    4, 5, 6, 7, 8, 9, 10, 11, 12, 13, 14, 15, 16, 17, None],\n",
       "              mask=[False, False, False, False, False, False, False, False,\n",
       "                    False, False, False, False, False, False, False, False,\n",
       "                    False, False, False, False, False, False, False, False,\n",
       "                    False, False, False, False, False, False],\n",
       "        fill_value='?',\n",
       "             dtype=object),\n",
       " 'params': [{'criterion': 'gini', 'max_depth': 4},\n",
       "  {'criterion': 'gini', 'max_depth': 5},\n",
       "  {'criterion': 'gini', 'max_depth': 6},\n",
       "  {'criterion': 'gini', 'max_depth': 7},\n",
       "  {'criterion': 'gini', 'max_depth': 8},\n",
       "  {'criterion': 'gini', 'max_depth': 9},\n",
       "  {'criterion': 'gini', 'max_depth': 10},\n",
       "  {'criterion': 'gini', 'max_depth': 11},\n",
       "  {'criterion': 'gini', 'max_depth': 12},\n",
       "  {'criterion': 'gini', 'max_depth': 13},\n",
       "  {'criterion': 'gini', 'max_depth': 14},\n",
       "  {'criterion': 'gini', 'max_depth': 15},\n",
       "  {'criterion': 'gini', 'max_depth': 16},\n",
       "  {'criterion': 'gini', 'max_depth': 17},\n",
       "  {'criterion': 'gini', 'max_depth': None},\n",
       "  {'criterion': 'entropy', 'max_depth': 4},\n",
       "  {'criterion': 'entropy', 'max_depth': 5},\n",
       "  {'criterion': 'entropy', 'max_depth': 6},\n",
       "  {'criterion': 'entropy', 'max_depth': 7},\n",
       "  {'criterion': 'entropy', 'max_depth': 8},\n",
       "  {'criterion': 'entropy', 'max_depth': 9},\n",
       "  {'criterion': 'entropy', 'max_depth': 10},\n",
       "  {'criterion': 'entropy', 'max_depth': 11},\n",
       "  {'criterion': 'entropy', 'max_depth': 12},\n",
       "  {'criterion': 'entropy', 'max_depth': 13},\n",
       "  {'criterion': 'entropy', 'max_depth': 14},\n",
       "  {'criterion': 'entropy', 'max_depth': 15},\n",
       "  {'criterion': 'entropy', 'max_depth': 16},\n",
       "  {'criterion': 'entropy', 'max_depth': 17},\n",
       "  {'criterion': 'entropy', 'max_depth': None}],\n",
       " 'split0_test_score': array([0.80365766, 0.80365766, 0.80356823, 0.80110893, 0.8013325 ,\n",
       "        0.79784475, 0.79453586, 0.78872295, 0.7855482 , 0.77942229,\n",
       "        0.77356466, 0.76591844, 0.76131282, 0.75634949, 0.72106958,\n",
       "        0.80365766, 0.80365766, 0.80356823, 0.80186908, 0.80070649,\n",
       "        0.79905205, 0.79695046, 0.79256841, 0.78840994, 0.78626364,\n",
       "        0.78013772, 0.77347523, 0.76860132, 0.764577  , 0.72518333]),\n",
       " 'split1_test_score': array([0.8020838 , 0.80203908, 0.80136833, 0.80279927, 0.79783571,\n",
       "        0.79488441, 0.79103877, 0.78853463, 0.78585163, 0.78044091,\n",
       "        0.77511962, 0.76613156, 0.76264365, 0.75531011, 0.72405312,\n",
       "        0.80199437, 0.80199437, 0.80105531, 0.80007155, 0.80007155,\n",
       "        0.7919331 , 0.79197782, 0.78705898, 0.78741672, 0.78057506,\n",
       "        0.77002191, 0.76970889, 0.76452175, 0.7582167 , 0.72257747]),\n",
       " 'mean_test_score': array([0.80287075, 0.80284839, 0.80246831, 0.80195408, 0.79958414,\n",
       "        0.79636461, 0.79278735, 0.78862879, 0.78569991, 0.77993158,\n",
       "        0.77434212, 0.766025  , 0.76197822, 0.75582981, 0.72256132,\n",
       "        0.80282603, 0.80282603, 0.8023118 , 0.80097033, 0.80038903,\n",
       "        0.79549266, 0.79446419, 0.78981376, 0.78791334, 0.78341941,\n",
       "        0.77507993, 0.7715921 , 0.76656158, 0.76139692, 0.72388043]),\n",
       " 'std_test_score': array([7.86932485e-04, 8.09290845e-04, 1.09995152e-03, 8.45170794e-04,\n",
       "        1.74839394e-03, 1.48017161e-03, 1.74854590e-03, 9.41572475e-05,\n",
       "        1.51713728e-04, 5.09310519e-04, 7.77479870e-04, 1.06558119e-04,\n",
       "        6.65414140e-04, 5.19689901e-04, 1.49177368e-03, 8.31649205e-04,\n",
       "        8.31649205e-04, 1.25646004e-03, 8.98764274e-04, 3.17472913e-04,\n",
       "        3.55947207e-03, 2.48631779e-03, 2.75471608e-03, 4.96614722e-04,\n",
       "        2.84429049e-03, 5.05790507e-03, 1.88316694e-03, 2.03978444e-03,\n",
       "        3.18015076e-03, 1.30292932e-03]),\n",
       " 'rank_test_score': array([ 1,  2,  5,  7, 10, 11, 14, 16, 18, 20, 22, 25, 26, 28, 30,  3,  3,\n",
       "         6,  8,  9, 12, 13, 15, 17, 19, 21, 23, 24, 27, 29])}"
      ]
     },
     "execution_count": 7,
     "metadata": {},
     "output_type": "execute_result"
    }
   ],
   "source": [
    "grid_search_acc.cv_results_\n",
    "\n"
   ]
  }
 ],
 "metadata": {
  "kernelspec": {
   "display_name": "Python 3",
   "language": "python",
   "name": "python3"
  },
  "language_info": {
   "codemirror_mode": {
    "name": "ipython",
    "version": 3
   },
   "file_extension": ".py",
   "mimetype": "text/x-python",
   "name": "python",
   "nbconvert_exporter": "python",
   "pygments_lexer": "ipython3",
   "version": "3.7.4"
  },
  "pycharm": {
   "stem_cell": {
    "cell_type": "raw",
    "metadata": {
     "collapsed": false
    },
    "source": []
   }
  }
 },
 "nbformat": 4,
 "nbformat_minor": 1
}
