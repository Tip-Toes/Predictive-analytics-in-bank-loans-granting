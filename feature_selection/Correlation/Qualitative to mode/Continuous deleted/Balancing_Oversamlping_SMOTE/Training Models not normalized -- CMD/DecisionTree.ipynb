{
 "cells": [
  {
   "cell_type": "code",
   "execution_count": 1,
   "metadata": {
    "pycharm": {
     "is_executing": false
    }
   },
   "outputs": [],
   "source": [
    "from pylab import rcParams\n",
    "rcParams['figure.figsize'] = 10, 5\n",
    "import warnings\n",
    "warnings.filterwarnings('ignore')\n",
    "from sklearn.tree import DecisionTreeClassifier\n",
    "import pandas as pd\n",
    "from sklearn.model_selection import GridSearchCV, train_test_split\n",
    "from sklearn.metrics import confusion_matrix, classification_report, average_precision_score, accuracy_score\n",
    "import csv"
   ]
  },
  {
   "cell_type": "code",
   "execution_count": 99,
   "metadata": {
    "pycharm": {
     "is_executing": false,
     "name": "#%%\n"
    }
   },
   "outputs": [],
   "source": []
  },
  {
   "cell_type": "code",
   "execution_count": 2,
   "metadata": {
    "pycharm": {
     "is_executing": false,
     "name": "#%%\n"
    }
   },
   "outputs": [],
   "source": [
    "def get_algo_path():\n",
    "    import os\n",
    "    cwd = os.getcwd()\n",
    "    s='\\\\'\n",
    "    if '\\\\' not in cwd:\n",
    "        s='/'\n",
    "    cwd= cwd.split(s)[4:-1]\n",
    "    cwd.append('Not Normalized')\n",
    "    cwd='/'.join(cwd)\n",
    "    return cwd\n",
    "\n",
    "def get_csv_path():\n",
    "    import os\n",
    "    cwd = os.getcwd()\n",
    "    s=\"\\\\\"\n",
    "    if \"\\\\\" not in cwd:\n",
    "        s='/'\n",
    "    file= cwd.split(s)[:4]\n",
    "    file.append('models_scores.csv')\n",
    "    file= s.join(file)\n",
    "    return file\n",
    "\n",
    "def line_is_exist(file, row):\n",
    "    logfile = open(file, 'r')\n",
    "    loglist = logfile.readlines()\n",
    "    logfile.close()\n",
    "    for line in loglist:\n",
    "        if ','.join(row) in line:\n",
    "            return True\n",
    "    return False\n",
    "\n",
    "def write_new_score(file, line):\n",
    "    if( not line_is_exist(file, line) ):\n",
    "        with open(file, 'a') as f:\n",
    "            writer = csv.writer(f)\n",
    "            writer.writerow(line)\n",
    "    else:\n",
    "        print('line exsist already')\n",
    "    "
   ]
  },
  {
   "cell_type": "code",
   "execution_count": 3,
   "metadata": {
    "pycharm": {
     "is_executing": false,
     "name": "#%%\n"
    }
   },
   "outputs": [],
   "source": [
    "data= pd.read_csv('../data.csv')"
   ]
  },
  {
   "cell_type": "code",
   "execution_count": 4,
   "metadata": {
    "pycharm": {
     "is_executing": false,
     "name": "#%%\n"
    }
   },
   "outputs": [],
   "source": [
    "##copying data\n",
    "data1=data.copy()\n",
    "### spliting data en X et Y\n",
    "X= data1.drop('Loan Status', axis=1)\n",
    "Y= data1['Loan Status']\n",
    "### spliting the data to train and test\n",
    "X_train , X_test , Y_train , Y_test = train_test_split(X, Y, test_size = 0.30, random_state = 123)\n",
    "## dicision tree (CART)\n",
    "dct = DecisionTreeClassifier()\n",
    "params={'criterion' : ['gini', 'entropy'],\n",
    "        'max_depth': [4, 5, 6, 7, 8, 9, 10, 11, 12, 13,14, 15, 16, 17, None]}\n",
    "\n",
    "##accuracy\n",
    "grid_search_acc= GridSearchCV(estimator=dct, param_grid= params, scoring='accuracy',cv=2, n_jobs=-1)\n",
    "grid_search_acc= grid_search_acc.fit(X_train, Y_train)\n",
    "y_predict= grid_search_acc.best_estimator_.predict(X_test)\n"
   ]
  },
  {
   "cell_type": "code",
   "execution_count": 5,
   "metadata": {
    "pycharm": {
     "is_executing": false,
     "name": "#%%\n"
    }
   },
   "outputs": [],
   "source": [
    "## get avg precision & avg recall\n",
    "report= classification_report(Y_test, y_predict, output_dict=True)\n",
    "avg_list = report.pop(\"weighted avg\")\n",
    "avg_precision= round(avg_list['precision'], 3)\n",
    "avg_recall= round(avg_list['recall'], 3)\n",
    "accuraccy= round(accuracy_score(Y_test,y_predict), 3)\n",
    "## csv row\n",
    "csv_row = [get_algo_path(), 'Decision Tree', str(grid_search_acc.best_params_), str(accuraccy), str(avg_precision), str(avg_recall)]\n",
    "## write file\n",
    "csv_file= get_csv_path()\n",
    "write_new_score(csv_file, csv_row)"
   ]
  },
  {
   "cell_type": "code",
   "execution_count": 6,
   "metadata": {
    "pycharm": {
     "is_executing": false,
     "name": "#%%\n"
    }
   },
   "outputs": [
    {
     "name": "stdout",
     "output_type": "stream",
     "text": [
      "----------\n",
      "best parameters:  {'criterion': 'entropy', 'max_depth': 12}\n",
      "----------\n",
      "[[11578  4456]\n",
      " [  576 15377]]\n",
      "----------\n",
      "              precision    recall  f1-score   support\n",
      "\n",
      "           0       0.95      0.72      0.82     16034\n",
      "           1       0.78      0.96      0.86     15953\n",
      "\n",
      "    accuracy                           0.84     31987\n",
      "   macro avg       0.86      0.84      0.84     31987\n",
      "weighted avg       0.86      0.84      0.84     31987\n",
      "\n",
      "----------\n"
     ]
    }
   ],
   "source": [
    "## evaluating the model\n",
    "print(\"----------\")\n",
    "print('best parameters: ', grid_search_acc.best_params_)\n",
    "print(\"----------\")\n",
    "print(confusion_matrix(Y_test,y_predict))\n",
    "print(\"----------\")\n",
    "print(classification_report(Y_test, y_predict))\n",
    "print(\"----------\")\n"
   ]
  },
  {
   "cell_type": "code",
   "execution_count": 7,
   "metadata": {
    "collapsed": false,
    "pycharm": {
     "is_executing": false,
     "name": "#%%\n"
    }
   },
   "outputs": [
    {
     "data": {
      "text/plain": [
       "{'mean_fit_time': array([0.29471207, 0.33959174, 0.41838181, 0.46525609, 0.45977092,\n",
       "        0.54803395, 0.56199646, 0.60488319, 0.58194375, 0.65325236,\n",
       "        0.67718995, 0.72954953, 0.69115222, 0.77891707, 0.83526635,\n",
       "        0.41239595, 0.49268258, 0.5634923 , 0.63929033, 0.67220259,\n",
       "        0.67669082, 0.76345861, 0.83726108, 0.8841362 , 0.91106367,\n",
       "        0.96043599, 1.10703909, 1.05517876, 1.03922176, 0.97791755]),\n",
       " 'std_fit_time': array([0.00049758, 0.00149632, 0.0044874 , 0.01346338, 0.00199461,\n",
       "        0.02144313, 0.04637623, 0.02443361, 0.00448895, 0.01396346,\n",
       "        0.00399005, 0.04837072, 0.00299251, 0.02094364, 0.02243996,\n",
       "        0.0244348 , 0.02094424, 0.03191423, 0.0129652 , 0.01994681,\n",
       "        0.01745319, 0.04039133, 0.03241313, 0.00149608, 0.01446176,\n",
       "        0.00698602, 0.02892315, 0.04089057, 0.03291297, 0.05934298]),\n",
       " 'mean_score_time': array([0.01695383, 0.01994658, 0.01845109, 0.0179522 , 0.01745272,\n",
       "        0.01795173, 0.01894975, 0.02044487, 0.01845038, 0.01994717,\n",
       "        0.01944709, 0.02044654, 0.01944733, 0.02194166, 0.0249331 ,\n",
       "        0.01944888, 0.0234381 , 0.01745379, 0.01645589, 0.01695502,\n",
       "        0.01745296, 0.01894927, 0.01745272, 0.01944745, 0.01845121,\n",
       "        0.01944315, 0.01944828, 0.019449  , 0.01495957, 0.01396978]),\n",
       " 'std_score_time': array([1.19209290e-07, 2.99263000e-03, 3.49128246e-03, 9.97781754e-04,\n",
       "        4.98294830e-04, 4.76837158e-07, 9.97066498e-04, 1.49703026e-03,\n",
       "        4.98652458e-04, 3.57627869e-07, 1.49703026e-03, 4.99010086e-04,\n",
       "        4.98771667e-04, 1.99413300e-03, 9.97543335e-04, 4.97937202e-04,\n",
       "        3.48961353e-03, 4.98652458e-04, 4.98771667e-04, 9.97662544e-04,\n",
       "        4.99725342e-04, 0.00000000e+00, 4.98771667e-04, 1.49619579e-03,\n",
       "        4.98294830e-04, 4.94122505e-04, 4.99010086e-04, 4.98533249e-04,\n",
       "        9.96589661e-04, 1.19209290e-07]),\n",
       " 'param_criterion': masked_array(data=['gini', 'gini', 'gini', 'gini', 'gini', 'gini', 'gini',\n",
       "                    'gini', 'gini', 'gini', 'gini', 'gini', 'gini', 'gini',\n",
       "                    'gini', 'entropy', 'entropy', 'entropy', 'entropy',\n",
       "                    'entropy', 'entropy', 'entropy', 'entropy', 'entropy',\n",
       "                    'entropy', 'entropy', 'entropy', 'entropy', 'entropy',\n",
       "                    'entropy'],\n",
       "              mask=[False, False, False, False, False, False, False, False,\n",
       "                    False, False, False, False, False, False, False, False,\n",
       "                    False, False, False, False, False, False, False, False,\n",
       "                    False, False, False, False, False, False],\n",
       "        fill_value='?',\n",
       "             dtype=object),\n",
       " 'param_max_depth': masked_array(data=[4, 5, 6, 7, 8, 9, 10, 11, 12, 13, 14, 15, 16, 17, None,\n",
       "                    4, 5, 6, 7, 8, 9, 10, 11, 12, 13, 14, 15, 16, 17, None],\n",
       "              mask=[False, False, False, False, False, False, False, False,\n",
       "                    False, False, False, False, False, False, False, False,\n",
       "                    False, False, False, False, False, False, False, False,\n",
       "                    False, False, False, False, False, False],\n",
       "        fill_value='?',\n",
       "             dtype=object),\n",
       " 'params': [{'criterion': 'gini', 'max_depth': 4},\n",
       "  {'criterion': 'gini', 'max_depth': 5},\n",
       "  {'criterion': 'gini', 'max_depth': 6},\n",
       "  {'criterion': 'gini', 'max_depth': 7},\n",
       "  {'criterion': 'gini', 'max_depth': 8},\n",
       "  {'criterion': 'gini', 'max_depth': 9},\n",
       "  {'criterion': 'gini', 'max_depth': 10},\n",
       "  {'criterion': 'gini', 'max_depth': 11},\n",
       "  {'criterion': 'gini', 'max_depth': 12},\n",
       "  {'criterion': 'gini', 'max_depth': 13},\n",
       "  {'criterion': 'gini', 'max_depth': 14},\n",
       "  {'criterion': 'gini', 'max_depth': 15},\n",
       "  {'criterion': 'gini', 'max_depth': 16},\n",
       "  {'criterion': 'gini', 'max_depth': 17},\n",
       "  {'criterion': 'gini', 'max_depth': None},\n",
       "  {'criterion': 'entropy', 'max_depth': 4},\n",
       "  {'criterion': 'entropy', 'max_depth': 5},\n",
       "  {'criterion': 'entropy', 'max_depth': 6},\n",
       "  {'criterion': 'entropy', 'max_depth': 7},\n",
       "  {'criterion': 'entropy', 'max_depth': 8},\n",
       "  {'criterion': 'entropy', 'max_depth': 9},\n",
       "  {'criterion': 'entropy', 'max_depth': 10},\n",
       "  {'criterion': 'entropy', 'max_depth': 11},\n",
       "  {'criterion': 'entropy', 'max_depth': 12},\n",
       "  {'criterion': 'entropy', 'max_depth': 13},\n",
       "  {'criterion': 'entropy', 'max_depth': 14},\n",
       "  {'criterion': 'entropy', 'max_depth': 15},\n",
       "  {'criterion': 'entropy', 'max_depth': 16},\n",
       "  {'criterion': 'entropy', 'max_depth': 17},\n",
       "  {'criterion': 'entropy', 'max_depth': None}],\n",
       " 'split0_test_score': array([0.76260786, 0.81177984, 0.81762152, 0.81979206, 0.83128785,\n",
       "        0.83844257, 0.83769227, 0.83978241, 0.83994319, 0.83999678,\n",
       "        0.83286886, 0.82828662, 0.8284474 , 0.82641085, 0.80516105,\n",
       "        0.76274184, 0.81177984, 0.81767512, 0.81984565, 0.83150222,\n",
       "        0.83897851, 0.8390589 , 0.84238169, 0.84171177, 0.83879093,\n",
       "        0.8374243 , 0.83485181, 0.83093949, 0.82823302, 0.80601854]),\n",
       " 'split1_test_score': array([0.76211914, 0.80869309, 0.81756304, 0.81675912, 0.82913953,\n",
       "        0.83658922, 0.83664282, 0.83549053, 0.83591929, 0.83546373,\n",
       "        0.8325964 , 0.82860359, 0.824316  , 0.82160945, 0.80528981,\n",
       "        0.76230672, 0.77112308, 0.81343624, 0.81255192, 0.82252057,\n",
       "        0.83688399, 0.83594608, 0.83385588, 0.83562451, 0.8357585 ,\n",
       "        0.83117614, 0.83179248, 0.82758528, 0.82474475, 0.80362837]),\n",
       " 'mean_test_score': array([0.7623635 , 0.81023648, 0.81759228, 0.81827561, 0.83021371,\n",
       "        0.83751591, 0.83716755, 0.8376365 , 0.83793127, 0.83773029,\n",
       "        0.83273263, 0.8284451 , 0.82638172, 0.82401018, 0.80522543,\n",
       "        0.76252428, 0.79145173, 0.8155557 , 0.81619883, 0.82701146,\n",
       "        0.83793127, 0.83750251, 0.83811885, 0.83866819, 0.83727474,\n",
       "        0.83430026, 0.83332217, 0.82926241, 0.82648891, 0.80482347]),\n",
       " 'std_test_score': array([2.44357694e-04, 1.54337460e-03, 2.92410761e-05, 1.51646981e-03,\n",
       "        1.07415805e-03, 9.26676279e-04, 5.24724760e-04, 2.14594176e-03,\n",
       "        2.01195242e-03, 2.26652736e-03, 1.36226534e-04, 1.58483890e-04,\n",
       "        2.06570132e-03, 2.40069659e-03, 6.43830030e-05, 2.17558461e-04,\n",
       "        2.03283788e-02, 2.11944053e-03, 3.64686543e-03, 4.49082855e-03,\n",
       "        1.04725757e-03, 1.55640782e-03, 4.26290455e-03, 3.04363009e-03,\n",
       "        1.51621525e-03, 3.12407985e-03, 1.52966675e-03, 1.67710508e-03,\n",
       "        1.74413494e-03, 1.19508510e-03]),\n",
       " 'rank_test_score': array([30, 25, 22, 21, 14,  7, 10,  6,  3,  5, 13, 16, 19, 20, 26, 29, 28,\n",
       "        24, 23, 17,  3,  8,  2,  1,  9, 11, 12, 15, 18, 27])}"
      ]
     },
     "execution_count": 7,
     "metadata": {},
     "output_type": "execute_result"
    }
   ],
   "source": [
    "grid_search_acc.cv_results_\n",
    "\n"
   ]
  }
 ],
 "metadata": {
  "kernelspec": {
   "display_name": "Python 3",
   "language": "python",
   "name": "python3"
  },
  "language_info": {
   "codemirror_mode": {
    "name": "ipython",
    "version": 3
   },
   "file_extension": ".py",
   "mimetype": "text/x-python",
   "name": "python",
   "nbconvert_exporter": "python",
   "pygments_lexer": "ipython3",
   "version": "3.7.4"
  },
  "pycharm": {
   "stem_cell": {
    "cell_type": "raw",
    "metadata": {
     "collapsed": false
    },
    "source": []
   }
  }
 },
 "nbformat": 4,
 "nbformat_minor": 1
}
