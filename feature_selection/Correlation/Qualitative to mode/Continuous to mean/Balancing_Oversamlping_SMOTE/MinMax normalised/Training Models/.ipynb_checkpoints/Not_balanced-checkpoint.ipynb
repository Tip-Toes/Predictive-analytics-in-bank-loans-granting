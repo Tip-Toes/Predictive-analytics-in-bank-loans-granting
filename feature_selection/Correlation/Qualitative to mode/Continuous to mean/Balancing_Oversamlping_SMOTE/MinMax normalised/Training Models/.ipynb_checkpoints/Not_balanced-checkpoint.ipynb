{
 "cells": [
  {
   "cell_type": "code",
   "execution_count": 4,
   "metadata": {
    "pycharm": {
     "is_executing": false,
     "name": "#%%\n"
    }
   },
   "outputs": [],
   "source": [
    "import warnings\n",
    "from sklearn.model_selection import cross_val_score\n",
    "warnings.filterwarnings('ignore')\n",
    "import pandas as pd\n",
    "from sklearn.neighbors import KNeighborsClassifier\n",
    "from sklearn.svm import SVC\n",
    "from sklearn.metrics import confusion_matrix,classification_report,accuracy_score\n"
   ]
  },
  {
   "cell_type": "code",
   "execution_count": 5,
   "metadata": {
    "pycharm": {
     "is_executing": false,
     "name": "#%%\n"
    }
   },
   "outputs": [],
   "source": [
    "X_train= pd.read_csv('../data/X_train.csv')\n",
    "Y_train= pd.read_csv('../data/Y_train.csv')\n",
    "X_test= pd.read_csv('../data/X_test.csv')\n",
    "Y_test= pd.read_csv('../data/Y_test.csv')"
   ]
  },
  {
   "cell_type": "markdown",
   "metadata": {},
   "source": [
    "### Imbalanced dataset"
   ]
  },
  {
   "cell_type": "code",
   "execution_count": 6,
   "metadata": {
    "pycharm": {
     "is_executing": false,
     "name": "#%%\n"
    }
   },
   "outputs": [
    {
     "data": {
      "text/plain": [
       "Fully Paid     41021\n",
       "Charged Off    12971\n",
       "Name: Loan Status, dtype: int64"
      ]
     },
     "execution_count": 6,
     "metadata": {},
     "output_type": "execute_result"
    }
   ],
   "source": [
    "Y_train['Loan Status'].value_counts()"
   ]
  },
  {
   "cell_type": "markdown",
   "metadata": {},
   "source": [
    "### One hot encoding"
   ]
  },
  {
   "cell_type": "code",
   "execution_count": 7,
   "metadata": {
    "pycharm": {
     "is_executing": false,
     "name": "#%%\n"
    }
   },
   "outputs": [],
   "source": [
    "X_train= pd.get_dummies(X_train, drop_first= True)\n",
    "Y_train= pd.get_dummies(Y_train, drop_first= True)\n",
    "X_test= pd.get_dummies(X_test, drop_first= True)\n",
    "Y_test= pd.get_dummies(Y_test, drop_first= True)"
   ]
  },
  {
   "cell_type": "markdown",
   "metadata": {},
   "source": [
    "### ---KNN---"
   ]
  },
  {
   "cell_type": "code",
   "execution_count": 8,
   "metadata": {
    "pycharm": {
     "is_executing": false,
     "name": "#%%\n"
    }
   },
   "outputs": [],
   "source": [
    "##training the model\n",
    "knn = KNeighborsClassifier()\n",
    "knn.fit(X_train, Y_train)\n",
    "y_predict = knn.predict(X_test)"
   ]
  },
  {
   "cell_type": "code",
   "execution_count": 9,
   "metadata": {
    "pycharm": {
     "is_executing": false,
     "name": "#%%\n"
    }
   },
   "outputs": [
    {
     "name": "stdout",
     "output_type": "stream",
     "text": [
      "[[1117 2126]\n",
      " [ 659 9596]]\n",
      "----------\n",
      "              precision    recall  f1-score   support\n",
      "\n",
      "           0       0.63      0.34      0.45      3243\n",
      "           1       0.82      0.94      0.87     10255\n",
      "\n",
      "    accuracy                           0.79     13498\n",
      "   macro avg       0.72      0.64      0.66     13498\n",
      "weighted avg       0.77      0.79      0.77     13498\n",
      "\n",
      "----------\n",
      "Score:  0.7936731367610016\n"
     ]
    }
   ],
   "source": [
    "## evaluating the model\n",
    "print(confusion_matrix(Y_test,y_predict))\n",
    "print(\"----------\")\n",
    "print(classification_report(Y_test, y_predict))\n",
    "print(\"----------\")\n",
    "print(\"Score: \",knn.score(X_test, Y_test))"
   ]
  },
  {
   "cell_type": "markdown",
   "metadata": {
    "pycharm": {
     "is_executing": false,
     "name": "#%% md\n"
    }
   },
   "source": [
    "### SVM"
   ]
  },
  {
   "cell_type": "code",
   "execution_count": 10,
   "metadata": {
    "pycharm": {
     "is_executing": false,
     "name": "#%%\n"
    }
   },
   "outputs": [],
   "source": [
    "##training the model\n",
    "svc = SVC()\n",
    "svc.fit(X_train, Y_train)\n",
    "y_predict = svc.predict(X_test)"
   ]
  },
  {
   "cell_type": "code",
   "execution_count": 11,
   "metadata": {
    "pycharm": {
     "is_executing": false,
     "name": "#%%\n"
    }
   },
   "outputs": [
    {
     "name": "stdout",
     "output_type": "stream",
     "text": [
      "[[  864  2379]\n",
      " [    0 10255]]\n",
      "----------\n",
      "              precision    recall  f1-score   support\n",
      "\n",
      "           0       1.00      0.27      0.42      3243\n",
      "           1       0.81      1.00      0.90     10255\n",
      "\n",
      "    accuracy                           0.82     13498\n",
      "   macro avg       0.91      0.63      0.66     13498\n",
      "weighted avg       0.86      0.82      0.78     13498\n",
      "\n",
      "----------\n",
      "Score:  0.8237516669136168\n"
     ]
    }
   ],
   "source": [
    "## evaluating the model\n",
    "print(confusion_matrix(Y_test,y_predict))\n",
    "print(\"----------\")\n",
    "print(classification_report(Y_test, y_predict))\n",
    "print(\"----------\")\n",
    "print(\"Score: \",svc.score(X_test, Y_test))\n",
    "\n"
   ]
  },
  {
   "cell_type": "markdown",
   "metadata": {},
   "source": [
    "## Cross Validation (K-Fold)\n"
   ]
  },
  {
   "cell_type": "code",
   "execution_count": 12,
   "metadata": {
    "pycharm": {
     "is_executing": false,
     "name": "#%%\n"
    }
   },
   "outputs": [],
   "source": [
    "scores1= cross_val_score(estimator=knn, X=X_train, y=Y_train, cv=10)\n",
    "scores2= cross_val_score(estimator=svc, X=X_train, y=Y_train, cv=10)"
   ]
  },
  {
   "cell_type": "code",
   "execution_count": 14,
   "metadata": {
    "pycharm": {
     "is_executing": false,
     "name": "#%%\n"
    }
   },
   "outputs": [
    {
     "name": "stdout",
     "output_type": "stream",
     "text": [
      "KNN: \n",
      "---------------\n",
      "scores:  [0.8, 0.797, 0.798, 0.798, 0.787, 0.793, 0.784, 0.794, 0.791, 0.789]\n",
      "Mean score:  0.793\n",
      "standart deviation:  0.005\n",
      "\n",
      "SVC: \n",
      "---------------\n",
      "scores:  [0.829, 0.819, 0.828, 0.828, 0.818, 0.823, 0.816, 0.823, 0.826, 0.821]\n",
      "Mean score:  0.823\n",
      "standart deviation:  0.004\n"
     ]
    }
   ],
   "source": [
    "scores1_list= [round(elem, 3) for elem in list(scores1)]\n",
    "scores2_list= [round(elem, 3) for elem in list(scores2)]\n",
    "print(\"KNN: \")\n",
    "print(\"---------------\")\n",
    "print(\"scores: \", scores1_list)\n",
    "print(\"Mean score: \", round(scores1.mean(), 3))\n",
    "print(\"standart deviation: \", round(scores1.std(), 3))\n",
    "print(\"\")\n",
    "print(\"SVC: \")\n",
    "print(\"---------------\")\n",
    "print(\"scores: \", scores2_list)\n",
    "print(\"Mean score: \", round(scores2.mean(), 3))\n",
    "print(\"standart deviation: \", round(scores2.std(), 3))"
   ]
  }
 ],
 "metadata": {
  "kernelspec": {
   "display_name": "Python 3",
   "language": "python",
   "name": "python3"
  },
  "language_info": {
   "codemirror_mode": {
    "name": "ipython",
    "version": 3
   },
   "file_extension": ".py",
   "mimetype": "text/x-python",
   "name": "python",
   "nbconvert_exporter": "python",
   "pygments_lexer": "ipython3",
   "version": "3.7.4"
  },
  "pycharm": {
   "stem_cell": {
    "cell_type": "raw",
    "metadata": {
     "collapsed": false
    },
    "source": []
   }
  }
 },
 "nbformat": 4,
 "nbformat_minor": 1
}
