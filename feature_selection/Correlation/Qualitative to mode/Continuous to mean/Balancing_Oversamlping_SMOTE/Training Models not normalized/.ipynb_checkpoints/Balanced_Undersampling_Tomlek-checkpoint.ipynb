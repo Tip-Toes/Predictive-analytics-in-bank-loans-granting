{
 "cells": [
  {
   "cell_type": "code",
   "execution_count": 25,
   "metadata": {
    "pycharm": {
     "is_executing": false,
     "name": "#%%\n"
    }
   },
   "outputs": [],
   "source": [
    "import warnings\n",
    "from imblearn.under_sampling import TomekLinks\n",
    "from xgboost import XGBClassifier\n",
    "warnings.filterwarnings('ignore')\n",
    "from id3 import Id3Estimator\n",
    "from sklearn.tree import DecisionTreeClassifier\n",
    "import pandas as pd\n",
    "from sklearn.model_selection import train_test_split, cross_val_score\n",
    "from sklearn.ensemble import RandomForestClassifier\n",
    "from sklearn.metrics import confusion_matrix,classification_report,accuracy_score\n"
   ]
  },
  {
   "cell_type": "code",
   "execution_count": 26,
   "metadata": {
    "pycharm": {
     "is_executing": false,
     "name": "#%%\n"
    }
   },
   "outputs": [
    {
     "data": {
      "text/html": [
       "<div>\n",
       "<style scoped>\n",
       "    .dataframe tbody tr th:only-of-type {\n",
       "        vertical-align: middle;\n",
       "    }\n",
       "\n",
       "    .dataframe tbody tr th {\n",
       "        vertical-align: top;\n",
       "    }\n",
       "\n",
       "    .dataframe thead th {\n",
       "        text-align: right;\n",
       "    }\n",
       "</style>\n",
       "<table border=\"1\" class=\"dataframe\">\n",
       "  <thead>\n",
       "    <tr style=\"text-align: right;\">\n",
       "      <th></th>\n",
       "      <th>Loan Status</th>\n",
       "      <th>Current Loan Amount</th>\n",
       "      <th>Term</th>\n",
       "      <th>Credit Score</th>\n",
       "      <th>Annual Income</th>\n",
       "      <th>Years in current job</th>\n",
       "      <th>Home Ownership</th>\n",
       "      <th>Purpose</th>\n",
       "      <th>Monthly Debt</th>\n",
       "      <th>Years of Credit History</th>\n",
       "      <th>Number of Open Accounts</th>\n",
       "      <th>Number of Credit Problems</th>\n",
       "      <th>Current Credit Balance</th>\n",
       "      <th>Maximum Open Credit</th>\n",
       "      <th>Bankruptcies</th>\n",
       "    </tr>\n",
       "  </thead>\n",
       "  <tbody>\n",
       "    <tr>\n",
       "      <td>0</td>\n",
       "      <td>Fully Paid</td>\n",
       "      <td>445412.0</td>\n",
       "      <td>Short Term</td>\n",
       "      <td>709.0</td>\n",
       "      <td>1167493.0</td>\n",
       "      <td>8 years</td>\n",
       "      <td>Home Mortgage</td>\n",
       "      <td>Home Improvements</td>\n",
       "      <td>5214.74</td>\n",
       "      <td>17.2</td>\n",
       "      <td>6.0</td>\n",
       "      <td>1.0</td>\n",
       "      <td>228190.0</td>\n",
       "      <td>416746.0</td>\n",
       "      <td>&gt;=1</td>\n",
       "    </tr>\n",
       "    <tr>\n",
       "      <td>1</td>\n",
       "      <td>Fully Paid</td>\n",
       "      <td>99999999.0</td>\n",
       "      <td>Short Term</td>\n",
       "      <td>741.0</td>\n",
       "      <td>2231892.0</td>\n",
       "      <td>8 years</td>\n",
       "      <td>Own Home</td>\n",
       "      <td>Debt Consolidation</td>\n",
       "      <td>29200.53</td>\n",
       "      <td>14.9</td>\n",
       "      <td>18.0</td>\n",
       "      <td>1.0</td>\n",
       "      <td>297996.0</td>\n",
       "      <td>750090.0</td>\n",
       "      <td>0.0</td>\n",
       "    </tr>\n",
       "    <tr>\n",
       "      <td>2</td>\n",
       "      <td>Fully Paid</td>\n",
       "      <td>347666.0</td>\n",
       "      <td>Long Term</td>\n",
       "      <td>721.0</td>\n",
       "      <td>806949.0</td>\n",
       "      <td>3 years</td>\n",
       "      <td>Own Home</td>\n",
       "      <td>Debt Consolidation</td>\n",
       "      <td>8741.90</td>\n",
       "      <td>12.0</td>\n",
       "      <td>9.0</td>\n",
       "      <td>0.0</td>\n",
       "      <td>256329.0</td>\n",
       "      <td>386958.0</td>\n",
       "      <td>0.0</td>\n",
       "    </tr>\n",
       "    <tr>\n",
       "      <td>3</td>\n",
       "      <td>Charged Off</td>\n",
       "      <td>206602.0</td>\n",
       "      <td>Short Term</td>\n",
       "      <td>7290.0</td>\n",
       "      <td>896857.0</td>\n",
       "      <td>10+ years</td>\n",
       "      <td>Home Mortgage</td>\n",
       "      <td>Debt Consolidation</td>\n",
       "      <td>16367.74</td>\n",
       "      <td>17.3</td>\n",
       "      <td>6.0</td>\n",
       "      <td>0.0</td>\n",
       "      <td>215308.0</td>\n",
       "      <td>272448.0</td>\n",
       "      <td>0.0</td>\n",
       "    </tr>\n",
       "    <tr>\n",
       "      <td>4</td>\n",
       "      <td>Fully Paid</td>\n",
       "      <td>217646.0</td>\n",
       "      <td>Short Term</td>\n",
       "      <td>730.0</td>\n",
       "      <td>1184194.0</td>\n",
       "      <td>&lt; 1 year</td>\n",
       "      <td>Home Mortgage</td>\n",
       "      <td>Debt Consolidation</td>\n",
       "      <td>10855.08</td>\n",
       "      <td>19.6</td>\n",
       "      <td>13.0</td>\n",
       "      <td>1.0</td>\n",
       "      <td>122170.0</td>\n",
       "      <td>272052.0</td>\n",
       "      <td>&gt;=1</td>\n",
       "    </tr>\n",
       "  </tbody>\n",
       "</table>\n",
       "</div>"
      ],
      "text/plain": [
       "   Loan Status  Current Loan Amount        Term  Credit Score  Annual Income  \\\n",
       "0   Fully Paid             445412.0  Short Term         709.0      1167493.0   \n",
       "1   Fully Paid           99999999.0  Short Term         741.0      2231892.0   \n",
       "2   Fully Paid             347666.0   Long Term         721.0       806949.0   \n",
       "3  Charged Off             206602.0  Short Term        7290.0       896857.0   \n",
       "4   Fully Paid             217646.0  Short Term         730.0      1184194.0   \n",
       "\n",
       "  Years in current job Home Ownership             Purpose  Monthly Debt  \\\n",
       "0              8 years  Home Mortgage   Home Improvements       5214.74   \n",
       "1              8 years       Own Home  Debt Consolidation      29200.53   \n",
       "2              3 years       Own Home  Debt Consolidation       8741.90   \n",
       "3            10+ years  Home Mortgage  Debt Consolidation      16367.74   \n",
       "4             < 1 year  Home Mortgage  Debt Consolidation      10855.08   \n",
       "\n",
       "   Years of Credit History  Number of Open Accounts Number of Credit Problems  \\\n",
       "0                     17.2                      6.0                       1.0   \n",
       "1                     14.9                     18.0                       1.0   \n",
       "2                     12.0                      9.0                       0.0   \n",
       "3                     17.3                      6.0                       0.0   \n",
       "4                     19.6                     13.0                       1.0   \n",
       "\n",
       "   Current Credit Balance  Maximum Open Credit Bankruptcies  \n",
       "0                228190.0             416746.0          >=1  \n",
       "1                297996.0             750090.0          0.0  \n",
       "2                256329.0             386958.0          0.0  \n",
       "3                215308.0             272448.0          0.0  \n",
       "4                122170.0             272052.0          >=1  "
      ]
     },
     "execution_count": 26,
     "metadata": {},
     "output_type": "execute_result"
    }
   ],
   "source": [
    "data= pd.read_csv('../3_credit_qmvd_cmvd.csv')\n",
    "data.head()"
   ]
  },
  {
   "cell_type": "code",
   "execution_count": 27,
   "metadata": {
    "pycharm": {
     "is_executing": false,
     "name": "#%%\n"
    }
   },
   "outputs": [
    {
     "data": {
      "text/plain": [
       "Loan Status                   object\n",
       "Current Loan Amount          float64\n",
       "Term                          object\n",
       "Credit Score                 float64\n",
       "Annual Income                float64\n",
       "Years in current job          object\n",
       "Home Ownership                object\n",
       "Purpose                       object\n",
       "Monthly Debt                 float64\n",
       "Years of Credit History      float64\n",
       "Number of Open Accounts      float64\n",
       "Number of Credit Problems     object\n",
       "Current Credit Balance       float64\n",
       "Maximum Open Credit          float64\n",
       "Bankruptcies                  object\n",
       "dtype: object"
      ]
     },
     "execution_count": 27,
     "metadata": {},
     "output_type": "execute_result"
    }
   ],
   "source": [
    "data.dtypes"
   ]
  },
  {
   "cell_type": "code",
   "execution_count": 28,
   "metadata": {
    "pycharm": {
     "is_executing": false,
     "name": "#%%\n"
    }
   },
   "outputs": [],
   "source": [
    "##copying data\n",
    "data1=data.copy()"
   ]
  },
  {
   "cell_type": "markdown",
   "metadata": {
    "pycharm": {
     "is_executing": false,
     "name": "#%% md\n"
    }
   },
   "source": [
    "## Data Binning"
   ]
  },
  {
   "cell_type": "code",
   "execution_count": 29,
   "metadata": {
    "pycharm": {
     "is_executing": false,
     "name": "#%%\n"
    }
   },
   "outputs": [
    {
     "data": {
      "text/plain": [
       "2    26996\n",
       "1    13499\n",
       "4    13498\n",
       "3    13497\n",
       "Name: Current Loan Amount, dtype: int64"
      ]
     },
     "execution_count": 29,
     "metadata": {},
     "output_type": "execute_result"
    }
   ],
   "source": [
    "#Current Loan Amount\n",
    "group_names= ['1', '2', '3', '4']\n",
    "bins=[0, 0.2, 0.6, 0.8, 1]\n",
    "data1['Current Loan Amount'] = pd.qcut(data1['Current Loan Amount'], bins, labels=group_names)\n",
    "data1['Current Loan Amount'].value_counts()"
   ]
  },
  {
   "cell_type": "code",
   "execution_count": 30,
   "metadata": {
    "pycharm": {
     "is_executing": false,
     "name": "#%%\n"
    }
   },
   "outputs": [
    {
     "data": {
      "text/plain": [
       "2    27121\n",
       "1    13617\n",
       "4    13444\n",
       "3    13308\n",
       "Name: Credit Score, dtype: int64"
      ]
     },
     "execution_count": 30,
     "metadata": {},
     "output_type": "execute_result"
    }
   ],
   "source": [
    "#Credit Score\n",
    "data1['Credit Score'] = pd.qcut(data1['Credit Score'], bins, labels=group_names)\n",
    "data1['Credit Score'].value_counts()"
   ]
  },
  {
   "cell_type": "code",
   "execution_count": 31,
   "metadata": {
    "pycharm": {
     "is_executing": false,
     "name": "#%%\n"
    }
   },
   "outputs": [
    {
     "data": {
      "text/plain": [
       "2    26996\n",
       "3    13499\n",
       "1    13498\n",
       "4    13497\n",
       "Name: Annual Income, dtype: int64"
      ]
     },
     "execution_count": 31,
     "metadata": {},
     "output_type": "execute_result"
    }
   ],
   "source": [
    "#Annual Income\n",
    "data1['Annual Income'] = pd.qcut(data1['Annual Income'], bins, labels=group_names)\n",
    "data1['Annual Income'].value_counts()"
   ]
  },
  {
   "cell_type": "code",
   "execution_count": 32,
   "metadata": {
    "pycharm": {
     "is_executing": false,
     "name": "#%%\n"
    }
   },
   "outputs": [
    {
     "data": {
      "text/plain": [
       "2    26996\n",
       "4    13498\n",
       "3    13498\n",
       "1    13498\n",
       "Name: Monthly Debt, dtype: int64"
      ]
     },
     "execution_count": 32,
     "metadata": {},
     "output_type": "execute_result"
    }
   ],
   "source": [
    "#Monthly Debt\n",
    "data1['Monthly Debt'] = pd.qcut(data1['Monthly Debt'], bins, labels=group_names)\n",
    "data1['Monthly Debt'].value_counts()"
   ]
  },
  {
   "cell_type": "code",
   "execution_count": 33,
   "metadata": {
    "pycharm": {
     "is_executing": false,
     "name": "#%%\n"
    }
   },
   "outputs": [
    {
     "data": {
      "text/plain": [
       "2    26988\n",
       "1    13593\n",
       "3    13527\n",
       "4    13382\n",
       "Name: Years of Credit History, dtype: int64"
      ]
     },
     "execution_count": 33,
     "metadata": {},
     "output_type": "execute_result"
    }
   ],
   "source": [
    "#Years of Credit History\n",
    "data1['Years of Credit History'] = pd.qcut(data1['Years of Credit History'], bins, labels=group_names)\n",
    "data1['Years of Credit History'].value_counts()"
   ]
  },
  {
   "cell_type": "code",
   "execution_count": 34,
   "metadata": {
    "pycharm": {
     "is_executing": false,
     "name": "#%%\n"
    }
   },
   "outputs": [
    {
     "data": {
      "text/plain": [
       "2    29238\n",
       "1    16051\n",
       "4    11541\n",
       "3    10660\n",
       "Name: Number of Open Accounts, dtype: int64"
      ]
     },
     "execution_count": 34,
     "metadata": {},
     "output_type": "execute_result"
    }
   ],
   "source": [
    "#Number of Open Accounts \n",
    "data1['Number of Open Accounts'] = pd.qcut(data1['Number of Open Accounts'], bins, labels=group_names)\n",
    "data1['Number of Open Accounts'].value_counts()"
   ]
  },
  {
   "cell_type": "code",
   "execution_count": 35,
   "metadata": {
    "pycharm": {
     "is_executing": false,
     "name": "#%%\n"
    }
   },
   "outputs": [
    {
     "data": {
      "text/plain": [
       "2    26998\n",
       "3    13498\n",
       "1    13498\n",
       "4    13496\n",
       "Name: Current Credit Balance, dtype: int64"
      ]
     },
     "execution_count": 35,
     "metadata": {},
     "output_type": "execute_result"
    }
   ],
   "source": [
    "#Current Credit Balance\n",
    "data1['Current Credit Balance'] = pd.qcut(data1['Current Credit Balance'], bins, labels=group_names)\n",
    "data1['Current Credit Balance'].value_counts()"
   ]
  },
  {
   "cell_type": "code",
   "execution_count": 36,
   "metadata": {
    "pycharm": {
     "is_executing": false,
     "name": "#%%\n"
    }
   },
   "outputs": [
    {
     "data": {
      "text/plain": [
       "2    26994\n",
       "1    13500\n",
       "4    13498\n",
       "3    13498\n",
       "Name: Maximum Open Credit, dtype: int64"
      ]
     },
     "execution_count": 36,
     "metadata": {},
     "output_type": "execute_result"
    }
   ],
   "source": [
    "#Maximum Open Credit\n",
    "data1['Maximum Open Credit'] = pd.qcut(data1['Maximum Open Credit'], bins, labels=group_names)\n",
    "data1['Maximum Open Credit'].value_counts()"
   ]
  },
  {
   "cell_type": "markdown",
   "metadata": {
    "pycharm": {
     "name": "#%% md\n"
    }
   },
   "source": [
    "### label encoding for categorical variables"
   ]
  },
  {
   "cell_type": "code",
   "execution_count": 37,
   "metadata": {
    "pycharm": {
     "is_executing": false,
     "name": "#%%\n"
    }
   },
   "outputs": [],
   "source": [
    "def labelencoding(df, var_list):\n",
    "    for var in var_list:\n",
    "        df[var]=df[var].astype('category')\n",
    "        df[var] = df[var].cat.codes\n",
    "    return df\n",
    "\n",
    "cols= [\"Loan Status\", \"Term\",\"Years in current job\",\"Home Ownership\",\"Purpose\",\"Number of Credit Problems\",\"Bankruptcies\"]\n",
    "data1=labelencoding(data1, cols)"
   ]
  },
  {
   "cell_type": "code",
   "execution_count": 37,
   "metadata": {
    "pycharm": {
     "is_executing": false,
     "name": "#%%\n"
    }
   },
   "outputs": [],
   "source": []
  },
  {
   "cell_type": "markdown",
   "metadata": {
    "pycharm": {
     "name": "#%% md\n"
    }
   },
   "source": [
    "## dicision tree (ID3)\n",
    "\n",
    "\n",
    "### spliting data en X et Y"
   ]
  },
  {
   "cell_type": "code",
   "execution_count": 38,
   "metadata": {
    "pycharm": {
     "is_executing": false,
     "name": "#%%\n"
    }
   },
   "outputs": [],
   "source": [
    "X= data1.drop('Loan Status', axis=1)\n",
    "Y= data1['Loan Status']"
   ]
  },
  {
   "cell_type": "markdown",
   "metadata": {},
   "source": [
    "### spliting the data to train and test"
   ]
  },
  {
   "cell_type": "code",
   "execution_count": 39,
   "metadata": {
    "pycharm": {
     "is_executing": false,
     "name": "#%%\n"
    }
   },
   "outputs": [],
   "source": [
    "X_train , X_test , Y_train , Y_test = train_test_split(X, Y, test_size = 0.20, random_state = 123, stratify=Y)"
   ]
  },
  {
   "cell_type": "code",
   "execution_count": 39,
   "metadata": {
    "pycharm": {
     "is_executing": false,
     "name": "#%%\n"
    }
   },
   "outputs": [],
   "source": []
  },
  {
   "cell_type": "markdown",
   "metadata": {},
   "source": [
    "### balancing the data again"
   ]
  },
  {
   "cell_type": "code",
   "execution_count": 40,
   "metadata": {
    "pycharm": {
     "is_executing": false,
     "name": "#%%\n"
    }
   },
   "outputs": [],
   "source": [
    "tl =TomekLinks()\n",
    "X_train , Y_train = tl.fit_resample(X_train, Y_train)\n",
    "\n"
   ]
  },
  {
   "cell_type": "code",
   "execution_count": 41,
   "metadata": {
    "pycharm": {
     "is_executing": false,
     "name": "#%%\n"
    }
   },
   "outputs": [],
   "source": [
    "## training the model\n",
    "ID3 = Id3Estimator()\n",
    "ID3.fit(X_train, Y_train)\n",
    "y_predict= ID3.predict(X_test)\n"
   ]
  },
  {
   "cell_type": "code",
   "execution_count": 42,
   "metadata": {
    "pycharm": {
     "is_executing": false,
     "name": "#%%\n"
    }
   },
   "outputs": [
    {
     "name": "stdout",
     "output_type": "stream",
     "text": [
      "[[ 771 2472]\n",
      " [ 587 9668]]\n",
      "----------\n",
      "              precision    recall  f1-score   support\n",
      "\n",
      "           0       0.57      0.24      0.34      3243\n",
      "           1       0.80      0.94      0.86     10255\n",
      "\n",
      "    accuracy                           0.77     13498\n",
      "   macro avg       0.68      0.59      0.60     13498\n",
      "weighted avg       0.74      0.77      0.74     13498\n",
      "\n",
      "----------\n",
      "accuracy:  0.7733738331604683\n"
     ]
    }
   ],
   "source": [
    "## accuracy function \n",
    "def accuracy(confusion_matrix):\n",
    "    return confusion_matrix.trace() / confusion_matrix.sum()\n",
    "\n",
    "## evaluating the model\n",
    "print(confusion_matrix(Y_test,y_predict))\n",
    "print(\"----------\")\n",
    "print(classification_report(Y_test, y_predict))\n",
    "print(\"----------\")\n",
    "print(\"accuracy: \",accuracy(confusion_matrix(Y_test,y_predict)))\n"
   ]
  },
  {
   "cell_type": "markdown",
   "metadata": {},
   "source": [
    "## dicision tree (CART)"
   ]
  },
  {
   "cell_type": "code",
   "execution_count": 43,
   "metadata": {
    "pycharm": {
     "is_executing": false,
     "name": "#%%\n"
    }
   },
   "outputs": [],
   "source": [
    "### spliting data en X et Y\n",
    "X= data.drop('Loan Status', axis=1)\n",
    "Y= data['Loan Status']\n",
    "### One hot encoding\n",
    "X= pd.get_dummies(X, drop_first= True)\n",
    "Y= pd.get_dummies(Y, drop_first= True)\n",
    "## spliting the data to train and test\n",
    "X_train , X_test , Y_train , Y_test = train_test_split(X, Y, test_size = 0.20, random_state = 123, stratify=Y)\n",
    "### balancing the data again\n",
    "tl =TomekLinks()\n",
    "X_train , Y_train = tl.fit_resample(X_train, Y_train)\n",
    "##Training the model\n",
    "dtc = DecisionTreeClassifier(random_state=1234)\n",
    "dtc.fit(X_train, Y_train)\n",
    "y_predict= dtc.predict(X_test)"
   ]
  },
  {
   "cell_type": "code",
   "execution_count": 44,
   "metadata": {
    "pycharm": {
     "is_executing": false,
     "name": "#%%\n"
    }
   },
   "outputs": [
    {
     "name": "stdout",
     "output_type": "stream",
     "text": [
      "[[1635 1608]\n",
      " [2094 8161]]\n",
      "----------\n",
      "              precision    recall  f1-score   support\n",
      "\n",
      "           0       0.44      0.50      0.47      3243\n",
      "           1       0.84      0.80      0.82     10255\n",
      "\n",
      "    accuracy                           0.73     13498\n",
      "   macro avg       0.64      0.65      0.64     13498\n",
      "weighted avg       0.74      0.73      0.73     13498\n",
      "\n",
      "----------\n",
      "accuracy:  0.725737146243888\n"
     ]
    }
   ],
   "source": [
    "## evaluating the model\n",
    "print(confusion_matrix(Y_test,y_predict))\n",
    "print(\"----------\")\n",
    "print(classification_report(Y_test, y_predict))\n",
    "print(\"----------\")\n",
    "print(\"accuracy: \",dtc.score(X_test, Y_test))"
   ]
  },
  {
   "cell_type": "markdown",
   "metadata": {},
   "source": [
    "## Random Forest & XGBoost\n",
    "### Random Forest"
   ]
  },
  {
   "cell_type": "code",
   "execution_count": 45,
   "metadata": {
    "pycharm": {
     "is_executing": false,
     "name": "#%%\n"
    }
   },
   "outputs": [],
   "source": [
    "##training the model\n",
    "rfc= RandomForestClassifier(n_estimators=500, n_jobs=-1,random_state= 123)\n",
    "rfc.fit(X_train, Y_train)\n",
    "y_predict= rfc.predict(X_test)"
   ]
  },
  {
   "cell_type": "code",
   "execution_count": 46,
   "metadata": {
    "pycharm": {
     "is_executing": false,
     "name": "#%%\n"
    }
   },
   "outputs": [
    {
     "name": "stdout",
     "output_type": "stream",
     "text": [
      "[[ 1017  2226]\n",
      " [  154 10101]]\n",
      "----------\n",
      "              precision    recall  f1-score   support\n",
      "\n",
      "           0       0.87      0.31      0.46      3243\n",
      "           1       0.82      0.98      0.89     10255\n",
      "\n",
      "    accuracy                           0.82     13498\n",
      "   macro avg       0.84      0.65      0.68     13498\n",
      "weighted avg       0.83      0.82      0.79     13498\n",
      "\n",
      "----------\n",
      "Score:  0.8236775818639799\n"
     ]
    }
   ],
   "source": [
    "## evaluating the model\n",
    "print(confusion_matrix(Y_test,y_predict))\n",
    "print(\"----------\")\n",
    "print(classification_report(Y_test, y_predict))\n",
    "print(\"----------\")\n",
    "print(\"Score: \",rfc.score(X_test, Y_test))"
   ]
  },
  {
   "cell_type": "markdown",
   "metadata": {},
   "source": [
    "### XGBoost"
   ]
  },
  {
   "cell_type": "code",
   "execution_count": 47,
   "metadata": {
    "pycharm": {
     "is_executing": false,
     "name": "#%%\n"
    }
   },
   "outputs": [],
   "source": [
    "## converting Y_train & X_test & Y_train & Y_test to numpy array pour XGBoost\n",
    "X_test_xg = X_test.values\n",
    "Y_test_xg = Y_test.values"
   ]
  },
  {
   "cell_type": "code",
   "execution_count": 48,
   "metadata": {
    "pycharm": {
     "is_executing": false,
     "name": "#%%\n"
    }
   },
   "outputs": [],
   "source": [
    "## copying\n",
    "X_train_xg = X_train\n",
    "Y_train_xg = Y_train"
   ]
  },
  {
   "cell_type": "code",
   "execution_count": 49,
   "metadata": {
    "pycharm": {
     "is_executing": false,
     "name": "#%%\n"
    }
   },
   "outputs": [],
   "source": [
    "##training the model\n",
    "xgb= XGBClassifier()\n",
    "xgb.fit(X_train_xg, Y_train_xg)\n",
    "y_predict= xgb.predict(X_test_xg)"
   ]
  },
  {
   "cell_type": "code",
   "execution_count": 50,
   "metadata": {
    "pycharm": {
     "is_executing": false,
     "name": "#%%\n"
    }
   },
   "outputs": [
    {
     "name": "stdout",
     "output_type": "stream",
     "text": [
      "[[  925  2318]\n",
      " [   29 10226]]\n",
      "----------\n",
      "              precision    recall  f1-score   support\n",
      "\n",
      "           0       0.97      0.29      0.44      3243\n",
      "           1       0.82      1.00      0.90     10255\n",
      "\n",
      "    accuracy                           0.83     13498\n",
      "   macro avg       0.89      0.64      0.67     13498\n",
      "weighted avg       0.85      0.83      0.79     13498\n",
      "\n",
      "----------\n",
      "Score:  0.8261223885020003\n"
     ]
    }
   ],
   "source": [
    "## evaluating the model\n",
    "print(confusion_matrix(Y_test_xg,y_predict))\n",
    "print(\"----------\")\n",
    "print(classification_report(Y_test_xg, y_predict))\n",
    "print(\"----------\")\n",
    "print(\"Score: \",xgb.score(X_test_xg, Y_test_xg))\n"
   ]
  },
  {
   "cell_type": "markdown",
   "metadata": {},
   "source": [
    "## Cross Validation (K-Fold)"
   ]
  },
  {
   "cell_type": "code",
   "execution_count": 51,
   "metadata": {
    "pycharm": {
     "is_executing": false,
     "name": "#%%\n"
    }
   },
   "outputs": [],
   "source": [
    "scores1= cross_val_score(estimator=rfc, X=X_train, y=Y_train, cv=10)\n",
    "scores2= cross_val_score(estimator=xgb, X=X_train_xg, y=Y_train_xg, cv=10)"
   ]
  },
  {
   "cell_type": "code",
   "execution_count": 52,
   "metadata": {
    "pycharm": {
     "is_executing": false,
     "name": "#%%\n"
    }
   },
   "outputs": [
    {
     "name": "stdout",
     "output_type": "stream",
     "text": [
      "Decision Tree: \n",
      "---------------\n",
      "scores:  [0.811, 0.804, 0.811, 0.812, 0.802, 0.806, 0.798, 0.806, 0.811, 0.801]\n",
      "Mean score:  0.806\n",
      "standart deviation:  0.005\n",
      "\n",
      "XGBoost: \n",
      "---------------\n",
      "scores:  [0.813, 0.802, 0.809, 0.811, 0.8, 0.805, 0.799, 0.806, 0.81, 0.803]\n",
      "Mean score:  0.806\n",
      "standart deviation:  0.005\n"
     ]
    }
   ],
   "source": [
    "scores1_list= [round(elem, 3) for elem in list(scores1)]\n",
    "scores2_list= [round(elem, 3) for elem in list(scores2)]\n",
    "print(\"Decision Tree: \")\n",
    "print(\"---------------\")\n",
    "print(\"scores: \", scores1_list)\n",
    "print(\"Mean score: \", round(scores1.mean(), 3))\n",
    "print(\"standart deviation: \", round(scores1.std(), 3))\n",
    "print(\"\")\n",
    "print(\"XGBoost: \")\n",
    "print(\"---------------\")\n",
    "print(\"scores: \", scores2_list)\n",
    "print(\"Mean score: \", round(scores2.mean(), 3))\n",
    "print(\"standart deviation: \", round(scores2.std(), 3))\n",
    "\n"
   ]
  }
 ],
 "metadata": {
  "kernelspec": {
   "display_name": "Python 3",
   "language": "python",
   "name": "python3"
  },
  "language_info": {
   "codemirror_mode": {
    "name": "ipython",
    "version": 3
   },
   "file_extension": ".py",
   "mimetype": "text/x-python",
   "name": "python",
   "nbconvert_exporter": "python",
   "pygments_lexer": "ipython3",
   "version": "3.7.4"
  },
  "pycharm": {
   "stem_cell": {
    "cell_type": "raw",
    "metadata": {
     "collapsed": false
    },
    "source": []
   }
  }
 },
 "nbformat": 4,
 "nbformat_minor": 1
}
