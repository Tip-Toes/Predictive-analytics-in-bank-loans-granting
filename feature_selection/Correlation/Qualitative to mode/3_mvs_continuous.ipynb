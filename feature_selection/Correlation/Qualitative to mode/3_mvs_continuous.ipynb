{
 "cells": [
  {
   "cell_type": "code",
   "execution_count": 1,
   "metadata": {
    "pycharm": {
     "is_executing": false
    }
   },
   "outputs": [],
   "source": [
    "import pandas as pd\n",
    "import numpy as np"
   ]
  },
  {
   "cell_type": "markdown",
   "metadata": {},
   "source": [
    " "
   ]
  },
  {
   "cell_type": "markdown",
   "metadata": {},
   "source": [
    " "
   ]
  },
  {
   "cell_type": "markdown",
   "metadata": {},
   "source": [
    " "
   ]
  },
  {
   "cell_type": "markdown",
   "metadata": {},
   "source": [
    " "
   ]
  },
  {
   "cell_type": "markdown",
   "metadata": {},
   "source": [
    " "
   ]
  },
  {
   "cell_type": "markdown",
   "metadata": {},
   "source": [
    " "
   ]
  },
  {
   "cell_type": "markdown",
   "metadata": {},
   "source": [
    " # Data introduction start"
   ]
  },
  {
   "cell_type": "code",
   "execution_count": 2,
   "metadata": {
    "pycharm": {
     "is_executing": false
    }
   },
   "outputs": [
    {
     "data": {
      "text/plain": "  Loan Status  Current Loan Amount        Term  Credit Score  Annual Income  \\\n0  Fully Paid             445412.0  Short Term         709.0      1167493.0   \n1  Fully Paid             262328.0  Short Term           NaN            NaN   \n2  Fully Paid           99999999.0  Short Term         741.0      2231892.0   \n3  Fully Paid             347666.0   Long Term         721.0       806949.0   \n4  Fully Paid             176220.0  Short Term           NaN            NaN   \n\n  Years in current job Home Ownership             Purpose  Monthly Debt  \\\n0              8 years  Home Mortgage   Home Improvements       5214.74   \n1            10+ years  Home Mortgage  Debt Consolidation      33295.98   \n2              8 years       Own Home  Debt Consolidation      29200.53   \n3              3 years       Own Home  Debt Consolidation       8741.90   \n4              5 years           Rent  Debt Consolidation      20639.70   \n\n   Years of Credit History  Number of Open Accounts Number of Credit Problems  \\\n0                     17.2                      6.0                       1.0   \n1                     21.1                     35.0                       0.0   \n2                     14.9                     18.0                       1.0   \n3                     12.0                      9.0                       0.0   \n4                      6.1                     15.0                       0.0   \n\n   Current Credit Balance  Maximum Open Credit Bankruptcies  \n0                228190.0             416746.0          >=1  \n1                229976.0             850784.0          0.0  \n2                297996.0             750090.0          0.0  \n3                256329.0             386958.0          0.0  \n4                253460.0             427174.0          0.0  ",
      "text/html": "<div>\n<style scoped>\n    .dataframe tbody tr th:only-of-type {\n        vertical-align: middle;\n    }\n\n    .dataframe tbody tr th {\n        vertical-align: top;\n    }\n\n    .dataframe thead th {\n        text-align: right;\n    }\n</style>\n<table border=\"1\" class=\"dataframe\">\n  <thead>\n    <tr style=\"text-align: right;\">\n      <th></th>\n      <th>Loan Status</th>\n      <th>Current Loan Amount</th>\n      <th>Term</th>\n      <th>Credit Score</th>\n      <th>Annual Income</th>\n      <th>Years in current job</th>\n      <th>Home Ownership</th>\n      <th>Purpose</th>\n      <th>Monthly Debt</th>\n      <th>Years of Credit History</th>\n      <th>Number of Open Accounts</th>\n      <th>Number of Credit Problems</th>\n      <th>Current Credit Balance</th>\n      <th>Maximum Open Credit</th>\n      <th>Bankruptcies</th>\n    </tr>\n  </thead>\n  <tbody>\n    <tr>\n      <td>0</td>\n      <td>Fully Paid</td>\n      <td>445412.0</td>\n      <td>Short Term</td>\n      <td>709.0</td>\n      <td>1167493.0</td>\n      <td>8 years</td>\n      <td>Home Mortgage</td>\n      <td>Home Improvements</td>\n      <td>5214.74</td>\n      <td>17.2</td>\n      <td>6.0</td>\n      <td>1.0</td>\n      <td>228190.0</td>\n      <td>416746.0</td>\n      <td>&gt;=1</td>\n    </tr>\n    <tr>\n      <td>1</td>\n      <td>Fully Paid</td>\n      <td>262328.0</td>\n      <td>Short Term</td>\n      <td>NaN</td>\n      <td>NaN</td>\n      <td>10+ years</td>\n      <td>Home Mortgage</td>\n      <td>Debt Consolidation</td>\n      <td>33295.98</td>\n      <td>21.1</td>\n      <td>35.0</td>\n      <td>0.0</td>\n      <td>229976.0</td>\n      <td>850784.0</td>\n      <td>0.0</td>\n    </tr>\n    <tr>\n      <td>2</td>\n      <td>Fully Paid</td>\n      <td>99999999.0</td>\n      <td>Short Term</td>\n      <td>741.0</td>\n      <td>2231892.0</td>\n      <td>8 years</td>\n      <td>Own Home</td>\n      <td>Debt Consolidation</td>\n      <td>29200.53</td>\n      <td>14.9</td>\n      <td>18.0</td>\n      <td>1.0</td>\n      <td>297996.0</td>\n      <td>750090.0</td>\n      <td>0.0</td>\n    </tr>\n    <tr>\n      <td>3</td>\n      <td>Fully Paid</td>\n      <td>347666.0</td>\n      <td>Long Term</td>\n      <td>721.0</td>\n      <td>806949.0</td>\n      <td>3 years</td>\n      <td>Own Home</td>\n      <td>Debt Consolidation</td>\n      <td>8741.90</td>\n      <td>12.0</td>\n      <td>9.0</td>\n      <td>0.0</td>\n      <td>256329.0</td>\n      <td>386958.0</td>\n      <td>0.0</td>\n    </tr>\n    <tr>\n      <td>4</td>\n      <td>Fully Paid</td>\n      <td>176220.0</td>\n      <td>Short Term</td>\n      <td>NaN</td>\n      <td>NaN</td>\n      <td>5 years</td>\n      <td>Rent</td>\n      <td>Debt Consolidation</td>\n      <td>20639.70</td>\n      <td>6.1</td>\n      <td>15.0</td>\n      <td>0.0</td>\n      <td>253460.0</td>\n      <td>427174.0</td>\n      <td>0.0</td>\n    </tr>\n  </tbody>\n</table>\n</div>"
     },
     "metadata": {},
     "output_type": "execute_result",
     "execution_count": 2
    }
   ],
   "source": [
    "data = pd.read_csv('2_credit_qmvm.csv',encoding='latin-1')\n",
    "data.head()"
   ]
  },
  {
   "cell_type": "code",
   "execution_count": 3,
   "metadata": {
    "pycharm": {
     "is_executing": false
    }
   },
   "outputs": [
    {
     "data": {
      "text/plain": "Loan Status                      0\nCurrent Loan Amount              0\nTerm                             0\nCredit Score                 18301\nAnnual Income                18301\nYears in current job             0\nHome Ownership                   0\nPurpose                          0\nMonthly Debt                     0\nYears of Credit History          0\nNumber of Open Accounts          0\nNumber of Credit Problems        0\nCurrent Credit Balance           0\nMaximum Open Credit              0\nBankruptcies                     0\ndtype: int64"
     },
     "metadata": {},
     "output_type": "execute_result",
     "execution_count": 3
    }
   ],
   "source": [
    "data.isnull().sum()"
   ]
  },
  {
   "cell_type": "code",
   "execution_count": 4,
   "metadata": {
    "pycharm": {
     "is_executing": false
    }
   },
   "outputs": [
    {
     "data": {
      "text/plain": "0.20613180451212507"
     },
     "metadata": {},
     "output_type": "execute_result",
     "execution_count": 4
    }
   ],
   "source": [
    "len(data[data['Credit Score'].isnull()].isnull())/len(data)"
   ]
  },
  {
   "cell_type": "markdown",
   "metadata": {},
   "source": [
    " "
   ]
  },
  {
   "cell_type": "markdown",
   "metadata": {},
   "source": [
    " "
   ]
  },
  {
   "cell_type": "markdown",
   "metadata": {},
   "source": [
    " "
   ]
  },
  {
   "cell_type": "markdown",
   "metadata": {},
   "source": [
    "# Case1 : Delete the missing values"
   ]
  },
  {
   "cell_type": "code",
   "execution_count": 5,
   "metadata": {
    "pycharm": {
     "is_executing": false
    }
   },
   "outputs": [],
   "source": [
    "data1 = data[data['Credit Score'].notna()].copy()"
   ]
  },
  {
   "cell_type": "code",
   "execution_count": 6,
   "metadata": {
    "pycharm": {
     "is_executing": false
    }
   },
   "outputs": [
    {
     "data": {
      "text/plain": "Loan Status                  0\nCurrent Loan Amount          0\nTerm                         0\nCredit Score                 0\nAnnual Income                0\nYears in current job         0\nHome Ownership               0\nPurpose                      0\nMonthly Debt                 0\nYears of Credit History      0\nNumber of Open Accounts      0\nNumber of Credit Problems    0\nCurrent Credit Balance       0\nMaximum Open Credit          0\nBankruptcies                 0\ndtype: int64"
     },
     "metadata": {},
     "output_type": "execute_result",
     "execution_count": 6
    }
   ],
   "source": [
    "data1.isnull().sum()"
   ]
  },
  {
   "cell_type": "markdown",
   "metadata": {},
   "source": [
    "## Emport the data"
   ]
  },
  {
   "cell_type": "code",
   "execution_count": 7,
   "metadata": {
    "pycharm": {
     "is_executing": false
    }
   },
   "outputs": [],
   "source": [
    "data1.to_csv(\"Continuous deleted/3_credit_qmvm_cmvd.csv\", index=False)"
   ]
  },
  {
   "cell_type": "markdown",
   "metadata": {},
   "source": [
    "  "
   ]
  },
  {
   "cell_type": "markdown",
   "metadata": {},
   "source": [
    "  "
   ]
  },
  {
   "cell_type": "markdown",
   "metadata": {},
   "source": [
    " "
   ]
  },
  {
   "cell_type": "markdown",
   "metadata": {},
   "source": [
    " "
   ]
  },
  {
   "cell_type": "markdown",
   "metadata": {},
   "source": [
    " \n"
   ]
  },
  {
   "cell_type": "markdown",
   "metadata": {},
   "source": [
    "# CASE3 : Replace with the median "
   ]
  },
  {
   "cell_type": "code",
   "execution_count": 14,
   "metadata": {
    "pycharm": {
     "is_executing": false
    }
   },
   "outputs": [],
   "source": [
    "medianCS = data['Credit Score'].median()"
   ]
  },
  {
   "cell_type": "code",
   "execution_count": 15,
   "metadata": {
    "pycharm": {
     "is_executing": false
    }
   },
   "outputs": [],
   "source": [
    "medianAI = data['Annual Income'].median()"
   ]
  },
  {
   "cell_type": "code",
   "execution_count": 16,
   "metadata": {
    "pycharm": {
     "is_executing": false
    }
   },
   "outputs": [],
   "source": [
    "data3 = data.copy()"
   ]
  },
  {
   "cell_type": "code",
   "execution_count": 17,
   "metadata": {
    "pycharm": {
     "is_executing": false
    }
   },
   "outputs": [],
   "source": [
    "data3['Credit Score'].fillna(medianCS, inplace = True)"
   ]
  },
  {
   "cell_type": "code",
   "execution_count": 18,
   "metadata": {
    "pycharm": {
     "is_executing": false
    }
   },
   "outputs": [],
   "source": [
    "data3['Annual Income'].fillna(medianAI, inplace = True)"
   ]
  },
  {
   "cell_type": "markdown",
   "metadata": {},
   "source": [
    "## Emport the data"
   ]
  },
  {
   "cell_type": "code",
   "execution_count": 19,
   "metadata": {
    "pycharm": {
     "is_executing": false
    }
   },
   "outputs": [],
   "source": [
    "data3.to_csv(\"Continuous to median/3_credit_qmvm_cmvm.csv\", index=False)"
   ]
  },
  {
   "cell_type": "markdown",
   "metadata": {},
   "source": [
    " end"
   ]
  }
 ],
 "metadata": {
  "kernelspec": {
   "display_name": "Python 3",
   "language": "python",
   "name": "python3"
  },
  "language_info": {
   "codemirror_mode": {
    "name": "ipython",
    "version": 3
   },
   "file_extension": ".py",
   "mimetype": "text/x-python",
   "name": "python",
   "nbconvert_exporter": "python",
   "pygments_lexer": "ipython3",
   "version": "3.7.4"
  },
  "pycharm": {
   "stem_cell": {
    "cell_type": "raw",
    "source": [],
    "metadata": {
     "collapsed": false
    }
   }
  }
 },
 "nbformat": 4,
 "nbformat_minor": 2
}