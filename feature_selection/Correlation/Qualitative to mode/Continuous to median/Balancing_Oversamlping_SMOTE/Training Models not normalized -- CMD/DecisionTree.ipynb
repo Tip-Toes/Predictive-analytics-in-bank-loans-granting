{
 "cells": [
  {
   "cell_type": "code",
   "execution_count": 1,
   "metadata": {
    "pycharm": {
     "is_executing": false
    }
   },
   "outputs": [],
   "source": [
    "from pylab import rcParams\n",
    "rcParams['figure.figsize'] = 10, 5\n",
    "import warnings\n",
    "warnings.filterwarnings('ignore')\n",
    "from sklearn.tree import DecisionTreeClassifier\n",
    "import pandas as pd\n",
    "from sklearn.model_selection import GridSearchCV, train_test_split\n",
    "from sklearn.metrics import confusion_matrix, classification_report, average_precision_score, accuracy_score\n",
    "import csv"
   ]
  },
  {
   "cell_type": "code",
   "execution_count": 99,
   "metadata": {
    "pycharm": {
     "is_executing": false,
     "name": "#%%\n"
    }
   },
   "outputs": [],
   "source": []
  },
  {
   "cell_type": "code",
   "execution_count": 2,
   "metadata": {
    "pycharm": {
     "is_executing": false,
     "name": "#%%\n"
    }
   },
   "outputs": [],
   "source": [
    "def get_algo_path():\n",
    "    import os\n",
    "    cwd = os.getcwd()\n",
    "    s='\\\\'\n",
    "    if '\\\\' not in cwd:\n",
    "        s='/'\n",
    "    cwd= cwd.split(s)[4:-1]\n",
    "    cwd.append('Not Normalized')\n",
    "    cwd='/'.join(cwd)\n",
    "    return cwd\n",
    "\n",
    "def get_csv_path():\n",
    "    import os\n",
    "    cwd = os.getcwd()\n",
    "    s=\"\\\\\"\n",
    "    if \"\\\\\" not in cwd:\n",
    "        s='/'\n",
    "    file= cwd.split(s)[:4]\n",
    "    file.append('models_scores.csv')\n",
    "    file= s.join(file)\n",
    "    return file\n",
    "\n",
    "def line_is_exist(file, row):\n",
    "    logfile = open(file, 'r')\n",
    "    loglist = logfile.readlines()\n",
    "    logfile.close()\n",
    "    for line in loglist:\n",
    "        if ','.join(row) in line:\n",
    "            return True\n",
    "    return False\n",
    "\n",
    "def write_new_score(file, line):\n",
    "    if( not line_is_exist(file, line) ):\n",
    "        with open(file, 'a') as f:\n",
    "            writer = csv.writer(f)\n",
    "            writer.writerow(line)\n",
    "    else:\n",
    "        print('line exsist already')\n",
    "    "
   ]
  },
  {
   "cell_type": "code",
   "execution_count": 3,
   "metadata": {
    "pycharm": {
     "is_executing": false,
     "name": "#%%\n"
    }
   },
   "outputs": [],
   "source": [
    "data= pd.read_csv('../data.csv')"
   ]
  },
  {
   "cell_type": "code",
   "execution_count": 4,
   "metadata": {
    "pycharm": {
     "is_executing": false,
     "name": "#%%\n"
    }
   },
   "outputs": [],
   "source": [
    "##copying data\n",
    "data1=data.copy()\n",
    "### spliting data en X et Y\n",
    "X= data1.drop('Loan Status', axis=1)\n",
    "Y= data1['Loan Status']\n",
    "### spliting the data to train and test\n",
    "X_train , X_test , Y_train , Y_test = train_test_split(X, Y, test_size = 0.30, random_state = 123)\n",
    "## dicision tree (CART)\n",
    "dct = DecisionTreeClassifier()\n",
    "params={'criterion' : ['gini', 'entropy'],\n",
    "        'max_depth': [4, 5, 6, 7, 8, 9, 10, 11, 12, 13,14, 15, 16, 17, None]}\n",
    "\n",
    "##accuracy\n",
    "grid_search_acc= GridSearchCV(estimator=dct, param_grid= params, scoring='accuracy',cv=2, n_jobs=-1)\n",
    "grid_search_acc= grid_search_acc.fit(X_train, Y_train)\n",
    "y_predict= grid_search_acc.best_estimator_.predict(X_test)\n"
   ]
  },
  {
   "cell_type": "code",
   "execution_count": 5,
   "metadata": {
    "pycharm": {
     "is_executing": false,
     "name": "#%%\n"
    }
   },
   "outputs": [],
   "source": [
    "## get avg precision & avg recall\n",
    "report= classification_report(Y_test, y_predict, output_dict=True)\n",
    "avg_list = report.pop(\"weighted avg\")\n",
    "avg_precision= round(avg_list['precision'], 3)\n",
    "avg_recall= round(avg_list['recall'], 3)\n",
    "accuraccy= round(accuracy_score(Y_test,y_predict), 3)\n",
    "## csv row\n",
    "csv_row = [get_algo_path(), 'Decision Tree', str(grid_search_acc.best_params_), str(accuraccy), str(avg_precision), str(avg_recall)]\n",
    "## write file\n",
    "csv_file= get_csv_path()\n",
    "write_new_score(csv_file, csv_row)"
   ]
  },
  {
   "cell_type": "code",
   "execution_count": 6,
   "metadata": {
    "pycharm": {
     "is_executing": false,
     "name": "#%%\n"
    }
   },
   "outputs": [
    {
     "name": "stdout",
     "output_type": "stream",
     "text": [
      "----------\n",
      "best parameters:  {'criterion': 'gini', 'max_depth': 12}\n",
      "----------\n",
      "[[14114  5835]\n",
      " [  911 19047]]\n",
      "----------\n",
      "              precision    recall  f1-score   support\n",
      "\n",
      "           0       0.94      0.71      0.81     19949\n",
      "           1       0.77      0.95      0.85     19958\n",
      "\n",
      "    accuracy                           0.83     39907\n",
      "   macro avg       0.85      0.83      0.83     39907\n",
      "weighted avg       0.85      0.83      0.83     39907\n",
      "\n",
      "----------\n"
     ]
    }
   ],
   "source": [
    "## evaluating the model\n",
    "print(\"----------\")\n",
    "print('best parameters: ', grid_search_acc.best_params_)\n",
    "print(\"----------\")\n",
    "print(confusion_matrix(Y_test,y_predict))\n",
    "print(\"----------\")\n",
    "print(classification_report(Y_test, y_predict))\n",
    "print(\"----------\")\n"
   ]
  },
  {
   "cell_type": "code",
   "execution_count": 7,
   "metadata": {
    "collapsed": false,
    "pycharm": {
     "is_executing": false,
     "name": "#%%\n"
    }
   },
   "outputs": [
    {
     "data": {
      "text/plain": [
       "{'mean_fit_time': array([0.41738284, 0.46076739, 0.55800819, 0.64327908, 0.75797272,\n",
       "        0.83077979, 0.9190433 , 0.93799233, 0.96591604, 1.0457027 ,\n",
       "        1.01977479, 1.22023582, 1.17585552, 1.18183899, 1.28007674,\n",
       "        0.57895255, 0.66322529, 0.72406209, 0.80983388, 0.85720778,\n",
       "        0.94995964, 1.01079702, 1.06814528, 1.12798464, 1.24168026,\n",
       "        1.27309513, 1.36684537, 1.3902818 , 1.31448472, 1.40374506]),\n",
       " 'std_fit_time': array([3.48865986e-03, 3.98957729e-03, 2.84249783e-02, 6.38301373e-02,\n",
       "        6.68210983e-02, 3.59051228e-02, 1.24664307e-02, 1.24666691e-02,\n",
       "        2.14434862e-02, 1.28156424e-01, 1.74528360e-02, 7.62941837e-02,\n",
       "        8.97562504e-03, 2.29392052e-02, 1.34634972e-02, 1.84504986e-02,\n",
       "        2.99199820e-02, 1.19689703e-02, 1.99466944e-02, 1.84509754e-02,\n",
       "        1.44611597e-02, 1.34634972e-02, 4.76837158e-07, 9.97316837e-03,\n",
       "        1.99462175e-02, 1.04720592e-02, 1.64568424e-02, 3.88952494e-02,\n",
       "        2.29402781e-02, 1.14690065e-02]),\n",
       " 'mean_score_time': array([0.02443433, 0.02393651, 0.03191507, 0.03939497, 0.02642953,\n",
       "        0.02494025, 0.0448817 , 0.03889668, 0.02842486, 0.02992034,\n",
       "        0.04039097, 0.03490746, 0.02692723, 0.0284245 , 0.03041911,\n",
       "        0.02144814, 0.02194107, 0.01994705, 0.02094531, 0.02293921,\n",
       "        0.02293825, 0.02194107, 0.02393544, 0.03889489, 0.02443457,\n",
       "        0.02443433, 0.02892184, 0.02543283, 0.01994646, 0.01745367]),\n",
       " 'std_score_time': array([4.98533249e-04, 1.99580193e-03, 8.97657871e-03, 1.44616365e-02,\n",
       "        2.49230862e-03, 9.05990601e-06, 1.89484358e-02, 5.98394871e-03,\n",
       "        1.49810314e-03, 5.98382950e-03, 5.48529625e-03, 5.98466396e-03,\n",
       "        1.99508667e-03, 4.99486923e-04, 1.49559975e-03, 5.04732132e-04,\n",
       "        9.97424126e-04, 2.38418579e-07, 9.98973846e-04, 1.99604034e-03,\n",
       "        2.38418579e-07, 9.96947289e-04, 9.97185707e-04, 1.49598122e-02,\n",
       "        1.49536133e-03, 4.99486923e-04, 2.99263000e-03, 1.49631500e-03,\n",
       "        1.99401379e-03, 4.98533249e-04]),\n",
       " 'param_criterion': masked_array(data=['gini', 'gini', 'gini', 'gini', 'gini', 'gini', 'gini',\n",
       "                    'gini', 'gini', 'gini', 'gini', 'gini', 'gini', 'gini',\n",
       "                    'gini', 'entropy', 'entropy', 'entropy', 'entropy',\n",
       "                    'entropy', 'entropy', 'entropy', 'entropy', 'entropy',\n",
       "                    'entropy', 'entropy', 'entropy', 'entropy', 'entropy',\n",
       "                    'entropy'],\n",
       "              mask=[False, False, False, False, False, False, False, False,\n",
       "                    False, False, False, False, False, False, False, False,\n",
       "                    False, False, False, False, False, False, False, False,\n",
       "                    False, False, False, False, False, False],\n",
       "        fill_value='?',\n",
       "             dtype=object),\n",
       " 'param_max_depth': masked_array(data=[4, 5, 6, 7, 8, 9, 10, 11, 12, 13, 14, 15, 16, 17, None,\n",
       "                    4, 5, 6, 7, 8, 9, 10, 11, 12, 13, 14, 15, 16, 17, None],\n",
       "              mask=[False, False, False, False, False, False, False, False,\n",
       "                    False, False, False, False, False, False, False, False,\n",
       "                    False, False, False, False, False, False, False, False,\n",
       "                    False, False, False, False, False, False],\n",
       "        fill_value='?',\n",
       "             dtype=object),\n",
       " 'params': [{'criterion': 'gini', 'max_depth': 4},\n",
       "  {'criterion': 'gini', 'max_depth': 5},\n",
       "  {'criterion': 'gini', 'max_depth': 6},\n",
       "  {'criterion': 'gini', 'max_depth': 7},\n",
       "  {'criterion': 'gini', 'max_depth': 8},\n",
       "  {'criterion': 'gini', 'max_depth': 9},\n",
       "  {'criterion': 'gini', 'max_depth': 10},\n",
       "  {'criterion': 'gini', 'max_depth': 11},\n",
       "  {'criterion': 'gini', 'max_depth': 12},\n",
       "  {'criterion': 'gini', 'max_depth': 13},\n",
       "  {'criterion': 'gini', 'max_depth': 14},\n",
       "  {'criterion': 'gini', 'max_depth': 15},\n",
       "  {'criterion': 'gini', 'max_depth': 16},\n",
       "  {'criterion': 'gini', 'max_depth': 17},\n",
       "  {'criterion': 'gini', 'max_depth': None},\n",
       "  {'criterion': 'entropy', 'max_depth': 4},\n",
       "  {'criterion': 'entropy', 'max_depth': 5},\n",
       "  {'criterion': 'entropy', 'max_depth': 6},\n",
       "  {'criterion': 'entropy', 'max_depth': 7},\n",
       "  {'criterion': 'entropy', 'max_depth': 8},\n",
       "  {'criterion': 'entropy', 'max_depth': 9},\n",
       "  {'criterion': 'entropy', 'max_depth': 10},\n",
       "  {'criterion': 'entropy', 'max_depth': 11},\n",
       "  {'criterion': 'entropy', 'max_depth': 12},\n",
       "  {'criterion': 'entropy', 'max_depth': 13},\n",
       "  {'criterion': 'entropy', 'max_depth': 14},\n",
       "  {'criterion': 'entropy', 'max_depth': 15},\n",
       "  {'criterion': 'entropy', 'max_depth': 16},\n",
       "  {'criterion': 'entropy', 'max_depth': 17},\n",
       "  {'criterion': 'entropy', 'max_depth': None}],\n",
       " 'split0_test_score': array([0.72526741, 0.78549336, 0.78948838, 0.79513725, 0.80759483,\n",
       "        0.81481163, 0.8234675 , 0.82363933, 0.82056789, 0.82063233,\n",
       "        0.82041754, 0.81801194, 0.81412432, 0.81122471, 0.78493492,\n",
       "        0.72526741, 0.78549336, 0.78948838, 0.79537351, 0.80780961,\n",
       "        0.81650844, 0.81854891, 0.81629366, 0.81635809, 0.8180549 ,\n",
       "        0.81869926, 0.81857039, 0.81637957, 0.81605739, 0.78963873]),\n",
       " 'split1_test_score': array([0.72489636, 0.78499474, 0.78883949, 0.79663638, 0.80580793,\n",
       "        0.81300342, 0.81407737, 0.82279786, 0.82601972, 0.82449471,\n",
       "        0.8228623 , 0.82277638, 0.81755697, 0.81549498, 0.79240501,\n",
       "        0.72489636, 0.78499474, 0.78883949, 0.79665786, 0.80591533,\n",
       "        0.8141418 , 0.81564534, 0.82236828, 0.82668557, 0.82466654,\n",
       "        0.82406512, 0.82260455, 0.82273342, 0.82312005, 0.79257684]),\n",
       " 'mean_test_score': array([0.72508189, 0.78524405, 0.78916394, 0.79588681, 0.80670139,\n",
       "        0.81390753, 0.81877249, 0.8232186 , 0.82329378, 0.8225635 ,\n",
       "        0.82163991, 0.82039414, 0.81584063, 0.81335982, 0.78866992,\n",
       "        0.72508189, 0.78524405, 0.78916394, 0.79601568, 0.80686248,\n",
       "        0.81532514, 0.81709714, 0.81933093, 0.82152177, 0.82136068,\n",
       "        0.82138216, 0.82058745, 0.81955646, 0.81958868, 0.79110777]),\n",
       " 'std_test_score': array([0.00018552, 0.00024931, 0.00032445, 0.00074957, 0.00089345,\n",
       "        0.00090411, 0.00469507, 0.00042074, 0.00272591, 0.00193119,\n",
       "        0.00122238, 0.00238222, 0.00171633, 0.00213514, 0.00373504,\n",
       "        0.00018552, 0.00024931, 0.00032445, 0.00064217, 0.00094714,\n",
       "        0.00118332, 0.00145178, 0.00303731, 0.00516374, 0.00330582,\n",
       "        0.00268293, 0.00201708, 0.00317693, 0.00353133, 0.00146906]),\n",
       " 'rank_test_score': array([29, 27, 24, 22, 20, 17, 13,  2,  1,  3,  4,  9, 15, 18, 26, 29, 27,\n",
       "        24, 21, 19, 16, 14, 12,  5,  7,  6,  8, 11, 10, 23])}"
      ]
     },
     "execution_count": 7,
     "metadata": {},
     "output_type": "execute_result"
    }
   ],
   "source": [
    "grid_search_acc.cv_results_\n",
    "\n"
   ]
  }
 ],
 "metadata": {
  "kernelspec": {
   "display_name": "Python 3",
   "language": "python",
   "name": "python3"
  },
  "language_info": {
   "codemirror_mode": {
    "name": "ipython",
    "version": 3
   },
   "file_extension": ".py",
   "mimetype": "text/x-python",
   "name": "python",
   "nbconvert_exporter": "python",
   "pygments_lexer": "ipython3",
   "version": "3.7.4"
  },
  "pycharm": {
   "stem_cell": {
    "cell_type": "raw",
    "metadata": {
     "collapsed": false
    },
    "source": []
   }
  }
 },
 "nbformat": 4,
 "nbformat_minor": 1
}
