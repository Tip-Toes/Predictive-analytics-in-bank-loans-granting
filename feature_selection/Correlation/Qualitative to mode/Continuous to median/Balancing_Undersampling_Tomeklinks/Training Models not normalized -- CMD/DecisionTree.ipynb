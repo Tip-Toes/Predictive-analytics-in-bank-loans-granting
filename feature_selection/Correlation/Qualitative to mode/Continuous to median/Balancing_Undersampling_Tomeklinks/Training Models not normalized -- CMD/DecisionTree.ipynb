{
 "cells": [
  {
   "cell_type": "code",
   "execution_count": 1,
   "metadata": {
    "pycharm": {
     "is_executing": false
    }
   },
   "outputs": [],
   "source": [
    "from pylab import rcParams\n",
    "rcParams['figure.figsize'] = 10, 5\n",
    "import warnings\n",
    "warnings.filterwarnings('ignore')\n",
    "from sklearn.tree import DecisionTreeClassifier\n",
    "import pandas as pd\n",
    "from sklearn.model_selection import GridSearchCV, train_test_split\n",
    "from sklearn.metrics import confusion_matrix, classification_report, average_precision_score, accuracy_score\n",
    "import csv"
   ]
  },
  {
   "cell_type": "code",
   "execution_count": 99,
   "metadata": {
    "pycharm": {
     "is_executing": false,
     "name": "#%%\n"
    }
   },
   "outputs": [],
   "source": []
  },
  {
   "cell_type": "code",
   "execution_count": 2,
   "metadata": {
    "pycharm": {
     "is_executing": false,
     "name": "#%%\n"
    }
   },
   "outputs": [],
   "source": [
    "def get_algo_path():\n",
    "    import os\n",
    "    cwd = os.getcwd()\n",
    "    s='\\\\'\n",
    "    if '\\\\' not in cwd:\n",
    "        s='/'\n",
    "    cwd= cwd.split(s)[4:-1]\n",
    "    cwd.append('Not Normalized')\n",
    "    cwd='/'.join(cwd)\n",
    "    return cwd\n",
    "\n",
    "def get_csv_path():\n",
    "    import os\n",
    "    cwd = os.getcwd()\n",
    "    s=\"\\\\\"\n",
    "    if \"\\\\\" not in cwd:\n",
    "        s='/'\n",
    "    file= cwd.split(s)[:4]\n",
    "    file.append('models_scores.csv')\n",
    "    file= s.join(file)\n",
    "    return file\n",
    "\n",
    "def line_is_exist(file, row):\n",
    "    logfile = open(file, 'r')\n",
    "    loglist = logfile.readlines()\n",
    "    logfile.close()\n",
    "    for line in loglist:\n",
    "        if ','.join(row) in line:\n",
    "            return True\n",
    "    return False\n",
    "\n",
    "def write_new_score(file, line):\n",
    "    if( not line_is_exist(file, line) ):\n",
    "        with open(file, 'a') as f:\n",
    "            writer = csv.writer(f)\n",
    "            writer.writerow(line)\n",
    "    else:\n",
    "        print('line exsist already')\n",
    "    "
   ]
  },
  {
   "cell_type": "code",
   "execution_count": 3,
   "metadata": {
    "pycharm": {
     "is_executing": false,
     "name": "#%%\n"
    }
   },
   "outputs": [],
   "source": [
    "data= pd.read_csv('../data.csv')"
   ]
  },
  {
   "cell_type": "code",
   "execution_count": 4,
   "metadata": {
    "pycharm": {
     "is_executing": false,
     "name": "#%%\n"
    }
   },
   "outputs": [],
   "source": [
    "##copying data\n",
    "data1=data.copy()\n",
    "### spliting data en X et Y\n",
    "X= data1.drop('Loan Status', axis=1)\n",
    "Y= data1['Loan Status']\n",
    "### spliting the data to train and test\n",
    "X_train , X_test , Y_train , Y_test = train_test_split(X, Y, test_size = 0.30, random_state = 123)\n",
    "## dicision tree (CART)\n",
    "dct = DecisionTreeClassifier()\n",
    "params={'criterion' : ['gini', 'entropy'],\n",
    "        'max_depth': [4, 5, 6, 7, 8, 9, 10, 11, 12, 13,14, 15, 16, 17, None]}\n",
    "\n",
    "##accuracy\n",
    "grid_search_acc= GridSearchCV(estimator=dct, param_grid= params, scoring='accuracy',cv=2, n_jobs=-1)\n",
    "grid_search_acc= grid_search_acc.fit(X_train, Y_train)\n",
    "y_predict= grid_search_acc.best_estimator_.predict(X_test)\n"
   ]
  },
  {
   "cell_type": "code",
   "execution_count": 5,
   "metadata": {
    "pycharm": {
     "is_executing": false,
     "name": "#%%\n"
    }
   },
   "outputs": [],
   "source": [
    "## get avg precision & avg recall\n",
    "report= classification_report(Y_test, y_predict, output_dict=True)\n",
    "avg_list = report.pop(\"weighted avg\")\n",
    "avg_precision= round(avg_list['precision'], 3)\n",
    "avg_recall= round(avg_list['recall'], 3)\n",
    "accuraccy= round(accuracy_score(Y_test,y_predict), 3)\n",
    "## csv row\n",
    "csv_row = [get_algo_path(), 'Decision Tree', str(grid_search_acc.best_params_), str(accuraccy), str(avg_precision), str(avg_recall)]\n",
    "## write file\n",
    "csv_file= get_csv_path()\n",
    "write_new_score(csv_file, csv_row)"
   ]
  },
  {
   "cell_type": "code",
   "execution_count": 6,
   "metadata": {
    "pycharm": {
     "is_executing": false,
     "name": "#%%\n"
    }
   },
   "outputs": [
    {
     "name": "stdout",
     "output_type": "stream",
     "text": [
      "----------\n",
      "best parameters:  {'criterion': 'gini', 'max_depth': 4}\n",
      "----------\n",
      "[[ 1377  5340]\n",
      " [    0 17377]]\n",
      "----------\n",
      "              precision    recall  f1-score   support\n",
      "\n",
      "           0       1.00      0.21      0.34      6717\n",
      "           1       0.76      1.00      0.87     17377\n",
      "\n",
      "    accuracy                           0.78     24094\n",
      "   macro avg       0.88      0.60      0.60     24094\n",
      "weighted avg       0.83      0.78      0.72     24094\n",
      "\n",
      "----------\n"
     ]
    }
   ],
   "source": [
    "## evaluating the model\n",
    "print(\"----------\")\n",
    "print('best parameters: ', grid_search_acc.best_params_)\n",
    "print(\"----------\")\n",
    "print(confusion_matrix(Y_test,y_predict))\n",
    "print(\"----------\")\n",
    "print(classification_report(Y_test, y_predict))\n",
    "print(\"----------\")\n"
   ]
  },
  {
   "cell_type": "code",
   "execution_count": 7,
   "metadata": {
    "collapsed": false,
    "pycharm": {
     "is_executing": false,
     "name": "#%%\n"
    }
   },
   "outputs": [
    {
     "data": {
      "text/plain": [
       "{'mean_fit_time': array([0.23985898, 0.28174853, 0.3650229 , 0.42386568, 0.38147962,\n",
       "        0.41887987, 0.50365329, 0.54204953, 0.5151217 , 0.56798041,\n",
       "        0.64128494, 0.66123044, 0.64278007, 0.63679671, 0.77642477,\n",
       "        0.23985815, 0.33161271, 0.34657335, 0.43234396, 0.51312768,\n",
       "        0.51518309, 0.61186349, 0.71159708, 0.72555983, 0.78290713,\n",
       "        0.81631637, 0.89560521, 0.86468816, 0.8487283 , 0.90710568]),\n",
       " 'std_fit_time': array([0.00847781, 0.00149536, 0.01396346, 0.01795232, 0.00548589,\n",
       "        0.01097047, 0.01097131, 0.00748074, 0.02144241, 0.03041899,\n",
       "        0.03989291, 0.03690135, 0.01246786, 0.00249338, 0.05435455,\n",
       "        0.00049806, 0.01745307, 0.00748014, 0.0154593 , 0.01346338,\n",
       "        0.00255311, 0.01845086, 0.02144325, 0.05235946, 0.01097119,\n",
       "        0.00348997, 0.02892292, 0.00099659, 0.00997317, 0.03437805]),\n",
       " 'mean_score_time': array([0.01595783, 0.01496089, 0.01645708, 0.0144614 , 0.01346385,\n",
       "        0.01695454, 0.0134635 , 0.01894915, 0.01994634, 0.01496029,\n",
       "        0.01845074, 0.02443469, 0.01695514, 0.01695466, 0.01994634,\n",
       "        0.01196814, 0.01246727, 0.01246631, 0.02343678, 0.01296592,\n",
       "        0.01340353, 0.01745379, 0.01496041, 0.01545882, 0.02094924,\n",
       "        0.01645637, 0.01795208, 0.01446092, 0.01147008, 0.01195621]),\n",
       " 'std_score_time': array([9.97066498e-04, 1.31130219e-06, 4.99725342e-04, 1.49548054e-03,\n",
       "        4.98414040e-04, 5.96046448e-07, 4.98294830e-04, 1.99496746e-03,\n",
       "        9.98020172e-04, 2.38418579e-07, 1.49559975e-03, 8.47709179e-03,\n",
       "        9.53674316e-07, 9.97066498e-04, 2.38418579e-07, 2.38418579e-07,\n",
       "        4.98652458e-04, 4.99367714e-04, 1.04711056e-02, 9.97781754e-04,\n",
       "        5.58972359e-04, 4.98890877e-04, 3.57627869e-07, 1.49703026e-03,\n",
       "        2.99775600e-03, 1.49679184e-03, 9.97662544e-04, 3.49080563e-03,\n",
       "        4.98771667e-04, 1.19209290e-05]),\n",
       " 'param_criterion': masked_array(data=['gini', 'gini', 'gini', 'gini', 'gini', 'gini', 'gini',\n",
       "                    'gini', 'gini', 'gini', 'gini', 'gini', 'gini', 'gini',\n",
       "                    'gini', 'entropy', 'entropy', 'entropy', 'entropy',\n",
       "                    'entropy', 'entropy', 'entropy', 'entropy', 'entropy',\n",
       "                    'entropy', 'entropy', 'entropy', 'entropy', 'entropy',\n",
       "                    'entropy'],\n",
       "              mask=[False, False, False, False, False, False, False, False,\n",
       "                    False, False, False, False, False, False, False, False,\n",
       "                    False, False, False, False, False, False, False, False,\n",
       "                    False, False, False, False, False, False],\n",
       "        fill_value='?',\n",
       "             dtype=object),\n",
       " 'param_max_depth': masked_array(data=[4, 5, 6, 7, 8, 9, 10, 11, 12, 13, 14, 15, 16, 17, None,\n",
       "                    4, 5, 6, 7, 8, 9, 10, 11, 12, 13, 14, 15, 16, 17, None],\n",
       "              mask=[False, False, False, False, False, False, False, False,\n",
       "                    False, False, False, False, False, False, False, False,\n",
       "                    False, False, False, False, False, False, False, False,\n",
       "                    False, False, False, False, False, False],\n",
       "        fill_value='?',\n",
       "             dtype=object),\n",
       " 'params': [{'criterion': 'gini', 'max_depth': 4},\n",
       "  {'criterion': 'gini', 'max_depth': 5},\n",
       "  {'criterion': 'gini', 'max_depth': 6},\n",
       "  {'criterion': 'gini', 'max_depth': 7},\n",
       "  {'criterion': 'gini', 'max_depth': 8},\n",
       "  {'criterion': 'gini', 'max_depth': 9},\n",
       "  {'criterion': 'gini', 'max_depth': 10},\n",
       "  {'criterion': 'gini', 'max_depth': 11},\n",
       "  {'criterion': 'gini', 'max_depth': 12},\n",
       "  {'criterion': 'gini', 'max_depth': 13},\n",
       "  {'criterion': 'gini', 'max_depth': 14},\n",
       "  {'criterion': 'gini', 'max_depth': 15},\n",
       "  {'criterion': 'gini', 'max_depth': 16},\n",
       "  {'criterion': 'gini', 'max_depth': 17},\n",
       "  {'criterion': 'gini', 'max_depth': None},\n",
       "  {'criterion': 'entropy', 'max_depth': 4},\n",
       "  {'criterion': 'entropy', 'max_depth': 5},\n",
       "  {'criterion': 'entropy', 'max_depth': 6},\n",
       "  {'criterion': 'entropy', 'max_depth': 7},\n",
       "  {'criterion': 'entropy', 'max_depth': 8},\n",
       "  {'criterion': 'entropy', 'max_depth': 9},\n",
       "  {'criterion': 'entropy', 'max_depth': 10},\n",
       "  {'criterion': 'entropy', 'max_depth': 11},\n",
       "  {'criterion': 'entropy', 'max_depth': 12},\n",
       "  {'criterion': 'entropy', 'max_depth': 13},\n",
       "  {'criterion': 'entropy', 'max_depth': 14},\n",
       "  {'criterion': 'entropy', 'max_depth': 15},\n",
       "  {'criterion': 'entropy', 'max_depth': 16},\n",
       "  {'criterion': 'entropy', 'max_depth': 17},\n",
       "  {'criterion': 'entropy', 'max_depth': None}],\n",
       " 'split0_test_score': array([0.7793312 , 0.7793312 , 0.77886873, 0.77883316, 0.77644966,\n",
       "        0.77324795, 0.77072216, 0.76961935, 0.76282462, 0.76157951,\n",
       "        0.75674137, 0.75240128, 0.74404127, 0.73817147, 0.69967983,\n",
       "        0.7793312 , 0.7793312 , 0.77886873, 0.77915333, 0.77847741,\n",
       "        0.77605834, 0.77285663, 0.76905016, 0.76517254, 0.76471007,\n",
       "        0.75759516, 0.75570971, 0.74841693, 0.74567769, 0.70320171]),\n",
       " 'split1_test_score': array([0.77982141, 0.77982141, 0.77957238, 0.77576577, 0.77857626,\n",
       "        0.77526771, 0.77195916, 0.76651606, 0.7626383 , 0.75936533,\n",
       "        0.75474047, 0.7504358 , 0.74296489, 0.73819773, 0.69632502,\n",
       "        0.77982141, 0.77982141, 0.77957238, 0.7782205 , 0.77661959,\n",
       "        0.7760148 , 0.77398698, 0.77388025, 0.7704294 , 0.76811697,\n",
       "        0.76413248, 0.76214024, 0.75192999, 0.75377993, 0.69383471]),\n",
       " 'mean_test_score': array([0.7795763 , 0.7795763 , 0.77922055, 0.77729949, 0.77751294,\n",
       "        0.77425781, 0.77134065, 0.76806774, 0.76273146, 0.76047244,\n",
       "        0.75574094, 0.75141856, 0.74350309, 0.7381846 , 0.69800245,\n",
       "        0.7795763 , 0.7795763 , 0.77922055, 0.77868692, 0.77754852,\n",
       "        0.77603657, 0.7734218 , 0.77146516, 0.76780092, 0.76641349,\n",
       "        0.76086376, 0.75892492, 0.75017343, 0.74972874, 0.69851829]),\n",
       " 'std_test_score': array([2.45105326e-04, 2.45105326e-04, 3.51824482e-04, 1.53369324e-03,\n",
       "        1.06329734e-03, 1.00987669e-03, 6.18498028e-04, 1.55164504e-03,\n",
       "        9.31583369e-05, 1.10709062e-03, 1.00044930e-03, 9.82738602e-04,\n",
       "        5.38189881e-04, 1.31305181e-05, 1.67740439e-03, 2.45105326e-04,\n",
       "        2.45105326e-04, 3.51824482e-04, 4.66413723e-04, 9.28911071e-04,\n",
       "        2.17713483e-05, 5.65172305e-04, 2.41504590e-03, 2.62843169e-03,\n",
       "        1.70345281e-03, 3.26866120e-03, 3.21526397e-03, 1.75652668e-03,\n",
       "        4.05111668e-03, 4.68349636e-03]),\n",
       " 'rank_test_score': array([ 1,  1,  5, 10,  9, 12, 15, 16, 19, 21, 23, 24, 27, 28, 30,  1,  1,\n",
       "         5,  7,  8, 11, 13, 14, 17, 18, 20, 22, 25, 26, 29])}"
      ]
     },
     "execution_count": 7,
     "metadata": {},
     "output_type": "execute_result"
    }
   ],
   "source": [
    "grid_search_acc.cv_results_\n",
    "\n"
   ]
  }
 ],
 "metadata": {
  "kernelspec": {
   "display_name": "Python 3",
   "language": "python",
   "name": "python3"
  },
  "language_info": {
   "codemirror_mode": {
    "name": "ipython",
    "version": 3
   },
   "file_extension": ".py",
   "mimetype": "text/x-python",
   "name": "python",
   "nbconvert_exporter": "python",
   "pygments_lexer": "ipython3",
   "version": "3.7.4"
  },
  "pycharm": {
   "stem_cell": {
    "cell_type": "raw",
    "metadata": {
     "collapsed": false
    },
    "source": []
   }
  }
 },
 "nbformat": 4,
 "nbformat_minor": 1
}
