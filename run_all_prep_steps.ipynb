{
 "cells": [
  {
   "cell_type": "code",
   "execution_count": 1,
   "metadata": {
    "pycharm": {
     "is_executing": false
    }
   },
   "outputs": [
    {
     "name": "stderr",
     "output_type": "stream",
     "text": [
      "[NbConvertApp] Converting notebook 1_prep.ipynb to notebook\n",
      "[NbConvertApp] Executing notebook with kernel: python3\n",
      "[NbConvertApp] Writing 143675 bytes to 1_prep.ipynb\n",
      "[NbConvertApp] Converting notebook feature_selection/feature_selection.ipynb to notebook\n",
      "[NbConvertApp] Executing notebook with kernel: python3\n",
      "[NbConvertApp] Writing 14371 bytes to feature_selection\\feature_selection.ipynb\n",
      "[NbConvertApp] Converting notebook feature_selection/Univariante ROC_AUC/qualitative_deleted_or_mode.ipynb to notebook\n",
      "[NbConvertApp] Executing notebook with kernel: python3\n",
      "[NbConvertApp] Writing 11092 bytes to feature_selection/Univariante ROC_AUC\\qualitative_deleted_or_mode.ipynb\n"
     ]
    }
   ],
   "source": [
    "!jupyter nbconvert --to notebook --inplace --ExecutePreprocessor.timeout=99999999 --execute 1_prep.ipynb\n",
    "!jupyter nbconvert --to notebook --inplace --ExecutePreprocessor.timeout=99999999 --execute feature_selection/feature_selection.ipynb\n",
    "!jupyter nbconvert --to notebook --inplace --ExecutePreprocessor.timeout=99999999 --execute feature_selection/\"Univariante ROC_AUC\"/qualitative_deleted_or_mode.ipynb"
   ]
  },
  {
   "cell_type": "code",
   "execution_count": 2,
   "metadata": {
    "pycharm": {
     "is_executing": false,
     "name": "#%%\n"
    }
   },
   "outputs": [
    {
     "name": "stderr",
     "output_type": "stream",
     "text": [
      "[NbConvertApp] Converting notebook feature_selection/Univariante ROC_AUC/Qualitative deleted/continuous_deleted_or_median.ipynb to notebook\n",
      "[NbConvertApp] Executing notebook with kernel: python3\n",
      "[NbConvertApp] Writing 11868 bytes to feature_selection/Univariante ROC_AUC/Qualitative deleted\\continuous_deleted_or_median.ipynb\n",
      "[NbConvertApp] Converting notebook feature_selection/Univariante ROC_AUC/Qualitative deleted/Continuous deleted/balancing.ipynb to notebook\n",
      "[NbConvertApp] Executing notebook with kernel: python3\n",
      "Error in atexit._run_exitfuncs:\n",
      "Traceback (most recent call last):\n",
      "  File \"C:\\Users\\Omar\\Anaconda3\\lib\\logging\\__init__.py\", line 2033, in shutdown\n",
      "    h.flush()\n",
      "  File \"C:\\Users\\Omar\\Anaconda3\\lib\\site-packages\\absl\\logging\\__init__.py\", line 892, in flush\n",
      "    self._current_handler.flush()\n",
      "  File \"C:\\Users\\Omar\\Anaconda3\\lib\\site-packages\\absl\\logging\\__init__.py\", line 785, in flush\n",
      "    self.stream.flush()\n",
      "  File \"C:\\Users\\Omar\\Anaconda3\\lib\\site-packages\\ipykernel\\iostream.py\", line 341, in flush\n",
      "    if self.pub_thread.thread.is_alive():\n",
      "AttributeError: 'NoneType' object has no attribute 'thread'\n",
      "[NbConvertApp] Writing 11018 bytes to feature_selection/Univariante ROC_AUC/Qualitative deleted/Continuous deleted\\balancing.ipynb\n",
      "[NbConvertApp] Converting notebook feature_selection/Univariante ROC_AUC/Qualitative deleted/Continuous deleted/Balancing_Oversamlping_SMOTE/4_norm.ipynb to notebook\n",
      "[NbConvertApp] Executing notebook with kernel: python3\n",
      "[NbConvertApp] Writing 13501 bytes to feature_selection/Univariante ROC_AUC/Qualitative deleted/Continuous deleted/Balancing_Oversamlping_SMOTE\\4_norm.ipynb\n",
      "[NbConvertApp] Converting notebook feature_selection/Univariante ROC_AUC/Qualitative deleted/Continuous deleted/Balancing_Undersampling_Tomeklinks/4_norm.ipynb to notebook\n",
      "[NbConvertApp] Executing notebook with kernel: python3\n",
      "[NbConvertApp] Writing 13503 bytes to feature_selection/Univariante ROC_AUC/Qualitative deleted/Continuous deleted/Balancing_Undersampling_Tomeklinks\\4_norm.ipynb\n",
      "[NbConvertApp] Converting notebook feature_selection/Univariante ROC_AUC/Qualitative deleted/Continuous to median/balancing.ipynb to notebook\n",
      "[NbConvertApp] Executing notebook with kernel: python3\n",
      "Error in atexit._run_exitfuncs:\n",
      "Traceback (most recent call last):\n",
      "  File \"C:\\Users\\Omar\\Anaconda3\\lib\\logging\\__init__.py\", line 2033, in shutdown\n",
      "    h.flush()\n",
      "  File \"C:\\Users\\Omar\\Anaconda3\\lib\\site-packages\\absl\\logging\\__init__.py\", line 892, in flush\n",
      "    self._current_handler.flush()\n",
      "  File \"C:\\Users\\Omar\\Anaconda3\\lib\\site-packages\\absl\\logging\\__init__.py\", line 785, in flush\n",
      "    self.stream.flush()\n",
      "  File \"C:\\Users\\Omar\\Anaconda3\\lib\\site-packages\\ipykernel\\iostream.py\", line 341, in flush\n",
      "    if self.pub_thread.thread.is_alive():\n",
      "AttributeError: 'NoneType' object has no attribute 'thread'\n",
      "[NbConvertApp] Writing 10997 bytes to feature_selection/Univariante ROC_AUC/Qualitative deleted/Continuous to median\\balancing.ipynb\n",
      "[NbConvertApp] Converting notebook feature_selection/Univariante ROC_AUC/Qualitative deleted/Continuous to median/Balancing_Oversamlping_SMOTE/4_norm.ipynb to notebook\n",
      "[NbConvertApp] Executing notebook with kernel: python3\n",
      "[NbConvertApp] Writing 13500 bytes to feature_selection/Univariante ROC_AUC/Qualitative deleted/Continuous to median/Balancing_Oversamlping_SMOTE\\4_norm.ipynb\n",
      "[NbConvertApp] Converting notebook feature_selection/Univariante ROC_AUC/Qualitative deleted/Continuous to median/Balancing_Undersampling_Tomeklinks/4_norm.ipynb to notebook\n",
      "[NbConvertApp] Executing notebook with kernel: python3\n",
      "[NbConvertApp] Writing 13502 bytes to feature_selection/Univariante ROC_AUC/Qualitative deleted/Continuous to median/Balancing_Undersampling_Tomeklinks\\4_norm.ipynb\n"
     ]
    }
   ],
   "source": [
    "!jupyter nbconvert --to notebook --inplace --ExecutePreprocessor.timeout=99999999 --execute feature_selection/\"Univariante ROC_AUC\"/\"Qualitative deleted\"/continuous_deleted_or_median.ipynb\n",
    "!jupyter nbconvert --to notebook --inplace --ExecutePreprocessor.timeout=99999999 --execute feature_selection/\"Univariante ROC_AUC\"/\"Qualitative deleted\"/\"Continuous deleted\"/balancing.ipynb\n",
    "!jupyter nbconvert --to notebook --inplace --ExecutePreprocessor.timeout=99999999 --execute feature_selection/\"Univariante ROC_AUC\"/\"Qualitative deleted\"/\"Continuous deleted\"/Balancing_Oversamlping_SMOTE/4_norm.ipynb\n",
    "!jupyter nbconvert --to notebook --inplace --ExecutePreprocessor.timeout=99999999 --execute feature_selection/\"Univariante ROC_AUC\"/\"Qualitative deleted\"/\"Continuous deleted\"/Balancing_Undersampling_Tomeklinks/4_norm.ipynb\n",
    "!jupyter nbconvert --to notebook --inplace --ExecutePreprocessor.timeout=99999999 --execute feature_selection/\"Univariante ROC_AUC\"/\"Qualitative deleted\"/\"Continuous to median\"/balancing.ipynb\n",
    "!jupyter nbconvert --to notebook --inplace --ExecutePreprocessor.timeout=99999999 --execute feature_selection/\"Univariante ROC_AUC\"/\"Qualitative deleted\"/\"Continuous to median\"/Balancing_Oversamlping_SMOTE/4_norm.ipynb\n",
    "!jupyter nbconvert --to notebook --inplace --ExecutePreprocessor.timeout=99999999 --execute feature_selection/\"Univariante ROC_AUC\"/\"Qualitative deleted\"/\"Continuous to median\"/Balancing_Undersampling_Tomeklinks/4_norm.ipynb\n"
   ]
  },
  {
   "cell_type": "code",
   "execution_count": 3,
   "metadata": {
    "pycharm": {
     "is_executing": false,
     "name": "#%%\n"
    }
   },
   "outputs": [
    {
     "name": "stderr",
     "output_type": "stream",
     "text": [
      "[NbConvertApp] Converting notebook feature_selection/Univariante ROC_AUC/Qualitative to mode/continuous_deleted_or_median.ipynb to notebook\n",
      "[NbConvertApp] Executing notebook with kernel: python3\n",
      "[NbConvertApp] Writing 11868 bytes to feature_selection/Univariante ROC_AUC/Qualitative to mode\\continuous_deleted_or_median.ipynb\n",
      "[NbConvertApp] Converting notebook feature_selection/Univariante ROC_AUC/Qualitative to mode/Continuous deleted/balancing.ipynb to notebook\n",
      "[NbConvertApp] Executing notebook with kernel: python3\n",
      "Error in atexit._run_exitfuncs:\n",
      "Traceback (most recent call last):\n",
      "  File \"C:\\Users\\Omar\\Anaconda3\\lib\\logging\\__init__.py\", line 2033, in shutdown\n",
      "    h.flush()\n",
      "  File \"C:\\Users\\Omar\\Anaconda3\\lib\\site-packages\\absl\\logging\\__init__.py\", line 892, in flush\n",
      "    self._current_handler.flush()\n",
      "  File \"C:\\Users\\Omar\\Anaconda3\\lib\\site-packages\\absl\\logging\\__init__.py\", line 785, in flush\n",
      "    self.stream.flush()\n",
      "  File \"C:\\Users\\Omar\\Anaconda3\\lib\\site-packages\\ipykernel\\iostream.py\", line 341, in flush\n",
      "    if self.pub_thread.thread.is_alive():\n",
      "AttributeError: 'NoneType' object has no attribute 'thread'\n",
      "[NbConvertApp] Writing 11018 bytes to feature_selection/Univariante ROC_AUC/Qualitative to mode/Continuous deleted\\balancing.ipynb\n",
      "[NbConvertApp] Converting notebook feature_selection/Univariante ROC_AUC/Qualitative to mode/Continuous deleted/Balancing_Oversamlping_SMOTE/4_norm.ipynb to notebook\n",
      "[NbConvertApp] Executing notebook with kernel: python3\n",
      "[NbConvertApp] Writing 13501 bytes to feature_selection/Univariante ROC_AUC/Qualitative to mode/Continuous deleted/Balancing_Oversamlping_SMOTE\\4_norm.ipynb\n",
      "[NbConvertApp] Converting notebook feature_selection/Univariante ROC_AUC/Qualitative to mode/Continuous deleted/Balancing_Undersampling_Tomeklinks/4_norm.ipynb to notebook\n",
      "[NbConvertApp] Executing notebook with kernel: python3\n",
      "[NbConvertApp] Writing 13503 bytes to feature_selection/Univariante ROC_AUC/Qualitative to mode/Continuous deleted/Balancing_Undersampling_Tomeklinks\\4_norm.ipynb\n",
      "[NbConvertApp] Converting notebook feature_selection/Univariante ROC_AUC/Qualitative to mode/Continuous to median/balancing.ipynb to notebook\n",
      "[NbConvertApp] Executing notebook with kernel: python3\n",
      "Error in atexit._run_exitfuncs:\n",
      "Traceback (most recent call last):\n",
      "  File \"C:\\Users\\Omar\\Anaconda3\\lib\\logging\\__init__.py\", line 2033, in shutdown\n",
      "    h.flush()\n",
      "  File \"C:\\Users\\Omar\\Anaconda3\\lib\\site-packages\\absl\\logging\\__init__.py\", line 892, in flush\n",
      "    self._current_handler.flush()\n",
      "  File \"C:\\Users\\Omar\\Anaconda3\\lib\\site-packages\\absl\\logging\\__init__.py\", line 785, in flush\n",
      "    self.stream.flush()\n",
      "  File \"C:\\Users\\Omar\\Anaconda3\\lib\\site-packages\\ipykernel\\iostream.py\", line 341, in flush\n",
      "    if self.pub_thread.thread.is_alive():\n",
      "AttributeError: 'NoneType' object has no attribute 'thread'\n",
      "[NbConvertApp] Writing 10997 bytes to feature_selection/Univariante ROC_AUC/Qualitative to mode/Continuous to median\\balancing.ipynb\n",
      "[NbConvertApp] Converting notebook feature_selection/Univariante ROC_AUC/Qualitative to mode/Continuous to median/Balancing_Oversamlping_SMOTE/4_norm.ipynb to notebook\n",
      "[NbConvertApp] Executing notebook with kernel: python3\n",
      "[NbConvertApp] Writing 13500 bytes to feature_selection/Univariante ROC_AUC/Qualitative to mode/Continuous to median/Balancing_Oversamlping_SMOTE\\4_norm.ipynb\n",
      "[NbConvertApp] Converting notebook feature_selection/Univariante ROC_AUC/Qualitative to mode/Continuous to median/Balancing_Undersampling_Tomeklinks/4_norm.ipynb to notebook\n",
      "[NbConvertApp] Executing notebook with kernel: python3\n",
      "[NbConvertApp] Writing 13502 bytes to feature_selection/Univariante ROC_AUC/Qualitative to mode/Continuous to median/Balancing_Undersampling_Tomeklinks\\4_norm.ipynb\n"
     ]
    }
   ],
   "source": [
    "!jupyter nbconvert --to notebook --inplace --ExecutePreprocessor.timeout=99999999 --execute feature_selection/\"Univariante ROC_AUC\"/\"Qualitative to mode\"/continuous_deleted_or_median.ipynb\n",
    "!jupyter nbconvert --to notebook --inplace --ExecutePreprocessor.timeout=99999999 --execute feature_selection/\"Univariante ROC_AUC\"/\"Qualitative to mode\"/\"Continuous deleted\"/balancing.ipynb\n",
    "!jupyter nbconvert --to notebook --inplace --ExecutePreprocessor.timeout=99999999 --execute feature_selection/\"Univariante ROC_AUC\"/\"Qualitative to mode\"/\"Continuous deleted\"/Balancing_Oversamlping_SMOTE/4_norm.ipynb\n",
    "!jupyter nbconvert --to notebook --inplace --ExecutePreprocessor.timeout=99999999 --execute feature_selection/\"Univariante ROC_AUC\"/\"Qualitative to mode\"/\"Continuous deleted\"/Balancing_Undersampling_Tomeklinks/4_norm.ipynb\n",
    "!jupyter nbconvert --to notebook --inplace --ExecutePreprocessor.timeout=99999999 --execute feature_selection/\"Univariante ROC_AUC\"/\"Qualitative to mode\"/\"Continuous to median\"/balancing.ipynb\n",
    "!jupyter nbconvert --to notebook --inplace --ExecutePreprocessor.timeout=99999999 --execute feature_selection/\"Univariante ROC_AUC\"/\"Qualitative to mode\"/\"Continuous to median\"/Balancing_Oversamlping_SMOTE/4_norm.ipynb\n",
    "!jupyter nbconvert --to notebook --inplace --ExecutePreprocessor.timeout=99999999 --execute feature_selection/\"Univariante ROC_AUC\"/\"Qualitative to mode\"/\"Continuous to median\"/Balancing_Undersampling_Tomeklinks/4_norm.ipynb\n",
    "\n",
    "\n"
   ]
  },
  {
   "cell_type": "code",
   "execution_count": 4,
   "metadata": {
    "pycharm": {
     "is_executing": false,
     "name": "#%%\n"
    }
   },
   "outputs": [
    {
     "name": "stderr",
     "output_type": "stream",
     "text": [
      "[NbConvertApp] Converting notebook feature_selection/Correlation/qualitative_deleted_or_mode.ipynb to notebook\n",
      "[NbConvertApp] Executing notebook with kernel: python3\n",
      "[NbConvertApp] Writing 12362 bytes to feature_selection/Correlation\\qualitative_deleted_or_mode.ipynb\n",
      "[NbConvertApp] Converting notebook feature_selection/Correlation/Qualitative deleted/continuous_deleted_or_median.ipynb to notebook\n",
      "[NbConvertApp] Executing notebook with kernel: python3\n",
      "[NbConvertApp] Writing 13261 bytes to feature_selection/Correlation/Qualitative deleted\\continuous_deleted_or_median.ipynb\n",
      "[NbConvertApp] Converting notebook feature_selection/Correlation/Qualitative deleted/Continuous deleted/balancing.ipynb to notebook\n",
      "[NbConvertApp] Executing notebook with kernel: python3\n",
      "Error in atexit._run_exitfuncs:\n",
      "Traceback (most recent call last):\n",
      "  File \"C:\\Users\\Omar\\Anaconda3\\lib\\logging\\__init__.py\", line 2033, in shutdown\n",
      "    h.flush()\n",
      "  File \"C:\\Users\\Omar\\Anaconda3\\lib\\site-packages\\absl\\logging\\__init__.py\", line 892, in flush\n",
      "    self._current_handler.flush()\n",
      "  File \"C:\\Users\\Omar\\Anaconda3\\lib\\site-packages\\absl\\logging\\__init__.py\", line 785, in flush\n",
      "    self.stream.flush()\n",
      "  File \"C:\\Users\\Omar\\Anaconda3\\lib\\site-packages\\ipykernel\\iostream.py\", line 341, in flush\n",
      "    if self.pub_thread.thread.is_alive():\n",
      "AttributeError: 'NoneType' object has no attribute 'thread'\n",
      "[NbConvertApp] Writing 12296 bytes to feature_selection/Correlation/Qualitative deleted/Continuous deleted\\balancing.ipynb\n",
      "[NbConvertApp] Converting notebook feature_selection/Correlation/Qualitative deleted/Continuous deleted/Balancing_Oversamlping_SMOTE/4_norm.ipynb to notebook\n",
      "[NbConvertApp] Executing notebook with kernel: python3\n",
      "[NbConvertApp] Writing 13172 bytes to feature_selection/Correlation/Qualitative deleted/Continuous deleted/Balancing_Oversamlping_SMOTE\\4_norm.ipynb\n",
      "[NbConvertApp] Converting notebook feature_selection/Correlation/Qualitative deleted/Continuous deleted/Balancing_Undersampling_Tomeklinks/4_norm.ipynb to notebook\n",
      "[NbConvertApp] Executing notebook with kernel: python3\n",
      "[NbConvertApp] Writing 13174 bytes to feature_selection/Correlation/Qualitative deleted/Continuous deleted/Balancing_Undersampling_Tomeklinks\\4_norm.ipynb\n",
      "[NbConvertApp] Converting notebook feature_selection/Correlation/Qualitative deleted/Continuous to median/balancing.ipynb to notebook\n",
      "[NbConvertApp] Executing notebook with kernel: python3\n",
      "Error in atexit._run_exitfuncs:\n",
      "Traceback (most recent call last):\n",
      "  File \"C:\\Users\\Omar\\Anaconda3\\lib\\logging\\__init__.py\", line 2033, in shutdown\n",
      "    h.flush()\n",
      "  File \"C:\\Users\\Omar\\Anaconda3\\lib\\site-packages\\absl\\logging\\__init__.py\", line 892, in flush\n",
      "    self._current_handler.flush()\n",
      "  File \"C:\\Users\\Omar\\Anaconda3\\lib\\site-packages\\absl\\logging\\__init__.py\", line 785, in flush\n",
      "    self.stream.flush()\n",
      "  File \"C:\\Users\\Omar\\Anaconda3\\lib\\site-packages\\ipykernel\\iostream.py\", line 341, in flush\n",
      "    if self.pub_thread.thread.is_alive():\n",
      "AttributeError: 'NoneType' object has no attribute 'thread'\n",
      "[NbConvertApp] Writing 12273 bytes to feature_selection/Correlation/Qualitative deleted/Continuous to median\\balancing.ipynb\n",
      "[NbConvertApp] Converting notebook feature_selection/Correlation/Qualitative deleted/Continuous to median/Balancing_Oversamlping_SMOTE/4_norm.ipynb to notebook\n",
      "[NbConvertApp] Executing notebook with kernel: python3\n",
      "[NbConvertApp] Writing 13172 bytes to feature_selection/Correlation/Qualitative deleted/Continuous to median/Balancing_Oversamlping_SMOTE\\4_norm.ipynb\n",
      "[NbConvertApp] Converting notebook feature_selection/Correlation/Qualitative deleted/Continuous to median/Balancing_Undersampling_Tomeklinks/4_norm.ipynb to notebook\n",
      "[NbConvertApp] Executing notebook with kernel: python3\n",
      "[NbConvertApp] Writing 13174 bytes to feature_selection/Correlation/Qualitative deleted/Continuous to median/Balancing_Undersampling_Tomeklinks\\4_norm.ipynb\n"
     ]
    }
   ],
   "source": [
    "!jupyter nbconvert --to notebook --inplace --ExecutePreprocessor.timeout=99999999 --execute feature_selection/\"Correlation\"/qualitative_deleted_or_mode.ipynb\n",
    "!jupyter nbconvert --to notebook --inplace --ExecutePreprocessor.timeout=99999999 --execute feature_selection/\"Correlation\"/\"Qualitative deleted\"/continuous_deleted_or_median.ipynb\n",
    "!jupyter nbconvert --to notebook --inplace --ExecutePreprocessor.timeout=99999999 --execute feature_selection/\"Correlation\"/\"Qualitative deleted\"/\"Continuous deleted\"/balancing.ipynb\n",
    "!jupyter nbconvert --to notebook --inplace --ExecutePreprocessor.timeout=99999999 --execute feature_selection/\"Correlation\"/\"Qualitative deleted\"/\"Continuous deleted\"/Balancing_Oversamlping_SMOTE/4_norm.ipynb\n",
    "!jupyter nbconvert --to notebook --inplace --ExecutePreprocessor.timeout=99999999 --execute feature_selection/\"Correlation\"/\"Qualitative deleted\"/\"Continuous deleted\"/Balancing_Undersampling_Tomeklinks/4_norm.ipynb\n",
    "!jupyter nbconvert --to notebook --inplace --ExecutePreprocessor.timeout=99999999 --execute feature_selection/\"Correlation\"/\"Qualitative deleted\"/\"Continuous to median\"/balancing.ipynb\n",
    "!jupyter nbconvert --to notebook --inplace --ExecutePreprocessor.timeout=99999999 --execute feature_selection/\"Correlation\"/\"Qualitative deleted\"/\"Continuous to median\"/Balancing_Oversamlping_SMOTE/4_norm.ipynb\n",
    "!jupyter nbconvert --to notebook --inplace --ExecutePreprocessor.timeout=99999999 --execute feature_selection/\"Correlation\"/\"Qualitative deleted\"/\"Continuous to median\"/Balancing_Undersampling_Tomeklinks/4_norm.ipynb\n"
   ]
  },
  {
   "cell_type": "code",
   "execution_count": 5,
   "metadata": {
    "pycharm": {
     "is_executing": false,
     "name": "#%%\n"
    }
   },
   "outputs": [
    {
     "name": "stderr",
     "output_type": "stream",
     "text": [
      "[NbConvertApp] Converting notebook feature_selection/Correlation/Qualitative to mode/continuous_deleted_or_median.ipynb to notebook\n",
      "[NbConvertApp] Executing notebook with kernel: python3\n",
      "[NbConvertApp] Writing 13261 bytes to feature_selection/Correlation/Qualitative to mode\\continuous_deleted_or_median.ipynb\n",
      "[NbConvertApp] Converting notebook feature_selection/Correlation/Qualitative to mode/Continuous deleted/balancing.ipynb to notebook\n",
      "[NbConvertApp] Executing notebook with kernel: python3\n",
      "Error in atexit._run_exitfuncs:\n",
      "Traceback (most recent call last):\n",
      "  File \"C:\\Users\\Omar\\Anaconda3\\lib\\logging\\__init__.py\", line 2033, in shutdown\n",
      "    h.flush()\n",
      "  File \"C:\\Users\\Omar\\Anaconda3\\lib\\site-packages\\absl\\logging\\__init__.py\", line 892, in flush\n",
      "    self._current_handler.flush()\n",
      "  File \"C:\\Users\\Omar\\Anaconda3\\lib\\site-packages\\absl\\logging\\__init__.py\", line 785, in flush\n",
      "    self.stream.flush()\n",
      "  File \"C:\\Users\\Omar\\Anaconda3\\lib\\site-packages\\ipykernel\\iostream.py\", line 341, in flush\n",
      "    if self.pub_thread.thread.is_alive():\n",
      "AttributeError: 'NoneType' object has no attribute 'thread'\n",
      "[NbConvertApp] Writing 12296 bytes to feature_selection/Correlation/Qualitative to mode/Continuous deleted\\balancing.ipynb\n",
      "[NbConvertApp] Converting notebook feature_selection/Correlation/Qualitative to mode/Continuous deleted/Balancing_Oversamlping_SMOTE/4_norm.ipynb to notebook\n",
      "[NbConvertApp] Executing notebook with kernel: python3\n",
      "[NbConvertApp] Writing 13172 bytes to feature_selection/Correlation/Qualitative to mode/Continuous deleted/Balancing_Oversamlping_SMOTE\\4_norm.ipynb\n",
      "[NbConvertApp] Converting notebook feature_selection/Correlation/Qualitative to mode/Continuous deleted/Balancing_Undersampling_Tomeklinks/4_norm.ipynb to notebook\n",
      "[NbConvertApp] Executing notebook with kernel: python3\n",
      "[NbConvertApp] Writing 13174 bytes to feature_selection/Correlation/Qualitative to mode/Continuous deleted/Balancing_Undersampling_Tomeklinks\\4_norm.ipynb\n",
      "[NbConvertApp] Converting notebook feature_selection/Correlation/Qualitative to mode/Continuous to median/balancing.ipynb to notebook\n",
      "[NbConvertApp] Executing notebook with kernel: python3\n",
      "Error in atexit._run_exitfuncs:\n",
      "Traceback (most recent call last):\n",
      "  File \"C:\\Users\\Omar\\Anaconda3\\lib\\logging\\__init__.py\", line 2033, in shutdown\n",
      "    h.flush()\n",
      "  File \"C:\\Users\\Omar\\Anaconda3\\lib\\site-packages\\absl\\logging\\__init__.py\", line 892, in flush\n",
      "    self._current_handler.flush()\n",
      "  File \"C:\\Users\\Omar\\Anaconda3\\lib\\site-packages\\absl\\logging\\__init__.py\", line 785, in flush\n",
      "    self.stream.flush()\n",
      "  File \"C:\\Users\\Omar\\Anaconda3\\lib\\site-packages\\ipykernel\\iostream.py\", line 341, in flush\n",
      "    if self.pub_thread.thread.is_alive():\n",
      "AttributeError: 'NoneType' object has no attribute 'thread'\n",
      "[NbConvertApp] Writing 12273 bytes to feature_selection/Correlation/Qualitative to mode/Continuous to median\\balancing.ipynb\n",
      "[NbConvertApp] Converting notebook feature_selection/Correlation/Qualitative to mode/Continuous to median/Balancing_Oversamlping_SMOTE/4_norm.ipynb to notebook\n",
      "[NbConvertApp] Executing notebook with kernel: python3\n",
      "[NbConvertApp] Writing 13172 bytes to feature_selection/Correlation/Qualitative to mode/Continuous to median/Balancing_Oversamlping_SMOTE\\4_norm.ipynb\n",
      "[NbConvertApp] Converting notebook feature_selection/Correlation/Qualitative to mode/Continuous to median/Balancing_Undersampling_Tomeklinks/4_norm.ipynb to notebook\n",
      "[NbConvertApp] Executing notebook with kernel: python3\n",
      "[NbConvertApp] Writing 13174 bytes to feature_selection/Correlation/Qualitative to mode/Continuous to median/Balancing_Undersampling_Tomeklinks\\4_norm.ipynb\n"
     ]
    }
   ],
   "source": [
    "!jupyter nbconvert --to notebook --inplace --ExecutePreprocessor.timeout=99999999 --execute feature_selection/\"Correlation\"/\"Qualitative to mode\"/continuous_deleted_or_median.ipynb\n",
    "!jupyter nbconvert --to notebook --inplace --ExecutePreprocessor.timeout=99999999 --execute feature_selection/\"Correlation\"/\"Qualitative to mode\"/\"Continuous deleted\"/balancing.ipynb\n",
    "!jupyter nbconvert --to notebook --inplace --ExecutePreprocessor.timeout=99999999 --execute feature_selection/\"Correlation\"/\"Qualitative to mode\"/\"Continuous deleted\"/Balancing_Oversamlping_SMOTE/4_norm.ipynb\n",
    "!jupyter nbconvert --to notebook --inplace --ExecutePreprocessor.timeout=99999999 --execute feature_selection/\"Correlation\"/\"Qualitative to mode\"/\"Continuous deleted\"/Balancing_Undersampling_Tomeklinks/4_norm.ipynb\n",
    "!jupyter nbconvert --to notebook --inplace --ExecutePreprocessor.timeout=99999999 --execute feature_selection/\"Correlation\"/\"Qualitative to mode\"/\"Continuous to median\"/balancing.ipynb\n",
    "!jupyter nbconvert --to notebook --inplace --ExecutePreprocessor.timeout=99999999 --execute feature_selection/\"Correlation\"/\"Qualitative to mode\"/\"Continuous to median\"/Balancing_Oversamlping_SMOTE/4_norm.ipynb\n",
    "!jupyter nbconvert --to notebook --inplace --ExecutePreprocessor.timeout=99999999 --execute feature_selection/\"Correlation\"/\"Qualitative to mode\"/\"Continuous to median\"/Balancing_Undersampling_Tomeklinks/4_norm.ipynb"
   ]
  }
 ],
 "metadata": {
  "kernelspec": {
   "display_name": "Python 3",
   "language": "python",
   "name": "python3"
  },
  "language_info": {
   "codemirror_mode": {
    "name": "ipython",
    "version": 3
   },
   "file_extension": ".py",
   "mimetype": "text/x-python",
   "name": "python",
   "nbconvert_exporter": "python",
   "pygments_lexer": "ipython3",
   "version": "3.7.4"
  },
  "pycharm": {
   "stem_cell": {
    "cell_type": "raw",
    "metadata": {
     "collapsed": false
    },
    "source": []
   }
  }
 },
 "nbformat": 4,
 "nbformat_minor": 1
}
