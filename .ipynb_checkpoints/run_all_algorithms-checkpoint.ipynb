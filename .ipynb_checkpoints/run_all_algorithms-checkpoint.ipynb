{
 "cells": [
  {
   "cell_type": "code",
   "execution_count": null,
   "metadata": {
    "pycharm": {
     "is_executing": false,
     "name": "#%%\n"
    }
   },
   "outputs": [
    {
     "name": "stderr",
     "output_type": "stream",
     "text": [
      "[NbConvertApp] Converting notebook feature_selection/Univariante ROC_AUC/Qualitative deleted/Continuous deleted/Balancing_Oversamlping_SMOTE/Training Models not normalized -- CMD/DecisionTree.ipynb to notebook\n",
      "[NbConvertApp] Executing notebook with kernel: python3\n",
      "[NbConvertApp] Writing 14160 bytes to feature_selection/Univariante ROC_AUC/Qualitative deleted/Continuous deleted/Balancing_Oversamlping_SMOTE/Training Models not normalized -- CMD\\DecisionTree.ipynb\n",
      "[NbConvertApp] Converting notebook feature_selection/Univariante ROC_AUC/Qualitative deleted/Continuous deleted/Balancing_Undersampling_Tomeklinks/Training Models not normalized -- CMD/DecisionTree.ipynb to notebook\n",
      "[NbConvertApp] Executing notebook with kernel: python3\n",
      "[NbConvertApp] Writing 14319 bytes to feature_selection/Univariante ROC_AUC/Qualitative deleted/Continuous deleted/Balancing_Undersampling_Tomeklinks/Training Models not normalized -- CMD\\DecisionTree.ipynb\n",
      "[NbConvertApp] Converting notebook feature_selection/Univariante ROC_AUC/Qualitative deleted/Continuous to median/Balancing_Oversamlping_SMOTE/Training Models not normalized -- CMD/DecisionTree.ipynb to notebook\n",
      "[NbConvertApp] Executing notebook with kernel: python3\n",
      "[NbConvertApp] Writing 14157 bytes to feature_selection/Univariante ROC_AUC/Qualitative deleted/Continuous to median/Balancing_Oversamlping_SMOTE/Training Models not normalized -- CMD\\DecisionTree.ipynb\n",
      "[NbConvertApp] Converting notebook feature_selection/Univariante ROC_AUC/Qualitative deleted/Continuous to median/Balancing_Undersampling_Tomeklinks/Training Models not normalized -- CMD/DecisionTree.ipynb to notebook\n",
      "[NbConvertApp] Executing notebook with kernel: python3\n",
      "[NbConvertApp] Writing 13996 bytes to feature_selection/Univariante ROC_AUC/Qualitative deleted/Continuous to median/Balancing_Undersampling_Tomeklinks/Training Models not normalized -- CMD\\DecisionTree.ipynb\n",
      "[NbConvertApp] Converting notebook feature_selection/Univariante ROC_AUC/Qualitative to mode/Continuous deleted/Balancing_Oversamlping_SMOTE/Training Models not normalized -- CMD/DecisionTree.ipynb to notebook\n",
      "[NbConvertApp] Executing notebook with kernel: python3\n",
      "[NbConvertApp] Writing 14317 bytes to feature_selection/Univariante ROC_AUC/Qualitative to mode/Continuous deleted/Balancing_Oversamlping_SMOTE/Training Models not normalized -- CMD\\DecisionTree.ipynb\n",
      "[NbConvertApp] Converting notebook feature_selection/Univariante ROC_AUC/Qualitative to mode/Continuous deleted/Balancing_Undersampling_Tomeklinks/Training Models not normalized -- CMD/DecisionTree.ipynb to notebook\n",
      "[NbConvertApp] Executing notebook with kernel: python3\n",
      "[NbConvertApp] Writing 13996 bytes to feature_selection/Univariante ROC_AUC/Qualitative to mode/Continuous deleted/Balancing_Undersampling_Tomeklinks/Training Models not normalized -- CMD\\DecisionTree.ipynb\n",
      "[NbConvertApp] Converting notebook feature_selection/Univariante ROC_AUC/Qualitative to mode/Continuous to median/Balancing_Oversamlping_SMOTE/Training Models not normalized -- CMD/DecisionTree.ipynb to notebook\n",
      "[NbConvertApp] Executing notebook with kernel: python3\n",
      "[NbConvertApp] Writing 14320 bytes to feature_selection/Univariante ROC_AUC/Qualitative to mode/Continuous to median/Balancing_Oversamlping_SMOTE/Training Models not normalized -- CMD\\DecisionTree.ipynb\n"
     ]
    }
   ],
   "source": [
    "### Decision Tree\n",
    "!jupyter nbconvert --to notebook --inplace --ExecutePreprocessor.timeout=99999999 --execute feature_selection/\"Univariante ROC_AUC\"/\"Qualitative deleted\"/\"Continuous deleted\"/Balancing_Oversamlping_SMOTE/\"Training Models not normalized -- CMD\"/DecisionTree.ipynb\n",
    "!jupyter nbconvert --to notebook --inplace --ExecutePreprocessor.timeout=99999999 --execute feature_selection/\"Univariante ROC_AUC\"/\"Qualitative deleted\"/\"Continuous deleted\"/Balancing_Undersampling_Tomeklinks/\"Training Models not normalized -- CMD\"/DecisionTree.ipynb\n",
    "!jupyter nbconvert --to notebook --inplace --ExecutePreprocessor.timeout=99999999 --execute feature_selection/\"Univariante ROC_AUC\"/\"Qualitative deleted\"/\"Continuous to median\"/Balancing_Oversamlping_SMOTE/\"Training Models not normalized -- CMD\"/DecisionTree.ipynb\n",
    "!jupyter nbconvert --to notebook --inplace --ExecutePreprocessor.timeout=99999999 --execute feature_selection/\"Univariante ROC_AUC\"/\"Qualitative deleted\"/\"Continuous to median\"/Balancing_Undersampling_Tomeklinks/\"Training Models not normalized -- CMD\"/DecisionTree.ipynb\n",
    "!jupyter nbconvert --to notebook --inplace --ExecutePreprocessor.timeout=99999999 --execute feature_selection/\"Univariante ROC_AUC\"/\"Qualitative to mode\"/\"Continuous deleted\"/Balancing_Oversamlping_SMOTE/\"Training Models not normalized -- CMD\"/DecisionTree.ipynb\n",
    "!jupyter nbconvert --to notebook --inplace --ExecutePreprocessor.timeout=99999999 --execute feature_selection/\"Univariante ROC_AUC\"/\"Qualitative to mode\"/\"Continuous deleted\"/Balancing_Undersampling_Tomeklinks/\"Training Models not normalized -- CMD\"/DecisionTree.ipynb\n",
    "!jupyter nbconvert --to notebook --inplace --ExecutePreprocessor.timeout=99999999 --execute feature_selection/\"Univariante ROC_AUC\"/\"Qualitative to mode\"/\"Continuous to median\"/Balancing_Oversamlping_SMOTE/\"Training Models not normalized -- CMD\"/DecisionTree.ipynb\n",
    "!jupyter nbconvert --to notebook --inplace --ExecutePreprocessor.timeout=99999999 --execute feature_selection/\"Univariante ROC_AUC\"/\"Qualitative to mode\"/\"Continuous to median\"/Balancing_Undersampling_Tomeklinks/\"Training Models not normalized -- CMD\"/DecisionTree.ipynb\n",
    "\n",
    "!jupyter nbconvert --to notebook --inplace --ExecutePreprocessor.timeout=99999999 --execute feature_selection/\"Correlation\"/\"Qualitative deleted\"/\"Continuous deleted\"/Balancing_Oversamlping_SMOTE/\"Training Models not normalized -- CMD\"/DecisionTree.ipynb\n",
    "!jupyter nbconvert --to notebook --inplace --ExecutePreprocessor.timeout=99999999 --execute feature_selection/\"Correlation\"/\"Qualitative deleted\"/\"Continuous deleted\"/Balancing_Undersampling_Tomeklinks/\"Training Models not normalized -- CMD\"/DecisionTree.ipynb\n",
    "!jupyter nbconvert --to notebook --inplace --ExecutePreprocessor.timeout=99999999 --execute feature_selection/\"Correlation\"/\"Qualitative deleted\"/\"Continuous to median\"/Balancing_Oversamlping_SMOTE/\"Training Models not normalized -- CMD\"/DecisionTree.ipynb\n",
    "!jupyter nbconvert --to notebook --inplace --ExecutePreprocessor.timeout=99999999 --execute feature_selection/\"Correlation\"/\"Qualitative deleted\"/\"Continuous to median\"/Balancing_Undersampling_Tomeklinks/\"Training Models not normalized -- CMD\"/DecisionTree.ipynb\n",
    "!jupyter nbconvert --to notebook --inplace --ExecutePreprocessor.timeout=99999999 --execute feature_selection/\"Correlation\"/\"Qualitative to mode\"/\"Continuous deleted\"/Balancing_Oversamlping_SMOTE/\"Training Models not normalized -- CMD\"/DecisionTree.ipynb\n",
    "!jupyter nbconvert --to notebook --inplace --ExecutePreprocessor.timeout=99999999 --execute feature_selection/\"Correlation\"/\"Qualitative to mode\"/\"Continuous deleted\"/Balancing_Undersampling_Tomeklinks/\"Training Models not normalized -- CMD\"/DecisionTree.ipynb\n",
    "!jupyter nbconvert --to notebook --inplace --ExecutePreprocessor.timeout=99999999 --execute feature_selection/\"Correlation\"/\"Qualitative to mode\"/\"Continuous to median\"/Balancing_Oversamlping_SMOTE/\"Training Models not normalized -- CMD\"/DecisionTree.ipynb\n",
    "!jupyter nbconvert --to notebook --inplace --ExecutePreprocessor.timeout=99999999 --execute feature_selection/\"Correlation\"/\"Qualitative to mode\"/\"Continuous to median\"/Balancing_Undersampling_Tomeklinks/\"Training Models not normalized -- CMD\"/DecisionTree.ipynb\n",
    "\n"
   ]
  },
  {
   "cell_type": "code",
   "execution_count": null,
   "metadata": {
    "pycharm": {
     "name": "#%%\n"
    }
   },
   "outputs": [],
   "source": [
    "### XGBoost Tree\n",
    "!jupyter nbconvert --to notebook --inplace --ExecutePreprocessor.timeout=99999999 --execute feature_selection/\"Univariante ROC_AUC\"/\"Qualitative deleted\"/\"Continuous deleted\"/Balancing_Oversamlping_SMOTE/\"Training Models not normalized -- CMD\"/XGBoost.ipynb\n",
    "!jupyter nbconvert --to notebook --inplace --ExecutePreprocessor.timeout=99999999 --execute feature_selection/\"Univariante ROC_AUC\"/\"Qualitative deleted\"/\"Continuous deleted\"/Balancing_Undersampling_Tomeklinks/\"Training Models not normalized -- CMD\"/XGBoost.ipynb\n",
    "!jupyter nbconvert --to notebook --inplace --ExecutePreprocessor.timeout=99999999 --execute feature_selection/\"Univariante ROC_AUC\"/\"Qualitative deleted\"/\"Continuous to median\"/Balancing_Oversamlping_SMOTE/\"Training Models not normalized -- CMD\"/XGBoost.ipynb\n",
    "!jupyter nbconvert --to notebook --inplace --ExecutePreprocessor.timeout=99999999 --execute feature_selection/\"Univariante ROC_AUC\"/\"Qualitative deleted\"/\"Continuous to median\"/Balancing_Undersampling_Tomeklinks/\"Training Models not normalized -- CMD\"/XGBoost.ipynb\n",
    "!jupyter nbconvert --to notebook --inplace --ExecutePreprocessor.timeout=99999999 --execute feature_selection/\"Univariante ROC_AUC\"/\"Qualitative to mode\"/\"Continuous deleted\"/Balancing_Oversamlping_SMOTE/\"Training Models not normalized -- CMD\"/XGBoost.ipynb\n",
    "!jupyter nbconvert --to notebook --inplace --ExecutePreprocessor.timeout=99999999 --execute feature_selection/\"Univariante ROC_AUC\"/\"Qualitative to mode\"/\"Continuous deleted\"/Balancing_Undersampling_Tomeklinks/\"Training Models not normalized -- CMD\"/XGBoost.ipynb\n",
    "!jupyter nbconvert --to notebook --inplace --ExecutePreprocessor.timeout=99999999 --execute feature_selection/\"Univariante ROC_AUC\"/\"Qualitative to mode\"/\"Continuous to median\"/Balancing_Oversamlping_SMOTE/\"Training Models not normalized -- CMD\"/XGBoost.ipynb\n",
    "!jupyter nbconvert --to notebook --inplace --ExecutePreprocessor.timeout=99999999 --execute feature_selection/\"Univariante ROC_AUC\"/\"Qualitative to mode\"/\"Continuous to median\"/Balancing_Undersampling_Tomeklinks/\"Training Models not normalized -- CMD\"/XGBoost.ipynb\n",
    "\n",
    "!jupyter nbconvert --to notebook --inplace --ExecutePreprocessor.timeout=99999999 --execute feature_selection/\"Correlation\"/\"Qualitative deleted\"/\"Continuous deleted\"/Balancing_Oversamlping_SMOTE/\"Training Models not normalized -- CMD\"/XGBoost.ipynb\n",
    "!jupyter nbconvert --to notebook --inplace --ExecutePreprocessor.timeout=99999999 --execute feature_selection/\"Correlation\"/\"Qualitative deleted\"/\"Continuous deleted\"/Balancing_Undersampling_Tomeklinks/\"Training Models not normalized -- CMD\"/XGBoost.ipynb\n",
    "!jupyter nbconvert --to notebook --inplace --ExecutePreprocessor.timeout=99999999 --execute feature_selection/\"Correlation\"/\"Qualitative deleted\"/\"Continuous to median\"/Balancing_Oversamlping_SMOTE/\"Training Models not normalized -- CMD\"/XGBoost.ipynb\n",
    "!jupyter nbconvert --to notebook --inplace --ExecutePreprocessor.timeout=99999999 --execute feature_selection/\"Correlation\"/\"Qualitative deleted\"/\"Continuous to median\"/Balancing_Undersampling_Tomeklinks/\"Training Models not normalized -- CMD\"/XGBoost.ipynb\n",
    "!jupyter nbconvert --to notebook --inplace --ExecutePreprocessor.timeout=99999999 --execute feature_selection/\"Correlation\"/\"Qualitative to mode\"/\"Continuous deleted\"/Balancing_Oversamlping_SMOTE/\"Training Models not normalized -- CMD\"/XGBoost.ipynb\n",
    "!jupyter nbconvert --to notebook --inplace --ExecutePreprocessor.timeout=99999999 --execute feature_selection/\"Correlation\"/\"Qualitative to mode\"/\"Continuous deleted\"/Balancing_Undersampling_Tomeklinks/\"Training Models not normalized -- CMD\"/XGBoost.ipynb\n",
    "!jupyter nbconvert --to notebook --inplace --ExecutePreprocessor.timeout=99999999 --execute feature_selection/\"Correlation\"/\"Qualitative to mode\"/\"Continuous to median\"/Balancing_Oversamlping_SMOTE/\"Training Models not normalized -- CMD\"/XGBoost.ipynb\n",
    "!jupyter nbconvert --to notebook --inplace --ExecutePreprocessor.timeout=99999999 --execute feature_selection/\"Correlation\"/\"Qualitative to mode\"/\"Continuous to median\"/Balancing_Undersampling_Tomeklinks/\"Training Models not normalized -- CMD\"/XGBoost.ipynb\n"
   ]
  }
 ],
 "metadata": {
  "kernelspec": {
   "display_name": "Python 3",
   "language": "python",
   "name": "python3"
  },
  "language_info": {
   "codemirror_mode": {
    "name": "ipython",
    "version": 3
   },
   "file_extension": ".py",
   "mimetype": "text/x-python",
   "name": "python",
   "nbconvert_exporter": "python",
   "pygments_lexer": "ipython3",
   "version": "3.7.4"
  },
  "pycharm": {
   "stem_cell": {
    "cell_type": "raw",
    "metadata": {
     "collapsed": false
    },
    "source": []
   }
  }
 },
 "nbformat": 4,
 "nbformat_minor": 1
}
