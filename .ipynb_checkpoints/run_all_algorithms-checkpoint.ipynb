{
 "cells": [
  {
   "cell_type": "code",
   "execution_count": null,
   "metadata": {},
   "outputs": [],
   "source": [
    "!jupyter nbconvert --to notebook --inplace --ExecutePreprocessor.timeout=9999 --execute loaded/jup.ipynb"
   ]
  },
  {
   "cell_type": "code",
   "execution_count": 1,
   "metadata": {
    "pycharm": {
     "is_executing": false,
     "name": "#%%\n"
    }
   },
   "outputs": [
    {
     "name": "stderr",
     "output_type": "stream",
     "text": [
      "[NbConvertApp] Converting notebook feature_selection/Univariante ROC_AUC/Qualitative deleted/Continuous deleted/Balancing_Oversamlping_SMOTE/Training Models not normalized -- CMD/DecisionTree.ipynb to notebook\n",
      "[NbConvertApp] Executing notebook with kernel: python3\n",
      "[NbConvertApp] Writing 14160 bytes to feature_selection/Univariante ROC_AUC/Qualitative deleted/Continuous deleted/Balancing_Oversamlping_SMOTE/Training Models not normalized -- CMD\\DecisionTree.ipynb\n",
      "[NbConvertApp] Converting notebook feature_selection/Univariante ROC_AUC/Qualitative deleted/Continuous deleted/Balancing_Undersampling_Tomeklinks/Training Models not normalized -- CMD/DecisionTree.ipynb to notebook\n",
      "[NbConvertApp] Executing notebook with kernel: python3\n",
      "[NbConvertApp] Writing 14319 bytes to feature_selection/Univariante ROC_AUC/Qualitative deleted/Continuous deleted/Balancing_Undersampling_Tomeklinks/Training Models not normalized -- CMD\\DecisionTree.ipynb\n",
      "[NbConvertApp] Converting notebook feature_selection/Univariante ROC_AUC/Qualitative deleted/Continuous to median/Balancing_Oversamlping_SMOTE/Training Models not normalized -- CMD/DecisionTree.ipynb to notebook\n",
      "[NbConvertApp] Executing notebook with kernel: python3\n",
      "[NbConvertApp] Writing 14157 bytes to feature_selection/Univariante ROC_AUC/Qualitative deleted/Continuous to median/Balancing_Oversamlping_SMOTE/Training Models not normalized -- CMD\\DecisionTree.ipynb\n",
      "[NbConvertApp] Converting notebook feature_selection/Univariante ROC_AUC/Qualitative deleted/Continuous to median/Balancing_Undersampling_Tomeklinks/Training Models not normalized -- CMD/DecisionTree.ipynb to notebook\n",
      "[NbConvertApp] Executing notebook with kernel: python3\n",
      "[NbConvertApp] Writing 13996 bytes to feature_selection/Univariante ROC_AUC/Qualitative deleted/Continuous to median/Balancing_Undersampling_Tomeklinks/Training Models not normalized -- CMD\\DecisionTree.ipynb\n",
      "[NbConvertApp] Converting notebook feature_selection/Univariante ROC_AUC/Qualitative to mode/Continuous deleted/Balancing_Oversamlping_SMOTE/Training Models not normalized -- CMD/DecisionTree.ipynb to notebook\n",
      "[NbConvertApp] Executing notebook with kernel: python3\n",
      "[NbConvertApp] Writing 14317 bytes to feature_selection/Univariante ROC_AUC/Qualitative to mode/Continuous deleted/Balancing_Oversamlping_SMOTE/Training Models not normalized -- CMD\\DecisionTree.ipynb\n",
      "[NbConvertApp] Converting notebook feature_selection/Univariante ROC_AUC/Qualitative to mode/Continuous deleted/Balancing_Undersampling_Tomeklinks/Training Models not normalized -- CMD/DecisionTree.ipynb to notebook\n",
      "[NbConvertApp] Executing notebook with kernel: python3\n",
      "[NbConvertApp] Writing 13996 bytes to feature_selection/Univariante ROC_AUC/Qualitative to mode/Continuous deleted/Balancing_Undersampling_Tomeklinks/Training Models not normalized -- CMD\\DecisionTree.ipynb\n",
      "[NbConvertApp] Converting notebook feature_selection/Univariante ROC_AUC/Qualitative to mode/Continuous to median/Balancing_Oversamlping_SMOTE/Training Models not normalized -- CMD/DecisionTree.ipynb to notebook\n",
      "[NbConvertApp] Executing notebook with kernel: python3\n",
      "[NbConvertApp] Writing 14320 bytes to feature_selection/Univariante ROC_AUC/Qualitative to mode/Continuous to median/Balancing_Oversamlping_SMOTE/Training Models not normalized -- CMD\\DecisionTree.ipynb\n",
      "[NbConvertApp] Converting notebook feature_selection/Univariante ROC_AUC/Qualitative to mode/Continuous to median/Balancing_Undersampling_Tomeklinks/Training Models not normalized -- CMD/DecisionTree.ipynb to notebook\n",
      "[NbConvertApp] Executing notebook with kernel: python3\n",
      "[NbConvertApp] Writing 14316 bytes to feature_selection/Univariante ROC_AUC/Qualitative to mode/Continuous to median/Balancing_Undersampling_Tomeklinks/Training Models not normalized -- CMD\\DecisionTree.ipynb\n",
      "[NbConvertApp] Converting notebook feature_selection/Correlation/Qualitative deleted/Continuous deleted/Balancing_Oversamlping_SMOTE/Training Models not normalized -- CMD/DecisionTree.ipynb to notebook\n",
      "[NbConvertApp] Executing notebook with kernel: python3\n",
      "[NbConvertApp] Writing 14160 bytes to feature_selection/Correlation/Qualitative deleted/Continuous deleted/Balancing_Oversamlping_SMOTE/Training Models not normalized -- CMD\\DecisionTree.ipynb\n",
      "[NbConvertApp] Converting notebook feature_selection/Correlation/Qualitative deleted/Continuous deleted/Balancing_Undersampling_Tomeklinks/Training Models not normalized -- CMD/DecisionTree.ipynb to notebook\n",
      "[NbConvertApp] Executing notebook with kernel: python3\n",
      "[NbConvertApp] Writing 14159 bytes to feature_selection/Correlation/Qualitative deleted/Continuous deleted/Balancing_Undersampling_Tomeklinks/Training Models not normalized -- CMD\\DecisionTree.ipynb\n",
      "[NbConvertApp] Converting notebook feature_selection/Correlation/Qualitative deleted/Continuous to median/Balancing_Oversamlping_SMOTE/Training Models not normalized -- CMD/DecisionTree.ipynb to notebook\n",
      "[NbConvertApp] Executing notebook with kernel: python3\n",
      "[NbConvertApp] Writing 14160 bytes to feature_selection/Correlation/Qualitative deleted/Continuous to median/Balancing_Oversamlping_SMOTE/Training Models not normalized -- CMD\\DecisionTree.ipynb\n",
      "[NbConvertApp] Converting notebook feature_selection/Correlation/Qualitative deleted/Continuous to median/Balancing_Undersampling_Tomeklinks/Training Models not normalized -- CMD/DecisionTree.ipynb to notebook\n",
      "[NbConvertApp] Executing notebook with kernel: python3\n",
      "[NbConvertApp] Writing 13999 bytes to feature_selection/Correlation/Qualitative deleted/Continuous to median/Balancing_Undersampling_Tomeklinks/Training Models not normalized -- CMD\\DecisionTree.ipynb\n",
      "[NbConvertApp] Converting notebook feature_selection/Correlation/Qualitative to mode/Continuous deleted/Balancing_Oversamlping_SMOTE/Training Models not normalized -- CMD/DecisionTree.ipynb to notebook\n",
      "[NbConvertApp] Executing notebook with kernel: python3\n",
      "[NbConvertApp] Writing 14160 bytes to feature_selection/Correlation/Qualitative to mode/Continuous deleted/Balancing_Oversamlping_SMOTE/Training Models not normalized -- CMD\\DecisionTree.ipynb\n",
      "[NbConvertApp] Converting notebook feature_selection/Correlation/Qualitative to mode/Continuous deleted/Balancing_Undersampling_Tomeklinks/Training Models not normalized -- CMD/DecisionTree.ipynb to notebook\n",
      "[NbConvertApp] Executing notebook with kernel: python3\n",
      "[NbConvertApp] Writing 14156 bytes to feature_selection/Correlation/Qualitative to mode/Continuous deleted/Balancing_Undersampling_Tomeklinks/Training Models not normalized -- CMD\\DecisionTree.ipynb\n",
      "[NbConvertApp] Converting notebook feature_selection/Correlation/Qualitative to mode/Continuous to median/Balancing_Oversamlping_SMOTE/Training Models not normalized -- CMD/DecisionTree.ipynb to notebook\n",
      "[NbConvertApp] Executing notebook with kernel: python3\n",
      "[NbConvertApp] Writing 14157 bytes to feature_selection/Correlation/Qualitative to mode/Continuous to median/Balancing_Oversamlping_SMOTE/Training Models not normalized -- CMD\\DecisionTree.ipynb\n",
      "[NbConvertApp] Converting notebook feature_selection/Correlation/Qualitative to mode/Continuous to median/Balancing_Undersampling_Tomeklinks/Training Models not normalized -- CMD/DecisionTree.ipynb to notebook\n",
      "[NbConvertApp] Executing notebook with kernel: python3\n",
      "[NbConvertApp] Writing 14156 bytes to feature_selection/Correlation/Qualitative to mode/Continuous to median/Balancing_Undersampling_Tomeklinks/Training Models not normalized -- CMD\\DecisionTree.ipynb\n"
     ]
    }
   ],
   "source": [
    "### Decision Tree\n",
    "!jupyter nbconvert --to notebook --inplace --ExecutePreprocessor.timeout=99999999 --execute feature_selection/\"Univariante ROC_AUC\"/\"Qualitative deleted\"/\"Continuous deleted\"/Balancing_Oversamlping_SMOTE/\"Training Models not normalized -- CMD\"/DecisionTree.ipynb\n",
    "!jupyter nbconvert --to notebook --inplace --ExecutePreprocessor.timeout=99999999 --execute feature_selection/\"Univariante ROC_AUC\"/\"Qualitative deleted\"/\"Continuous deleted\"/Balancing_Undersampling_Tomeklinks/\"Training Models not normalized -- CMD\"/DecisionTree.ipynb\n",
    "!jupyter nbconvert --to notebook --inplace --ExecutePreprocessor.timeout=99999999 --execute feature_selection/\"Univariante ROC_AUC\"/\"Qualitative deleted\"/\"Continuous to median\"/Balancing_Oversamlping_SMOTE/\"Training Models not normalized -- CMD\"/DecisionTree.ipynb\n",
    "!jupyter nbconvert --to notebook --inplace --ExecutePreprocessor.timeout=99999999 --execute feature_selection/\"Univariante ROC_AUC\"/\"Qualitative deleted\"/\"Continuous to median\"/Balancing_Undersampling_Tomeklinks/\"Training Models not normalized -- CMD\"/DecisionTree.ipynb\n",
    "!jupyter nbconvert --to notebook --inplace --ExecutePreprocessor.timeout=99999999 --execute feature_selection/\"Univariante ROC_AUC\"/\"Qualitative to mode\"/\"Continuous deleted\"/Balancing_Oversamlping_SMOTE/\"Training Models not normalized -- CMD\"/DecisionTree.ipynb\n",
    "!jupyter nbconvert --to notebook --inplace --ExecutePreprocessor.timeout=99999999 --execute feature_selection/\"Univariante ROC_AUC\"/\"Qualitative to mode\"/\"Continuous deleted\"/Balancing_Undersampling_Tomeklinks/\"Training Models not normalized -- CMD\"/DecisionTree.ipynb\n",
    "!jupyter nbconvert --to notebook --inplace --ExecutePreprocessor.timeout=99999999 --execute feature_selection/\"Univariante ROC_AUC\"/\"Qualitative to mode\"/\"Continuous to median\"/Balancing_Oversamlping_SMOTE/\"Training Models not normalized -- CMD\"/DecisionTree.ipynb\n",
    "!jupyter nbconvert --to notebook --inplace --ExecutePreprocessor.timeout=99999999 --execute feature_selection/\"Univariante ROC_AUC\"/\"Qualitative to mode\"/\"Continuous to median\"/Balancing_Undersampling_Tomeklinks/\"Training Models not normalized -- CMD\"/DecisionTree.ipynb\n",
    "\n",
    "!jupyter nbconvert --to notebook --inplace --ExecutePreprocessor.timeout=99999999 --execute feature_selection/\"Correlation\"/\"Qualitative deleted\"/\"Continuous deleted\"/Balancing_Oversamlping_SMOTE/\"Training Models not normalized -- CMD\"/DecisionTree.ipynb\n",
    "!jupyter nbconvert --to notebook --inplace --ExecutePreprocessor.timeout=99999999 --execute feature_selection/\"Correlation\"/\"Qualitative deleted\"/\"Continuous deleted\"/Balancing_Undersampling_Tomeklinks/\"Training Models not normalized -- CMD\"/DecisionTree.ipynb\n",
    "!jupyter nbconvert --to notebook --inplace --ExecutePreprocessor.timeout=99999999 --execute feature_selection/\"Correlation\"/\"Qualitative deleted\"/\"Continuous to median\"/Balancing_Oversamlping_SMOTE/\"Training Models not normalized -- CMD\"/DecisionTree.ipynb\n",
    "!jupyter nbconvert --to notebook --inplace --ExecutePreprocessor.timeout=99999999 --execute feature_selection/\"Correlation\"/\"Qualitative deleted\"/\"Continuous to median\"/Balancing_Undersampling_Tomeklinks/\"Training Models not normalized -- CMD\"/DecisionTree.ipynb\n",
    "!jupyter nbconvert --to notebook --inplace --ExecutePreprocessor.timeout=99999999 --execute feature_selection/\"Correlation\"/\"Qualitative to mode\"/\"Continuous deleted\"/Balancing_Oversamlping_SMOTE/\"Training Models not normalized -- CMD\"/DecisionTree.ipynb\n",
    "!jupyter nbconvert --to notebook --inplace --ExecutePreprocessor.timeout=99999999 --execute feature_selection/\"Correlation\"/\"Qualitative to mode\"/\"Continuous deleted\"/Balancing_Undersampling_Tomeklinks/\"Training Models not normalized -- CMD\"/DecisionTree.ipynb\n",
    "!jupyter nbconvert --to notebook --inplace --ExecutePreprocessor.timeout=99999999 --execute feature_selection/\"Correlation\"/\"Qualitative to mode\"/\"Continuous to median\"/Balancing_Oversamlping_SMOTE/\"Training Models not normalized -- CMD\"/DecisionTree.ipynb\n",
    "!jupyter nbconvert --to notebook --inplace --ExecutePreprocessor.timeout=99999999 --execute feature_selection/\"Correlation\"/\"Qualitative to mode\"/\"Continuous to median\"/Balancing_Undersampling_Tomeklinks/\"Training Models not normalized -- CMD\"/DecisionTree.ipynb\n",
    "\n"
   ]
  },
  {
   "cell_type": "markdown",
   "metadata": {
    "pycharm": {
     "name": "#%% md\n"
    }
   },
   "source": [
    "## GXBoost"
   ]
  },
  {
   "cell_type": "code",
   "execution_count": 6,
   "metadata": {
    "pycharm": {
     "is_executing": false,
     "name": "#%%\n"
    }
   },
   "outputs": [
    {
     "name": "stderr",
     "output_type": "stream",
     "text": [
      "[NbConvertApp] Converting notebook feature_selection/Univariante ROC_AUC/Qualitative deleted/Continuous deleted/Balancing_Oversamlping_SMOTE/Training Models not normalized -- CMD/XGBoost.ipynb to notebook\n",
      "[NbConvertApp] Executing notebook with kernel: python3\n",
      "[NbConvertApp] Writing 6103 bytes to feature_selection/Univariante ROC_AUC/Qualitative deleted/Continuous deleted/Balancing_Oversamlping_SMOTE/Training Models not normalized -- CMD\\XGBoost.ipynb\n",
      "[NbConvertApp] Converting notebook feature_selection/Univariante ROC_AUC/Qualitative deleted/Continuous deleted/Balancing_Undersampling_Tomeklinks/Training Models not normalized -- CMD/XGBoost.ipynb to notebook\n",
      "[NbConvertApp] Executing notebook with kernel: python3\n",
      "[NbConvertApp] Writing 6103 bytes to feature_selection/Univariante ROC_AUC/Qualitative deleted/Continuous deleted/Balancing_Undersampling_Tomeklinks/Training Models not normalized -- CMD\\XGBoost.ipynb\n",
      "[NbConvertApp] Converting notebook feature_selection/Univariante ROC_AUC/Qualitative deleted/Continuous to median/Balancing_Oversamlping_SMOTE/Training Models not normalized -- CMD/XGBoost.ipynb to notebook\n",
      "[NbConvertApp] Executing notebook with kernel: python3\n",
      "[NbConvertApp] Writing 6103 bytes to feature_selection/Univariante ROC_AUC/Qualitative deleted/Continuous to median/Balancing_Oversamlping_SMOTE/Training Models not normalized -- CMD\\XGBoost.ipynb\n",
      "[NbConvertApp] Converting notebook feature_selection/Univariante ROC_AUC/Qualitative deleted/Continuous to median/Balancing_Undersampling_Tomeklinks/Training Models not normalized -- CMD/XGBoost.ipynb to notebook\n",
      "[NbConvertApp] Executing notebook with kernel: python3\n",
      "[NbConvertApp] Writing 6103 bytes to feature_selection/Univariante ROC_AUC/Qualitative deleted/Continuous to median/Balancing_Undersampling_Tomeklinks/Training Models not normalized -- CMD\\XGBoost.ipynb\n",
      "[NbConvertApp] Converting notebook feature_selection/Univariante ROC_AUC/Qualitative to mode/Continuous deleted/Balancing_Oversamlping_SMOTE/Training Models not normalized -- CMD/XGBoost.ipynb to notebook\n",
      "[NbConvertApp] Executing notebook with kernel: python3\n",
      "[NbConvertApp] Writing 6103 bytes to feature_selection/Univariante ROC_AUC/Qualitative to mode/Continuous deleted/Balancing_Oversamlping_SMOTE/Training Models not normalized -- CMD\\XGBoost.ipynb\n",
      "[NbConvertApp] Converting notebook feature_selection/Univariante ROC_AUC/Qualitative to mode/Continuous deleted/Balancing_Undersampling_Tomeklinks/Training Models not normalized -- CMD/XGBoost.ipynb to notebook\n",
      "[NbConvertApp] Executing notebook with kernel: python3\n",
      "[NbConvertApp] Writing 6103 bytes to feature_selection/Univariante ROC_AUC/Qualitative to mode/Continuous deleted/Balancing_Undersampling_Tomeklinks/Training Models not normalized -- CMD\\XGBoost.ipynb\n",
      "[NbConvertApp] Converting notebook feature_selection/Univariante ROC_AUC/Qualitative to mode/Continuous to median/Balancing_Oversamlping_SMOTE/Training Models not normalized -- CMD/XGBoost.ipynb to notebook\n",
      "[NbConvertApp] Executing notebook with kernel: python3\n",
      "[NbConvertApp] Writing 6103 bytes to feature_selection/Univariante ROC_AUC/Qualitative to mode/Continuous to median/Balancing_Oversamlping_SMOTE/Training Models not normalized -- CMD\\XGBoost.ipynb\n",
      "[NbConvertApp] Converting notebook feature_selection/Univariante ROC_AUC/Qualitative to mode/Continuous to median/Balancing_Undersampling_Tomeklinks/Training Models not normalized -- CMD/XGBoost.ipynb to notebook\n",
      "[NbConvertApp] Executing notebook with kernel: python3\n",
      "[NbConvertApp] Writing 6103 bytes to feature_selection/Univariante ROC_AUC/Qualitative to mode/Continuous to median/Balancing_Undersampling_Tomeklinks/Training Models not normalized -- CMD\\XGBoost.ipynb\n"
     ]
    }
   ],
   "source": [
    "### Univariante ROC_AUC\n",
    "!jupyter nbconvert --to notebook --inplace --ExecutePreprocessor.timeout=99999999 --execute feature_selection/\"Univariante ROC_AUC\"/\"Qualitative deleted\"/\"Continuous deleted\"/Balancing_Oversamlping_SMOTE/\"Training Models not normalized -- CMD\"/XGBoost.ipynb\n",
    "!jupyter nbconvert --to notebook --inplace --ExecutePreprocessor.timeout=99999999 --execute feature_selection/\"Univariante ROC_AUC\"/\"Qualitative deleted\"/\"Continuous deleted\"/Balancing_Undersampling_Tomeklinks/\"Training Models not normalized -- CMD\"/XGBoost.ipynb\n",
    "!jupyter nbconvert --to notebook --inplace --ExecutePreprocessor.timeout=99999999 --execute feature_selection/\"Univariante ROC_AUC\"/\"Qualitative deleted\"/\"Continuous to median\"/Balancing_Oversamlping_SMOTE/\"Training Models not normalized -- CMD\"/XGBoost.ipynb\n",
    "!jupyter nbconvert --to notebook --inplace --ExecutePreprocessor.timeout=99999999 --execute feature_selection/\"Univariante ROC_AUC\"/\"Qualitative deleted\"/\"Continuous to median\"/Balancing_Undersampling_Tomeklinks/\"Training Models not normalized -- CMD\"/XGBoost.ipynb\n",
    "!jupyter nbconvert --to notebook --inplace --ExecutePreprocessor.timeout=99999999 --execute feature_selection/\"Univariante ROC_AUC\"/\"Qualitative to mode\"/\"Continuous deleted\"/Balancing_Oversamlping_SMOTE/\"Training Models not normalized -- CMD\"/XGBoost.ipynb\n",
    "!jupyter nbconvert --to notebook --inplace --ExecutePreprocessor.timeout=99999999 --execute feature_selection/\"Univariante ROC_AUC\"/\"Qualitative to mode\"/\"Continuous deleted\"/Balancing_Undersampling_Tomeklinks/\"Training Models not normalized -- CMD\"/XGBoost.ipynb\n",
    "!jupyter nbconvert --to notebook --inplace --ExecutePreprocessor.timeout=99999999 --execute feature_selection/\"Univariante ROC_AUC\"/\"Qualitative to mode\"/\"Continuous to median\"/Balancing_Oversamlping_SMOTE/\"Training Models not normalized -- CMD\"/XGBoost.ipynb\n",
    "!jupyter nbconvert --to notebook --inplace --ExecutePreprocessor.timeout=99999999 --execute feature_selection/\"Univariante ROC_AUC\"/\"Qualitative to mode\"/\"Continuous to median\"/Balancing_Undersampling_Tomeklinks/\"Training Models not normalized -- CMD\"/XGBoost.ipynb"
   ]
  },
  {
   "cell_type": "code",
   "execution_count": 7,
   "metadata": {
    "pycharm": {
     "is_executing": false,
     "name": "#%%\n"
    }
   },
   "outputs": [
    {
     "name": "stderr",
     "output_type": "stream",
     "text": [
      "[NbConvertApp] Converting notebook feature_selection/Correlation/Qualitative deleted/Continuous deleted/Balancing_Oversamlping_SMOTE/Training Models not normalized -- CMD/XGBoost.ipynb to notebook\n",
      "[NbConvertApp] Executing notebook with kernel: python3\n",
      "[NbConvertApp] Writing 6103 bytes to feature_selection/Correlation/Qualitative deleted/Continuous deleted/Balancing_Oversamlping_SMOTE/Training Models not normalized -- CMD\\XGBoost.ipynb\n",
      "[NbConvertApp] Converting notebook feature_selection/Correlation/Qualitative deleted/Continuous deleted/Balancing_Undersampling_Tomeklinks/Training Models not normalized -- CMD/XGBoost.ipynb to notebook\n",
      "[NbConvertApp] Executing notebook with kernel: python3\n",
      "[NbConvertApp] Writing 6103 bytes to feature_selection/Correlation/Qualitative deleted/Continuous deleted/Balancing_Undersampling_Tomeklinks/Training Models not normalized -- CMD\\XGBoost.ipynb\n",
      "[NbConvertApp] Converting notebook feature_selection/Correlation/Qualitative deleted/Continuous to median/Balancing_Oversamlping_SMOTE/Training Models not normalized -- CMD/XGBoost.ipynb to notebook\n",
      "[NbConvertApp] Executing notebook with kernel: python3\n",
      "[NbConvertApp] Writing 6103 bytes to feature_selection/Correlation/Qualitative deleted/Continuous to median/Balancing_Oversamlping_SMOTE/Training Models not normalized -- CMD\\XGBoost.ipynb\n",
      "[NbConvertApp] Converting notebook feature_selection/Correlation/Qualitative deleted/Continuous to median/Balancing_Undersampling_Tomeklinks/Training Models not normalized -- CMD/XGBoost.ipynb to notebook\n",
      "[NbConvertApp] Executing notebook with kernel: python3\n",
      "[NbConvertApp] Writing 6103 bytes to feature_selection/Correlation/Qualitative deleted/Continuous to median/Balancing_Undersampling_Tomeklinks/Training Models not normalized -- CMD\\XGBoost.ipynb\n",
      "[NbConvertApp] Converting notebook feature_selection/Correlation/Qualitative to mode/Continuous deleted/Balancing_Oversamlping_SMOTE/Training Models not normalized -- CMD/XGBoost.ipynb to notebook\n",
      "[NbConvertApp] Executing notebook with kernel: python3\n",
      "[NbConvertApp] Writing 6103 bytes to feature_selection/Correlation/Qualitative to mode/Continuous deleted/Balancing_Oversamlping_SMOTE/Training Models not normalized -- CMD\\XGBoost.ipynb\n",
      "[NbConvertApp] Converting notebook feature_selection/Correlation/Qualitative to mode/Continuous deleted/Balancing_Undersampling_Tomeklinks/Training Models not normalized -- CMD/XGBoost.ipynb to notebook\n",
      "[NbConvertApp] Executing notebook with kernel: python3\n",
      "[NbConvertApp] Writing 6103 bytes to feature_selection/Correlation/Qualitative to mode/Continuous deleted/Balancing_Undersampling_Tomeklinks/Training Models not normalized -- CMD\\XGBoost.ipynb\n",
      "[NbConvertApp] Converting notebook feature_selection/Correlation/Qualitative to mode/Continuous to median/Balancing_Oversamlping_SMOTE/Training Models not normalized -- CMD/XGBoost.ipynb to notebook\n",
      "[NbConvertApp] Executing notebook with kernel: python3\n",
      "[NbConvertApp] Writing 6103 bytes to feature_selection/Correlation/Qualitative to mode/Continuous to median/Balancing_Oversamlping_SMOTE/Training Models not normalized -- CMD\\XGBoost.ipynb\n",
      "[NbConvertApp] Converting notebook feature_selection/Correlation/Qualitative to mode/Continuous to median/Balancing_Undersampling_Tomeklinks/Training Models not normalized -- CMD/XGBoost.ipynb to notebook\n",
      "[NbConvertApp] Executing notebook with kernel: python3\n",
      "[NbConvertApp] Writing 6103 bytes to feature_selection/Correlation/Qualitative to mode/Continuous to median/Balancing_Undersampling_Tomeklinks/Training Models not normalized -- CMD\\XGBoost.ipynb\n"
     ]
    }
   ],
   "source": [
    "### correlation\n",
    "!jupyter nbconvert --to notebook --inplace --ExecutePreprocessor.timeout=99999999 --execute feature_selection/\"Correlation\"/\"Qualitative deleted\"/\"Continuous deleted\"/Balancing_Oversamlping_SMOTE/\"Training Models not normalized -- CMD\"/XGBoost.ipynb\n",
    "!jupyter nbconvert --to notebook --inplace --ExecutePreprocessor.timeout=99999999 --execute feature_selection/\"Correlation\"/\"Qualitative deleted\"/\"Continuous deleted\"/Balancing_Undersampling_Tomeklinks/\"Training Models not normalized -- CMD\"/XGBoost.ipynb\n",
    "!jupyter nbconvert --to notebook --inplace --ExecutePreprocessor.timeout=99999999 --execute feature_selection/\"Correlation\"/\"Qualitative deleted\"/\"Continuous to median\"/Balancing_Oversamlping_SMOTE/\"Training Models not normalized -- CMD\"/XGBoost.ipynb\n",
    "!jupyter nbconvert --to notebook --inplace --ExecutePreprocessor.timeout=99999999 --execute feature_selection/\"Correlation\"/\"Qualitative deleted\"/\"Continuous to median\"/Balancing_Undersampling_Tomeklinks/\"Training Models not normalized -- CMD\"/XGBoost.ipynb\n",
    "!jupyter nbconvert --to notebook --inplace --ExecutePreprocessor.timeout=99999999 --execute feature_selection/\"Correlation\"/\"Qualitative to mode\"/\"Continuous deleted\"/Balancing_Oversamlping_SMOTE/\"Training Models not normalized -- CMD\"/XGBoost.ipynb\n",
    "!jupyter nbconvert --to notebook --inplace --ExecutePreprocessor.timeout=99999999 --execute feature_selection/\"Correlation\"/\"Qualitative to mode\"/\"Continuous deleted\"/Balancing_Undersampling_Tomeklinks/\"Training Models not normalized -- CMD\"/XGBoost.ipynb\n",
    "!jupyter nbconvert --to notebook --inplace --ExecutePreprocessor.timeout=99999999 --execute feature_selection/\"Correlation\"/\"Qualitative to mode\"/\"Continuous to median\"/Balancing_Oversamlping_SMOTE/\"Training Models not normalized -- CMD\"/XGBoost.ipynb\n",
    "!jupyter nbconvert --to notebook --inplace --ExecutePreprocessor.timeout=99999999 --execute feature_selection/\"Correlation\"/\"Qualitative to mode\"/\"Continuous to median\"/Balancing_Undersampling_Tomeklinks/\"Training Models not normalized -- CMD\"/XGBoost.ipynb\n"
   ]
  },
  {
   "cell_type": "markdown",
   "metadata": {
    "pycharm": {
     "name": "#%% md\n"
    }
   },
   "source": [
    "## KNN"
   ]
  },
  {
   "cell_type": "markdown",
   "metadata": {
    "pycharm": {
     "name": "#%% md\n"
    }
   },
   "source": [
    "#### Z score"
   ]
  },
  {
   "cell_type": "code",
   "execution_count": null,
   "metadata": {
    "pycharm": {
     "is_executing": true,
     "name": "#%%\n"
    }
   },
   "outputs": [],
   "source": [
    "### Univariante ROC_AUC\n",
    "!jupyter nbconvert --to notebook --inplace --ExecutePreprocessor.timeout=99999999 --execute feature_selection/\"Univariante ROC_AUC\"/\"Qualitative deleted\"/\"Continuous deleted\"/Balancing_Oversamlping_SMOTE/\"Z normalised\"/\"Training Models -- CMD\"/KNN.ipynb\n",
    "!jupyter nbconvert --to notebook --inplace --ExecutePreprocessor.timeout=99999999 --execute feature_selection/\"Univariante ROC_AUC\"/\"Qualitative deleted\"/\"Continuous deleted\"/Balancing_Undersampling_Tomeklinks/\"Z normalised\"/\"Training Models -- CMD\"/KNN.ipynb\n",
    "!jupyter nbconvert --to notebook --inplace --ExecutePreprocessor.timeout=99999999 --execute feature_selection/\"Univariante ROC_AUC\"/\"Qualitative deleted\"/\"Continuous to median\"/Balancing_Oversamlping_SMOTE/\"Z normalised\"/\"Training Models -- CMD\"/KNN.ipynb\n",
    "!jupyter nbconvert --to notebook --inplace --ExecutePreprocessor.timeout=99999999 --execute feature_selection/\"Univariante ROC_AUC\"/\"Qualitative deleted\"/\"Continuous to median\"/Balancing_Undersampling_Tomeklinks/\"Z normalised\"/\"Training Models -- CMD\"/KNN.ipynb\n",
    "!jupyter nbconvert --to notebook --inplace --ExecutePreprocessor.timeout=99999999 --execute feature_selection/\"Univariante ROC_AUC\"/\"Qualitative to mode\"/\"Continuous deleted\"/Balancing_Oversamlping_SMOTE/\"Z normalised\"/\"Training Models -- CMD\"/KNN.ipynb\n",
    "!jupyter nbconvert --to notebook --inplace --ExecutePreprocessor.timeout=99999999 --execute feature_selection/\"Univariante ROC_AUC\"/\"Qualitative to mode\"/\"Continuous deleted\"/Balancing_Undersampling_Tomeklinks/\"Z normalised\"/\"Training Models -- CMD\"/KNN.ipynb\n",
    "!jupyter nbconvert --to notebook --inplace --ExecutePreprocessor.timeout=99999999 --execute feature_selection/\"Univariante ROC_AUC\"/\"Qualitative to mode\"/\"Continuous to median\"/Balancing_Oversamlping_SMOTE/\"Z normalised\"/\"Training Models -- CMD\"/KNN.ipynb\n",
    "!jupyter nbconvert --to notebook --inplace --ExecutePreprocessor.timeout=99999999 --execute feature_selection/\"Univariante ROC_AUC\"/\"Qualitative to mode\"/\"Continuous to median\"/Balancing_Undersampling_Tomeklinks/\"Z normalised\"/\"Training Models -- CMD\"/KNN.ipynb"
   ]
  },
  {
   "cell_type": "code",
   "execution_count": null,
   "metadata": {
    "pycharm": {
     "name": "#%%\n"
    }
   },
   "outputs": [],
   "source": [
    "### Correlation\n",
    "!jupyter nbconvert --to notebook --inplace --ExecutePreprocessor.timeout=99999999 --execute feature_selection/\"Correlation\"/\"Qualitative deleted\"/\"Continuous deleted\"/Balancing_Oversamlping_SMOTE/\"Z normalised\"/\"Training Models -- CMD\"/KNN.ipynb\n",
    "!jupyter nbconvert --to notebook --inplace --ExecutePreprocessor.timeout=99999999 --execute feature_selection/\"Correlation\"/\"Qualitative deleted\"/\"Continuous deleted\"/Balancing_Undersampling_Tomeklinks/\"Z normalised\"/\"Training Models -- CMD\"/KNN.ipynb\n",
    "!jupyter nbconvert --to notebook --inplace --ExecutePreprocessor.timeout=99999999 --execute feature_selection/\"Correlation\"/\"Qualitative deleted\"/\"Continuous to median\"/Balancing_Oversamlping_SMOTE/\"Z normalised\"/\"Training Models -- CMD\"/KNN.ipynb\n",
    "!jupyter nbconvert --to notebook --inplace --ExecutePreprocessor.timeout=99999999 --execute feature_selection/\"Correlation\"/\"Qualitative deleted\"/\"Continuous to median\"/Balancing_Undersampling_Tomeklinks/\"Z normalised\"/\"Training Models -- CMD\"/KNN.ipynb\n",
    "!jupyter nbconvert --to notebook --inplace --ExecutePreprocessor.timeout=99999999 --execute feature_selection/\"Correlation\"/\"Qualitative to mode\"/\"Continuous deleted\"/Balancing_Oversamlping_SMOTE/\"Z normalised\"/\"Training Models -- CMD\"/KNN.ipynb\n",
    "!jupyter nbconvert --to notebook --inplace --ExecutePreprocessor.timeout=99999999 --execute feature_selection/\"Correlation\"/\"Qualitative to mode\"/\"Continuous deleted\"/Balancing_Undersampling_Tomeklinks/\"Z normalised\"/\"Training Models -- CMD\"/KNN.ipynb\n",
    "!jupyter nbconvert --to notebook --inplace --ExecutePreprocessor.timeout=99999999 --execute feature_selection/\"Correlation\"/\"Qualitative to mode\"/\"Continuous to median\"/Balancing_Oversamlping_SMOTE/\"Z normalised\"/\"Training Models -- CMD\"/KNN.ipynb\n",
    "!jupyter nbconvert --to notebook --inplace --ExecutePreprocessor.timeout=99999999 --execute feature_selection/\"Correlation\"/\"Qualitative to mode\"/\"Continuous to median\"/Balancing_Undersampling_Tomeklinks/\"Z normalised\"/\"Training Models -- CMD\"/KNN.ipynb\n"
   ]
  },
  {
   "cell_type": "markdown",
   "metadata": {},
   "source": [
    "#### MinMax"
   ]
  },
  {
   "cell_type": "code",
   "execution_count": null,
   "metadata": {
    "pycharm": {
     "name": "#%%\n"
    }
   },
   "outputs": [],
   "source": [
    "### Univariante ROC_AUC\n",
    "!jupyter nbconvert --to notebook --inplace --ExecutePreprocessor.timeout=99999999 --execute feature_selection/\"Univariante ROC_AUC\"/\"Qualitative deleted\"/\"Continuous deleted\"/Balancing_Oversamlping_SMOTE/\"MinMax normalised\"/\"Training Models -- CMD\"/KNN.ipynb\n",
    "!jupyter nbconvert --to notebook --inplace --ExecutePreprocessor.timeout=99999999 --execute feature_selection/\"Univariante ROC_AUC\"/\"Qualitative deleted\"/\"Continuous deleted\"/Balancing_Undersampling_Tomeklinks/\"MinMax normalised\"/\"Training Models -- CMD\"/KNN.ipynb\n",
    "!jupyter nbconvert --to notebook --inplace --ExecutePreprocessor.timeout=99999999 --execute feature_selection/\"Univariante ROC_AUC\"/\"Qualitative deleted\"/\"Continuous to median\"/Balancing_Oversamlping_SMOTE/\"MinMax normalised\"/\"Training Models -- CMD\"/KNN.ipynb\n",
    "!jupyter nbconvert --to notebook --inplace --ExecutePreprocessor.timeout=99999999 --execute feature_selection/\"Univariante ROC_AUC\"/\"Qualitative deleted\"/\"Continuous to median\"/Balancing_Undersampling_Tomeklinks/\"MinMax normalised\"/\"Training Models -- CMD\"/KNN.ipynb\n",
    "!jupyter nbconvert --to notebook --inplace --ExecutePreprocessor.timeout=99999999 --execute feature_selection/\"Univariante ROC_AUC\"/\"Qualitative to mode\"/\"Continuous deleted\"/Balancing_Oversamlping_SMOTE/\"MinMax normalised\"/\"Training Models -- CMD\"/KNN.ipynb\n",
    "!jupyter nbconvert --to notebook --inplace --ExecutePreprocessor.timeout=99999999 --execute feature_selection/\"Univariante ROC_AUC\"/\"Qualitative to mode\"/\"Continuous deleted\"/Balancing_Undersampling_Tomeklinks/\"MinMax normalised\"/\"Training Models -- CMD\"/KNN.ipynb\n",
    "!jupyter nbconvert --to notebook --inplace --ExecutePreprocessor.timeout=99999999 --execute feature_selection/\"Univariante ROC_AUC\"/\"Qualitative to mode\"/\"Continuous to median\"/Balancing_Oversamlping_SMOTE/\"MinMax normalised\"/\"Training Models -- CMD\"/KNN.ipynb\n",
    "!jupyter nbconvert --to notebook --inplace --ExecutePreprocessor.timeout=99999999 --execute feature_selection/\"Univariante ROC_AUC\"/\"Qualitative to mode\"/\"Continuous to median\"/Balancing_Undersampling_Tomeklinks/\"MinMax normalised\"/\"Training Models -- CMD\"/KNN.ipynb"
   ]
  },
  {
   "cell_type": "code",
   "execution_count": null,
   "metadata": {
    "pycharm": {
     "name": "#%%\n"
    }
   },
   "outputs": [],
   "source": [
    "### Correlation\n",
    "!jupyter nbconvert --to notebook --inplace --ExecutePreprocessor.timeout=99999999 --execute feature_selection/\"Correlation\"/\"Qualitative deleted\"/\"Continuous deleted\"/Balancing_Oversamlping_SMOTE/\"MinMax normalised\"/\"Training Models -- CMD\"/KNN.ipynb\n",
    "!jupyter nbconvert --to notebook --inplace --ExecutePreprocessor.timeout=99999999 --execute feature_selection/\"Correlation\"/\"Qualitative deleted\"/\"Continuous deleted\"/Balancing_Undersampling_Tomeklinks/\"MinMax normalised\"/\"Training Models -- CMD\"/KNN.ipynb\n",
    "!jupyter nbconvert --to notebook --inplace --ExecutePreprocessor.timeout=99999999 --execute feature_selection/\"Correlation\"/\"Qualitative deleted\"/\"Continuous to median\"/Balancing_Oversamlping_SMOTE/\"MinMax normalised\"/\"Training Models -- CMD\"/KNN.ipynb\n",
    "!jupyter nbconvert --to notebook --inplace --ExecutePreprocessor.timeout=99999999 --execute feature_selection/\"Correlation\"/\"Qualitative deleted\"/\"Continuous to median\"/Balancing_Undersampling_Tomeklinks/\"MinMax normalised\"/\"Training Models -- CMD\"/KNN.ipynb\n",
    "!jupyter nbconvert --to notebook --inplace --ExecutePreprocessor.timeout=99999999 --execute feature_selection/\"Correlation\"/\"Qualitative to mode\"/\"Continuous deleted\"/Balancing_Oversamlping_SMOTE/\"MinMax normalised\"/\"Training Models -- CMD\"/KNN.ipynb\n",
    "!jupyter nbconvert --to notebook --inplace --ExecutePreprocessor.timeout=99999999 --execute feature_selection/\"Correlation\"/\"Qualitative to mode\"/\"Continuous deleted\"/Balancing_Undersampling_Tomeklinks/\"MinMax normalised\"/\"Training Models -- CMD\"/KNN.ipynb\n",
    "!jupyter nbconvert --to notebook --inplace --ExecutePreprocessor.timeout=99999999 --execute feature_selection/\"Correlation\"/\"Qualitative to mode\"/\"Continuous to median\"/Balancing_Oversamlping_SMOTE/\"MinMax normalised\"/\"Training Models -- CMD\"/KNN.ipynb\n",
    "!jupyter nbconvert --to notebook --inplace --ExecutePreprocessor.timeout=99999999 --execute feature_selection/\"Correlation\"/\"Qualitative to mode\"/\"Continuous to median\"/Balancing_Undersampling_Tomeklinks/\"MinMax normalised\"/\"Training Models -- CMD\"/KNN.ipynb"
   ]
  },
  {
   "cell_type": "markdown",
   "metadata": {
    "pycharm": {
     "name": "#%% md\n"
    }
   },
   "source": [
    "#### Logistic"
   ]
  },
  {
   "cell_type": "code",
   "execution_count": null,
   "metadata": {
    "pycharm": {
     "name": "#%%\n"
    }
   },
   "outputs": [],
   "source": [
    "### Univariante ROC_AUC\n",
    "!jupyter nbconvert --to notebook --inplace --ExecutePreprocessor.timeout=99999999 --execute feature_selection/\"Univariante ROC_AUC\"/\"Qualitative deleted\"/\"Continuous deleted\"/Balancing_Oversamlping_SMOTE/\"Logistic normalised\"/\"Training Models -- CMD\"/KNN.ipynb\n",
    "!jupyter nbconvert --to notebook --inplace --ExecutePreprocessor.timeout=99999999 --execute feature_selection/\"Univariante ROC_AUC\"/\"Qualitative deleted\"/\"Continuous deleted\"/Balancing_Undersampling_Tomeklinks/\"Logistic normalised\"/\"Training Models -- CMD\"/KNN.ipynb\n",
    "!jupyter nbconvert --to notebook --inplace --ExecutePreprocessor.timeout=99999999 --execute feature_selection/\"Univariante ROC_AUC\"/\"Qualitative deleted\"/\"Continuous to median\"/Balancing_Oversamlping_SMOTE/\"Logistic normalised\"/\"Training Models -- CMD\"/KNN.ipynb\n",
    "!jupyter nbconvert --to notebook --inplace --ExecutePreprocessor.timeout=99999999 --execute feature_selection/\"Univariante ROC_AUC\"/\"Qualitative deleted\"/\"Continuous to median\"/Balancing_Undersampling_Tomeklinks/\"Logistic normalised\"/\"Training Models -- CMD\"/KNN.ipynb\n",
    "!jupyter nbconvert --to notebook --inplace --ExecutePreprocessor.timeout=99999999 --execute feature_selection/\"Univariante ROC_AUC\"/\"Qualitative to mode\"/\"Continuous deleted\"/Balancing_Oversamlping_SMOTE/\"Logistic normalised\"/\"Training Models -- CMD\"/KNN.ipynb\n",
    "!jupyter nbconvert --to notebook --inplace --ExecutePreprocessor.timeout=99999999 --execute feature_selection/\"Univariante ROC_AUC\"/\"Qualitative to mode\"/\"Continuous deleted\"/Balancing_Undersampling_Tomeklinks/\"Logistic normalised\"/\"Training Models -- CMD\"/KNN.ipynb\n",
    "!jupyter nbconvert --to notebook --inplace --ExecutePreprocessor.timeout=99999999 --execute feature_selection/\"Univariante ROC_AUC\"/\"Qualitative to mode\"/\"Continuous to median\"/Balancing_Oversamlping_SMOTE/\"Logistic normalised\"/\"Training Models -- CMD\"/KNN.ipynb\n",
    "!jupyter nbconvert --to notebook --inplace --ExecutePreprocessor.timeout=99999999 --execute feature_selection/\"Univariante ROC_AUC\"/\"Qualitative to mode\"/\"Continuous to median\"/Balancing_Undersampling_Tomeklinks/\"Logistic normalised\"/\"Training Models -- CMD\"/KNN.ipynb"
   ]
  },
  {
   "cell_type": "code",
   "execution_count": null,
   "metadata": {
    "pycharm": {
     "name": "#%%\n"
    }
   },
   "outputs": [],
   "source": [
    "### Correlation\n",
    "!jupyter nbconvert --to notebook --inplace --ExecutePreprocessor.timeout=99999999 --execute feature_selection/\"Correlation\"/\"Qualitative deleted\"/\"Continuous deleted\"/Balancing_Oversamlping_SMOTE/\"Logistic normalised\"/\"Training Models -- CMD\"/KNN.ipynb\n",
    "!jupyter nbconvert --to notebook --inplace --ExecutePreprocessor.timeout=99999999 --execute feature_selection/\"Correlation\"/\"Qualitative deleted\"/\"Continuous deleted\"/Balancing_Undersampling_Tomeklinks/\"Logistic normalised\"/\"Training Models -- CMD\"/KNN.ipynb\n",
    "!jupyter nbconvert --to notebook --inplace --ExecutePreprocessor.timeout=99999999 --execute feature_selection/\"Correlation\"/\"Qualitative deleted\"/\"Continuous to median\"/Balancing_Oversamlping_SMOTE/\"Logistic normalised\"/\"Training Models -- CMD\"/KNN.ipynb\n",
    "!jupyter nbconvert --to notebook --inplace --ExecutePreprocessor.timeout=99999999 --execute feature_selection/\"Correlation\"/\"Qualitative deleted\"/\"Continuous to median\"/Balancing_Undersampling_Tomeklinks/\"Logistic normalised\"/\"Training Models -- CMD\"/KNN.ipynb\n",
    "!jupyter nbconvert --to notebook --inplace --ExecutePreprocessor.timeout=99999999 --execute feature_selection/\"Correlation\"/\"Qualitative to mode\"/\"Continuous deleted\"/Balancing_Oversamlping_SMOTE/\"Logistic normalised\"/\"Training Models -- CMD\"/KNN.ipynb\n",
    "!jupyter nbconvert --to notebook --inplace --ExecutePreprocessor.timeout=99999999 --execute feature_selection/\"Correlation\"/\"Qualitative to mode\"/\"Continuous deleted\"/Balancing_Undersampling_Tomeklinks/\"Logistic normalised\"/\"Training Models -- CMD\"/KNN.ipynb\n",
    "!jupyter nbconvert --to notebook --inplace --ExecutePreprocessor.timeout=99999999 --execute feature_selection/\"Correlation\"/\"Qualitative to mode\"/\"Continuous to median\"/Balancing_Oversamlping_SMOTE/\"Logistic normalised\"/\"Training Models -- CMD\"/KNN.ipynb\n",
    "!jupyter nbconvert --to notebook --inplace --ExecutePreprocessor.timeout=99999999 --execute feature_selection/\"Correlation\"/\"Qualitative to mode\"/\"Continuous to median\"/Balancing_Undersampling_Tomeklinks/\"Logistic normalised\"/\"Training Models -- CMD\"/KNN.ipynb"
   ]
  },
  {
   "cell_type": "markdown",
   "metadata": {
    "pycharm": {
     "name": "#%% md\n"
    }
   },
   "source": [
    "## Neural Network"
   ]
  },
  {
   "cell_type": "markdown",
   "metadata": {},
   "source": [
    "#### Z score"
   ]
  },
  {
   "cell_type": "code",
   "execution_count": 4,
   "metadata": {
    "pycharm": {
     "is_executing": false,
     "name": "#%%\n"
    }
   },
   "outputs": [
    {
     "name": "stdout",
     "output_type": "stream",
     "text": [
      "-----finished----\n"
     ]
    }
   ],
   "source": [
    "### Univariante ROC_AUC\n",
    "!jupyter nbconvert --to notebook --inplace --ExecutePreprocessor.timeout=99999999 --execute feature_selection/\"Univariante ROC_AUC\"/\"Qualitative deleted\"/\"Continuous deleted\"/Balancing_Oversamlping_SMOTE/\"Z normalised\"/\"Training Models -- CMD\"/ANN.ipynb\n",
    "!jupyter nbconvert --to notebook --inplace --ExecutePreprocessor.timeout=99999999 --execute feature_selection/\"Univariante ROC_AUC\"/\"Qualitative deleted\"/\"Continuous deleted\"/Balancing_Undersampling_Tomeklinks/\"Z normalised\"/\"Training Models -- CMD\"/ANN.ipynb\n",
    "!jupyter nbconvert --to notebook --inplace --ExecutePreprocessor.timeout=99999999 --execute feature_selection/\"Univariante ROC_AUC\"/\"Qualitative deleted\"/\"Continuous to median\"/Balancing_Oversamlping_SMOTE/\"Z normalised\"/\"Training Models -- CMD\"/ANN.ipynb\n",
    "!jupyter nbconvert --to notebook --inplace --ExecutePreprocessor.timeout=99999999 --execute feature_selection/\"Univariante ROC_AUC\"/\"Qualitative deleted\"/\"Continuous to median\"/Balancing_Undersampling_Tomeklinks/\"Z normalised\"/\"Training Models -- CMD\"/ANN.ipynb\n",
    "!jupyter nbconvert --to notebook --inplace --ExecutePreprocessor.timeout=99999999 --execute feature_selection/\"Univariante ROC_AUC\"/\"Qualitative to mode\"/\"Continuous deleted\"/Balancing_Oversamlping_SMOTE/\"Z normalised\"/\"Training Models -- CMD\"/ANN.ipynb\n",
    "!jupyter nbconvert --to notebook --inplace --ExecutePreprocessor.timeout=99999999 --execute feature_selection/\"Univariante ROC_AUC\"/\"Qualitative to mode\"/\"Continuous deleted\"/Balancing_Undersampling_Tomeklinks/\"Z normalised\"/\"Training Models -- CMD\"/ANN.ipynb\n",
    "!jupyter nbconvert --to notebook --inplace --ExecutePreprocessor.timeout=99999999 --execute feature_selection/\"Univariante ROC_AUC\"/\"Qualitative to mode\"/\"Continuous to median\"/Balancing_Oversamlping_SMOTE/\"Z normalised\"/\"Training Models -- CMD\"/ANN.ipynb\n",
    "!jupyter nbconvert --to notebook --inplace --ExecutePreprocessor.timeout=99999999 --execute feature_selection/\"Univariante ROC_AUC\"/\"Qualitative to mode\"/\"Continuous to median\"/Balancing_Undersampling_Tomeklinks/\"Z normalised\"/\"Training Models -- CMD\"/ANN.ipynb\n",
    "print(\"-----finished----\")"
   ]
  },
  {
   "cell_type": "code",
   "execution_count": null,
   "metadata": {
    "pycharm": {
     "name": "#%%\n"
    }
   },
   "outputs": [],
   "source": [
    "### Correlation\n",
    "!jupyter nbconvert --to notebook --inplace --ExecutePreprocessor.timeout=99999999 --execute feature_selection/\"Correlation\"/\"Qualitative deleted\"/\"Continuous deleted\"/Balancing_Oversamlping_SMOTE/\"Z normalised\"/\"Training Models -- CMD\"/ANN.ipynb\n",
    "!jupyter nbconvert --to notebook --inplace --ExecutePreprocessor.timeout=99999999 --execute feature_selection/\"Correlation\"/\"Qualitative deleted\"/\"Continuous deleted\"/Balancing_Undersampling_Tomeklinks/\"Z normalised\"/\"Training Models -- CMD\"/ANN.ipynb\n",
    "!jupyter nbconvert --to notebook --inplace --ExecutePreprocessor.timeout=99999999 --execute feature_selection/\"Correlation\"/\"Qualitative deleted\"/\"Continuous to median\"/Balancing_Oversamlping_SMOTE/\"Z normalised\"/\"Training Models -- CMD\"/ANN.ipynb\n",
    "!jupyter nbconvert --to notebook --inplace --ExecutePreprocessor.timeout=99999999 --execute feature_selection/\"Correlation\"/\"Qualitative deleted\"/\"Continuous to median\"/Balancing_Undersampling_Tomeklinks/\"Z normalised\"/\"Training Models -- CMD\"/ANN.ipynb\n",
    "!jupyter nbconvert --to notebook --inplace --ExecutePreprocessor.timeout=99999999 --execute feature_selection/\"Correlation\"/\"Qualitative to mode\"/\"Continuous deleted\"/Balancing_Oversamlping_SMOTE/\"Z normalised\"/\"Training Models -- CMD\"/ANN.ipynb\n",
    "!jupyter nbconvert --to notebook --inplace --ExecutePreprocessor.timeout=99999999 --execute feature_selection/\"Correlation\"/\"Qualitative to mode\"/\"Continuous deleted\"/Balancing_Undersampling_Tomeklinks/\"Z normalised\"/\"Training Models -- CMD\"/ANN.ipynb\n",
    "!jupyter nbconvert --to notebook --inplace --ExecutePreprocessor.timeout=99999999 --execute feature_selection/\"Correlation\"/\"Qualitative to mode\"/\"Continuous to median\"/Balancing_Oversamlping_SMOTE/\"Z normalised\"/\"Training Models -- CMD\"/ANN.ipynb\n",
    "!jupyter nbconvert --to notebook --inplace --ExecutePreprocessor.timeout=99999999 --execute feature_selection/\"Correlation\"/\"Qualitative to mode\"/\"Continuous to median\"/Balancing_Undersampling_Tomeklinks/\"Z normalised\"/\"Training Models -- CMD\"/ANN.ipynb\n"
   ]
  },
  {
   "cell_type": "markdown",
   "metadata": {
    "pycharm": {
     "name": "#%% md\n"
    }
   },
   "source": [
    "#### MinMax"
   ]
  },
  {
   "cell_type": "code",
   "execution_count": 2,
   "metadata": {
    "pycharm": {
     "is_executing": false,
     "name": "#%%\n"
    }
   },
   "outputs": [
    {
     "name": "stdout",
     "output_type": "stream",
     "text": [
      "-----finished----\n"
     ]
    }
   ],
   "source": [
    "### Univariante ROC_AUC\n",
    "!jupyter nbconvert --to notebook --inplace --ExecutePreprocessor.timeout=99999999 --execute feature_selection/\"Univariante ROC_AUC\"/\"Qualitative deleted\"/\"Continuous deleted\"/Balancing_Oversamlping_SMOTE/\"MinMax normalised\"/\"Training Models -- CMD\"/ANN.ipynb\n",
    "!jupyter nbconvert --to notebook --inplace --ExecutePreprocessor.timeout=99999999 --execute feature_selection/\"Univariante ROC_AUC\"/\"Qualitative deleted\"/\"Continuous deleted\"/Balancing_Undersampling_Tomeklinks/\"MinMax normalised\"/\"Training Models -- CMD\"/ANN.ipynb\n",
    "!jupyter nbconvert --to notebook --inplace --ExecutePreprocessor.timeout=99999999 --execute feature_selection/\"Univariante ROC_AUC\"/\"Qualitative deleted\"/\"Continuous to median\"/Balancing_Oversamlping_SMOTE/\"MinMax normalised\"/\"Training Models -- CMD\"/ANN.ipynb\n",
    "!jupyter nbconvert --to notebook --inplace --ExecutePreprocessor.timeout=99999999 --execute feature_selection/\"Univariante ROC_AUC\"/\"Qualitative deleted\"/\"Continuous to median\"/Balancing_Undersampling_Tomeklinks/\"MinMax normalised\"/\"Training Models -- CMD\"/ANN.ipynb\n",
    "!jupyter nbconvert --to notebook --inplace --ExecutePreprocessor.timeout=99999999 --execute feature_selection/\"Univariante ROC_AUC\"/\"Qualitative to mode\"/\"Continuous deleted\"/Balancing_Oversamlping_SMOTE/\"MinMax normalised\"/\"Training Models -- CMD\"/ANN.ipynb\n",
    "!jupyter nbconvert --to notebook --inplace --ExecutePreprocessor.timeout=99999999 --execute feature_selection/\"Univariante ROC_AUC\"/\"Qualitative to mode\"/\"Continuous deleted\"/Balancing_Undersampling_Tomeklinks/\"MinMax normalised\"/\"Training Models -- CMD\"/ANN.ipynb\n",
    "!jupyter nbconvert --to notebook --inplace --ExecutePreprocessor.timeout=99999999 --execute feature_selection/\"Univariante ROC_AUC\"/\"Qualitative to mode\"/\"Continuous to median\"/Balancing_Oversamlping_SMOTE/\"MinMax normalised\"/\"Training Models -- CMD\"/ANN.ipynb\n",
    "!jupyter nbconvert --to notebook --inplace --ExecutePreprocessor.timeout=99999999 --execute feature_selection/\"Univariante ROC_AUC\"/\"Qualitative to mode\"/\"Continuous to median\"/Balancing_Undersampling_Tomeklinks/\"MinMax normalised\"/\"Training Models -- CMD\"/ANN.ipynb\n",
    "print(\"-----finished----\")"
   ]
  },
  {
   "cell_type": "code",
   "execution_count": null,
   "metadata": {
    "pycharm": {
     "name": "#%%\n"
    }
   },
   "outputs": [],
   "source": [
    "### Correlation\n",
    "!jupyter nbconvert --to notebook --inplace --ExecutePreprocessor.timeout=99999999 --execute feature_selection/\"Correlation\"/\"Qualitative deleted\"/\"Continuous deleted\"/Balancing_Oversamlping_SMOTE/\"MinMax normalised\"/\"Training Models -- CMD\"/ANN.ipynb\n",
    "!jupyter nbconvert --to notebook --inplace --ExecutePreprocessor.timeout=99999999 --execute feature_selection/\"Correlation\"/\"Qualitative deleted\"/\"Continuous deleted\"/Balancing_Undersampling_Tomeklinks/\"MinMax normalised\"/\"Training Models -- CMD\"/ANN.ipynb\n",
    "!jupyter nbconvert --to notebook --inplace --ExecutePreprocessor.timeout=99999999 --execute feature_selection/\"Correlation\"/\"Qualitative deleted\"/\"Continuous to median\"/Balancing_Oversamlping_SMOTE/\"MinMax normalised\"/\"Training Models -- CMD\"/ANN.ipynb\n",
    "!jupyter nbconvert --to notebook --inplace --ExecutePreprocessor.timeout=99999999 --execute feature_selection/\"Correlation\"/\"Qualitative deleted\"/\"Continuous to median\"/Balancing_Undersampling_Tomeklinks/\"MinMax normalised\"/\"Training Models -- CMD\"/ANN.ipynb\n",
    "!jupyter nbconvert --to notebook --inplace --ExecutePreprocessor.timeout=99999999 --execute feature_selection/\"Correlation\"/\"Qualitative to mode\"/\"Continuous deleted\"/Balancing_Oversamlping_SMOTE/\"MinMax normalised\"/\"Training Models -- CMD\"/ANN.ipynb\n",
    "!jupyter nbconvert --to notebook --inplace --ExecutePreprocessor.timeout=99999999 --execute feature_selection/\"Correlation\"/\"Qualitative to mode\"/\"Continuous deleted\"/Balancing_Undersampling_Tomeklinks/\"MinMax normalised\"/\"Training Models -- CMD\"/ANN.ipynb\n",
    "!jupyter nbconvert --to notebook --inplace --ExecutePreprocessor.timeout=99999999 --execute feature_selection/\"Correlation\"/\"Qualitative to mode\"/\"Continuous to median\"/Balancing_Oversamlping_SMOTE/\"MinMax normalised\"/\"Training Models -- CMD\"/ANN.ipynb\n",
    "!jupyter nbconvert --to notebook --inplace --ExecutePreprocessor.timeout=99999999 --execute feature_selection/\"Correlation\"/\"Qualitative to mode\"/\"Continuous to median\"/Balancing_Undersampling_Tomeklinks/\"MinMax normalised\"/\"Training Models -- CMD\"/ANN.ipynb"
   ]
  },
  {
   "cell_type": "markdown",
   "metadata": {
    "pycharm": {
     "name": "#%% md\n"
    }
   },
   "source": [
    "#### Logistic"
   ]
  },
  {
   "cell_type": "code",
   "execution_count": null,
   "metadata": {
    "pycharm": {
     "name": "#%%\n"
    }
   },
   "outputs": [],
   "source": [
    "### Univariante ROC_AUC\n",
    "!jupyter nbconvert --to notebook --inplace --ExecutePreprocessor.timeout=99999999 --execute feature_selection/\"Univariante ROC_AUC\"/\"Qualitative deleted\"/\"Continuous deleted\"/Balancing_Oversamlping_SMOTE/\"Logistic normalised\"/\"Training Models -- CMD\"/ANN.ipynb\n",
    "!jupyter nbconvert --to notebook --inplace --ExecutePreprocessor.timeout=99999999 --execute feature_selection/\"Univariante ROC_AUC\"/\"Qualitative deleted\"/\"Continuous deleted\"/Balancing_Undersampling_Tomeklinks/\"Logistic normalised\"/\"Training Models -- CMD\"/ANN.ipynb\n",
    "!jupyter nbconvert --to notebook --inplace --ExecutePreprocessor.timeout=99999999 --execute feature_selection/\"Univariante ROC_AUC\"/\"Qualitative deleted\"/\"Continuous to median\"/Balancing_Oversamlping_SMOTE/\"Logistic normalised\"/\"Training Models -- CMD\"/ANN.ipynb\n",
    "!jupyter nbconvert --to notebook --inplace --ExecutePreprocessor.timeout=99999999 --execute feature_selection/\"Univariante ROC_AUC\"/\"Qualitative deleted\"/\"Continuous to median\"/Balancing_Undersampling_Tomeklinks/\"Logistic normalised\"/\"Training Models -- CMD\"/ANN.ipynb\n",
    "!jupyter nbconvert --to notebook --inplace --ExecutePreprocessor.timeout=99999999 --execute feature_selection/\"Univariante ROC_AUC\"/\"Qualitative to mode\"/\"Continuous deleted\"/Balancing_Oversamlping_SMOTE/\"Logistic normalised\"/\"Training Models -- CMD\"/ANN.ipynb\n",
    "!jupyter nbconvert --to notebook --inplace --ExecutePreprocessor.timeout=99999999 --execute feature_selection/\"Univariante ROC_AUC\"/\"Qualitative to mode\"/\"Continuous deleted\"/Balancing_Undersampling_Tomeklinks/\"Logistic normalised\"/\"Training Models -- CMD\"/ANN.ipynb\n",
    "!jupyter nbconvert --to notebook --inplace --ExecutePreprocessor.timeout=99999999 --execute feature_selection/\"Univariante ROC_AUC\"/\"Qualitative to mode\"/\"Continuous to median\"/Balancing_Oversamlping_SMOTE/\"Logistic normalised\"/\"Training Models -- CMD\"/ANN.ipynb\n",
    "!jupyter nbconvert --to notebook --inplace --ExecutePreprocessor.timeout=99999999 --execute feature_selection/\"Univariante ROC_AUC\"/\"Qualitative to mode\"/\"Continuous to median\"/Balancing_Undersampling_Tomeklinks/\"Logistic normalised\"/\"Training Models -- CMD\"/ANN.ipynb"
   ]
  },
  {
   "cell_type": "code",
   "execution_count": null,
   "metadata": {
    "pycharm": {
     "name": "#%%\n"
    }
   },
   "outputs": [],
   "source": [
    "### Correlation\n",
    "!jupyter nbconvert --to notebook --inplace --ExecutePreprocessor.timeout=99999999 --execute feature_selection/\"Correlation\"/\"Qualitative deleted\"/\"Continuous deleted\"/Balancing_Oversamlping_SMOTE/\"Logistic normalised\"/\"Training Models -- CMD\"/ANN.ipynb\n",
    "!jupyter nbconvert --to notebook --inplace --ExecutePreprocessor.timeout=99999999 --execute feature_selection/\"Correlation\"/\"Qualitative deleted\"/\"Continuous deleted\"/Balancing_Undersampling_Tomeklinks/\"Logistic normalised\"/\"Training Models -- CMD\"/ANN.ipynb\n",
    "!jupyter nbconvert --to notebook --inplace --ExecutePreprocessor.timeout=99999999 --execute feature_selection/\"Correlation\"/\"Qualitative deleted\"/\"Continuous to median\"/Balancing_Oversamlping_SMOTE/\"Logistic normalised\"/\"Training Models -- CMD\"/ANN.ipynb\n",
    "!jupyter nbconvert --to notebook --inplace --ExecutePreprocessor.timeout=99999999 --execute feature_selection/\"Correlation\"/\"Qualitative deleted\"/\"Continuous to median\"/Balancing_Undersampling_Tomeklinks/\"Logistic normalised\"/\"Training Models -- CMD\"/ANN.ipynb\n",
    "!jupyter nbconvert --to notebook --inplace --ExecutePreprocessor.timeout=99999999 --execute feature_selection/\"Correlation\"/\"Qualitative to mode\"/\"Continuous deleted\"/Balancing_Oversamlping_SMOTE/\"Logistic normalised\"/\"Training Models -- CMD\"/ANN.ipynb\n",
    "!jupyter nbconvert --to notebook --inplace --ExecutePreprocessor.timeout=99999999 --execute feature_selection/\"Correlation\"/\"Qualitative to mode\"/\"Continuous deleted\"/Balancing_Undersampling_Tomeklinks/\"Logistic normalised\"/\"Training Models -- CMD\"/ANN.ipynb\n",
    "!jupyter nbconvert --to notebook --inplace --ExecutePreprocessor.timeout=99999999 --execute feature_selection/\"Correlation\"/\"Qualitative to mode\"/\"Continuous to median\"/Balancing_Oversamlping_SMOTE/\"Logistic normalised\"/\"Training Models -- CMD\"/ANN.ipynb\n",
    "!jupyter nbconvert --to notebook --inplace --ExecutePreprocessor.timeout=99999999 --execute feature_selection/\"Correlation\"/\"Qualitative to mode\"/\"Continuous to median\"/Balancing_Undersampling_Tomeklinks/\"Logistic normalised\"/\"Training Models -- CMD\"/ANN.ipynb\n",
    "\n",
    "\n",
    "\n"
   ]
  },
  {
   "cell_type": "markdown",
   "metadata": {
    "pycharm": {
     "name": "#%% md\n"
    }
   },
   "source": [
    "## SVM"
   ]
  },
  {
   "cell_type": "markdown",
   "metadata": {},
   "source": [
    "#### Z score"
   ]
  },
  {
   "cell_type": "code",
   "execution_count": null,
   "metadata": {
    "pycharm": {
     "name": "#%%\n"
    }
   },
   "outputs": [],
   "source": [
    "### Univariante ROC_AUC\n",
    "!jupyter nbconvert --to notebook --inplace --ExecutePreprocessor.timeout=99999999 --execute feature_selection/\"Univariante ROC_AUC\"/\"Qualitative deleted\"/\"Continuous deleted\"/Balancing_Oversamlping_SMOTE/\"Z normalised\"/\"Training Models -- CMD\"/SVM.ipynb\n",
    "!jupyter nbconvert --to notebook --inplace --ExecutePreprocessor.timeout=99999999 --execute feature_selection/\"Univariante ROC_AUC\"/\"Qualitative deleted\"/\"Continuous deleted\"/Balancing_Undersampling_Tomeklinks/\"Z normalised\"/\"Training Models -- CMD\"/SVM.ipynb\n",
    "!jupyter nbconvert --to notebook --inplace --ExecutePreprocessor.timeout=99999999 --execute feature_selection/\"Univariante ROC_AUC\"/\"Qualitative deleted\"/\"Continuous to median\"/Balancing_Oversamlping_SMOTE/\"Z normalised\"/\"Training Models -- CMD\"/SVM.ipynb\n",
    "!jupyter nbconvert --to notebook --inplace --ExecutePreprocessor.timeout=99999999 --execute feature_selection/\"Univariante ROC_AUC\"/\"Qualitative deleted\"/\"Continuous to median\"/Balancing_Undersampling_Tomeklinks/\"Z normalised\"/\"Training Models -- CMD\"/SVM.ipynb\n",
    "!jupyter nbconvert --to notebook --inplace --ExecutePreprocessor.timeout=99999999 --execute feature_selection/\"Univariante ROC_AUC\"/\"Qualitative to mode\"/\"Continuous deleted\"/Balancing_Oversamlping_SMOTE/\"Z normalised\"/\"Training Models -- CMD\"/SVM.ipynb\n",
    "!jupyter nbconvert --to notebook --inplace --ExecutePreprocessor.timeout=99999999 --execute feature_selection/\"Univariante ROC_AUC\"/\"Qualitative to mode\"/\"Continuous deleted\"/Balancing_Undersampling_Tomeklinks/\"Z normalised\"/\"Training Models -- CMD\"/SVM.ipynb\n",
    "!jupyter nbconvert --to notebook --inplace --ExecutePreprocessor.timeout=99999999 --execute feature_selection/\"Univariante ROC_AUC\"/\"Qualitative to mode\"/\"Continuous to median\"/Balancing_Oversamlping_SMOTE/\"Z normalised\"/\"Training Models -- CMD\"/SVM.ipynb\n",
    "!jupyter nbconvert --to notebook --inplace --ExecutePreprocessor.timeout=99999999 --execute feature_selection/\"Univariante ROC_AUC\"/\"Qualitative to mode\"/\"Continuous to median\"/Balancing_Undersampling_Tomeklinks/\"Z normalised\"/\"Training Models -- CMD\"/SVM.ipynb"
   ]
  },
  {
   "cell_type": "code",
   "execution_count": null,
   "metadata": {
    "pycharm": {
     "name": "#%%\n"
    }
   },
   "outputs": [],
   "source": [
    "### Correlation\n",
    "!jupyter nbconvert --to notebook --inplace --ExecutePreprocessor.timeout=99999999 --execute feature_selection/\"Correlation\"/\"Qualitative deleted\"/\"Continuous deleted\"/Balancing_Oversamlping_SMOTE/\"Z normalised\"/\"Training Models -- CMD\"/SVM.ipynb\n",
    "!jupyter nbconvert --to notebook --inplace --ExecutePreprocessor.timeout=99999999 --execute feature_selection/\"Correlation\"/\"Qualitative deleted\"/\"Continuous deleted\"/Balancing_Undersampling_Tomeklinks/\"Z normalised\"/\"Training Models -- CMD\"/SVM.ipynb\n",
    "!jupyter nbconvert --to notebook --inplace --ExecutePreprocessor.timeout=99999999 --execute feature_selection/\"Correlation\"/\"Qualitative deleted\"/\"Continuous to median\"/Balancing_Oversamlping_SMOTE/\"Z normalised\"/\"Training Models -- CMD\"/SVM.ipynb\n",
    "!jupyter nbconvert --to notebook --inplace --ExecutePreprocessor.timeout=99999999 --execute feature_selection/\"Correlation\"/\"Qualitative deleted\"/\"Continuous to median\"/Balancing_Undersampling_Tomeklinks/\"Z normalised\"/\"Training Models -- CMD\"/SVM.ipynb\n",
    "!jupyter nbconvert --to notebook --inplace --ExecutePreprocessor.timeout=99999999 --execute feature_selection/\"Correlation\"/\"Qualitative to mode\"/\"Continuous deleted\"/Balancing_Oversamlping_SMOTE/\"Z normalised\"/\"Training Models -- CMD\"/SVM.ipynb\n",
    "!jupyter nbconvert --to notebook --inplace --ExecutePreprocessor.timeout=99999999 --execute feature_selection/\"Correlation\"/\"Qualitative to mode\"/\"Continuous deleted\"/Balancing_Undersampling_Tomeklinks/\"Z normalised\"/\"Training Models -- CMD\"/SVM.ipynb\n",
    "!jupyter nbconvert --to notebook --inplace --ExecutePreprocessor.timeout=99999999 --execute feature_selection/\"Correlation\"/\"Qualitative to mode\"/\"Continuous to median\"/Balancing_Oversamlping_SMOTE/\"Z normalised\"/\"Training Models -- CMD\"/SVM.ipynb\n",
    "!jupyter nbconvert --to notebook --inplace --ExecutePreprocessor.timeout=99999999 --execute feature_selection/\"Correlation\"/\"Qualitative to mode\"/\"Continuous to median\"/Balancing_Undersampling_Tomeklinks/\"Z normalised\"/\"Training Models -- CMD\"/SVM.ipynb\n"
   ]
  },
  {
   "cell_type": "markdown",
   "metadata": {
    "pycharm": {
     "name": "#%% md\n"
    }
   },
   "source": [
    "#### MinMax"
   ]
  },
  {
   "cell_type": "code",
   "execution_count": null,
   "metadata": {
    "pycharm": {
     "name": "#%%\n"
    }
   },
   "outputs": [],
   "source": [
    "### Univariante ROC_AUC\n",
    "!jupyter nbconvert --to notebook --inplace --ExecutePreprocessor.timeout=99999999 --execute feature_selection/\"Univariante ROC_AUC\"/\"Qualitative deleted\"/\"Continuous deleted\"/Balancing_Oversamlping_SMOTE/\"MinMax normalised\"/\"Training Models -- CMD\"/SVM.ipynb\n",
    "!jupyter nbconvert --to notebook --inplace --ExecutePreprocessor.timeout=99999999 --execute feature_selection/\"Univariante ROC_AUC\"/\"Qualitative deleted\"/\"Continuous deleted\"/Balancing_Undersampling_Tomeklinks/\"MinMax normalised\"/\"Training Models -- CMD\"/SVM.ipynb\n",
    "!jupyter nbconvert --to notebook --inplace --ExecutePreprocessor.timeout=99999999 --execute feature_selection/\"Univariante ROC_AUC\"/\"Qualitative deleted\"/\"Continuous to median\"/Balancing_Oversamlping_SMOTE/\"MinMax normalised\"/\"Training Models -- CMD\"/SVM.ipynb\n",
    "!jupyter nbconvert --to notebook --inplace --ExecutePreprocessor.timeout=99999999 --execute feature_selection/\"Univariante ROC_AUC\"/\"Qualitative deleted\"/\"Continuous to median\"/Balancing_Undersampling_Tomeklinks/\"MinMax normalised\"/\"Training Models -- CMD\"/SVM.ipynb\n",
    "!jupyter nbconvert --to notebook --inplace --ExecutePreprocessor.timeout=99999999 --execute feature_selection/\"Univariante ROC_AUC\"/\"Qualitative to mode\"/\"Continuous deleted\"/Balancing_Oversamlping_SMOTE/\"MinMax normalised\"/\"Training Models -- CMD\"/SVM.ipynb\n",
    "!jupyter nbconvert --to notebook --inplace --ExecutePreprocessor.timeout=99999999 --execute feature_selection/\"Univariante ROC_AUC\"/\"Qualitative to mode\"/\"Continuous deleted\"/Balancing_Undersampling_Tomeklinks/\"MinMax normalised\"/\"Training Models -- CMD\"/SVM.ipynb\n",
    "!jupyter nbconvert --to notebook --inplace --ExecutePreprocessor.timeout=99999999 --execute feature_selection/\"Univariante ROC_AUC\"/\"Qualitative to mode\"/\"Continuous to median\"/Balancing_Oversamlping_SMOTE/\"MinMax normalised\"/\"Training Models -- CMD\"/SVM.ipynb\n",
    "!jupyter nbconvert --to notebook --inplace --ExecutePreprocessor.timeout=99999999 --execute feature_selection/\"Univariante ROC_AUC\"/\"Qualitative to mode\"/\"Continuous to median\"/Balancing_Undersampling_Tomeklinks/\"MinMax normalised\"/\"Training Models -- CMD\"/SVM.ipynb"
   ]
  },
  {
   "cell_type": "code",
   "execution_count": null,
   "metadata": {
    "pycharm": {
     "name": "#%%\n"
    }
   },
   "outputs": [],
   "source": [
    "### Correlation\n",
    "!jupyter nbconvert --to notebook --inplace --ExecutePreprocessor.timeout=99999999 --execute feature_selection/\"Correlation\"/\"Qualitative deleted\"/\"Continuous deleted\"/Balancing_Oversamlping_SMOTE/\"MinMax normalised\"/\"Training Models -- CMD\"/SVM.ipynb\n",
    "!jupyter nbconvert --to notebook --inplace --ExecutePreprocessor.timeout=99999999 --execute feature_selection/\"Correlation\"/\"Qualitative deleted\"/\"Continuous deleted\"/Balancing_Undersampling_Tomeklinks/\"MinMax normalised\"/\"Training Models -- CMD\"/SVM.ipynb\n",
    "!jupyter nbconvert --to notebook --inplace --ExecutePreprocessor.timeout=99999999 --execute feature_selection/\"Correlation\"/\"Qualitative deleted\"/\"Continuous to median\"/Balancing_Oversamlping_SMOTE/\"MinMax normalised\"/\"Training Models -- CMD\"/SVM.ipynb\n",
    "!jupyter nbconvert --to notebook --inplace --ExecutePreprocessor.timeout=99999999 --execute feature_selection/\"Correlation\"/\"Qualitative deleted\"/\"Continuous to median\"/Balancing_Undersampling_Tomeklinks/\"MinMax normalised\"/\"Training Models -- CMD\"/SVM.ipynb\n",
    "!jupyter nbconvert --to notebook --inplace --ExecutePreprocessor.timeout=99999999 --execute feature_selection/\"Correlation\"/\"Qualitative to mode\"/\"Continuous deleted\"/Balancing_Oversamlping_SMOTE/\"MinMax normalised\"/\"Training Models -- CMD\"/SVM.ipynb\n",
    "!jupyter nbconvert --to notebook --inplace --ExecutePreprocessor.timeout=99999999 --execute feature_selection/\"Correlation\"/\"Qualitative to mode\"/\"Continuous deleted\"/Balancing_Undersampling_Tomeklinks/\"MinMax normalised\"/\"Training Models -- CMD\"/SVM.ipynb\n",
    "!jupyter nbconvert --to notebook --inplace --ExecutePreprocessor.timeout=99999999 --execute feature_selection/\"Correlation\"/\"Qualitative to mode\"/\"Continuous to median\"/Balancing_Oversamlping_SMOTE/\"MinMax normalised\"/\"Training Models -- CMD\"/SVM.ipynb\n",
    "!jupyter nbconvert --to notebook --inplace --ExecutePreprocessor.timeout=99999999 --execute feature_selection/\"Correlation\"/\"Qualitative to mode\"/\"Continuous to median\"/Balancing_Undersampling_Tomeklinks/\"MinMax normalised\"/\"Training Models -- CMD\"/SVM.ipynb"
   ]
  },
  {
   "cell_type": "markdown",
   "metadata": {
    "pycharm": {
     "name": "#%% md\n"
    }
   },
   "source": [
    "#### Logistic"
   ]
  },
  {
   "cell_type": "code",
   "execution_count": null,
   "metadata": {
    "pycharm": {
     "name": "#%%\n"
    }
   },
   "outputs": [],
   "source": [
    "### Univariante ROC_AUC\n",
    "!jupyter nbconvert --to notebook --inplace --ExecutePreprocessor.timeout=99999999 --execute feature_selection/\"Univariante ROC_AUC\"/\"Qualitative deleted\"/\"Continuous deleted\"/Balancing_Oversamlping_SMOTE/\"Logistic normalised\"/\"Training Models -- CMD\"/SVM.ipynb\n",
    "!jupyter nbconvert --to notebook --inplace --ExecutePreprocessor.timeout=99999999 --execute feature_selection/\"Univariante ROC_AUC\"/\"Qualitative deleted\"/\"Continuous deleted\"/Balancing_Undersampling_Tomeklinks/\"Logistic normalised\"/\"Training Models -- CMD\"/SVM.ipynb\n",
    "!jupyter nbconvert --to notebook --inplace --ExecutePreprocessor.timeout=99999999 --execute feature_selection/\"Univariante ROC_AUC\"/\"Qualitative deleted\"/\"Continuous to median\"/Balancing_Oversamlping_SMOTE/\"Logistic normalised\"/\"Training Models -- CMD\"/SVM.ipynb\n",
    "!jupyter nbconvert --to notebook --inplace --ExecutePreprocessor.timeout=99999999 --execute feature_selection/\"Univariante ROC_AUC\"/\"Qualitative deleted\"/\"Continuous to median\"/Balancing_Undersampling_Tomeklinks/\"Logistic normalised\"/\"Training Models -- CMD\"/SVM.ipynb\n",
    "!jupyter nbconvert --to notebook --inplace --ExecutePreprocessor.timeout=99999999 --execute feature_selection/\"Univariante ROC_AUC\"/\"Qualitative to mode\"/\"Continuous deleted\"/Balancing_Oversamlping_SMOTE/\"Logistic normalised\"/\"Training Models -- CMD\"/SVM.ipynb\n",
    "!jupyter nbconvert --to notebook --inplace --ExecutePreprocessor.timeout=99999999 --execute feature_selection/\"Univariante ROC_AUC\"/\"Qualitative to mode\"/\"Continuous deleted\"/Balancing_Undersampling_Tomeklinks/\"Logistic normalised\"/\"Training Models -- CMD\"/SVM.ipynb\n",
    "!jupyter nbconvert --to notebook --inplace --ExecutePreprocessor.timeout=99999999 --execute feature_selection/\"Univariante ROC_AUC\"/\"Qualitative to mode\"/\"Continuous to median\"/Balancing_Oversamlping_SMOTE/\"Logistic normalised\"/\"Training Models -- CMD\"/SVM.ipynb\n",
    "!jupyter nbconvert --to notebook --inplace --ExecutePreprocessor.timeout=99999999 --execute feature_selection/\"Univariante ROC_AUC\"/\"Qualitative to mode\"/\"Continuous to median\"/Balancing_Undersampling_Tomeklinks/\"Logistic normalised\"/\"Training Models -- CMD\"/SVM.ipynb"
   ]
  },
  {
   "cell_type": "code",
   "execution_count": null,
   "metadata": {
    "pycharm": {
     "name": "#%%\n"
    }
   },
   "outputs": [],
   "source": [
    "### Correlation\n",
    "!jupyter nbconvert --to notebook --inplace --ExecutePreprocessor.timeout=99999999 --execute feature_selection/\"Correlation\"/\"Qualitative deleted\"/\"Continuous deleted\"/Balancing_Oversamlping_SMOTE/\"Logistic normalised\"/\"Training Models -- CMD\"/SVM.ipynb\n",
    "!jupyter nbconvert --to notebook --inplace --ExecutePreprocessor.timeout=99999999 --execute feature_selection/\"Correlation\"/\"Qualitative deleted\"/\"Continuous deleted\"/Balancing_Undersampling_Tomeklinks/\"Logistic normalised\"/\"Training Models -- CMD\"/SVM.ipynb\n",
    "!jupyter nbconvert --to notebook --inplace --ExecutePreprocessor.timeout=99999999 --execute feature_selection/\"Correlation\"/\"Qualitative deleted\"/\"Continuous to median\"/Balancing_Oversamlping_SMOTE/\"Logistic normalised\"/\"Training Models -- CMD\"/SVM.ipynb\n",
    "!jupyter nbconvert --to notebook --inplace --ExecutePreprocessor.timeout=99999999 --execute feature_selection/\"Correlation\"/\"Qualitative deleted\"/\"Continuous to median\"/Balancing_Undersampling_Tomeklinks/\"Logistic normalised\"/\"Training Models -- CMD\"/SVM.ipynb\n",
    "!jupyter nbconvert --to notebook --inplace --ExecutePreprocessor.timeout=99999999 --execute feature_selection/\"Correlation\"/\"Qualitative to mode\"/\"Continuous deleted\"/Balancing_Oversamlping_SMOTE/\"Logistic normalised\"/\"Training Models -- CMD\"/SVM.ipynb\n",
    "!jupyter nbconvert --to notebook --inplace --ExecutePreprocessor.timeout=99999999 --execute feature_selection/\"Correlation\"/\"Qualitative to mode\"/\"Continuous deleted\"/Balancing_Undersampling_Tomeklinks/\"Logistic normalised\"/\"Training Models -- CMD\"/SVM.ipynb\n",
    "!jupyter nbconvert --to notebook --inplace --ExecutePreprocessor.timeout=99999999 --execute feature_selection/\"Correlation\"/\"Qualitative to mode\"/\"Continuous to median\"/Balancing_Oversamlping_SMOTE/\"Logistic normalised\"/\"Training Models -- CMD\"/SVM.ipynb\n",
    "!jupyter nbconvert --to notebook --inplace --ExecutePreprocessor.timeout=99999999 --execute feature_selection/\"Correlation\"/\"Qualitative to mode\"/\"Continuous to median\"/Balancing_Undersampling_Tomeklinks/\"Logistic normalised\"/\"Training Models -- CMD\"/SVM.ipynb"
   ]
  }
 ],
 "metadata": {
  "kernelspec": {
   "display_name": "Python 3",
   "language": "python",
   "name": "python3"
  },
  "language_info": {
   "codemirror_mode": {
    "name": "ipython",
    "version": 3
   },
   "file_extension": ".py",
   "mimetype": "text/x-python",
   "name": "python",
   "nbconvert_exporter": "python",
   "pygments_lexer": "ipython3",
   "version": "3.7.4"
  },
  "pycharm": {
   "stem_cell": {
    "cell_type": "raw",
    "metadata": {
     "collapsed": false
    },
    "source": []
   }
  }
 },
 "nbformat": 4,
 "nbformat_minor": 1
}
